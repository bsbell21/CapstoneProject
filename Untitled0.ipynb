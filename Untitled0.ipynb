{
 "metadata": {
  "name": ""
 },
 "nbformat": 3,
 "nbformat_minor": 0,
 "worksheets": [
  {
   "cells": [
    {
     "cell_type": "code",
     "collapsed": false,
     "input": [
      "import graphlab as gl\n",
      "\n"
     ],
     "language": "python",
     "metadata": {},
     "outputs": [],
     "prompt_number": 2
    },
    {
     "cell_type": "code",
     "collapsed": false,
     "input": [
      "feat_mtx = gl.SFrame.read_csv('jacard_init.txt')"
     ],
     "language": "python",
     "metadata": {},
     "outputs": [
      {
       "output_type": "stream",
       "stream": "stderr",
       "text": [
        "[INFO] Start server at: ipc:///tmp/graphlab_server-43438 - Server binary: /Users/Zipfian/anaconda/lib/python2.7/site-packages/graphlab/unity_server - Server log: /tmp/graphlab_server_1415339700.log\n"
       ]
      },
      {
       "output_type": "stream",
       "stream": "stderr",
       "text": [
        "[INFO] GraphLab Server Version: 1.0.1\n"
       ]
      },
      {
       "html": [
        "<pre>PROGRESS: Finished parsing file /Users/Zipfian/Desktop/Ben_Bell/CapstoneProject/jacard_init.txt</pre>"
       ],
       "metadata": {},
       "output_type": "display_data",
       "text": [
        "PROGRESS: Finished parsing file /Users/Zipfian/Desktop/Ben_Bell/CapstoneProject/jacard_init.txt"
       ]
      },
      {
       "html": [
        "<pre>PROGRESS: Parsing completed. Parsed 0 lines in 0.687661 secs.</pre>"
       ],
       "metadata": {},
       "output_type": "display_data",
       "text": [
        "PROGRESS: Parsing completed. Parsed 0 lines in 0.687661 secs."
       ]
      },
      {
       "output_type": "stream",
       "stream": "stdout",
       "text": [
        "Insufficient number of rows to perform type inference"
       ]
      },
      {
       "html": [
        "<pre>PROGRESS: Finished parsing file /Users/Zipfian/Desktop/Ben_Bell/CapstoneProject/jacard_init.txt</pre>"
       ],
       "metadata": {},
       "output_type": "display_data",
       "text": [
        "PROGRESS: Finished parsing file /Users/Zipfian/Desktop/Ben_Bell/CapstoneProject/jacard_init.txt"
       ]
      },
      {
       "html": [
        "<pre>PROGRESS: Parsing completed. Parsed 0 lines in 2.6991 secs.</pre>"
       ],
       "metadata": {},
       "output_type": "display_data",
       "text": [
        "PROGRESS: Parsing completed. Parsed 0 lines in 2.6991 secs."
       ]
      },
      {
       "output_type": "stream",
       "stream": "stdout",
       "text": [
        "\n",
        "Could not detect types. Using str for each column.\n"
       ]
      }
     ],
     "prompt_number": 2
    },
    {
     "cell_type": "code",
     "collapsed": false,
     "input": [
      "import json"
     ],
     "language": "python",
     "metadata": {},
     "outputs": [],
     "prompt_number": 1
    },
    {
     "cell_type": "code",
     "collapsed": false,
     "input": [
      "dic = json.loads(open('jacard_init.txt'))"
     ],
     "language": "python",
     "metadata": {},
     "outputs": [
      {
       "ename": "TypeError",
       "evalue": "expected string or buffer",
       "output_type": "pyerr",
       "traceback": [
        "\u001b[0;31m---------------------------------------------------------------------------\u001b[0m\n\u001b[0;31mTypeError\u001b[0m                                 Traceback (most recent call last)",
        "\u001b[0;32m<ipython-input-5-fecddab2edb8>\u001b[0m in \u001b[0;36m<module>\u001b[0;34m()\u001b[0m\n\u001b[0;32m----> 1\u001b[0;31m \u001b[0mdic\u001b[0m \u001b[0;34m=\u001b[0m \u001b[0mjson\u001b[0m\u001b[0;34m.\u001b[0m\u001b[0mloads\u001b[0m\u001b[0;34m(\u001b[0m\u001b[0mopen\u001b[0m\u001b[0;34m(\u001b[0m\u001b[0;34m'jacard_init.txt'\u001b[0m\u001b[0;34m)\u001b[0m\u001b[0;34m)\u001b[0m\u001b[0;34m\u001b[0m\u001b[0m\n\u001b[0m",
        "\u001b[0;32m/Users/Zipfian/anaconda/python.app/Contents/lib/python2.7/json/__init__.pyc\u001b[0m in \u001b[0;36mloads\u001b[0;34m(s, encoding, cls, object_hook, parse_float, parse_int, parse_constant, object_pairs_hook, **kw)\u001b[0m\n\u001b[1;32m    336\u001b[0m             \u001b[0mparse_int\u001b[0m \u001b[0;32mis\u001b[0m \u001b[0mNone\u001b[0m \u001b[0;32mand\u001b[0m \u001b[0mparse_float\u001b[0m \u001b[0;32mis\u001b[0m \u001b[0mNone\u001b[0m \u001b[0;32mand\u001b[0m\u001b[0;34m\u001b[0m\u001b[0m\n\u001b[1;32m    337\u001b[0m             parse_constant is None and object_pairs_hook is None and not kw):\n\u001b[0;32m--> 338\u001b[0;31m         \u001b[0;32mreturn\u001b[0m \u001b[0m_default_decoder\u001b[0m\u001b[0;34m.\u001b[0m\u001b[0mdecode\u001b[0m\u001b[0;34m(\u001b[0m\u001b[0ms\u001b[0m\u001b[0;34m)\u001b[0m\u001b[0;34m\u001b[0m\u001b[0m\n\u001b[0m\u001b[1;32m    339\u001b[0m     \u001b[0;32mif\u001b[0m \u001b[0mcls\u001b[0m \u001b[0;32mis\u001b[0m \u001b[0mNone\u001b[0m\u001b[0;34m:\u001b[0m\u001b[0;34m\u001b[0m\u001b[0m\n\u001b[1;32m    340\u001b[0m         \u001b[0mcls\u001b[0m \u001b[0;34m=\u001b[0m \u001b[0mJSONDecoder\u001b[0m\u001b[0;34m\u001b[0m\u001b[0m\n",
        "\u001b[0;32m/Users/Zipfian/anaconda/python.app/Contents/lib/python2.7/json/decoder.pyc\u001b[0m in \u001b[0;36mdecode\u001b[0;34m(self, s, _w)\u001b[0m\n\u001b[1;32m    364\u001b[0m \u001b[0;34m\u001b[0m\u001b[0m\n\u001b[1;32m    365\u001b[0m         \"\"\"\n\u001b[0;32m--> 366\u001b[0;31m         \u001b[0mobj\u001b[0m\u001b[0;34m,\u001b[0m \u001b[0mend\u001b[0m \u001b[0;34m=\u001b[0m \u001b[0mself\u001b[0m\u001b[0;34m.\u001b[0m\u001b[0mraw_decode\u001b[0m\u001b[0;34m(\u001b[0m\u001b[0ms\u001b[0m\u001b[0;34m,\u001b[0m \u001b[0midx\u001b[0m\u001b[0;34m=\u001b[0m\u001b[0m_w\u001b[0m\u001b[0;34m(\u001b[0m\u001b[0ms\u001b[0m\u001b[0;34m,\u001b[0m \u001b[0;36m0\u001b[0m\u001b[0;34m)\u001b[0m\u001b[0;34m.\u001b[0m\u001b[0mend\u001b[0m\u001b[0;34m(\u001b[0m\u001b[0;34m)\u001b[0m\u001b[0;34m)\u001b[0m\u001b[0;34m\u001b[0m\u001b[0m\n\u001b[0m\u001b[1;32m    367\u001b[0m         \u001b[0mend\u001b[0m \u001b[0;34m=\u001b[0m \u001b[0m_w\u001b[0m\u001b[0;34m(\u001b[0m\u001b[0ms\u001b[0m\u001b[0;34m,\u001b[0m \u001b[0mend\u001b[0m\u001b[0;34m)\u001b[0m\u001b[0;34m.\u001b[0m\u001b[0mend\u001b[0m\u001b[0;34m(\u001b[0m\u001b[0;34m)\u001b[0m\u001b[0;34m\u001b[0m\u001b[0m\n\u001b[1;32m    368\u001b[0m         \u001b[0;32mif\u001b[0m \u001b[0mend\u001b[0m \u001b[0;34m!=\u001b[0m \u001b[0mlen\u001b[0m\u001b[0;34m(\u001b[0m\u001b[0ms\u001b[0m\u001b[0;34m)\u001b[0m\u001b[0;34m:\u001b[0m\u001b[0;34m\u001b[0m\u001b[0m\n",
        "\u001b[0;31mTypeError\u001b[0m: expected string or buffer"
       ]
      }
     ],
     "prompt_number": 5
    },
    {
     "cell_type": "code",
     "collapsed": false,
     "input": [
      "f = open('jacard_init.txt', 'r')"
     ],
     "language": "python",
     "metadata": {},
     "outputs": [],
     "prompt_number": 11
    },
    {
     "cell_type": "code",
     "collapsed": false,
     "input": [
      "with open('jacard_init.json', 'r') as data_file:    \n",
      "    data = json.load(eval(data_file))"
     ],
     "language": "python",
     "metadata": {},
     "outputs": [
      {
       "ename": "TypeError",
       "evalue": "eval() arg 1 must be a string or code object",
       "output_type": "pyerr",
       "traceback": [
        "\u001b[0;31m---------------------------------------------------------------------------\u001b[0m\n\u001b[0;31mTypeError\u001b[0m                                 Traceback (most recent call last)",
        "\u001b[0;32m<ipython-input-10-ea8fe54af8f9>\u001b[0m in \u001b[0;36m<module>\u001b[0;34m()\u001b[0m\n\u001b[1;32m      1\u001b[0m \u001b[0;32mwith\u001b[0m \u001b[0mopen\u001b[0m\u001b[0;34m(\u001b[0m\u001b[0;34m'jacard_init.json'\u001b[0m\u001b[0;34m,\u001b[0m \u001b[0;34m'r'\u001b[0m\u001b[0;34m)\u001b[0m \u001b[0;32mas\u001b[0m \u001b[0mdata_file\u001b[0m\u001b[0;34m:\u001b[0m\u001b[0;34m\u001b[0m\u001b[0m\n\u001b[0;32m----> 2\u001b[0;31m     \u001b[0mdata\u001b[0m \u001b[0;34m=\u001b[0m \u001b[0mjson\u001b[0m\u001b[0;34m.\u001b[0m\u001b[0mload\u001b[0m\u001b[0;34m(\u001b[0m\u001b[0meval\u001b[0m\u001b[0;34m(\u001b[0m\u001b[0mdata_file\u001b[0m\u001b[0;34m)\u001b[0m\u001b[0;34m)\u001b[0m\u001b[0;34m\u001b[0m\u001b[0m\n\u001b[0m",
        "\u001b[0;31mTypeError\u001b[0m: eval() arg 1 must be a string or code object"
       ]
      }
     ],
     "prompt_number": 10
    },
    {
     "cell_type": "code",
     "collapsed": false,
     "input": [
      "dic = eval(f.read())"
     ],
     "language": "python",
     "metadata": {},
     "outputs": [],
     "prompt_number": 13
    },
    {
     "cell_type": "code",
     "collapsed": false,
     "input": [
      "feat_mtx = gl.SFrame(dic, format = 'dict')"
     ],
     "language": "python",
     "metadata": {},
     "outputs": [
      {
       "ename": "TypeError",
       "evalue": "Unexpected data source. Possible data source types are: list, numpy.ndarray, pandas.Series, and string(url)",
       "output_type": "pyerr",
       "traceback": [
        "\u001b[0;31m---------------------------------------------------------------------------\u001b[0m\n\u001b[0;31mTypeError\u001b[0m                                 Traceback (most recent call last)",
        "\u001b[0;32m<ipython-input-21-6ad3f00abb91>\u001b[0m in \u001b[0;36m<module>\u001b[0;34m()\u001b[0m\n\u001b[0;32m----> 1\u001b[0;31m \u001b[0mfeat_mtx\u001b[0m \u001b[0;34m=\u001b[0m \u001b[0mgl\u001b[0m\u001b[0;34m.\u001b[0m\u001b[0mSFrame\u001b[0m\u001b[0;34m(\u001b[0m\u001b[0mdic\u001b[0m\u001b[0;34m,\u001b[0m \u001b[0mformat\u001b[0m \u001b[0;34m=\u001b[0m \u001b[0;34m'dict'\u001b[0m\u001b[0;34m)\u001b[0m\u001b[0;34m\u001b[0m\u001b[0m\n\u001b[0m",
        "\u001b[0;32m/Users/Zipfian/anaconda/lib/python2.7/site-packages/graphlab/data_structures/sframe.pyc\u001b[0m in \u001b[0;36m__init__\u001b[0;34m(self, data, format, _proxy)\u001b[0m\n\u001b[1;32m    424\u001b[0m                     \u001b[0;32mpass\u001b[0m\u001b[0;34m\u001b[0m\u001b[0m\n\u001b[1;32m    425\u001b[0m                 \u001b[0;32melse\u001b[0m\u001b[0;34m:\u001b[0m\u001b[0;34m\u001b[0m\u001b[0m\n\u001b[0;32m--> 426\u001b[0;31m                     \u001b[0;32mraise\u001b[0m \u001b[0mValueError\u001b[0m\u001b[0;34m(\u001b[0m\u001b[0;34m'Unknown input type: '\u001b[0m \u001b[0;34m+\u001b[0m \u001b[0mformat\u001b[0m\u001b[0;34m)\u001b[0m\u001b[0;34m\u001b[0m\u001b[0m\n\u001b[0m\u001b[1;32m    427\u001b[0m \u001b[0;34m\u001b[0m\u001b[0m\n\u001b[1;32m    428\u001b[0m         \u001b[0msframe_size\u001b[0m \u001b[0;34m=\u001b[0m \u001b[0;34m-\u001b[0m\u001b[0;36m1\u001b[0m\u001b[0;34m\u001b[0m\u001b[0m\n",
        "\u001b[0;32m/Users/Zipfian/anaconda/lib/python2.7/site-packages/graphlab/cython/context.pyc\u001b[0m in \u001b[0;36m__exit__\u001b[0;34m(self, exc_type, exc_value, traceback)\u001b[0m\n\u001b[1;32m     21\u001b[0m     \u001b[0;32mdef\u001b[0m \u001b[0m__exit__\u001b[0m\u001b[0;34m(\u001b[0m\u001b[0mself\u001b[0m\u001b[0;34m,\u001b[0m \u001b[0mexc_type\u001b[0m\u001b[0;34m,\u001b[0m \u001b[0mexc_value\u001b[0m\u001b[0;34m,\u001b[0m \u001b[0mtraceback\u001b[0m\u001b[0;34m)\u001b[0m\u001b[0;34m:\u001b[0m\u001b[0;34m\u001b[0m\u001b[0m\n\u001b[1;32m     22\u001b[0m         \u001b[0;32mif\u001b[0m \u001b[0;32mnot\u001b[0m \u001b[0mself\u001b[0m\u001b[0;34m.\u001b[0m\u001b[0mshow_cython_trace\u001b[0m \u001b[0;32mand\u001b[0m \u001b[0mexc_type\u001b[0m\u001b[0;34m:\u001b[0m\u001b[0;34m\u001b[0m\u001b[0m\n\u001b[0;32m---> 23\u001b[0;31m             \u001b[0;32mraise\u001b[0m \u001b[0mexc_type\u001b[0m\u001b[0;34m(\u001b[0m\u001b[0mexc_value\u001b[0m\u001b[0;34m)\u001b[0m\u001b[0;34m\u001b[0m\u001b[0m\n\u001b[0m",
        "\u001b[0;31mTypeError\u001b[0m: Unexpected data source. Possible data source types are: list, numpy.ndarray, pandas.Series, and string(url)"
       ]
      }
     ],
     "prompt_number": 21
    },
    {
     "cell_type": "code",
     "collapsed": false,
     "input": [
      "lst = []\n",
      "for k, v in dic.iteritems():\n",
      "    d = v\n",
      "    d['artist'] = k\n",
      "    lst.append(d)"
     ],
     "language": "python",
     "metadata": {},
     "outputs": [],
     "prompt_number": 22
    },
    {
     "cell_type": "code",
     "collapsed": false,
     "input": [
      "gl.SFrame(lst)"
     ],
     "language": "python",
     "metadata": {},
     "outputs": [
      {
       "html": [
        "<div style=\"max-height:1000px;max-width:1500px;overflow:auto;\"><table frame=\"box\" rules=\"cols\">\n",
        "    <tr>\n",
        "        <th style=\"padding-left: 1em; padding-right: 1em; text-align: center\">X1</th>\n",
        "    </tr>\n",
        "    <tr>\n",
        "        <td style=\"padding-left: 1em; padding-right: 1em; text-align: center; vertical-align: top\">{\\'\\': 1, \\'John<br>Frusciante\\': ...</td>\n",
        "    </tr>\n",
        "    <tr>\n",
        "        <td style=\"padding-left: 1em; padding-right: 1em; text-align: center; vertical-align: top\">{'Everette Harp': 1, 'The<br>Fratellis': ...</td>\n",
        "    </tr>\n",
        "    <tr>\n",
        "        <td style=\"padding-left: 1em; padding-right: 1em; text-align: center; vertical-align: top\">{\\'Blue October\\':<br>0.008771929824561403, ...</td>\n",
        "    </tr>\n",
        "    <tr>\n",
        "        <td style=\"padding-left: 1em; padding-right: 1em; text-align: center; vertical-align: top\">{\\'Small Faces\\':<br>0.02631578947368421, ...</td>\n",
        "    </tr>\n",
        "    <tr>\n",
        "        <td style=\"padding-left: 1em; padding-right: 1em; text-align: center; vertical-align: top\">{\"Guns N\\' Roses\":<br>0.0022099447513812156 ...</td>\n",
        "    </tr>\n",
        "    <tr>\n",
        "        <td style=\"padding-left: 1em; padding-right: 1em; text-align: center; vertical-align: top\">{\\'The Corrs\\':<br>0.0041841004184100415 ...</td>\n",
        "    </tr>\n",
        "    <tr>\n",
        "        <td style=\"padding-left: 1em; padding-right: 1em; text-align: center; vertical-align: top\">{\\'Roger Hodgson\\':<br>0.09090909090909091, ...</td>\n",
        "    </tr>\n",
        "    <tr>\n",
        "        <td style=\"padding-left: 1em; padding-right: 1em; text-align: center; vertical-align: top\">{'Grinderman':<br>0.015384615384615385, ...</td>\n",
        "    </tr>\n",
        "    <tr>\n",
        "        <td style=\"padding-left: 1em; padding-right: 1em; text-align: center; vertical-align: top\">{'Above the Golden<br>State': ...</td>\n",
        "    </tr>\n",
        "    <tr>\n",
        "        <td style=\"padding-left: 1em; padding-right: 1em; text-align: center; vertical-align: top\">{'World Party': 0.125,<br>'Eric Idle': 1.0, 'Th ...</td>\n",
        "    </tr>\n",
        "    <tr>\n",
        "        <td style=\"padding-left: 1em; padding-right: 1em; text-align: center; vertical-align: top\">...</td>\n",
        "    </tr>\n",
        "</table>\n",
        "[11249 rows x 1 columns]<br/>Note: Only the head of the SFrame is printed.<br/>You can use print_rows(num_rows=m, num_columns=n) to print more rows and columns.\n",
        "</div>"
       ],
       "metadata": {},
       "output_type": "pyout",
       "prompt_number": 25,
       "text": [
        "Columns:\n",
        "\tX1\tdict\n",
        "\n",
        "Rows: 11249\n",
        "\n",
        "Data:\n",
        "+--------------------------------+\n",
        "|               X1               |\n",
        "+--------------------------------+\n",
        "| {\\'\\': 1, \\'John Frusciant ... |\n",
        "| {'Everette Harp': 1, 'The  ... |\n",
        "| {\\'Blue October\\': 0.00877 ... |\n",
        "| {\\'Small Faces\\': 0.026315 ... |\n",
        "| {\"Guns N\\' Roses\": 0.00220 ... |\n",
        "| {\\'The Corrs\\': 0.00418410 ... |\n",
        "| {\\'Roger Hodgson\\': 0.0909 ... |\n",
        "| {'Grinderman': 0.015384615 ... |\n",
        "| {'Above the Golden State': ... |\n",
        "| {'World Party': 0.125, 'Er ... |\n",
        "|              ...               |\n",
        "+--------------------------------+\n",
        "[11249 rows x 1 columns]\n",
        "Note: Only the head of the SFrame is printed.\n",
        "You can use print_rows(num_rows=m, num_columns=n) to print more rows and columns."
       ]
      }
     ],
     "prompt_number": 25
    },
    {
     "cell_type": "code",
     "collapsed": false,
     "input": [
      "len(dic)"
     ],
     "language": "python",
     "metadata": {},
     "outputs": [
      {
       "metadata": {},
       "output_type": "pyout",
       "prompt_number": 26,
       "text": [
        "11249"
       ]
      }
     ],
     "prompt_number": 26
    },
    {
     "cell_type": "code",
     "collapsed": false,
     "input": [
      "dic['Fountains of Wayne']"
     ],
     "language": "python",
     "metadata": {},
     "outputs": [
      {
       "metadata": {},
       "output_type": "pyout",
       "prompt_number": 28,
       "text": [
        "{'3 Doors Down': 0.003188097768331562,\n",
        " 'A Fine Frenzy': 0.008771929824561403,\n",
        " 'A Perfect Circle': 0.006060606060606061,\n",
        " 'A Sunny Day in Glasgow': 0.014084507042253521,\n",
        " 'A-Team': 0.019230769230769232,\n",
        " 'AC/DC': 0.002471169686985173,\n",
        " 'ATB': 0.004464285714285714,\n",
        " 'Adam Lambert': 0.01904761904761905,\n",
        " 'Alanis Morissette': 0.0033783783783783786,\n",
        " 'Alexandra Burke': 0.018518518518518517,\n",
        " 'Alison Krauss': 0.0028735632183908046,\n",
        " 'Alkaline Trio': 0.007194244604316547,\n",
        " 'Amon Amarth': 0.00847457627118644,\n",
        " 'Amos Lee': 0.002105263157894737,\n",
        " 'Amparanoia': 0.01098901098901099,\n",
        " 'Anberlin': 0.004807692307692308,\n",
        " 'Andrew Gold': 0.015625,\n",
        " 'Angels & Airwaves': 0.0026246719160104987,\n",
        " 'Ani DiFranco': 0.017543859649122806,\n",
        " 'Animal Collective': 0.011363636363636364,\n",
        " 'Annie': 0.01694915254237288,\n",
        " 'Annie Lennox': 0.0136986301369863,\n",
        " 'Arctic Monkeys': 0.0032679738562091504,\n",
        " 'Aretha Franklin': 0.007194244604316547,\n",
        " 'Assemblage 23': 0.01639344262295082,\n",
        " 'Athlete': 0.015384615384615385,\n",
        " 'Audioslave': 0.0023148148148148147,\n",
        " 'Augustana': 0.010309278350515464,\n",
        " 'Avalon': 0.014084507042253521,\n",
        " 'Avril Lavigne': 0.010309278350515464,\n",
        " 'Bad Religion': 0.0037313432835820895,\n",
        " 'Bag Raiders': 0.016129032258064516,\n",
        " 'Bananarama': 0.006896551724137931,\n",
        " 'Beastie Boys': 0.0027624309392265192,\n",
        " 'Beck': 0.003787878787878788,\n",
        " 'Belanova': 0.00558659217877095,\n",
        " 'Beyonc': 0.003188097768331562,\n",
        " 'Big Mountain': 0.013333333333333334,\n",
        " 'Billy Bragg': 0.014492753623188406,\n",
        " 'Billy Currington': 0.005988023952095809,\n",
        " 'Billy Talent': 0.008403361344537815,\n",
        " 'Bjrk': 0.0019880715705765406,\n",
        " 'Blind Guardian': 0.009433962264150943,\n",
        " 'Blind Melon': 0.003215434083601286,\n",
        " 'Blitzen Trapper': 0.004694835680751174,\n",
        " 'Bloc Party': 0.0044742729306487695,\n",
        " 'Blue October': 0.006896551724137931,\n",
        " 'Bob Marley': 0.004149377593360996,\n",
        " 'Bow Wow': 0.010869565217391304,\n",
        " 'Boys Like Girls': 0.008928571428571428,\n",
        " 'Boys Noize': 0.002403846153846154,\n",
        " 'Bread': 0.008064516129032258,\n",
        " 'Brendan Benson': 0.01639344262295082,\n",
        " 'Brian Eno': 0.007042253521126761,\n",
        " 'Bright Eyes': 0.00589622641509434,\n",
        " 'Britney Spears': 0.00390625,\n",
        " 'Broken Social Scene': 0.0027397260273972603,\n",
        " 'Burial': 0.00641025641025641,\n",
        " 'Burning Airlines': 0.02,\n",
        " 'Busted': 0.014705882352941176,\n",
        " 'Cage the Elephant': 0.0029585798816568047,\n",
        " 'Caifanes': 0.005319148936170213,\n",
        " 'Calexico': 0.0078125,\n",
        " 'Captain Sensible': 0.018867924528301886,\n",
        " 'Carl Douglas': 0.014492753623188406,\n",
        " 'Carlene Carter': 0.018867924528301886,\n",
        " 'Carolina Liar': 0.009615384615384616,\n",
        " 'Cartola': 0.005714285714285714,\n",
        " 'Catch 22': 0.0125,\n",
        " 'Charlie Rich': 0.019230769230769232,\n",
        " 'Chicane': 0.009259259259259259,\n",
        " 'Chris Brown': 0.010948905109489052,\n",
        " 'Chumbawamba': 0.021739130434782608,\n",
        " 'Cirque du Soleil': 0.010752688172043012,\n",
        " 'Cloud Cult': 0.019801980198019802,\n",
        " 'Coldplay': 0.00101010101010101,\n",
        " 'Consequence': 0.018518518518518517,\n",
        " 'Cream': 0.005714285714285714,\n",
        " 'Cyberfit': 0.019230769230769232,\n",
        " 'DMX': 0.006172839506172839,\n",
        " 'Daft Punk': 0.0023584905660377358,\n",
        " 'Daniel Bedingfield': 0.007042253521126761,\n",
        " 'Danity Kane': 0.011494252873563218,\n",
        " 'Darius & Finlay': 0.0196078431372549,\n",
        " 'Dashboard Confessional': 0.006896551724137931,\n",
        " 'David Bowie': 0.015544041450777202,\n",
        " 'David Usher': 0.015384615384615385,\n",
        " 'De La Soul': 0.00684931506849315,\n",
        " 'Dead Kennedys': 0.0029940119760479044,\n",
        " 'Deathstars': 0.014925373134328358,\n",
        " 'Descendents': 0.0049261083743842365,\n",
        " 'Devendra Banhart': 0.002053388090349076,\n",
        " 'Devo': 0.00392156862745098,\n",
        " 'Dexter Freebish': 0.019230769230769232,\n",
        " 'Dido': 0.0055248618784530384,\n",
        " 'Dilated Peoples': 0.010101010101010102,\n",
        " 'Dolly Parton': 0.007518796992481203,\n",
        " 'Doves': 0.009950248756218905,\n",
        " 'Down': 0.01694915254237288,\n",
        " 'Dr. Dre': 0.002325581395348837,\n",
        " 'Drive Like Jehu': 0.01639344262295082,\n",
        " 'Dropkick Murphys': 0.005012531328320802,\n",
        " 'Drowning Pool': 0.004484304932735426,\n",
        " 'Eddy Grant': 0.006666666666666667,\n",
        " 'Edguy': 0.01,\n",
        " 'El Canto del Loco': 0.011764705882352941,\n",
        " 'Elliott Smith': 0.004555808656036446,\n",
        " 'Emerson Drive': 0.01639344262295082,\n",
        " 'Eminem': 0.0033240997229916896,\n",
        " 'Enigma': 0.004694835680751174,\n",
        " 'Eric Church': 0.005681818181818182,\n",
        " 'Eric Clapton': 0.003484320557491289,\n",
        " 'Eric Prydz': 0.013157894736842105,\n",
        " 'Erin McKeown': 0.0011876484560570072,\n",
        " 'Evanescence': 0.0055248618784530384,\n",
        " 'Fall Out Boy': 0.004901960784313725,\n",
        " 'Feeder': 0.011627906976744186,\n",
        " 'Fergie': 0.0047169811320754715,\n",
        " 'Finger Eleven': 0.009345794392523364,\n",
        " 'Five Iron Frenzy': 0.010101010101010102,\n",
        " 'Fleet Foxes': 0.0019193857965451055,\n",
        " 'Fleetwood Mac': 0.0027548209366391185,\n",
        " 'Flight of the Conchords': 0.005128205128205128,\n",
        " 'Flobots': 0.003937007874015748,\n",
        " 'Florence + The Machine': 0.002254791431792559,\n",
        " 'Flyleaf': 0.004201680672268907,\n",
        " 'Foals': 0.0022675736961451248,\n",
        " 'Foo Fighters': 0.0011668611435239206,\n",
        " 'Format': 0.008928571428571428,\n",
        " 'Fort Minor': 0.007692307692307693,\n",
        " 'Fountains of Wayne': 1,\n",
        " 'Free Kitten': 0.02,\n",
        " 'Gang of Four': 0.010526315789473684,\n",
        " 'Garbage': 0.005763688760806916,\n",
        " 'Gary Allan': 0.0053475935828877,\n",
        " 'Gary Glitter': 0.02,\n",
        " 'Gavin DeGraw': 0.012048192771084338,\n",
        " 'Genesis': 0.005917159763313609,\n",
        " 'George Thorogood & The Destroyers': 0.014084507042253521,\n",
        " 'Gerry Rafferty': 0.0125,\n",
        " 'Girls in Hawaii': 0.018867924528301886,\n",
        " 'God Module': 0.02,\n",
        " 'Goldfinger': 0.015151515151515152,\n",
        " 'Gorillaz': 0.002457002457002457,\n",
        " 'Graham Coxon': 0.018518518518518517,\n",
        " 'Grand Funk Railroad': 0.013157894736842105,\n",
        " \"Guns N' Roses\": 0.0010787486515641855,\n",
        " 'Guts': 0.01818181818181818,\n",
        " 'Gym Class Heroes': 0.0025252525252525255,\n",
        " 'Hard-Fi': 0.020833333333333332,\n",
        " 'Hey Ocean!': 0.02,\n",
        " 'Hollywood Undead': 0.003278688524590164,\n",
        " 'Hot Chip': 0.0027662517289073307,\n",
        " 'Hot Hot Heat': 0.00390625,\n",
        " 'Hroes del Silencio': 0.006172839506172839,\n",
        " 'Huey Lewis & The News': 0.003048780487804878,\n",
        " 'Ice Cube': 0.005988023952095809,\n",
        " 'Idlewild': 0.017543859649122806,\n",
        " 'In Flames': 0.006389776357827476,\n",
        " 'Institute': 0.015384615384615385,\n",
        " 'Interpol': 0.0025252525252525255,\n",
        " 'Iration': 0.01282051282051282,\n",
        " 'Iron & Wine': 0.004975124378109453,\n",
        " 'Jack Johnson': 0.001863932898415657,\n",
        " 'James Morrison': 0.012987012987012988,\n",
        " 'Jamie Cullum': 0.006993006993006993,\n",
        " 'Jason Falkner': 0.011904761904761904,\n",
        " 'Jason Mraz': 0.0034129692832764505,\n",
        " 'Jay Tripwire': 0.018867924528301886,\n",
        " 'Jesus Jones': 0.019230769230769232,\n",
        " 'Jimi Hendrix': 0.004149377593360996,\n",
        " 'Jimmy Eat World': 0.003401360544217687,\n",
        " 'Joaquin Phoenix': 0.014084507042253521,\n",
        " 'Joe Nichols': 0.01,\n",
        " 'Joe Purdy': 0.017857142857142856,\n",
        " 'Johan Gielen': 0.004081632653061225,\n",
        " 'John Mayer': 0.0017667844522968198,\n",
        " 'John Mellencamp': 0.010416666666666666,\n",
        " 'Jonas Brothers': 0.0010604453870625664,\n",
        " 'Joo Gilberto': 0.0037593984962406013,\n",
        " 'Jos Gonzlez': 0.003215434083601286,\n",
        " 'Josh Rouse': 0.012658227848101266,\n",
        " 'Justin Nozuka': 0.015384615384615385,\n",
        " \"K'naan\": 0.009174311926605505,\n",
        " 'Kalisto': 0.02,\n",
        " 'Kanye West': 0.001606425702811245,\n",
        " 'Karen O and the Kids': 0.017857142857142856,\n",
        " 'Kaskade': 0.016129032258064516,\n",
        " 'Katie Melua': 0.010638297872340425,\n",
        " 'Katy Perry': 0.001953125,\n",
        " 'Kelis': 0.005291005291005291,\n",
        " 'Kim Sozzi': 0.017543859649122806,\n",
        " 'Kimya Dawson': 0.009174311926605505,\n",
        " 'Kings of Convenience': 0.006097560975609756,\n",
        " 'Kings of Leon': 0.002145922746781116,\n",
        " 'Kurt Vile': 0.014285714285714285,\n",
        " 'La Roux': 0.006060606060606061,\n",
        " 'Laura Marling': 0.0049261083743842365,\n",
        " 'Lazlo Bane': 0.029411764705882353,\n",
        " 'Led Zeppelin': 0.007462686567164179,\n",
        " 'Len Barry': 0.019230769230769232,\n",
        " 'Less Than Jake': 0.010869565217391304,\n",
        " 'Lifehouse': 0.008620689655172414,\n",
        " 'Lil Jon': 0.0047169811320754715,\n",
        " 'Lil Wayne': 0.00468384074941452,\n",
        " 'Linkin Park': 0.0042643923240938165,\n",
        " 'Lionel Richie': 0.00625,\n",
        " 'Lisa Gerrard': 0.008928571428571428,\n",
        " 'Live': 0.005434782608695652,\n",
        " 'Livvi Franc': 0.02,\n",
        " 'Liz Phair': 0.01,\n",
        " 'Los Piratas': 0.017857142857142856,\n",
        " 'Lostprophets': 0.023952095808383235,\n",
        " 'Ludovico Einaudi': 0.009345794392523364,\n",
        " 'M83': 0.0026954177897574125,\n",
        " 'MC Hammer': 0.009708737864077669,\n",
        " 'MGMT': 0.0056179775280898875,\n",
        " 'MIA.': 0.015151515151515152,\n",
        " 'Mad Caddies': 0.011111111111111112,\n",
        " 'Madcon': 0.007142857142857143,\n",
        " 'Man': 0.006369426751592357,\n",
        " 'Mansun': 0.015625,\n",
        " 'Mark Ronson': 0.010526315789473684,\n",
        " 'Maroon 5': 0.004219409282700422,\n",
        " 'Marshall Crenshaw': 0.01818181818181818,\n",
        " 'Mateo Messina': 0.015873015873015872,\n",
        " 'Matt Dusk': 0.01818181818181818,\n",
        " 'Matt Nathanson': 0.01775147928994083,\n",
        " 'Max Tundra': 0.015625,\n",
        " 'Me First and the Gimme Gimmes': 0.008333333333333333,\n",
        " 'Men Without Hats': 0.011764705882352941,\n",
        " 'Metallica': 0.0015961691939345571,\n",
        " 'Metric': 0.0019047619047619048,\n",
        " 'Miley Cyrus': 0.0014992503748125937,\n",
        " 'Mims': 0.011627906976744186,\n",
        " 'Missy Higgins': 0.00909090909090909,\n",
        " 'Modest Mouse': 0.0014684287812041115,\n",
        " 'Mogwai': 0.004545454545454545,\n",
        " 'Moonshake': 0.0196078431372549,\n",
        " 'Muse': 0.005040322580645161,\n",
        " 'My Chemical Romance': 0.0023094688221709007,\n",
        " 'NEEDTOBREATHE': 0.00980392156862745,\n",
        " 'NOFX': 0.007263922518159807,\n",
        " 'Nada Surf': 0.007936507936507936,\n",
        " 'New Young Pony Club': 0.014705882352941176,\n",
        " 'Nick Gilder': 0.01818181818181818,\n",
        " 'Nightwish': 0.004347826086956522,\n",
        " 'Nine Black Alps': 0.015873015873015872,\n",
        " 'Nirvana': 0.0017809439002671415,\n",
        " 'No Doubt': 0.006711409395973154,\n",
        " 'Noir Dsir': 0.010869565217391304,\n",
        " 'OK Go': 0.008097165991902834,\n",
        " 'Oleta Adams': 0.016666666666666666,\n",
        " 'Owl City': 0.0035211267605633804,\n",
        " 'Pantha Du Prince': 0.006578947368421052,\n",
        " 'Paradise Lost': 0.017241379310344827,\n",
        " 'Paul Stanley': 0.017241379310344827,\n",
        " 'Paul Westerberg': 0.017241379310344827,\n",
        " 'Paul Whiteman & His Orchestra': 0.018518518518518517,\n",
        " 'Pavement': 0.012195121951219513,\n",
        " 'Pennywise': 0.012987012987012988,\n",
        " 'Pepper': 0.005988023952095809,\n",
        " 'Phish': 0.007936507936507936,\n",
        " 'Phoenix': 0.007407407407407408,\n",
        " 'Pixies': 0.004098360655737705,\n",
        " 'Plastilina Mosh': 0.00909090909090909,\n",
        " 'PlayRadioPlay!': 0.009615384615384616,\n",
        " 'Priscilla Ahn': 0.009174311926605505,\n",
        " 'Puddle of Mudd': 0.01,\n",
        " 'Queen': 0.006042296072507553,\n",
        " 'Queensrche': 0.014285714285714285,\n",
        " 'Radiohead': 0.0020597322348094747,\n",
        " 'Red Hot Chili Peppers': 0.0019011406844106464,\n",
        " 'Reel Big Fish': 0.016216216216216217,\n",
        " 'Regina Spektor': 0.0012836970474967907,\n",
        " 'Relient K': 0.006711409395973154,\n",
        " 'Rick Astley': 0.014925373134328358,\n",
        " 'Rilo Kiley': 0.001876172607879925,\n",
        " 'Robin Thicke': 0.008547008547008548,\n",
        " 'Rocco DeLuca & The Burden': 0.02,\n",
        " 'Rufus Wainwright': 0.00641025641025641,\n",
        " 'Ruins': 0.012048192771084338,\n",
        " 'Ryksopp': 0.002770083102493075,\n",
        " 'S Club 7': 0.007462686567164179,\n",
        " 'Savage Garden': 0.010752688172043012,\n",
        " 'Seal': 0.008403361344537815,\n",
        " 'Secret Machines': 0.012658227848101266,\n",
        " 'Selena': 0.009174311926605505,\n",
        " 'Shinedown': 0.002898550724637681,\n",
        " 'Silversun Pickups': 0.0111731843575419,\n",
        " 'Slagsmlsklubben': 0.014084507042253521,\n",
        " 'Slick Rick': 0.008620689655172414,\n",
        " 'Smash Mouth': 0.012195121951219513,\n",
        " 'Snap!': 0.02531645569620253,\n",
        " 'Snow Patrol': 0.007547169811320755,\n",
        " 'So They Say': 0.018518518518518517,\n",
        " 'Something Corporate': 0.00546448087431694,\n",
        " 'Songs: Ohia': 0.008695652173913044,\n",
        " 'Spitalfield': 0.01282051282051282,\n",
        " 'Standstill': 0.019230769230769232,\n",
        " 'Steps': 0.018518518518518517,\n",
        " 'Stereo Total': 0.0136986301369863,\n",
        " 'Stone Sour': 0.0043859649122807015,\n",
        " 'Stone Temple Pilots': 0.0030211480362537764,\n",
        " 'Story of the Year': 0.006711409395973154,\n",
        " 'Sun Kil Moon': 0.008771929824561403,\n",
        " 'Super Furry Animals': 0.011235955056179775,\n",
        " 'Supertramp': 0.0029850746268656717,\n",
        " 'Tag Team': 0.008695652173913044,\n",
        " 'Taylor Swift': 0.001199040767386091,\n",
        " 'The Academy Is...': 0.003389830508474576,\n",
        " 'The Arrogant Worms': 0.016129032258064516,\n",
        " 'The Ataris': 0.01020408163265306,\n",
        " 'The Bangles': 0.014285714285714285,\n",
        " 'The Bird and the Bee': 0.002328288707799767,\n",
        " 'The Black Eyed Peas': 0.004552352048558422,\n",
        " 'The Black Keys': 0.002178649237472767,\n",
        " 'The Blizzard': 0.014492753623188406,\n",
        " 'The Bouncing Souls': 0.015873015873015872,\n",
        " 'The Crests': 0.006097560975609756,\n",
        " 'The Dells': 0.0043859649122807015,\n",
        " 'The Dodos': 0.012195121951219513,\n",
        " 'The Electric Soft Parade': 0.018518518518518517,\n",
        " 'The Features': 0.01639344262295082,\n",
        " 'The Four Seasons': 0.013333333333333334,\n",
        " 'The Fratellis': 0.006550218340611353,\n",
        " 'The Fray': 0.00909090909090909,\n",
        " 'The Get Up Kids': 0.008130081300813009,\n",
        " 'The Killers': 0.0022471910112359553,\n",
        " 'The Lonely Island': 0.005405405405405406,\n",
        " 'The Loved Ones': 0.016129032258064516,\n",
        " 'The Mighty Mighty Bosstones': 0.013513513513513514,\n",
        " 'The Moldy Peaches': 0.015873015873015872,\n",
        " 'The Monkees': 0.008130081300813009,\n",
        " 'The Notorious B.I.G.': 0.0035335689045936395,\n",
        " 'The Outfield': 0.015873015873015872,\n",
        " 'The Pietasters': 0.018518518518518517,\n",
        " 'The Postal Service': 0.0025,\n",
        " 'The Puppini Sisters': 0.00819672131147541,\n",
        " 'The Pussycat Dolls': 0.0014265335235378032,\n",
        " 'The Rembrandts': 0.011363636363636364,\n",
        " 'The Roots': 0.003952569169960474,\n",
        " 'The Spill Canvas': 0.014925373134328358,\n",
        " 'The Streets': 0.006024096385542169,\n",
        " 'The Strokes': 0.0030959752321981426,\n",
        " 'The Subways': 0.009174311926605505,\n",
        " 'The Tallest Man On Earth': 0.017543859649122806,\n",
        " 'The Turtles': 0.007874015748031496,\n",
        " 'The Vandals': 0.009523809523809525,\n",
        " 'The Weepies': 0.007751937984496124,\n",
        " 'The White Stripes': 0.004964539007092199,\n",
        " 'Theory of a Deadman': 0.008,\n",
        " 'There for Tomorrow': 0.017543859649122806,\n",
        " 'Third Eye Blind': 0.002631578947368421,\n",
        " 'This Will Destroy You': 0.007246376811594203,\n",
        " 'Ti sestry': 0.019230769230769232,\n",
        " 'Tilly and the Wall': 0.010638297872340425,\n",
        " 'Tin Machine': 0.02,\n",
        " 'Tokio Hotel': 0.010416666666666666,\n",
        " 'Tone-Lc': 0.012987012987012988,\n",
        " 'Ugly Kid Joe': 0.010752688172043012,\n",
        " 'Vienna Teng': 0.013888888888888888,\n",
        " 'We the Kings': 0.011494252873563218,\n",
        " 'Weezer': 0.004454342984409799,\n",
        " 'Wheatus': 0.009174311926605505,\n",
        " 'Wilco': 0.006289308176100629,\n",
        " 'Will Young': 0.015625,\n",
        " 'With Blood Comes Cleansing': 0.02,\n",
        " 'Wu-Tang Clan': 0.003787878787878788,\n",
        " 'Yael Naim': 0.00980392156862745,\n",
        " 'Yeah Yeah Yeahs': 0.006493506493506494,\n",
        " 'Yonderboi': 0.014084507042253521,\n",
        " 'Your Vegas': 0.01818181818181818,\n",
        " 'Zac Brown Band': 0.006369426751592357,\n",
        " 'Zombie Nation': 0.013888888888888888,\n",
        " 'artist': 'Fountains of Wayne',\n",
        " 'blink-182': 0.0020161290322580645,\n",
        " 'matchbox twenty': 0.002617801047120419}"
       ]
      }
     ],
     "prompt_number": 28
    },
    {
     "cell_type": "code",
     "collapsed": false,
     "input": [
      "type(lst[0])"
     ],
     "language": "python",
     "metadata": {},
     "outputs": [
      {
       "metadata": {},
       "output_type": "pyout",
       "prompt_number": 30,
       "text": [
        "dict"
       ]
      }
     ],
     "prompt_number": 30
    },
    {
     "cell_type": "code",
     "collapsed": false,
     "input": [
      "import pandas as pd"
     ],
     "language": "python",
     "metadata": {},
     "outputs": [],
     "prompt_number": 31
    },
    {
     "cell_type": "code",
     "collapsed": false,
     "input": [
      "feature_mtx = pd.DataFrame(dic)"
     ],
     "language": "python",
     "metadata": {},
     "outputs": [],
     "prompt_number": 32
    },
    {
     "cell_type": "code",
     "collapsed": false,
     "input": [
      "sim_matrix = feature_mtx.fillna(0)"
     ],
     "language": "python",
     "metadata": {},
     "outputs": [],
     "prompt_number": 34
    },
    {
     "cell_type": "code",
     "collapsed": false,
     "input": [
      "sim_matrix.dtypes"
     ],
     "language": "python",
     "metadata": {},
     "outputs": [
      {
       "metadata": {},
       "output_type": "pyout",
       "prompt_number": 44,
       "text": [
        "                                                object\n",
        "!!!                                             object\n",
        "\"Weird Al\" Yankovic                             object\n",
        "'Til Tuesday                                    object\n",
        "(Love) Tattoo                                   object\n",
        "(hd) p.e.                                       object\n",
        "(hed) p.e.                                      object\n",
        "*shels                                          object\n",
        "+/- {Plus/Minus}                                object\n",
        "+44                                             object\n",
        "-123 Minut                                      object\n",
        "-123 min.                                       object\n",
        "...And You Will Know Us by the Trail of Dead    object\n",
        ".38 Special                                     object\n",
        "1 Giant Leap                                    object\n",
        "...\n",
        "of Montreal          object\n",
        "peixe : avio         object\n",
        "tUnE-YaRdS           object\n",
        "tienne Daho          object\n",
        "tienne de Crcy       object\n",
        "tobyMac              object\n",
        "toe                  object\n",
        "volcano!             object\n",
        "vypsan fiXa          object\n",
        "wigwam               object\n",
        "will.i.am            object\n",
        "xLooking Forwardx    object\n",
        "yoomiii              object\n",
        "zircon               object\n",
        "zlem Tekin           object\n",
        "Length: 11249, dtype: object"
       ]
      }
     ],
     "prompt_number": 44
    },
    {
     "cell_type": "code",
     "collapsed": false,
     "input": [
      "import scipy"
     ],
     "language": "python",
     "metadata": {},
     "outputs": [],
     "prompt_number": 36
    },
    {
     "cell_type": "code",
     "collapsed": false,
     "input": [
      "sim_matrix_values = sim_matrix.astype(float).values"
     ],
     "language": "python",
     "metadata": {},
     "outputs": [
      {
       "ename": "ValueError",
       "evalue": "could not convert string to float: zlem Tekin",
       "output_type": "pyerr",
       "traceback": [
        "\u001b[0;31m---------------------------------------------------------------------------\u001b[0m\n\u001b[0;31mValueError\u001b[0m                                Traceback (most recent call last)",
        "\u001b[0;32m<ipython-input-45-bb082ae8721c>\u001b[0m in \u001b[0;36m<module>\u001b[0;34m()\u001b[0m\n\u001b[0;32m----> 1\u001b[0;31m \u001b[0msim_matrix_values\u001b[0m \u001b[0;34m=\u001b[0m \u001b[0msim_matrix\u001b[0m\u001b[0;34m.\u001b[0m\u001b[0mastype\u001b[0m\u001b[0;34m(\u001b[0m\u001b[0mfloat\u001b[0m\u001b[0;34m)\u001b[0m\u001b[0;34m.\u001b[0m\u001b[0mvalues\u001b[0m\u001b[0;34m\u001b[0m\u001b[0m\n\u001b[0m",
        "\u001b[0;32m/Users/Zipfian/anaconda/lib/python2.7/site-packages/pandas/core/generic.pyc\u001b[0m in \u001b[0;36mastype\u001b[0;34m(self, dtype, copy, raise_on_error)\u001b[0m\n\u001b[1;32m   2096\u001b[0m \u001b[0;34m\u001b[0m\u001b[0m\n\u001b[1;32m   2097\u001b[0m         mgr = self._data.astype(\n\u001b[0;32m-> 2098\u001b[0;31m             dtype=dtype, copy=copy, raise_on_error=raise_on_error)\n\u001b[0m\u001b[1;32m   2099\u001b[0m         \u001b[0;32mreturn\u001b[0m \u001b[0mself\u001b[0m\u001b[0;34m.\u001b[0m\u001b[0m_constructor\u001b[0m\u001b[0;34m(\u001b[0m\u001b[0mmgr\u001b[0m\u001b[0;34m)\u001b[0m\u001b[0;34m.\u001b[0m\u001b[0m__finalize__\u001b[0m\u001b[0;34m(\u001b[0m\u001b[0mself\u001b[0m\u001b[0;34m)\u001b[0m\u001b[0;34m\u001b[0m\u001b[0m\n\u001b[1;32m   2100\u001b[0m \u001b[0;34m\u001b[0m\u001b[0m\n",
        "\u001b[0;32m/Users/Zipfian/anaconda/lib/python2.7/site-packages/pandas/core/internals.pyc\u001b[0m in \u001b[0;36mastype\u001b[0;34m(self, dtype, **kwargs)\u001b[0m\n\u001b[1;32m   2235\u001b[0m \u001b[0;34m\u001b[0m\u001b[0m\n\u001b[1;32m   2236\u001b[0m     \u001b[0;32mdef\u001b[0m \u001b[0mastype\u001b[0m\u001b[0;34m(\u001b[0m\u001b[0mself\u001b[0m\u001b[0;34m,\u001b[0m \u001b[0mdtype\u001b[0m\u001b[0;34m,\u001b[0m \u001b[0;34m**\u001b[0m\u001b[0mkwargs\u001b[0m\u001b[0;34m)\u001b[0m\u001b[0;34m:\u001b[0m\u001b[0;34m\u001b[0m\u001b[0m\n\u001b[0;32m-> 2237\u001b[0;31m         \u001b[0;32mreturn\u001b[0m \u001b[0mself\u001b[0m\u001b[0;34m.\u001b[0m\u001b[0mapply\u001b[0m\u001b[0;34m(\u001b[0m\u001b[0;34m'astype'\u001b[0m\u001b[0;34m,\u001b[0m \u001b[0mdtype\u001b[0m\u001b[0;34m=\u001b[0m\u001b[0mdtype\u001b[0m\u001b[0;34m,\u001b[0m \u001b[0;34m**\u001b[0m\u001b[0mkwargs\u001b[0m\u001b[0;34m)\u001b[0m\u001b[0;34m\u001b[0m\u001b[0m\n\u001b[0m\u001b[1;32m   2238\u001b[0m \u001b[0;34m\u001b[0m\u001b[0m\n\u001b[1;32m   2239\u001b[0m     \u001b[0;32mdef\u001b[0m \u001b[0mconvert\u001b[0m\u001b[0;34m(\u001b[0m\u001b[0mself\u001b[0m\u001b[0;34m,\u001b[0m \u001b[0;34m**\u001b[0m\u001b[0mkwargs\u001b[0m\u001b[0;34m)\u001b[0m\u001b[0;34m:\u001b[0m\u001b[0;34m\u001b[0m\u001b[0m\n",
        "\u001b[0;32m/Users/Zipfian/anaconda/lib/python2.7/site-packages/pandas/core/internals.pyc\u001b[0m in \u001b[0;36mapply\u001b[0;34m(self, f, axes, filter, do_integrity_check, **kwargs)\u001b[0m\n\u001b[1;32m   2190\u001b[0m                                                  copy=align_copy)\n\u001b[1;32m   2191\u001b[0m \u001b[0;34m\u001b[0m\u001b[0m\n\u001b[0;32m-> 2192\u001b[0;31m             \u001b[0mapplied\u001b[0m \u001b[0;34m=\u001b[0m \u001b[0mgetattr\u001b[0m\u001b[0;34m(\u001b[0m\u001b[0mb\u001b[0m\u001b[0;34m,\u001b[0m \u001b[0mf\u001b[0m\u001b[0;34m)\u001b[0m\u001b[0;34m(\u001b[0m\u001b[0;34m**\u001b[0m\u001b[0mkwargs\u001b[0m\u001b[0;34m)\u001b[0m\u001b[0;34m\u001b[0m\u001b[0m\n\u001b[0m\u001b[1;32m   2193\u001b[0m \u001b[0;34m\u001b[0m\u001b[0m\n\u001b[1;32m   2194\u001b[0m             \u001b[0;32mif\u001b[0m \u001b[0misinstance\u001b[0m\u001b[0;34m(\u001b[0m\u001b[0mapplied\u001b[0m\u001b[0;34m,\u001b[0m \u001b[0mlist\u001b[0m\u001b[0;34m)\u001b[0m\u001b[0;34m:\u001b[0m\u001b[0;34m\u001b[0m\u001b[0m\n",
        "\u001b[0;32m/Users/Zipfian/anaconda/lib/python2.7/site-packages/pandas/core/internals.pyc\u001b[0m in \u001b[0;36mastype\u001b[0;34m(self, dtype, copy, raise_on_error, values)\u001b[0m\n\u001b[1;32m    319\u001b[0m     \u001b[0;32mdef\u001b[0m \u001b[0mastype\u001b[0m\u001b[0;34m(\u001b[0m\u001b[0mself\u001b[0m\u001b[0;34m,\u001b[0m \u001b[0mdtype\u001b[0m\u001b[0;34m,\u001b[0m \u001b[0mcopy\u001b[0m\u001b[0;34m=\u001b[0m\u001b[0mFalse\u001b[0m\u001b[0;34m,\u001b[0m \u001b[0mraise_on_error\u001b[0m\u001b[0;34m=\u001b[0m\u001b[0mTrue\u001b[0m\u001b[0;34m,\u001b[0m \u001b[0mvalues\u001b[0m\u001b[0;34m=\u001b[0m\u001b[0mNone\u001b[0m\u001b[0;34m)\u001b[0m\u001b[0;34m:\u001b[0m\u001b[0;34m\u001b[0m\u001b[0m\n\u001b[1;32m    320\u001b[0m         return self._astype(dtype, copy=copy, raise_on_error=raise_on_error,\n\u001b[0;32m--> 321\u001b[0;31m                             values=values)\n\u001b[0m\u001b[1;32m    322\u001b[0m \u001b[0;34m\u001b[0m\u001b[0m\n\u001b[1;32m    323\u001b[0m     def _astype(self, dtype, copy=False, raise_on_error=True, values=None,\n",
        "\u001b[0;32m/Users/Zipfian/anaconda/lib/python2.7/site-packages/pandas/core/internals.pyc\u001b[0m in \u001b[0;36m_astype\u001b[0;34m(self, dtype, copy, raise_on_error, values, klass)\u001b[0m\n\u001b[1;32m    337\u001b[0m             \u001b[0;32mif\u001b[0m \u001b[0mvalues\u001b[0m \u001b[0;32mis\u001b[0m \u001b[0mNone\u001b[0m\u001b[0;34m:\u001b[0m\u001b[0;34m\u001b[0m\u001b[0m\n\u001b[1;32m    338\u001b[0m                 \u001b[0;31m# _astype_nansafe works fine with 1-d only\u001b[0m\u001b[0;34m\u001b[0m\u001b[0;34m\u001b[0m\u001b[0m\n\u001b[0;32m--> 339\u001b[0;31m                 \u001b[0mvalues\u001b[0m \u001b[0;34m=\u001b[0m \u001b[0mcom\u001b[0m\u001b[0;34m.\u001b[0m\u001b[0m_astype_nansafe\u001b[0m\u001b[0;34m(\u001b[0m\u001b[0mself\u001b[0m\u001b[0;34m.\u001b[0m\u001b[0mvalues\u001b[0m\u001b[0;34m.\u001b[0m\u001b[0mravel\u001b[0m\u001b[0;34m(\u001b[0m\u001b[0;34m)\u001b[0m\u001b[0;34m,\u001b[0m \u001b[0mdtype\u001b[0m\u001b[0;34m,\u001b[0m \u001b[0mcopy\u001b[0m\u001b[0;34m=\u001b[0m\u001b[0mTrue\u001b[0m\u001b[0;34m)\u001b[0m\u001b[0;34m\u001b[0m\u001b[0m\n\u001b[0m\u001b[1;32m    340\u001b[0m                 \u001b[0mvalues\u001b[0m \u001b[0;34m=\u001b[0m \u001b[0mvalues\u001b[0m\u001b[0;34m.\u001b[0m\u001b[0mreshape\u001b[0m\u001b[0;34m(\u001b[0m\u001b[0mself\u001b[0m\u001b[0;34m.\u001b[0m\u001b[0mvalues\u001b[0m\u001b[0;34m.\u001b[0m\u001b[0mshape\u001b[0m\u001b[0;34m)\u001b[0m\u001b[0;34m\u001b[0m\u001b[0m\n\u001b[1;32m    341\u001b[0m             newb = make_block(values,\n",
        "\u001b[0;32m/Users/Zipfian/anaconda/lib/python2.7/site-packages/pandas/core/common.pyc\u001b[0m in \u001b[0;36m_astype_nansafe\u001b[0;34m(arr, dtype, copy)\u001b[0m\n\u001b[1;32m   2415\u001b[0m \u001b[0;34m\u001b[0m\u001b[0m\n\u001b[1;32m   2416\u001b[0m     \u001b[0;32mif\u001b[0m \u001b[0mcopy\u001b[0m\u001b[0;34m:\u001b[0m\u001b[0;34m\u001b[0m\u001b[0m\n\u001b[0;32m-> 2417\u001b[0;31m         \u001b[0;32mreturn\u001b[0m \u001b[0marr\u001b[0m\u001b[0;34m.\u001b[0m\u001b[0mastype\u001b[0m\u001b[0;34m(\u001b[0m\u001b[0mdtype\u001b[0m\u001b[0;34m)\u001b[0m\u001b[0;34m\u001b[0m\u001b[0m\n\u001b[0m\u001b[1;32m   2418\u001b[0m     \u001b[0;32mreturn\u001b[0m \u001b[0marr\u001b[0m\u001b[0;34m.\u001b[0m\u001b[0mview\u001b[0m\u001b[0;34m(\u001b[0m\u001b[0mdtype\u001b[0m\u001b[0;34m)\u001b[0m\u001b[0;34m\u001b[0m\u001b[0m\n\u001b[1;32m   2419\u001b[0m \u001b[0;34m\u001b[0m\u001b[0m\n",
        "\u001b[0;31mValueError\u001b[0m: could not convert string to float: zlem Tekin"
       ]
      }
     ],
     "prompt_number": 45
    },
    {
     "cell_type": "code",
     "collapsed": false,
     "input": [
      "sim_matrix_values"
     ],
     "language": "python",
     "metadata": {},
     "outputs": [
      {
       "metadata": {},
       "output_type": "pyout",
       "prompt_number": 39,
       "text": [
        "array([[1, 0, 0, ..., 0, 0, 0],\n",
        "       [0, 1, 0, ..., 0, 0, 0],\n",
        "       [0, 0, 1, ..., 0, 0, 0],\n",
        "       ..., \n",
        "       [0, 0, 0, ..., 1, 0, 0],\n",
        "       [0, 0, 0, ..., 0, 1, 0],\n",
        "       [0, 0, 0, ..., 0, 0, 1]], dtype=object)"
       ]
      }
     ],
     "prompt_number": 39
    },
    {
     "cell_type": "code",
     "collapsed": false,
     "input": [
      "from sklearn.cluster import KMeans"
     ],
     "language": "python",
     "metadata": {},
     "outputs": [],
     "prompt_number": 40
    },
    {
     "cell_type": "code",
     "collapsed": false,
     "input": [
      "km = KMeans(n_clusters = 10, n_jobs = -1)"
     ],
     "language": "python",
     "metadata": {},
     "outputs": [],
     "prompt_number": 42
    },
    {
     "cell_type": "code",
     "collapsed": false,
     "input": [
      "km.fit(sim_matrix_values)"
     ],
     "language": "python",
     "metadata": {},
     "outputs": [
      {
       "ename": "ValueError",
       "evalue": "could not convert string to float: zlem Tekin",
       "output_type": "pyerr",
       "traceback": [
        "\u001b[0;31m---------------------------------------------------------------------------\u001b[0m\n\u001b[0;31mValueError\u001b[0m                                Traceback (most recent call last)",
        "\u001b[0;32m<ipython-input-43-8fe26969b48b>\u001b[0m in \u001b[0;36m<module>\u001b[0;34m()\u001b[0m\n\u001b[0;32m----> 1\u001b[0;31m \u001b[0mkm\u001b[0m\u001b[0;34m.\u001b[0m\u001b[0mfit\u001b[0m\u001b[0;34m(\u001b[0m\u001b[0msim_matrix_values\u001b[0m\u001b[0;34m)\u001b[0m\u001b[0;34m\u001b[0m\u001b[0m\n\u001b[0m",
        "\u001b[0;32m/Users/Zipfian/anaconda/lib/python2.7/site-packages/sklearn/cluster/k_means_.pyc\u001b[0m in \u001b[0;36mfit\u001b[0;34m(self, X, y)\u001b[0m\n\u001b[1;32m    700\u001b[0m         \"\"\"\n\u001b[1;32m    701\u001b[0m         \u001b[0mrandom_state\u001b[0m \u001b[0;34m=\u001b[0m \u001b[0mcheck_random_state\u001b[0m\u001b[0;34m(\u001b[0m\u001b[0mself\u001b[0m\u001b[0;34m.\u001b[0m\u001b[0mrandom_state\u001b[0m\u001b[0;34m)\u001b[0m\u001b[0;34m\u001b[0m\u001b[0m\n\u001b[0;32m--> 702\u001b[0;31m         \u001b[0mX\u001b[0m \u001b[0;34m=\u001b[0m \u001b[0mself\u001b[0m\u001b[0;34m.\u001b[0m\u001b[0m_check_fit_data\u001b[0m\u001b[0;34m(\u001b[0m\u001b[0mX\u001b[0m\u001b[0;34m)\u001b[0m\u001b[0;34m\u001b[0m\u001b[0m\n\u001b[0m\u001b[1;32m    703\u001b[0m \u001b[0;34m\u001b[0m\u001b[0m\n\u001b[1;32m    704\u001b[0m         self.cluster_centers_, self.labels_, self.inertia_ = k_means(\n",
        "\u001b[0;32m/Users/Zipfian/anaconda/lib/python2.7/site-packages/sklearn/cluster/k_means_.pyc\u001b[0m in \u001b[0;36m_check_fit_data\u001b[0;34m(self, X)\u001b[0m\n\u001b[1;32m    666\u001b[0m     \u001b[0;32mdef\u001b[0m \u001b[0m_check_fit_data\u001b[0m\u001b[0;34m(\u001b[0m\u001b[0mself\u001b[0m\u001b[0;34m,\u001b[0m \u001b[0mX\u001b[0m\u001b[0;34m)\u001b[0m\u001b[0;34m:\u001b[0m\u001b[0;34m\u001b[0m\u001b[0m\n\u001b[1;32m    667\u001b[0m         \u001b[0;34m\"\"\"Verify that the number of samples given is larger than k\"\"\"\u001b[0m\u001b[0;34m\u001b[0m\u001b[0m\n\u001b[0;32m--> 668\u001b[0;31m         \u001b[0mX\u001b[0m \u001b[0;34m=\u001b[0m \u001b[0matleast2d_or_csr\u001b[0m\u001b[0;34m(\u001b[0m\u001b[0mX\u001b[0m\u001b[0;34m,\u001b[0m \u001b[0mdtype\u001b[0m\u001b[0;34m=\u001b[0m\u001b[0mnp\u001b[0m\u001b[0;34m.\u001b[0m\u001b[0mfloat64\u001b[0m\u001b[0;34m)\u001b[0m\u001b[0;34m\u001b[0m\u001b[0m\n\u001b[0m\u001b[1;32m    669\u001b[0m         \u001b[0;32mif\u001b[0m \u001b[0mX\u001b[0m\u001b[0;34m.\u001b[0m\u001b[0mshape\u001b[0m\u001b[0;34m[\u001b[0m\u001b[0;36m0\u001b[0m\u001b[0;34m]\u001b[0m \u001b[0;34m<\u001b[0m \u001b[0mself\u001b[0m\u001b[0;34m.\u001b[0m\u001b[0mn_clusters\u001b[0m\u001b[0;34m:\u001b[0m\u001b[0;34m\u001b[0m\u001b[0m\n\u001b[1;32m    670\u001b[0m             raise ValueError(\"n_samples=%d should be >= n_clusters=%d\" % (\n",
        "\u001b[0;32m/Users/Zipfian/anaconda/lib/python2.7/site-packages/sklearn/utils/validation.pyc\u001b[0m in \u001b[0;36matleast2d_or_csr\u001b[0;34m(X, dtype, order, copy, force_all_finite)\u001b[0m\n\u001b[1;32m    132\u001b[0m     \"\"\"\n\u001b[1;32m    133\u001b[0m     return _atleast2d_or_sparse(X, dtype, order, copy, sparse.csr_matrix,\n\u001b[0;32m--> 134\u001b[0;31m                                 \"tocsr\", force_all_finite)\n\u001b[0m\u001b[1;32m    135\u001b[0m \u001b[0;34m\u001b[0m\u001b[0m\n\u001b[1;32m    136\u001b[0m \u001b[0;34m\u001b[0m\u001b[0m\n",
        "\u001b[0;32m/Users/Zipfian/anaconda/lib/python2.7/site-packages/sklearn/utils/validation.pyc\u001b[0m in \u001b[0;36m_atleast2d_or_sparse\u001b[0;34m(X, dtype, order, copy, sparse_class, convmethod, force_all_finite)\u001b[0m\n\u001b[1;32m    109\u001b[0m     \u001b[0;32melse\u001b[0m\u001b[0;34m:\u001b[0m\u001b[0;34m\u001b[0m\u001b[0m\n\u001b[1;32m    110\u001b[0m         X = array2d(X, dtype=dtype, order=order, copy=copy,\n\u001b[0;32m--> 111\u001b[0;31m                     force_all_finite=force_all_finite)\n\u001b[0m\u001b[1;32m    112\u001b[0m         \u001b[0;32mif\u001b[0m \u001b[0mforce_all_finite\u001b[0m\u001b[0;34m:\u001b[0m\u001b[0;34m\u001b[0m\u001b[0m\n\u001b[1;32m    113\u001b[0m             \u001b[0m_assert_all_finite\u001b[0m\u001b[0;34m(\u001b[0m\u001b[0mX\u001b[0m\u001b[0;34m)\u001b[0m\u001b[0;34m\u001b[0m\u001b[0m\n",
        "\u001b[0;32m/Users/Zipfian/anaconda/lib/python2.7/site-packages/sklearn/utils/validation.pyc\u001b[0m in \u001b[0;36marray2d\u001b[0;34m(X, dtype, order, copy, force_all_finite)\u001b[0m\n\u001b[1;32m     89\u001b[0m         raise TypeError('A sparse matrix was passed, but dense data '\n\u001b[1;32m     90\u001b[0m                         'is required. Use X.toarray() to convert to dense.')\n\u001b[0;32m---> 91\u001b[0;31m     \u001b[0mX_2d\u001b[0m \u001b[0;34m=\u001b[0m \u001b[0mnp\u001b[0m\u001b[0;34m.\u001b[0m\u001b[0masarray\u001b[0m\u001b[0;34m(\u001b[0m\u001b[0mnp\u001b[0m\u001b[0;34m.\u001b[0m\u001b[0matleast_2d\u001b[0m\u001b[0;34m(\u001b[0m\u001b[0mX\u001b[0m\u001b[0;34m)\u001b[0m\u001b[0;34m,\u001b[0m \u001b[0mdtype\u001b[0m\u001b[0;34m=\u001b[0m\u001b[0mdtype\u001b[0m\u001b[0;34m,\u001b[0m \u001b[0morder\u001b[0m\u001b[0;34m=\u001b[0m\u001b[0morder\u001b[0m\u001b[0;34m)\u001b[0m\u001b[0;34m\u001b[0m\u001b[0m\n\u001b[0m\u001b[1;32m     92\u001b[0m     \u001b[0;32mif\u001b[0m \u001b[0mforce_all_finite\u001b[0m\u001b[0;34m:\u001b[0m\u001b[0;34m\u001b[0m\u001b[0m\n\u001b[1;32m     93\u001b[0m         \u001b[0m_assert_all_finite\u001b[0m\u001b[0;34m(\u001b[0m\u001b[0mX_2d\u001b[0m\u001b[0;34m)\u001b[0m\u001b[0;34m\u001b[0m\u001b[0m\n",
        "\u001b[0;32m/Users/Zipfian/anaconda/lib/python2.7/site-packages/numpy/core/numeric.pyc\u001b[0m in \u001b[0;36masarray\u001b[0;34m(a, dtype, order)\u001b[0m\n\u001b[1;32m    458\u001b[0m \u001b[0;34m\u001b[0m\u001b[0m\n\u001b[1;32m    459\u001b[0m     \"\"\"\n\u001b[0;32m--> 460\u001b[0;31m     \u001b[0;32mreturn\u001b[0m \u001b[0marray\u001b[0m\u001b[0;34m(\u001b[0m\u001b[0ma\u001b[0m\u001b[0;34m,\u001b[0m \u001b[0mdtype\u001b[0m\u001b[0;34m,\u001b[0m \u001b[0mcopy\u001b[0m\u001b[0;34m=\u001b[0m\u001b[0mFalse\u001b[0m\u001b[0;34m,\u001b[0m \u001b[0morder\u001b[0m\u001b[0;34m=\u001b[0m\u001b[0morder\u001b[0m\u001b[0;34m)\u001b[0m\u001b[0;34m\u001b[0m\u001b[0m\n\u001b[0m\u001b[1;32m    461\u001b[0m \u001b[0;34m\u001b[0m\u001b[0m\n\u001b[1;32m    462\u001b[0m \u001b[0;32mdef\u001b[0m \u001b[0masanyarray\u001b[0m\u001b[0;34m(\u001b[0m\u001b[0ma\u001b[0m\u001b[0;34m,\u001b[0m \u001b[0mdtype\u001b[0m\u001b[0;34m=\u001b[0m\u001b[0mNone\u001b[0m\u001b[0;34m,\u001b[0m \u001b[0morder\u001b[0m\u001b[0;34m=\u001b[0m\u001b[0mNone\u001b[0m\u001b[0;34m)\u001b[0m\u001b[0;34m:\u001b[0m\u001b[0;34m\u001b[0m\u001b[0m\n",
        "\u001b[0;31mValueError\u001b[0m: could not convert string to float: zlem Tekin"
       ]
      }
     ],
     "prompt_number": 43
    },
    {
     "cell_type": "code",
     "collapsed": false,
     "input": [
      "sf = gl.SFrame.read_csv('catalog_artist_ranking_init.csv')"
     ],
     "language": "python",
     "metadata": {},
     "outputs": [
      {
       "ename": "RuntimeError",
       "evalue": "Communication Failure: 65. ",
       "output_type": "pyerr",
       "traceback": [
        "\u001b[0;31m---------------------------------------------------------------------------\u001b[0m\n\u001b[0;31mRuntimeError\u001b[0m                              Traceback (most recent call last)",
        "\u001b[0;32m<ipython-input-49-929c86791355>\u001b[0m in \u001b[0;36m<module>\u001b[0;34m()\u001b[0m\n\u001b[0;32m----> 1\u001b[0;31m \u001b[0msf\u001b[0m \u001b[0;34m=\u001b[0m \u001b[0mgl\u001b[0m\u001b[0;34m.\u001b[0m\u001b[0mSFrame\u001b[0m\u001b[0;34m.\u001b[0m\u001b[0mread_csv\u001b[0m\u001b[0;34m(\u001b[0m\u001b[0;34m'catalog_artist_ranking_init.csv'\u001b[0m\u001b[0;34m)\u001b[0m\u001b[0;34m\u001b[0m\u001b[0m\n\u001b[0m",
        "\u001b[0;32m/Users/Zipfian/anaconda/lib/python2.7/site-packages/graphlab/data_structures/sframe.pyc\u001b[0m in \u001b[0;36mread_csv\u001b[0;34m(cls, url, delimiter, header, error_bad_lines, comment_char, escape_char, double_quote, quote_char, skip_initial_space, column_type_hints, na_values, nrows, verbose)\u001b[0m\n\u001b[1;32m    993\u001b[0m                                   \u001b[0mnrows\u001b[0m\u001b[0;34m=\u001b[0m\u001b[0mnrows\u001b[0m\u001b[0;34m,\u001b[0m\u001b[0;34m\u001b[0m\u001b[0m\n\u001b[1;32m    994\u001b[0m                                   \u001b[0mverbose\u001b[0m\u001b[0;34m=\u001b[0m\u001b[0mverbose\u001b[0m\u001b[0;34m,\u001b[0m\u001b[0;34m\u001b[0m\u001b[0m\n\u001b[0;32m--> 995\u001b[0;31m                                   store_errors=False)[0]\n\u001b[0m\u001b[1;32m    996\u001b[0m \u001b[0;34m\u001b[0m\u001b[0m\n\u001b[1;32m    997\u001b[0m \u001b[0;34m\u001b[0m\u001b[0m\n",
        "\u001b[0;32m/Users/Zipfian/anaconda/lib/python2.7/site-packages/graphlab/data_structures/sframe.pyc\u001b[0m in \u001b[0;36m_read_csv_impl\u001b[0;34m(cls, url, delimiter, header, error_bad_lines, comment_char, escape_char, double_quote, quote_char, skip_initial_space, column_type_hints, na_values, nrows, verbose, store_errors)\u001b[0m\n\u001b[1;32m    541\u001b[0m           \u001b[0mparsing_config\u001b[0m\u001b[0;34m[\u001b[0m\u001b[0;34m\"row_limit\"\u001b[0m\u001b[0;34m]\u001b[0m \u001b[0;34m=\u001b[0m \u001b[0mnrows\u001b[0m\u001b[0;34m\u001b[0m\u001b[0m\n\u001b[1;32m    542\u001b[0m \u001b[0;34m\u001b[0m\u001b[0m\n\u001b[0;32m--> 543\u001b[0;31m         \u001b[0mproxy\u001b[0m \u001b[0;34m=\u001b[0m \u001b[0mUnitySFrameProxy\u001b[0m\u001b[0;34m(\u001b[0m\u001b[0mglconnect\u001b[0m\u001b[0;34m.\u001b[0m\u001b[0mget_client\u001b[0m\u001b[0;34m(\u001b[0m\u001b[0;34m)\u001b[0m\u001b[0;34m)\u001b[0m\u001b[0;34m\u001b[0m\u001b[0m\n\u001b[0m\u001b[1;32m    544\u001b[0m         \u001b[0minternal_url\u001b[0m \u001b[0;34m=\u001b[0m \u001b[0mmake_internal_url\u001b[0m\u001b[0;34m(\u001b[0m\u001b[0murl\u001b[0m\u001b[0;34m)\u001b[0m\u001b[0;34m\u001b[0m\u001b[0m\n\u001b[1;32m    545\u001b[0m \u001b[0;34m\u001b[0m\u001b[0m\n",
        "\u001b[0;32m/Users/Zipfian/anaconda/lib/python2.7/site-packages/graphlab/cython/cy_sframe.so\u001b[0m in \u001b[0;36mgraphlab.cython.cy_sframe.UnitySFrameProxy.__cinit__\u001b[0;34m()\u001b[0m\n",
        "\u001b[0;31mRuntimeError\u001b[0m: Communication Failure: 65. "
       ]
      }
     ],
     "prompt_number": 49
    },
    {
     "cell_type": "code",
     "collapsed": false,
     "input": [
      "pwd"
     ],
     "language": "python",
     "metadata": {},
     "outputs": [
      {
       "metadata": {},
       "output_type": "pyout",
       "prompt_number": 47,
       "text": [
        "u'/Users/Zipfian/Desktop/Ben_Bell/CapstoneProject'"
       ]
      }
     ],
     "prompt_number": 47
    },
    {
     "cell_type": "code",
     "collapsed": false,
     "input": [
      "ls"
     ],
     "language": "python",
     "metadata": {},
     "outputs": [
      {
       "output_type": "stream",
       "stream": "stdout",
       "text": [
        "\u001b[35m1015_RecommendationSystems\u001b[m\u001b[m@                          catalog_artist_ranking_init.csv                      jacard_init.json                                     reinterestinmusicinformationretrievalcoffeechat.zip\r\n",
        "1103_Recommender.ipynb                               echonest_artist_query.py                             jacard_init.txt                                      similarity_dict.txt\r\n",
        "Echonest.ipynb                                       errors.txt                                           \u001b[30m\u001b[43mlastfm-1k\u001b[m\u001b[m/                                           sql_import.py\r\n",
        "GraphlabRec1106.ipynb                                genre_sim_matrix1.txt                                \u001b[34mlastfm-dataset-360K\u001b[m\u001b[m/                                 taste_profile_usercat_120k.txt\r\n",
        "Music APIs.ipynb                                     genre_sim_tot.txt                                    madlib-1.6-Darwin.dmg                                taste_profile_usercat_120k_catalog.txt\r\n",
        "README.md                                            graphlab_rec1106.py                                  recommend_init.py                                    train_triplets.txt\r\n",
        "SQLcode_msd.txt                                      graphlab_rec1106.pyc                                 recommend_init.pyc                                   train_triplets.txt.zip\r\n",
        "Untitled0.ipynb                                      individual.pig                                       \u001b[34mreinterestinmusicinformationretrievalcoffeechat\u001b[m\u001b[m/     unique_songs_triplets.txt\r\n"
       ]
      }
     ],
     "prompt_number": 48
    },
    {
     "cell_type": "code",
     "collapsed": false,
     "input": [],
     "language": "python",
     "metadata": {},
     "outputs": []
    }
   ],
   "metadata": {}
  }
 ]
}