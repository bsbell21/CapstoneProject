{
 "metadata": {
  "name": ""
 },
 "nbformat": 3,
 "nbformat_minor": 0,
 "worksheets": [
  {
   "cells": [
    {
     "cell_type": "code",
     "collapsed": false,
     "input": [
      "import recommend_init as r"
     ],
     "language": "python",
     "metadata": {},
     "outputs": [],
     "prompt_number": 1
    },
    {
     "cell_type": "code",
     "collapsed": false,
     "input": [
      "genre_sim_matrix = r.create_genre_similarity_matrix()"
     ],
     "language": "python",
     "metadata": {},
     "outputs": [
      {
       "output_type": "stream",
       "stream": "stdout",
       "text": [
        "{u'name': u'a cappella'}\n",
        "{u'name': u'abstract'}"
       ]
      },
      {
       "output_type": "stream",
       "stream": "stdout",
       "text": [
        "\n",
        "{u'name': u'abstract hip hop'}"
       ]
      },
      {
       "output_type": "stream",
       "stream": "stdout",
       "text": [
        "\n",
        "{u'name': u'abstract idm'}"
       ]
      },
      {
       "output_type": "stream",
       "stream": "stdout",
       "text": [
        "\n",
        "{u'name': u'accordion'}"
       ]
      },
      {
       "output_type": "stream",
       "stream": "stdout",
       "text": [
        "\n",
        "{u'name': u'acid house'}"
       ]
      },
      {
       "output_type": "stream",
       "stream": "stdout",
       "text": [
        "\n",
        "{u'name': u'acid jazz'}"
       ]
      },
      {
       "output_type": "stream",
       "stream": "stdout",
       "text": [
        "\n",
        "{u'name': u'acid techno'}"
       ]
      },
      {
       "output_type": "stream",
       "stream": "stdout",
       "text": [
        "\n",
        "{u'name': u'acousmatic'}"
       ]
      },
      {
       "output_type": "stream",
       "stream": "stdout",
       "text": [
        "\n",
        "{u'name': u'acoustic blues'}"
       ]
      },
      {
       "output_type": "stream",
       "stream": "stdout",
       "text": [
        "\n",
        "{u'name': u'acoustic pop'}"
       ]
      },
      {
       "output_type": "stream",
       "stream": "stdout",
       "text": [
        "\n",
        "{u'name': u'adult standards'}"
       ]
      },
      {
       "output_type": "stream",
       "stream": "stdout",
       "text": [
        "\n",
        "{u'name': u'african percussion'}"
       ]
      },
      {
       "output_type": "stream",
       "stream": "stdout",
       "text": [
        "\n",
        "{u'name': u'african rock'}"
       ]
      },
      {
       "output_type": "stream",
       "stream": "stdout",
       "text": [
        "\n",
        "{u'name': u'afrikaans'}"
       ]
      },
      {
       "output_type": "stream",
       "stream": "stdout",
       "text": [
        "\n",
        "{u'name': u'afrobeat'}"
       ]
      },
      {
       "output_type": "stream",
       "stream": "stdout",
       "text": [
        "\n",
        "{u'name': u'afrobeats'}"
       ]
      },
      {
       "output_type": "stream",
       "stream": "stdout",
       "text": [
        "\n",
        "{u'name': u'aggrotech'}"
       ]
      },
      {
       "output_type": "stream",
       "stream": "stdout",
       "text": [
        "\n",
        "{u'name': u'albanian pop'}"
       ]
      },
      {
       "output_type": "stream",
       "stream": "stdout",
       "text": [
        "\n",
        "{u'name': u'album rock'}"
       ]
      },
      {
       "output_type": "stream",
       "stream": "stdout",
       "text": [
        "\n",
        "{u'name': u'albuquerque indie'}"
       ]
      },
      {
       "output_type": "stream",
       "stream": "stdout",
       "text": [
        "\n",
        "{u'name': u'alternative americana'}"
       ]
      },
      {
       "output_type": "stream",
       "stream": "stdout",
       "text": [
        "\n",
        "{u'name': u'alternative country'}"
       ]
      },
      {
       "output_type": "stream",
       "stream": "stdout",
       "text": [
        "\n",
        "{u'name': u'alternative dance'}"
       ]
      },
      {
       "output_type": "stream",
       "stream": "stdout",
       "text": [
        "\n",
        "{u'name': u'alternative emo'}"
       ]
      },
      {
       "output_type": "stream",
       "stream": "stdout",
       "text": [
        "\n",
        "{u'name': u'alternative hip hop'}"
       ]
      },
      {
       "output_type": "stream",
       "stream": "stdout",
       "text": [
        "\n",
        "{u'name': u'alternative metal'}"
       ]
      },
      {
       "output_type": "stream",
       "stream": "stdout",
       "text": [
        "\n",
        "{u'name': u'alternative metalcore'}"
       ]
      },
      {
       "output_type": "stream",
       "stream": "stdout",
       "text": [
        "\n",
        "{u'name': u'alternative new age'}"
       ]
      },
      {
       "output_type": "stream",
       "stream": "stdout",
       "text": [
        "\n",
        "{u'name': u'alternative pop'}"
       ]
      },
      {
       "output_type": "stream",
       "stream": "stdout",
       "text": [
        "\n",
        "{u'name': u'alternative pop rock'}"
       ]
      },
      {
       "output_type": "stream",
       "stream": "stdout",
       "text": [
        "\n",
        "{u'name': u'alternative r&b'}"
       ]
      },
      {
       "output_type": "stream",
       "stream": "stdout",
       "text": [
        "\n",
        "{u'name': u'alternative rock'}"
       ]
      },
      {
       "output_type": "stream",
       "stream": "stdout",
       "text": [
        "\n",
        "{u'name': u'ambeat'}"
       ]
      },
      {
       "output_type": "stream",
       "stream": "stdout",
       "text": [
        "\n",
        "{u'name': u'ambient'}"
       ]
      },
      {
       "output_type": "stream",
       "stream": "stdout",
       "text": [
        "\n",
        "{u'name': u'ambient dub techno'}"
       ]
      },
      {
       "output_type": "stream",
       "stream": "stdout",
       "text": [
        "\n",
        "{u'name': u'ambient fusion'}"
       ]
      },
      {
       "output_type": "stream",
       "stream": "stdout",
       "text": [
        "\n",
        "{u'name': u'ambient idm'}"
       ]
      },
      {
       "output_type": "stream",
       "stream": "stdout",
       "text": [
        "\n",
        "{u'name': u'ambient psychill'}"
       ]
      },
      {
       "output_type": "stream",
       "stream": "stdout",
       "text": [
        "\n",
        "{u'name': u'ambient trance'}"
       ]
      },
      {
       "output_type": "stream",
       "stream": "stdout",
       "text": [
        "\n",
        "{u'name': u'anarcho-punk'}"
       ]
      },
      {
       "output_type": "stream",
       "stream": "stdout",
       "text": [
        "\n",
        "{u'name': u'andean'}"
       ]
      },
      {
       "output_type": "stream",
       "stream": "stdout",
       "text": [
        "\n",
        "{u'name': u'anime'}"
       ]
      },
      {
       "output_type": "stream",
       "stream": "stdout",
       "text": [
        "\n",
        "{u'name': u'anime score'}"
       ]
      },
      {
       "output_type": "stream",
       "stream": "stdout",
       "text": [
        "\n",
        "{u'name': u'anti-folk'}"
       ]
      },
      {
       "output_type": "stream",
       "stream": "stdout",
       "text": [
        "\n",
        "{u'name': u'antiviral pop'}"
       ]
      },
      {
       "output_type": "stream",
       "stream": "stdout",
       "text": [
        "\n",
        "{u'name': u'appalachian folk'}"
       ]
      },
      {
       "output_type": "stream",
       "stream": "stdout",
       "text": [
        "\n",
        "{u'name': u'arab folk'}"
       ]
      },
      {
       "output_type": "stream",
       "stream": "stdout",
       "text": [
        "\n",
        "{u'name': u'arab pop'}"
       ]
      },
      {
       "output_type": "stream",
       "stream": "stdout",
       "text": [
        "\n",
        "{u'name': u'arabesk'}"
       ]
      },
      {
       "output_type": "stream",
       "stream": "stdout",
       "text": [
        "\n",
        "{u'name': u'argentine rock'}"
       ]
      },
      {
       "output_type": "stream",
       "stream": "stdout",
       "text": [
        "\n",
        "{u'name': u'armenian folk'}"
       ]
      },
      {
       "output_type": "stream",
       "stream": "stdout",
       "text": [
        "\n",
        "{u'name': u'art rock'}"
       ]
      },
      {
       "output_type": "stream",
       "stream": "stdout",
       "text": [
        "\n",
        "{u'name': u'athens indie'}"
       ]
      },
      {
       "output_type": "stream",
       "stream": "stdout",
       "text": [
        "\n",
        "{u'name': u'atmospheric black metal'}"
       ]
      },
      {
       "output_type": "stream",
       "stream": "stdout",
       "text": [
        "\n",
        "{u'name': u'atmospheric post rock'}"
       ]
      },
      {
       "output_type": "stream",
       "stream": "stdout",
       "text": [
        "\n",
        "{u'name': u'atmospheric post-metal'}"
       ]
      },
      {
       "output_type": "stream",
       "stream": "stdout",
       "text": [
        "\n",
        "{u'name': u'aussietronica'}"
       ]
      },
      {
       "output_type": "stream",
       "stream": "stdout",
       "text": [
        "\n",
        "{u'name': u'austindie'}"
       ]
      },
      {
       "output_type": "stream",
       "stream": "stdout",
       "text": [
        "\n",
        "{u'name': u'australian alternative rock'}"
       ]
      },
      {
       "output_type": "stream",
       "stream": "stdout",
       "text": [
        "\n",
        "{u'name': u'australian country'}"
       ]
      },
      {
       "output_type": "stream",
       "stream": "stdout",
       "text": [
        "\n",
        "{u'name': u'australian dance'}"
       ]
      },
      {
       "output_type": "stream",
       "stream": "stdout",
       "text": [
        "\n",
        "{u'name': u'australian hip hop'}"
       ]
      },
      {
       "output_type": "stream",
       "stream": "stdout",
       "text": [
        "\n",
        "{u'name': u'australian indie'}"
       ]
      },
      {
       "output_type": "stream",
       "stream": "stdout",
       "text": [
        "\n",
        "{u'name': u'australian pop'}"
       ]
      },
      {
       "output_type": "stream",
       "stream": "stdout",
       "text": [
        "\n",
        "{u'name': u'austropop'}"
       ]
      },
      {
       "output_type": "stream",
       "stream": "stdout",
       "text": [
        "\n",
        "{u'name': u'avant-garde'}"
       ]
      },
      {
       "output_type": "stream",
       "stream": "stdout",
       "text": [
        "\n",
        "{u'name': u'avant-garde jazz'}"
       ]
      },
      {
       "output_type": "stream",
       "stream": "stdout",
       "text": [
        "\n",
        "{u'name': u'avantgarde metal'}"
       ]
      },
      {
       "output_type": "stream",
       "stream": "stdout",
       "text": [
        "\n",
        "{u'name': u'axe'}"
       ]
      },
      {
       "output_type": "stream",
       "stream": "stdout",
       "text": [
        "\n",
        "{u'name': u'azonto'}"
       ]
      },
      {
       "output_type": "stream",
       "stream": "stdout",
       "text": [
        "\n",
        "{u'name': u'bachata'}"
       ]
      },
      {
       "output_type": "stream",
       "stream": "stdout",
       "text": [
        "\n",
        "{u'name': u'baile funk'}"
       ]
      },
      {
       "output_type": "stream",
       "stream": "stdout",
       "text": [
        "\n",
        "{u'name': u'balearic'}"
       ]
      },
      {
       "output_type": "stream",
       "stream": "stdout",
       "text": [
        "\n",
        "{u'name': u'balkan brass'}"
       ]
      },
      {
       "output_type": "stream",
       "stream": "stdout",
       "text": [
        "\n",
        "{u'name': u'banda'}"
       ]
      },
      {
       "output_type": "stream",
       "stream": "stdout",
       "text": [
        "\n",
        "{u'name': u'bangla'}"
       ]
      },
      {
       "output_type": "stream",
       "stream": "stdout",
       "text": [
        "\n",
        "{u'name': u'barbershop'}"
       ]
      },
      {
       "output_type": "stream",
       "stream": "stdout",
       "text": [
        "\n",
        "{u'name': u'barnemusikk'}"
       ]
      },
      {
       "output_type": "stream",
       "stream": "stdout",
       "text": [
        "\n",
        "{u'name': u'baroque'}"
       ]
      },
      {
       "output_type": "stream",
       "stream": "stdout",
       "text": [
        "\n",
        "{u'name': u'baroque ensemble'}"
       ]
      },
      {
       "output_type": "stream",
       "stream": "stdout",
       "text": [
        "\n",
        "{u'name': u'basque rock'}"
       ]
      },
      {
       "output_type": "stream",
       "stream": "stdout",
       "text": [
        "\n",
        "{u'name': u'bass music'}"
       ]
      },
      {
       "output_type": "stream",
       "stream": "stdout",
       "text": [
        "\n",
        "{u'name': u'bass trip'}"
       ]
      },
      {
       "output_type": "stream",
       "stream": "stdout",
       "text": [
        "\n",
        "{u'name': u'bassline'}"
       ]
      },
      {
       "output_type": "stream",
       "stream": "stdout",
       "text": [
        "\n",
        "{u'name': u'bay area hip hop'}"
       ]
      },
      {
       "output_type": "stream",
       "stream": "stdout",
       "text": [
        "\n",
        "{u'name': u'beach music'}"
       ]
      },
      {
       "output_type": "stream",
       "stream": "stdout",
       "text": [
        "\n",
        "{u'name': u'beatdown'}"
       ]
      },
      {
       "output_type": "stream",
       "stream": "stdout",
       "text": [
        "\n",
        "{u'name': u'beats & rhymes'}"
       ]
      },
      {
       "output_type": "stream",
       "stream": "stdout",
       "text": [
        "\n",
        "{u'name': u'bebop'}"
       ]
      },
      {
       "output_type": "stream",
       "stream": "stdout",
       "text": [
        "\n",
        "{u'name': u'belgian indie'}"
       ]
      },
      {
       "output_type": "stream",
       "stream": "stdout",
       "text": [
        "\n",
        "{u'name': u'belgian rock'}"
       ]
      },
      {
       "output_type": "stream",
       "stream": "stdout",
       "text": [
        "\n",
        "{u'name': u'belly dance'}"
       ]
      },
      {
       "output_type": "stream",
       "stream": "stdout",
       "text": [
        "\n",
        "{u'name': u'bemani'}"
       ]
      },
      {
       "output_type": "stream",
       "stream": "stdout",
       "text": [
        "\n",
        "{u'name': u'benga'}"
       ]
      },
      {
       "output_type": "stream",
       "stream": "stdout",
       "text": [
        "\n",
        "{u'name': u'bhangra'}"
       ]
      },
      {
       "output_type": "stream",
       "stream": "stdout",
       "text": [
        "\n",
        "{u'name': u'big band'}"
       ]
      },
      {
       "output_type": "stream",
       "stream": "stdout",
       "text": [
        "\n",
        "{u'name': u'big beat'}"
       ]
      },
      {
       "output_type": "stream",
       "stream": "stdout",
       "text": [
        "\n",
        "{u'name': u'big room'}"
       ]
      },
      {
       "output_type": "stream",
       "stream": "stdout",
       "text": [
        "\n",
        "{u'name': u'black death'}"
       ]
      },
      {
       "output_type": "stream",
       "stream": "stdout",
       "text": [
        "\n",
        "{u'name': u'black metal'}"
       ]
      },
      {
       "output_type": "stream",
       "stream": "stdout",
       "text": [
        "\n",
        "{u'name': u'black sludge'}"
       ]
      },
      {
       "output_type": "stream",
       "stream": "stdout",
       "text": [
        "\n",
        "{u'name': u'black thrash'}"
       ]
      },
      {
       "output_type": "stream",
       "stream": "stdout",
       "text": [
        "\n",
        "{u'name': u'blackgaze'}"
       ]
      },
      {
       "output_type": "stream",
       "stream": "stdout",
       "text": [
        "\n",
        "{u'name': u'blaskapelle'}"
       ]
      },
      {
       "output_type": "stream",
       "stream": "stdout",
       "text": [
        "\n",
        "{u'name': u'bluegrass'}"
       ]
      },
      {
       "output_type": "stream",
       "stream": "stdout",
       "text": [
        "\n",
        "{u'name': u'blues'}"
       ]
      },
      {
       "output_type": "stream",
       "stream": "stdout",
       "text": [
        "\n",
        "{u'name': u'blues-rock'}"
       ]
      },
      {
       "output_type": "stream",
       "stream": "stdout",
       "text": [
        "\n",
        "{u'name': u'blues-rock guitar'}"
       ]
      },
      {
       "output_type": "stream",
       "stream": "stdout",
       "text": [
        "\n",
        "{u'name': u'bmore'}"
       ]
      },
      {
       "output_type": "stream",
       "stream": "stdout",
       "text": [
        "\n",
        "{u'name': u'bolero'}"
       ]
      },
      {
       "output_type": "stream",
       "stream": "stdout",
       "text": [
        "\n",
        "{u'name': u'boogaloo'}"
       ]
      },
      {
       "output_type": "stream",
       "stream": "stdout",
       "text": [
        "\n",
        "{u'name': u'boogie-woogie'}"
       ]
      },
      {
       "output_type": "stream",
       "stream": "stdout",
       "text": [
        "\n",
        "{u'name': u'bossa nova'}"
       ]
      },
      {
       "output_type": "stream",
       "stream": "stdout",
       "text": [
        "\n",
        "{u'name': u'bossa nova jazz'}"
       ]
      },
      {
       "output_type": "stream",
       "stream": "stdout",
       "text": [
        "\n",
        "{u'name': u'boston rock'}"
       ]
      },
      {
       "output_type": "stream",
       "stream": "stdout",
       "text": [
        "\n",
        "{u'name': u'bounce'}"
       ]
      },
      {
       "output_type": "stream",
       "stream": "stdout",
       "text": [
        "\n",
        "{u'name': u'bouncy house'}"
       ]
      },
      {
       "output_type": "stream",
       "stream": "stdout",
       "text": [
        "\n",
        "{u'name': u'bow pop'}"
       ]
      },
      {
       "output_type": "stream",
       "stream": "stdout",
       "text": [
        "\n",
        "{u'name': u'boy band'}"
       ]
      },
      {
       "output_type": "stream",
       "stream": "stdout",
       "text": [
        "\n",
        "{u'name': u'brass band'}"
       ]
      },
      {
       "output_type": "stream",
       "stream": "stdout",
       "text": [
        "\n",
        "{u'name': u'brass ensemble'}"
       ]
      },
      {
       "output_type": "stream",
       "stream": "stdout",
       "text": [
        "\n",
        "{u'name': u'brazilian gospel'}"
       ]
      },
      {
       "output_type": "stream",
       "stream": "stdout",
       "text": [
        "\n",
        "{u'name': u'brazilian hip hop'}"
       ]
      },
      {
       "output_type": "stream",
       "stream": "stdout",
       "text": [
        "\n",
        "{u'name': u'brazilian indie'}"
       ]
      },
      {
       "output_type": "stream",
       "stream": "stdout",
       "text": [
        "\n",
        "{u'name': u'brazilian pop music'}"
       ]
      },
      {
       "output_type": "stream",
       "stream": "stdout",
       "text": [
        "\n",
        "{u'name': u'brazilian punk'}"
       ]
      },
      {
       "output_type": "stream",
       "stream": "stdout",
       "text": [
        "\n",
        "{u'name': u'breakbeat'}"
       ]
      },
      {
       "output_type": "stream",
       "stream": "stdout",
       "text": [
        "\n",
        "{u'name': u'breakcore'}"
       ]
      },
      {
       "output_type": "stream",
       "stream": "stdout",
       "text": [
        "\n",
        "{u'name': u'breaks'}"
       ]
      },
      {
       "output_type": "stream",
       "stream": "stdout",
       "text": [
        "\n",
        "{u'name': u'brega'}"
       ]
      },
      {
       "output_type": "stream",
       "stream": "stdout",
       "text": [
        "\n",
        "{u'name': u'breton folk'}"
       ]
      },
      {
       "output_type": "stream",
       "stream": "stdout",
       "text": [
        "\n",
        "{u'name': u'brill building pop'}"
       ]
      },
      {
       "output_type": "stream",
       "stream": "stdout",
       "text": [
        "\n",
        "{u'name': u'british alternative rock'}"
       ]
      },
      {
       "output_type": "stream",
       "stream": "stdout",
       "text": [
        "\n",
        "{u'name': u'british blues'}"
       ]
      },
      {
       "output_type": "stream",
       "stream": "stdout",
       "text": [
        "\n",
        "{u'name': u'british brass band'}"
       ]
      },
      {
       "output_type": "stream",
       "stream": "stdout",
       "text": [
        "\n",
        "{u'name': u'british dance band'}"
       ]
      },
      {
       "output_type": "stream",
       "stream": "stdout",
       "text": [
        "\n",
        "{u'name': u'british folk'}"
       ]
      },
      {
       "output_type": "stream",
       "stream": "stdout",
       "text": [
        "\n",
        "{u'name': u'british indie rock'}"
       ]
      },
      {
       "output_type": "stream",
       "stream": "stdout",
       "text": [
        "\n",
        "{u'name': u'british invasion'}"
       ]
      },
      {
       "output_type": "stream",
       "stream": "stdout",
       "text": [
        "\n",
        "{u'name': u'britpop'}"
       ]
      },
      {
       "output_type": "stream",
       "stream": "stdout",
       "text": [
        "\n",
        "{u'name': u'broadway'}"
       ]
      },
      {
       "output_type": "stream",
       "stream": "stdout",
       "text": [
        "\n",
        "{u'name': u'broken beat'}"
       ]
      },
      {
       "output_type": "stream",
       "stream": "stdout",
       "text": [
        "\n",
        "{u'name': u'brooklyn indie'}"
       ]
      },
      {
       "output_type": "stream",
       "stream": "stdout",
       "text": [
        "\n",
        "{u'name': u'brostep'}"
       ]
      },
      {
       "output_type": "stream",
       "stream": "stdout",
       "text": [
        "\n",
        "{u'name': u'brutal death metal'}"
       ]
      },
      {
       "output_type": "stream",
       "stream": "stdout",
       "text": [
        "\n",
        "{u'name': u'brutal deathcore'}"
       ]
      },
      {
       "output_type": "stream",
       "stream": "stdout",
       "text": [
        "\n",
        "{u'name': u'bubble trance'}"
       ]
      },
      {
       "output_type": "stream",
       "stream": "stdout",
       "text": [
        "\n",
        "{u'name': u'bubblegum dance'}"
       ]
      },
      {
       "output_type": "stream",
       "stream": "stdout",
       "text": [
        "\n",
        "{u'name': u'bubblegum pop'}"
       ]
      },
      {
       "output_type": "stream",
       "stream": "stdout",
       "text": [
        "\n",
        "{u'name': u'bulgarian rock'}"
       ]
      },
      {
       "output_type": "stream",
       "stream": "stdout",
       "text": [
        "\n",
        "{u'name': u'c-pop'}"
       ]
      },
      {
       "output_type": "stream",
       "stream": "stdout",
       "text": [
        "\n",
        "{u'name': u'c64'}"
       ]
      },
      {
       "output_type": "stream",
       "stream": "stdout",
       "text": [
        "\n",
        "{u'name': u'c86'}"
       ]
      },
      {
       "output_type": "stream",
       "stream": "stdout",
       "text": [
        "\n",
        "{u'name': u'cabaret'}"
       ]
      },
      {
       "output_type": "stream",
       "stream": "stdout",
       "text": [
        "\n",
        "{u'name': u'cajun'}"
       ]
      },
      {
       "output_type": "stream",
       "stream": "stdout",
       "text": [
        "\n",
        "{u'name': u'calypso'}"
       ]
      },
      {
       "output_type": "stream",
       "stream": "stdout",
       "text": [
        "\n",
        "{u'name': u'canadian country'}"
       ]
      },
      {
       "output_type": "stream",
       "stream": "stdout",
       "text": [
        "\n",
        "{u'name': u'canadian hip hop'}"
       ]
      },
      {
       "output_type": "stream",
       "stream": "stdout",
       "text": [
        "\n",
        "{u'name': u'canadian indie'}"
       ]
      },
      {
       "output_type": "stream",
       "stream": "stdout",
       "text": [
        "\n",
        "{u'name': u'canadian pop'}"
       ]
      },
      {
       "output_type": "stream",
       "stream": "stdout",
       "text": [
        "\n",
        "{u'name': u'candy pop'}"
       ]
      },
      {
       "output_type": "stream",
       "stream": "stdout",
       "text": [
        "\n",
        "{u'name': u'cantautor'}"
       ]
      },
      {
       "output_type": "stream",
       "stream": "stdout",
       "text": [
        "\n",
        "{u'name': u'cante flamenco'}"
       ]
      },
      {
       "output_type": "stream",
       "stream": "stdout",
       "text": [
        "\n",
        "{u'name': u'canterbury scene'}"
       ]
      },
      {
       "output_type": "stream",
       "stream": "stdout",
       "text": [
        "\n",
        "{u'name': u'cantopop'}"
       ]
      },
      {
       "output_type": "stream",
       "stream": "stdout",
       "text": [
        "\n",
        "{u'name': u'canzone napoletana'}"
       ]
      },
      {
       "output_type": "stream",
       "stream": "stdout",
       "text": [
        "\n",
        "{u'name': u'capoeira'}"
       ]
      },
      {
       "output_type": "stream",
       "stream": "stdout",
       "text": [
        "\n",
        "{u'name': u'carnatic'}"
       ]
      },
      {
       "output_type": "stream",
       "stream": "stdout",
       "text": [
        "\n",
        "{u'name': u'catstep'}"
       ]
      },
      {
       "output_type": "stream",
       "stream": "stdout",
       "text": [
        "\n",
        "{u'name': u'caucasian folk'}"
       ]
      },
      {
       "output_type": "stream",
       "stream": "stdout",
       "text": [
        "\n",
        "{u'name': u'ccm'}"
       ]
      },
      {
       "output_type": "stream",
       "stream": "stdout",
       "text": [
        "\n",
        "{u'name': u'ceilidh'}"
       ]
      },
      {
       "output_type": "stream",
       "stream": "stdout",
       "text": [
        "\n",
        "{u'name': u'cello'}"
       ]
      },
      {
       "output_type": "stream",
       "stream": "stdout",
       "text": [
        "\n",
        "{u'name': u'celtic'}"
       ]
      },
      {
       "output_type": "stream",
       "stream": "stdout",
       "text": [
        "\n",
        "{u'name': u'celtic christmas'}"
       ]
      },
      {
       "output_type": "stream",
       "stream": "stdout",
       "text": [
        "\n",
        "{u'name': u'celtic punk'}"
       ]
      },
      {
       "output_type": "stream",
       "stream": "stdout",
       "text": [
        "\n",
        "{u'name': u'celtic rock'}"
       ]
      },
      {
       "output_type": "stream",
       "stream": "stdout",
       "text": [
        "\n",
        "{u'name': u'chalga'}"
       ]
      },
      {
       "output_type": "stream",
       "stream": "stdout",
       "text": [
        "\n",
        "{u'name': u'chamber pop'}"
       ]
      },
      {
       "output_type": "stream",
       "stream": "stdout",
       "text": [
        "\n",
        "{u'name': u'chanson'}"
       ]
      },
      {
       "output_type": "stream",
       "stream": "stdout",
       "text": [
        "\n",
        "{u'name': u'chanson quebecois'}"
       ]
      },
      {
       "output_type": "stream",
       "stream": "stdout",
       "text": [
        "\n",
        "{u'name': u'chaotic black metal'}"
       ]
      },
      {
       "output_type": "stream",
       "stream": "stdout",
       "text": [
        "\n",
        "{u'name': u'chaotic hardcore'}"
       ]
      },
      {
       "output_type": "stream",
       "stream": "stdout",
       "text": [
        "\n",
        "{u'name': u'charred death'}"
       ]
      },
      {
       "output_type": "stream",
       "stream": "stdout",
       "text": [
        "\n",
        "{u'name': u'chicago blues'}"
       ]
      },
      {
       "output_type": "stream",
       "stream": "stdout",
       "text": [
        "\n",
        "{u'name': u'chicago house'}"
       ]
      },
      {
       "output_type": "stream",
       "stream": "stdout",
       "text": [
        "\n",
        "{u'name': u'chicago indie'}"
       ]
      },
      {
       "output_type": "stream",
       "stream": "stdout",
       "text": [
        "\n",
        "{u'name': u'chicago soul'}"
       ]
      },
      {
       "output_type": "stream",
       "stream": "stdout",
       "text": [
        "\n",
        "{u'name': u'chicano rap'}"
       ]
      },
      {
       "output_type": "stream",
       "stream": "stdout",
       "text": [
        "\n",
        "{u'name': u\"children's music\"}"
       ]
      },
      {
       "output_type": "stream",
       "stream": "stdout",
       "text": [
        "\n",
        "{u'name': u'chilean rock'}"
       ]
      },
      {
       "output_type": "stream",
       "stream": "stdout",
       "text": [
        "\n",
        "{u'name': u'chill groove'}"
       ]
      },
      {
       "output_type": "stream",
       "stream": "stdout",
       "text": [
        "\n",
        "{u'name': u'chill lounge'}"
       ]
      },
      {
       "output_type": "stream",
       "stream": "stdout",
       "text": [
        "\n",
        "{u'name': u'chill-out'}"
       ]
      },
      {
       "output_type": "stream",
       "stream": "stdout",
       "text": [
        "\n",
        "{u'name': u'chill-out trance'}"
       ]
      },
      {
       "output_type": "stream",
       "stream": "stdout",
       "text": [
        "\n",
        "{u'name': u'chillstep'}"
       ]
      },
      {
       "output_type": "stream",
       "stream": "stdout",
       "text": [
        "\n",
        "{u'name': u'chillwave'}"
       ]
      },
      {
       "output_type": "stream",
       "stream": "stdout",
       "text": [
        "\n",
        "{u'name': u'chinese indie rock'}"
       ]
      },
      {
       "output_type": "stream",
       "stream": "stdout",
       "text": [
        "\n",
        "{u'name': u'chinese opera'}"
       ]
      },
      {
       "output_type": "stream",
       "stream": "stdout",
       "text": [
        "\n",
        "{u'name': u'chinese traditional'}"
       ]
      },
      {
       "output_type": "stream",
       "stream": "stdout",
       "text": [
        "\n",
        "{u'name': u'chip hop'}"
       ]
      },
      {
       "output_type": "stream",
       "stream": "stdout",
       "text": [
        "\n",
        "{u'name': u'chiptune'}"
       ]
      },
      {
       "output_type": "stream",
       "stream": "stdout",
       "text": [
        "\n",
        "{u'name': u'choral'}"
       ]
      },
      {
       "output_type": "stream",
       "stream": "stdout",
       "text": [
        "\n",
        "{u'name': u'choro'}"
       ]
      },
      {
       "output_type": "stream",
       "stream": "stdout",
       "text": [
        "\n",
        "{u'name': u'christian alternative rock'}"
       ]
      },
      {
       "output_type": "stream",
       "stream": "stdout",
       "text": [
        "\n",
        "{u'name': u'christian christmas'}"
       ]
      },
      {
       "output_type": "stream",
       "stream": "stdout",
       "text": [
        "\n",
        "{u'name': u'christian dance'}"
       ]
      },
      {
       "output_type": "stream",
       "stream": "stdout",
       "text": [
        "\n",
        "{u'name': u'christian hardcore'}"
       ]
      },
      {
       "output_type": "stream",
       "stream": "stdout",
       "text": [
        "\n",
        "{u'name': u'christian hip hop'}"
       ]
      },
      {
       "output_type": "stream",
       "stream": "stdout",
       "text": [
        "\n",
        "{u'name': u'christian metal'}"
       ]
      },
      {
       "output_type": "stream",
       "stream": "stdout",
       "text": [
        "\n",
        "{u'name': u'christian music'}"
       ]
      },
      {
       "output_type": "stream",
       "stream": "stdout",
       "text": [
        "\n",
        "{u'name': u'christian punk'}"
       ]
      },
      {
       "output_type": "stream",
       "stream": "stdout",
       "text": [
        "\n",
        "{u'name': u'christian rock'}"
       ]
      },
      {
       "output_type": "stream",
       "stream": "stdout",
       "text": [
        "\n",
        "{u'name': u'christmas'}"
       ]
      },
      {
       "output_type": "stream",
       "stream": "stdout",
       "text": [
        "\n",
        "{u'name': u'christmas product'}"
       ]
      },
      {
       "output_type": "stream",
       "stream": "stdout",
       "text": [
        "\n",
        "{u'name': u'cinematic dubstep'}"
       ]
      },
      {
       "output_type": "stream",
       "stream": "stdout",
       "text": [
        "\n",
        "{u'name': u'classic afrobeat'}"
       ]
      },
      {
       "output_type": "stream",
       "stream": "stdout",
       "text": [
        "\n",
        "{u'name': u'classic belgian pop'}"
       ]
      },
      {
       "output_type": "stream",
       "stream": "stdout",
       "text": [
        "\n",
        "{u'name': u'classic chinese pop'}"
       ]
      },
      {
       "output_type": "stream",
       "stream": "stdout",
       "text": [
        "\n",
        "{u'name': u'classic czech pop'}"
       ]
      },
      {
       "output_type": "stream",
       "stream": "stdout",
       "text": [
        "\n",
        "{u'name': u'classic danish pop'}"
       ]
      },
      {
       "output_type": "stream",
       "stream": "stdout",
       "text": [
        "\n",
        "{u'name': u'classic eurovision'}"
       ]
      },
      {
       "output_type": "stream",
       "stream": "stdout",
       "text": [
        "\n",
        "{u'name': u'classic finnish pop'}"
       ]
      },
      {
       "output_type": "stream",
       "stream": "stdout",
       "text": [
        "\n",
        "{u'name': u'classic finnish rock'}"
       ]
      },
      {
       "output_type": "stream",
       "stream": "stdout",
       "text": [
        "\n",
        "{u'name': u'classic french pop'}"
       ]
      },
      {
       "output_type": "stream",
       "stream": "stdout",
       "text": [
        "\n",
        "{u'name': u'classic funk rock'}"
       ]
      },
      {
       "output_type": "stream",
       "stream": "stdout",
       "text": [
        "\n",
        "{u'name': u'classic garage rock'}"
       ]
      },
      {
       "output_type": "stream",
       "stream": "stdout",
       "text": [
        "\n",
        "{u'name': u'classic italian pop'}"
       ]
      },
      {
       "output_type": "stream",
       "stream": "stdout",
       "text": [
        "\n",
        "{u'name': u'classic norwegian pop'}"
       ]
      },
      {
       "output_type": "stream",
       "stream": "stdout",
       "text": [
        "\n",
        "{u'name': u'classic peruvian pop'}"
       ]
      },
      {
       "output_type": "stream",
       "stream": "stdout",
       "text": [
        "\n",
        "{u'name': u'classic polish pop'}"
       ]
      },
      {
       "output_type": "stream",
       "stream": "stdout",
       "text": [
        "\n",
        "{u'name': u'classic psychedelic rock'}"
       ]
      },
      {
       "output_type": "stream",
       "stream": "stdout",
       "text": [
        "\n",
        "{u'name': u'classic rock'}"
       ]
      },
      {
       "output_type": "stream",
       "stream": "stdout",
       "text": [
        "\n",
        "{u'name': u'classic russian pop'}"
       ]
      },
      {
       "output_type": "stream",
       "stream": "stdout",
       "text": [
        "\n",
        "{u'name': u'classic russian rock'}"
       ]
      },
      {
       "output_type": "stream",
       "stream": "stdout",
       "text": [
        "\n",
        "{u'name': u'classic schlager'}"
       ]
      },
      {
       "output_type": "stream",
       "stream": "stdout",
       "text": [
        "\n",
        "{u'name': u'classic soundtrack'}"
       ]
      },
      {
       "output_type": "stream",
       "stream": "stdout",
       "text": [
        "\n",
        "{u'name': u'classic swedish pop'}"
       ]
      },
      {
       "output_type": "stream",
       "stream": "stdout",
       "text": [
        "\n",
        "{u'name': u'classic turkish pop'}"
       ]
      },
      {
       "output_type": "stream",
       "stream": "stdout",
       "text": [
        "\n",
        "{u'name': u'classic venezuelan pop'}"
       ]
      },
      {
       "output_type": "stream",
       "stream": "stdout",
       "text": [
        "\n",
        "{u'name': u'classical'}"
       ]
      },
      {
       "output_type": "stream",
       "stream": "stdout",
       "text": [
        "\n",
        "{u'name': u'classical christmas'}"
       ]
      },
      {
       "output_type": "stream",
       "stream": "stdout",
       "text": [
        "\n",
        "{u'name': u'classical flute'}"
       ]
      },
      {
       "output_type": "stream",
       "stream": "stdout",
       "text": [
        "\n",
        "{u'name': u'classical guitar'}"
       ]
      },
      {
       "output_type": "stream",
       "stream": "stdout",
       "text": [
        "\n",
        "{u'name': u'classical organ'}"
       ]
      },
      {
       "output_type": "stream",
       "stream": "stdout",
       "text": [
        "\n",
        "{u'name': u'classical performance'}"
       ]
      },
      {
       "output_type": "stream",
       "stream": "stdout",
       "text": [
        "\n",
        "{u'name': u'classical period'}"
       ]
      },
      {
       "output_type": "stream",
       "stream": "stdout",
       "text": [
        "\n",
        "{u'name': u'classical piano'}"
       ]
      },
      {
       "output_type": "stream",
       "stream": "stdout",
       "text": [
        "\n",
        "{u'name': u'colombian rock'}"
       ]
      },
      {
       "output_type": "stream",
       "stream": "stdout",
       "text": [
        "\n",
        "{u'name': u'columbus ohio indie'}"
       ]
      },
      {
       "output_type": "stream",
       "stream": "stdout",
       "text": [
        "\n",
        "{u'name': u'comedy'}"
       ]
      },
      {
       "output_type": "stream",
       "stream": "stdout",
       "text": [
        "\n",
        "{u'name': u'comic'}"
       ]
      },
      {
       "output_type": "stream",
       "stream": "stdout",
       "text": [
        "\n",
        "{u'name': u'commons'}"
       ]
      },
      {
       "output_type": "stream",
       "stream": "stdout",
       "text": [
        "\n",
        "{u'name': u'complextro'}"
       ]
      },
      {
       "output_type": "stream",
       "stream": "stdout",
       "text": [
        "\n",
        "{u'name': u'composition d'}"
       ]
      },
      {
       "output_type": "stream",
       "stream": "stdout",
       "text": [
        "\n",
        "{u'name': u'concert piano'}"
       ]
      },
      {
       "output_type": "stream",
       "stream": "stdout",
       "text": [
        "\n",
        "{u'name': u'contemporary classical'}"
       ]
      },
      {
       "output_type": "stream",
       "stream": "stdout",
       "text": [
        "\n",
        "{u'name': u'contemporary country'}"
       ]
      },
      {
       "output_type": "stream",
       "stream": "stdout",
       "text": [
        "\n",
        "{u'name': u'contemporary folk'}"
       ]
      },
      {
       "output_type": "stream",
       "stream": "stdout",
       "text": [
        "\n",
        "{u'name': u'contemporary jazz'}"
       ]
      },
      {
       "output_type": "stream",
       "stream": "stdout",
       "text": [
        "\n",
        "{u'name': u'contemporary post-bop'}"
       ]
      },
      {
       "output_type": "stream",
       "stream": "stdout",
       "text": [
        "\n",
        "{u'name': u'cool jazz'}"
       ]
      },
      {
       "output_type": "stream",
       "stream": "stdout",
       "text": [
        "\n",
        "{u'name': u'corrosion'}"
       ]
      },
      {
       "output_type": "stream",
       "stream": "stdout",
       "text": [
        "\n",
        "{u'name': u'corsican folk'}"
       ]
      },
      {
       "output_type": "stream",
       "stream": "stdout",
       "text": [
        "\n",
        "{u'name': u'country'}"
       ]
      },
      {
       "output_type": "stream",
       "stream": "stdout",
       "text": [
        "\n",
        "{u'name': u'country blues'}"
       ]
      },
      {
       "output_type": "stream",
       "stream": "stdout",
       "text": [
        "\n",
        "{u'name': u'country christmas'}"
       ]
      },
      {
       "output_type": "stream",
       "stream": "stdout",
       "text": [
        "\n",
        "{u'name': u'country dawn'}"
       ]
      },
      {
       "output_type": "stream",
       "stream": "stdout",
       "text": [
        "\n",
        "{u'name': u'country gospel'}"
       ]
      },
      {
       "output_type": "stream",
       "stream": "stdout",
       "text": [
        "\n",
        "{u'name': u'country road'}"
       ]
      },
      {
       "output_type": "stream",
       "stream": "stdout",
       "text": [
        "\n",
        "{u'name': u'country rock'}"
       ]
      },
      {
       "output_type": "stream",
       "stream": "stdout",
       "text": [
        "\n",
        "{u'name': u'coupe decale'}"
       ]
      },
      {
       "output_type": "stream",
       "stream": "stdout",
       "text": [
        "\n",
        "{u'name': u'coverchill'}"
       ]
      },
      {
       "output_type": "stream",
       "stream": "stdout",
       "text": [
        "\n",
        "{u'name': u'covertrance'}"
       ]
      },
      {
       "output_type": "stream",
       "stream": "stdout",
       "text": [
        "\n",
        "{u'name': u'cowboy western'}"
       ]
      },
      {
       "output_type": "stream",
       "stream": "stdout",
       "text": [
        "\n",
        "{u'name': u'cowpunk'}"
       ]
      },
      {
       "output_type": "stream",
       "stream": "stdout",
       "text": [
        "\n",
        "{u'name': u'crack rock steady'}"
       ]
      },
      {
       "output_type": "stream",
       "stream": "stdout",
       "text": [
        "\n",
        "{u'name': u'croatian pop'}"
       ]
      },
      {
       "output_type": "stream",
       "stream": "stdout",
       "text": [
        "\n",
        "{u'name': u'crossover prog'}"
       ]
      },
      {
       "output_type": "stream",
       "stream": "stdout",
       "text": [
        "\n",
        "{u'name': u'crossover thrash'}"
       ]
      },
      {
       "output_type": "stream",
       "stream": "stdout",
       "text": [
        "\n",
        "{u'name': u'crunk'}"
       ]
      },
      {
       "output_type": "stream",
       "stream": "stdout",
       "text": [
        "\n",
        "{u'name': u'crust punk'}"
       ]
      },
      {
       "output_type": "stream",
       "stream": "stdout",
       "text": [
        "\n",
        "{u'name': u'cuban rumba'}"
       ]
      },
      {
       "output_type": "stream",
       "stream": "stdout",
       "text": [
        "\n",
        "{u'name': u'cubaton'}"
       ]
      },
      {
       "output_type": "stream",
       "stream": "stdout",
       "text": [
        "\n",
        "{u'name': u'cumbia'}"
       ]
      },
      {
       "output_type": "stream",
       "stream": "stdout",
       "text": [
        "\n",
        "{u'name': u'cumbia funk'}"
       ]
      },
      {
       "output_type": "stream",
       "stream": "stdout",
       "text": [
        "\n",
        "{u'name': u'cumbia sonidera'}"
       ]
      },
      {
       "output_type": "stream",
       "stream": "stdout",
       "text": [
        "\n",
        "{u'name': u'cumbia villera'}"
       ]
      },
      {
       "output_type": "stream",
       "stream": "stdout",
       "text": [
        "\n",
        "{u'name': u'cyber metal'}"
       ]
      },
      {
       "output_type": "stream",
       "stream": "stdout",
       "text": [
        "\n",
        "{u'name': u'czech folk'}"
       ]
      },
      {
       "output_type": "stream",
       "stream": "stdout",
       "text": [
        "\n",
        "{u'name': u'czech rock'}"
       ]
      },
      {
       "output_type": "stream",
       "stream": "stdout",
       "text": [
        "\n",
        "{u'name': u'dallas indie'}"
       ]
      },
      {
       "output_type": "stream",
       "stream": "stdout",
       "text": [
        "\n",
        "{u'name': u'dance pop'}"
       ]
      },
      {
       "output_type": "stream",
       "stream": "stdout",
       "text": [
        "\n",
        "{u'name': u'dance rock'}"
       ]
      },
      {
       "output_type": "stream",
       "stream": "stdout",
       "text": [
        "\n",
        "{u'name': u'dance-punk'}"
       ]
      },
      {
       "output_type": "stream",
       "stream": "stdout",
       "text": [
        "\n",
        "{u'name': u'dancehall'}"
       ]
      },
      {
       "output_type": "stream",
       "stream": "stdout",
       "text": [
        "\n",
        "{u'name': u'dangdut'}"
       ]
      },
      {
       "output_type": "stream",
       "stream": "stdout",
       "text": [
        "\n",
        "{u'name': u'danish hip hop'}"
       ]
      },
      {
       "output_type": "stream",
       "stream": "stdout",
       "text": [
        "\n",
        "{u'name': u'danish indie'}"
       ]
      },
      {
       "output_type": "stream",
       "stream": "stdout",
       "text": [
        "\n",
        "{u'name': u'danish jazz'}"
       ]
      },
      {
       "output_type": "stream",
       "stream": "stdout",
       "text": [
        "\n",
        "{u'name': u'danish pop'}"
       ]
      },
      {
       "output_type": "stream",
       "stream": "stdout",
       "text": [
        "\n",
        "{u'name': u'danish pop rock'}"
       ]
      },
      {
       "output_type": "stream",
       "stream": "stdout",
       "text": [
        "\n",
        "{u'name': u'dansband'}"
       ]
      },
      {
       "output_type": "stream",
       "stream": "stdout",
       "text": [
        "\n",
        "{u'name': u'danseband'}"
       ]
      },
      {
       "output_type": "stream",
       "stream": "stdout",
       "text": [
        "\n",
        "{u'name': u'dark ambient'}"
       ]
      },
      {
       "output_type": "stream",
       "stream": "stdout",
       "text": [
        "\n",
        "{u'name': u'dark black metal'}"
       ]
      },
      {
       "output_type": "stream",
       "stream": "stdout",
       "text": [
        "\n",
        "{u'name': u'dark cabaret'}"
       ]
      },
      {
       "output_type": "stream",
       "stream": "stdout",
       "text": [
        "\n",
        "{u'name': u'dark electro-industrial'}"
       ]
      },
      {
       "output_type": "stream",
       "stream": "stdout",
       "text": [
        "\n",
        "{u'name': u'dark progressive house'}"
       ]
      },
      {
       "output_type": "stream",
       "stream": "stdout",
       "text": [
        "\n",
        "{u'name': u'dark psytrance'}"
       ]
      },
      {
       "output_type": "stream",
       "stream": "stdout",
       "text": [
        "\n",
        "{u'name': u'dark wave'}"
       ]
      },
      {
       "output_type": "stream",
       "stream": "stdout",
       "text": [
        "\n",
        "{u'name': u'darkstep'}"
       ]
      },
      {
       "output_type": "stream",
       "stream": "stdout",
       "text": [
        "\n",
        "{u'name': u'death core'}"
       ]
      },
      {
       "output_type": "stream",
       "stream": "stdout",
       "text": [
        "\n",
        "{u'name': u'death metal'}"
       ]
      },
      {
       "output_type": "stream",
       "stream": "stdout",
       "text": [
        "\n",
        "{u'name': u'deathgrind'}"
       ]
      },
      {
       "output_type": "stream",
       "stream": "stdout",
       "text": [
        "\n",
        "{u'name': u'deep alternative r&b'}"
       ]
      },
      {
       "output_type": "stream",
       "stream": "stdout",
       "text": [
        "\n",
        "{u'name': u'deep ambient'}"
       ]
      },
      {
       "output_type": "stream",
       "stream": "stdout",
       "text": [
        "\n",
        "{u'name': u'deep breakcore'}"
       ]
      },
      {
       "output_type": "stream",
       "stream": "stdout",
       "text": [
        "\n",
        "{u'name': u'deep chill'}"
       ]
      },
      {
       "output_type": "stream",
       "stream": "stdout",
       "text": [
        "\n",
        "{u'name': u'deep darkpsy'}"
       ]
      },
      {
       "output_type": "stream",
       "stream": "stdout",
       "text": [
        "\n",
        "{u'name': u'deep disco'}"
       ]
      },
      {
       "output_type": "stream",
       "stream": "stdout",
       "text": [
        "\n",
        "{u'name': u'deep disco house'}"
       ]
      },
      {
       "output_type": "stream",
       "stream": "stdout",
       "text": [
        "\n",
        "{u'name': u'deep discofox'}"
       ]
      },
      {
       "output_type": "stream",
       "stream": "stdout",
       "text": [
        "\n",
        "{u'name': u'deep downtempo fusion'}"
       ]
      },
      {
       "output_type": "stream",
       "stream": "stdout",
       "text": [
        "\n",
        "{u'name': u'deep euro house'}"
       ]
      },
      {
       "output_type": "stream",
       "stream": "stdout",
       "text": [
        "\n",
        "{u'name': u'deep filthstep'}"
       ]
      },
      {
       "output_type": "stream",
       "stream": "stdout",
       "text": [
        "\n",
        "{u'name': u'deep flow'}"
       ]
      },
      {
       "output_type": "stream",
       "stream": "stdout",
       "text": [
        "\n",
        "{u'name': u'deep freestyle'}"
       ]
      },
      {
       "output_type": "stream",
       "stream": "stdout",
       "text": [
        "\n",
        "{u'name': u'deep funk'}"
       ]
      },
      {
       "output_type": "stream",
       "stream": "stdout",
       "text": [
        "\n",
        "{u'name': u'deep g funk'}"
       ]
      },
      {
       "output_type": "stream",
       "stream": "stdout",
       "text": [
        "\n",
        "{u'name': u'deep happy hardcore'}"
       ]
      },
      {
       "output_type": "stream",
       "stream": "stdout",
       "text": [
        "\n",
        "{u'name': u'deep hardcore'}"
       ]
      },
      {
       "output_type": "stream",
       "stream": "stdout",
       "text": [
        "\n",
        "{u'name': u'deep hardstyle'}"
       ]
      },
      {
       "output_type": "stream",
       "stream": "stdout",
       "text": [
        "\n",
        "{u'name': u'deep house'}"
       ]
      },
      {
       "output_type": "stream",
       "stream": "stdout",
       "text": [
        "\n",
        "{u'name': u'deep italo disco'}"
       ]
      },
      {
       "output_type": "stream",
       "stream": "stdout",
       "text": [
        "\n",
        "{u'name': u'deep liquid'}"
       ]
      },
      {
       "output_type": "stream",
       "stream": "stdout",
       "text": [
        "\n",
        "{u'name': u'deep northern soul'}"
       ]
      },
      {
       "output_type": "stream",
       "stream": "stdout",
       "text": [
        "\n",
        "{u'name': u'deep orgcore'}"
       ]
      },
      {
       "output_type": "stream",
       "stream": "stdout",
       "text": [
        "\n",
        "{u'name': u'deep psytrance'}"
       ]
      },
      {
       "output_type": "stream",
       "stream": "stdout",
       "text": [
        "\n",
        "{u'name': u'deep ragga'}"
       ]
      },
      {
       "output_type": "stream",
       "stream": "stdout",
       "text": [
        "\n",
        "{u'name': u'deep soul house'}"
       ]
      },
      {
       "output_type": "stream",
       "stream": "stdout",
       "text": [
        "\n",
        "{u'name': u'deep space rock'}"
       ]
      },
      {
       "output_type": "stream",
       "stream": "stdout",
       "text": [
        "\n",
        "{u'name': u'deep tech house'}"
       ]
      },
      {
       "output_type": "stream",
       "stream": "stdout",
       "text": [
        "\n",
        "{u'name': u'deep trap'}"
       ]
      },
      {
       "output_type": "stream",
       "stream": "stdout",
       "text": [
        "\n",
        "{u'name': u'deeper house'}"
       ]
      },
      {
       "output_type": "stream",
       "stream": "stdout",
       "text": [
        "\n",
        "{u'name': u'deeper tech house'}"
       ]
      },
      {
       "output_type": "stream",
       "stream": "stdout",
       "text": [
        "\n",
        "{u'name': u'delta blues'}"
       ]
      },
      {
       "output_type": "stream",
       "stream": "stdout",
       "text": [
        "\n",
        "{u'name': u'demoscene'}"
       ]
      },
      {
       "output_type": "stream",
       "stream": "stdout",
       "text": [
        "\n",
        "{u'name': u'denver indie'}"
       ]
      },
      {
       "output_type": "stream",
       "stream": "stdout",
       "text": [
        "\n",
        "{u'name': u'depressive black metal'}"
       ]
      },
      {
       "output_type": "stream",
       "stream": "stdout",
       "text": [
        "\n",
        "{u'name': u'desert blues'}"
       ]
      },
      {
       "output_type": "stream",
       "stream": "stdout",
       "text": [
        "\n",
        "{u'name': u'desi'}"
       ]
      },
      {
       "output_type": "stream",
       "stream": "stdout",
       "text": [
        "\n",
        "{u'name': u'destroy techno'}"
       ]
      },
      {
       "output_type": "stream",
       "stream": "stdout",
       "text": [
        "\n",
        "{u'name': u'detroit hip hop'}"
       ]
      },
      {
       "output_type": "stream",
       "stream": "stdout",
       "text": [
        "\n",
        "{u'name': u'detroit techno'}"
       ]
      },
      {
       "output_type": "stream",
       "stream": "stdout",
       "text": [
        "\n",
        "{u'name': u'didgeridoo'}"
       ]
      },
      {
       "output_type": "stream",
       "stream": "stdout",
       "text": [
        "\n",
        "{u'name': u'digital hardcore'}"
       ]
      },
      {
       "output_type": "stream",
       "stream": "stdout",
       "text": [
        "\n",
        "{u'name': u'dirty south rap'}"
       ]
      },
      {
       "output_type": "stream",
       "stream": "stdout",
       "text": [
        "\n",
        "{u'name': u'dirty texas rap'}"
       ]
      },
      {
       "output_type": "stream",
       "stream": "stdout",
       "text": [
        "\n",
        "{u'name': u'disco'}"
       ]
      },
      {
       "output_type": "stream",
       "stream": "stdout",
       "text": [
        "\n",
        "{u'name': u'disco house'}"
       ]
      },
      {
       "output_type": "stream",
       "stream": "stdout",
       "text": [
        "\n",
        "{u'name': u'discofox'}"
       ]
      },
      {
       "output_type": "stream",
       "stream": "stdout",
       "text": [
        "\n",
        "{u'name': u'dixieland'}"
       ]
      },
      {
       "output_type": "stream",
       "stream": "stdout",
       "text": [
        "\n",
        "{u'name': u'djent'}"
       ]
      },
      {
       "output_type": "stream",
       "stream": "stdout",
       "text": [
        "\n",
        "{u'name': u'dominican pop'}"
       ]
      },
      {
       "output_type": "stream",
       "stream": "stdout",
       "text": [
        "\n",
        "{u'name': u'doo-wop'}"
       ]
      },
      {
       "output_type": "stream",
       "stream": "stdout",
       "text": [
        "\n",
        "{u'name': u'doom metal'}"
       ]
      },
      {
       "output_type": "stream",
       "stream": "stdout",
       "text": [
        "\n",
        "{u'name': u'doomcore'}"
       ]
      },
      {
       "output_type": "stream",
       "stream": "stdout",
       "text": [
        "\n",
        "{u'name': u'doujin'}"
       ]
      },
      {
       "output_type": "stream",
       "stream": "stdout",
       "text": [
        "\n",
        "{u'name': u'downtempo'}"
       ]
      },
      {
       "output_type": "stream",
       "stream": "stdout",
       "text": [
        "\n",
        "{u'name': u'downtempo fusion'}"
       ]
      },
      {
       "output_type": "stream",
       "stream": "stdout",
       "text": [
        "\n",
        "{u'name': u'downtempo trip hop'}"
       ]
      },
      {
       "output_type": "stream",
       "stream": "stdout",
       "text": [
        "\n",
        "{u'name': u'drama'}"
       ]
      },
      {
       "output_type": "stream",
       "stream": "stdout",
       "text": [
        "\n",
        "{u'name': u'dream pop'}"
       ]
      },
      {
       "output_type": "stream",
       "stream": "stdout",
       "text": [
        "\n",
        "{u'name': u'dreamo'}"
       ]
      },
      {
       "output_type": "stream",
       "stream": "stdout",
       "text": [
        "\n",
        "{u'name': u'drill and bass'}"
       ]
      },
      {
       "output_type": "stream",
       "stream": "stdout",
       "text": [
        "\n",
        "{u'name': u'drone'}"
       ]
      },
      {
       "output_type": "stream",
       "stream": "stdout",
       "text": [
        "\n",
        "{u'name': u'drone psych'}"
       ]
      },
      {
       "output_type": "stream",
       "stream": "stdout",
       "text": [
        "\n",
        "{u'name': u'drum and bass'}"
       ]
      },
      {
       "output_type": "stream",
       "stream": "stdout",
       "text": [
        "\n",
        "{u'name': u'drumfunk'}"
       ]
      },
      {
       "output_type": "stream",
       "stream": "stdout",
       "text": [
        "\n",
        "{u'name': u'dub'}"
       ]
      },
      {
       "output_type": "stream",
       "stream": "stdout",
       "text": [
        "\n",
        "{u'name': u'dub techno'}"
       ]
      },
      {
       "output_type": "stream",
       "stream": "stdout",
       "text": [
        "\n",
        "{u'name': u'dubstep'}"
       ]
      },
      {
       "output_type": "stream",
       "stream": "stdout",
       "text": [
        "\n",
        "{u'name': u'dubstep product'}"
       ]
      },
      {
       "output_type": "stream",
       "stream": "stdout",
       "text": [
        "\n",
        "{u'name': u'duranguense'}"
       ]
      },
      {
       "output_type": "stream",
       "stream": "stdout",
       "text": [
        "\n",
        "{u'name': u'dutch hip hop'}"
       ]
      },
      {
       "output_type": "stream",
       "stream": "stdout",
       "text": [
        "\n",
        "{u'name': u'dutch house'}"
       ]
      },
      {
       "output_type": "stream",
       "stream": "stdout",
       "text": [
        "\n",
        "{u'name': u'dutch pop'}"
       ]
      },
      {
       "output_type": "stream",
       "stream": "stdout",
       "text": [
        "\n",
        "{u'name': u'dutch rock'}"
       ]
      },
      {
       "output_type": "stream",
       "stream": "stdout",
       "text": [
        "\n",
        "{u'name': u'e6fi'}"
       ]
      },
      {
       "output_type": "stream",
       "stream": "stdout",
       "text": [
        "\n",
        "{u'name': u'early music'}"
       ]
      },
      {
       "output_type": "stream",
       "stream": "stdout",
       "text": [
        "\n",
        "{u'name': u'early music ensemble'}"
       ]
      },
      {
       "output_type": "stream",
       "stream": "stdout",
       "text": [
        "\n",
        "{u'name': u'east coast hip hop'}"
       ]
      },
      {
       "output_type": "stream",
       "stream": "stdout",
       "text": [
        "\n",
        "{u'name': u'easy listening'}"
       ]
      },
      {
       "output_type": "stream",
       "stream": "stdout",
       "text": [
        "\n",
        "{u'name': u'ebm'}"
       ]
      },
      {
       "output_type": "stream",
       "stream": "stdout",
       "text": [
        "\n",
        "{u'name': u'ectofolk'}"
       ]
      },
      {
       "output_type": "stream",
       "stream": "stdout",
       "text": [
        "\n",
        "{u'name': u'ecuadoria'}"
       ]
      },
      {
       "output_type": "stream",
       "stream": "stdout",
       "text": [
        "\n",
        "{u'name': u'edm'}"
       ]
      },
      {
       "output_type": "stream",
       "stream": "stdout",
       "text": [
        "\n",
        "{u'name': u'electric blues'}"
       ]
      },
      {
       "output_type": "stream",
       "stream": "stdout",
       "text": [
        "\n",
        "{u'name': u'electro'}"
       ]
      },
      {
       "output_type": "stream",
       "stream": "stdout",
       "text": [
        "\n",
        "{u'name': u'electro dub'}"
       ]
      },
      {
       "output_type": "stream",
       "stream": "stdout",
       "text": [
        "\n",
        "{u'name': u'electro house'}"
       ]
      },
      {
       "output_type": "stream",
       "stream": "stdout",
       "text": [
        "\n",
        "{u'name': u'electro jazz'}"
       ]
      },
      {
       "output_type": "stream",
       "stream": "stdout",
       "text": [
        "\n",
        "{u'name': u'electro latino'}"
       ]
      },
      {
       "output_type": "stream",
       "stream": "stdout",
       "text": [
        "\n",
        "{u'name': u'electro swing'}"
       ]
      },
      {
       "output_type": "stream",
       "stream": "stdout",
       "text": [
        "\n",
        "{u'name': u'electro trash'}"
       ]
      },
      {
       "output_type": "stream",
       "stream": "stdout",
       "text": [
        "\n",
        "{u'name': u'electro-industrial'}"
       ]
      },
      {
       "output_type": "stream",
       "stream": "stdout",
       "text": [
        "\n",
        "{u'name': u'electroacoustic improvisation'}"
       ]
      },
      {
       "output_type": "stream",
       "stream": "stdout",
       "text": [
        "\n",
        "{u'name': u'electroclash'}"
       ]
      },
      {
       "output_type": "stream",
       "stream": "stdout",
       "text": [
        "\n",
        "{u'name': u'electrofox'}"
       ]
      },
      {
       "output_type": "stream",
       "stream": "stdout",
       "text": [
        "\n",
        "{u'name': u'electronic'}"
       ]
      },
      {
       "output_type": "stream",
       "stream": "stdout",
       "text": [
        "\n",
        "{u'name': u'electronica'}"
       ]
      },
      {
       "output_type": "stream",
       "stream": "stdout",
       "text": [
        "\n",
        "{u'name': u'electronicore'}"
       ]
      },
      {
       "output_type": "stream",
       "stream": "stdout",
       "text": [
        "\n",
        "{u'name': u'electropowerpop'}"
       ]
      },
      {
       "output_type": "stream",
       "stream": "stdout",
       "text": [
        "\n",
        "{u'name': u'emo'}"
       ]
      },
      {
       "output_type": "stream",
       "stream": "stdout",
       "text": [
        "\n",
        "{u'name': u'emo punk'}"
       ]
      },
      {
       "output_type": "stream",
       "stream": "stdout",
       "text": [
        "\n",
        "{u'name': u'enka'}"
       ]
      },
      {
       "output_type": "stream",
       "stream": "stdout",
       "text": [
        "\n",
        "{u'name': u'entehno'}"
       ]
      },
      {
       "output_type": "stream",
       "stream": "stdout",
       "text": [
        "\n",
        "{u'name': u'environmental'}"
       ]
      },
      {
       "output_type": "stream",
       "stream": "stdout",
       "text": [
        "\n",
        "{u'name': u'estonian pop'}"
       ]
      },
      {
       "output_type": "stream",
       "stream": "stdout",
       "text": [
        "\n",
        "{u'name': u'ethereal gothic'}"
       ]
      },
      {
       "output_type": "stream",
       "stream": "stdout",
       "text": [
        "\n",
        "{u'name': u'ethereal wave'}"
       ]
      },
      {
       "output_type": "stream",
       "stream": "stdout",
       "text": [
        "\n",
        "{u'name': u'etherpop'}"
       ]
      },
      {
       "output_type": "stream",
       "stream": "stdout",
       "text": [
        "\n",
        "{u'name': u'ethiopian pop'}"
       ]
      },
      {
       "output_type": "stream",
       "stream": "stdout",
       "text": [
        "\n",
        "{u'name': u'eurobeat'}"
       ]
      },
      {
       "output_type": "stream",
       "stream": "stdout",
       "text": [
        "\n",
        "{u'name': u'eurodance'}"
       ]
      },
      {
       "output_type": "stream",
       "stream": "stdout",
       "text": [
        "\n",
        "{u'name': u'europop'}"
       ]
      },
      {
       "output_type": "stream",
       "stream": "stdout",
       "text": [
        "\n",
        "{u'name': u'euroska'}"
       ]
      },
      {
       "output_type": "stream",
       "stream": "stdout",
       "text": [
        "\n",
        "{u'name': u'eurovision'}"
       ]
      },
      {
       "output_type": "stream",
       "stream": "stdout",
       "text": [
        "\n",
        "{u'name': u'exotica'}"
       ]
      },
      {
       "output_type": "stream",
       "stream": "stdout",
       "text": [
        "\n",
        "{u'name': u'experimental'}"
       ]
      },
      {
       "output_type": "stream",
       "stream": "stdout",
       "text": [
        "\n",
        "{u'name': u'experimental dubstep'}"
       ]
      },
      {
       "output_type": "stream",
       "stream": "stdout",
       "text": [
        "\n",
        "{u'name': u'experimental psych'}"
       ]
      },
      {
       "output_type": "stream",
       "stream": "stdout",
       "text": [
        "\n",
        "{u'name': u'experimental rock'}"
       ]
      },
      {
       "output_type": "stream",
       "stream": "stdout",
       "text": [
        "\n",
        "{u'name': u'fado'}"
       ]
      },
      {
       "output_type": "stream",
       "stream": "stdout",
       "text": [
        "\n",
        "{u'name': u'fake'}"
       ]
      },
      {
       "output_type": "stream",
       "stream": "stdout",
       "text": [
        "\n",
        "{u'name': u'fallen angel'}"
       ]
      },
      {
       "output_type": "stream",
       "stream": "stdout",
       "text": [
        "\n",
        "{u'name': u'faroese pop'}"
       ]
      },
      {
       "output_type": "stream",
       "stream": "stdout",
       "text": [
        "\n",
        "{u'name': u'fast melodic punk'}"
       ]
      },
      {
       "output_type": "stream",
       "stream": "stdout",
       "text": [
        "\n",
        "{u'name': u'fidget house'}"
       ]
      },
      {
       "output_type": "stream",
       "stream": "stdout",
       "text": [
        "\n",
        "{u'name': u'filmi'}"
       ]
      },
      {
       "output_type": "stream",
       "stream": "stdout",
       "text": [
        "\n",
        "{u'name': u'filter house'}"
       ]
      },
      {
       "output_type": "stream",
       "stream": "stdout",
       "text": [
        "\n",
        "{u'name': u'filthstep'}"
       ]
      },
      {
       "output_type": "stream",
       "stream": "stdout",
       "text": [
        "\n",
        "{u'name': u'fingerstyle'}"
       ]
      },
      {
       "output_type": "stream",
       "stream": "stdout",
       "text": [
        "\n",
        "{u'name': u'finnish hardcore'}"
       ]
      },
      {
       "output_type": "stream",
       "stream": "stdout",
       "text": [
        "\n",
        "{u'name': u'finnish hip hop'}"
       ]
      },
      {
       "output_type": "stream",
       "stream": "stdout",
       "text": [
        "\n",
        "{u'name': u'finnish indie'}"
       ]
      },
      {
       "output_type": "stream",
       "stream": "stdout",
       "text": [
        "\n",
        "{u'name': u'finnish jazz'}"
       ]
      },
      {
       "output_type": "stream",
       "stream": "stdout",
       "text": [
        "\n",
        "{u'name': u'finnish pop'}"
       ]
      },
      {
       "output_type": "stream",
       "stream": "stdout",
       "text": [
        "\n",
        "{u'name': u'flamenco'}"
       ]
      },
      {
       "output_type": "stream",
       "stream": "stdout",
       "text": [
        "\n",
        "{u'name': u'flick hop'}"
       ]
      },
      {
       "output_type": "stream",
       "stream": "stdout",
       "text": [
        "\n",
        "{u'name': u'folk'}"
       ]
      },
      {
       "output_type": "stream",
       "stream": "stdout",
       "text": [
        "\n",
        "{u'name': u'folk christmas'}"
       ]
      },
      {
       "output_type": "stream",
       "stream": "stdout",
       "text": [
        "\n",
        "{u'name': u'folk metal'}"
       ]
      },
      {
       "output_type": "stream",
       "stream": "stdout",
       "text": [
        "\n",
        "{u'name': u'folk punk'}"
       ]
      },
      {
       "output_type": "stream",
       "stream": "stdout",
       "text": [
        "\n",
        "{u'name': u'folk rock'}"
       ]
      },
      {
       "output_type": "stream",
       "stream": "stdout",
       "text": [
        "\n",
        "{u'name': u'folk-pop'}"
       ]
      },
      {
       "output_type": "stream",
       "stream": "stdout",
       "text": [
        "\n",
        "{u'name': u'folk-prog'}"
       ]
      },
      {
       "output_type": "stream",
       "stream": "stdout",
       "text": [
        "\n",
        "{u'name': u'folklore argentino'}"
       ]
      },
      {
       "output_type": "stream",
       "stream": "stdout",
       "text": [
        "\n",
        "{u'name': u'folkmusik'}"
       ]
      },
      {
       "output_type": "stream",
       "stream": "stdout",
       "text": [
        "\n",
        "{u'name': u'footwork'}"
       ]
      },
      {
       "output_type": "stream",
       "stream": "stdout",
       "text": [
        "\n",
        "{u'name': u'forro'}"
       ]
      },
      {
       "output_type": "stream",
       "stream": "stdout",
       "text": [
        "\n",
        "{u'name': u'fourth world'}"
       ]
      },
      {
       "output_type": "stream",
       "stream": "stdout",
       "text": [
        "\n",
        "{u'name': u'freak folk'}"
       ]
      },
      {
       "output_type": "stream",
       "stream": "stdout",
       "text": [
        "\n",
        "{u'name': u'freakbeat'}"
       ]
      },
      {
       "output_type": "stream",
       "stream": "stdout",
       "text": [
        "\n",
        "{u'name': u'free improvisation'}"
       ]
      },
      {
       "output_type": "stream",
       "stream": "stdout",
       "text": [
        "\n",
        "{u'name': u'free jazz'}"
       ]
      },
      {
       "output_type": "stream",
       "stream": "stdout",
       "text": [
        "\n",
        "{u'name': u'freestyle'}"
       ]
      },
      {
       "output_type": "stream",
       "stream": "stdout",
       "text": [
        "\n",
        "{u'name': u'french folk'}"
       ]
      },
      {
       "output_type": "stream",
       "stream": "stdout",
       "text": [
        "\n",
        "{u'name': u'french folk pop'}"
       ]
      },
      {
       "output_type": "stream",
       "stream": "stdout",
       "text": [
        "\n",
        "{u'name': u'french hip hop'}"
       ]
      },
      {
       "output_type": "stream",
       "stream": "stdout",
       "text": [
        "\n",
        "{u'name': u'french indie pop'}"
       ]
      },
      {
       "output_type": "stream",
       "stream": "stdout",
       "text": [
        "\n",
        "{u'name': u'french movie tunes'}"
       ]
      },
      {
       "output_type": "stream",
       "stream": "stdout",
       "text": [
        "\n",
        "{u'name': u'french pop'}"
       ]
      },
      {
       "output_type": "stream",
       "stream": "stdout",
       "text": [
        "\n",
        "{u'name': u'french punk'}"
       ]
      },
      {
       "output_type": "stream",
       "stream": "stdout",
       "text": [
        "\n",
        "{u'name': u'french reggae'}"
       ]
      },
      {
       "output_type": "stream",
       "stream": "stdout",
       "text": [
        "\n",
        "{u'name': u'french rock'}"
       ]
      },
      {
       "output_type": "stream",
       "stream": "stdout",
       "text": [
        "\n",
        "{u'name': u'full on'}"
       ]
      },
      {
       "output_type": "stream",
       "stream": "stdout",
       "text": [
        "\n",
        "{u'name': u'funeral doom'}"
       ]
      },
      {
       "output_type": "stream",
       "stream": "stdout",
       "text": [
        "\n",
        "{u'name': u'funk'}"
       ]
      },
      {
       "output_type": "stream",
       "stream": "stdout",
       "text": [
        "\n",
        "{u'name': u'funk metal'}"
       ]
      },
      {
       "output_type": "stream",
       "stream": "stdout",
       "text": [
        "\n",
        "{u'name': u'funk rock'}"
       ]
      },
      {
       "output_type": "stream",
       "stream": "stdout",
       "text": [
        "\n",
        "{u'name': u'funky breaks'}"
       ]
      },
      {
       "output_type": "stream",
       "stream": "stdout",
       "text": [
        "\n",
        "{u'name': u'future ambient'}"
       ]
      },
      {
       "output_type": "stream",
       "stream": "stdout",
       "text": [
        "\n",
        "{u'name': u'future garage'}"
       ]
      },
      {
       "output_type": "stream",
       "stream": "stdout",
       "text": [
        "\n",
        "{u'name': u'futurepop'}"
       ]
      },
      {
       "output_type": "stream",
       "stream": "stdout",
       "text": [
        "\n",
        "{u'name': u'g funk'}"
       ]
      },
      {
       "output_type": "stream",
       "stream": "stdout",
       "text": [
        "\n",
        "{u'name': u'gabba'}"
       ]
      },
      {
       "output_type": "stream",
       "stream": "stdout",
       "text": [
        "\n",
        "{u'name': u'galego'}"
       ]
      },
      {
       "output_type": "stream",
       "stream": "stdout",
       "text": [
        "\n",
        "{u'name': u'gamecore'}"
       ]
      },
      {
       "output_type": "stream",
       "stream": "stdout",
       "text": [
        "\n",
        "{u'name': u'gamelan'}"
       ]
      },
      {
       "output_type": "stream",
       "stream": "stdout",
       "text": [
        "\n",
        "{u'name': u'gangster rap'}"
       ]
      },
      {
       "output_type": "stream",
       "stream": "stdout",
       "text": [
        "\n",
        "{u'name': u'garage pop'}"
       ]
      },
      {
       "output_type": "stream",
       "stream": "stdout",
       "text": [
        "\n",
        "{u'name': u'garage punk'}"
       ]
      },
      {
       "output_type": "stream",
       "stream": "stdout",
       "text": [
        "\n",
        "{u'name': u'garage punk blues'}"
       ]
      },
      {
       "output_type": "stream",
       "stream": "stdout",
       "text": [
        "\n",
        "{u'name': u'garage rock'}"
       ]
      },
      {
       "output_type": "stream",
       "stream": "stdout",
       "text": [
        "\n",
        "{u'name': u'gauze pop'}"
       ]
      },
      {
       "output_type": "stream",
       "stream": "stdout",
       "text": [
        "\n",
        "{u'name': u'gbvfi'}"
       ]
      },
      {
       "output_type": "stream",
       "stream": "stdout",
       "text": [
        "\n",
        "{u'name': u'geek folk'}"
       ]
      },
      {
       "output_type": "stream",
       "stream": "stdout",
       "text": [
        "\n",
        "{u'name': u'geek rock'}"
       ]
      },
      {
       "output_type": "stream",
       "stream": "stdout",
       "text": [
        "\n",
        "{u'name': u'german ccm'}"
       ]
      },
      {
       "output_type": "stream",
       "stream": "stdout",
       "text": [
        "\n",
        "{u'name': u'german hip hop'}"
       ]
      },
      {
       "output_type": "stream",
       "stream": "stdout",
       "text": [
        "\n",
        "{u'name': u'german indie'}"
       ]
      },
      {
       "output_type": "stream",
       "stream": "stdout",
       "text": [
        "\n",
        "{u'name': u'german metal'}"
       ]
      },
      {
       "output_type": "stream",
       "stream": "stdout",
       "text": [
        "\n",
        "{u'name': u'german oi'}"
       ]
      },
      {
       "output_type": "stream",
       "stream": "stdout",
       "text": [
        "\n",
        "{u'name': u'german pop'}"
       ]
      },
      {
       "output_type": "stream",
       "stream": "stdout",
       "text": [
        "\n",
        "{u'name': u'german pop rock'}"
       ]
      },
      {
       "output_type": "stream",
       "stream": "stdout",
       "text": [
        "\n",
        "{u'name': u'german punk'}"
       ]
      },
      {
       "output_type": "stream",
       "stream": "stdout",
       "text": [
        "\n",
        "{u'name': u'german show tunes'}"
       ]
      },
      {
       "output_type": "stream",
       "stream": "stdout",
       "text": [
        "\n",
        "{u'name': u'german techno'}"
       ]
      },
      {
       "output_type": "stream",
       "stream": "stdout",
       "text": [
        "\n",
        "{u'name': u'ghettotech'}"
       ]
      },
      {
       "output_type": "stream",
       "stream": "stdout",
       "text": [
        "\n",
        "{u'name': u'ghoststep'}"
       ]
      },
      {
       "output_type": "stream",
       "stream": "stdout",
       "text": [
        "\n",
        "{u'name': u'girl group'}"
       ]
      },
      {
       "output_type": "stream",
       "stream": "stdout",
       "text": [
        "\n",
        "{u'name': u'glam metal'}"
       ]
      },
      {
       "output_type": "stream",
       "stream": "stdout",
       "text": [
        "\n",
        "{u'name': u'glam rock'}"
       ]
      },
      {
       "output_type": "stream",
       "stream": "stdout",
       "text": [
        "\n",
        "{u'name': u'glitch'}"
       ]
      },
      {
       "output_type": "stream",
       "stream": "stdout",
       "text": [
        "\n",
        "{u'name': u'glitch hop'}"
       ]
      },
      {
       "output_type": "stream",
       "stream": "stdout",
       "text": [
        "\n",
        "{u'name': u'glitter trance'}"
       ]
      },
      {
       "output_type": "stream",
       "stream": "stdout",
       "text": [
        "\n",
        "{u'name': u'goa trance'}"
       ]
      },
      {
       "output_type": "stream",
       "stream": "stdout",
       "text": [
        "\n",
        "{u'name': u'goregrind'}"
       ]
      },
      {
       "output_type": "stream",
       "stream": "stdout",
       "text": [
        "\n",
        "{u'name': u'gospel'}"
       ]
      },
      {
       "output_type": "stream",
       "stream": "stdout",
       "text": [
        "\n",
        "{u'name': u'gospel blues'}"
       ]
      },
      {
       "output_type": "stream",
       "stream": "stdout",
       "text": [
        "\n",
        "{u'name': u'gospel reggae'}"
       ]
      },
      {
       "output_type": "stream",
       "stream": "stdout",
       "text": [
        "\n",
        "{u'name': u'gothic alternative'}"
       ]
      },
      {
       "output_type": "stream",
       "stream": "stdout",
       "text": [
        "\n",
        "{u'name': u'gothic americana'}"
       ]
      },
      {
       "output_type": "stream",
       "stream": "stdout",
       "text": [
        "\n",
        "{u'name': u'gothic doom'}"
       ]
      },
      {
       "output_type": "stream",
       "stream": "stdout",
       "text": [
        "\n",
        "{u'name': u'gothic metal'}"
       ]
      },
      {
       "output_type": "stream",
       "stream": "stdout",
       "text": [
        "\n",
        "{u'name': u'gothic post-punk'}"
       ]
      },
      {
       "output_type": "stream",
       "stream": "stdout",
       "text": [
        "\n",
        "{u'name': u'gothic rock'}"
       ]
      },
      {
       "output_type": "stream",
       "stream": "stdout",
       "text": [
        "\n",
        "{u'name': u'gothic symphonic metal'}"
       ]
      },
      {
       "output_type": "stream",
       "stream": "stdout",
       "text": [
        "\n",
        "{u'name': u'grave wave'}"
       ]
      },
      {
       "output_type": "stream",
       "stream": "stdout",
       "text": [
        "\n",
        "{u'name': u'greek hip hop'}"
       ]
      },
      {
       "output_type": "stream",
       "stream": "stdout",
       "text": [
        "\n",
        "{u'name': u'greek indie'}"
       ]
      },
      {
       "output_type": "stream",
       "stream": "stdout",
       "text": [
        "\n",
        "{u'name': u'grim death metal'}"
       ]
      },
      {
       "output_type": "stream",
       "stream": "stdout",
       "text": [
        "\n",
        "{u'name': u'grime'}"
       ]
      },
      {
       "output_type": "stream",
       "stream": "stdout",
       "text": [
        "\n",
        "{u'name': u'grindcore'}"
       ]
      },
      {
       "output_type": "stream",
       "stream": "stdout",
       "text": [
        "\n",
        "{u'name': u'groove metal'}"
       ]
      },
      {
       "output_type": "stream",
       "stream": "stdout",
       "text": [
        "\n",
        "{u'name': u'grunge'}"
       ]
      },
      {
       "output_type": "stream",
       "stream": "stdout",
       "text": [
        "\n",
        "{u'name': u'grunge pop'}"
       ]
      },
      {
       "output_type": "stream",
       "stream": "stdout",
       "text": [
        "\n",
        "{u'name': u'grupera'}"
       ]
      },
      {
       "output_type": "stream",
       "stream": "stdout",
       "text": [
        "\n",
        "{u'name': u'guidance'}"
       ]
      },
      {
       "output_type": "stream",
       "stream": "stdout",
       "text": [
        "\n",
        "{u'name': u'gujarati'}"
       ]
      },
      {
       "output_type": "stream",
       "stream": "stdout",
       "text": [
        "\n",
        "{u'name': u'gypsy jazz'}"
       ]
      },
      {
       "output_type": "stream",
       "stream": "stdout",
       "text": [
        "\n",
        "{u'name': u'hands up'}"
       ]
      },
      {
       "output_type": "stream",
       "stream": "stdout",
       "text": [
        "\n",
        "{u'name': u'happy hardcore'}"
       ]
      },
      {
       "output_type": "stream",
       "stream": "stdout",
       "text": [
        "\n",
        "{u'name': u'hard alternative'}"
       ]
      },
      {
       "output_type": "stream",
       "stream": "stdout",
       "text": [
        "\n",
        "{u'name': u'hard bop'}"
       ]
      },
      {
       "output_type": "stream",
       "stream": "stdout",
       "text": [
        "\n",
        "{u'name': u'hard glam'}"
       ]
      },
      {
       "output_type": "stream",
       "stream": "stdout",
       "text": [
        "\n",
        "{u'name': u'hard house'}"
       ]
      },
      {
       "output_type": "stream",
       "stream": "stdout",
       "text": [
        "\n",
        "{u'name': u'hard rock'}"
       ]
      },
      {
       "output_type": "stream",
       "stream": "stdout",
       "text": [
        "\n",
        "{u'name': u'hard stoner rock'}"
       ]
      },
      {
       "output_type": "stream",
       "stream": "stdout",
       "text": [
        "\n",
        "{u'name': u'hard trance'}"
       ]
      },
      {
       "output_type": "stream",
       "stream": "stdout",
       "text": [
        "\n",
        "{u'name': u'hardcore'}"
       ]
      },
      {
       "output_type": "stream",
       "stream": "stdout",
       "text": [
        "\n",
        "{u'name': u'hardcore breaks'}"
       ]
      },
      {
       "output_type": "stream",
       "stream": "stdout",
       "text": [
        "\n",
        "{u'name': u'hardcore hip hop'}"
       ]
      },
      {
       "output_type": "stream",
       "stream": "stdout",
       "text": [
        "\n",
        "{u'name': u'hardcore punk'}"
       ]
      },
      {
       "output_type": "stream",
       "stream": "stdout",
       "text": [
        "\n",
        "{u'name': u'hardcore techno'}"
       ]
      },
      {
       "output_type": "stream",
       "stream": "stdout",
       "text": [
        "\n",
        "{u'name': u'hardstyle'}"
       ]
      },
      {
       "output_type": "stream",
       "stream": "stdout",
       "text": [
        "\n",
        "{u'name': u'harmonica blues'}"
       ]
      },
      {
       "output_type": "stream",
       "stream": "stdout",
       "text": [
        "\n",
        "{u'name': u'harp'}"
       ]
      },
      {
       "output_type": "stream",
       "stream": "stdout",
       "text": [
        "\n",
        "{u'name': u'hatecore'}"
       ]
      },
      {
       "output_type": "stream",
       "stream": "stdout",
       "text": [
        "\n",
        "{u'name': u'hauntology'}"
       ]
      },
      {
       "output_type": "stream",
       "stream": "stdout",
       "text": [
        "\n",
        "{u'name': u'hawaiian'}"
       ]
      },
      {
       "output_type": "stream",
       "stream": "stdout",
       "text": [
        "\n",
        "{u'name': u'healing'}"
       ]
      },
      {
       "output_type": "stream",
       "stream": "stdout",
       "text": [
        "\n",
        "{u'name': u'heavy alternative'}"
       ]
      },
      {
       "output_type": "stream",
       "stream": "stdout",
       "text": [
        "\n",
        "{u'name': u'heavy christmas'}"
       ]
      },
      {
       "output_type": "stream",
       "stream": "stdout",
       "text": [
        "\n",
        "{u'name': u'heavy gothic rock'}"
       ]
      },
      {
       "output_type": "stream",
       "stream": "stdout",
       "text": [
        "\n",
        "{u'name': u'hi nrg'}"
       ]
      },
      {
       "output_type": "stream",
       "stream": "stdout",
       "text": [
        "\n",
        "{u'name': u'highlife'}"
       ]
      },
      {
       "output_type": "stream",
       "stream": "stdout",
       "text": [
        "\n",
        "{u'name': u'hindustani classical'}"
       ]
      },
      {
       "output_type": "stream",
       "stream": "stdout",
       "text": [
        "\n",
        "{u'name': u'hip hop'}"
       ]
      },
      {
       "output_type": "stream",
       "stream": "stdout",
       "text": [
        "\n",
        "{u'name': u'hip hop quebecois'}"
       ]
      },
      {
       "output_type": "stream",
       "stream": "stdout",
       "text": [
        "\n",
        "{u'name': u'hip hop tuga'}"
       ]
      },
      {
       "output_type": "stream",
       "stream": "stdout",
       "text": [
        "\n",
        "{u'name': u'hip house'}"
       ]
      },
      {
       "output_type": "stream",
       "stream": "stdout",
       "text": [
        "\n",
        "{u'name': u'hip pop'}"
       ]
      },
      {
       "output_type": "stream",
       "stream": "stdout",
       "text": [
        "\n",
        "{u'name': u'hiplife'}"
       ]
      },
      {
       "output_type": "stream",
       "stream": "stdout",
       "text": [
        "\n",
        "{u'name': u'hollywood'}"
       ]
      },
      {
       "output_type": "stream",
       "stream": "stdout",
       "text": [
        "\n",
        "{u'name': u'horror punk'}"
       ]
      },
      {
       "output_type": "stream",
       "stream": "stdout",
       "text": [
        "\n",
        "{u'name': u'house'}"
       ]
      },
      {
       "output_type": "stream",
       "stream": "stdout",
       "text": [
        "\n",
        "{u'name': u'hungarian hip hop'}"
       ]
      },
      {
       "output_type": "stream",
       "stream": "stdout",
       "text": [
        "\n",
        "{u'name': u'hungarian pop'}"
       ]
      },
      {
       "output_type": "stream",
       "stream": "stdout",
       "text": [
        "\n",
        "{u'name': u'hungarian rock'}"
       ]
      },
      {
       "output_type": "stream",
       "stream": "stdout",
       "text": [
        "\n",
        "{u'name': u'hurban'}"
       ]
      },
      {
       "output_type": "stream",
       "stream": "stdout",
       "text": [
        "\n",
        "{u'name': u'hyphy'}"
       ]
      },
      {
       "output_type": "stream",
       "stream": "stdout",
       "text": [
        "\n",
        "{u'name': u'icelandic pop'}"
       ]
      },
      {
       "output_type": "stream",
       "stream": "stdout",
       "text": [
        "\n",
        "{u'name': u'idol'}"
       ]
      },
      {
       "output_type": "stream",
       "stream": "stdout",
       "text": [
        "\n",
        "{u'name': u'illbient'}"
       ]
      },
      {
       "output_type": "stream",
       "stream": "stdout",
       "text": [
        "\n",
        "{u'name': u'indian classical'}"
       ]
      },
      {
       "output_type": "stream",
       "stream": "stdout",
       "text": [
        "\n",
        "{u'name': u'indian pop'}"
       ]
      },
      {
       "output_type": "stream",
       "stream": "stdout",
       "text": [
        "\n",
        "{u'name': u'indian rock'}"
       ]
      },
      {
       "output_type": "stream",
       "stream": "stdout",
       "text": [
        "\n",
        "{u'name': u'indie christmas'}"
       ]
      },
      {
       "output_type": "stream",
       "stream": "stdout",
       "text": [
        "\n",
        "{u'name': u'indie dream pop'}"
       ]
      },
      {
       "output_type": "stream",
       "stream": "stdout",
       "text": [
        "\n",
        "{u'name': u'indie emo'}"
       ]
      },
      {
       "output_type": "stream",
       "stream": "stdout",
       "text": [
        "\n",
        "{u'name': u'indie emo rock'}"
       ]
      },
      {
       "output_type": "stream",
       "stream": "stdout",
       "text": [
        "\n",
        "{u'name': u'indie folk'}"
       ]
      },
      {
       "output_type": "stream",
       "stream": "stdout",
       "text": [
        "\n",
        "{u'name': u'indie fuzzpop'}"
       ]
      },
      {
       "output_type": "stream",
       "stream": "stdout",
       "text": [
        "\n",
        "{u'name': u'indie pop'}"
       ]
      },
      {
       "output_type": "stream",
       "stream": "stdout",
       "text": [
        "\n",
        "{u'name': u'indie psych-pop'}"
       ]
      },
      {
       "output_type": "stream",
       "stream": "stdout",
       "text": [
        "\n",
        "{u'name': u'indie rock'}"
       ]
      },
      {
       "output_type": "stream",
       "stream": "stdout",
       "text": [
        "\n",
        "{u'name': u'indie shoegaze'}"
       ]
      },
      {
       "output_type": "stream",
       "stream": "stdout",
       "text": [
        "\n",
        "{u'name': u'indie singer-songwriter'}"
       ]
      },
      {
       "output_type": "stream",
       "stream": "stdout",
       "text": [
        "\n",
        "{u'name': u'indietronica'}"
       ]
      },
      {
       "output_type": "stream",
       "stream": "stdout",
       "text": [
        "\n",
        "{u'name': u'indonesian indie'}"
       ]
      },
      {
       "output_type": "stream",
       "stream": "stdout",
       "text": [
        "\n",
        "{u'name': u'indonesian pop'}"
       ]
      },
      {
       "output_type": "stream",
       "stream": "stdout",
       "text": [
        "\n",
        "{u'name': u'indorock'}"
       ]
      },
      {
       "output_type": "stream",
       "stream": "stdout",
       "text": [
        "\n",
        "{u'name': u'industrial'}"
       ]
      },
      {
       "output_type": "stream",
       "stream": "stdout",
       "text": [
        "\n",
        "{u'name': u'industrial metal'}"
       ]
      },
      {
       "output_type": "stream",
       "stream": "stdout",
       "text": [
        "\n",
        "{u'name': u'industrial rock'}"
       ]
      },
      {
       "output_type": "stream",
       "stream": "stdout",
       "text": [
        "\n",
        "{u'name': u'instrumental post rock'}"
       ]
      },
      {
       "output_type": "stream",
       "stream": "stdout",
       "text": [
        "\n",
        "{u'name': u'intelligent dance music'}"
       ]
      },
      {
       "output_type": "stream",
       "stream": "stdout",
       "text": [
        "\n",
        "{u'name': u'irish folk'}"
       ]
      },
      {
       "output_type": "stream",
       "stream": "stdout",
       "text": [
        "\n",
        "{u'name': u'irish rock'}"
       ]
      },
      {
       "output_type": "stream",
       "stream": "stdout",
       "text": [
        "\n",
        "{u'name': u'iskelma'}"
       ]
      },
      {
       "output_type": "stream",
       "stream": "stdout",
       "text": [
        "\n",
        "{u'name': u'islamic recitation'}"
       ]
      },
      {
       "output_type": "stream",
       "stream": "stdout",
       "text": [
        "\n",
        "{u'name': u'israeli rock'}"
       ]
      },
      {
       "output_type": "stream",
       "stream": "stdout",
       "text": [
        "\n",
        "{u'name': u'italian disco'}"
       ]
      },
      {
       "output_type": "stream",
       "stream": "stdout",
       "text": [
        "\n",
        "{u'name': u'italian folk'}"
       ]
      },
      {
       "output_type": "stream",
       "stream": "stdout",
       "text": [
        "\n",
        "{u'name': u'italian hip hop'}"
       ]
      },
      {
       "output_type": "stream",
       "stream": "stdout",
       "text": [
        "\n",
        "{u'name': u'italian indie pop'}"
       ]
      },
      {
       "output_type": "stream",
       "stream": "stdout",
       "text": [
        "\n",
        "{u'name': u'italian jazz'}"
       ]
      },
      {
       "output_type": "stream",
       "stream": "stdout",
       "text": [
        "\n",
        "{u'name': u'italian pop'}"
       ]
      },
      {
       "output_type": "stream",
       "stream": "stdout",
       "text": [
        "\n",
        "{u'name': u'italian progressive rock'}"
       ]
      },
      {
       "output_type": "stream",
       "stream": "stdout",
       "text": [
        "\n",
        "{u'name': u'italian punk'}"
       ]
      },
      {
       "output_type": "stream",
       "stream": "stdout",
       "text": [
        "\n",
        "{u'name': u'italo dance'}"
       ]
      },
      {
       "output_type": "stream",
       "stream": "stdout",
       "text": [
        "\n",
        "{u'name': u'j-alt'}"
       ]
      },
      {
       "output_type": "stream",
       "stream": "stdout",
       "text": [
        "\n",
        "{u'name': u'j-ambient'}"
       ]
      },
      {
       "output_type": "stream",
       "stream": "stdout",
       "text": [
        "\n",
        "{u'name': u'j-core'}"
       ]
      },
      {
       "output_type": "stream",
       "stream": "stdout",
       "text": [
        "\n",
        "{u'name': u'j-dance'}"
       ]
      },
      {
       "output_type": "stream",
       "stream": "stdout",
       "text": [
        "\n",
        "{u'name': u'j-idol'}"
       ]
      },
      {
       "output_type": "stream",
       "stream": "stdout",
       "text": [
        "\n",
        "{u'name': u'j-indie'}"
       ]
      },
      {
       "output_type": "stream",
       "stream": "stdout",
       "text": [
        "\n",
        "{u'name': u'j-metal'}"
       ]
      },
      {
       "output_type": "stream",
       "stream": "stdout",
       "text": [
        "\n",
        "{u'name': u'j-pop'}"
       ]
      },
      {
       "output_type": "stream",
       "stream": "stdout",
       "text": [
        "\n",
        "{u'name': u'j-poppunk'}"
       ]
      },
      {
       "output_type": "stream",
       "stream": "stdout",
       "text": [
        "\n",
        "{u'name': u'j-poprock'}"
       ]
      },
      {
       "output_type": "stream",
       "stream": "stdout",
       "text": [
        "\n",
        "{u'name': u'j-punk'}"
       ]
      },
      {
       "output_type": "stream",
       "stream": "stdout",
       "text": [
        "\n",
        "{u'name': u'j-rap'}"
       ]
      },
      {
       "output_type": "stream",
       "stream": "stdout",
       "text": [
        "\n",
        "{u'name': u'j-rock'}"
       ]
      },
      {
       "output_type": "stream",
       "stream": "stdout",
       "text": [
        "\n",
        "{u'name': u'j-theme'}"
       ]
      },
      {
       "output_type": "stream",
       "stream": "stdout",
       "text": [
        "\n",
        "{u'name': u'jam band'}"
       ]
      },
      {
       "output_type": "stream",
       "stream": "stdout",
       "text": [
        "\n",
        "{u'name': u'jangle pop'}"
       ]
      },
      {
       "output_type": "stream",
       "stream": "stdout",
       "text": [
        "\n",
        "{u'name': u'jangle rock'}"
       ]
      },
      {
       "output_type": "stream",
       "stream": "stdout",
       "text": [
        "\n",
        "{u'name': u'japanese jazztronica'}"
       ]
      },
      {
       "output_type": "stream",
       "stream": "stdout",
       "text": [
        "\n",
        "{u'name': u'japanese psychedelic'}"
       ]
      },
      {
       "output_type": "stream",
       "stream": "stdout",
       "text": [
        "\n",
        "{u'name': u'japanese r&b'}"
       ]
      },
      {
       "output_type": "stream",
       "stream": "stdout",
       "text": [
        "\n",
        "{u'name': u'japanese standards'}"
       ]
      },
      {
       "output_type": "stream",
       "stream": "stdout",
       "text": [
        "\n",
        "{u'name': u'japanese traditional'}"
       ]
      },
      {
       "output_type": "stream",
       "stream": "stdout",
       "text": [
        "\n",
        "{u'name': u'japanoise'}"
       ]
      },
      {
       "output_type": "stream",
       "stream": "stdout",
       "text": [
        "\n",
        "{u'name': u'jazz'}"
       ]
      },
      {
       "output_type": "stream",
       "stream": "stdout",
       "text": [
        "\n",
        "{u'name': u'jazz bass'}"
       ]
      },
      {
       "output_type": "stream",
       "stream": "stdout",
       "text": [
        "\n",
        "{u'name': u'jazz blues'}"
       ]
      },
      {
       "output_type": "stream",
       "stream": "stdout",
       "text": [
        "\n",
        "{u'name': u'jazz brass'}"
       ]
      },
      {
       "output_type": "stream",
       "stream": "stdout",
       "text": [
        "\n",
        "{u'name': u'jazz christmas'}"
       ]
      },
      {
       "output_type": "stream",
       "stream": "stdout",
       "text": [
        "\n",
        "{u'name': u'jazz funk'}"
       ]
      },
      {
       "output_type": "stream",
       "stream": "stdout",
       "text": [
        "\n",
        "{u'name': u'jazz fusion'}"
       ]
      },
      {
       "output_type": "stream",
       "stream": "stdout",
       "text": [
        "\n",
        "{u'name': u'jazz metal'}"
       ]
      },
      {
       "output_type": "stream",
       "stream": "stdout",
       "text": [
        "\n",
        "{u'name': u'jazz orchestra'}"
       ]
      },
      {
       "output_type": "stream",
       "stream": "stdout",
       "text": [
        "\n",
        "{u'name': u'jazz trio'}"
       ]
      },
      {
       "output_type": "stream",
       "stream": "stdout",
       "text": [
        "\n",
        "{u'name': u'jerk'}"
       ]
      },
      {
       "output_type": "stream",
       "stream": "stdout",
       "text": [
        "\n",
        "{u'name': u'jig and reel'}"
       ]
      },
      {
       "output_type": "stream",
       "stream": "stdout",
       "text": [
        "\n",
        "{u'name': u'judaica'}"
       ]
      },
      {
       "output_type": "stream",
       "stream": "stdout",
       "text": [
        "\n",
        "{u'name': u'jug band'}"
       ]
      },
      {
       "output_type": "stream",
       "stream": "stdout",
       "text": [
        "\n",
        "{u'name': u'juggalo'}"
       ]
      },
      {
       "output_type": "stream",
       "stream": "stdout",
       "text": [
        "\n",
        "{u'name': u'jump blues'}"
       ]
      },
      {
       "output_type": "stream",
       "stream": "stdout",
       "text": [
        "\n",
        "{u'name': u'jump up'}"
       ]
      },
      {
       "output_type": "stream",
       "stream": "stdout",
       "text": [
        "\n",
        "{u'name': u'jumpstyle'}"
       ]
      },
      {
       "output_type": "stream",
       "stream": "stdout",
       "text": [
        "\n",
        "{u'name': u'jungle'}"
       ]
      },
      {
       "output_type": "stream",
       "stream": "stdout",
       "text": [
        "\n",
        "{u'name': u'k-hop'}"
       ]
      },
      {
       "output_type": "stream",
       "stream": "stdout",
       "text": [
        "\n",
        "{u'name': u'k-indie'}"
       ]
      },
      {
       "output_type": "stream",
       "stream": "stdout",
       "text": [
        "\n",
        "{u'name': u'k-pop'}"
       ]
      },
      {
       "output_type": "stream",
       "stream": "stdout",
       "text": [
        "\n",
        "{u'name': u'k-rock'}"
       ]
      },
      {
       "output_type": "stream",
       "stream": "stdout",
       "text": [
        "\n",
        "{u'name': u'kabarett'}"
       ]
      },
      {
       "output_type": "stream",
       "stream": "stdout",
       "text": [
        "\n",
        "{u'name': u'kannada'}"
       ]
      },
      {
       "output_type": "stream",
       "stream": "stdout",
       "text": [
        "\n",
        "{u'name': u'karneval'}"
       ]
      },
      {
       "output_type": "stream",
       "stream": "stdout",
       "text": [
        "\n",
        "{u'name': u'kc indie'}"
       ]
      },
      {
       "output_type": "stream",
       "stream": "stdout",
       "text": [
        "\n",
        "{u'name': u'kindermusik'}"
       ]
      },
      {
       "output_type": "stream",
       "stream": "stdout",
       "text": [
        "\n",
        "{u'name': u'kirtan'}"
       ]
      },
      {
       "output_type": "stream",
       "stream": "stdout",
       "text": [
        "\n",
        "{u'name': u'kiwi rock'}"
       ]
      },
      {
       "output_type": "stream",
       "stream": "stdout",
       "text": [
        "\n",
        "{u'name': u'kizomba'}"
       ]
      },
      {
       "output_type": "stream",
       "stream": "stdout",
       "text": [
        "\n",
        "{u'name': u'klezmer'}"
       ]
      },
      {
       "output_type": "stream",
       "stream": "stdout",
       "text": [
        "\n",
        "{u'name': u'kompa'}"
       ]
      },
      {
       "output_type": "stream",
       "stream": "stdout",
       "text": [
        "\n",
        "{u'name': u'kraut rock'}"
       ]
      },
      {
       "output_type": "stream",
       "stream": "stdout",
       "text": [
        "\n",
        "{u'name': u'kuduro'}"
       ]
      },
      {
       "output_type": "stream",
       "stream": "stdout",
       "text": [
        "\n",
        "{u'name': u'kurdish folk'}"
       ]
      },
      {
       "output_type": "stream",
       "stream": "stdout",
       "text": [
        "\n",
        "{u'name': u'kwaito'}"
       ]
      },
      {
       "output_type": "stream",
       "stream": "stdout",
       "text": [
        "\n",
        "{u'name': u'la indie'}"
       ]
      },
      {
       "output_type": "stream",
       "stream": "stdout",
       "text": [
        "\n",
        "{u'name': u'laboratorio'}"
       ]
      },
      {
       "output_type": "stream",
       "stream": "stdout",
       "text": [
        "\n",
        "{u'name': u'laiko'}"
       ]
      },
      {
       "output_type": "stream",
       "stream": "stdout",
       "text": [
        "\n",
        "{u'name': u'latin'}"
       ]
      },
      {
       "output_type": "stream",
       "stream": "stdout",
       "text": [
        "\n",
        "{u'name': u'latin alternative'}"
       ]
      },
      {
       "output_type": "stream",
       "stream": "stdout",
       "text": [
        "\n",
        "{u'name': u'latin christian'}"
       ]
      },
      {
       "output_type": "stream",
       "stream": "stdout",
       "text": [
        "\n",
        "{u'name': u'latin christmas'}"
       ]
      },
      {
       "output_type": "stream",
       "stream": "stdout",
       "text": [
        "\n",
        "{u'name': u'latin electronica'}"
       ]
      },
      {
       "output_type": "stream",
       "stream": "stdout",
       "text": [
        "\n",
        "{u'name': u'latin hip hop'}"
       ]
      },
      {
       "output_type": "stream",
       "stream": "stdout",
       "text": [
        "\n",
        "{u'name': u'latin jazz'}"
       ]
      },
      {
       "output_type": "stream",
       "stream": "stdout",
       "text": [
        "\n",
        "{u'name': u'latin metal'}"
       ]
      },
      {
       "output_type": "stream",
       "stream": "stdout",
       "text": [
        "\n",
        "{u'name': u'latin pop'}"
       ]
      },
      {
       "output_type": "stream",
       "stream": "stdout",
       "text": [
        "\n",
        "{u'name': u'latvian pop'}"
       ]
      },
      {
       "output_type": "stream",
       "stream": "stdout",
       "text": [
        "\n",
        "{u'name': u'lds'}"
       ]
      },
      {
       "output_type": "stream",
       "stream": "stdout",
       "text": [
        "\n",
        "{u'name': u'leeds indie'}"
       ]
      },
      {
       "output_type": "stream",
       "stream": "stdout",
       "text": [
        "\n",
        "{u'name': u'levenslied'}"
       ]
      },
      {
       "output_type": "stream",
       "stream": "stdout",
       "text": [
        "\n",
        "{u'name': u'liedermacher'}"
       ]
      },
      {
       "output_type": "stream",
       "stream": "stdout",
       "text": [
        "\n",
        "{u'name': u'lilith'}"
       ]
      },
      {
       "output_type": "stream",
       "stream": "stdout",
       "text": [
        "\n",
        "{u'name': u'liquid funk'}"
       ]
      },
      {
       "output_type": "stream",
       "stream": "stdout",
       "text": [
        "\n",
        "{u'name': u'lithumania'}"
       ]
      },
      {
       "output_type": "stream",
       "stream": "stdout",
       "text": [
        "\n",
        "{u'name': u'lo star'}"
       ]
      },
      {
       "output_type": "stream",
       "stream": "stdout",
       "text": [
        "\n",
        "{u'name': u'lo-fi'}"
       ]
      },
      {
       "output_type": "stream",
       "stream": "stdout",
       "text": [
        "\n",
        "{u'name': u'louisiana blues'}"
       ]
      },
      {
       "output_type": "stream",
       "stream": "stdout",
       "text": [
        "\n",
        "{u'name': u'louisville indie'}"
       ]
      },
      {
       "output_type": "stream",
       "stream": "stdout",
       "text": [
        "\n",
        "{u'name': u'lounge'}"
       ]
      },
      {
       "output_type": "stream",
       "stream": "stdout",
       "text": [
        "\n",
        "{u'name': u'lounge house'}"
       ]
      },
      {
       "output_type": "stream",
       "stream": "stdout",
       "text": [
        "\n",
        "{u'name': u'lovers rock'}"
       ]
      },
      {
       "output_type": "stream",
       "stream": "stdout",
       "text": [
        "\n",
        "{u'name': u'lowercase'}"
       ]
      },
      {
       "output_type": "stream",
       "stream": "stdout",
       "text": [
        "\n",
        "{u'name': u'luk thung'}"
       ]
      },
      {
       "output_type": "stream",
       "stream": "stdout",
       "text": [
        "\n",
        "{u'name': u'madchester'}"
       ]
      },
      {
       "output_type": "stream",
       "stream": "stdout",
       "text": [
        "\n",
        "{u'name': u'maghreb'}"
       ]
      },
      {
       "output_type": "stream",
       "stream": "stdout",
       "text": [
        "\n",
        "{u'name': u'makossa'}"
       ]
      },
      {
       "output_type": "stream",
       "stream": "stdout",
       "text": [
        "\n",
        "{u'name': u'malagasy folk'}"
       ]
      },
      {
       "output_type": "stream",
       "stream": "stdout",
       "text": [
        "\n",
        "{u'name': u'malayalam'}"
       ]
      },
      {
       "output_type": "stream",
       "stream": "stdout",
       "text": [
        "\n",
        "{u'name': u'malaysian pop'}"
       ]
      },
      {
       "output_type": "stream",
       "stream": "stdout",
       "text": [
        "\n",
        "{u'name': u'mallet'}"
       ]
      },
      {
       "output_type": "stream",
       "stream": "stdout",
       "text": [
        "\n",
        "{u'name': u'mambo'}"
       ]
      },
      {
       "output_type": "stream",
       "stream": "stdout",
       "text": [
        "\n",
        "{u'name': u'mande pop'}"
       ]
      },
      {
       "output_type": "stream",
       "stream": "stdout",
       "text": [
        "\n",
        "{u'name': u'mandopop'}"
       ]
      },
      {
       "output_type": "stream",
       "stream": "stdout",
       "text": [
        "\n",
        "{u'name': u'manele'}"
       ]
      },
      {
       "output_type": "stream",
       "stream": "stdout",
       "text": [
        "\n",
        "{u'name': u'marching band'}"
       ]
      },
      {
       "output_type": "stream",
       "stream": "stdout",
       "text": [
        "\n",
        "{u'name': u'mariachi'}"
       ]
      },
      {
       "output_type": "stream",
       "stream": "stdout",
       "text": [
        "\n",
        "{u'name': u'martial industrial'}"
       ]
      },
      {
       "output_type": "stream",
       "stream": "stdout",
       "text": [
        "\n",
        "{u'name': u'mashup'}"
       ]
      },
      {
       "output_type": "stream",
       "stream": "stdout",
       "text": [
        "\n",
        "{u'name': u'math pop'}"
       ]
      },
      {
       "output_type": "stream",
       "stream": "stdout",
       "text": [
        "\n",
        "{u'name': u'math rock'}"
       ]
      },
      {
       "output_type": "stream",
       "stream": "stdout",
       "text": [
        "\n",
        "{u'name': u'mathcore'}"
       ]
      },
      {
       "output_type": "stream",
       "stream": "stdout",
       "text": [
        "\n",
        "{u'name': u'mbalax'}"
       ]
      },
      {
       "output_type": "stream",
       "stream": "stdout",
       "text": [
        "\n",
        "{u'name': u'medieval'}"
       ]
      },
      {
       "output_type": "stream",
       "stream": "stdout",
       "text": [
        "\n",
        "{u'name': u'medieval rock'}"
       ]
      },
      {
       "output_type": "stream",
       "stream": "stdout",
       "text": [
        "\n",
        "{u'name': u'meditation'}"
       ]
      },
      {
       "output_type": "stream",
       "stream": "stdout",
       "text": [
        "\n",
        "{u'name': u'mellow gold'}"
       ]
      },
      {
       "output_type": "stream",
       "stream": "stdout",
       "text": [
        "\n",
        "{u'name': u'melodic death metal'}"
       ]
      },
      {
       "output_type": "stream",
       "stream": "stdout",
       "text": [
        "\n",
        "{u'name': u'melodic hard rock'}"
       ]
      },
      {
       "output_type": "stream",
       "stream": "stdout",
       "text": [
        "\n",
        "{u'name': u'melodic hardcore'}"
       ]
      },
      {
       "output_type": "stream",
       "stream": "stdout",
       "text": [
        "\n",
        "{u'name': u'melodic metalcore'}"
       ]
      },
      {
       "output_type": "stream",
       "stream": "stdout",
       "text": [
        "\n",
        "{u'name': u'melodic power metal'}"
       ]
      },
      {
       "output_type": "stream",
       "stream": "stdout",
       "text": [
        "\n",
        "{u'name': u'melodic progressive metal'}"
       ]
      },
      {
       "output_type": "stream",
       "stream": "stdout",
       "text": [
        "\n",
        "{u'name': u'memphis blues'}"
       ]
      },
      {
       "output_type": "stream",
       "stream": "stdout",
       "text": [
        "\n",
        "{u'name': u'memphis hip hop'}"
       ]
      },
      {
       "output_type": "stream",
       "stream": "stdout",
       "text": [
        "\n",
        "{u'name': u'memphis soul'}"
       ]
      },
      {
       "output_type": "stream",
       "stream": "stdout",
       "text": [
        "\n",
        "{u'name': u'merengue'}"
       ]
      },
      {
       "output_type": "stream",
       "stream": "stdout",
       "text": [
        "\n",
        "{u'name': u'merengue urbano'}"
       ]
      },
      {
       "output_type": "stream",
       "stream": "stdout",
       "text": [
        "\n",
        "{u'name': u'merseybeat'}"
       ]
      },
      {
       "output_type": "stream",
       "stream": "stdout",
       "text": [
        "\n",
        "{u'name': u'metal'}"
       ]
      },
      {
       "output_type": "stream",
       "stream": "stdout",
       "text": [
        "\n",
        "{u'name': u'metal guitar'}"
       ]
      },
      {
       "output_type": "stream",
       "stream": "stdout",
       "text": [
        "\n",
        "{u'name': u'metalcore'}"
       ]
      },
      {
       "output_type": "stream",
       "stream": "stdout",
       "text": [
        "\n",
        "{u'name': u'metropopolis'}"
       ]
      },
      {
       "output_type": "stream",
       "stream": "stdout",
       "text": [
        "\n",
        "{u'name': u'mexican indie'}"
       ]
      },
      {
       "output_type": "stream",
       "stream": "stdout",
       "text": [
        "\n",
        "{u'name': u'mexican rock-and-roll'}"
       ]
      },
      {
       "output_type": "stream",
       "stream": "stdout",
       "text": [
        "\n",
        "{u'name': u'mexican son'}"
       ]
      },
      {
       "output_type": "stream",
       "stream": "stdout",
       "text": [
        "\n",
        "{u'name': u'mexican traditional'}"
       ]
      },
      {
       "output_type": "stream",
       "stream": "stdout",
       "text": [
        "\n",
        "{u'name': u'miami bass'}"
       ]
      },
      {
       "output_type": "stream",
       "stream": "stdout",
       "text": [
        "\n",
        "{u'name': u'michigan indie'}"
       ]
      },
      {
       "output_type": "stream",
       "stream": "stdout",
       "text": [
        "\n",
        "{u'name': u'microhouse'}"
       ]
      },
      {
       "output_type": "stream",
       "stream": "stdout",
       "text": [
        "\n",
        "{u'name': u'military band'}"
       ]
      },
      {
       "output_type": "stream",
       "stream": "stdout",
       "text": [
        "\n",
        "{u'name': u'minimal'}"
       ]
      },
      {
       "output_type": "stream",
       "stream": "stdout",
       "text": [
        "\n",
        "{u'name': u'minimal dub'}"
       ]
      },
      {
       "output_type": "stream",
       "stream": "stdout",
       "text": [
        "\n",
        "{u'name': u'minimal dubstep'}"
       ]
      },
      {
       "output_type": "stream",
       "stream": "stdout",
       "text": [
        "\n",
        "{u'name': u'minimal melodic techno'}"
       ]
      },
      {
       "output_type": "stream",
       "stream": "stdout",
       "text": [
        "\n",
        "{u'name': u'minimal techno'}"
       ]
      },
      {
       "output_type": "stream",
       "stream": "stdout",
       "text": [
        "\n",
        "{u'name': u'minimal wave'}"
       ]
      },
      {
       "output_type": "stream",
       "stream": "stdout",
       "text": [
        "\n",
        "{u'name': u'mizrahi'}"
       ]
      },
      {
       "output_type": "stream",
       "stream": "stdout",
       "text": [
        "\n",
        "{u'name': u'mod revival'}"
       ]
      },
      {
       "output_type": "stream",
       "stream": "stdout",
       "text": [
        "\n",
        "{u'name': u'modern blues'}"
       ]
      },
      {
       "output_type": "stream",
       "stream": "stdout",
       "text": [
        "\n",
        "{u'name': u'modern classical'}"
       ]
      },
      {
       "output_type": "stream",
       "stream": "stdout",
       "text": [
        "\n",
        "{u'name': u'modern country rock'}"
       ]
      },
      {
       "output_type": "stream",
       "stream": "stdout",
       "text": [
        "\n",
        "{u'name': u'modern downshift'}"
       ]
      },
      {
       "output_type": "stream",
       "stream": "stdout",
       "text": [
        "\n",
        "{u'name': u'modern free jazz'}"
       ]
      },
      {
       "output_type": "stream",
       "stream": "stdout",
       "text": [
        "\n",
        "{u'name': u'modern performance'}"
       ]
      },
      {
       "output_type": "stream",
       "stream": "stdout",
       "text": [
        "\n",
        "{u'name': u'modern southern rock'}"
       ]
      },
      {
       "output_type": "stream",
       "stream": "stdout",
       "text": [
        "\n",
        "{u'name': u'modern uplift'}"
       ]
      },
      {
       "output_type": "stream",
       "stream": "stdout",
       "text": [
        "\n",
        "{u'name': u'monastic'}"
       ]
      },
      {
       "output_type": "stream",
       "stream": "stdout",
       "text": [
        "\n",
        "{u'name': u'moombahton'}"
       ]
      },
      {
       "output_type": "stream",
       "stream": "stdout",
       "text": [
        "\n",
        "{u'name': u'more acoustic pop'}"
       ]
      },
      {
       "output_type": "stream",
       "stream": "stdout",
       "text": [
        "\n",
        "{u'name': u'more adult standards'}"
       ]
      },
      {
       "output_type": "stream",
       "stream": "stdout",
       "text": [
        "\n",
        "{u'name': u'more baroque'}"
       ]
      },
      {
       "output_type": "stream",
       "stream": "stdout",
       "text": [
        "\n",
        "{u'name': u'more brazilian pop'}"
       ]
      },
      {
       "output_type": "stream",
       "stream": "stdout",
       "text": [
        "\n",
        "{u'name': u'more canadian indie'}"
       ]
      },
      {
       "output_type": "stream",
       "stream": "stdout",
       "text": [
        "\n",
        "{u'name': u'more ccm'}"
       ]
      },
      {
       "output_type": "stream",
       "stream": "stdout",
       "text": [
        "\n",
        "{u'name': u'more cello'}"
       ]
      },
      {
       "output_type": "stream",
       "stream": "stdout",
       "text": [
        "\n",
        "{u'name': u'more christian rock'}"
       ]
      },
      {
       "output_type": "stream",
       "stream": "stdout",
       "text": [
        "\n",
        "{u'name': u'more classic garage rock'}"
       ]
      },
      {
       "output_type": "stream",
       "stream": "stdout",
       "text": [
        "\n",
        "{u'name': u'more classical piano'}"
       ]
      },
      {
       "output_type": "stream",
       "stream": "stdout",
       "text": [
        "\n",
        "{u'name': u'more comedy'}"
       ]
      },
      {
       "output_type": "stream",
       "stream": "stdout",
       "text": [
        "\n",
        "{u'name': u'more contemporary country'}"
       ]
      },
      {
       "output_type": "stream",
       "stream": "stdout",
       "text": [
        "\n",
        "{u'name': u'more dance pop'}"
       ]
      },
      {
       "output_type": "stream",
       "stream": "stdout",
       "text": [
        "\n",
        "{u'name': u'more deep chill'}"
       ]
      },
      {
       "output_type": "stream",
       "stream": "stdout",
       "text": [
        "\n",
        "{u'name': u'more deep house'}"
       ]
      },
      {
       "output_type": "stream",
       "stream": "stdout",
       "text": [
        "\n",
        "{u'name': u'more deeper house'}"
       ]
      },
      {
       "output_type": "stream",
       "stream": "stdout",
       "text": [
        "\n",
        "{u'name': u'more dub techno'}"
       ]
      },
      {
       "output_type": "stream",
       "stream": "stdout",
       "text": [
        "\n",
        "{u'name': u'more east coast hip hop'}"
       ]
      },
      {
       "output_type": "stream",
       "stream": "stdout",
       "text": [
        "\n",
        "{u'name': u'more eurodance'}"
       ]
      },
      {
       "output_type": "stream",
       "stream": "stdout",
       "text": [
        "\n",
        "{u'name': u'more free jazz'}"
       ]
      },
      {
       "output_type": "stream",
       "stream": "stdout",
       "text": [
        "\n",
        "{u'name': u'more german indie'}"
       ]
      },
      {
       "output_type": "stream",
       "stream": "stdout",
       "text": [
        "\n",
        "{u'name': u'more hardcore'}"
       ]
      },
      {
       "output_type": "stream",
       "stream": "stdout",
       "text": [
        "\n",
        "{u'name': u'more hardcore punk'}"
       ]
      },
      {
       "output_type": "stream",
       "stream": "stdout",
       "text": [
        "\n",
        "{u'name': u'more indie pop'}"
       ]
      },
      {
       "output_type": "stream",
       "stream": "stdout",
       "text": [
        "\n",
        "{u'name': u'more indie rock'}"
       ]
      },
      {
       "output_type": "stream",
       "stream": "stdout",
       "text": [
        "\n",
        "{u'name': u'more indie singer-songwriter'}"
       ]
      },
      {
       "output_type": "stream",
       "stream": "stdout",
       "text": [
        "\n",
        "{u'name': u'more jazz guitar'}"
       ]
      },
      {
       "output_type": "stream",
       "stream": "stdout",
       "text": [
        "\n",
        "{u'name': u'more jazz piano'}"
       ]
      },
      {
       "output_type": "stream",
       "stream": "stdout",
       "text": [
        "\n",
        "{u'name': u'more melodic death metal'}"
       ]
      },
      {
       "output_type": "stream",
       "stream": "stdout",
       "text": [
        "\n",
        "{u'name': u'more melodic hard rock'}"
       ]
      },
      {
       "output_type": "stream",
       "stream": "stdout",
       "text": [
        "\n",
        "{u'name': u'more melodic metalcore'}"
       ]
      },
      {
       "output_type": "stream",
       "stream": "stdout",
       "text": [
        "\n",
        "{u'name': u'more motown'}"
       ]
      },
      {
       "output_type": "stream",
       "stream": "stdout",
       "text": [
        "\n",
        "{u'name': u'more neo-synthpop'}"
       ]
      },
      {
       "output_type": "stream",
       "stream": "stdout",
       "text": [
        "\n",
        "{u'name': u'more new wave'}"
       ]
      },
      {
       "output_type": "stream",
       "stream": "stdout",
       "text": [
        "\n",
        "{u'name': u'more opera'}"
       ]
      },
      {
       "output_type": "stream",
       "stream": "stdout",
       "text": [
        "\n",
        "{u'name': u'more orchestral'}"
       ]
      },
      {
       "output_type": "stream",
       "stream": "stdout",
       "text": [
        "\n",
        "{u'name': u'more pop emo'}"
       ]
      },
      {
       "output_type": "stream",
       "stream": "stdout",
       "text": [
        "\n",
        "{u'name': u'more pop punk'}"
       ]
      },
      {
       "output_type": "stream",
       "stream": "stdout",
       "text": [
        "\n",
        "{u'name': u'more progressive house'}"
       ]
      },
      {
       "output_type": "stream",
       "stream": "stdout",
       "text": [
        "\n",
        "{u'name': u'more progressive trance'}"
       ]
      },
      {
       "output_type": "stream",
       "stream": "stdout",
       "text": [
        "\n",
        "{u'name': u'more psychobilly'}"
       ]
      },
      {
       "output_type": "stream",
       "stream": "stdout",
       "text": [
        "\n",
        "{u'name': u'more punk rock'}"
       ]
      },
      {
       "output_type": "stream",
       "stream": "stdout",
       "text": [
        "\n",
        "{u'name': u'more rai'}"
       ]
      },
      {
       "output_type": "stream",
       "stream": "stdout",
       "text": [
        "\n",
        "{u'name': u'more regional mexican'}"
       ]
      },
      {
       "output_type": "stream",
       "stream": "stdout",
       "text": [
        "\n",
        "{u'name': u'more smooth jazz'}"
       ]
      },
      {
       "output_type": "stream",
       "stream": "stdout",
       "text": [
        "\n",
        "{u'name': u'more soft rock'}"
       ]
      },
      {
       "output_type": "stream",
       "stream": "stdout",
       "text": [
        "\n",
        "{u'name': u'more soundtrack'}"
       ]
      },
      {
       "output_type": "stream",
       "stream": "stdout",
       "text": [
        "\n",
        "{u'name': u'more southern soul'}"
       ]
      },
      {
       "output_type": "stream",
       "stream": "stdout",
       "text": [
        "\n",
        "{u'name': u'more string quartet'}"
       ]
      },
      {
       "output_type": "stream",
       "stream": "stdout",
       "text": [
        "\n",
        "{u'name': u'more sunset lounge'}"
       ]
      },
      {
       "output_type": "stream",
       "stream": "stdout",
       "text": [
        "\n",
        "{u'name': u'more surf music'}"
       ]
      },
      {
       "output_type": "stream",
       "stream": "stdout",
       "text": [
        "\n",
        "{u'name': u'more symphonic black metal'}"
       ]
      },
      {
       "output_type": "stream",
       "stream": "stdout",
       "text": [
        "\n",
        "{u'name': u'more talent show'}"
       ]
      },
      {
       "output_type": "stream",
       "stream": "stdout",
       "text": [
        "\n",
        "{u'name': u'more tech house'}"
       ]
      },
      {
       "output_type": "stream",
       "stream": "stdout",
       "text": [
        "\n",
        "{u'name': u'more thrash metal'}"
       ]
      },
      {
       "output_type": "stream",
       "stream": "stdout",
       "text": [
        "\n",
        "{u'name': u'more turkish pop'}"
       ]
      },
      {
       "output_type": "stream",
       "stream": "stdout",
       "text": [
        "\n",
        "{u'name': u'more uplifting trance'}"
       ]
      },
      {
       "output_type": "stream",
       "stream": "stdout",
       "text": [
        "\n",
        "{u'name': u'more vocal house'}"
       ]
      },
      {
       "output_type": "stream",
       "stream": "stdout",
       "text": [
        "\n",
        "{u'name': u'more vocal jazz'}"
       ]
      },
      {
       "output_type": "stream",
       "stream": "stdout",
       "text": [
        "\n",
        "{u'name': u'morna'}"
       ]
      },
      {
       "output_type": "stream",
       "stream": "stdout",
       "text": [
        "\n",
        "{u'name': u'motivation'}"
       ]
      },
      {
       "output_type": "stream",
       "stream": "stdout",
       "text": [
        "\n",
        "{u'name': u'motown'}"
       ]
      },
      {
       "output_type": "stream",
       "stream": "stdout",
       "text": [
        "\n",
        "{u'name': u'movie tunes'}"
       ]
      },
      {
       "output_type": "stream",
       "stream": "stdout",
       "text": [
        "\n",
        "{u'name': u'mpb'}"
       ]
      },
      {
       "output_type": "stream",
       "stream": "stdout",
       "text": [
        "\n",
        "{u'name': u'musica para ninos'}"
       ]
      },
      {
       "output_type": "stream",
       "stream": "stdout",
       "text": [
        "\n",
        "{u'name': u'musiikkia lapsille'}"
       ]
      },
      {
       "output_type": "stream",
       "stream": "stdout",
       "text": [
        "\n",
        "{u'name': u'musique concrete'}"
       ]
      },
      {
       "output_type": "stream",
       "stream": "stdout",
       "text": [
        "\n",
        "{u'name': u'musique pour enfants'}"
       ]
      },
      {
       "output_type": "stream",
       "stream": "stdout",
       "text": [
        "\n",
        "{u'name': u'muziek voor kinderen'}"
       ]
      },
      {
       "output_type": "stream",
       "stream": "stdout",
       "text": [
        "\n",
        "{u'name': u'nasheed'}"
       ]
      },
      {
       "output_type": "stream",
       "stream": "stdout",
       "text": [
        "\n",
        "{u'name': u'nashville sound'}"
       ]
      },
      {
       "output_type": "stream",
       "stream": "stdout",
       "text": [
        "\n",
        "{u'name': u'native american'}"
       ]
      },
      {
       "output_type": "stream",
       "stream": "stdout",
       "text": [
        "\n",
        "{u'name': u'necrogrind'}"
       ]
      },
      {
       "output_type": "stream",
       "stream": "stdout",
       "text": [
        "\n",
        "{u'name': u'neo classical metal'}"
       ]
      },
      {
       "output_type": "stream",
       "stream": "stdout",
       "text": [
        "\n",
        "{u'name': u'neo honky tonk'}"
       ]
      },
      {
       "output_type": "stream",
       "stream": "stdout",
       "text": [
        "\n",
        "{u'name': u'neo mellow'}"
       ]
      },
      {
       "output_type": "stream",
       "stream": "stdout",
       "text": [
        "\n",
        "{u'name': u'neo metal'}"
       ]
      },
      {
       "output_type": "stream",
       "stream": "stdout",
       "text": [
        "\n",
        "{u'name': u'neo soul'}"
       ]
      },
      {
       "output_type": "stream",
       "stream": "stdout",
       "text": [
        "\n",
        "{u'name': u'neo soul-jazz'}"
       ]
      },
      {
       "output_type": "stream",
       "stream": "stdout",
       "text": [
        "\n",
        "{u'name': u'neo-industrial rock'}"
       ]
      },
      {
       "output_type": "stream",
       "stream": "stdout",
       "text": [
        "\n",
        "{u'name': u'neo-pagan'}"
       ]
      },
      {
       "output_type": "stream",
       "stream": "stdout",
       "text": [
        "\n",
        "{u'name': u'neo-progressive'}"
       ]
      },
      {
       "output_type": "stream",
       "stream": "stdout",
       "text": [
        "\n",
        "{u'name': u'neo-psychedelic'}"
       ]
      },
      {
       "output_type": "stream",
       "stream": "stdout",
       "text": [
        "\n",
        "{u'name': u'neo-rockabilly'}"
       ]
      },
      {
       "output_type": "stream",
       "stream": "stdout",
       "text": [
        "\n",
        "{u'name': u'neo-singer-songwriter'}"
       ]
      },
      {
       "output_type": "stream",
       "stream": "stdout",
       "text": [
        "\n",
        "{u'name': u'neo-synthpop'}"
       ]
      },
      {
       "output_type": "stream",
       "stream": "stdout",
       "text": [
        "\n",
        "{u'name': u'neo-trad metal'}"
       ]
      },
      {
       "output_type": "stream",
       "stream": "stdout",
       "text": [
        "\n",
        "{u'name': u'neo-traditional country'}"
       ]
      },
      {
       "output_type": "stream",
       "stream": "stdout",
       "text": [
        "\n",
        "{u'name': u'neoclassical'}"
       ]
      },
      {
       "output_type": "stream",
       "stream": "stdout",
       "text": [
        "\n",
        "{u'name': u'neofolk'}"
       ]
      },
      {
       "output_type": "stream",
       "stream": "stdout",
       "text": [
        "\n",
        "{u'name': u'nepali'}"
       ]
      },
      {
       "output_type": "stream",
       "stream": "stdout",
       "text": [
        "\n",
        "{u'name': u'nerdcore'}"
       ]
      },
      {
       "output_type": "stream",
       "stream": "stdout",
       "text": [
        "\n",
        "{u'name': u'neue deutsche harte'}"
       ]
      },
      {
       "output_type": "stream",
       "stream": "stdout",
       "text": [
        "\n",
        "{u'name': u'neue deutsche welle'}"
       ]
      },
      {
       "output_type": "stream",
       "stream": "stdout",
       "text": [
        "\n",
        "{u'name': u'neurofunk'}"
       ]
      },
      {
       "output_type": "stream",
       "stream": "stdout",
       "text": [
        "\n",
        "{u'name': u'neurostep'}"
       ]
      },
      {
       "output_type": "stream",
       "stream": "stdout",
       "text": [
        "\n",
        "{u'name': u'new age'}"
       ]
      },
      {
       "output_type": "stream",
       "stream": "stdout",
       "text": [
        "\n",
        "{u'name': u'new age piano'}"
       ]
      },
      {
       "output_type": "stream",
       "stream": "stdout",
       "text": [
        "\n",
        "{u'name': u'new beat'}"
       ]
      },
      {
       "output_type": "stream",
       "stream": "stdout",
       "text": [
        "\n",
        "{u'name': u'new jack smooth'}"
       ]
      },
      {
       "output_type": "stream",
       "stream": "stdout",
       "text": [
        "\n",
        "{u'name': u'new jack swing'}"
       ]
      },
      {
       "output_type": "stream",
       "stream": "stdout",
       "text": [
        "\n",
        "{u'name': u'new orleans blues'}"
       ]
      },
      {
       "output_type": "stream",
       "stream": "stdout",
       "text": [
        "\n",
        "{u'name': u'new orleans jazz'}"
       ]
      },
      {
       "output_type": "stream",
       "stream": "stdout",
       "text": [
        "\n",
        "{u'name': u'new rave'}"
       ]
      },
      {
       "output_type": "stream",
       "stream": "stdout",
       "text": [
        "\n",
        "{u'name': u'new romantic'}"
       ]
      },
      {
       "output_type": "stream",
       "stream": "stdout",
       "text": [
        "\n",
        "{u'name': u'new tribe'}"
       ]
      },
      {
       "output_type": "stream",
       "stream": "stdout",
       "text": [
        "\n",
        "{u'name': u'new wave'}"
       ]
      },
      {
       "output_type": "stream",
       "stream": "stdout",
       "text": [
        "\n",
        "{u'name': u'new wave pop'}"
       ]
      },
      {
       "output_type": "stream",
       "stream": "stdout",
       "text": [
        "\n",
        "{u'name': u'new weird america'}"
       ]
      },
      {
       "output_type": "stream",
       "stream": "stdout",
       "text": [
        "\n",
        "{u'name': u'ninja'}"
       ]
      },
      {
       "output_type": "stream",
       "stream": "stdout",
       "text": [
        "\n",
        "{u'name': u'nintendocore'}"
       ]
      },
      {
       "output_type": "stream",
       "stream": "stdout",
       "text": [
        "\n",
        "{u'name': u'nl folk'}"
       ]
      },
      {
       "output_type": "stream",
       "stream": "stdout",
       "text": [
        "\n",
        "{u'name': u'no wave'}"
       ]
      },
      {
       "output_type": "stream",
       "stream": "stdout",
       "text": [
        "\n",
        "{u'name': u'noise'}"
       ]
      },
      {
       "output_type": "stream",
       "stream": "stdout",
       "text": [
        "\n",
        "{u'name': u'noise pop'}"
       ]
      },
      {
       "output_type": "stream",
       "stream": "stdout",
       "text": [
        "\n",
        "{u'name': u'noise punk'}"
       ]
      },
      {
       "output_type": "stream",
       "stream": "stdout",
       "text": [
        "\n",
        "{u'name': u'noise rock'}"
       ]
      },
      {
       "output_type": "stream",
       "stream": "stdout",
       "text": [
        "\n",
        "{u'name': u'nordic folk'}"
       ]
      },
      {
       "output_type": "stream",
       "stream": "stdout",
       "text": [
        "\n",
        "{u'name': u'nordic house'}"
       ]
      },
      {
       "output_type": "stream",
       "stream": "stdout",
       "text": [
        "\n",
        "{u'name': u'norteno'}"
       ]
      },
      {
       "output_type": "stream",
       "stream": "stdout",
       "text": [
        "\n",
        "{u'name': u'northern irish indie'}"
       ]
      },
      {
       "output_type": "stream",
       "stream": "stdout",
       "text": [
        "\n",
        "{u'name': u'northern soul'}"
       ]
      },
      {
       "output_type": "stream",
       "stream": "stdout",
       "text": [
        "\n",
        "{u'name': u'norwegian gospel'}"
       ]
      },
      {
       "output_type": "stream",
       "stream": "stdout",
       "text": [
        "\n",
        "{u'name': u'norwegian hip hop'}"
       ]
      },
      {
       "output_type": "stream",
       "stream": "stdout",
       "text": [
        "\n",
        "{u'name': u'norwegian jazz'}"
       ]
      },
      {
       "output_type": "stream",
       "stream": "stdout",
       "text": [
        "\n",
        "{u'name': u'norwegian pop'}"
       ]
      },
      {
       "output_type": "stream",
       "stream": "stdout",
       "text": [
        "\n",
        "{u'name': u'norwegian punk'}"
       ]
      },
      {
       "output_type": "stream",
       "stream": "stdout",
       "text": [
        "\n",
        "{u'name': u'norwegian rock'}"
       ]
      },
      {
       "output_type": "stream",
       "stream": "stdout",
       "text": [
        "\n",
        "{u'name': u'nu age'}"
       ]
      },
      {
       "output_type": "stream",
       "stream": "stdout",
       "text": [
        "\n",
        "{u'name': u'nu disco'}"
       ]
      },
      {
       "output_type": "stream",
       "stream": "stdout",
       "text": [
        "\n",
        "{u'name': u'nu electro'}"
       ]
      },
      {
       "output_type": "stream",
       "stream": "stdout",
       "text": [
        "\n",
        "{u'name': u'nu gaze'}"
       ]
      },
      {
       "output_type": "stream",
       "stream": "stdout",
       "text": [
        "\n",
        "{u'name': u'nu jazz'}"
       ]
      },
      {
       "output_type": "stream",
       "stream": "stdout",
       "text": [
        "\n",
        "{u'name': u'nu metal'}"
       ]
      },
      {
       "output_type": "stream",
       "stream": "stdout",
       "text": [
        "\n",
        "{u'name': u'nu skool breaks'}"
       ]
      },
      {
       "output_type": "stream",
       "stream": "stdout",
       "text": [
        "\n",
        "{u'name': u'nu-cumbia'}"
       ]
      },
      {
       "output_type": "stream",
       "stream": "stdout",
       "text": [
        "\n",
        "{u'name': u'nueva cancion'}"
       ]
      },
      {
       "output_type": "stream",
       "stream": "stdout",
       "text": [
        "\n",
        "{u'name': u'nursery'}"
       ]
      },
      {
       "output_type": "stream",
       "stream": "stdout",
       "text": [
        "\n",
        "{u'name': u'nwobhm'}"
       ]
      },
      {
       "output_type": "stream",
       "stream": "stdout",
       "text": [
        "\n",
        "{u'name': u'nwothm'}"
       ]
      },
      {
       "output_type": "stream",
       "stream": "stdout",
       "text": [
        "\n",
        "{u'name': u'nz indie'}"
       ]
      },
      {
       "output_type": "stream",
       "stream": "stdout",
       "text": [
        "\n",
        "{u'name': u'oi'}"
       ]
      },
      {
       "output_type": "stream",
       "stream": "stdout",
       "text": [
        "\n",
        "{u'name': u'old school hip hop'}"
       ]
      },
      {
       "output_type": "stream",
       "stream": "stdout",
       "text": [
        "\n",
        "{u'name': u'old-time'}"
       ]
      },
      {
       "output_type": "stream",
       "stream": "stdout",
       "text": [
        "\n",
        "{u'name': u'opera'}"
       ]
      },
      {
       "output_type": "stream",
       "stream": "stdout",
       "text": [
        "\n",
        "{u'name': u'operatic pop'}"
       ]
      },
      {
       "output_type": "stream",
       "stream": "stdout",
       "text": [
        "\n",
        "{u'name': u'opm'}"
       ]
      },
      {
       "output_type": "stream",
       "stream": "stdout",
       "text": [
        "\n",
        "{u'name': u'oratory'}"
       ]
      },
      {
       "output_type": "stream",
       "stream": "stdout",
       "text": [
        "\n",
        "{u'name': u'orchestral'}"
       ]
      },
      {
       "output_type": "stream",
       "stream": "stdout",
       "text": [
        "\n",
        "{u'name': u'organic ambient'}"
       ]
      },
      {
       "output_type": "stream",
       "stream": "stdout",
       "text": [
        "\n",
        "{u'name': u'orgcore'}"
       ]
      },
      {
       "output_type": "stream",
       "stream": "stdout",
       "text": [
        "\n",
        "{u'name': u'orquesta tipica'}"
       ]
      },
      {
       "output_type": "stream",
       "stream": "stdout",
       "text": [
        "\n",
        "{u'name': u'orquesta tropical'}"
       ]
      },
      {
       "output_type": "stream",
       "stream": "stdout",
       "text": [
        "\n",
        "{u'name': u'oshare kei'}"
       ]
      },
      {
       "output_type": "stream",
       "stream": "stdout",
       "text": [
        "\n",
        "{u'name': u'ostrock'}"
       ]
      },
      {
       "output_type": "stream",
       "stream": "stdout",
       "text": [
        "\n",
        "{u'name': u'outer hip hop'}"
       ]
      },
      {
       "output_type": "stream",
       "stream": "stdout",
       "text": [
        "\n",
        "{u'name': u'outlaw country'}"
       ]
      },
      {
       "output_type": "stream",
       "stream": "stdout",
       "text": [
        "\n",
        "{u'name': u'outsider'}"
       ]
      },
      {
       "output_type": "stream",
       "stream": "stdout",
       "text": [
        "\n",
        "{u'name': u'outsider house'}"
       ]
      },
      {
       "output_type": "stream",
       "stream": "stdout",
       "text": [
        "\n",
        "{u'name': u'p funk'}"
       ]
      },
      {
       "output_type": "stream",
       "stream": "stdout",
       "text": [
        "\n",
        "{u'name': u'pagan black metal'}"
       ]
      },
      {
       "output_type": "stream",
       "stream": "stdout",
       "text": [
        "\n",
        "{u'name': u'pagode'}"
       ]
      },
      {
       "output_type": "stream",
       "stream": "stdout",
       "text": [
        "\n",
        "{u'name': u'pakistani pop'}"
       ]
      },
      {
       "output_type": "stream",
       "stream": "stdout",
       "text": [
        "\n",
        "{u'name': u'permanent wave'}"
       ]
      },
      {
       "output_type": "stream",
       "stream": "stdout",
       "text": [
        "\n",
        "{u'name': u'persian pop'}"
       ]
      },
      {
       "output_type": "stream",
       "stream": "stdout",
       "text": [
        "\n",
        "{u'name': u'persian traditional'}"
       ]
      },
      {
       "output_type": "stream",
       "stream": "stdout",
       "text": [
        "\n",
        "{u'name': u'perth indie'}"
       ]
      },
      {
       "output_type": "stream",
       "stream": "stdout",
       "text": [
        "\n",
        "{u'name': u'peruvian rock'}"
       ]
      },
      {
       "output_type": "stream",
       "stream": "stdout",
       "text": [
        "\n",
        "{u'name': u'piano blues'}"
       ]
      },
      {
       "output_type": "stream",
       "stream": "stdout",
       "text": [
        "\n",
        "{u'name': u'piano rock'}"
       ]
      },
      {
       "output_type": "stream",
       "stream": "stdout",
       "text": [
        "\n",
        "{u'name': u'piedmont blues'}"
       ]
      },
      {
       "output_type": "stream",
       "stream": "stdout",
       "text": [
        "\n",
        "{u'name': u'pipe band'}"
       ]
      },
      {
       "output_type": "stream",
       "stream": "stdout",
       "text": [
        "\n",
        "{u'name': u'poetry'}"
       ]
      },
      {
       "output_type": "stream",
       "stream": "stdout",
       "text": [
        "\n",
        "{u'name': u'polish hip hop'}"
       ]
      },
      {
       "output_type": "stream",
       "stream": "stdout",
       "text": [
        "\n",
        "{u'name': u'polish indie'}"
       ]
      },
      {
       "output_type": "stream",
       "stream": "stdout",
       "text": [
        "\n",
        "{u'name': u'polish jazz'}"
       ]
      },
      {
       "output_type": "stream",
       "stream": "stdout",
       "text": [
        "\n",
        "{u'name': u'polish pop'}"
       ]
      },
      {
       "output_type": "stream",
       "stream": "stdout",
       "text": [
        "\n",
        "{u'name': u'polish punk'}"
       ]
      },
      {
       "output_type": "stream",
       "stream": "stdout",
       "text": [
        "\n",
        "{u'name': u'polish reggae'}"
       ]
      },
      {
       "output_type": "stream",
       "stream": "stdout",
       "text": [
        "\n",
        "{u'name': u'polka'}"
       ]
      },
      {
       "output_type": "stream",
       "stream": "stdout",
       "text": [
        "\n",
        "{u'name': u'polynesian pop'}"
       ]
      },
      {
       "output_type": "stream",
       "stream": "stdout",
       "text": [
        "\n",
        "{u'name': u'polyphony'}"
       ]
      },
      {
       "output_type": "stream",
       "stream": "stdout",
       "text": [
        "\n",
        "{u'name': u'pop'}"
       ]
      },
      {
       "output_type": "stream",
       "stream": "stdout",
       "text": [
        "\n",
        "{u'name': u'pop christmas'}"
       ]
      },
      {
       "output_type": "stream",
       "stream": "stdout",
       "text": [
        "\n",
        "{u'name': u'pop emo'}"
       ]
      },
      {
       "output_type": "stream",
       "stream": "stdout",
       "text": [
        "\n",
        "{u'name': u'pop house'}"
       ]
      },
      {
       "output_type": "stream",
       "stream": "stdout",
       "text": [
        "\n",
        "{u'name': u'pop punk'}"
       ]
      },
      {
       "output_type": "stream",
       "stream": "stdout",
       "text": [
        "\n",
        "{u'name': u'pop rap'}"
       ]
      },
      {
       "output_type": "stream",
       "stream": "stdout",
       "text": [
        "\n",
        "{u'name': u'pop rock'}"
       ]
      },
      {
       "output_type": "stream",
       "stream": "stdout",
       "text": [
        "\n",
        "{u'name': u'portland indie'}"
       ]
      },
      {
       "output_type": "stream",
       "stream": "stdout",
       "text": [
        "\n",
        "{u'name': u'portuguese pop'}"
       ]
      },
      {
       "output_type": "stream",
       "stream": "stdout",
       "text": [
        "\n",
        "{u'name': u'portuguese rock'}"
       ]
      },
      {
       "output_type": "stream",
       "stream": "stdout",
       "text": [
        "\n",
        "{u'name': u'post rock'}"
       ]
      },
      {
       "output_type": "stream",
       "stream": "stdout",
       "text": [
        "\n",
        "{u'name': u'post-disco'}"
       ]
      },
      {
       "output_type": "stream",
       "stream": "stdout",
       "text": [
        "\n",
        "{u'name': u'post-disco soul'}"
       ]
      },
      {
       "output_type": "stream",
       "stream": "stdout",
       "text": [
        "\n",
        "{u'name': u'post-grunge'}"
       ]
      },
      {
       "output_type": "stream",
       "stream": "stdout",
       "text": [
        "\n",
        "{u'name': u'post-hardcore'}"
       ]
      },
      {
       "output_type": "stream",
       "stream": "stdout",
       "text": [
        "\n",
        "{u'name': u'post-metal'}"
       ]
      },
      {
       "output_type": "stream",
       "stream": "stdout",
       "text": [
        "\n",
        "{u'name': u'post-post-hardcore'}"
       ]
      },
      {
       "output_type": "stream",
       "stream": "stdout",
       "text": [
        "\n",
        "{u'name': u'post-punk'}"
       ]
      },
      {
       "output_type": "stream",
       "stream": "stdout",
       "text": [
        "\n",
        "{u'name': u'power blues-rock'}"
       ]
      },
      {
       "output_type": "stream",
       "stream": "stdout",
       "text": [
        "\n",
        "{u'name': u'power electronics'}"
       ]
      },
      {
       "output_type": "stream",
       "stream": "stdout",
       "text": [
        "\n",
        "{u'name': u'power metal'}"
       ]
      },
      {
       "output_type": "stream",
       "stream": "stdout",
       "text": [
        "\n",
        "{u'name': u'power noise'}"
       ]
      },
      {
       "output_type": "stream",
       "stream": "stdout",
       "text": [
        "\n",
        "{u'name': u'power pop'}"
       ]
      },
      {
       "output_type": "stream",
       "stream": "stdout",
       "text": [
        "\n",
        "{u'name': u'power violence'}"
       ]
      },
      {
       "output_type": "stream",
       "stream": "stdout",
       "text": [
        "\n",
        "{u'name': u'power-pop punk'}"
       ]
      },
      {
       "output_type": "stream",
       "stream": "stdout",
       "text": [
        "\n",
        "{u'name': u'praise'}"
       ]
      },
      {
       "output_type": "stream",
       "stream": "stdout",
       "text": [
        "\n",
        "{u'name': u'progressive alternative'}"
       ]
      },
      {
       "output_type": "stream",
       "stream": "stdout",
       "text": [
        "\n",
        "{u'name': u'progressive bluegrass'}"
       ]
      },
      {
       "output_type": "stream",
       "stream": "stdout",
       "text": [
        "\n",
        "{u'name': u'progressive electro house'}"
       ]
      },
      {
       "output_type": "stream",
       "stream": "stdout",
       "text": [
        "\n",
        "{u'name': u'progressive house'}"
       ]
      },
      {
       "output_type": "stream",
       "stream": "stdout",
       "text": [
        "\n",
        "{u'name': u'progressive metal'}"
       ]
      },
      {
       "output_type": "stream",
       "stream": "stdout",
       "text": [
        "\n",
        "{u'name': u'progressive psytrance'}"
       ]
      },
      {
       "output_type": "stream",
       "stream": "stdout",
       "text": [
        "\n",
        "{u'name': u'progressive rock'}"
       ]
      },
      {
       "output_type": "stream",
       "stream": "stdout",
       "text": [
        "\n",
        "{u'name': u'progressive trance'}"
       ]
      },
      {
       "output_type": "stream",
       "stream": "stdout",
       "text": [
        "\n",
        "{u'name': u'progressive uplifting trance'}"
       ]
      },
      {
       "output_type": "stream",
       "stream": "stdout",
       "text": [
        "\n",
        "{u'name': u'protopunk'}"
       ]
      },
      {
       "output_type": "stream",
       "stream": "stdout",
       "text": [
        "\n",
        "{u'name': u'psych gaze'}"
       ]
      },
      {
       "output_type": "stream",
       "stream": "stdout",
       "text": [
        "\n",
        "{u'name': u'psychedelic blues-rock'}"
       ]
      },
      {
       "output_type": "stream",
       "stream": "stdout",
       "text": [
        "\n",
        "{u'name': u'psychedelic rock'}"
       ]
      },
      {
       "output_type": "stream",
       "stream": "stdout",
       "text": [
        "\n"
       ]
      }
     ],
     "prompt_number": 2
    },
    {
     "cell_type": "code",
     "collapsed": false,
     "input": [
      "import json"
     ],
     "language": "python",
     "metadata": {},
     "outputs": [],
     "prompt_number": 3
    },
    {
     "cell_type": "code",
     "collapsed": false,
     "input": [
      "json.dump(genre_sim_matrix, open('genre_sim_matrix1.txt', 'wb'))"
     ],
     "language": "python",
     "metadata": {},
     "outputs": [],
     "prompt_number": 4
    },
    {
     "cell_type": "code",
     "collapsed": false,
     "input": [
      "len(genre_sim_matrix)"
     ],
     "language": "python",
     "metadata": {},
     "outputs": [
      {
       "metadata": {},
       "output_type": "pyout",
       "prompt_number": 9,
       "text": [
        "1000"
       ]
      }
     ],
     "prompt_number": 9
    },
    {
     "cell_type": "code",
     "collapsed": false,
     "input": [
      "genre_sim_matrix2 = r.create_genre_similarity_matrix(1000)"
     ],
     "language": "python",
     "metadata": {},
     "outputs": [
      {
       "output_type": "stream",
       "stream": "stdout",
       "text": [
        "{u'name': u'psychedelic trance'}\n",
        "{u'name': u'psychill'}"
       ]
      },
      {
       "output_type": "stream",
       "stream": "stdout",
       "text": [
        "\n",
        "{u'name': u'psychobilly'}"
       ]
      },
      {
       "output_type": "stream",
       "stream": "stdout",
       "text": [
        "\n",
        "{u'name': u'pub rock'}"
       ]
      },
      {
       "output_type": "stream",
       "stream": "stdout",
       "text": [
        "\n",
        "{u'name': u'puerto rican rock'}"
       ]
      },
      {
       "output_type": "stream",
       "stream": "stdout",
       "text": [
        "\n",
        "{u'name': u'punjabi'}"
       ]
      },
      {
       "output_type": "stream",
       "stream": "stdout",
       "text": [
        "\n",
        "{u'name': u'punk'}"
       ]
      },
      {
       "output_type": "stream",
       "stream": "stdout",
       "text": [
        "\n",
        "{u'name': u'punk blues'}"
       ]
      },
      {
       "output_type": "stream",
       "stream": "stdout",
       "text": [
        "\n",
        "{u'name': u'punk christmas'}"
       ]
      },
      {
       "output_type": "stream",
       "stream": "stdout",
       "text": [
        "\n",
        "{u'name': u'punk ska'}"
       ]
      },
      {
       "output_type": "stream",
       "stream": "stdout",
       "text": [
        "\n",
        "{u'name': u'qawwali'}"
       ]
      },
      {
       "output_type": "stream",
       "stream": "stdout",
       "text": [
        "\n",
        "{u'name': u'quebecois'}"
       ]
      },
      {
       "output_type": "stream",
       "stream": "stdout",
       "text": [
        "\n",
        "{u'name': u'quiet storm'}"
       ]
      },
      {
       "output_type": "stream",
       "stream": "stdout",
       "text": [
        "\n",
        "{u'name': u'r&b'}"
       ]
      },
      {
       "output_type": "stream",
       "stream": "stdout",
       "text": [
        "\n",
        "{u'name': u'r-neg-b'}"
       ]
      },
      {
       "output_type": "stream",
       "stream": "stdout",
       "text": [
        "\n",
        "{u'name': u'ragga jungle'}"
       ]
      },
      {
       "output_type": "stream",
       "stream": "stdout",
       "text": [
        "\n",
        "{u'name': u'ragtime'}"
       ]
      },
      {
       "output_type": "stream",
       "stream": "stdout",
       "text": [
        "\n",
        "{u'name': u'rai'}"
       ]
      },
      {
       "output_type": "stream",
       "stream": "stdout",
       "text": [
        "\n",
        "{u'name': u'ranchera'}"
       ]
      },
      {
       "output_type": "stream",
       "stream": "stdout",
       "text": [
        "\n",
        "{u'name': u'rap'}"
       ]
      },
      {
       "output_type": "stream",
       "stream": "stdout",
       "text": [
        "\n",
        "{u'name': u'rap metal'}"
       ]
      },
      {
       "output_type": "stream",
       "stream": "stdout",
       "text": [
        "\n",
        "{u'name': u'rap metalcore'}"
       ]
      },
      {
       "output_type": "stream",
       "stream": "stdout",
       "text": [
        "\n",
        "{u'name': u'rap rock'}"
       ]
      },
      {
       "output_type": "stream",
       "stream": "stdout",
       "text": [
        "\n",
        "{u'name': u'raw black metal'}"
       ]
      },
      {
       "output_type": "stream",
       "stream": "stdout",
       "text": [
        "\n",
        "{u'name': u're:techno'}"
       ]
      },
      {
       "output_type": "stream",
       "stream": "stdout",
       "text": [
        "\n",
        "{u'name': u'reading'}"
       ]
      },
      {
       "output_type": "stream",
       "stream": "stdout",
       "text": [
        "\n",
        "{u'name': u'rebetiko'}"
       ]
      },
      {
       "output_type": "stream",
       "stream": "stdout",
       "text": [
        "\n",
        "{u'name': u'reggae'}"
       ]
      },
      {
       "output_type": "stream",
       "stream": "stdout",
       "text": [
        "\n",
        "{u'name': u'reggae fusion'}"
       ]
      },
      {
       "output_type": "stream",
       "stream": "stdout",
       "text": [
        "\n",
        "{u'name': u'reggae rock'}"
       ]
      },
      {
       "output_type": "stream",
       "stream": "stdout",
       "text": [
        "\n",
        "{u'name': u'reggaeton'}"
       ]
      },
      {
       "output_type": "stream",
       "stream": "stdout",
       "text": [
        "\n",
        "{u'name': u'regional mexican'}"
       ]
      },
      {
       "output_type": "stream",
       "stream": "stdout",
       "text": [
        "\n",
        "{u'name': u'relaxative'}"
       ]
      },
      {
       "output_type": "stream",
       "stream": "stdout",
       "text": [
        "\n",
        "{u'name': u'remix'}"
       ]
      },
      {
       "output_type": "stream",
       "stream": "stdout",
       "text": [
        "\n",
        "{u'name': u'renaissance'}"
       ]
      },
      {
       "output_type": "stream",
       "stream": "stdout",
       "text": [
        "\n",
        "{u'name': u'retro electro'}"
       ]
      },
      {
       "output_type": "stream",
       "stream": "stdout",
       "text": [
        "\n",
        "{u'name': u'retro metal'}"
       ]
      },
      {
       "output_type": "stream",
       "stream": "stdout",
       "text": [
        "\n",
        "{u'name': u'rhythm and boogie'}"
       ]
      },
      {
       "output_type": "stream",
       "stream": "stdout",
       "text": [
        "\n",
        "{u'name': u'riddim'}"
       ]
      },
      {
       "output_type": "stream",
       "stream": "stdout",
       "text": [
        "\n",
        "{u'name': u'rio de la plata'}"
       ]
      },
      {
       "output_type": "stream",
       "stream": "stdout",
       "text": [
        "\n",
        "{u'name': u'riot grrrl'}"
       ]
      },
      {
       "output_type": "stream",
       "stream": "stdout",
       "text": [
        "\n",
        "{u'name': u'rock'}"
       ]
      },
      {
       "output_type": "stream",
       "stream": "stdout",
       "text": [
        "\n",
        "{u'name': u'rock catala'}"
       ]
      },
      {
       "output_type": "stream",
       "stream": "stdout",
       "text": [
        "\n",
        "{u'name': u'rock en espanol'}"
       ]
      },
      {
       "output_type": "stream",
       "stream": "stdout",
       "text": [
        "\n",
        "{u'name': u'rock gaucho'}"
       ]
      },
      {
       "output_type": "stream",
       "stream": "stdout",
       "text": [
        "\n",
        "{u'name': u'rock noise'}"
       ]
      },
      {
       "output_type": "stream",
       "stream": "stdout",
       "text": [
        "\n",
        "{u'name': u'rock steady'}"
       ]
      },
      {
       "output_type": "stream",
       "stream": "stdout",
       "text": [
        "\n",
        "{u'name': u'rock-and-roll'}"
       ]
      },
      {
       "output_type": "stream",
       "stream": "stdout",
       "text": [
        "\n",
        "{u'name': u'rockabilly'}"
       ]
      },
      {
       "output_type": "stream",
       "stream": "stdout",
       "text": [
        "\n",
        "{u'name': u'romanian pop'}"
       ]
      },
      {
       "output_type": "stream",
       "stream": "stdout",
       "text": [
        "\n",
        "{u'name': u'romanian rock'}"
       ]
      },
      {
       "output_type": "stream",
       "stream": "stdout",
       "text": [
        "\n",
        "{u'name': u'romantic'}"
       ]
      },
      {
       "output_type": "stream",
       "stream": "stdout",
       "text": [
        "\n",
        "{u'name': u'roots reggae'}"
       ]
      },
      {
       "output_type": "stream",
       "stream": "stdout",
       "text": [
        "\n",
        "{u'name': u'roots rock'}"
       ]
      },
      {
       "output_type": "stream",
       "stream": "stdout",
       "text": [
        "\n",
        "{u'name': u'rumba'}"
       ]
      },
      {
       "output_type": "stream",
       "stream": "stdout",
       "text": [
        "\n",
        "{u'name': u'russian alternative'}"
       ]
      },
      {
       "output_type": "stream",
       "stream": "stdout",
       "text": [
        "\n",
        "{u'name': u'russian hip hop'}"
       ]
      },
      {
       "output_type": "stream",
       "stream": "stdout",
       "text": [
        "\n",
        "{u'name': u'russian pop'}"
       ]
      },
      {
       "output_type": "stream",
       "stream": "stdout",
       "text": [
        "\n",
        "{u'name': u'russian punk'}"
       ]
      },
      {
       "output_type": "stream",
       "stream": "stdout",
       "text": [
        "\n",
        "{u'name': u'russian rock'}"
       ]
      },
      {
       "output_type": "stream",
       "stream": "stdout",
       "text": [
        "\n",
        "{u'name': u'rva indie'}"
       ]
      },
      {
       "output_type": "stream",
       "stream": "stdout",
       "text": [
        "\n",
        "{u'name': u'salsa'}"
       ]
      },
      {
       "output_type": "stream",
       "stream": "stdout",
       "text": [
        "\n",
        "{u'name': u'salsa international'}"
       ]
      },
      {
       "output_type": "stream",
       "stream": "stdout",
       "text": [
        "\n",
        "{u'name': u'samba'}"
       ]
      },
      {
       "output_type": "stream",
       "stream": "stdout",
       "text": [
        "\n",
        "{u'name': u'schlager'}"
       ]
      },
      {
       "output_type": "stream",
       "stream": "stdout",
       "text": [
        "\n",
        "{u'name': u'schranz'}"
       ]
      },
      {
       "output_type": "stream",
       "stream": "stdout",
       "text": [
        "\n",
        "{u'name': u'scorecore'}"
       ]
      },
      {
       "output_type": "stream",
       "stream": "stdout",
       "text": [
        "\n",
        "{u'name': u'scottish rock'}"
       ]
      },
      {
       "output_type": "stream",
       "stream": "stdout",
       "text": [
        "\n",
        "{u'name': u'scratch'}"
       ]
      },
      {
       "output_type": "stream",
       "stream": "stdout",
       "text": [
        "\n",
        "{u'name': u'screamo'}"
       ]
      },
      {
       "output_type": "stream",
       "stream": "stdout",
       "text": [
        "\n",
        "{u'name': u'screamo punk'}"
       ]
      },
      {
       "output_type": "stream",
       "stream": "stdout",
       "text": [
        "\n",
        "{u'name': u'screamocore'}"
       ]
      },
      {
       "output_type": "stream",
       "stream": "stdout",
       "text": [
        "\n",
        "{u'name': u'seattle indie'}"
       ]
      },
      {
       "output_type": "stream",
       "stream": "stdout",
       "text": [
        "\n",
        "{u'name': u'sega'}"
       ]
      },
      {
       "output_type": "stream",
       "stream": "stdout",
       "text": [
        "\n",
        "{u'name': u'serialism'}"
       ]
      },
      {
       "output_type": "stream",
       "stream": "stdout",
       "text": [
        "\n",
        "{u'name': u'sertanejo'}"
       ]
      },
      {
       "output_type": "stream",
       "stream": "stdout",
       "text": [
        "\n",
        "{u'name': u'sertanejo tradicional'}"
       ]
      },
      {
       "output_type": "stream",
       "stream": "stdout",
       "text": [
        "\n",
        "{u'name': u'sertanejo universitario'}"
       ]
      },
      {
       "output_type": "stream",
       "stream": "stdout",
       "text": [
        "\n",
        "{u'name': u'sevdah'}"
       ]
      },
      {
       "output_type": "stream",
       "stream": "stdout",
       "text": [
        "\n",
        "{u'name': u'sexy'}"
       ]
      },
      {
       "output_type": "stream",
       "stream": "stdout",
       "text": [
        "\n",
        "{u'name': u'shanty'}"
       ]
      },
      {
       "output_type": "stream",
       "stream": "stdout",
       "text": [
        "\n",
        "{u'name': u'sheffield indie'}"
       ]
      },
      {
       "output_type": "stream",
       "stream": "stdout",
       "text": [
        "\n",
        "{u'name': u'shibuya-kei'}"
       ]
      },
      {
       "output_type": "stream",
       "stream": "stdout",
       "text": [
        "\n",
        "{u'name': u'shimmer pop'}"
       ]
      },
      {
       "output_type": "stream",
       "stream": "stdout",
       "text": [
        "\n",
        "{u'name': u'shimmer psych'}"
       ]
      },
      {
       "output_type": "stream",
       "stream": "stdout",
       "text": [
        "\n",
        "{u'name': u'shiver pop'}"
       ]
      },
      {
       "output_type": "stream",
       "stream": "stdout",
       "text": [
        "\n",
        "{u'name': u'shoegaze'}"
       ]
      },
      {
       "output_type": "stream",
       "stream": "stdout",
       "text": [
        "\n",
        "{u'name': u'show tunes'}"
       ]
      },
      {
       "output_type": "stream",
       "stream": "stdout",
       "text": [
        "\n",
        "{u'name': u'singaporean pop'}"
       ]
      },
      {
       "output_type": "stream",
       "stream": "stdout",
       "text": [
        "\n",
        "{u'name': u'singer-songwriter'}"
       ]
      },
      {
       "output_type": "stream",
       "stream": "stdout",
       "text": [
        "\n",
        "{u'name': u'sinhala'}"
       ]
      },
      {
       "output_type": "stream",
       "stream": "stdout",
       "text": [
        "\n",
        "{u'name': u'ska'}"
       ]
      },
      {
       "output_type": "stream",
       "stream": "stdout",
       "text": [
        "\n",
        "{u'name': u'ska punk'}"
       ]
      },
      {
       "output_type": "stream",
       "stream": "stdout",
       "text": [
        "\n",
        "{u'name': u'ska revival'}"
       ]
      },
      {
       "output_type": "stream",
       "stream": "stdout",
       "text": [
        "\n",
        "{u'name': u'skate punk'}"
       ]
      },
      {
       "output_type": "stream",
       "stream": "stdout",
       "text": [
        "\n",
        "{u'name': u'skiffle'}"
       ]
      },
      {
       "output_type": "stream",
       "stream": "stdout",
       "text": [
        "\n",
        "{u'name': u'skinhead oi'}"
       ]
      },
      {
       "output_type": "stream",
       "stream": "stdout",
       "text": [
        "\n",
        "{u'name': u'skinhead reggae'}"
       ]
      },
      {
       "output_type": "stream",
       "stream": "stdout",
       "text": [
        "\n",
        "{u'name': u'skweee'}"
       ]
      },
      {
       "output_type": "stream",
       "stream": "stdout",
       "text": [
        "\n",
        "{u'name': u'slam death metal'}"
       ]
      },
      {
       "output_type": "stream",
       "stream": "stdout",
       "text": [
        "\n",
        "{u'name': u'slash punk'}"
       ]
      },
      {
       "output_type": "stream",
       "stream": "stdout",
       "text": [
        "\n",
        "{u'name': u'slc indie'}"
       ]
      },
      {
       "output_type": "stream",
       "stream": "stdout",
       "text": [
        "\n",
        "{u'name': u'sleaze rock'}"
       ]
      },
      {
       "output_type": "stream",
       "stream": "stdout",
       "text": [
        "\n",
        "{u'name': u'sleep'}"
       ]
      },
      {
       "output_type": "stream",
       "stream": "stdout",
       "text": [
        "\n",
        "{u'name': u'slovak hip hop'}"
       ]
      },
      {
       "output_type": "stream",
       "stream": "stdout",
       "text": [
        "\n",
        "{u'name': u'slovak pop'}"
       ]
      },
      {
       "output_type": "stream",
       "stream": "stdout",
       "text": [
        "\n",
        "{u'name': u'slovenian rock'}"
       ]
      },
      {
       "output_type": "stream",
       "stream": "stdout",
       "text": [
        "\n",
        "{u'name': u'slow core'}"
       ]
      },
      {
       "output_type": "stream",
       "stream": "stdout",
       "text": [
        "\n",
        "{u'name': u'sludge metal'}"
       ]
      },
      {
       "output_type": "stream",
       "stream": "stdout",
       "text": [
        "\n",
        "{u'name': u'smooth jazz'}"
       ]
      },
      {
       "output_type": "stream",
       "stream": "stdout",
       "text": [
        "\n",
        "{u'name': u'smooth urban r&b'}"
       ]
      },
      {
       "output_type": "stream",
       "stream": "stdout",
       "text": [
        "\n",
        "{u'name': u'soca'}"
       ]
      },
      {
       "output_type": "stream",
       "stream": "stdout",
       "text": [
        "\n",
        "{u'name': u'soda pop'}"
       ]
      },
      {
       "output_type": "stream",
       "stream": "stdout",
       "text": [
        "\n",
        "{u'name': u'soft rock'}"
       ]
      },
      {
       "output_type": "stream",
       "stream": "stdout",
       "text": [
        "\n",
        "{u'name': u'soukous'}"
       ]
      },
      {
       "output_type": "stream",
       "stream": "stdout",
       "text": [
        "\n",
        "{u'name': u'soul'}"
       ]
      },
      {
       "output_type": "stream",
       "stream": "stdout",
       "text": [
        "\n",
        "{u'name': u'soul blues'}"
       ]
      },
      {
       "output_type": "stream",
       "stream": "stdout",
       "text": [
        "\n",
        "{u'name': u'soul christmas'}"
       ]
      },
      {
       "output_type": "stream",
       "stream": "stdout",
       "text": [
        "\n",
        "{u'name': u'soul flow'}"
       ]
      },
      {
       "output_type": "stream",
       "stream": "stdout",
       "text": [
        "\n",
        "{u'name': u'soul jazz'}"
       ]
      },
      {
       "output_type": "stream",
       "stream": "stdout",
       "text": [
        "\n",
        "{u'name': u'soundtrack'}"
       ]
      },
      {
       "output_type": "stream",
       "stream": "stdout",
       "text": [
        "\n",
        "{u'name': u'south african jazz'}"
       ]
      },
      {
       "output_type": "stream",
       "stream": "stdout",
       "text": [
        "\n",
        "{u'name': u'southern gospel'}"
       ]
      },
      {
       "output_type": "stream",
       "stream": "stdout",
       "text": [
        "\n",
        "{u'name': u'southern hip hop'}"
       ]
      },
      {
       "output_type": "stream",
       "stream": "stdout",
       "text": [
        "\n",
        "{u'name': u'southern rock'}"
       ]
      },
      {
       "output_type": "stream",
       "stream": "stdout",
       "text": [
        "\n",
        "{u'name': u'southern soul'}"
       ]
      },
      {
       "output_type": "stream",
       "stream": "stdout",
       "text": [
        "\n",
        "{u'name': u'space rock'}"
       ]
      },
      {
       "output_type": "stream",
       "stream": "stdout",
       "text": [
        "\n",
        "{u'name': u'spanish classical'}"
       ]
      },
      {
       "output_type": "stream",
       "stream": "stdout",
       "text": [
        "\n",
        "{u'name': u'spanish folk'}"
       ]
      },
      {
       "output_type": "stream",
       "stream": "stdout",
       "text": [
        "\n",
        "{u'name': u'spanish hip hop'}"
       ]
      },
      {
       "output_type": "stream",
       "stream": "stdout",
       "text": [
        "\n",
        "{u'name': u'spanish indie pop'}"
       ]
      },
      {
       "output_type": "stream",
       "stream": "stdout",
       "text": [
        "\n",
        "{u'name': u'spanish indie rock'}"
       ]
      },
      {
       "output_type": "stream",
       "stream": "stdout",
       "text": [
        "\n",
        "{u'name': u'spanish invasion'}"
       ]
      },
      {
       "output_type": "stream",
       "stream": "stdout",
       "text": [
        "\n",
        "{u'name': u'spanish pop'}"
       ]
      },
      {
       "output_type": "stream",
       "stream": "stdout",
       "text": [
        "\n",
        "{u'name': u'spanish pop rock'}"
       ]
      },
      {
       "output_type": "stream",
       "stream": "stdout",
       "text": [
        "\n",
        "{u'name': u'spanish punk'}"
       ]
      },
      {
       "output_type": "stream",
       "stream": "stdout",
       "text": [
        "\n",
        "{u'name': u'speed garage'}"
       ]
      },
      {
       "output_type": "stream",
       "stream": "stdout",
       "text": [
        "\n",
        "{u'name': u'speed metal'}"
       ]
      },
      {
       "output_type": "stream",
       "stream": "stdout",
       "text": [
        "\n",
        "{u'name': u'speedcore'}"
       ]
      },
      {
       "output_type": "stream",
       "stream": "stdout",
       "text": [
        "\n",
        "{u'name': u'spoken word'}"
       ]
      },
      {
       "output_type": "stream",
       "stream": "stdout",
       "text": [
        "\n",
        "{u'name': u'spytrack'}"
       ]
      },
      {
       "output_type": "stream",
       "stream": "stdout",
       "text": [
        "\n",
        "{u'name': u'steampunk'}"
       ]
      },
      {
       "output_type": "stream",
       "stream": "stdout",
       "text": [
        "\n",
        "{u'name': u'steelpan'}"
       ]
      },
      {
       "output_type": "stream",
       "stream": "stdout",
       "text": [
        "\n",
        "{u'name': u'stl indie'}"
       ]
      },
      {
       "output_type": "stream",
       "stream": "stdout",
       "text": [
        "\n",
        "{u'name': u'stomp and flutter'}"
       ]
      },
      {
       "output_type": "stream",
       "stream": "stdout",
       "text": [
        "\n",
        "{u'name': u'stomp and holler'}"
       ]
      },
      {
       "output_type": "stream",
       "stream": "stdout",
       "text": [
        "\n",
        "{u'name': u'stomp and whittle'}"
       ]
      },
      {
       "output_type": "stream",
       "stream": "stdout",
       "text": [
        "\n",
        "{u'name': u'stomp pop'}"
       ]
      },
      {
       "output_type": "stream",
       "stream": "stdout",
       "text": [
        "\n",
        "{u'name': u'stoner metal'}"
       ]
      },
      {
       "output_type": "stream",
       "stream": "stdout",
       "text": [
        "\n",
        "{u'name': u'stoner rock'}"
       ]
      },
      {
       "output_type": "stream",
       "stream": "stdout",
       "text": [
        "\n",
        "{u'name': u'straight edge'}"
       ]
      },
      {
       "output_type": "stream",
       "stream": "stdout",
       "text": [
        "\n",
        "{u'name': u'street punk'}"
       ]
      },
      {
       "output_type": "stream",
       "stream": "stdout",
       "text": [
        "\n",
        "{u'name': u'stride'}"
       ]
      },
      {
       "output_type": "stream",
       "stream": "stdout",
       "text": [
        "\n",
        "{u'name': u'string folk'}"
       ]
      },
      {
       "output_type": "stream",
       "stream": "stdout",
       "text": [
        "\n",
        "{u'name': u'string quartet'}"
       ]
      },
      {
       "output_type": "stream",
       "stream": "stdout",
       "text": [
        "\n",
        "{u'name': u'sunset lounge'}"
       ]
      },
      {
       "output_type": "stream",
       "stream": "stdout",
       "text": [
        "\n",
        "{u'name': u'suomi rock'}"
       ]
      },
      {
       "output_type": "stream",
       "stream": "stdout",
       "text": [
        "\n",
        "{u'name': u'surf music'}"
       ]
      },
      {
       "output_type": "stream",
       "stream": "stdout",
       "text": [
        "\n",
        "{u'name': u'swamp blues'}"
       ]
      },
      {
       "output_type": "stream",
       "stream": "stdout",
       "text": [
        "\n",
        "{u'name': u'swamp pop'}"
       ]
      },
      {
       "output_type": "stream",
       "stream": "stdout",
       "text": [
        "\n",
        "{u'name': u'swedish hip hop'}"
       ]
      },
      {
       "output_type": "stream",
       "stream": "stdout",
       "text": [
        "\n",
        "{u'name': u'swedish indie pop'}"
       ]
      },
      {
       "output_type": "stream",
       "stream": "stdout",
       "text": [
        "\n",
        "{u'name': u'swedish indie rock'}"
       ]
      },
      {
       "output_type": "stream",
       "stream": "stdout",
       "text": [
        "\n",
        "{u'name': u'swedish jazz'}"
       ]
      },
      {
       "output_type": "stream",
       "stream": "stdout",
       "text": [
        "\n",
        "{u'name': u'swedish pop'}"
       ]
      },
      {
       "output_type": "stream",
       "stream": "stdout",
       "text": [
        "\n",
        "{u'name': u'swedish pop punk'}"
       ]
      },
      {
       "output_type": "stream",
       "stream": "stdout",
       "text": [
        "\n",
        "{u'name': u'swedish punk'}"
       ]
      },
      {
       "output_type": "stream",
       "stream": "stdout",
       "text": [
        "\n",
        "{u'name': u'swedish soft pop'}"
       ]
      },
      {
       "output_type": "stream",
       "stream": "stdout",
       "text": [
        "\n",
        "{u'name': u'swing'}"
       ]
      },
      {
       "output_type": "stream",
       "stream": "stdout",
       "text": [
        "\n",
        "{u'name': u'swiss folk'}"
       ]
      },
      {
       "output_type": "stream",
       "stream": "stdout",
       "text": [
        "\n",
        "{u'name': u'swiss hip hop'}"
       ]
      },
      {
       "output_type": "stream",
       "stream": "stdout",
       "text": [
        "\n",
        "{u'name': u'swiss rock'}"
       ]
      },
      {
       "output_type": "stream",
       "stream": "stdout",
       "text": [
        "\n",
        "{u'name': u'symphonic black metal'}"
       ]
      },
      {
       "output_type": "stream",
       "stream": "stdout",
       "text": [
        "\n",
        "{u'name': u'symphonic metal'}"
       ]
      },
      {
       "output_type": "stream",
       "stream": "stdout",
       "text": [
        "\n",
        "{u'name': u'symphonic rock'}"
       ]
      },
      {
       "output_type": "stream",
       "stream": "stdout",
       "text": [
        "\n",
        "{u'name': u'synthpop'}"
       ]
      },
      {
       "output_type": "stream",
       "stream": "stdout",
       "text": [
        "\n",
        "{u'name': u'taiwanese pop'}"
       ]
      },
      {
       "output_type": "stream",
       "stream": "stdout",
       "text": [
        "\n",
        "{u'name': u'talent show'}"
       ]
      },
      {
       "output_type": "stream",
       "stream": "stdout",
       "text": [
        "\n",
        "{u'name': u'tamil'}"
       ]
      },
      {
       "output_type": "stream",
       "stream": "stdout",
       "text": [
        "\n",
        "{u'name': u'tango'}"
       ]
      },
      {
       "output_type": "stream",
       "stream": "stdout",
       "text": [
        "\n",
        "{u'name': u'tech house'}"
       ]
      },
      {
       "output_type": "stream",
       "stream": "stdout",
       "text": [
        "\n",
        "{u'name': u'technical brutal death metal'}"
       ]
      },
      {
       "output_type": "stream",
       "stream": "stdout",
       "text": [
        "\n",
        "{u'name': u'technical death metal'}"
       ]
      },
      {
       "output_type": "stream",
       "stream": "stdout",
       "text": [
        "\n",
        "{u'name': u'techno'}"
       ]
      },
      {
       "output_type": "stream",
       "stream": "stdout",
       "text": [
        "\n",
        "{u'name': u'teen pop'}"
       ]
      },
      {
       "output_type": "stream",
       "stream": "stdout",
       "text": [
        "\n",
        "{u'name': u'tejano'}"
       ]
      },
      {
       "output_type": "stream",
       "stream": "stdout",
       "text": [
        "\n",
        "{u'name': u'tekno'}"
       ]
      },
      {
       "output_type": "stream",
       "stream": "stdout",
       "text": [
        "\n",
        "{u'name': u'telugu'}"
       ]
      },
      {
       "output_type": "stream",
       "stream": "stdout",
       "text": [
        "\n",
        "{u'name': u'terrorcore'}"
       ]
      },
      {
       "output_type": "stream",
       "stream": "stdout",
       "text": [
        "\n",
        "{u'name': u'texas blues'}"
       ]
      },
      {
       "output_type": "stream",
       "stream": "stdout",
       "text": [
        "\n",
        "{u'name': u'texas country'}"
       ]
      },
      {
       "output_type": "stream",
       "stream": "stdout",
       "text": [
        "\n",
        "{u'name': u'thai pop'}"
       ]
      },
      {
       "output_type": "stream",
       "stream": "stdout",
       "text": [
        "\n",
        "{u'name': u'thrash core'}"
       ]
      },
      {
       "output_type": "stream",
       "stream": "stdout",
       "text": [
        "\n",
        "{u'name': u'thrash metal'}"
       ]
      },
      {
       "output_type": "stream",
       "stream": "stdout",
       "text": [
        "\n",
        "{u'name': u'thrash-groove metal'}"
       ]
      },
      {
       "output_type": "stream",
       "stream": "stdout",
       "text": [
        "\n",
        "{u'name': u'throat singing'}"
       ]
      },
      {
       "output_type": "stream",
       "stream": "stdout",
       "text": [
        "\n",
        "{u'name': u'tibetan'}"
       ]
      },
      {
       "output_type": "stream",
       "stream": "stdout",
       "text": [
        "\n",
        "{u'name': u'tico'}"
       ]
      },
      {
       "output_type": "stream",
       "stream": "stdout",
       "text": [
        "\n",
        "{u'name': u'tin pan alley'}"
       ]
      },
      {
       "output_type": "stream",
       "stream": "stdout",
       "text": [
        "\n",
        "{u'name': u'traditional blues'}"
       ]
      },
      {
       "output_type": "stream",
       "stream": "stdout",
       "text": [
        "\n",
        "{u'name': u'traditional british folk'}"
       ]
      },
      {
       "output_type": "stream",
       "stream": "stdout",
       "text": [
        "\n",
        "{u'name': u'traditional country'}"
       ]
      },
      {
       "output_type": "stream",
       "stream": "stdout",
       "text": [
        "\n",
        "{u'name': u'traditional folk'}"
       ]
      },
      {
       "output_type": "stream",
       "stream": "stdout",
       "text": [
        "\n",
        "{u'name': u'traditional funk'}"
       ]
      },
      {
       "output_type": "stream",
       "stream": "stdout",
       "text": [
        "\n",
        "{u'name': u'traditional irish folk'}"
       ]
      },
      {
       "output_type": "stream",
       "stream": "stdout",
       "text": [
        "\n",
        "{u'name': u'traditional reggae'}"
       ]
      },
      {
       "output_type": "stream",
       "stream": "stdout",
       "text": [
        "\n",
        "{u'name': u\"traditional rock 'n roll\"}"
       ]
      },
      {
       "output_type": "stream",
       "stream": "stdout",
       "text": [
        "\n",
        "{u'name': u'traditional rockabilly'}"
       ]
      },
      {
       "output_type": "stream",
       "stream": "stdout",
       "text": [
        "\n",
        "{u'name': u'traditional scottish folk'}"
       ]
      },
      {
       "output_type": "stream",
       "stream": "stdout",
       "text": [
        "\n",
        "{u'name': u'traditional ska'}"
       ]
      },
      {
       "output_type": "stream",
       "stream": "stdout",
       "text": [
        "\n",
        "{u'name': u'traditional soul'}"
       ]
      },
      {
       "output_type": "stream",
       "stream": "stdout",
       "text": [
        "\n",
        "{u'name': u'traditional swing'}"
       ]
      },
      {
       "output_type": "stream",
       "stream": "stdout",
       "text": [
        "\n",
        "{u'name': u'trance'}"
       ]
      },
      {
       "output_type": "stream",
       "stream": "stdout",
       "text": [
        "\n",
        "{u'name': u'trance hop'}"
       ]
      },
      {
       "output_type": "stream",
       "stream": "stdout",
       "text": [
        "\n",
        "{u'name': u'trap music'}"
       ]
      },
      {
       "output_type": "stream",
       "stream": "stdout",
       "text": [
        "\n",
        "{u'name': u'trapstep'}"
       ]
      },
      {
       "output_type": "stream",
       "stream": "stdout",
       "text": [
        "\n",
        "{u'name': u'trash rock'}"
       ]
      },
      {
       "output_type": "stream",
       "stream": "stdout",
       "text": [
        "\n",
        "{u'name': u'triangle indie'}"
       ]
      },
      {
       "output_type": "stream",
       "stream": "stdout",
       "text": [
        "\n",
        "{u'name': u'tribal house'}"
       ]
      },
      {
       "output_type": "stream",
       "stream": "stdout",
       "text": [
        "\n",
        "{u'name': u'tribute'}"
       ]
      },
      {
       "output_type": "stream",
       "stream": "stdout",
       "text": [
        "\n",
        "{u'name': u'trip hop'}"
       ]
      },
      {
       "output_type": "stream",
       "stream": "stdout",
       "text": [
        "\n",
        "{u'name': u'tropical'}"
       ]
      },
      {
       "output_type": "stream",
       "stream": "stdout",
       "text": [
        "\n",
        "{u'name': u'trova'}"
       ]
      },
      {
       "output_type": "stream",
       "stream": "stdout",
       "text": [
        "\n",
        "{u'name': u'turbo folk'}"
       ]
      },
      {
       "output_type": "stream",
       "stream": "stdout",
       "text": [
        "\n",
        "{u'name': u'turkish alternative'}"
       ]
      },
      {
       "output_type": "stream",
       "stream": "stdout",
       "text": [
        "\n",
        "{u'name': u'turkish classical'}"
       ]
      },
      {
       "output_type": "stream",
       "stream": "stdout",
       "text": [
        "\n",
        "{u'name': u'turkish folk'}"
       ]
      },
      {
       "output_type": "stream",
       "stream": "stdout",
       "text": [
        "\n",
        "{u'name': u'turkish pop'}"
       ]
      },
      {
       "output_type": "stream",
       "stream": "stdout",
       "text": [
        "\n",
        "{u'name': u'turkish rock'}"
       ]
      },
      {
       "output_type": "stream",
       "stream": "stdout",
       "text": [
        "\n",
        "{u'name': u'turntablism'}"
       ]
      },
      {
       "output_type": "stream",
       "stream": "stdout",
       "text": [
        "\n",
        "{u'name': u'twee indie pop'}"
       ]
      },
      {
       "output_type": "stream",
       "stream": "stdout",
       "text": [
        "\n",
        "{u'name': u'twee pop'}"
       ]
      },
      {
       "output_type": "stream",
       "stream": "stdout",
       "text": [
        "\n",
        "{u'name': u'twin cities indie'}"
       ]
      },
      {
       "output_type": "stream",
       "stream": "stdout",
       "text": [
        "\n",
        "{u'name': u'tzadik'}"
       ]
      },
      {
       "output_type": "stream",
       "stream": "stdout",
       "text": [
        "\n",
        "{u'name': u'uk dub'}"
       ]
      },
      {
       "output_type": "stream",
       "stream": "stdout",
       "text": [
        "\n",
        "{u'name': u'uk garage'}"
       ]
      },
      {
       "output_type": "stream",
       "stream": "stdout",
       "text": [
        "\n",
        "{u'name': u'uk hip hop'}"
       ]
      },
      {
       "output_type": "stream",
       "stream": "stdout",
       "text": [
        "\n",
        "{u'name': u'uk post-punk'}"
       ]
      },
      {
       "output_type": "stream",
       "stream": "stdout",
       "text": [
        "\n",
        "{u'name': u'ukrainian rock'}"
       ]
      },
      {
       "output_type": "stream",
       "stream": "stdout",
       "text": [
        "\n",
        "{u'name': u'ukulele'}"
       ]
      },
      {
       "output_type": "stream",
       "stream": "stdout",
       "text": [
        "\n",
        "{u'name': u'unblack metal'}"
       ]
      },
      {
       "output_type": "stream",
       "stream": "stdout",
       "text": [
        "\n",
        "{u'name': u'underground hip hop'}"
       ]
      },
      {
       "output_type": "stream",
       "stream": "stdout",
       "text": [
        "\n",
        "{u'name': u'underground latin hip hop'}"
       ]
      },
      {
       "output_type": "stream",
       "stream": "stdout",
       "text": [
        "\n",
        "{u'name': u'underground pop rap'}"
       ]
      },
      {
       "output_type": "stream",
       "stream": "stdout",
       "text": [
        "\n",
        "{u'name': u'underground power pop'}"
       ]
      },
      {
       "output_type": "stream",
       "stream": "stdout",
       "text": [
        "\n",
        "{u'name': u'underground rap'}"
       ]
      },
      {
       "output_type": "stream",
       "stream": "stdout",
       "text": [
        "\n",
        "{u'name': u'uplifting trance'}"
       ]
      },
      {
       "output_type": "stream",
       "stream": "stdout",
       "text": [
        "\n",
        "{u'name': u'urban contemporary'}"
       ]
      },
      {
       "output_type": "stream",
       "stream": "stdout",
       "text": [
        "\n",
        "{u'name': u'vallenato'}"
       ]
      },
      {
       "output_type": "stream",
       "stream": "stdout",
       "text": [
        "\n",
        "{u'name': u'vaporwave'}"
       ]
      },
      {
       "output_type": "stream",
       "stream": "stdout",
       "text": [
        "\n",
        "{u'name': u'vegan straight edge'}"
       ]
      },
      {
       "output_type": "stream",
       "stream": "stdout",
       "text": [
        "\n",
        "{u'name': u'vegas indie'}"
       ]
      },
      {
       "output_type": "stream",
       "stream": "stdout",
       "text": [
        "\n",
        "{u'name': u'velha guarda'}"
       ]
      },
      {
       "output_type": "stream",
       "stream": "stdout",
       "text": [
        "\n",
        "{u'name': u'venezuelan rock'}"
       ]
      },
      {
       "output_type": "stream",
       "stream": "stdout",
       "text": [
        "\n",
        "{u'name': u'video game music'}"
       ]
      },
      {
       "output_type": "stream",
       "stream": "stdout",
       "text": [
        "\n",
        "{u'name': u'vienna indie'}"
       ]
      },
      {
       "output_type": "stream",
       "stream": "stdout",
       "text": [
        "\n",
        "{u'name': u'vietnamese pop'}"
       ]
      },
      {
       "output_type": "stream",
       "stream": "stdout",
       "text": [
        "\n",
        "{u'name': u'viking metal'}"
       ]
      },
      {
       "output_type": "stream",
       "stream": "stdout",
       "text": [
        "\n",
        "{u'name': u'vintage chanson'}"
       ]
      },
      {
       "output_type": "stream",
       "stream": "stdout",
       "text": [
        "\n",
        "{u'name': u'vintage country folk'}"
       ]
      },
      {
       "output_type": "stream",
       "stream": "stdout",
       "text": [
        "\n",
        "{u'name': u'vintage gospel'}"
       ]
      },
      {
       "output_type": "stream",
       "stream": "stdout",
       "text": [
        "\n",
        "{u'name': u'vintage jazz'}"
       ]
      },
      {
       "output_type": "stream",
       "stream": "stdout",
       "text": [
        "\n",
        "{u'name': u'vintage reggae'}"
       ]
      },
      {
       "output_type": "stream",
       "stream": "stdout",
       "text": [
        "\n",
        "{u'name': u'vintage rockabilly'}"
       ]
      },
      {
       "output_type": "stream",
       "stream": "stdout",
       "text": [
        "\n",
        "{u'name': u'vintage schlager'}"
       ]
      },
      {
       "output_type": "stream",
       "stream": "stdout",
       "text": [
        "\n",
        "{u'name': u'vintage swing'}"
       ]
      },
      {
       "output_type": "stream",
       "stream": "stdout",
       "text": [
        "\n",
        "{u'name': u'vintage swoon'}"
       ]
      },
      {
       "output_type": "stream",
       "stream": "stdout",
       "text": [
        "\n",
        "{u'name': u'vintage tango'}"
       ]
      },
      {
       "output_type": "stream",
       "stream": "stdout",
       "text": [
        "\n",
        "{u'name': u'vintage western'}"
       ]
      },
      {
       "output_type": "stream",
       "stream": "stdout",
       "text": [
        "\n",
        "{u'name': u'violin'}"
       ]
      },
      {
       "output_type": "stream",
       "stream": "stdout",
       "text": [
        "\n",
        "{u'name': u'viral pop'}"
       ]
      },
      {
       "output_type": "stream",
       "stream": "stdout",
       "text": [
        "\n",
        "{u'name': u'visual kei'}"
       ]
      },
      {
       "output_type": "stream",
       "stream": "stdout",
       "text": [
        "\n",
        "{u'name': u'vocal house'}"
       ]
      },
      {
       "output_type": "stream",
       "stream": "stdout",
       "text": [
        "\n",
        "{u'name': u'vocal jazz'}"
       ]
      },
      {
       "output_type": "stream",
       "stream": "stdout",
       "text": [
        "\n",
        "{u'name': u'vocaloid'}"
       ]
      },
      {
       "output_type": "stream",
       "stream": "stdout",
       "text": [
        "\n",
        "{u'name': u'volksmusik'}"
       ]
      },
      {
       "output_type": "stream",
       "stream": "stdout",
       "text": [
        "\n",
        "{u'name': u'warm drone'}"
       ]
      },
      {
       "output_type": "stream",
       "stream": "stdout",
       "text": [
        "\n",
        "{u'name': u'welsh rock'}"
       ]
      },
      {
       "output_type": "stream",
       "stream": "stdout",
       "text": [
        "\n",
        "{u'name': u'west african jazz'}"
       ]
      },
      {
       "output_type": "stream",
       "stream": "stdout",
       "text": [
        "\n",
        "{u'name': u'west coast rap'}"
       ]
      },
      {
       "output_type": "stream",
       "stream": "stdout",
       "text": [
        "\n",
        "{u'name': u'western swing'}"
       ]
      },
      {
       "output_type": "stream",
       "stream": "stdout",
       "text": [
        "\n",
        "{u'name': u'wind ensemble'}"
       ]
      },
      {
       "output_type": "stream",
       "stream": "stdout",
       "text": [
        "\n",
        "{u'name': u'witch house'}"
       ]
      },
      {
       "output_type": "stream",
       "stream": "stdout",
       "text": [
        "\n",
        "{u'name': u'wonky'}"
       ]
      },
      {
       "output_type": "stream",
       "stream": "stdout",
       "text": [
        "\n",
        "{u'name': u'workout'}"
       ]
      },
      {
       "output_type": "stream",
       "stream": "stdout",
       "text": [
        "\n",
        "{u'name': u'world'}"
       ]
      },
      {
       "output_type": "stream",
       "stream": "stdout",
       "text": [
        "\n",
        "{u'name': u'world chill'}"
       ]
      },
      {
       "output_type": "stream",
       "stream": "stdout",
       "text": [
        "\n",
        "{u'name': u'world christmas'}"
       ]
      },
      {
       "output_type": "stream",
       "stream": "stdout",
       "text": [
        "\n",
        "{u'name': u'world fusion'}"
       ]
      },
      {
       "output_type": "stream",
       "stream": "stdout",
       "text": [
        "\n",
        "{u'name': u'worship'}"
       ]
      },
      {
       "output_type": "stream",
       "stream": "stdout",
       "text": [
        "\n",
        "{u'name': u'wrestling'}"
       ]
      },
      {
       "output_type": "stream",
       "stream": "stdout",
       "text": [
        "\n",
        "{u'name': u'wrock'}"
       ]
      },
      {
       "output_type": "stream",
       "stream": "stdout",
       "text": [
        "\n",
        "{u'name': u'ye ye'}"
       ]
      },
      {
       "output_type": "stream",
       "stream": "stdout",
       "text": [
        "\n",
        "{u'name': u'yoik'}"
       ]
      },
      {
       "output_type": "stream",
       "stream": "stdout",
       "text": [
        "\n",
        "{u'name': u'yugoslav rock'}"
       ]
      },
      {
       "output_type": "stream",
       "stream": "stdout",
       "text": [
        "\n",
        "{u'name': u'zeuhl'}"
       ]
      },
      {
       "output_type": "stream",
       "stream": "stdout",
       "text": [
        "\n",
        "{u'name': u'zillertal'}"
       ]
      },
      {
       "output_type": "stream",
       "stream": "stdout",
       "text": [
        "\n",
        "{u'name': u'zim'}"
       ]
      },
      {
       "output_type": "stream",
       "stream": "stdout",
       "text": [
        "\n",
        "{u'name': u'zolo'}"
       ]
      },
      {
       "output_type": "stream",
       "stream": "stdout",
       "text": [
        "\n",
        "{u'name': u'zouglou'}"
       ]
      },
      {
       "output_type": "stream",
       "stream": "stdout",
       "text": [
        "\n",
        "{u'name': u'zouk'}"
       ]
      },
      {
       "output_type": "stream",
       "stream": "stdout",
       "text": [
        "\n",
        "{u'name': u'zydeco'}"
       ]
      },
      {
       "output_type": "stream",
       "stream": "stdout",
       "text": [
        "\n"
       ]
      }
     ],
     "prompt_number": 11
    },
    {
     "cell_type": "code",
     "collapsed": false,
     "input": [
      "genre_sim_tot = genre_sim_matrix + genre_sim_matrix2"
     ],
     "language": "python",
     "metadata": {},
     "outputs": [
      {
       "ename": "TypeError",
       "evalue": "unsupported operand type(s) for +: 'dict' and 'dict'",
       "output_type": "pyerr",
       "traceback": [
        "\u001b[0;31m---------------------------------------------------------------------------\u001b[0m\n\u001b[0;31mTypeError\u001b[0m                                 Traceback (most recent call last)",
        "\u001b[0;32m<ipython-input-12-31858ffc9188>\u001b[0m in \u001b[0;36m<module>\u001b[0;34m()\u001b[0m\n\u001b[0;32m----> 1\u001b[0;31m \u001b[0mgenre_sim_tot\u001b[0m \u001b[0;34m=\u001b[0m \u001b[0mgenre_sim_matrix\u001b[0m \u001b[0;34m+\u001b[0m \u001b[0mgenre_sim_matrix2\u001b[0m\u001b[0;34m\u001b[0m\u001b[0m\n\u001b[0m",
        "\u001b[0;31mTypeError\u001b[0m: unsupported operand type(s) for +: 'dict' and 'dict'"
       ]
      }
     ],
     "prompt_number": 12
    },
    {
     "cell_type": "code",
     "collapsed": false,
     "input": [
      "genre_sim_tot = genre_sim_matrix"
     ],
     "language": "python",
     "metadata": {},
     "outputs": [],
     "prompt_number": 13
    },
    {
     "cell_type": "code",
     "collapsed": false,
     "input": [
      "for k, v in genre_sim_matrix2.iteritems():\n",
      "    genre_sim_tot[k] = v"
     ],
     "language": "python",
     "metadata": {},
     "outputs": [],
     "prompt_number": 14
    },
    {
     "cell_type": "code",
     "collapsed": false,
     "input": [
      "genre_sim_tot['zydeco']"
     ],
     "language": "python",
     "metadata": {},
     "outputs": [
      {
       "metadata": {},
       "output_type": "pyout",
       "prompt_number": 16,
       "text": [
        "{u'cajun': 0.687243, u'swamp pop': 0.271605}"
       ]
      }
     ],
     "prompt_number": 16
    },
    {
     "cell_type": "code",
     "collapsed": false,
     "input": [
      "genre_sim_matrix2['zydeco']"
     ],
     "language": "python",
     "metadata": {},
     "outputs": [
      {
       "metadata": {},
       "output_type": "pyout",
       "prompt_number": 18,
       "text": [
        "{u'cajun': 0.687243, u'swamp pop': 0.271605}"
       ]
      }
     ],
     "prompt_number": 18
    },
    {
     "cell_type": "code",
     "collapsed": false,
     "input": [
      "for k in genre_sim_tot:\n",
      "    genre_sim_tot[k][k] = 1"
     ],
     "language": "python",
     "metadata": {},
     "outputs": [],
     "prompt_number": 19
    },
    {
     "cell_type": "code",
     "collapsed": false,
     "input": [
      "genre_sim_matrix2['zydeco']"
     ],
     "language": "python",
     "metadata": {},
     "outputs": [
      {
       "metadata": {},
       "output_type": "pyout",
       "prompt_number": 20,
       "text": [
        "{u'cajun': 0.687243, u'swamp pop': 0.271605, u'zydeco': 1}"
       ]
      }
     ],
     "prompt_number": 20
    },
    {
     "cell_type": "code",
     "collapsed": false,
     "input": [
      "genre_sim_tot"
     ],
     "language": "python",
     "metadata": {},
     "outputs": [
      {
       "metadata": {},
       "output_type": "pyout",
       "prompt_number": 21,
       "text": [
        "{u'a cappella': {u'a cappella': 1, u'barbershop': 0.150685},\n",
        " u'abstract': {u'abstract': 1,\n",
        "  u'glitch': 0.27933,\n",
        "  u'lowercase': 0.167598,\n",
        "  u'warm drone': 0.106145},\n",
        " u'abstract hip hop': {u'abstract hip hop': 1,\n",
        "  u'alternative hip hop': 0.130612,\n",
        "  u'hip hop': 0.110204,\n",
        "  u'outer hip hop': 0.122449,\n",
        "  u'turntablism': 0.146939,\n",
        "  u'underground hip hop': 0.367347,\n",
        "  u'underground rap': 0.155102},\n",
        " u'abstract idm': {u'abstract idm': 1, u'ambient idm': 0.106383},\n",
        " u'accordion': {u'accordion': 1},\n",
        " u'acid house': {u'acid house': 1,\n",
        "  u'chicago house': 0.625,\n",
        "  u'deep house': 0.103261,\n",
        "  u'detroit techno': 0.25,\n",
        "  u'electronic': 0.163043,\n",
        "  u'hip house': 0.277174,\n",
        "  u'intelligent dance music': 0.146739,\n",
        "  u'techno': 0.23913},\n",
        " u'acid jazz': {u'acid jazz': 1,\n",
        "  u'big beat': 0.183099,\n",
        "  u'broken beat': 0.192488,\n",
        "  u'chill-out': 0.478873,\n",
        "  u'deep house': 0.107981,\n",
        "  u'downtempo': 0.483568,\n",
        "  u'electro jazz': 0.122066,\n",
        "  u'electronic': 0.206573,\n",
        "  u'lounge': 0.244131,\n",
        "  u'ninja': 0.352113,\n",
        "  u'nu jazz': 0.652582,\n",
        "  u'trip hop': 0.43662,\n",
        "  u'turntablism': 0.159624},\n",
        " u'acid techno': {u'acid house': 0.098266,\n",
        "  u'acid techno': 1,\n",
        "  u'schranz': 0.069364,\n",
        "  u'techno': 0.057803},\n",
        " u'acousmatic': {u'acousmatic': 1,\n",
        "  u'avant-garde': 0.597222,\n",
        "  u'drone': 0.37963,\n",
        "  u'laboratorio': 0.12037,\n",
        "  u'minimal': 0.597222,\n",
        "  u'modern classical': 0.527778,\n",
        "  u'musique concrete': 0.726852,\n",
        "  u'serialism': 0.282407},\n",
        " u'acoustic blues': {u'acoustic blues': 1,\n",
        "  u'blues': 0.714815,\n",
        "  u'chicago blues': 0.596296,\n",
        "  u'country blues': 0.659259,\n",
        "  u'delta blues': 0.885185,\n",
        "  u'electric blues': 0.4,\n",
        "  u'harmonica blues': 0.322222,\n",
        "  u'jazz blues': 0.366667,\n",
        "  u'louisiana blues': 0.444444,\n",
        "  u'memphis blues': 0.759259,\n",
        "  u'piano blues': 0.444444,\n",
        "  u'piedmont blues': 0.677778,\n",
        "  u'soul blues': 0.337037,\n",
        "  u'swamp blues': 0.407407,\n",
        "  u'texas blues': 0.488889,\n",
        "  u'traditional blues': 0.911111},\n",
        " u'acoustic pop': {u'acoustic pop': 1,\n",
        "  u'folk-pop': 0.152727,\n",
        "  u'lilith': 0.16,\n",
        "  u'more acoustic pop': 0.163636,\n",
        "  u'neo mellow': 0.498182,\n",
        "  u'pop rock': 0.2,\n",
        "  u'singer-songwriter': 0.156364},\n",
        " u'adult standards': {u'adult standards': 1,\n",
        "  u'brill building pop': 0.205426,\n",
        "  u'cabaret': 0.348837,\n",
        "  u'christmas': 0.705426,\n",
        "  u'easy listening': 0.197674,\n",
        "  u'lounge': 0.472868,\n",
        "  u'more adult standards': 0.162791,\n",
        "  u'soft rock': 0.104651,\n",
        "  u'swing': 0.182171,\n",
        "  u'vocal jazz': 0.341085},\n",
        " u'african percussion': {u'african percussion': 1},\n",
        " u'african rock': {u'african rock': 1, u'afrikaans': 0.347107},\n",
        " u'afrikaans': {u'african rock': 0.334661, u'afrikaans': 1},\n",
        " u'afrobeat': {u'afrobeat': 1,\n",
        "  u'classic afrobeat': 0.355932,\n",
        "  u'deep funk': 0.124294,\n",
        "  u'highlife': 0.19774},\n",
        " u'afrobeats': {u'afrobeats': 1, u'azonto': 0.320175},\n",
        " u'aggrotech': {u'aggrotech': 1,\n",
        "  u'dark electro-industrial': 0.120301,\n",
        "  u'ebm': 0.315789,\n",
        "  u'electro-industrial': 0.398496,\n",
        "  u'futurepop': 0.285714},\n",
        " u'albanian pop': {u'albanian pop': 1},\n",
        " u'album rock': {u'album rock': 1,\n",
        "  u'art rock': 0.118132,\n",
        "  u'blues-rock': 0.271978,\n",
        "  u'british blues': 0.159341,\n",
        "  u'classic rock': 0.475275,\n",
        "  u'folk rock': 0.134615,\n",
        "  u'glam metal': 0.258242,\n",
        "  u'glam rock': 0.348901,\n",
        "  u'hard rock': 0.527473,\n",
        "  u'mellow gold': 0.370879,\n",
        "  u'progressive rock': 0.145604,\n",
        "  u'psychedelic rock': 0.142857,\n",
        "  u'rock': 0.747253,\n",
        "  u'roots rock': 0.118132,\n",
        "  u'soft rock': 0.326923,\n",
        "  u'southern rock': 0.18956},\n",
        " u'albuquerque indie': {u'albuquerque indie': 1},\n",
        " u'alternative americana': {u'alternative americana': 1,\n",
        "  u'neo honky tonk': 0.124294},\n",
        " u'alternative country': {u'alternative country': 1,\n",
        "  u'country rock': 0.272085,\n",
        "  u'cowpunk': 0.487633,\n",
        "  u'folk': 0.318021,\n",
        "  u'outlaw country': 0.243816,\n",
        "  u'roots rock': 0.420495,\n",
        "  u'singer-songwriter': 0.212014,\n",
        "  u'stomp and holler': 0.106007,\n",
        "  u'texas country': 0.219081},\n",
        " u'alternative dance': {u'alternative dance': 1,\n",
        "  u'chillwave': 0.101083,\n",
        "  u'dance-punk': 0.563177,\n",
        "  u'electro house': 0.191336,\n",
        "  u'electroclash': 0.368231,\n",
        "  u'electrofox': 0.198556,\n",
        "  u'filter house': 0.115523,\n",
        "  u'house': 0.101083,\n",
        "  u'indie pop': 0.133574,\n",
        "  u'indie rock': 0.158845,\n",
        "  u'indietronica': 0.552347,\n",
        "  u'new rave': 0.787004,\n",
        "  u'r-neg-b': 0.101083,\n",
        "  u'synthpop': 0.574007},\n",
        " u'alternative emo': {u'alternative emo': 1,\n",
        "  u'emo': 0.263158,\n",
        "  u'emo punk': 0.153509,\n",
        "  u'melodic hardcore': 0.210526,\n",
        "  u'more pop punk': 0.27193,\n",
        "  u'orgcore': 0.122807,\n",
        "  u'pop punk': 0.118421},\n",
        " u'alternative hip hop': {u'alternative hip hop': 1,\n",
        "  u'crunk': 0.126888,\n",
        "  u'dirty south rap': 0.160121,\n",
        "  u'east coast hip hop': 0.202417,\n",
        "  u'gangster rap': 0.102719,\n",
        "  u'hardcore hip hop': 0.178248,\n",
        "  u'hip hop': 0.507553,\n",
        "  u'pop rap': 0.438066,\n",
        "  u'rap': 0.214502,\n",
        "  u'soul flow': 0.126888,\n",
        "  u'southern hip hop': 0.169184,\n",
        "  u'trap music': 0.308157,\n",
        "  u'turntablism': 0.132931,\n",
        "  u'underground hip hop': 0.359517},\n",
        " u'alternative metal': {u'alternative metal': 1,\n",
        "  u'alternative rock': 0.23676,\n",
        "  u'funk metal': 0.439252,\n",
        "  u'funk rock': 0.292835,\n",
        "  u'groove metal': 0.417445,\n",
        "  u'grunge': 0.17757,\n",
        "  u'industrial metal': 0.311526,\n",
        "  u'industrial rock': 0.161994,\n",
        "  u'melodic metalcore': 0.127726,\n",
        "  u'metalcore': 0.165109,\n",
        "  u'nu metal': 0.819315,\n",
        "  u'pop rock': 0.105919,\n",
        "  u'post-grunge': 0.436137,\n",
        "  u'rap metal': 0.570093,\n",
        "  u'rap rock': 0.560748,\n",
        "  u'rock': 0.174455},\n",
        " u'alternative metalcore': {u'alternative metalcore': 1,\n",
        "  u'hard alternative': 0.058824},\n",
        " u'alternative new age': {u'alternative new age': 1,\n",
        "  u'healing': 0.271429,\n",
        "  u'new age': 0.142857},\n",
        " u'alternative pop': {u'alternative pop': 1,\n",
        "  u'alternative rock': 0.338983,\n",
        "  u'boston rock': 0.101695,\n",
        "  u'gbvfi': 0.237288,\n",
        "  u'indie rock': 0.135593,\n",
        "  u'lilith': 0.118644,\n",
        "  u'lo-fi': 0.259887,\n",
        "  u'power pop': 0.118644,\n",
        "  u'riot grrrl': 0.107345},\n",
        " u'alternative pop rock': {u'alternative pop rock': 1,\n",
        "  u'electropowerpop': 0.10177,\n",
        "  u'pop emo': 0.309735,\n",
        "  u'pop punk': 0.163717},\n",
        " u'alternative r&b': {u'alternative r&b': 1,\n",
        "  u'deep alternative r&b': 0.276786,\n",
        "  u'hip pop': 0.129464,\n",
        "  u'r&b': 0.174107,\n",
        "  u'sexy': 0.209821,\n",
        "  u'urban contemporary': 0.183036},\n",
        " u'alternative rock': {u'alternative metal': 0.184466,\n",
        "  u'alternative pop': 0.145631,\n",
        "  u'alternative rock': 1,\n",
        "  u'chamber pop': 0.145631,\n",
        "  u'funk metal': 0.169903,\n",
        "  u'grunge': 0.245146,\n",
        "  u'indie pop': 0.133495,\n",
        "  u'indie rock': 0.325243,\n",
        "  u'lo-fi': 0.313107,\n",
        "  u'neo-psychedelic': 0.191748,\n",
        "  u'noise pop': 0.201456,\n",
        "  u'pop rock': 0.252427,\n",
        "  u'post-grunge': 0.342233,\n",
        "  u'power pop': 0.140777,\n",
        "  u'rap rock': 0.13835,\n",
        "  u'rock': 0.247573},\n",
        " u'ambeat': {u'ambeat': 1},\n",
        " u'ambient': {u'ambient': 1,\n",
        "  u'deep ambient': 0.298013,\n",
        "  u'drone': 0.139073,\n",
        "  u'electronic': 0.112583,\n",
        "  u'fourth world': 0.397351,\n",
        "  u'glitch': 0.112583,\n",
        "  u'intelligent dance music': 0.172185,\n",
        "  u'new age': 0.139073,\n",
        "  u'organic ambient': 0.112583},\n",
        " u'ambient dub techno': {u'ambient dub techno': 1,\n",
        "  u'dub techno': 0.195745,\n",
        "  u'more dub techno': 0.114894},\n",
        " u'ambient fusion': {u'ambient fusion': 1, u'future ambient': 0.170124},\n",
        " u'ambient idm': {u'abstract idm': 0.081967,\n",
        "  u'ambient idm': 1,\n",
        "  u'drill and bass': 0.053279,\n",
        "  u'electronica': 0.069672,\n",
        "  u'intelligent dance music': 0.07377},\n",
        " u'ambient psychill': {u'ambient psychill': 1, u'psychill': 0.364407},\n",
        " u'ambient trance': {u'ambient trance': 1, u'chill-out trance': 0.182692},\n",
        " u'anarcho-punk': {u'anarcho-punk': 1,\n",
        "  u'crust punk': 0.306533,\n",
        "  u'oi': 0.135678},\n",
        " u'andean': {u'andean': 1,\n",
        "  u'chilean rock': 0.104,\n",
        "  u'classic peruvian pop': 0.104,\n",
        "  u'nueva cancion': 0.2},\n",
        " u'anime': {u'anime': 1,\n",
        "  u'anime score': 0.154167,\n",
        "  u'j-poprock': 0.158333,\n",
        "  u'j-theme': 0.154167},\n",
        " u'anime score': {u'anime': 0.246667, u'anime score': 1},\n",
        " u'anti-folk': {u'anti-folk': 1,\n",
        "  u'chamber pop': 0.278912,\n",
        "  u'folk-pop': 0.142857,\n",
        "  u'freak folk': 0.251701,\n",
        "  u'indie folk': 0.333333,\n",
        "  u'indie pop': 0.142857,\n",
        "  u'indie rock': 0.122449,\n",
        "  u'lo-fi': 0.204082,\n",
        "  u'new weird america': 0.204082,\n",
        "  u'singer-songwriter': 0.108844,\n",
        "  u'slow core': 0.170068,\n",
        "  u'stomp and holler': 0.22449},\n",
        " u'antiviral pop': {u'antiviral pop': 1, u'scorecore': 0.107843},\n",
        " u'appalachian folk': {u'appalachian folk': 1,\n",
        "  u'bluegrass': 0.145946,\n",
        "  u'old-time': 0.481081,\n",
        "  u'progressive bluegrass': 0.102703,\n",
        "  u'vintage country folk': 0.545946,\n",
        "  u'vintage gospel': 0.102703},\n",
        " u'arab folk': {u'arab folk': 1, u'arab pop': 0.220859},\n",
        " u'arab pop': {u'arab folk': 0.15, u'arab pop': 1, u'belly dance': 0.233333},\n",
        " u'arabesk': {u'arabesk': 1,\n",
        "  u'more turkish pop': 0.314159,\n",
        "  u'turkish folk': 0.119469,\n",
        "  u'turkish pop': 0.247788},\n",
        " u'argentine rock': {u'argentine rock': 1,\n",
        "  u'latin alternative': 0.162393,\n",
        "  u'rio de la plata': 0.15812,\n",
        "  u'rock en espanol': 0.508547},\n",
        " u'armenian folk': {u'armenian folk': 1, u'caucasian folk': 0.25974},\n",
        " u'art rock': {u'album rock': 0.165385,\n",
        "  u'art rock': 1,\n",
        "  u'canterbury scene': 0.396154,\n",
        "  u'dance rock': 0.215385,\n",
        "  u'experimental': 0.188462,\n",
        "  u'glam rock': 0.188462,\n",
        "  u'kraut rock': 0.157692,\n",
        "  u'neo-progressive': 0.146154,\n",
        "  u'new romantic': 0.184615,\n",
        "  u'new wave': 0.238462,\n",
        "  u'post-punk': 0.130769,\n",
        "  u'progressive rock': 0.561538,\n",
        "  u'psychedelic rock': 0.134615,\n",
        "  u'space rock': 0.288462,\n",
        "  u'symphonic rock': 0.542308,\n",
        "  u'zolo': 0.146154},\n",
        " u'athens indie': {u'athens indie': 1, u'e6fi': 0.116279},\n",
        " u'atmospheric black metal': {u'atmospheric black metal': 1,\n",
        "  u'avantgarde metal': 0.286853,\n",
        "  u'black metal': 0.36255,\n",
        "  u'blackgaze': 0.167331,\n",
        "  u'chaotic black metal': 0.250996,\n",
        "  u'depressive black metal': 0.513944,\n",
        "  u'pagan black metal': 0.50996,\n",
        "  u'post-metal': 0.12749,\n",
        "  u'symphonic black metal': 0.123506},\n",
        " u'atmospheric post rock': {u'atmospheric post rock': 1,\n",
        "  u'instrumental post rock': 0.223881,\n",
        "  u'post rock': 0.227612},\n",
        " u'atmospheric post-metal': {u'atmospheric post-metal': 1,\n",
        "  u'black sludge': 0.12,\n",
        "  u'post-metal': 0.344,\n",
        "  u'sludge metal': 0.148},\n",
        " u'aussietronica': {u'aussietronica': 1,\n",
        "  u'australian alternative rock': 0.130435},\n",
        " u'austindie': {u'austindie': 1, u'lo star': 0.068627},\n",
        " u'australian alternative rock': {u'australian alternative rock': 1,\n",
        "  u'australian indie': 0.217241,\n",
        "  u'australian pop': 0.255172},\n",
        " u'australian country': {u'australian country': 1,\n",
        "  u'country dawn': 0.163793,\n",
        "  u'more contemporary country': 0.146552},\n",
        " u'australian dance': {u'alternative dance': 0.08871,\n",
        "  u'australian dance': 1,\n",
        "  u'australian pop': 0.08871,\n",
        "  u'big room': 0.096774,\n",
        "  u'dance-punk': 0.056452,\n",
        "  u'edm': 0.080645,\n",
        "  u'electro house': 0.096774,\n",
        "  u'house': 0.08871,\n",
        "  u'indietronica': 0.072581,\n",
        "  u'new rave': 0.08871,\n",
        "  u'progressive electro house': 0.056452,\n",
        "  u'synthpop': 0.072581},\n",
        " u'australian hip hop': {u'australian hip hop': 1},\n",
        " u'australian indie': {u'australian alternative rock': 0.326425,\n",
        "  u'australian indie': 1},\n",
        " u'australian pop': {u'australian alternative rock': 0.300813,\n",
        "  u'australian pop': 1},\n",
        " u'austropop': {u'austropop': 1,\n",
        "  u'kabarett': 0.086207,\n",
        "  u'liedermacher': 0.086207,\n",
        "  u'vienna indie': 0.063218},\n",
        " u'avant-garde': {u'acousmatic': 0.505882,\n",
        "  u'avant-garde': 1,\n",
        "  u'classical': 0.298039,\n",
        "  u'contemporary classical': 0.152941,\n",
        "  u'drone': 0.235294,\n",
        "  u'minimal': 0.541176,\n",
        "  u'modern classical': 0.901961,\n",
        "  u'modern performance': 0.117647,\n",
        "  u'musique concrete': 0.309804,\n",
        "  u'romantic': 0.231373,\n",
        "  u'serialism': 0.462745},\n",
        " u'avant-garde jazz': {u'avant-garde jazz': 1,\n",
        "  u'bebop': 0.125461,\n",
        "  u'contemporary jazz': 0.177122,\n",
        "  u'contemporary post-bop': 0.206642,\n",
        "  u'cool jazz': 0.132841,\n",
        "  u'free improvisation': 0.523985,\n",
        "  u'free jazz': 0.867159,\n",
        "  u'hard bop': 0.103321,\n",
        "  u'jazz': 0.177122,\n",
        "  u'modern free jazz': 0.162362},\n",
        " u'avantgarde metal': {u'atmospheric black metal': 0.311688,\n",
        "  u'avantgarde metal': 1,\n",
        "  u'black metal': 0.450216,\n",
        "  u'death metal': 0.108225,\n",
        "  u'folk metal': 0.160173,\n",
        "  u'jazz metal': 0.251082,\n",
        "  u'melodic death metal': 0.108225,\n",
        "  u'metal': 0.108225,\n",
        "  u'pagan black metal': 0.532468,\n",
        "  u'post-metal': 0.194805,\n",
        "  u'symphonic black metal': 0.337662,\n",
        "  u'viking metal': 0.212121},\n",
        " u'axe': {u'axe': 1,\n",
        "  u'forro': 0.103261,\n",
        "  u'pagode': 0.434783,\n",
        "  u'sertanejo universitario': 0.157609},\n",
        " u'azonto': {u'afrobeats': 0.372449,\n",
        "  u'azonto': 1,\n",
        "  u'highlife': 0.112245,\n",
        "  u'hiplife': 0.704082},\n",
        " u'bachata': {u'bachata': 1,\n",
        "  u'dominican pop': 0.21875,\n",
        "  u'hurban': 0.352679,\n",
        "  u'merengue': 0.629464,\n",
        "  u'merengue urbano': 0.165179,\n",
        "  u'salsa': 0.169643,\n",
        "  u'tropical': 0.433036},\n",
        " u'baile funk': {u'axe': 0.063492, u'baile funk': 1},\n",
        " u'balearic': {u'balearic': 1, u'nu disco': 0.206009},\n",
        " u'balkan brass': {u'balkan brass': 1, u'klezmer': 0.065502},\n",
        " u'banda': {u'banda': 1,\n",
        "  u'duranguense': 0.445887,\n",
        "  u'grupera': 0.761905,\n",
        "  u'mariachi': 0.380952,\n",
        "  u'more regional mexican': 0.220779,\n",
        "  u'norteno': 0.805195,\n",
        "  u'ranchera': 0.359307,\n",
        "  u'regional mexican': 0.887446},\n",
        " u'bangla': {u'bangla': 1},\n",
        " u'barbershop': {u'a cappella': 0.108911, u'barbershop': 1},\n",
        " u'barnemusikk': {u'barnemusikk': 1, u'classic norwegian pop': 0.081197},\n",
        " u'baroque': {u'baroque': 1,\n",
        "  u'classical': 0.305439,\n",
        "  u'classical christmas': 0.1841,\n",
        "  u'classical period': 0.217573,\n",
        "  u'early music': 0.192469,\n",
        "  u'renaissance': 0.158996,\n",
        "  u'romantic': 0.192469},\n",
        " u'baroque ensemble': {u'baroque ensemble': 1, u'more baroque': 0.066986},\n",
        " u'basque rock': {u'basque rock': 1, u'spanish punk': 0.15311},\n",
        " u'bass music': {u'bass music': 1,\n",
        "  u'dubstep': 0.690987,\n",
        "  u'footwork': 0.124464,\n",
        "  u'future garage': 0.373391},\n",
        " u'bass trip': {u'bass trip': 1},\n",
        " u'bassline': {u'bassline': 1, u'speed garage': 0.28, u'uk garage': 0.184},\n",
        " u'bay area hip hop': {u'bay area hip hop': 1, u'hyphy': 0.356021},\n",
        " u'beach music': {u'beach music': 1,\n",
        "  u'brill building pop': 0.141732,\n",
        "  u'chicago soul': 0.440945,\n",
        "  u'jazz blues': 0.11811,\n",
        "  u'memphis soul': 0.283465,\n",
        "  u'motown': 0.346457,\n",
        "  u'northern soul': 0.362205,\n",
        "  u'quiet storm': 0.110236,\n",
        "  u'soul': 0.291339,\n",
        "  u'soul blues': 0.204724,\n",
        "  u'southern soul': 0.338583},\n",
        " u'beatdown': {u'beatdown': 1, u'hardcore': 0.198276},\n",
        " u'beats & rhymes': {u'beats & rhymes': 1,\n",
        "  u'deep flow': 0.123077,\n",
        "  u'flick hop': 0.223077,\n",
        "  u'soul flow': 0.169231},\n",
        " u'bebop': {u'avant-garde jazz': 0.128788,\n",
        "  u'bebop': 1,\n",
        "  u'big band': 0.348485,\n",
        "  u'contemporary post-bop': 0.655303,\n",
        "  u'cool jazz': 0.82197,\n",
        "  u'free jazz': 0.113636,\n",
        "  u'hard bop': 0.799242,\n",
        "  u'jazz': 0.784091,\n",
        "  u'jazz christmas': 0.200758,\n",
        "  u'jazz funk': 0.17803,\n",
        "  u'jazz fusion': 0.132576,\n",
        "  u'soul jazz': 0.484848,\n",
        "  u'stride': 0.170455},\n",
        " u'belgian indie': {u'belgian indie': 1, u'belgian rock': 0.198582},\n",
        " u'belgian rock': {u'belgian indie': 0.122807,\n",
        "  u'belgian rock': 1,\n",
        "  u'classic belgian pop': 0.175439},\n",
        " u'belly dance': {u'arab pop': 0.302703, u'belly dance': 1},\n",
        " u'bemani': {u'bemani': 1, u'j-core': 0.062827},\n",
        " u'benga': {u'benga': 1, u'soukous': 0.21831},\n",
        " u'bhangra': {u'bhangra': 1,\n",
        "  u'desi': 0.839286,\n",
        "  u'indian pop': 0.205357,\n",
        "  u'punjabi': 0.879464},\n",
        " u'big band': {u'bebop': 0.368,\n",
        "  u'big band': 1,\n",
        "  u'christmas': 0.12,\n",
        "  u'contemporary post-bop': 0.224,\n",
        "  u'cool jazz': 0.376,\n",
        "  u'hard bop': 0.272,\n",
        "  u'jazz': 0.36,\n",
        "  u'jazz christmas': 0.104,\n",
        "  u'new orleans jazz': 0.292,\n",
        "  u'ragtime': 0.14,\n",
        "  u'soul jazz': 0.156,\n",
        "  u'stride': 0.292,\n",
        "  u'swing': 0.664},\n",
        " u'big beat': {u'acid jazz': 0.154762,\n",
        "  u'big beat': 1,\n",
        "  u'breakbeat': 0.412698,\n",
        "  u'chill-out': 0.365079,\n",
        "  u'downtempo': 0.333333,\n",
        "  u'electronic': 0.710317,\n",
        "  u'house': 0.103175,\n",
        "  u'intelligent dance music': 0.111111,\n",
        "  u'ninja': 0.214286,\n",
        "  u'nu jazz': 0.218254,\n",
        "  u'nu skool breaks': 0.202381,\n",
        "  u'trip hop': 0.357143,\n",
        "  u'turntablism': 0.162698},\n",
        " u'big room': {u'big room': 1,\n",
        "  u'dutch house': 0.175097,\n",
        "  u'edm': 0.420233,\n",
        "  u'electro house': 0.36965,\n",
        "  u'house': 0.245136,\n",
        "  u'progressive electro house': 0.618677,\n",
        "  u'progressive house': 0.198444},\n",
        " u'black death': {u'black death': 1,\n",
        "  u'black thrash': 0.288793,\n",
        "  u'charred death': 0.163793,\n",
        "  u'grim death metal': 0.232759},\n",
        " u'black metal': {u'atmospheric black metal': 0.356863,\n",
        "  u'avantgarde metal': 0.407843,\n",
        "  u'black metal': 1,\n",
        "  u'black thrash': 0.113725,\n",
        "  u'dark black metal': 0.188235,\n",
        "  u'death metal': 0.164706,\n",
        "  u'depressive black metal': 0.105882,\n",
        "  u'folk metal': 0.2,\n",
        "  u'melodic death metal': 0.12549,\n",
        "  u'metal': 0.14902,\n",
        "  u'pagan black metal': 0.698039,\n",
        "  u'symphonic black metal': 0.462745,\n",
        "  u'viking metal': 0.305882},\n",
        " u'black sludge': {u'atmospheric post-metal': 0.123457,\n",
        "  u'black sludge': 1,\n",
        "  u'doom metal': 0.115226,\n",
        "  u'drone': 0.135802,\n",
        "  u'post-metal': 0.131687,\n",
        "  u'sludge metal': 0.386831,\n",
        "  u'stoner metal': 0.226337,\n",
        "  u'stoner rock': 0.152263},\n",
        " u'black thrash': {u'black death': 0.323671,\n",
        "  u'black metal': 0.140097,\n",
        "  u'black thrash': 1,\n",
        "  u'death metal': 0.125604,\n",
        "  u'metal': 0.111111,\n",
        "  u'speed metal': 0.115942,\n",
        "  u'thrash metal': 0.144928},\n",
        " u'blackgaze': {u'atmospheric black metal': 0.278146,\n",
        "  u'blackgaze': 1,\n",
        "  u'chaotic black metal': 0.119205,\n",
        "  u'depressive black metal': 0.211921,\n",
        "  u'pagan black metal': 0.165563},\n",
        " u'blaskapelle': {u'blaskapelle': 1,\n",
        "  u'military band': 0.052632,\n",
        "  u'volksmusik': 0.062201},\n",
        " u'bluegrass': {u'appalachian folk': 0.108434,\n",
        "  u'bluegrass': 1,\n",
        "  u'old-time': 0.120482,\n",
        "  u'progressive bluegrass': 0.738956},\n",
        " u'blues': {u'acoustic blues': 0.722846,\n",
        "  u'blues': 1,\n",
        "  u'chicago blues': 0.835206,\n",
        "  u'country blues': 0.632959,\n",
        "  u'delta blues': 0.76779,\n",
        "  u'electric blues': 0.569288,\n",
        "  u'harmonica blues': 0.41573,\n",
        "  u'jazz blues': 0.423221,\n",
        "  u'louisiana blues': 0.569288,\n",
        "  u'memphis blues': 0.782772,\n",
        "  u'piano blues': 0.483146,\n",
        "  u'piedmont blues': 0.509363,\n",
        "  u'soul blues': 0.449438,\n",
        "  u'swamp blues': 0.524345,\n",
        "  u'texas blues': 0.636704,\n",
        "  u'traditional blues': 0.928839},\n",
        " u'blues-rock': {u'album rock': 0.358696,\n",
        "  u'blues': 0.17029,\n",
        "  u'blues-rock': 1,\n",
        "  u'british blues': 0.619565,\n",
        "  u'classic rock': 0.721014,\n",
        "  u'country blues': 0.166667,\n",
        "  u'electric blues': 0.471014,\n",
        "  u'hard rock': 0.195652,\n",
        "  u'mellow gold': 0.217391,\n",
        "  u'modern blues': 0.449275,\n",
        "  u'psychedelic rock': 0.246377,\n",
        "  u'rock': 0.380435,\n",
        "  u'roots rock': 0.166667,\n",
        "  u'southern rock': 0.358696,\n",
        "  u'texas blues': 0.365942,\n",
        "  u'traditional blues': 0.15942},\n",
        " u'blues-rock guitar': {u'blues-rock guitar': 1,\n",
        "  u'power blues-rock': 0.320856},\n",
        " u'bmore': {u'bmore': 1, u'moombahton': 0.109091},\n",
        " u'bolero': {u'bolero': 1,\n",
        "  u'grupera': 0.123762,\n",
        "  u'mariachi': 0.435644,\n",
        "  u'ranchera': 0.450495},\n",
        " u'boogaloo': {u'boogaloo': 1,\n",
        "  u'cuban rumba': 0.12931,\n",
        "  u'latin jazz': 0.344828,\n",
        "  u'mambo': 0.366379,\n",
        "  u'merengue': 0.198276,\n",
        "  u'salsa': 0.74569,\n",
        "  u'salsa international': 0.310345,\n",
        "  u'tropical': 0.314655},\n",
        " u'boogie-woogie': {u'acoustic blues': 0.175676,\n",
        "  u'blues': 0.189189,\n",
        "  u'boogie-woogie': 1,\n",
        "  u'chicago blues': 0.189189,\n",
        "  u'delta blues': 0.175676,\n",
        "  u'harmonica blues': 0.121622,\n",
        "  u'jazz blues': 0.277027,\n",
        "  u'jump blues': 0.22973,\n",
        "  u'louisiana blues': 0.202703,\n",
        "  u'memphis blues': 0.277027,\n",
        "  u'new orleans blues': 0.22973,\n",
        "  u'piano blues': 0.689189,\n",
        "  u'soul blues': 0.189189,\n",
        "  u'swamp blues': 0.155405,\n",
        "  u'texas blues': 0.128378,\n",
        "  u'traditional blues': 0.182432},\n",
        " u'bossa nova': {u'bossa nova': 1,\n",
        "  u'bossa nova jazz': 0.261044,\n",
        "  u'brazilian pop music': 0.485944,\n",
        "  u'choro': 0.248996,\n",
        "  u'forro': 0.13253,\n",
        "  u'mpb': 0.630522,\n",
        "  u'samba': 0.662651,\n",
        "  u'velha guarda': 0.297189},\n",
        " u'bossa nova jazz': {u'bossa nova': 0.349462,\n",
        "  u'bossa nova jazz': 1,\n",
        "  u'mpb': 0.139785,\n",
        "  u'samba': 0.150538},\n",
        " u'boston rock': {u'alternative pop': 0.141732,\n",
        "  u'alternative rock': 0.11811,\n",
        "  u'boston rock': 1},\n",
        " u'bounce': {u'bounce': 1,\n",
        "  u'crunk': 0.07874,\n",
        "  u'dirty south rap': 0.07874,\n",
        "  u'gangster rap': 0.055118,\n",
        "  u'southern hip hop': 0.070866,\n",
        "  u'trap music': 0.062992},\n",
        " u'bouncy house': {u'bouncy house': 1, u'deep happy hardcore': 0.16129},\n",
        " u'bow pop': {u'bow pop': 1,\n",
        "  u'cello': 0.060345,\n",
        "  u'fourth world': 0.051724,\n",
        "  u'minimal': 0.077586,\n",
        "  u'new age': 0.068966,\n",
        "  u'post rock': 0.086207,\n",
        "  u'violin': 0.060345},\n",
        " u'boy band': {u'boy band': 1,\n",
        "  u'dance pop': 0.253968,\n",
        "  u'europop': 0.166667,\n",
        "  u'new jack swing': 0.103175,\n",
        "  u'pop': 0.150794,\n",
        "  u'pop christmas': 0.103175,\n",
        "  u'sexy': 0.103175,\n",
        "  u'teen pop': 0.111111},\n",
        " u'brass band': {u'brass band': 1,\n",
        "  u'brass ensemble': 0.130769,\n",
        "  u'british brass band': 0.107692,\n",
        "  u'new orleans blues': 0.384615},\n",
        " u'brass ensemble': {u'brass ensemble': 1, u'british brass band': 0.392473},\n",
        " u'brazilian gospel': {u'brazilian gospel': 1},\n",
        " u'brazilian hip hop': {u'brazilian hip hop': 1,\n",
        "  u'brazilian indie': 0.052632,\n",
        "  u'brazilian pop music': 0.098684,\n",
        "  u'mpb': 0.065789,\n",
        "  u'rock gaucho': 0.059211},\n",
        " u'brazilian indie': {u'brazilian indie': 1,\n",
        "  u'brazilian pop music': 0.169725,\n",
        "  u'mpb': 0.151376,\n",
        "  u'rock gaucho': 0.183486,\n",
        "  u'samba': 0.100917},\n",
        " u'brazilian pop music': {u'bossa nova': 0.424561,\n",
        "  u'brazilian indie': 0.129825,\n",
        "  u'brazilian pop music': 1,\n",
        "  u'choro': 0.154386,\n",
        "  u'forro': 0.129825,\n",
        "  u'mpb': 0.761404,\n",
        "  u'rock gaucho': 0.221053,\n",
        "  u'samba': 0.589474,\n",
        "  u'velha guarda': 0.2},\n",
        " u'brazilian punk': {u'brazilian pop music': 0.176056,\n",
        "  u'brazilian punk': 1,\n",
        "  u'rock gaucho': 0.330986},\n",
        " u'breakbeat': {u'big beat': 0.468468,\n",
        "  u'breakbeat': 1,\n",
        "  u'electronic': 0.324324,\n",
        "  u'nu skool breaks': 0.63964,\n",
        "  u'trip hop': 0.108108},\n",
        " u'breakcore': {u'breakcore': 1,\n",
        "  u'deep breakcore': 0.246305,\n",
        "  u'digital hardcore': 0.152709,\n",
        "  u'drill and bass': 0.635468,\n",
        "  u'intelligent dance music': 0.103448},\n",
        " u'breaks': {u'breaks': 1, u'nu skool breaks': 0.084507},\n",
        " u'brega': {u'axe': 0.056738,\n",
        "  u'brega': 1,\n",
        "  u'forro': 0.070922,\n",
        "  u'mpb': 0.056738,\n",
        "  u'samba': 0.056738},\n",
        " u'breton folk': {u'breton folk': 1},\n",
        " u'brill building pop': {u'adult standards': 0.207843,\n",
        "  u'brill building pop': 1,\n",
        "  u'british invasion': 0.282353,\n",
        "  u'bubblegum pop': 0.231373,\n",
        "  u'chicago soul': 0.129412,\n",
        "  u'christmas': 0.121569,\n",
        "  u'doo-wop': 0.203922,\n",
        "  u'merseybeat': 0.223529,\n",
        "  u'motown': 0.133333,\n",
        "  u'rock-and-roll': 0.32549,\n",
        "  u'rockabilly': 0.180392},\n",
        " u'british alternative rock': {u'british alternative rock': 1,\n",
        "  u'math pop': 0.085366,\n",
        "  u'pop emo': 0.091463,\n",
        "  u'screamo': 0.060976},\n",
        " u'british blues': {u'album rock': 0.184713,\n",
        "  u'blues': 0.152866,\n",
        "  u'blues-rock': 0.544586,\n",
        "  u'british blues': 1,\n",
        "  u'british invasion': 0.289809,\n",
        "  u'chicago blues': 0.152866,\n",
        "  u'classic rock': 0.474522,\n",
        "  u'electric blues': 0.410828,\n",
        "  u'freakbeat': 0.194268,\n",
        "  u'merseybeat': 0.184713,\n",
        "  u'modern blues': 0.372611,\n",
        "  u'protopunk': 0.197452,\n",
        "  u'psychedelic rock': 0.308917,\n",
        "  u'rock': 0.181529,\n",
        "  u'southern rock': 0.175159,\n",
        "  u'texas blues': 0.315287},\n",
        " u'british brass band': {u'brass ensemble': 0.366834,\n",
        "  u'british brass band': 1},\n",
        " u'british dance band': {u'british dance band': 1, u'swing': 0.051948},\n",
        " u'british folk': {u'british folk': 1,\n",
        "  u'country rock': 0.106719,\n",
        "  u'folk': 0.3083,\n",
        "  u'folk christmas': 0.114625,\n",
        "  u'folk rock': 0.426877,\n",
        "  u'folk-pop': 0.213439,\n",
        "  u'mellow gold': 0.162055,\n",
        "  u'roots rock': 0.13834,\n",
        "  u'singer-songwriter': 0.347826,\n",
        "  u'traditional british folk': 0.181818,\n",
        "  u'traditional folk': 0.375494},\n",
        " u'british indie rock': {u'british indie rock': 1,\n",
        "  u'dance-punk': 0.106996,\n",
        "  u'indie rock': 0.18107,\n",
        "  u'new rave': 0.131687},\n",
        " u'british invasion': {u'brill building pop': 0.271698,\n",
        "  u'british blues': 0.343396,\n",
        "  u'british invasion': 1,\n",
        "  u'bubblegum pop': 0.535849,\n",
        "  u'classic garage rock': 0.143396,\n",
        "  u'classic rock': 0.116981,\n",
        "  u'freakbeat': 0.169811,\n",
        "  u'merseybeat': 0.762264,\n",
        "  u'protopunk': 0.154717,\n",
        "  u'psychedelic rock': 0.184906,\n",
        "  u'rock-and-roll': 0.181132},\n",
        " u'britpop': {u'alternative rock': 0.117424,\n",
        "  u'britpop': 1,\n",
        "  u'chamber pop': 0.109848,\n",
        "  u'indie rock': 0.174242,\n",
        "  u'madchester': 0.776515,\n",
        "  u'rock': 0.189394},\n",
        " u'broadway': {u'broadway': 1,\n",
        "  u'hollywood': 0.101064,\n",
        "  u'show tunes': 0.260638},\n",
        " u'broken beat': {u'acid jazz': 0.219251,\n",
        "  u'broken beat': 1,\n",
        "  u'chill-out': 0.117647,\n",
        "  u'deep house': 0.112299,\n",
        "  u'downtempo': 0.117647,\n",
        "  u'ninja': 0.117647,\n",
        "  u'nu jazz': 0.203209},\n",
        " u'brooklyn indie': {u'brooklyn indie': 1},\n",
        " u'brostep': {u'brostep': 1,\n",
        "  u'catstep': 0.260664,\n",
        "  u'chillstep': 0.132701,\n",
        "  u'complextro': 0.156398,\n",
        "  u'dubstep': 0.127962,\n",
        "  u'edm': 0.123223,\n",
        "  u'filthstep': 0.540284},\n",
        " u'brutal death metal': {u'brutal death metal': 1,\n",
        "  u'death core': 0.152416,\n",
        "  u'death metal': 0.639405,\n",
        "  u'deathgrind': 0.687732,\n",
        "  u'goregrind': 0.349442,\n",
        "  u'grindcore': 0.364312,\n",
        "  u'jazz metal': 0.100372,\n",
        "  u'slam death metal': 0.215613,\n",
        "  u'technical brutal death metal': 0.267658,\n",
        "  u'technical death metal': 0.806691},\n",
        " u'brutal deathcore': {u'brutal deathcore': 1, u'death core': 0.350211},\n",
        " u'bubble trance': {u'bubble trance': 1,\n",
        "  u'eurodance': 0.116279,\n",
        "  u'german techno': 0.125581},\n",
        " u'bubblegum dance': {u'bubblegum dance': 1,\n",
        "  u'eurodance': 0.703448,\n",
        "  u'europop': 0.42069,\n",
        "  u'hip house': 0.234483},\n",
        " u'bubblegum pop': {u'brill building pop': 0.231373,\n",
        "  u'british blues': 0.14902,\n",
        "  u'british invasion': 0.556863,\n",
        "  u'bubblegum pop': 1,\n",
        "  u'classic garage rock': 0.137255,\n",
        "  u'freakbeat': 0.101961,\n",
        "  u'merseybeat': 0.478431,\n",
        "  u'rock-and-roll': 0.121569,\n",
        "  u'soft rock': 0.105882},\n",
        " u'bulgarian rock': {u'bulgarian rock': 1, u'chalga': 0.18617},\n",
        " u'c-pop': {u'c-pop': 1,\n",
        "  u'cantopop': 0.725738,\n",
        "  u'classic chinese pop': 0.383966,\n",
        "  u'mandopop': 0.248945,\n",
        "  u'taiwanese pop': 0.257384},\n",
        " u'c64': {u'c64': 1, u'demoscene': 0.148352},\n",
        " u'c86': {u'c86': 1,\n",
        "  u'indie fuzzpop': 0.272727,\n",
        "  u'twee indie pop': 0.140496,\n",
        "  u'twee pop': 0.760331},\n",
        " u'cabaret': {u'adult standards': 0.351563,\n",
        "  u'cabaret': 1,\n",
        "  u'chanson': 0.105469,\n",
        "  u'christmas': 0.355469,\n",
        "  u'hollywood': 0.132813,\n",
        "  u'lounge': 0.253906,\n",
        "  u'show tunes': 0.265625,\n",
        "  u'swing': 0.15625,\n",
        "  u'vocal jazz': 0.429688},\n",
        " u'cajun': {u'cajun': 1, u'swamp pop': 0.240664, u'zydeco': 0.692946},\n",
        " u'calypso': {u'calypso': 1, u'soca': 0.183099},\n",
        " u'canadian country': {u'canadian country': 1,\n",
        "  u'contemporary country': 0.125,\n",
        "  u'country road': 0.125,\n",
        "  u'modern country rock': 0.11413},\n",
        " u'canadian hip hop': {u'canadian hip hop': 1, u'outer hip hop': 0.273292},\n",
        " u'canadian indie': {u'canadian indie': 1, u'more canadian indie': 0.282258},\n",
        " u'canadian pop': {u'alternative r&b': 0.059829,\n",
        "  u'canadian indie': 0.076923,\n",
        "  u'canadian pop': 1,\n",
        "  u'more dance pop': 0.08547,\n",
        "  u'sexy': 0.051282},\n",
        " u'candy pop': {u'candy pop': 1,\n",
        "  u'lilith': 0.147826,\n",
        "  u'new wave pop': 0.104348,\n",
        "  u'pop': 0.130435,\n",
        "  u'pop emo': 0.104348,\n",
        "  u'pop rock': 0.13913,\n",
        "  u'teen pop': 0.173913},\n",
        " u'cantautor': {u'cantautor': 1,\n",
        "  u'nueva cancion': 0.193939,\n",
        "  u'rock en espanol': 0.121212,\n",
        "  u'spanish pop': 0.284848,\n",
        "  u'trova': 0.242424},\n",
        " u'cante flamenco': {u'cante flamenco': 1,\n",
        "  u'flamenco': 0.223744,\n",
        "  u'rumba': 0.109589},\n",
        " u'canterbury scene': {u'art rock': 0.440171,\n",
        "  u'canterbury scene': 1,\n",
        "  u'experimental': 0.123932,\n",
        "  u'italian progressive rock': 0.119658,\n",
        "  u'kraut rock': 0.260684,\n",
        "  u'progressive rock': 0.465812,\n",
        "  u'space rock': 0.307692,\n",
        "  u'symphonic rock': 0.474359,\n",
        "  u'zeuhl': 0.128205},\n",
        " u'cantopop': {u'c-pop': 0.699187,\n",
        "  u'cantopop': 1,\n",
        "  u'classic chinese pop': 0.308943,\n",
        "  u'mandopop': 0.227642,\n",
        "  u'taiwanese pop': 0.247967},\n",
        " u'canzone napoletana': {u'canzone napoletana': 1,\n",
        "  u'classic italian pop': 0.167382},\n",
        " u'capoeira': {u'capoeira': 1},\n",
        " u'carnatic': {u'carnatic': 1,\n",
        "  u'hindustani classical': 0.123404,\n",
        "  u'indian classical': 0.323404},\n",
        " u'catstep': {u'brostep': 0.321637,\n",
        "  u'catstep': 1,\n",
        "  u'chillstep': 0.251462,\n",
        "  u'complextro': 0.169591,\n",
        "  u'filthstep': 0.321637},\n",
        " u'caucasian folk': {u'armenian folk': 0.222222,\n",
        "  u'caucasian folk': 1,\n",
        "  u'polyphony': 0.166667},\n",
        " u'ccm': {u'ccm': 1,\n",
        "  u'christian alternative rock': 0.748227,\n",
        "  u'christian christmas': 0.51773,\n",
        "  u'christian music': 0.946809,\n",
        "  u'christian rock': 0.638298,\n",
        "  u'worship': 0.780142},\n",
        " u'ceilidh': {u'ceilidh': 1, u'traditional scottish folk': 0.119205},\n",
        " u'cello': {u'cello': 1, u'more cello': 0.363158},\n",
        " u'celtic': {u'celtic': 1,\n",
        "  u'celtic christmas': 0.245763,\n",
        "  u'celtic rock': 0.423729,\n",
        "  u'irish folk': 0.847458,\n",
        "  u'jig and reel': 0.131356},\n",
        " u'celtic christmas': {u'celtic': 0.537037,\n",
        "  u'celtic christmas': 1,\n",
        "  u'celtic rock': 0.277778,\n",
        "  u'irish folk': 0.472222,\n",
        "  u'new age': 0.111111,\n",
        "  u'nl folk': 0.138889},\n",
        " u'celtic punk': {u'celtic punk': 1,\n",
        "  u'celtic rock': 0.253219,\n",
        "  u'folk punk': 0.158798},\n",
        " u'celtic rock': {u'celtic': 0.531915,\n",
        "  u'celtic christmas': 0.159574,\n",
        "  u'celtic punk': 0.31383,\n",
        "  u'celtic rock': 1,\n",
        "  u'folk punk': 0.143617,\n",
        "  u'irish folk': 0.505319},\n",
        " u'chalga': {u'bulgarian rock': 0.188172,\n",
        "  u'chalga': 1,\n",
        "  u'sevdah': 0.102151,\n",
        "  u'turbo folk': 0.188172},\n",
        " u'chamber pop': {u'alternative rock': 0.175953,\n",
        "  u'anti-folk': 0.120235,\n",
        "  u'chamber pop': 1,\n",
        "  u'folk-pop': 0.246334,\n",
        "  u'freak folk': 0.313783,\n",
        "  u'indie christmas': 0.152493,\n",
        "  u'indie folk': 0.580645,\n",
        "  u'indie pop': 0.516129,\n",
        "  u'indie rock': 0.478006,\n",
        "  u'lo-fi': 0.372434,\n",
        "  u'neo-psychedelic': 0.193548,\n",
        "  u'new weird america': 0.146628,\n",
        "  u'noise pop': 0.164223,\n",
        "  u'singer-songwriter': 0.173021,\n",
        "  u'slow core': 0.328446,\n",
        "  u'stomp and holler': 0.410557},\n",
        " u'chanson': {u'cabaret': 0.102662,\n",
        "  u'chanson': 1,\n",
        "  u'french pop': 0.269962,\n",
        "  u'french rock': 0.262357,\n",
        "  u'vintage chanson': 0.102662,\n",
        "  u'ye ye': 0.171103},\n",
        " u'chanson quebecois': {u'chanson quebecois': 1, u'quebecois': 0.247573},\n",
        " u'chaotic black metal': {u'atmospheric black metal': 0.411765,\n",
        "  u'avantgarde metal': 0.111111,\n",
        "  u'blackgaze': 0.117647,\n",
        "  u'chaotic black metal': 1,\n",
        "  u'dark black metal': 0.169935,\n",
        "  u'depressive black metal': 0.254902,\n",
        "  u'pagan black metal': 0.176471},\n",
        " u'chaotic hardcore': {u'chaotic hardcore': 1, u'mathcore': 0.118483},\n",
        " u'charred death': {u'black death': 0.231707, u'charred death': 1},\n",
        " u'chicago blues': {u'acoustic blues': 0.602996,\n",
        "  u'blues': 0.835206,\n",
        "  u'chicago blues': 1,\n",
        "  u'country blues': 0.595506,\n",
        "  u'delta blues': 0.640449,\n",
        "  u'electric blues': 0.59176,\n",
        "  u'harmonica blues': 0.509363,\n",
        "  u'jazz blues': 0.419476,\n",
        "  u'louisiana blues': 0.692884,\n",
        "  u'memphis blues': 0.719101,\n",
        "  u'piano blues': 0.456929,\n",
        "  u'piedmont blues': 0.393258,\n",
        "  u'soul blues': 0.505618,\n",
        "  u'swamp blues': 0.636704,\n",
        "  u'texas blues': 0.662921,\n",
        "  u'traditional blues': 0.779026},\n",
        " u'chicago house': {u'acid house': 0.657143,\n",
        "  u'chicago house': 1,\n",
        "  u'deep house': 0.217143,\n",
        "  u'detroit techno': 0.142857,\n",
        "  u'hip house': 0.24,\n",
        "  u'techno': 0.12,\n",
        "  u'vocal house': 0.137143},\n",
        " u'chicago indie': {u'chicago indie': 1},\n",
        " u'chicago soul': {u'beach music': 0.229508,\n",
        "  u'brill building pop': 0.135246,\n",
        "  u'chicago soul': 1,\n",
        "  u'classic funk rock': 0.229508,\n",
        "  u'disco': 0.118852,\n",
        "  u'funk': 0.233607,\n",
        "  u'funk rock': 0.155738,\n",
        "  u'jazz blues': 0.192623,\n",
        "  u'memphis soul': 0.618852,\n",
        "  u'motown': 0.713115,\n",
        "  u'northern soul': 0.438525,\n",
        "  u'quiet storm': 0.340164,\n",
        "  u'soul': 0.688525,\n",
        "  u'soul blues': 0.430328,\n",
        "  u'soul christmas': 0.172131,\n",
        "  u'southern soul': 0.684426},\n",
        " u'chicano rap': {u'chicano rap': 1,\n",
        "  u'latin hip hop': 0.452229,\n",
        "  u'underground latin hip hop': 0.10828},\n",
        " u\"children's music\": {u\"children's music\": 1},\n",
        " u'chilean rock': {u'chilean rock': 1, u'nueva cancion': 0.16055},\n",
        " u'chill groove': {u'chill groove': 1, u'deep chill': 0.050691},\n",
        " u'chill lounge': {u'chill lounge': 1, u'deep chill': 0.093617},\n",
        " u'chill-out': {u'acid jazz': 0.43038,\n",
        "  u'big beat': 0.388186,\n",
        "  u'chill-out': 1,\n",
        "  u'downtempo': 0.814346,\n",
        "  u'electronic': 0.485232,\n",
        "  u'lounge': 0.253165,\n",
        "  u'ninja': 0.400844,\n",
        "  u'nu jazz': 0.578059,\n",
        "  u'trip hop': 0.772152,\n",
        "  u'turntablism': 0.194093},\n",
        " u'chill-out trance': {u'ambient trance': 0.081197, u'chill-out trance': 1},\n",
        " u'chillstep': {u'brostep': 0.217054,\n",
        "  u'catstep': 0.333333,\n",
        "  u'chillstep': 1,\n",
        "  u'deep liquid': 0.209302,\n",
        "  u'filthstep': 0.255814},\n",
        " u'chillwave': {u'chillwave': 1,\n",
        "  u'freak folk': 0.156028,\n",
        "  u'grave wave': 0.102837,\n",
        "  u'indietronica': 0.382979,\n",
        "  u'lo-fi': 0.117021,\n",
        "  u'metropopolis': 0.131206,\n",
        "  u'noise pop': 0.265957,\n",
        "  u'nu gaze': 0.319149,\n",
        "  u'r-neg-b': 0.393617,\n",
        "  u'shimmer pop': 0.117021,\n",
        "  u'synthpop': 0.102837},\n",
        " u'chinese indie rock': {u'chinese indie rock': 1, u'mandopop': 0.0625},\n",
        " u'chinese opera': {u'chinese opera': 1},\n",
        " u'chinese traditional': {u'chinese traditional': 1,\n",
        "  u'japanese traditional': 0.057143},\n",
        " u'chip hop': {u'chip hop': 1, u'outer hip hop': 0.217391},\n",
        " u'chiptune': {u'chiptune': 1, u'nintendocore': 0.392},\n",
        " u'choral': {u'choral': 1,\n",
        "  u'classical christmas': 0.566372,\n",
        "  u'early music': 0.150442},\n",
        " u'choro': {u'bossa nova': 0.305419,\n",
        "  u'brazilian pop music': 0.216749,\n",
        "  u'choro': 1,\n",
        "  u'forro': 0.157635,\n",
        "  u'mpb': 0.285714,\n",
        "  u'pagode': 0.1133,\n",
        "  u'samba': 0.482759,\n",
        "  u'velha guarda': 0.497537},\n",
        " u'christian alternative rock': {u'ccm': 0.742958,\n",
        "  u'christian alternative rock': 1,\n",
        "  u'christian christmas': 0.464789,\n",
        "  u'christian music': 0.771127,\n",
        "  u'christian punk': 0.172535,\n",
        "  u'christian rock': 0.827465,\n",
        "  u'worship': 0.623239},\n",
        " u'christian christmas': {u'ccm': 0.695238,\n",
        "  u'christian alternative rock': 0.628571,\n",
        "  u'christian christmas': 1,\n",
        "  u'christian music': 0.685714,\n",
        "  u'christian rock': 0.571429,\n",
        "  u'worship': 0.585714},\n",
        " u'christian dance': {u'christian dance': 1},\n",
        " u'christian hardcore': {u'christian hardcore': 1,\n",
        "  u'christian metal': 0.357513,\n",
        "  u'death core': 0.160622,\n",
        "  u'mathcore': 0.103627,\n",
        "  u'melodic metalcore': 0.316062,\n",
        "  u'metalcore': 0.38342,\n",
        "  u'screamo': 0.170984},\n",
        " u'christian hip hop': {u'christian hip hop': 1},\n",
        " u'christian metal': {u'christian hardcore': 0.328571,\n",
        "  u'christian metal': 1,\n",
        "  u'death core': 0.147619,\n",
        "  u'melodic metalcore': 0.319048,\n",
        "  u'metalcore': 0.342857,\n",
        "  u'screamo': 0.157143,\n",
        "  u'unblack metal': 0.109524},\n",
        " u'christian music': {u'ccm': 0.943463,\n",
        "  u'christian alternative rock': 0.773852,\n",
        "  u'christian christmas': 0.508834,\n",
        "  u'christian music': 1,\n",
        "  u'christian rock': 0.660777,\n",
        "  u'more christian rock': 0.109541,\n",
        "  u'worship': 0.763251},\n",
        " u'christian punk': {u'christian alternative rock': 0.302469,\n",
        "  u'christian christmas': 0.111111,\n",
        "  u'christian music': 0.135802,\n",
        "  u'christian punk': 1,\n",
        "  u'christian rock': 0.401235},\n",
        " u'christian rock': {u'ccm': 0.645161,\n",
        "  u'christian alternative rock': 0.842294,\n",
        "  u'christian christmas': 0.430108,\n",
        "  u'christian music': 0.670251,\n",
        "  u'christian punk': 0.232975,\n",
        "  u'christian rock': 1,\n",
        "  u'worship': 0.512545},\n",
        " u'christmas': {u'adult standards': 0.739837,\n",
        "  u'big band': 0.121951,\n",
        "  u'brill building pop': 0.126016,\n",
        "  u'cabaret': 0.369919,\n",
        "  u'christmas': 1,\n",
        "  u'easy listening': 0.243902,\n",
        "  u'jazz blues': 0.101626,\n",
        "  u'lounge': 0.487805,\n",
        "  u'more adult standards': 0.170732,\n",
        "  u'swing': 0.223577,\n",
        "  u'vocal jazz': 0.333333},\n",
        " u'christmas product': {u'christmas product': 1},\n",
        " u'cinematic dubstep': {u'cinematic dubstep': 1,\n",
        "  u'future garage': 0.130719,\n",
        "  u'minimal dubstep': 0.20915},\n",
        " u'classic afrobeat': {u'afrobeat': 0.29717,\n",
        "  u'classic afrobeat': 1,\n",
        "  u'highlife': 0.132075},\n",
        " u'classic belgian pop': {u'belgian rock': 0.192308,\n",
        "  u'classic belgian pop': 1},\n",
        " u'classic chinese pop': {u'c-pop': 0.522989,\n",
        "  u'cantopop': 0.436782,\n",
        "  u'classic chinese pop': 1,\n",
        "  u'mandopop': 0.281609,\n",
        "  u'taiwanese pop': 0.298851},\n",
        " u'classic czech pop': {u'classic czech pop': 1, u'czech folk': 0.266094},\n",
        " u'classic danish pop': {u'classic danish pop': 1,\n",
        "  u'danish pop': 0.236967,\n",
        "  u'danish pop rock': 0.137441},\n",
        " u'classic eurovision': {u'classic eurovision': 1},\n",
        " u'classic finnish pop': {u'classic finnish pop': 1,\n",
        "  u'finnish pop': 0.189427,\n",
        "  u'iskelma': 0.299559},\n",
        " u'classic finnish rock': {u'classic finnish rock': 1,\n",
        "  u'finnish indie': 0.146154,\n",
        "  u'suomi rock': 0.276923},\n",
        " u'classic french pop': {u'chanson': 0.087179,\n",
        "  u'classic french pop': 1,\n",
        "  u'french pop': 0.097436},\n",
        " u'classic funk rock': {u'chicago soul': 0.212121,\n",
        "  u'classic funk rock': 1,\n",
        "  u'deep funk': 0.109848,\n",
        "  u'disco': 0.431818,\n",
        "  u'funk': 0.848485,\n",
        "  u'funk rock': 0.738636,\n",
        "  u'memphis soul': 0.223485,\n",
        "  u'motown': 0.450758,\n",
        "  u'p funk': 0.234848,\n",
        "  u'post-disco': 0.378788,\n",
        "  u'quiet storm': 0.537879,\n",
        "  u'soul': 0.537879,\n",
        "  u'soul blues': 0.159091,\n",
        "  u'soul christmas': 0.166667,\n",
        "  u'southern soul': 0.242424},\n",
        " u'classic garage rock': {u'british blues': 0.185841,\n",
        "  u'british invasion': 0.168142,\n",
        "  u'bubblegum pop': 0.154867,\n",
        "  u'classic garage rock': 1,\n",
        "  u'freakbeat': 0.588496,\n",
        "  u'merseybeat': 0.132743,\n",
        "  u'more classic garage rock': 0.119469,\n",
        "  u'protopunk': 0.292035,\n",
        "  u'psychedelic rock': 0.283186},\n",
        " u'classic italian pop': {u'canzone napoletana': 0.188406,\n",
        "  u'classic italian pop': 1,\n",
        "  u'italian pop': 0.207729},\n",
        " u'classic norwegian pop': {u'classic norwegian pop': 1,\n",
        "  u'danseband': 0.197183,\n",
        "  u'norwegian pop': 0.150235,\n",
        "  u'norwegian rock': 0.206573},\n",
        " u'classic peruvian pop': {u'classic peruvian pop': 1,\n",
        "  u'peruvian rock': 0.181416},\n",
        " u'classic polish pop': {u'classic polish pop': 1,\n",
        "  u'polish indie': 0.116883,\n",
        "  u'polish pop': 0.220779},\n",
        " u'classic psychedelic rock': {u'classic psychedelic rock': 1,\n",
        "  u'freakbeat': 0.068182,\n",
        "  u'psychedelic blues-rock': 0.0625},\n",
        " u'classic rock': {u'album rock': 0.517964,\n",
        "  u'blues-rock': 0.595808,\n",
        "  u'british blues': 0.446108,\n",
        "  u'classic rock': 1,\n",
        "  u'country rock': 0.170659,\n",
        "  u'electric blues': 0.209581,\n",
        "  u'folk rock': 0.161677,\n",
        "  u'glam rock': 0.239521,\n",
        "  u'hard rock': 0.281437,\n",
        "  u'mellow gold': 0.320359,\n",
        "  u'modern blues': 0.191617,\n",
        "  u'psychedelic rock': 0.323353,\n",
        "  u'rock': 0.517964,\n",
        "  u'roots rock': 0.167665,\n",
        "  u'soft rock': 0.218563,\n",
        "  u'southern rock': 0.329341},\n",
        " u'classic russian pop': {u'classic russian pop': 1, u'russian pop': 0.065},\n",
        " u'classic russian rock': {u'classic russian rock': 1,\n",
        "  u'russian punk': 0.267016,\n",
        "  u'russian rock': 0.638743},\n",
        " u'classic schlager': {u'classic schlager': 1, u'vintage schlager': 0.375},\n",
        " u'classic soundtrack': {u'classic soundtrack': 1, u'spytrack': 0.130435},\n",
        " u'classic swedish pop': {u'classic swedish pop': 1, u'swedish pop': 0.201646},\n",
        " u'classic turkish pop': {u'classic turkish pop': 1,\n",
        "  u'more turkish pop': 0.150215,\n",
        "  u'turkish pop': 0.248927},\n",
        " u'classic venezuelan pop': {u'classic venezuelan pop': 1,\n",
        "  u'venezuelan rock': 0.167421},\n",
        " u'classical': {u'avant-garde': 0.272401,\n",
        "  u'baroque': 0.261649,\n",
        "  u'classical': 1,\n",
        "  u'classical christmas': 0.261649,\n",
        "  u'classical period': 0.111111,\n",
        "  u'early music': 0.121864,\n",
        "  u'minimal': 0.11828,\n",
        "  u'modern classical': 0.272401,\n",
        "  u'romantic': 0.81362},\n",
        " u'classical christmas': {u'baroque': 0.15331,\n",
        "  u'choral': 0.222997,\n",
        "  u'classical': 0.254355,\n",
        "  u'classical christmas': 1,\n",
        "  u'early music': 0.198606,\n",
        "  u'harp': 0.111498,\n",
        "  u'renaissance': 0.12892,\n",
        "  u'romantic': 0.219512},\n",
        " u'classical flute': {u'classical flute': 1},\n",
        " u'classical guitar': {u'classical guitar': 1},\n",
        " u'classical organ': {u'classical organ': 1},\n",
        " u'classical performance': {u'classical christmas': 0.110092,\n",
        "  u'classical performance': 1,\n",
        "  u'classical piano': 0.444954,\n",
        "  u'orchestral': 0.321101,\n",
        "  u'violin': 0.188073},\n",
        " u'classical period': {u'baroque': 0.26,\n",
        "  u'classical': 0.155,\n",
        "  u'classical christmas': 0.1,\n",
        "  u'classical period': 1,\n",
        "  u'romantic': 0.23},\n",
        " u'classical piano': {u'classical performance': 0.40249,\n",
        "  u'classical piano': 1,\n",
        "  u'concert piano': 0.195021},\n",
        " u'colombian rock': {u'colombian rock': 1, u'vallenato': 0.178161},\n",
        " u'columbus ohio indie': {u'columbus ohio indie': 1},\n",
        " u'comedy': {u'comedy': 1, u'comic': 0.456693, u'more comedy': 0.291339},\n",
        " u'comic': {u'comedy': 0.485356,\n",
        "  u'comic': 1,\n",
        "  u'geek rock': 0.100418,\n",
        "  u'more comedy': 0.108787},\n",
        " u'commons': {u'commons': 1},\n",
        " u'complextro': {u'brostep': 0.175532,\n",
        "  u'catstep': 0.154255,\n",
        "  u'complextro': 1,\n",
        "  u'edm': 0.196809,\n",
        "  u'electro house': 0.191489,\n",
        "  u'electro trash': 0.106383,\n",
        "  u'fidget house': 0.106383},\n",
        " u'composition d': {u'composition d': 1, u'serialism': 0.056667},\n",
        " u'concert piano': {u'classical piano': 0.261111, u'concert piano': 1},\n",
        " u'contemporary classical': {u'avant-garde': 0.156,\n",
        "  u'contemporary classical': 1,\n",
        "  u'modern classical': 0.152,\n",
        "  u'serialism': 0.428},\n",
        " u'contemporary country': {u'contemporary country': 1,\n",
        "  u'country': 0.729814,\n",
        "  u'country christmas': 0.298137,\n",
        "  u'country dawn': 0.301242,\n",
        "  u'country road': 0.754658,\n",
        "  u'modern country rock': 0.484472},\n",
        " u'contemporary folk': {u'contemporary folk': 1,\n",
        "  u'traditional folk': 0.148352},\n",
        " u'contemporary jazz': {u'avant-garde jazz': 0.215247,\n",
        "  u'contemporary jazz': 1,\n",
        "  u'contemporary post-bop': 0.278027,\n",
        "  u'free jazz': 0.174888,\n",
        "  u'jazz': 0.107623},\n",
        " u'contemporary post-bop': {u'avant-garde jazz': 0.187919,\n",
        "  u'bebop': 0.580537,\n",
        "  u'big band': 0.187919,\n",
        "  u'contemporary jazz': 0.208054,\n",
        "  u'contemporary post-bop': 1,\n",
        "  u'cool jazz': 0.567114,\n",
        "  u'free jazz': 0.154362,\n",
        "  u'hard bop': 0.580537,\n",
        "  u'jazz': 0.644295,\n",
        "  u'jazz christmas': 0.224832,\n",
        "  u'jazz funk': 0.211409,\n",
        "  u'jazz fusion': 0.234899,\n",
        "  u'soul jazz': 0.399329,\n",
        "  u'stride': 0.127517},\n",
        " u'cool jazz': {u'avant-garde jazz': 0.131387,\n",
        "  u'bebop': 0.791971,\n",
        "  u'big band': 0.343066,\n",
        "  u'contemporary post-bop': 0.616788,\n",
        "  u'cool jazz': 1,\n",
        "  u'free jazz': 0.113139,\n",
        "  u'hard bop': 0.649635,\n",
        "  u'jazz': 0.770073,\n",
        "  u'jazz christmas': 0.218978,\n",
        "  u'jazz funk': 0.164234,\n",
        "  u'jazz fusion': 0.153285,\n",
        "  u'soul jazz': 0.408759,\n",
        "  u'stride': 0.19708},\n",
        " u'corrosion': {u'corrosion': 1,\n",
        "  u'dark wave': 0.114754,\n",
        "  u'gothic rock': 0.286885},\n",
        " u'corsican folk': {u'corsican folk': 1, u'polyphony': 0.31068},\n",
        " u'country': {u'contemporary country': 0.758065,\n",
        "  u'country': 1,\n",
        "  u'country christmas': 0.412903,\n",
        "  u'country dawn': 0.293548,\n",
        "  u'country gospel': 0.190323,\n",
        "  u'country road': 0.574194,\n",
        "  u'country rock': 0.132258,\n",
        "  u'modern country rock': 0.283871,\n",
        "  u'nashville sound': 0.232258,\n",
        "  u'outlaw country': 0.13871,\n",
        "  u'traditional country': 0.196774},\n",
        " u'country blues': {u'acoustic blues': 0.666667,\n",
        "  u'blues': 0.632959,\n",
        "  u'chicago blues': 0.595506,\n",
        "  u'country blues': 1,\n",
        "  u'delta blues': 0.576779,\n",
        "  u'electric blues': 0.531835,\n",
        "  u'harmonica blues': 0.333333,\n",
        "  u'louisiana blues': 0.498127,\n",
        "  u'memphis blues': 0.588015,\n",
        "  u'modern blues': 0.438202,\n",
        "  u'piano blues': 0.344569,\n",
        "  u'piedmont blues': 0.535581,\n",
        "  u'soul blues': 0.397004,\n",
        "  u'swamp blues': 0.501873,\n",
        "  u'texas blues': 0.614232,\n",
        "  u'traditional blues': 0.662921},\n",
        " u'country christmas': {u'contemporary country': 0.341637,\n",
        "  u'country': 0.455516,\n",
        "  u'country christmas': 1,\n",
        "  u'country dawn': 0.124555,\n",
        "  u'country gospel': 0.483986,\n",
        "  u'country road': 0.234875,\n",
        "  u'country rock': 0.128114,\n",
        "  u'cowboy western': 0.256228,\n",
        "  u'nashville sound': 0.437722,\n",
        "  u'outlaw country': 0.192171,\n",
        "  u'southern gospel': 0.145907,\n",
        "  u'traditional country': 0.384342,\n",
        "  u'western swing': 0.185053},\n",
        " u'country dawn': {u'contemporary country': 0.468599,\n",
        "  u'country': 0.439614,\n",
        "  u'country christmas': 0.169082,\n",
        "  u'country dawn': 1,\n",
        "  u'country road': 0.309179,\n",
        "  u'modern country rock': 0.280193,\n",
        "  u'more contemporary country': 0.323671},\n",
        " u'country gospel': {u'country': 0.181538,\n",
        "  u'country christmas': 0.418462,\n",
        "  u'country gospel': 1,\n",
        "  u'cowboy western': 0.433846,\n",
        "  u'nashville sound': 0.615385,\n",
        "  u'outlaw country': 0.187692,\n",
        "  u'southern gospel': 0.369231,\n",
        "  u'traditional country': 0.578462,\n",
        "  u'western swing': 0.298462},\n",
        " u'country road': {u'contemporary country': 0.896679,\n",
        "  u'country': 0.656827,\n",
        "  u'country christmas': 0.243542,\n",
        "  u'country dawn': 0.236162,\n",
        "  u'country road': 1,\n",
        "  u'modern country rock': 0.627306},\n",
        " u'country rock': {u'alternative country': 0.282051,\n",
        "  u'classic rock': 0.208791,\n",
        "  u'country rock': 1,\n",
        "  u'cowpunk': 0.227106,\n",
        "  u'folk': 0.304029,\n",
        "  u'folk rock': 0.417582,\n",
        "  u'folk-pop': 0.18315,\n",
        "  u'mellow gold': 0.391941,\n",
        "  u'outlaw country': 0.227106,\n",
        "  u'rock': 0.157509,\n",
        "  u'roots rock': 0.494505,\n",
        "  u'singer-songwriter': 0.362637,\n",
        "  u'soft rock': 0.311355,\n",
        "  u'southern rock': 0.260073,\n",
        "  u'traditional country': 0.153846,\n",
        "  u'traditional folk': 0.238095},\n",
        " u'coupe decale': {u'coupe decale': 1,\n",
        "  u'makossa': 0.356784,\n",
        "  u'soukous': 0.125628,\n",
        "  u'zouglou': 0.849246},\n",
        " u'coverchill': {u'coverchill': 1},\n",
        " u'covertrance': {u'covertrance': 1, u'workout': 0.058442},\n",
        " u'cowboy western': {u'country christmas': 0.31441,\n",
        "  u'country gospel': 0.615721,\n",
        "  u'cowboy western': 1,\n",
        "  u'nashville sound': 0.681223,\n",
        "  u'outlaw country': 0.240175,\n",
        "  u'traditional country': 0.707424,\n",
        "  u'vintage western': 0.126638,\n",
        "  u'western swing': 0.655022},\n",
        " u'cowpunk': {u'alternative country': 0.627273,\n",
        "  u'country rock': 0.281818,\n",
        "  u'cowpunk': 1,\n",
        "  u'folk': 0.195455,\n",
        "  u'outlaw country': 0.281818,\n",
        "  u'roots rock': 0.518182,\n",
        "  u'singer-songwriter': 0.136364,\n",
        "  u'texas country': 0.254545},\n",
        " u'crack rock steady': {u'crack rock steady': 1,\n",
        "  u'punk ska': 0.141243,\n",
        "  u'ska': 0.225989,\n",
        "  u'ska punk': 0.237288},\n",
        " u'croatian pop': {u'croatian pop': 1, u'yugoslav rock': 0.221198},\n",
        " u'crossover prog': {u'crossover prog': 1, u'neo-progressive': 0.280335},\n",
        " u'crossover thrash': {u'crossover thrash': 1,\n",
        "  u'crust punk': 0.104247,\n",
        "  u'groove metal': 0.23166,\n",
        "  u'hardcore': 0.15444,\n",
        "  u'hardcore punk': 0.42471,\n",
        "  u'metal': 0.173745,\n",
        "  u'more hardcore punk': 0.100386,\n",
        "  u'punk': 0.212355,\n",
        "  u'skate punk': 0.413127,\n",
        "  u'speed metal': 0.301158,\n",
        "  u'straight edge': 0.196911,\n",
        "  u'thrash core': 0.250965,\n",
        "  u'thrash metal': 0.34749},\n",
        " u'crunk': {u'alternative hip hop': 0.162162,\n",
        "  u'crunk': 1,\n",
        "  u'dirty south rap': 0.853282,\n",
        "  u'gangster rap': 0.486486,\n",
        "  u'hip hop': 0.19305,\n",
        "  u'hip pop': 0.135135,\n",
        "  u'jerk': 0.150579,\n",
        "  u'juggalo': 0.169884,\n",
        "  u'memphis hip hop': 0.200772,\n",
        "  u'pop rap': 0.664093,\n",
        "  u'rap': 0.108108,\n",
        "  u'southern hip hop': 0.861004,\n",
        "  u'trap music': 0.760618},\n",
        " u'crust punk': {u'anarcho-punk': 0.281106,\n",
        "  u'crossover thrash': 0.124424,\n",
        "  u'crust punk': 1,\n",
        "  u'grindcore': 0.115207,\n",
        "  u'power violence': 0.18894,\n",
        "  u'thrash core': 0.248848},\n",
        " u'cuban rumba': {u'boogaloo': 0.152284,\n",
        "  u'cuban rumba': 1,\n",
        "  u'latin jazz': 0.35533,\n",
        "  u'mambo': 0.614213,\n",
        "  u'salsa': 0.15736},\n",
        " u'cubaton': {u'cubaton': 1},\n",
        " u'cumbia': {u'banda': 0.132743,\n",
        "  u'cumbia': 1,\n",
        "  u'cumbia sonidera': 0.292035,\n",
        "  u'grupera': 0.247788,\n",
        "  u'mariachi': 0.132743,\n",
        "  u'norteno': 0.185841,\n",
        "  u'nu-cumbia': 0.168142,\n",
        "  u'orquesta tropical': 0.106195,\n",
        "  u'ranchera': 0.123894,\n",
        "  u'regional mexican': 0.212389,\n",
        "  u'vallenato': 0.221239},\n",
        " u'cumbia funk': {u'cumbia funk': 1, u'nu-cumbia': 0.066667},\n",
        " u'cumbia sonidera': {u'cumbia': 0.147321,\n",
        "  u'cumbia sonidera': 1,\n",
        "  u'grupera': 0.138393,\n",
        "  u'norteno': 0.107143,\n",
        "  u'regional mexican': 0.120536},\n",
        " u'cumbia villera': {u'cumbia villera': 1},\n",
        " u'cyber metal': {u'cyber metal': 1,\n",
        "  u'melodic death metal': 0.110294,\n",
        "  u'neo-industrial rock': 0.176471},\n",
        " u'czech folk': {u'classic czech pop': 0.300971,\n",
        "  u'czech folk': 1,\n",
        "  u'czech rock': 0.354369},\n",
        " u'czech rock': {u'czech folk': 0.300412,\n",
        "  u'czech rock': 1,\n",
        "  u'slovak pop': 0.135802},\n",
        " u'dallas indie': {u'dallas indie': 1},\n",
        " u'dance pop': {u'dance pop': 1,\n",
        "  u'europop': 0.30618,\n",
        "  u'hip pop': 0.244382,\n",
        "  u'neo soul': 0.146067,\n",
        "  u'pop': 0.654494,\n",
        "  u'pop christmas': 0.115169,\n",
        "  u'pop rap': 0.117978,\n",
        "  u'pop rock': 0.117978,\n",
        "  u'r&b': 0.356742,\n",
        "  u'r-neg-b': 0.117978,\n",
        "  u'sexy': 0.679775,\n",
        "  u'teen pop': 0.289326,\n",
        "  u'urban contemporary': 0.376404},\n",
        " u'dance rock': {u'art rock': 0.200717,\n",
        "  u'dance rock': 1,\n",
        "  u'glam rock': 0.107527,\n",
        "  u'new romantic': 0.878136,\n",
        "  u'new wave': 0.903226,\n",
        "  u'new wave pop': 0.548387,\n",
        "  u'post-punk': 0.207885,\n",
        "  u'synthpop': 0.594982,\n",
        "  u'uk post-punk': 0.229391},\n",
        " u'dance-punk': {u'alternative dance': 0.573529,\n",
        "  u'dance-punk': 1,\n",
        "  u'electroclash': 0.238971,\n",
        "  u'electrofox': 0.113971,\n",
        "  u'experimental rock': 0.106618,\n",
        "  u'garage rock': 0.136029,\n",
        "  u'indie pop': 0.154412,\n",
        "  u'indie rock': 0.338235,\n",
        "  u'indietronica': 0.408088,\n",
        "  u'new rave': 0.694853,\n",
        "  u'noise pop': 0.117647,\n",
        "  u'noise rock': 0.106618,\n",
        "  u'synthpop': 0.371324},\n",
        " u'dancehall': {u'dancehall': 1,\n",
        "  u'dub': 0.240924,\n",
        "  u'lovers rock': 0.422442,\n",
        "  u'reggae': 0.356436,\n",
        "  u'roots reggae': 0.409241},\n",
        " u'dangdut': {u'dangdut': 1, u'indonesian pop': 0.47449},\n",
        " u'danish hip hop': {u'danish hip hop': 1, u'danish pop': 0.207207},\n",
        " u'danish indie': {u'danish indie': 1, u'danish pop': 0.319672},\n",
        " u'danish jazz': {u'danish jazz': 1, u'danish pop rock': 0.053097},\n",
        " u'danish pop': {u'classic danish pop': 0.19084,\n",
        "  u'danish hip hop': 0.175573,\n",
        "  u'danish indie': 0.29771,\n",
        "  u'danish pop': 1},\n",
        " u'danish pop rock': {u'classic danish pop': 0.140777, u'danish pop rock': 1},\n",
        " u'dansband': {u'dansband': 1},\n",
        " u'danseband': {u'classic norwegian pop': 0.244186, u'danseband': 1},\n",
        " u'dark ambient': {u'dark ambient': 1,\n",
        "  u'martial industrial': 0.208738,\n",
        "  u'power electronics': 0.199029},\n",
        " u'dark black metal': {u'atmospheric black metal': 0.120773,\n",
        "  u'black metal': 0.231884,\n",
        "  u'chaotic black metal': 0.125604,\n",
        "  u'dark black metal': 1,\n",
        "  u'pagan black metal': 0.144928,\n",
        "  u'raw black metal': 0.101449},\n",
        " u'dark cabaret': {u'dark cabaret': 1,\n",
        "  u'dark wave': 0.113475,\n",
        "  u'steampunk': 0.666667},\n",
        " u'dark electro-industrial': {u'aggrotech': 0.180791,\n",
        "  u'dark electro-industrial': 1,\n",
        "  u'electro-industrial': 0.124294},\n",
        " u'dark progressive house': {u'dark progressive house': 1,\n",
        "  u'more progressive house': 0.165217},\n",
        " u'dark psytrance': {u'dark psytrance': 1, u'deep darkpsy': 0.37156},\n",
        " u'dark wave': {u'corrosion': 0.129032,\n",
        "  u'dark wave': 1,\n",
        "  u'ebm': 0.152074,\n",
        "  u'electro-industrial': 0.129032,\n",
        "  u'ethereal wave': 0.43318,\n",
        "  u'futurepop': 0.184332,\n",
        "  u'gothic rock': 0.313364,\n",
        "  u'medieval': 0.24424,\n",
        "  u'neoclassical': 0.368664,\n",
        "  u'neue deutsche harte': 0.184332,\n",
        "  u'steampunk': 0.105991},\n",
        " u'darkstep': {u'darkstep': 1, u'neurofunk': 0.420814},\n",
        " u'death core': {u'brutal death metal': 0.159533,\n",
        "  u'brutal deathcore': 0.322957,\n",
        "  u'christian hardcore': 0.120623,\n",
        "  u'christian metal': 0.120623,\n",
        "  u'death core': 1,\n",
        "  u'death metal': 0.167315,\n",
        "  u'deathgrind': 0.159533,\n",
        "  u'djent': 0.120623,\n",
        "  u'grindcore': 0.124514,\n",
        "  u'mathcore': 0.217899,\n",
        "  u'melodic metalcore': 0.36965,\n",
        "  u'metalcore': 0.307393,\n",
        "  u'technical death metal': 0.178988},\n",
        " u'death metal': {u'black metal': 0.136364,\n",
        "  u'brutal death metal': 0.558442,\n",
        "  u'death core': 0.13961,\n",
        "  u'death metal': 1,\n",
        "  u'deathgrind': 0.535714,\n",
        "  u'goregrind': 0.269481,\n",
        "  u'grindcore': 0.324675,\n",
        "  u'groove metal': 0.227273,\n",
        "  u'melodic death metal': 0.25974,\n",
        "  u'melodic metalcore': 0.181818,\n",
        "  u'metal': 0.262987,\n",
        "  u'speed metal': 0.133117,\n",
        "  u'symphonic black metal': 0.100649,\n",
        "  u'technical death metal': 0.525974,\n",
        "  u'thrash metal': 0.159091},\n",
        " u'deathgrind': {u'brutal death metal': 0.687732,\n",
        "  u'death core': 0.152416,\n",
        "  u'death metal': 0.613383,\n",
        "  u'deathgrind': 1,\n",
        "  u'goregrind': 0.579926,\n",
        "  u'grindcore': 0.620818,\n",
        "  u'slam death metal': 0.126394,\n",
        "  u'technical brutal death metal': 0.107807,\n",
        "  u'technical death metal': 0.594796},\n",
        " u'deep alternative r&b': {u'alternative r&b': 0.269565,\n",
        "  u'deep alternative r&b': 1},\n",
        " u'deep ambient': {u'ambient': 0.189873, u'deep ambient': 1},\n",
        " u'deep breakcore': {u'breakcore': 0.236967,\n",
        "  u'deep breakcore': 1,\n",
        "  u'drill and bass': 0.132701},\n",
        " u'deep chill': {u'chill lounge': 0.108374,\n",
        "  u'deep chill': 1,\n",
        "  u'more sunset lounge': 0.187192},\n",
        " u'deep darkpsy': {u'dark psytrance': 0.366516, u'deep darkpsy': 1},\n",
        " u'deep disco': {u'deep disco': 1, u'post-disco': 0.17033},\n",
        " u'deep disco house': {u'deep disco house': 1,\n",
        "  u'deep soul house': 0.133028,\n",
        "  u'deeper house': 0.270642},\n",
        " u'deep discofox': {u'deep discofox': 1, u'discofox': 0.17094},\n",
        " u'deep downtempo fusion': {u'deep downtempo fusion': 1},\n",
        " u'deep euro house': {u'deep euro house': 1, u'tech house': 0.118721},\n",
        " u'deep filthstep': {u'deep filthstep': 1, u'filthstep': 0.067633},\n",
        " u'deep flow': {u'beats & rhymes': 0.15534,\n",
        "  u'deep flow': 1,\n",
        "  u'flick hop': 0.184466},\n",
        " u'deep freestyle': {u'deep freestyle': 1, u'freestyle': 0.319672},\n",
        " u'deep funk': {u'afrobeat': 0.102804,\n",
        "  u'classic funk rock': 0.135514,\n",
        "  u'deep funk': 1,\n",
        "  u'funk rock': 0.107477},\n",
        " u'deep g funk': {u'deep g funk': 1,\n",
        "  u'dirty texas rap': 0.113122,\n",
        "  u'g funk': 0.171946,\n",
        "  u'west coast rap': 0.180995},\n",
        " u'deep happy hardcore': {u'bouncy house': 0.158371,\n",
        "  u'deep happy hardcore': 1},\n",
        " u'deep hardcore': {u'deep hardcore': 1,\n",
        "  u'gabba': 0.212963,\n",
        "  u'happy hardcore': 0.347222},\n",
        " u'deep hardstyle': {u'deep hardstyle': 1, u'hardstyle': 0.16129},\n",
        " u'deep house': {u'acid jazz': 0.105023,\n",
        "  u'chicago house': 0.173516,\n",
        "  u'deep house': 1,\n",
        "  u'disco house': 0.13242,\n",
        "  u'vocal house': 0.146119},\n",
        " u'deep italo disco': {u'deep italo disco': 1, u'italian disco': 0.141129},\n",
        " u'deep liquid': {u'chillstep': 0.108434, u'deep liquid': 1},\n",
        " u'deep northern soul': {u'deep northern soul': 1, u'northern soul': 0.129464},\n",
        " u'deep orgcore': {u'deep orgcore': 1, u'orgcore': 0.337662},\n",
        " u'deep psytrance': {u'deep psytrance': 1, u'progressive psytrance': 0.224138},\n",
        " u'deep ragga': {u'deep ragga': 1, u'riddim': 0.15534},\n",
        " u'deep soul house': {u'deep disco house': 0.138095, u'deep soul house': 1},\n",
        " u'deep space rock': {u'deep space rock': 1, u'space rock': 0.152709},\n",
        " u'deep tech house': {u'deep disco house': 0.067633,\n",
        "  u'deep tech house': 1,\n",
        "  u'more tech house': 0.091787},\n",
        " u'deep trap': {u'crunk': 0.134969,\n",
        "  u'deep trap': 1,\n",
        "  u'dirty south rap': 0.104294,\n",
        "  u'pop rap': 0.116564,\n",
        "  u'southern hip hop': 0.141104,\n",
        "  u'trap music': 0.282209},\n",
        " u'deeper house': {u'deep disco house': 0.223485,\n",
        "  u'deeper house': 1,\n",
        "  u'microhouse': 0.109848,\n",
        "  u'minimal techno': 0.189394,\n",
        "  u'tech house': 0.204545},\n",
        " u'deeper tech house': {u'deeper tech house': 1},\n",
        " u'delta blues': {u'acoustic blues': 0.888476,\n",
        "  u'blues': 0.762082,\n",
        "  u'chicago blues': 0.635688,\n",
        "  u'country blues': 0.572491,\n",
        "  u'delta blues': 1,\n",
        "  u'electric blues': 0.375465,\n",
        "  u'harmonica blues': 0.312268,\n",
        "  u'jazz blues': 0.390335,\n",
        "  u'louisiana blues': 0.442379,\n",
        "  u'memphis blues': 0.769517,\n",
        "  u'piano blues': 0.460967,\n",
        "  u'piedmont blues': 0.64684,\n",
        "  u'soul blues': 0.32342,\n",
        "  u'swamp blues': 0.394052,\n",
        "  u'texas blues': 0.460967,\n",
        "  u'traditional blues': 0.97026},\n",
        " u'demoscene': {u'c64': 0.243243, u'demoscene': 1},\n",
        " u'denver indie': {u'denver indie': 1},\n",
        " u'depressive black metal': {u'atmospheric black metal': 0.518072,\n",
        "  u'black metal': 0.108434,\n",
        "  u'blackgaze': 0.128514,\n",
        "  u'chaotic black metal': 0.156627,\n",
        "  u'depressive black metal': 1,\n",
        "  u'pagan black metal': 0.176707},\n",
        " u'desert blues': {u'desert blues': 1,\n",
        "  u'mande pop': 0.528926,\n",
        "  u'mbalax': 0.157025,\n",
        "  u'world': 0.363636},\n",
        " u'desi': {u'bhangra': 0.882629,\n",
        "  u'desi': 1,\n",
        "  u'indian pop': 0.309859,\n",
        "  u'punjabi': 0.826291},\n",
        " u'destroy techno': {u'destroy techno': 1,\n",
        "  u'electro house': 0.111111,\n",
        "  u'electro trash': 0.10628,\n",
        "  u'fidget house': 0.236715},\n",
        " u'detroit hip hop': {u'detroit hip hop': 1, u'juggalo': 0.15736},\n",
        " u'detroit techno': {u'acid house': 0.186992,\n",
        "  u'chicago house': 0.101626,\n",
        "  u'detroit techno': 1,\n",
        "  u'dub techno': 0.134146,\n",
        "  u'electro': 0.109756,\n",
        "  u'microhouse': 0.121951,\n",
        "  u'minimal techno': 0.154472,\n",
        "  u'techno': 0.833333},\n",
        " u'didgeridoo': {u'didgeridoo': 1, u'new tribe': 0.158621},\n",
        " u'digital hardcore': {u'breakcore': 0.27193,\n",
        "  u'digital hardcore': 1,\n",
        "  u'drill and bass': 0.184211},\n",
        " u'dirty south rap': {u'alternative hip hop': 0.192029,\n",
        "  u'crunk': 0.800725,\n",
        "  u'dirty south rap': 1,\n",
        "  u'gangster rap': 0.525362,\n",
        "  u'hip hop': 0.25,\n",
        "  u'hip pop': 0.123188,\n",
        "  u'jerk': 0.105072,\n",
        "  u'juggalo': 0.188406,\n",
        "  u'memphis hip hop': 0.235507,\n",
        "  u'pop rap': 0.655797,\n",
        "  u'rap': 0.144928,\n",
        "  u'southern hip hop': 0.800725,\n",
        "  u'trap music': 0.724638},\n",
        " u'dirty texas rap': {u'deep g funk': 0.147929,\n",
        "  u'dirty south rap': 0.136095,\n",
        "  u'dirty texas rap': 1,\n",
        "  u'memphis hip hop': 0.118343},\n",
        " u'disco': {u'chicago soul': 0.120332,\n",
        "  u'classic funk rock': 0.473029,\n",
        "  u'disco': 1,\n",
        "  u'funk': 0.572614,\n",
        "  u'funk rock': 0.348548,\n",
        "  u'hi nrg': 0.419087,\n",
        "  u'motown': 0.360996,\n",
        "  u'post-disco': 0.556017,\n",
        "  u'quiet storm': 0.473029,\n",
        "  u'soul': 0.365145,\n",
        "  u'southern soul': 0.112033},\n",
        " u'disco house': {u'deep house': 0.133641,\n",
        "  u'disco house': 1,\n",
        "  u'edm': 0.142857,\n",
        "  u'electro house': 0.142857,\n",
        "  u'house': 0.488479,\n",
        "  u'pop house': 0.110599,\n",
        "  u'progressive house': 0.105991,\n",
        "  u'tribal house': 0.193548,\n",
        "  u'vocal house': 0.714286},\n",
        " u'discofox': {u'deep discofox': 0.253165,\n",
        "  u'discofox': 1,\n",
        "  u'schlager': 0.202532},\n",
        " u'dixieland': {u'dixieland': 1, u'new orleans jazz': 0.226804},\n",
        " u'djent': {u'death core': 0.134783,\n",
        "  u'djent': 1,\n",
        "  u'jazz metal': 0.208696,\n",
        "  u'mathcore': 0.195652},\n",
        " u'dominican pop': {u'bachata': 0.29697,\n",
        "  u'dominican pop': 1,\n",
        "  u'hurban': 0.115152,\n",
        "  u'merengue': 0.278788,\n",
        "  u'merengue urbano': 0.187879,\n",
        "  u'tropical': 0.151515},\n",
        " u'doo-wop': {u'brill building pop': 0.206349,\n",
        "  u'doo-wop': 1,\n",
        "  u'rock-and-roll': 0.119048,\n",
        "  u'soda pop': 0.150794},\n",
        " u'doom metal': {u'black sludge': 0.109375,\n",
        "  u'doom metal': 1,\n",
        "  u'drone': 0.105469,\n",
        "  u'funeral doom': 0.335938,\n",
        "  u'gothic doom': 0.160156,\n",
        "  u'post-metal': 0.132813,\n",
        "  u'sludge metal': 0.339844,\n",
        "  u'stoner metal': 0.40625,\n",
        "  u'stoner rock': 0.375},\n",
        " u'doomcore': {u'doomcore': 1,\n",
        "  u'gabba': 0.15814,\n",
        "  u'hardcore techno': 0.125581,\n",
        "  u'speedcore': 0.362791},\n",
        " u'doujin': {u'doujin': 1, u'j-core': 0.150259},\n",
        " u'downtempo': {u'acid jazz': 0.405512,\n",
        "  u'big beat': 0.330709,\n",
        "  u'chill-out': 0.759843,\n",
        "  u'downtempo': 1,\n",
        "  u'electronic': 0.389764,\n",
        "  u'lounge': 0.224409,\n",
        "  u'ninja': 0.547244,\n",
        "  u'nu jazz': 0.661417,\n",
        "  u'trip hop': 0.783465,\n",
        "  u'turntablism': 0.271654},\n",
        " u'downtempo fusion': {u'ambient fusion': 0.140244,\n",
        "  u'downtempo fusion': 1,\n",
        "  u'trance hop': 0.359756},\n",
        " u'downtempo trip hop': {u'downtempo trip hop': 1, u'trance hop': 0.144928},\n",
        " u'drama': {u'drama': 1},\n",
        " u'dream pop': {u'alternative rock': 0.152778,\n",
        "  u'chamber pop': 0.101852,\n",
        "  u'dream pop': 1,\n",
        "  u'indie rock': 0.12963,\n",
        "  u'indie shoegaze': 0.222222,\n",
        "  u'lo-fi': 0.152778,\n",
        "  u'madchester': 0.134259,\n",
        "  u'neo-psychedelic': 0.175926,\n",
        "  u'noise pop': 0.226852,\n",
        "  u'nu gaze': 0.564815,\n",
        "  u'shoegaze': 0.828704,\n",
        "  u'slow core': 0.222222,\n",
        "  u'space rock': 0.185185},\n",
        " u'dreamo': {u'dreamo': 1,\n",
        "  u'emo': 0.288066,\n",
        "  u'piano rock': 0.106996,\n",
        "  u'pop punk': 0.222222},\n",
        " u'drill and bass': {u'breakcore': 0.570796,\n",
        "  u'deep breakcore': 0.123894,\n",
        "  u'drill and bass': 1,\n",
        "  u'glitch': 0.141593,\n",
        "  u'intelligent dance music': 0.39823},\n",
        " u'drone': {u'acousmatic': 0.261146,\n",
        "  u'avant-garde': 0.191083,\n",
        "  u'black sludge': 0.105096,\n",
        "  u'drone': 1,\n",
        "  u'minimal': 0.27707,\n",
        "  u'modern classical': 0.171975,\n",
        "  u'musique concrete': 0.22293,\n",
        "  u'post-metal': 0.175159,\n",
        "  u'sludge metal': 0.175159,\n",
        "  u'stoner metal': 0.117834,\n",
        "  u'warm drone': 0.146497},\n",
        " u'drone psych': {u'drone psych': 1, u'experimental psych': 0.371728},\n",
        " u'drum and bass': {u'drum and bass': 1,\n",
        "  u'drumfunk': 0.413502,\n",
        "  u'jump up': 0.345992,\n",
        "  u'jungle': 0.708861,\n",
        "  u'liquid funk': 0.510549,\n",
        "  u'neurofunk': 0.375527},\n",
        " u'drumfunk': {u'drum and bass': 0.451613,\n",
        "  u'drumfunk': 1,\n",
        "  u'jungle': 0.391705,\n",
        "  u'liquid funk': 0.589862,\n",
        "  u'neurofunk': 0.322581},\n",
        " u'dub': {u'dancehall': 0.289683,\n",
        "  u'dub': 1,\n",
        "  u'electro dub': 0.123016,\n",
        "  u'lovers rock': 0.214286,\n",
        "  u'reggae': 0.761905,\n",
        "  u'rock steady': 0.119048,\n",
        "  u'roots reggae': 0.714286},\n",
        " u'dub techno': {u'ambient dub techno': 0.219048,\n",
        "  u'detroit techno': 0.157143,\n",
        "  u'dub techno': 1,\n",
        "  u'glitch': 0.271429,\n",
        "  u'microhouse': 0.280952,\n",
        "  u'minimal dub': 0.119048,\n",
        "  u'minimal techno': 0.147619,\n",
        "  u'more dub techno': 0.104762,\n",
        "  u'techno': 0.114286},\n",
        " u'dubstep': {u'bass music': 0.644,\n",
        "  u'brostep': 0.108,\n",
        "  u'dubstep': 1,\n",
        "  u'future garage': 0.156},\n",
        " u'dubstep product': {u'dubstep product': 1},\n",
        " u'duranguense': {u'banda': 0.432773,\n",
        "  u'duranguense': 1,\n",
        "  u'grupera': 0.411765,\n",
        "  u'mariachi': 0.163866,\n",
        "  u'more regional mexican': 0.121849,\n",
        "  u'norteno': 0.407563,\n",
        "  u'ranchera': 0.155462,\n",
        "  u'regional mexican': 0.441176},\n",
        " u'dutch hip hop': {u'dutch hip hop': 1},\n",
        " u'dutch house': {u'big room': 0.314685,\n",
        "  u'dutch house': 1,\n",
        "  u'edm': 0.188811,\n",
        "  u'electro house': 0.153846,\n",
        "  u'house': 0.118881,\n",
        "  u'progressive electro house': 0.27972},\n",
        " u'dutch pop': {u'dutch pop': 1,\n",
        "  u'dutch rock': 0.156118,\n",
        "  u'levenslied': 0.156118},\n",
        " u'dutch rock': {u'dutch pop': 0.162996, u'dutch rock': 1},\n",
        " u'e6fi': {u'alternative rock': 0.132911,\n",
        "  u'chamber pop': 0.227848,\n",
        "  u'e6fi': 1,\n",
        "  u'freak folk': 0.139241,\n",
        "  u'gbvfi': 0.14557,\n",
        "  u'indie folk': 0.151899,\n",
        "  u'indie pop': 0.272152,\n",
        "  u'indie rock': 0.240506,\n",
        "  u'lo-fi': 0.379747,\n",
        "  u'neo-psychedelic': 0.28481,\n",
        "  u'noise pop': 0.139241,\n",
        "  u'twee pop': 0.113924},\n",
        " u'early music': {u'baroque': 0.192469,\n",
        "  u'classical': 0.142259,\n",
        "  u'classical christmas': 0.238494,\n",
        "  u'early music': 1,\n",
        "  u'early music ensemble': 0.179916,\n",
        "  u'renaissance': 0.790795},\n",
        " u'early music ensemble': {u'early music': 0.187773,\n",
        "  u'early music ensemble': 1,\n",
        "  u'renaissance': 0.174672},\n",
        " u'east coast hip hop': {u'alternative hip hop': 0.231834,\n",
        "  u'east coast hip hop': 1,\n",
        "  u'gangster rap': 0.103806,\n",
        "  u'hardcore hip hop': 0.84083,\n",
        "  u'hip hop': 0.557093,\n",
        "  u'more east coast hip hop': 0.124567,\n",
        "  u'old school hip hop': 0.432526,\n",
        "  u'rap': 0.598616,\n",
        "  u'soul flow': 0.117647,\n",
        "  u'turntablism': 0.141869,\n",
        "  u'underground hip hop': 0.391003},\n",
        " u'easy listening': {u'adult standards': 0.275676,\n",
        "  u'cabaret': 0.113514,\n",
        "  u'christmas': 0.324324,\n",
        "  u'easy listening': 1,\n",
        "  u'exotica': 0.281081,\n",
        "  u'lounge': 0.383784},\n",
        " u'ebm': {u'aggrotech': 0.313433,\n",
        "  u'dark wave': 0.123134,\n",
        "  u'ebm': 1,\n",
        "  u'electro-industrial': 0.742537,\n",
        "  u'futurepop': 0.41791,\n",
        "  u'industrial': 0.227612,\n",
        "  u'industrial metal': 0.134328,\n",
        "  u'industrial rock': 0.253731,\n",
        "  u'new beat': 0.171642},\n",
        " u'ectofolk': {u'ectofolk': 1, u'lilith': 0.151351},\n",
        " u'ecuadoria': {u'ecuadoria': 1, u'nu-cumbia': 0.055046},\n",
        " u'edm': {u'big room': 0.488688,\n",
        "  u'brostep': 0.117647,\n",
        "  u'complextro': 0.167421,\n",
        "  u'disco house': 0.140271,\n",
        "  u'dutch house': 0.122172,\n",
        "  u'edm': 1,\n",
        "  u'electro house': 0.737557,\n",
        "  u'house': 0.579186,\n",
        "  u'progressive electro house': 0.447964,\n",
        "  u'progressive house': 0.371041,\n",
        "  u'vocal house': 0.149321},\n",
        " u'electric blues': {u'acoustic blues': 0.358804,\n",
        "  u'blues': 0.504983,\n",
        "  u'blues-rock': 0.431894,\n",
        "  u'british blues': 0.428571,\n",
        "  u'chicago blues': 0.524917,\n",
        "  u'country blues': 0.471761,\n",
        "  u'delta blues': 0.335548,\n",
        "  u'electric blues': 1,\n",
        "  u'harmonica blues': 0.318937,\n",
        "  u'louisiana blues': 0.468439,\n",
        "  u'memphis blues': 0.401993,\n",
        "  u'modern blues': 0.744186,\n",
        "  u'soul blues': 0.41196,\n",
        "  u'swamp blues': 0.511628,\n",
        "  u'texas blues': 0.827243,\n",
        "  u'traditional blues': 0.478405},\n",
        " u'electro': {u'detroit techno': 0.127358,\n",
        "  u'electro': 1,\n",
        "  u'hip hop': 0.113208,\n",
        "  u'nu electro': 0.141509,\n",
        "  u'old school hip hop': 0.433962,\n",
        "  u'rap': 0.169811},\n",
        " u'electro dub': {u'dub': 0.171271, u'electro dub': 1, u'uk dub': 0.149171},\n",
        " u'electro house': {u'alternative dance': 0.182131,\n",
        "  u'big room': 0.32646,\n",
        "  u'complextro': 0.123711,\n",
        "  u'disco house': 0.106529,\n",
        "  u'edm': 0.560137,\n",
        "  u'electro house': 1,\n",
        "  u'electroclash': 0.120275,\n",
        "  u'fidget house': 0.103093,\n",
        "  u'filter house': 0.237113,\n",
        "  u'house': 0.508591,\n",
        "  u'new rave': 0.171821,\n",
        "  u'progressive electro house': 0.292096,\n",
        "  u'progressive house': 0.230241},\n",
        " u'electro jazz': {u'acid jazz': 0.152047,\n",
        "  u'chill-out': 0.116959,\n",
        "  u'downtempo': 0.128655,\n",
        "  u'electro jazz': 1,\n",
        "  u'lounge': 0.111111,\n",
        "  u'nu jazz': 0.157895},\n",
        " u'electro latino': {u'electro latino': 1},\n",
        " u'electro swing': {u'acid jazz': 0.113636,\n",
        "  u'electro swing': 1,\n",
        "  u'nu jazz': 0.125},\n",
        " u'electro trash': {u'electro trash': 1, u'fidget house': 0.141026},\n",
        " u'electro-industrial': {u'aggrotech': 0.410853,\n",
        "  u'dark wave': 0.108527,\n",
        "  u'ebm': 0.771318,\n",
        "  u'electro-industrial': 1,\n",
        "  u'futurepop': 0.422481,\n",
        "  u'industrial': 0.217054,\n",
        "  u'industrial metal': 0.155039,\n",
        "  u'industrial rock': 0.267442},\n",
        " u'electroacoustic improvisation': {u'electroacoustic improvisation': 1,\n",
        "  u'free improvisation': 0.142857,\n",
        "  u'lowercase': 0.192308},\n",
        " u'electroclash': {u'alternative dance': 0.428571,\n",
        "  u'dance-punk': 0.273109,\n",
        "  u'electro house': 0.147059,\n",
        "  u'electroclash': 1,\n",
        "  u'electronic': 0.10084,\n",
        "  u'indietronica': 0.222689,\n",
        "  u'new rave': 0.382353,\n",
        "  u'synthpop': 0.348739},\n",
        " u'electrofox': {u'alternative dance': 0.26699,\n",
        "  u'dance-punk': 0.150485,\n",
        "  u'electro house': 0.131068,\n",
        "  u'electroclash': 0.101942,\n",
        "  u'electrofox': 1,\n",
        "  u'filter house': 0.194175,\n",
        "  u'indietronica': 0.140777,\n",
        "  u'new rave': 0.252427,\n",
        "  u'synthpop': 0.135922},\n",
        " u'electronic': {u'acid house': 0.111111,\n",
        "  u'acid jazz': 0.162963,\n",
        "  u'big beat': 0.662963,\n",
        "  u'breakbeat': 0.266667,\n",
        "  u'chill-out': 0.425926,\n",
        "  u'downtempo': 0.366667,\n",
        "  u'electronic': 1,\n",
        "  u'house': 0.125926,\n",
        "  u'intelligent dance music': 0.2,\n",
        "  u'lounge': 0.1,\n",
        "  u'ninja': 0.181481,\n",
        "  u'nu jazz': 0.211111,\n",
        "  u'trip hop': 0.407407,\n",
        "  u'turntablism': 0.118519},\n",
        " u'electronica': {u'ambient idm': 0.10119,\n",
        "  u'electronica': 1,\n",
        "  u'glitch': 0.130952,\n",
        "  u'intelligent dance music': 0.166667},\n",
        " u'electronicore': {u'electronicore': 1, u'post-post-hardcore': 0.38961},\n",
        " u'electropowerpop': {u'alternative pop rock': 0.214953,\n",
        "  u'electropowerpop': 1},\n",
        " u'emo': {u'alternative emo': 0.198675,\n",
        "  u'dreamo': 0.231788,\n",
        "  u'emo': 1,\n",
        "  u'emo punk': 0.410596,\n",
        "  u'indie emo rock': 0.10596,\n",
        "  u'pop punk': 0.427152,\n",
        "  u'post-hardcore': 0.291391,\n",
        "  u'punk christmas': 0.125828,\n",
        "  u'screamo': 0.208609},\n",
        " u'emo punk': {u'alternative emo': 0.164319,\n",
        "  u'emo': 0.58216,\n",
        "  u'emo punk': 1,\n",
        "  u'indie emo': 0.140845,\n",
        "  u'indie emo rock': 0.338028,\n",
        "  u'post-hardcore': 0.197183},\n",
        " u'enka': {u'enka': 1, u'japanese standards': 0.050251},\n",
        " u'entehno': {u'entehno': 1,\n",
        "  u'greek indie': 0.255814,\n",
        "  u'laiko': 0.460465,\n",
        "  u'rebetiko': 0.223256},\n",
        " u'environmental': {u'environmental': 1,\n",
        "  u'meditation': 0.284768,\n",
        "  u'sleep': 0.456954},\n",
        " u'estonian pop': {u'estonian pop': 1},\n",
        " u'ethereal gothic': {u'dark wave': 0.112426,\n",
        "  u'ethereal gothic': 1,\n",
        "  u'ethereal wave': 0.218935,\n",
        "  u'medieval': 0.136095,\n",
        "  u'neoclassical': 0.189349},\n",
        " u'ethereal wave': {u'dark wave': 0.519337,\n",
        "  u'ethereal gothic': 0.20442,\n",
        "  u'ethereal wave': 1,\n",
        "  u'gothic rock': 0.160221,\n",
        "  u'medieval': 0.59116,\n",
        "  u'neoclassical': 0.723757,\n",
        "  u'neofolk': 0.127072},\n",
        " u'etherpop': {u'etherpop': 1},\n",
        " u'ethiopian pop': {u'ethiopian pop': 1},\n",
        " u'eurobeat': {u'eurobeat': 1},\n",
        " u'eurodance': {u'bubble trance': 0.105932,\n",
        "  u'bubblegum dance': 0.432203,\n",
        "  u'eurodance': 1,\n",
        "  u'europop': 0.317797,\n",
        "  u'german techno': 0.101695,\n",
        "  u'hip house': 0.309322},\n",
        " u'europop': {u'bubblegum dance': 0.262931,\n",
        "  u'dance pop': 0.469828,\n",
        "  u'eurodance': 0.323276,\n",
        "  u'europop': 1,\n",
        "  u'hip house': 0.12931,\n",
        "  u'new wave pop': 0.116379,\n",
        "  u'pop': 0.344828,\n",
        "  u'pop rock': 0.137931,\n",
        "  u'sexy': 0.232759,\n",
        "  u'talent show': 0.107759,\n",
        "  u'teen pop': 0.193966},\n",
        " u'euroska': {u'euroska': 1,\n",
        "  u'punk ska': 0.106509,\n",
        "  u'ska': 0.142012,\n",
        "  u'ska punk': 0.12426,\n",
        "  u'ska revival': 0.248521,\n",
        "  u'traditional ska': 0.147929},\n",
        " u'eurovision': {u'eurovision': 1},\n",
        " u'exotica': {u'easy listening': 0.263959, u'exotica': 1, u'lounge': 0.431472},\n",
        " u'experimental': {u'art rock': 0.232227,\n",
        "  u'canterbury scene': 0.137441,\n",
        "  u'experimental': 1,\n",
        "  u'experimental rock': 0.526066,\n",
        "  u'industrial': 0.308057,\n",
        "  u'industrial rock': 0.118483,\n",
        "  u'kraut rock': 0.14218,\n",
        "  u'no wave': 0.374408,\n",
        "  u'noise rock': 0.132701,\n",
        "  u'outsider': 0.109005,\n",
        "  u'post-punk': 0.270142,\n",
        "  u'protopunk': 0.170616,\n",
        "  u'psychedelic rock': 0.118483,\n",
        "  u'space rock': 0.161137,\n",
        "  u'uk post-punk': 0.21327},\n",
        " u'experimental dubstep': {u'experimental dubstep': 1, u'ghoststep': 0.213836},\n",
        " u'experimental psych': {u'drone': 0.116162,\n",
        "  u'drone psych': 0.358586,\n",
        "  u'experimental psych': 1,\n",
        "  u'freak folk': 0.136364,\n",
        "  u'japanese psychedelic': 0.186869,\n",
        "  u'new weird america': 0.262626},\n",
        " u'experimental rock': {u'alternative rock': 0.180556,\n",
        "  u'dance-punk': 0.134259,\n",
        "  u'experimental': 0.513889,\n",
        "  u'experimental rock': 1,\n",
        "  u'indie rock': 0.12037,\n",
        "  u'industrial': 0.166667,\n",
        "  u'lo-fi': 0.138889,\n",
        "  u'math rock': 0.175926,\n",
        "  u'neo-psychedelic': 0.148148,\n",
        "  u'no wave': 0.601852,\n",
        "  u'noise pop': 0.185185,\n",
        "  u'noise rock': 0.37037,\n",
        "  u'post-hardcore': 0.143519,\n",
        "  u'post-punk': 0.486111,\n",
        "  u'protopunk': 0.217593,\n",
        "  u'uk post-punk': 0.328704},\n",
        " u'fado': {u'fado': 1, u'portuguese rock': 0.158371},\n",
        " u'fake': {u'fake': 1},\n",
        " u'fallen angel': {u'fallen angel': 1,\n",
        "  u'gothic symphonic metal': 0.246094,\n",
        "  u'symphonic metal': 0.175781},\n",
        " u'faroese pop': {u'faroese pop': 1},\n",
        " u'fast melodic punk': {u'fast melodic punk': 1,\n",
        "  u'melodic hardcore': 0.119231},\n",
        " u'fidget house': {u'destroy techno': 0.237864,\n",
        "  u'electro house': 0.145631,\n",
        "  u'electro trash': 0.160194,\n",
        "  u'fidget house': 1},\n",
        " u'filmi': {u'filmi': 1,\n",
        "  u'gujarati': 0.731915,\n",
        "  u'indian pop': 0.680851,\n",
        "  u'kannada': 0.468085,\n",
        "  u'malayalam': 0.153191,\n",
        "  u'pakistani pop': 0.110638,\n",
        "  u'tamil': 0.161702,\n",
        "  u'telugu': 0.191489},\n",
        " u'filter house': {u'alternative dance': 0.137931,\n",
        "  u'electro house': 0.297414,\n",
        "  u'electrofox': 0.172414,\n",
        "  u'filter house': 1,\n",
        "  u'house': 0.159483,\n",
        "  u'new rave': 0.103448,\n",
        "  u'nu disco': 0.202586,\n",
        "  u'retro electro': 0.198276},\n",
        " u'filthstep': {u'brostep': 0.48927,\n",
        "  u'catstep': 0.236052,\n",
        "  u'chillstep': 0.141631,\n",
        "  u'filthstep': 1},\n",
        " u'fingerstyle': {u'fingerstyle': 1},\n",
        " u'finnish hardcore': {u'finnish hardcore': 1},\n",
        " u'finnish hip hop': {u'finnish hip hop': 1},\n",
        " u'finnish indie': {u'finnish indie': 1, u'suomi rock': 0.195455},\n",
        " u'finnish jazz': {u'finnish jazz': 1},\n",
        " u'finnish pop': {u'classic finnish pop': 0.17551,\n",
        "  u'finnish pop': 1,\n",
        "  u'suomi rock': 0.253061},\n",
        " u'flamenco': {u'cante flamenco': 0.212121,\n",
        "  u'flamenco': 1,\n",
        "  u'rumba': 0.562771},\n",
        " u'flick hop': {u'beats & rhymes': 0.147959,\n",
        "  u'flick hop': 1,\n",
        "  u'underground rap': 0.147959},\n",
        " u'folk': {u'alternative country': 0.320285,\n",
        "  u'british folk': 0.27758,\n",
        "  u'chamber pop': 0.142349,\n",
        "  u'country rock': 0.295374,\n",
        "  u'cowpunk': 0.153025,\n",
        "  u'folk': 1,\n",
        "  u'folk christmas': 0.270463,\n",
        "  u'folk rock': 0.441281,\n",
        "  u'folk-pop': 0.348754,\n",
        "  u'indie folk': 0.188612,\n",
        "  u'mellow gold': 0.245552,\n",
        "  u'roots rock': 0.323843,\n",
        "  u'singer-songwriter': 0.544484,\n",
        "  u'soft rock': 0.156584,\n",
        "  u'stomp and holler': 0.224199,\n",
        "  u'traditional folk': 0.576512},\n",
        " u'folk christmas': {u'chamber pop': 0.159836,\n",
        "  u'folk': 0.311475,\n",
        "  u'folk christmas': 1,\n",
        "  u'folk rock': 0.262295,\n",
        "  u'folk-pop': 0.430328,\n",
        "  u'indie christmas': 0.262295,\n",
        "  u'indie folk': 0.196721,\n",
        "  u'lilith': 0.229508,\n",
        "  u'mellow gold': 0.22541,\n",
        "  u'new wave pop': 0.147541,\n",
        "  u'pop christmas': 0.151639,\n",
        "  u'roots rock': 0.163934,\n",
        "  u'singer-songwriter': 0.47541,\n",
        "  u'soft rock': 0.147541,\n",
        "  u'stomp and holler': 0.151639,\n",
        "  u'traditional folk': 0.331967},\n",
        " u'folk metal': {u'avantgarde metal': 0.152893,\n",
        "  u'black metal': 0.210744,\n",
        "  u'folk metal': 1,\n",
        "  u'gothic metal': 0.103306,\n",
        "  u'melodic death metal': 0.210744,\n",
        "  u'metal': 0.14876,\n",
        "  u'pagan black metal': 0.231405,\n",
        "  u'power metal': 0.115702,\n",
        "  u'symphonic black metal': 0.239669,\n",
        "  u'viking metal': 0.863636},\n",
        " u'folk punk': {u'celtic punk': 0.174528,\n",
        "  u'celtic rock': 0.127358,\n",
        "  u'folk punk': 1},\n",
        " u'folk rock': {u'album rock': 0.170139,\n",
        "  u'blues-rock': 0.121528,\n",
        "  u'british folk': 0.375,\n",
        "  u'classic rock': 0.1875,\n",
        "  u'country rock': 0.395833,\n",
        "  u'folk': 0.430556,\n",
        "  u'folk christmas': 0.222222,\n",
        "  u'folk rock': 1,\n",
        "  u'folk-pop': 0.361111,\n",
        "  u'mellow gold': 0.600694,\n",
        "  u'psychedelic rock': 0.15625,\n",
        "  u'rock': 0.173611,\n",
        "  u'roots rock': 0.447917,\n",
        "  u'singer-songwriter': 0.697917,\n",
        "  u'soft rock': 0.416667,\n",
        "  u'traditional folk': 0.5},\n",
        " u'folk-pop': {u'chamber pop': 0.244898,\n",
        "  u'folk': 0.285714,\n",
        "  u'folk christmas': 0.306122,\n",
        "  u'folk rock': 0.303207,\n",
        "  u'folk-pop': 1,\n",
        "  u'indie folk': 0.349854,\n",
        "  u'indie pop': 0.174927,\n",
        "  u'lilith': 0.326531,\n",
        "  u'mellow gold': 0.265306,\n",
        "  u'neo mellow': 0.157434,\n",
        "  u'new wave pop': 0.201166,\n",
        "  u'roots rock': 0.19242,\n",
        "  u'singer-songwriter': 0.553936,\n",
        "  u'soft rock': 0.189504,\n",
        "  u'stomp and holler': 0.25656,\n",
        "  u'traditional folk': 0.271137},\n",
        " u'folk-prog': {u'chamber pop': 0.140127,\n",
        "  u'folk-pop': 0.101911,\n",
        "  u'folk-prog': 1,\n",
        "  u'indie folk': 0.146497,\n",
        "  u'zeuhl': 0.127389},\n",
        " u'folklore argentino': {u'argentine rock': 0.061611,\n",
        "  u'folklore argentino': 1,\n",
        "  u'nueva cancion': 0.075829,\n",
        "  u'rio de la plata': 0.094787},\n",
        " u'folkmusik': {u'folkmusik': 1, u'nordic folk': 0.476744},\n",
        " u'footwork': {u'bass music': 0.159341,\n",
        "  u'footwork': 1,\n",
        "  u'future garage': 0.368132,\n",
        "  u'ghettotech': 0.21978,\n",
        "  u'trapstep': 0.153846},\n",
        " u'forro': {u'axe': 0.125,\n",
        "  u'bossa nova': 0.217105,\n",
        "  u'brazilian pop music': 0.243421,\n",
        "  u'choro': 0.210526,\n",
        "  u'forro': 1,\n",
        "  u'mpb': 0.263158,\n",
        "  u'samba': 0.282895,\n",
        "  u'velha guarda': 0.230263},\n",
        " u'fourth world': {u'ambient': 0.47619,\n",
        "  u'art rock': 0.103175,\n",
        "  u'deep ambient': 0.18254,\n",
        "  u'drone': 0.134921,\n",
        "  u'fourth world': 1,\n",
        "  u'minimal': 0.166667,\n",
        "  u'new age': 0.15873},\n",
        " u'freak folk': {u'anti-folk': 0.121711,\n",
        "  u'chamber pop': 0.351974,\n",
        "  u'chillwave': 0.144737,\n",
        "  u'folk-pop': 0.101974,\n",
        "  u'freak folk': 1,\n",
        "  u'indie folk': 0.358553,\n",
        "  u'indie pop': 0.266447,\n",
        "  u'indie rock': 0.253289,\n",
        "  u'lo-fi': 0.319079,\n",
        "  u'neo-psychedelic': 0.236842,\n",
        "  u'new weird america': 0.575658,\n",
        "  u'noise pop': 0.25,\n",
        "  u'nu gaze': 0.154605,\n",
        "  u'slow core': 0.220395,\n",
        "  u'stomp and holler': 0.319079},\n",
        " u'freakbeat': {u'british blues': 0.265217,\n",
        "  u'british invasion': 0.195652,\n",
        "  u'bubblegum pop': 0.113043,\n",
        "  u'classic garage rock': 0.578261,\n",
        "  u'freakbeat': 1,\n",
        "  u'merseybeat': 0.152174,\n",
        "  u'protopunk': 0.269565,\n",
        "  u'psychedelic rock': 0.347826},\n",
        " u'free improvisation': {u'avant-garde jazz': 0.669811,\n",
        "  u'drone': 0.103774,\n",
        "  u'electroacoustic improvisation': 0.122642,\n",
        "  u'free improvisation': 1,\n",
        "  u'free jazz': 0.688679,\n",
        "  u'minimal': 0.103774,\n",
        "  u'modern free jazz': 0.103774,\n",
        "  u'tzadik': 0.117925},\n",
        " u'free jazz': {u'avant-garde jazz': 0.928854,\n",
        "  u'bebop': 0.118577,\n",
        "  u'contemporary jazz': 0.15415,\n",
        "  u'contemporary post-bop': 0.181818,\n",
        "  u'cool jazz': 0.12253,\n",
        "  u'free improvisation': 0.577075,\n",
        "  u'free jazz': 1,\n",
        "  u'jazz': 0.162055,\n",
        "  u'modern free jazz': 0.173913},\n",
        " u'freestyle': {u'deep freestyle': 0.402062,\n",
        "  u'freestyle': 1,\n",
        "  u'hi nrg': 0.108247},\n",
        " u'french folk': {u'accordion': 0.070175,\n",
        "  u'breton folk': 0.078947,\n",
        "  u'french folk': 1},\n",
        " u'french folk pop': {u'french folk pop': 1, u'french rock': 0.264463},\n",
        " u'french hip hop': {u'french hip hop': 1},\n",
        " u'french indie pop': {u'french indie pop': 1, u'french rock': 0.192893},\n",
        " u'french movie tunes': {u'french movie tunes': 1,\n",
        "  u'musique pour enfants': 0.104712},\n",
        " u'french pop': {u'chanson': 0.322727,\n",
        "  u'french pop': 1,\n",
        "  u'french rock': 0.118182},\n",
        " u'french punk': {u'french punk': 1, u'french rock': 0.085366},\n",
        " u'french reggae': {u'french folk pop': 0.198198,\n",
        "  u'french reggae': 1,\n",
        "  u'french rock': 0.216216,\n",
        "  u'reggae fusion': 0.117117},\n",
        " u'french rock': {u'chanson': 0.270588,\n",
        "  u'french folk pop': 0.25098,\n",
        "  u'french indie pop': 0.14902,\n",
        "  u'french pop': 0.101961,\n",
        "  u'french rock': 1},\n",
        " u'full on': {u'full on': 1, u'psychedelic trance': 0.27897},\n",
        " u'funeral doom': {u'doom metal': 0.342629,\n",
        "  u'funeral doom': 1,\n",
        "  u'gothic doom': 0.302789},\n",
        " u'funk': {u'chicago soul': 0.201413,\n",
        "  u'classic funk rock': 0.791519,\n",
        "  u'disco': 0.487633,\n",
        "  u'funk': 1,\n",
        "  u'funk rock': 0.614841,\n",
        "  u'hi nrg': 0.137809,\n",
        "  u'memphis soul': 0.190813,\n",
        "  u'motown': 0.484099,\n",
        "  u'new jack swing': 0.130742,\n",
        "  u'p funk': 0.180212,\n",
        "  u'post-disco': 0.477032,\n",
        "  u'quiet storm': 0.650177,\n",
        "  u'soul': 0.54417,\n",
        "  u'soul blues': 0.137809,\n",
        "  u'soul christmas': 0.183746,\n",
        "  u'southern soul': 0.208481},\n",
        " u'funk metal': {u'alternative metal': 0.623894,\n",
        "  u'alternative rock': 0.309735,\n",
        "  u'funk metal': 1,\n",
        "  u'funk rock': 0.579646,\n",
        "  u'groove metal': 0.30531,\n",
        "  u'grunge': 0.190265,\n",
        "  u'industrial metal': 0.212389,\n",
        "  u'industrial rock': 0.10177,\n",
        "  u'nu metal': 0.482301,\n",
        "  u'pop rock': 0.123894,\n",
        "  u'post-grunge': 0.358407,\n",
        "  u'rap metal': 0.429204,\n",
        "  u'rap rock': 0.544248,\n",
        "  u'rock': 0.269912},\n",
        " u'funk rock': {u'alternative metal': 0.292835,\n",
        "  u'classic funk rock': 0.607477,\n",
        "  u'disco': 0.261682,\n",
        "  u'funk': 0.542056,\n",
        "  u'funk metal': 0.4081,\n",
        "  u'funk rock': 1,\n",
        "  u'motown': 0.286604,\n",
        "  u'nu metal': 0.249221,\n",
        "  u'p funk': 0.17757,\n",
        "  u'post-disco': 0.214953,\n",
        "  u'post-grunge': 0.180685,\n",
        "  u'quiet storm': 0.330218,\n",
        "  u'rap metal': 0.249221,\n",
        "  u'rap rock': 0.305296,\n",
        "  u'soul': 0.352025,\n",
        "  u'southern soul': 0.155763},\n",
        " u'funky breaks': {u'deep funk': 0.085561, u'funky breaks': 1},\n",
        " u'future ambient': {u'ambient fusion': 0.210256, u'future ambient': 1},\n",
        " u'future garage': {u'bass music': 0.332061,\n",
        "  u'dubstep': 0.148855,\n",
        "  u'footwork': 0.255725,\n",
        "  u'future garage': 1,\n",
        "  u'trapstep': 0.137405},\n",
        " u'futurepop': {u'aggrotech': 0.282528,\n",
        "  u'dark wave': 0.148699,\n",
        "  u'ebm': 0.416357,\n",
        "  u'electro-industrial': 0.405204,\n",
        "  u'futurepop': 1,\n",
        "  u'neo-synthpop': 0.35316},\n",
        " u'g funk': {u'deep g funk': 0.155738,\n",
        "  u'g funk': 1,\n",
        "  u'gangster rap': 0.622951,\n",
        "  u'hip hop': 0.131148,\n",
        "  u'hyphy': 0.393443,\n",
        "  u'juggalo': 0.360656,\n",
        "  u'rap': 0.184426,\n",
        "  u'west coast rap': 0.938525},\n",
        " u'gabba': {u'deep hardcore': 0.210046,\n",
        "  u'doomcore': 0.155251,\n",
        "  u'gabba': 1,\n",
        "  u'happy hardcore': 0.328767,\n",
        "  u'hardcore techno': 0.374429,\n",
        "  u'speedcore': 0.278539},\n",
        " u'galego': {u'galego': 1, u'spanish folk': 0.227273},\n",
        " u'gamecore': {u'gamecore': 1, u'video game music': 0.191057},\n",
        " u'gamelan': {u'gamelan': 1},\n",
        " u'gangster rap': {u'alternative hip hop': 0.107937,\n",
        "  u'crunk': 0.4,\n",
        "  u'dirty south rap': 0.460317,\n",
        "  u'g funk': 0.48254,\n",
        "  u'gangster rap': 1,\n",
        "  u'hardcore hip hop': 0.174603,\n",
        "  u'hip hop': 0.326984,\n",
        "  u'hyphy': 0.206349,\n",
        "  u'juggalo': 0.393651,\n",
        "  u'memphis hip hop': 0.152381,\n",
        "  u'old school hip hop': 0.11746,\n",
        "  u'pop rap': 0.342857,\n",
        "  u'rap': 0.320635,\n",
        "  u'southern hip hop': 0.371429,\n",
        "  u'trap music': 0.355556,\n",
        "  u'west coast rap': 0.479365},\n",
        " u'garage pop': {u'garage pop': 1,\n",
        "  u'garage punk': 0.116466,\n",
        "  u'garage rock': 0.11245,\n",
        "  u'noise pop': 0.144578,\n",
        "  u'punk blues': 0.148594},\n",
        " u'garage punk': {u'garage pop': 0.258929,\n",
        "  u'garage punk': 1,\n",
        "  u'slash punk': 0.133929},\n",
        " u'garage punk blues': {u'garage pop': 0.131313,\n",
        "  u'garage punk blues': 1,\n",
        "  u'garage rock': 0.151515,\n",
        "  u'punk blues': 0.212121},\n",
        " u'garage rock': {u'alternative rock': 0.13253,\n",
        "  u'dance-punk': 0.148594,\n",
        "  u'garage pop': 0.11245,\n",
        "  u'garage rock': 1,\n",
        "  u'indie rock': 0.301205,\n",
        "  u'protopunk': 0.144578,\n",
        "  u'punk blues': 0.550201,\n",
        "  u'trash rock': 0.116466},\n",
        " u'gauze pop': {u'gauze pop': 1, u'shiver pop': 0.056075},\n",
        " u'gbvfi': {u'alternative pop': 0.256098,\n",
        "  u'alternative rock': 0.182927,\n",
        "  u'e6fi': 0.140244,\n",
        "  u'gbvfi': 1,\n",
        "  u'indie rock': 0.109756,\n",
        "  u'lo-fi': 0.371951},\n",
        " u'geek folk': {u'geek folk': 1,\n",
        "  u'geek rock': 0.101266,\n",
        "  u'neo-pagan': 0.379747},\n",
        " u'geek rock': {u'comic': 0.181818, u'geek folk': 0.121212, u'geek rock': 1},\n",
        " u'german ccm': {u'german ccm': 1, u'worship': 0.054348},\n",
        " u'german hip hop': {u'german hip hop': 1, u'reggae fusion': 0.064982},\n",
        " u'german indie': {u'german indie': 1,\n",
        "  u'german pop': 0.266376,\n",
        "  u'more german indie': 0.257642},\n",
        " u'german metal': {u'folk metal': 0.12973,\n",
        "  u'german metal': 1,\n",
        "  u'metal': 0.178378,\n",
        "  u'neo classical metal': 0.172973,\n",
        "  u'neo-trad metal': 0.140541,\n",
        "  u'power metal': 0.264865,\n",
        "  u'progressive metal': 0.178378,\n",
        "  u'speed metal': 0.308108,\n",
        "  u'thrash metal': 0.12973},\n",
        " u'german oi': {u'german oi': 1,\n",
        "  u'german punk': 0.24,\n",
        "  u'oi': 0.15,\n",
        "  u'skinhead oi': 0.1},\n",
        " u'german pop': {u'german indie': 0.242063,\n",
        "  u'german pop': 1,\n",
        "  u'german pop rock': 0.265873,\n",
        "  u'liedermacher': 0.166667},\n",
        " u'german pop rock': {u'german pop': 0.341837, u'german pop rock': 1},\n",
        " u'german punk': {u'german oi': 0.216216, u'german punk': 1},\n",
        " u'german show tunes': {u'german show tunes': 1},\n",
        " u'german techno': {u'bubble trance': 0.153409,\n",
        "  u'deeper house': 0.125,\n",
        "  u'eurodance': 0.136364,\n",
        "  u'german techno': 1,\n",
        "  u'microhouse': 0.295455,\n",
        "  u'minimal techno': 0.4375,\n",
        "  u'tech house': 0.397727,\n",
        "  u'trance': 0.107955},\n",
        " u'ghettotech': {u'footwork': 0.384615, u'ghettotech': 1},\n",
        " u'ghoststep': {u'experimental dubstep': 0.222222, u'ghoststep': 1},\n",
        " u'girl group': {u'brill building pop': 0.150602, u'girl group': 1},\n",
        " u'glam metal': {u'album rock': 0.367188,\n",
        "  u'glam metal': 1,\n",
        "  u'glam rock': 0.332031,\n",
        "  u'hard glam': 0.140625,\n",
        "  u'hard rock': 0.6875,\n",
        "  u'heavy christmas': 0.167969,\n",
        "  u'melodic hard rock': 0.109375,\n",
        "  u'metal': 0.109375,\n",
        "  u'rock': 0.339844,\n",
        "  u'sleaze rock': 0.640625},\n",
        " u'glam rock': {u'album rock': 0.407051,\n",
        "  u'art rock': 0.157051,\n",
        "  u'blues-rock': 0.11859,\n",
        "  u'british blues': 0.112179,\n",
        "  u'classic rock': 0.25641,\n",
        "  u'glam metal': 0.272436,\n",
        "  u'glam rock': 1,\n",
        "  u'hard rock': 0.403846,\n",
        "  u'mellow gold': 0.144231,\n",
        "  u'new wave': 0.115385,\n",
        "  u'protopunk': 0.301282,\n",
        "  u'pub rock': 0.147436,\n",
        "  u'punk': 0.11859,\n",
        "  u'rock': 0.451923,\n",
        "  u'sleaze rock': 0.179487,\n",
        "  u'soft rock': 0.105769},\n",
        " u'glitch': {u'abstract': 0.194553,\n",
        "  u'drill and bass': 0.124514,\n",
        "  u'drone': 0.116732,\n",
        "  u'dub techno': 0.22179,\n",
        "  u'glitch': 1,\n",
        "  u'intelligent dance music': 0.214008,\n",
        "  u'microhouse': 0.167315},\n",
        " u'glitch hop': {u'glitch': 0.136612, u'glitch hop': 1, u'wonky': 0.218579},\n",
        " u'glitter trance': {u'glitter trance': 1,\n",
        "  u'progressive uplifting trance': 0.093525},\n",
        " u'goa trance': {u'goa trance': 1, u'psychedelic trance': 0.227273},\n",
        " u'goregrind': {u'brutal death metal': 0.386831,\n",
        "  u'death metal': 0.341564,\n",
        "  u'deathgrind': 0.641975,\n",
        "  u'goregrind': 1,\n",
        "  u'grindcore': 0.604938,\n",
        "  u'necrogrind': 0.144033,\n",
        "  u'slam death metal': 0.135802,\n",
        "  u'technical death metal': 0.304527},\n",
        " u'gospel': {u'gospel': 1, u'praise': 0.15102},\n",
        " u'gospel blues': {u'gospel blues': 1},\n",
        " u'gospel reggae': {u'gospel reggae': 1},\n",
        " u'gothic alternative': {u'gothic alternative': 1,\n",
        "  u'hard alternative': 0.194175,\n",
        "  u'modern downshift': 0.135922},\n",
        " u'gothic americana': {u'alternative country': 0.073298,\n",
        "  u'cowpunk': 0.08377,\n",
        "  u'dark cabaret': 0.062827,\n",
        "  u'gothic americana': 1,\n",
        "  u'neo honky tonk': 0.068063,\n",
        "  u'steampunk': 0.052356},\n",
        " u'gothic doom': {u'doom metal': 0.18552,\n",
        "  u'funeral doom': 0.343891,\n",
        "  u'gothic doom': 1},\n",
        " u'gothic metal': {u'fallen angel': 0.106383,\n",
        "  u'folk metal': 0.106383,\n",
        "  u'gothic metal': 1,\n",
        "  u'gothic symphonic metal': 0.774468,\n",
        "  u'melodic death metal': 0.119149,\n",
        "  u'symphonic metal': 0.782979},\n",
        " u'gothic post-punk': {u'gothic post-punk': 1,\n",
        "  u'gothic rock': 0.222826,\n",
        "  u'minimal wave': 0.119565,\n",
        "  u'uk post-punk': 0.125},\n",
        " u'gothic rock': {u'corrosion': 0.278884,\n",
        "  u'dark wave': 0.270916,\n",
        "  u'ethereal wave': 0.115538,\n",
        "  u'gothic post-punk': 0.163347,\n",
        "  u'gothic rock': 1,\n",
        "  u'new wave': 0.139442,\n",
        "  u'post-punk': 0.10757,\n",
        "  u'uk post-punk': 0.219124},\n",
        " u'gothic symphonic metal': {u'fallen angel': 0.25,\n",
        "  u'gothic metal': 0.722222,\n",
        "  u'gothic symphonic metal': 1,\n",
        "  u'symphonic metal': 0.869048},\n",
        " u'grave wave': {u'chillwave': 0.16763,\n",
        "  u'grave wave': 1,\n",
        "  u'indietronica': 0.115607,\n",
        "  u'nu gaze': 0.104046,\n",
        "  u'r-neg-b': 0.156069,\n",
        "  u'witch house': 0.393064},\n",
        " u'greek hip hop': {u'greek hip hop': 1, u'greek indie': 0.082569},\n",
        " u'greek indie': {u'entehno': 0.291005, u'greek indie': 1, u'laiko': 0.111111},\n",
        " u'grim death metal': {u'black death': 0.229787, u'grim death metal': 1},\n",
        " u'grime': {u'grime': 1, u'uk hip hop': 0.156379},\n",
        " u'grindcore': {u'brutal death metal': 0.401639,\n",
        "  u'crust punk': 0.102459,\n",
        "  u'death core': 0.131148,\n",
        "  u'death metal': 0.409836,\n",
        "  u'deathgrind': 0.684426,\n",
        "  u'goregrind': 0.602459,\n",
        "  u'grindcore': 1,\n",
        "  u'necrogrind': 0.143443,\n",
        "  u'power violence': 0.204918,\n",
        "  u'technical death metal': 0.356557},\n",
        " u'groove metal': {u'alternative metal': 0.442244,\n",
        "  u'crossover thrash': 0.19802,\n",
        "  u'death metal': 0.231023,\n",
        "  u'funk metal': 0.227723,\n",
        "  u'funk rock': 0.158416,\n",
        "  u'groove metal': 1,\n",
        "  u'industrial metal': 0.250825,\n",
        "  u'melodic death metal': 0.148515,\n",
        "  u'melodic metalcore': 0.339934,\n",
        "  u'metal': 0.372937,\n",
        "  u'metalcore': 0.30363,\n",
        "  u'nu metal': 0.465347,\n",
        "  u'rap metal': 0.326733,\n",
        "  u'rap rock': 0.287129,\n",
        "  u'speed metal': 0.336634,\n",
        "  u'thrash metal': 0.349835},\n",
        " u'grunge': {u'alternative metal': 0.251101,\n",
        "  u'alternative rock': 0.444934,\n",
        "  u'funk metal': 0.189427,\n",
        "  u'funk rock': 0.114537,\n",
        "  u'grunge': 1,\n",
        "  u'nu metal': 0.118943,\n",
        "  u'pop rock': 0.167401,\n",
        "  u'post-grunge': 0.334802,\n",
        "  u'rap rock': 0.110132,\n",
        "  u'rock': 0.23348},\n",
        " u'grunge pop': {u'grunge pop': 1, u'post-grunge': 0.264317},\n",
        " u'grupera': {u'banda': 0.718367,\n",
        "  u'bolero': 0.102041,\n",
        "  u'cumbia': 0.114286,\n",
        "  u'cumbia sonidera': 0.126531,\n",
        "  u'duranguense': 0.4,\n",
        "  u'grupera': 1,\n",
        "  u'mariachi': 0.477551,\n",
        "  u'more regional mexican': 0.15102,\n",
        "  u'norteno': 0.82449,\n",
        "  u'ranchera': 0.457143,\n",
        "  u'regional mexican': 0.836735},\n",
        " u'guidance': {u'guidance': 1},\n",
        " u'gujarati': {u'filmi': 0.713693,\n",
        "  u'gujarati': 1,\n",
        "  u'indian pop': 0.560166,\n",
        "  u'kannada': 0.394191,\n",
        "  u'malayalam': 0.116183,\n",
        "  u'tamil': 0.116183,\n",
        "  u'telugu': 0.141079},\n",
        " u'gypsy jazz': {u'gypsy jazz': 1, u'more jazz guitar': 0.065574},\n",
        " u'hands up': {u'hands up': 1, u'pop house': 0.1},\n",
        " u'happy hardcore': {u'deep hardcore': 0.539568,\n",
        "  u'gabba': 0.517986,\n",
        "  u'happy hardcore': 1,\n",
        "  u'hardcore techno': 0.280576},\n",
        " u'hard alternative': {u'alternative metalcore': 0.053279,\n",
        "  u'gothic alternative': 0.081967,\n",
        "  u'grunge pop': 0.077869,\n",
        "  u'hard alternative': 1,\n",
        "  u'heavy alternative': 0.057377,\n",
        "  u'modern downshift': 0.081967,\n",
        "  u'post-grunge': 0.077869},\n",
        " u'hard bop': {u'avant-garde jazz': 0.106464,\n",
        "  u'bebop': 0.802281,\n",
        "  u'big band': 0.258555,\n",
        "  u'contemporary post-bop': 0.657795,\n",
        "  u'cool jazz': 0.676806,\n",
        "  u'hard bop': 1,\n",
        "  u'jazz': 0.661597,\n",
        "  u'jazz christmas': 0.201521,\n",
        "  u'jazz funk': 0.21673,\n",
        "  u'jazz fusion': 0.129278,\n",
        "  u'soul jazz': 0.577947,\n",
        "  u'stride': 0.155894},\n",
        " u'hard glam': {u'glam metal': 0.165138,\n",
        "  u'hard glam': 1,\n",
        "  u'more melodic hard rock': 0.169725,\n",
        "  u'sleaze rock': 0.458716},\n",
        " u'hard house': {u'hard house': 1, u'hard trance': 0.289308},\n",
        " u'hard rock': {u'album rock': 0.590769,\n",
        "  u'blues-rock': 0.166154,\n",
        "  u'classic rock': 0.289231,\n",
        "  u'glam metal': 0.541538,\n",
        "  u'glam rock': 0.387692,\n",
        "  u'hard rock': 1,\n",
        "  u'heavy christmas': 0.141538,\n",
        "  u'metal': 0.218462,\n",
        "  u'nwobhm': 0.129231,\n",
        "  u'rock': 0.627692,\n",
        "  u'sleaze rock': 0.323077,\n",
        "  u'southern rock': 0.123077},\n",
        " u'hard stoner rock': {u'hard stoner rock': 1, u'retro metal': 0.270492},\n",
        " u'hard trance': {u'hard house': 0.333333, u'hard trance': 1},\n",
        " u'hardcore': {u'beatdown': 0.206278,\n",
        "  u'crossover thrash': 0.179372,\n",
        "  u'hardcore': 1,\n",
        "  u'hardcore punk': 0.125561,\n",
        "  u'melodic hardcore': 0.112108,\n",
        "  u'straight edge': 0.524664,\n",
        "  u'vegan straight edge': 0.246637},\n",
        " u'hardcore breaks': {u'hardcore breaks': 1, u'hardcore techno': 0.25641},\n",
        " u'hardcore hip hop': {u'alternative hip hop': 0.203448,\n",
        "  u'east coast hip hop': 0.837931,\n",
        "  u'gangster rap': 0.189655,\n",
        "  u'hardcore hip hop': 1,\n",
        "  u'hip hop': 0.637931,\n",
        "  u'more east coast hip hop': 0.117241,\n",
        "  u'old school hip hop': 0.458621,\n",
        "  u'pop rap': 0.134483,\n",
        "  u'rap': 0.710345,\n",
        "  u'turntablism': 0.113793,\n",
        "  u'underground hip hop': 0.327586},\n",
        " u'hardcore punk': {u'crossover thrash': 0.452675,\n",
        "  u'hardcore': 0.115226,\n",
        "  u'hardcore punk': 1,\n",
        "  u'melodic hardcore': 0.222222,\n",
        "  u'more hardcore punk': 0.160494,\n",
        "  u'punk': 0.604938,\n",
        "  u'skate punk': 0.806584,\n",
        "  u'straight edge': 0.230453,\n",
        "  u'thrash core': 0.205761},\n",
        " u'hardcore techno': {u'doomcore': 0.141361,\n",
        "  u'gabba': 0.429319,\n",
        "  u'happy hardcore': 0.204188,\n",
        "  u'hardcore breaks': 0.209424,\n",
        "  u'hardcore techno': 1,\n",
        "  u'speedcore': 0.282723},\n",
        " u'hardstyle': {u'deep hardstyle': 0.139442, u'hardstyle': 1},\n",
        " u'harmonica blues': {u'acoustic blues': 0.349398,\n",
        "  u'blues': 0.445783,\n",
        "  u'chicago blues': 0.546185,\n",
        "  u'country blues': 0.35743,\n",
        "  u'delta blues': 0.337349,\n",
        "  u'electric blues': 0.385542,\n",
        "  u'harmonica blues': 1,\n",
        "  u'jazz blues': 0.240964,\n",
        "  u'louisiana blues': 0.550201,\n",
        "  u'memphis blues': 0.421687,\n",
        "  u'modern blues': 0.228916,\n",
        "  u'piano blues': 0.285141,\n",
        "  u'soul blues': 0.35743,\n",
        "  u'swamp blues': 0.590361,\n",
        "  u'texas blues': 0.437751,\n",
        "  u'traditional blues': 0.405622},\n",
        " u'harp': {u'classical christmas': 0.190476,\n",
        "  u'harp': 1,\n",
        "  u'string folk': 0.119048},\n",
        " u'hatecore': {u'german oi': 0.05314,\n",
        "  u'hatecore': 1,\n",
        "  u'oi': 0.091787,\n",
        "  u'skinhead oi': 0.067633},\n",
        " u'hauntology': {u'drone': 0.145985,\n",
        "  u'experimental psych': 0.116788,\n",
        "  u'hauntology': 1,\n",
        "  u'vaporwave': 0.124088,\n",
        "  u'warm drone': 0.153285},\n",
        " u'hawaiian': {u'hawaiian': 1, u'world christmas': 0.14},\n",
        " u'healing': {u'alternative new age': 0.265116,\n",
        "  u'healing': 1,\n",
        "  u'kirtan': 0.283721,\n",
        "  u'meditation': 0.274419,\n",
        "  u'new age': 0.246512,\n",
        "  u'new tribe': 0.106977},\n",
        " u'heavy alternative': {u'hard alternative': 0.057613,\n",
        "  u'heavy alternative': 1,\n",
        "  u'modern downshift': 0.082305},\n",
        " u'heavy christmas': {u'album rock': 0.180124,\n",
        "  u'alternative metal': 0.10559,\n",
        "  u'glam metal': 0.267081,\n",
        "  u'glam rock': 0.180124,\n",
        "  u'hard rock': 0.285714,\n",
        "  u'heavy christmas': 1,\n",
        "  u'metal': 0.173913,\n",
        "  u'punk': 0.173913,\n",
        "  u'punk christmas': 0.279503,\n",
        "  u'rock': 0.198758,\n",
        "  u'skate punk': 0.111801,\n",
        "  u'sleaze rock': 0.149068,\n",
        "  u'speed metal': 0.130435},\n",
        " u'heavy gothic rock': {u'corrosion': 0.113333,\n",
        "  u'fallen angel': 0.1,\n",
        "  u'heavy gothic rock': 1},\n",
        " u'hi nrg': {u'classic funk rock': 0.112108,\n",
        "  u'disco': 0.452915,\n",
        "  u'funk': 0.174888,\n",
        "  u'hi nrg': 1,\n",
        "  u'italian disco': 0.139013,\n",
        "  u'motown': 0.112108,\n",
        "  u'new romantic': 0.107623,\n",
        "  u'new wave pop': 0.183857,\n",
        "  u'post-disco': 0.273543,\n",
        "  u'quiet storm': 0.147982,\n",
        "  u'soul': 0.112108},\n",
        " u'highlife': {u'afrobeat': 0.286885,\n",
        "  u'azonto': 0.180328,\n",
        "  u'classic afrobeat': 0.229508,\n",
        "  u'highlife': 1,\n",
        "  u'hiplife': 0.254098,\n",
        "  u'soukous': 0.106557,\n",
        "  u'world': 0.131148},\n",
        " u'hindustani classical': {u'carnatic': 0.120833,\n",
        "  u'hindustani classical': 1,\n",
        "  u'indian classical': 0.608333},\n",
        " u'hip hop': {u'alternative hip hop': 0.425316,\n",
        "  u'crunk': 0.126582,\n",
        "  u'dirty south rap': 0.174684,\n",
        "  u'east coast hip hop': 0.407595,\n",
        "  u'gangster rap': 0.260759,\n",
        "  u'hardcore hip hop': 0.468354,\n",
        "  u'hip hop': 1,\n",
        "  u'hip pop': 0.101266,\n",
        "  u'juggalo': 0.131646,\n",
        "  u'old school hip hop': 0.397468,\n",
        "  u'pop rap': 0.405063,\n",
        "  u'rap': 0.635443,\n",
        "  u'southern hip hop': 0.162025,\n",
        "  u'trap music': 0.192405,\n",
        "  u'turntablism': 0.146835,\n",
        "  u'underground hip hop': 0.35443},\n",
        " u'hip hop quebecois': {u'hip hop quebecois': 1},\n",
        " u'hip hop tuga': {u'hip hop tuga': 1,\n",
        "  u'portuguese pop': 0.174603,\n",
        "  u'portuguese rock': 0.227513},\n",
        " u'hip house': {u'acid house': 0.223684,\n",
        "  u'bubblegum dance': 0.149123,\n",
        "  u'chicago house': 0.184211,\n",
        "  u'eurodance': 0.320175,\n",
        "  u'europop': 0.131579,\n",
        "  u'hip house': 1,\n",
        "  u'vocal house': 0.109649},\n",
        " u'hip pop': {u'alternative r&b': 0.117409,\n",
        "  u'crunk': 0.1417,\n",
        "  u'dance pop': 0.352227,\n",
        "  u'dirty south rap': 0.137652,\n",
        "  u'hip hop': 0.161943,\n",
        "  u'hip pop': 1,\n",
        "  u'neo soul': 0.226721,\n",
        "  u'new jack swing': 0.182186,\n",
        "  u'pop': 0.206478,\n",
        "  u'pop rap': 0.218623,\n",
        "  u'r&b': 0.635628,\n",
        "  u'r-neg-b': 0.137652,\n",
        "  u'sexy': 0.550607,\n",
        "  u'southern hip hop': 0.145749,\n",
        "  u'trap music': 0.121457,\n",
        "  u'urban contemporary': 0.631579},\n",
        " u'hiplife': {u'azonto': 0.633028, u'highlife': 0.142202, u'hiplife': 1},\n",
        " u'hollywood': {u'broadway': 0.103825,\n",
        "  u'cabaret': 0.185792,\n",
        "  u'hollywood': 1,\n",
        "  u'movie tunes': 0.114754,\n",
        "  u'show tunes': 0.393443},\n",
        " u'horror punk': {u'horror punk': 1, u'psychobilly': 0.298343},\n",
        " u'house': {u'alternative dance': 0.104478,\n",
        "  u'big room': 0.235075,\n",
        "  u'disco house': 0.395522,\n",
        "  u'edm': 0.477612,\n",
        "  u'electro house': 0.552239,\n",
        "  u'electronic': 0.126866,\n",
        "  u'filter house': 0.13806,\n",
        "  u'house': 1,\n",
        "  u'pop house': 0.149254,\n",
        "  u'progressive electro house': 0.212687,\n",
        "  u'progressive house': 0.283582,\n",
        "  u'tribal house': 0.164179,\n",
        "  u'vocal house': 0.354478},\n",
        " u'hungarian hip hop': {u'hungarian hip hop': 1,\n",
        "  u'hungarian pop': 0.12381,\n",
        "  u'hungarian rock': 0.314286},\n",
        " u'hungarian pop': {u'hungarian pop': 1, u'hungarian rock': 0.416667},\n",
        " u'hungarian rock': {u'hungarian hip hop': 0.140426,\n",
        "  u'hungarian pop': 0.404255,\n",
        "  u'hungarian rock': 1},\n",
        " u'hurban': {u'bachata': 0.254839,\n",
        "  u'hurban': 1,\n",
        "  u'latin': 0.441935,\n",
        "  u'latin hip hop': 0.303226,\n",
        "  u'latin pop': 0.406452,\n",
        "  u'merengue': 0.193548,\n",
        "  u'reggaeton': 0.403226,\n",
        "  u'spanish pop': 0.148387,\n",
        "  u'tropical': 0.5},\n",
        " u'hyphy': {u'bay area hip hop': 0.284519,\n",
        "  u'g funk': 0.401674,\n",
        "  u'gangster rap': 0.271967,\n",
        "  u'hyphy': 1,\n",
        "  u'juggalo': 0.16318,\n",
        "  u'west coast rap': 0.435146},\n",
        " u'icelandic pop': {u'icelandic pop': 1},\n",
        " u'idol': {u'idol': 1, u'more talent show': 0.085202},\n",
        " u'illbient': {u'acid jazz': 0.11,\n",
        "  u'big beat': 0.19,\n",
        "  u'chill-out': 0.18,\n",
        "  u'downtempo': 0.22,\n",
        "  u'electro dub': 0.12,\n",
        "  u'electronic': 0.18,\n",
        "  u'illbient': 1,\n",
        "  u'intelligent dance music': 0.1,\n",
        "  u'ninja': 0.22,\n",
        "  u'nu jazz': 0.17,\n",
        "  u'trip hop': 0.24,\n",
        "  u'turntablism': 0.19},\n",
        " u'indian classical': {u'carnatic': 0.389744,\n",
        "  u'hindustani classical': 0.748718,\n",
        "  u'indian classical': 1},\n",
        " u'indian pop': {u'bhangra': 0.192469,\n",
        "  u'desi': 0.276151,\n",
        "  u'filmi': 0.669456,\n",
        "  u'gujarati': 0.564854,\n",
        "  u'indian pop': 1,\n",
        "  u'kannada': 0.405858,\n",
        "  u'malayalam': 0.100418,\n",
        "  u'pakistani pop': 0.129707,\n",
        "  u'punjabi': 0.200837,\n",
        "  u'qawwali': 0.108787,\n",
        "  u'tamil': 0.117155,\n",
        "  u'telugu': 0.142259},\n",
        " u'indian rock': {u'filmi': 0.112069,\n",
        "  u'indian pop': 0.12069,\n",
        "  u'indian rock': 1},\n",
        " u'indie christmas': {u'alternative rock': 0.144279,\n",
        "  u'chamber pop': 0.258706,\n",
        "  u'folk christmas': 0.318408,\n",
        "  u'folk-pop': 0.154229,\n",
        "  u'indie christmas': 1,\n",
        "  u'indie folk': 0.243781,\n",
        "  u'indie pop': 0.238806,\n",
        "  u'indie rock': 0.248756,\n",
        "  u'indietronica': 0.109453,\n",
        "  u'lo-fi': 0.179104,\n",
        "  u'neo-psychedelic': 0.104478,\n",
        "  u'noise pop': 0.109453,\n",
        "  u'power pop': 0.124378,\n",
        "  u'stomp and holler': 0.179104},\n",
        " u'indie dream pop': {u'chillwave': 0.115702,\n",
        "  u'indie dream pop': 1,\n",
        "  u'shimmer psych': 0.165289},\n",
        " u'indie emo': {u'emo punk': 0.140187,\n",
        "  u'indie emo': 1,\n",
        "  u'indie emo rock': 0.11215,\n",
        "  u'screamo punk': 0.107477},\n",
        " u'indie emo rock': {u'emo': 0.173913,\n",
        "  u'emo punk': 0.391304,\n",
        "  u'indie emo': 0.130435,\n",
        "  u'indie emo rock': 1},\n",
        " u'indie folk': {u'anti-folk': 0.14939,\n",
        "  u'chamber pop': 0.603659,\n",
        "  u'folk': 0.161585,\n",
        "  u'folk christmas': 0.146341,\n",
        "  u'folk-pop': 0.365854,\n",
        "  u'freak folk': 0.332317,\n",
        "  u'indie christmas': 0.14939,\n",
        "  u'indie folk': 1,\n",
        "  u'indie pop': 0.448171,\n",
        "  u'indie rock': 0.375,\n",
        "  u'lo-fi': 0.304878,\n",
        "  u'neo-psychedelic': 0.131098,\n",
        "  u'new weird america': 0.17378,\n",
        "  u'singer-songwriter': 0.164634,\n",
        "  u'slow core': 0.283537,\n",
        "  u'stomp and holler': 0.634146},\n",
        " u'indie fuzzpop': {u'c86': 0.256809,\n",
        "  u'indie fuzzpop': 1,\n",
        "  u'twee indie pop': 0.182879,\n",
        "  u'twee pop': 0.291829},\n",
        " u'indie pop': {u'alternative rock': 0.175159,\n",
        "  u'chamber pop': 0.56051,\n",
        "  u'e6fi': 0.136943,\n",
        "  u'folk-pop': 0.191083,\n",
        "  u'freak folk': 0.257962,\n",
        "  u'indie christmas': 0.152866,\n",
        "  u'indie folk': 0.468153,\n",
        "  u'indie pop': 1,\n",
        "  u'indie rock': 0.675159,\n",
        "  u'indietronica': 0.270701,\n",
        "  u'lo-fi': 0.461783,\n",
        "  u'neo-psychedelic': 0.251592,\n",
        "  u'noise pop': 0.254777,\n",
        "  u'nu gaze': 0.133758,\n",
        "  u'slow core': 0.171975,\n",
        "  u'stomp and holler': 0.353503},\n",
        " u'indie psych-pop': {u'indie psych-pop': 1, u'shimmer psych': 0.189349},\n",
        " u'indie rock': {u'alternative rock': 0.321343,\n",
        "  u'chamber pop': 0.390887,\n",
        "  u'dance-punk': 0.220624,\n",
        "  u'freak folk': 0.184652,\n",
        "  u'garage rock': 0.179856,\n",
        "  u'indie folk': 0.294964,\n",
        "  u'indie pop': 0.508393,\n",
        "  u'indie rock': 1,\n",
        "  u'indietronica': 0.170264,\n",
        "  u'lo-fi': 0.482014,\n",
        "  u'neo-psychedelic': 0.261391,\n",
        "  u'new rave': 0.136691,\n",
        "  u'noise pop': 0.28777,\n",
        "  u'nu gaze': 0.127098,\n",
        "  u'slow core': 0.160671,\n",
        "  u'stomp and holler': 0.215827},\n",
        " u'indie shoegaze': {u'dream pop': 0.189723,\n",
        "  u'indie shoegaze': 1,\n",
        "  u'nu gaze': 0.166008,\n",
        "  u'psych gaze': 0.110672,\n",
        "  u'shoegaze': 0.312253},\n",
        " u'indie singer-songwriter': {u'ectofolk': 0.067073,\n",
        "  u'indie singer-songwriter': 1,\n",
        "  u'more indie singer-songwriter': 0.097561},\n",
        " u'indietronica': {u'alternative dance': 0.481132,\n",
        "  u'chillwave': 0.339623,\n",
        "  u'dance-punk': 0.349057,\n",
        "  u'electroclash': 0.166667,\n",
        "  u'indie pop': 0.267296,\n",
        "  u'indie rock': 0.22327,\n",
        "  u'indietronica': 1,\n",
        "  u'metropopolis': 0.198113,\n",
        "  u'new rave': 0.399371,\n",
        "  u'noise pop': 0.163522,\n",
        "  u'nu gaze': 0.207547,\n",
        "  u'r-neg-b': 0.289308,\n",
        "  u'shimmer pop': 0.13522,\n",
        "  u'synthpop': 0.462264},\n",
        " u'indonesian indie': {u'indonesian indie': 1, u'indonesian pop': 0.331797},\n",
        " u'indonesian pop': {u'dangdut': 0.367589,\n",
        "  u'indonesian indie': 0.284585,\n",
        "  u'indonesian pop': 1},\n",
        " u'indorock': {u'indorock': 1},\n",
        " u'industrial': {u'ebm': 0.254167,\n",
        "  u'electro-industrial': 0.233333,\n",
        "  u'experimental': 0.270833,\n",
        "  u'experimental rock': 0.15,\n",
        "  u'industrial': 1,\n",
        "  u'industrial metal': 0.266667,\n",
        "  u'industrial rock': 0.479167,\n",
        "  u'no wave': 0.133333,\n",
        "  u'post-punk': 0.1125,\n",
        "  u'power electronics': 0.1125,\n",
        "  u'uk post-punk': 0.108333},\n",
        " u'industrial metal': {u'alternative metal': 0.454545,\n",
        "  u'ebm': 0.163636,\n",
        "  u'electro-industrial': 0.181818,\n",
        "  u'funk metal': 0.218182,\n",
        "  u'funk rock': 0.154545,\n",
        "  u'groove metal': 0.345455,\n",
        "  u'industrial': 0.290909,\n",
        "  u'industrial metal': 1,\n",
        "  u'industrial rock': 0.640909,\n",
        "  u'melodic metalcore': 0.113636,\n",
        "  u'metalcore': 0.136364,\n",
        "  u'neo-industrial rock': 0.118182,\n",
        "  u'nu metal': 0.495455,\n",
        "  u'post-grunge': 0.168182,\n",
        "  u'rap metal': 0.381818,\n",
        "  u'rap rock': 0.318182},\n",
        " u'industrial rock': {u'alternative metal': 0.242991,\n",
        "  u'ebm': 0.317757,\n",
        "  u'electro-industrial': 0.32243,\n",
        "  u'experimental': 0.116822,\n",
        "  u'funk metal': 0.107477,\n",
        "  u'groove metal': 0.163551,\n",
        "  u'industrial': 0.537383,\n",
        "  u'industrial metal': 0.658879,\n",
        "  u'industrial rock': 1,\n",
        "  u'neo-industrial rock': 0.107477,\n",
        "  u'nu metal': 0.266355,\n",
        "  u'rap metal': 0.17757,\n",
        "  u'rap rock': 0.154206},\n",
        " u'instrumental post rock': {u'atmospheric post rock': 0.267857,\n",
        "  u'instrumental post rock': 1},\n",
        " u'intelligent dance music': {u'acid house': 0.136364,\n",
        "  u'ambient': 0.131313,\n",
        "  u'big beat': 0.141414,\n",
        "  u'breakcore': 0.106061,\n",
        "  u'chill-out': 0.10101,\n",
        "  u'drill and bass': 0.454545,\n",
        "  u'electronic': 0.272727,\n",
        "  u'electronica': 0.141414,\n",
        "  u'glitch': 0.277778,\n",
        "  u'intelligent dance music': 1},\n",
        " u'irish folk': {u'celtic': 0.826446,\n",
        "  u'celtic christmas': 0.210744,\n",
        "  u'celtic rock': 0.392562,\n",
        "  u'irish folk': 1,\n",
        "  u'jig and reel': 0.190083},\n",
        " u'irish rock': {u'celtic christmas': 0.053763, u'irish rock': 1},\n",
        " u'iskelma': {u'classic finnish pop': 0.280992, u'iskelma': 1},\n",
        " u'islamic recitation': {u'islamic recitation': 1, u'nasheed': 0.336683},\n",
        " u'israeli rock': {u'israeli rock': 1, u'mizrahi': 0.426009},\n",
        " u'italian disco': {u'deep italo disco': 0.180412,\n",
        "  u'hi nrg': 0.159794,\n",
        "  u'italian disco': 1},\n",
        " u'italian folk': {u'canzone napoletana': 0.064516, u'italian folk': 1},\n",
        " u'italian hip hop': {u'italian hip hop': 1, u'italian pop': 0.05},\n",
        " u'italian indie pop': {u'italian indie pop': 1, u'italian pop': 0.094862},\n",
        " u'italian jazz': {u'contemporary jazz': 0.106557, u'italian jazz': 1},\n",
        " u'italian pop': {u'classic italian pop': 0.168627, u'italian pop': 1},\n",
        " u'italian progressive rock': {u'canterbury scene': 0.123348,\n",
        "  u'italian progressive rock': 1,\n",
        "  u'progressive rock': 0.114537,\n",
        "  u'symphonic rock': 0.14978},\n",
        " u'italian punk': {u'italian punk': 1},\n",
        " u'italo dance': {u'italo dance': 1},\n",
        " u'j-alt': {u'j-alt': 1,\n",
        "  u'j-indie': 0.634703,\n",
        "  u'j-pop': 0.105023,\n",
        "  u'j-rock': 0.849315,\n",
        "  u'visual kei': 0.114155},\n",
        " u'j-ambient': {u'abstract': 0.06135,\n",
        "  u'glitch': 0.06135,\n",
        "  u'j-ambient': 1,\n",
        "  u'shibuya-kei': 0.055215},\n",
        " u'j-core': {u'doujin': 0.173653, u'j-core': 1},\n",
        " u'j-dance': {u'j-alt': 0.114286,\n",
        "  u'j-dance': 1,\n",
        "  u'j-rock': 0.107143,\n",
        "  u'japanese jazztronica': 0.342857,\n",
        "  u'shibuya-kei': 0.65},\n",
        " u'j-idol': {u'j-idol': 1, u'j-pop': 0.231132, u'japanese r&b': 0.169811},\n",
        " u'j-indie': {u'j-alt': 0.586498, u'j-indie': 1, u'j-rock': 0.523207},\n",
        " u'j-metal': {u'j-metal': 1, u'oshare kei': 0.70082, u'visual kei': 0.79918},\n",
        " u'j-pop': {u'j-alt': 0.1,\n",
        "  u'j-idol': 0.213043,\n",
        "  u'j-pop': 1,\n",
        "  u'j-poprock': 0.156522,\n",
        "  u'j-rap': 0.256522,\n",
        "  u'j-rock': 0.191304,\n",
        "  u'japanese r&b': 0.53913,\n",
        "  u'japanese standards': 0.421739},\n",
        " u'j-poppunk': {u'j-poppunk': 1, u'j-rock': 0.102564},\n",
        " u'j-poprock': {u'anime': 0.213483,\n",
        "  u'j-pop': 0.202247,\n",
        "  u'j-poprock': 1,\n",
        "  u'j-rock': 0.162921,\n",
        "  u'japanese r&b': 0.11236},\n",
        " u'j-punk': {u'j-alt': 0.185185,\n",
        "  u'j-poppunk': 0.101852,\n",
        "  u'j-punk': 1,\n",
        "  u'j-rock': 0.175926},\n",
        " u'j-rap': {u'j-pop': 0.355422, u'j-rap': 1, u'japanese r&b': 0.584337},\n",
        " u'j-rock': {u'j-alt': 0.823009,\n",
        "  u'j-indie': 0.548673,\n",
        "  u'j-pop': 0.19469,\n",
        "  u'j-poprock': 0.128319,\n",
        "  u'j-rock': 1,\n",
        "  u'japanese standards': 0.159292,\n",
        "  u'visual kei': 0.141593},\n",
        " u'j-theme': {u'anime': 0.268116, u'j-theme': 1},\n",
        " u'jam band': {u'blues-rock': 0.082949,\n",
        "  u'electric blues': 0.050691,\n",
        "  u'jam band': 1,\n",
        "  u'modern blues': 0.092166,\n",
        "  u'progressive bluegrass': 0.069124,\n",
        "  u'roots rock': 0.073733,\n",
        "  u'southern rock': 0.092166},\n",
        " u'jangle pop': {u'alternative rock': 0.121359,\n",
        "  u'jangle pop': 1,\n",
        "  u'power pop': 0.708738,\n",
        "  u'pub rock': 0.160194,\n",
        "  u'underground power pop': 0.291262},\n",
        " u'jangle rock': {u'jangle rock': 1},\n",
        " u'japanese jazztronica': {u'j-dance': 0.335664,\n",
        "  u'japanese jazztronica': 1,\n",
        "  u'shibuya-kei': 0.230769},\n",
        " u'japanese psychedelic': {u'experimental psych': 0.210227,\n",
        "  u'japanese psychedelic': 1,\n",
        "  u'japanoise': 0.25,\n",
        "  u'neo-psychedelic': 0.102273,\n",
        "  u'space rock': 0.107955},\n",
        " u'japanese r&b': {u'j-idol': 0.166667,\n",
        "  u'j-pop': 0.574074,\n",
        "  u'j-rap': 0.449074,\n",
        "  u'japanese r&b': 1,\n",
        "  u'japanese standards': 0.203704},\n",
        " u'japanese standards': {u'j-pop': 0.433036,\n",
        "  u'j-rock': 0.160714,\n",
        "  u'japanese r&b': 0.196429,\n",
        "  u'japanese standards': 1},\n",
        " u'japanese traditional': {u'chinese traditional': 0.084337,\n",
        "  u'japanese traditional': 1},\n",
        " u'japanoise': {u'industrial': 0.115385,\n",
        "  u'japanese psychedelic': 0.282051,\n",
        "  u'japanoise': 1,\n",
        "  u'noise': 0.557692,\n",
        "  u'power electronics': 0.397436,\n",
        "  u'rock noise': 0.134615},\n",
        " u'jazz': {u'avant-garde jazz': 0.190476,\n",
        "  u'bebop': 0.821429,\n",
        "  u'big band': 0.357143,\n",
        "  u'contemporary post-bop': 0.761905,\n",
        "  u'cool jazz': 0.837302,\n",
        "  u'free jazz': 0.162698,\n",
        "  u'hard bop': 0.690476,\n",
        "  u'jazz': 1,\n",
        "  u'jazz christmas': 0.257937,\n",
        "  u'jazz funk': 0.253968,\n",
        "  u'jazz fusion': 0.246032,\n",
        "  u'soul jazz': 0.444444,\n",
        "  u'stride': 0.170635},\n",
        " u'jazz bass': {u'jazz bass': 1, u'jazz fusion': 0.174194},\n",
        " u'jazz blues': {u'acoustic blues': 0.377863,\n",
        "  u'blues': 0.431298,\n",
        "  u'chicago blues': 0.427481,\n",
        "  u'country blues': 0.316794,\n",
        "  u'delta blues': 0.400763,\n",
        "  u'electric blues': 0.274809,\n",
        "  u'jazz blues': 1,\n",
        "  u'jump blues': 0.366412,\n",
        "  u'louisiana blues': 0.362595,\n",
        "  u'memphis blues': 0.477099,\n",
        "  u'new orleans blues': 0.28626,\n",
        "  u'piano blues': 0.446565,\n",
        "  u'soul blues': 0.553435,\n",
        "  u'swamp blues': 0.290076,\n",
        "  u'texas blues': 0.358779,\n",
        "  u'traditional blues': 0.412214},\n",
        " u'jazz brass': {u'brass ensemble': 0.086957,\n",
        "  u'contemporary post-bop': 0.052174,\n",
        "  u'jazz brass': 1},\n",
        " u'jazz christmas': {u'bebop': 0.25,\n",
        "  u'big band': 0.122642,\n",
        "  u'contemporary post-bop': 0.316038,\n",
        "  u'cool jazz': 0.283019,\n",
        "  u'hard bop': 0.25,\n",
        "  u'jazz': 0.306604,\n",
        "  u'jazz christmas': 1,\n",
        "  u'jazz funk': 0.226415,\n",
        "  u'jazz fusion': 0.254717,\n",
        "  u'smooth jazz': 0.448113,\n",
        "  u'soul jazz': 0.179245},\n",
        " u'jazz funk': {u'bebop': 0.210762,\n",
        "  u'contemporary post-bop': 0.282511,\n",
        "  u'cool jazz': 0.201794,\n",
        "  u'hard bop': 0.255605,\n",
        "  u'jazz': 0.286996,\n",
        "  u'jazz christmas': 0.215247,\n",
        "  u'jazz funk': 1,\n",
        "  u'jazz fusion': 0.399103,\n",
        "  u'smooth jazz': 0.197309,\n",
        "  u'soul jazz': 0.466368},\n",
        " u'jazz fusion': {u'bebop': 0.135135,\n",
        "  u'contemporary post-bop': 0.27027,\n",
        "  u'cool jazz': 0.162162,\n",
        "  u'hard bop': 0.131274,\n",
        "  u'jazz': 0.239382,\n",
        "  u'jazz bass': 0.104247,\n",
        "  u'jazz christmas': 0.208494,\n",
        "  u'jazz funk': 0.343629,\n",
        "  u'jazz fusion': 1,\n",
        "  u'smooth jazz': 0.100386,\n",
        "  u'soul jazz': 0.138996},\n",
        " u'jazz metal': {u'avantgarde metal': 0.306878,\n",
        "  u'brutal death metal': 0.142857,\n",
        "  u'death metal': 0.15873,\n",
        "  u'djent': 0.253968,\n",
        "  u'jazz metal': 1,\n",
        "  u'mathcore': 0.132275,\n",
        "  u'progressive metal': 0.174603,\n",
        "  u'technical death metal': 0.216931},\n",
        " u'jazz orchestra': {u'big band': 0.056962, u'jazz orchestra': 1},\n",
        " u'jazz trio': {u'contemporary jazz': 0.102804,\n",
        "  u'jazz trio': 1,\n",
        "  u'more jazz piano': 0.149533},\n",
        " u'jerk': {u'crunk': 0.225434,\n",
        "  u'dirty south rap': 0.16763,\n",
        "  u'jerk': 1,\n",
        "  u'pop rap': 0.294798,\n",
        "  u'southern hip hop': 0.236994,\n",
        "  u'trap music': 0.294798},\n",
        " u'jig and reel': {u'celtic': 0.144186,\n",
        "  u'irish folk': 0.213953,\n",
        "  u'jig and reel': 1},\n",
        " u'judaica': {u'judaica': 1, u'klezmer': 0.10917},\n",
        " u'jug band': {u'acoustic blues': 0.173469,\n",
        "  u'appalachian folk': 0.173469,\n",
        "  u'delta blues': 0.173469,\n",
        "  u'jug band': 1,\n",
        "  u'memphis blues': 0.183673,\n",
        "  u'piedmont blues': 0.22449,\n",
        "  u'traditional blues': 0.163265,\n",
        "  u'vintage country folk': 0.336735},\n",
        " u'juggalo': {u'crunk': 0.1673,\n",
        "  u'detroit hip hop': 0.117871,\n",
        "  u'dirty south rap': 0.197719,\n",
        "  u'g funk': 0.334601,\n",
        "  u'gangster rap': 0.471483,\n",
        "  u'hardcore hip hop': 0.102662,\n",
        "  u'hip hop': 0.197719,\n",
        "  u'hyphy': 0.148289,\n",
        "  u'juggalo': 1,\n",
        "  u'pop rap': 0.140684,\n",
        "  u'rap': 0.205323,\n",
        "  u'southern hip hop': 0.148289,\n",
        "  u'trap music': 0.129278,\n",
        "  u'west coast rap': 0.323194},\n",
        " u'jump blues': {u'acoustic blues': 0.143646,\n",
        "  u'blues': 0.20442,\n",
        "  u'boogie-woogie': 0.187845,\n",
        "  u'chicago blues': 0.209945,\n",
        "  u'delta blues': 0.171271,\n",
        "  u'electric blues': 0.132597,\n",
        "  u'jazz blues': 0.530387,\n",
        "  u'jump blues': 1,\n",
        "  u'louisiana blues': 0.220994,\n",
        "  u'memphis blues': 0.276243,\n",
        "  u'new orleans blues': 0.370166,\n",
        "  u'piano blues': 0.320442,\n",
        "  u'soul blues': 0.309392,\n",
        "  u'swamp blues': 0.165746,\n",
        "  u'texas blues': 0.149171,\n",
        "  u'traditional blues': 0.171271},\n",
        " u'jump up': {u'drum and bass': 0.376147,\n",
        "  u'jump up': 1,\n",
        "  u'jungle': 0.385321,\n",
        "  u'liquid funk': 0.215596,\n",
        "  u'neurofunk': 0.146789},\n",
        " u'jumpstyle': {u'jumpstyle': 1},\n",
        " u'jungle': {u'drum and bass': 0.711864,\n",
        "  u'drumfunk': 0.360169,\n",
        "  u'jump up': 0.355932,\n",
        "  u'jungle': 1,\n",
        "  u'liquid funk': 0.351695,\n",
        "  u'neurofunk': 0.279661,\n",
        "  u'ragga jungle': 0.122881},\n",
        " u'k-hop': {u'k-hop': 1, u'k-indie': 0.150943, u'k-pop': 0.273585},\n",
        " u'k-indie': {u'k-indie': 1, u'k-pop': 0.253275, u'k-rock': 0.388646},\n",
        " u'k-pop': {u'k-hop': 0.115079, u'k-indie': 0.230159, u'k-pop': 1},\n",
        " u'k-rock': {u'k-indie': 0.577922, u'k-rock': 1},\n",
        " u'kabarett': {u'kabarett': 1, u'liedermacher': 0.113402},\n",
        " u'kannada': {u'filmi': 0.528846,\n",
        "  u'gujarati': 0.456731,\n",
        "  u'indian pop': 0.466346,\n",
        "  u'kannada': 1,\n",
        "  u'malayalam': 0.504808,\n",
        "  u'tamil': 0.591346,\n",
        "  u'telugu': 0.596154},\n",
        " u'karneval': {u'discofox': 0.061905, u'karneval': 1, u'schlager': 0.061905},\n",
        " u'kc indie': {u'kc indie': 1},\n",
        " u'kindermusik': {u'kindermusik': 1},\n",
        " u'kirtan': {u'healing': 0.285047, u'kirtan': 1, u'meditation': 0.102804},\n",
        " u'kiwi rock': {u'kiwi rock': 1, u'nz indie': 0.452381},\n",
        " u'kizomba': {u'kizomba': 1, u'kuduro': 0.262009, u'zouk': 0.196507},\n",
        " u'klezmer': {u'judaica': 0.112108, u'klezmer': 1},\n",
        " u'kompa': {u'kompa': 1, u'zouk': 0.130252},\n",
        " u'kraut rock': {u'art rock': 0.213542,\n",
        "  u'canterbury scene': 0.317708,\n",
        "  u'experimental': 0.15625,\n",
        "  u'kraut rock': 1,\n",
        "  u'progressive rock': 0.177083,\n",
        "  u'space rock': 0.260417,\n",
        "  u'symphonic rock': 0.1875},\n",
        " u'kuduro': {u'kizomba': 0.37037, u'kuduro': 1},\n",
        " u'kurdish folk': {u'kurdish folk': 1},\n",
        " u'kwaito': {u'kwaito': 1, u'south african jazz': 0.519608},\n",
        " u'la indie': {u'la indie': 1},\n",
        " u'laboratorio': {u'acousmatic': 0.198473,\n",
        "  u'avant-garde': 0.145038,\n",
        "  u'drone': 0.167939,\n",
        "  u'experimental': 0.114504,\n",
        "  u'laboratorio': 1,\n",
        "  u'minimal': 0.175573,\n",
        "  u'modern classical': 0.10687,\n",
        "  u'musique concrete': 0.175573},\n",
        " u'laiko': {u'entehno': 0.502538,\n",
        "  u'greek indie': 0.106599,\n",
        "  u'laiko': 1,\n",
        "  u'rebetiko': 0.177665},\n",
        " u'latin': {u'hurban': 0.535156,\n",
        "  u'latin': 1,\n",
        "  u'latin pop': 0.878906,\n",
        "  u'mariachi': 0.109375,\n",
        "  u'rock en espanol': 0.136719,\n",
        "  u'spanish pop': 0.335938,\n",
        "  u'tropical': 0.109375},\n",
        " u'latin alternative': {u'argentine rock': 0.162393,\n",
        "  u'latin': 0.106838,\n",
        "  u'latin alternative': 1,\n",
        "  u'latin electronica': 0.106838,\n",
        "  u'latin pop': 0.102564,\n",
        "  u'mexican indie': 0.457265,\n",
        "  u'rock en espanol': 0.623932},\n",
        " u'latin christian': {u'latin christian': 1},\n",
        " u'latin christmas': {u'bolero': 0.133858,\n",
        "  u'calypso': 0.149606,\n",
        "  u'grupera': 0.110236,\n",
        "  u'hurban': 0.110236,\n",
        "  u'latin': 0.11811,\n",
        "  u'latin christmas': 1,\n",
        "  u'latin pop': 0.11811,\n",
        "  u'mambo': 0.141732,\n",
        "  u'mariachi': 0.149606,\n",
        "  u'norteno': 0.110236,\n",
        "  u'ranchera': 0.133858,\n",
        "  u'regional mexican': 0.102362,\n",
        "  u'salsa': 0.133858,\n",
        "  u'soca': 0.102362,\n",
        "  u'tropical': 0.141732,\n",
        "  u'world christmas': 0.338583},\n",
        " u'latin electronica': {u'latin alternative': 0.144509,\n",
        "  u'latin electronica': 1,\n",
        "  u'mexican indie': 0.16763},\n",
        " u'latin hip hop': {u'chicano rap': 0.331776,\n",
        "  u'hurban': 0.439252,\n",
        "  u'latin hip hop': 1,\n",
        "  u'reggaeton': 0.542056,\n",
        "  u'tropical': 0.317757},\n",
        " u'latin jazz': {u'boogaloo': 0.40404,\n",
        "  u'cuban rumba': 0.353535,\n",
        "  u'latin jazz': 1,\n",
        "  u'mambo': 0.611111,\n",
        "  u'salsa': 0.358586,\n",
        "  u'tropical': 0.111111},\n",
        " u'latin metal': {u'latin metal': 1,\n",
        "  u'rock en espanol': 0.060811,\n",
        "  u'spanish punk': 0.074324},\n",
        " u'latin pop': {u'hurban': 0.488372,\n",
        "  u'latin': 0.872093,\n",
        "  u'latin pop': 1,\n",
        "  u'mariachi': 0.124031,\n",
        "  u'rock en espanol': 0.131783,\n",
        "  u'spanish pop': 0.325581},\n",
        " u'latvian pop': {u'latvian pop': 1},\n",
        " u'lds': {u'lds': 1},\n",
        " u'leeds indie': {u'british indie rock': 0.058537, u'leeds indie': 1},\n",
        " u'levenslied': {u'dutch pop': 0.194737, u'levenslied': 1},\n",
        " u'liedermacher': {u'german pop': 0.276316,\n",
        "  u'kabarett': 0.144737,\n",
        "  u'liedermacher': 1,\n",
        "  u'ostrock': 0.111842},\n",
        " u'lilith': {u'acoustic pop': 0.168582,\n",
        "  u'ectofolk': 0.10728,\n",
        "  u'folk christmas': 0.214559,\n",
        "  u'folk-pop': 0.429119,\n",
        "  u'lilith': 1,\n",
        "  u'neo mellow': 0.1341,\n",
        "  u'new wave pop': 0.283525,\n",
        "  u'pop rock': 0.206897,\n",
        "  u'singer-songwriter': 0.222222},\n",
        " u'liquid funk': {u'drum and bass': 0.478261,\n",
        "  u'drumfunk': 0.505929,\n",
        "  u'jump up': 0.185771,\n",
        "  u'jungle': 0.328063,\n",
        "  u'liquid funk': 1,\n",
        "  u'neurofunk': 0.237154},\n",
        " u'lithumania': {u'lithumania': 1},\n",
        " u'lo star': {u'lo star': 1},\n",
        " u'lo-fi': {u'alternative pop': 0.134111,\n",
        "  u'alternative rock': 0.376093,\n",
        "  u'chamber pop': 0.370262,\n",
        "  u'e6fi': 0.174927,\n",
        "  u'freak folk': 0.282799,\n",
        "  u'gbvfi': 0.177843,\n",
        "  u'indie folk': 0.291545,\n",
        "  u'indie pop': 0.422741,\n",
        "  u'indie rock': 0.586006,\n",
        "  u'lo-fi': 1,\n",
        "  u'neo-psychedelic': 0.338192,\n",
        "  u'noise pop': 0.469388,\n",
        "  u'noise rock': 0.137026,\n",
        "  u'nu gaze': 0.218659,\n",
        "  u'slow core': 0.22449,\n",
        "  u'stomp and holler': 0.215743},\n",
        " u'louisiana blues': {u'acoustic blues': 0.524017,\n",
        "  u'blues': 0.663755,\n",
        "  u'chicago blues': 0.80786,\n",
        "  u'country blues': 0.580786,\n",
        "  u'delta blues': 0.519651,\n",
        "  u'electric blues': 0.615721,\n",
        "  u'harmonica blues': 0.598253,\n",
        "  u'jazz blues': 0.414847,\n",
        "  u'louisiana blues': 1,\n",
        "  u'memphis blues': 0.681223,\n",
        "  u'modern blues': 0.401747,\n",
        "  u'piano blues': 0.449782,\n",
        "  u'soul blues': 0.580786,\n",
        "  u'swamp blues': 0.882096,\n",
        "  u'texas blues': 0.689956,\n",
        "  u'traditional blues': 0.611354},\n",
        " u'louisville indie': {u'louisville indie': 1,\n",
        "  u'math rock': 0.076923,\n",
        "  u'post-hardcore': 0.076923},\n",
        " u'lounge': {u'acid jazz': 0.185053,\n",
        "  u'adult standards': 0.434164,\n",
        "  u'cabaret': 0.231317,\n",
        "  u'chill-out': 0.213523,\n",
        "  u'christmas': 0.427046,\n",
        "  u'downtempo': 0.202847,\n",
        "  u'easy listening': 0.252669,\n",
        "  u'exotica': 0.302491,\n",
        "  u'lounge': 1,\n",
        "  u'nu jazz': 0.202847,\n",
        "  u'swing': 0.142349,\n",
        "  u'trip hop': 0.177936,\n",
        "  u'vocal jazz': 0.238434},\n",
        " u'lounge house': {u'lounge house': 1},\n",
        " u'lovers rock': {u'dancehall': 0.579186,\n",
        "  u'dub': 0.244344,\n",
        "  u'lovers rock': 1,\n",
        "  u'reggae': 0.371041,\n",
        "  u'roots reggae': 0.425339},\n",
        " u'lowercase': {u'abstract': 0.165746,\n",
        "  u'drone': 0.149171,\n",
        "  u'electroacoustic improvisation': 0.19337,\n",
        "  u'glitch': 0.138122,\n",
        "  u'lowercase': 1,\n",
        "  u'musique concrete': 0.110497},\n",
        " u'luk thung': {u'luk thung': 1},\n",
        " u'madchester': {u'alternative rock': 0.130435,\n",
        "  u'britpop': 0.742754,\n",
        "  u'dream pop': 0.105072,\n",
        "  u'indie rock': 0.152174,\n",
        "  u'madchester': 1,\n",
        "  u'new wave': 0.119565,\n",
        "  u'rock': 0.177536},\n",
        " u'maghreb': {u'maghreb': 1, u'rai': 0.303419},\n",
        " u'makossa': {u'coupe decale': 0.394444,\n",
        "  u'makossa': 1,\n",
        "  u'soukous': 0.35,\n",
        "  u'zouglou': 0.488889},\n",
        " u'malagasy folk': {u'malagasy folk': 1,\n",
        "  u'mande pop': 0.065574,\n",
        "  u'sega': 0.07377},\n",
        " u'malayalam': {u'filmi': 0.193548,\n",
        "  u'gujarati': 0.150538,\n",
        "  u'indian pop': 0.129032,\n",
        "  u'kannada': 0.564516,\n",
        "  u'malayalam': 1,\n",
        "  u'tamil': 0.623656,\n",
        "  u'telugu': 0.548387},\n",
        " u'malaysian pop': {u'malaysian pop': 1},\n",
        " u'mallet': {u'mallet': 1},\n",
        " u'mambo': {u'boogaloo': 0.395349,\n",
        "  u'cuban rumba': 0.562791,\n",
        "  u'latin jazz': 0.562791,\n",
        "  u'mambo': 1,\n",
        "  u'salsa': 0.4,\n",
        "  u'tropical': 0.148837},\n",
        " u'mande pop': {u'desert blues': 0.27234,\n",
        "  u'mande pop': 1,\n",
        "  u'mbalax': 0.310638,\n",
        "  u'soukous': 0.106383,\n",
        "  u'west african jazz': 0.170213,\n",
        "  u'world': 0.617021},\n",
        " u'mandopop': {u'c-pop': 0.234127,\n",
        "  u'cantopop': 0.222222,\n",
        "  u'classic chinese pop': 0.194444,\n",
        "  u'mandopop': 1,\n",
        "  u'taiwanese pop': 0.666667},\n",
        " u'manele': {u'manele': 1, u'romanian pop': 0.182648},\n",
        " u'marching band': {u'marching band': 1,\n",
        "  u'military band': 0.107843,\n",
        "  u'wind ensemble': 0.156863},\n",
        " u'mariachi': {u'banda': 0.377682,\n",
        "  u'bolero': 0.377682,\n",
        "  u'duranguense': 0.167382,\n",
        "  u'grupera': 0.502146,\n",
        "  u'latin': 0.120172,\n",
        "  u'latin pop': 0.137339,\n",
        "  u'mariachi': 1,\n",
        "  u'mexican son': 0.175966,\n",
        "  u'norteno': 0.424893,\n",
        "  u'ranchera': 0.905579,\n",
        "  u'regional mexican': 0.416309},\n",
        " u'martial industrial': {u'dark ambient': 0.186147,\n",
        "  u'martial industrial': 1,\n",
        "  u'neoclassical': 0.116883,\n",
        "  u'neofolk': 0.714286,\n",
        "  u'power electronics': 0.229437},\n",
        " u'mashup': {u'mashup': 1},\n",
        " u'math pop': {u'math pop': 1, u'math rock': 0.163551},\n",
        " u'math rock': {u'emo': 0.114155,\n",
        "  u'experimental rock': 0.173516,\n",
        "  u'math pop': 0.159817,\n",
        "  u'math rock': 1,\n",
        "  u'noise punk': 0.136986,\n",
        "  u'noise rock': 0.292237,\n",
        "  u'post rock': 0.141553,\n",
        "  u'post-hardcore': 0.593607},\n",
        " u'mathcore': {u'chaotic hardcore': 0.114679,\n",
        "  u'death core': 0.256881,\n",
        "  u'djent': 0.206422,\n",
        "  u'grindcore': 0.100917,\n",
        "  u'jazz metal': 0.114679,\n",
        "  u'mathcore': 1,\n",
        "  u'melodic metalcore': 0.238532,\n",
        "  u'metalcore': 0.293578,\n",
        "  u'screamo': 0.114679},\n",
        " u'mbalax': {u'mande pop': 0.366834,\n",
        "  u'mbalax': 1,\n",
        "  u'west african jazz': 0.201005,\n",
        "  u'world': 0.251256},\n",
        " u'medieval': {u'dark wave': 0.24537,\n",
        "  u'ethereal gothic': 0.106481,\n",
        "  u'ethereal wave': 0.49537,\n",
        "  u'martial industrial': 0.106481,\n",
        "  u'medieval': 1,\n",
        "  u'medieval rock': 0.203704,\n",
        "  u'neoclassical': 0.708333,\n",
        "  u'neofolk': 0.226852},\n",
        " u'medieval rock': {u'medieval': 0.230366,\n",
        "  u'medieval rock': 1,\n",
        "  u'neue deutsche harte': 0.167539},\n",
        " u'meditation': {u'alternative new age': 0.125,\n",
        "  u'environmental': 0.335938,\n",
        "  u'healing': 0.460938,\n",
        "  u'kirtan': 0.171875,\n",
        "  u'meditation': 1,\n",
        "  u'sleep': 0.171875},\n",
        " u'mellow gold': {u'album rock': 0.383523,\n",
        "  u'blues-rock': 0.170455,\n",
        "  u'classic rock': 0.303977,\n",
        "  u'country rock': 0.303977,\n",
        "  u'folk': 0.196023,\n",
        "  u'folk christmas': 0.15625,\n",
        "  u'folk rock': 0.491477,\n",
        "  u'folk-pop': 0.258523,\n",
        "  u'glam rock': 0.127841,\n",
        "  u'mellow gold': 1,\n",
        "  u'rock': 0.332386,\n",
        "  u'roots rock': 0.340909,\n",
        "  u'singer-songwriter': 0.440341,\n",
        "  u'soft rock': 0.721591,\n",
        "  u'southern rock': 0.1875,\n",
        "  u'traditional folk': 0.238636},\n",
        " u'melodic death metal': {u'black metal': 0.125,\n",
        "  u'death metal': 0.3125,\n",
        "  u'folk metal': 0.199219,\n",
        "  u'gothic metal': 0.109375,\n",
        "  u'groove metal': 0.175781,\n",
        "  u'melodic death metal': 1,\n",
        "  u'melodic metalcore': 0.320313,\n",
        "  u'metal': 0.230469,\n",
        "  u'metalcore': 0.140625,\n",
        "  u'symphonic black metal': 0.167969,\n",
        "  u'technical death metal': 0.109375,\n",
        "  u'viking metal': 0.203125},\n",
        " u'melodic hard rock': {u'glam metal': 0.111554, u'melodic hard rock': 1},\n",
        " u'melodic hardcore': {u'alternative emo': 0.186047,\n",
        "  u'emo': 0.100775,\n",
        "  u'fast melodic punk': 0.120155,\n",
        "  u'hardcore punk': 0.209302,\n",
        "  u'melodic hardcore': 1,\n",
        "  u'orgcore': 0.143411,\n",
        "  u'pop punk': 0.228682,\n",
        "  u'punk': 0.391473,\n",
        "  u'ska punk': 0.120155,\n",
        "  u'skate punk': 0.604651,\n",
        "  u'straight edge': 0.170543},\n",
        " u'melodic metalcore': {u'alternative metal': 0.145907,\n",
        "  u'christian hardcore': 0.217082,\n",
        "  u'christian metal': 0.238434,\n",
        "  u'death core': 0.338078,\n",
        "  u'death metal': 0.199288,\n",
        "  u'groove metal': 0.366548,\n",
        "  u'mathcore': 0.185053,\n",
        "  u'melodic death metal': 0.291815,\n",
        "  u'melodic metalcore': 1,\n",
        "  u'metal': 0.13879,\n",
        "  u'metalcore': 0.736655,\n",
        "  u'nu metal': 0.192171,\n",
        "  u'screamo': 0.160142},\n",
        " u'melodic power metal': {u'melodic power metal': 1,\n",
        "  u'neo-trad metal': 0.222749,\n",
        "  u'nwothm': 0.118483},\n",
        " u'melodic progressive metal': {u'melodic progressive metal': 1,\n",
        "  u'progressive metal': 0.122807},\n",
        " u'memphis blues': {u'acoustic blues': 0.753676,\n",
        "  u'blues': 0.768382,\n",
        "  u'chicago blues': 0.705882,\n",
        "  u'country blues': 0.577206,\n",
        "  u'delta blues': 0.761029,\n",
        "  u'electric blues': 0.444853,\n",
        "  u'harmonica blues': 0.386029,\n",
        "  u'jazz blues': 0.459559,\n",
        "  u'louisiana blues': 0.573529,\n",
        "  u'memphis blues': 1,\n",
        "  u'piano blues': 0.533088,\n",
        "  u'piedmont blues': 0.547794,\n",
        "  u'soul blues': 0.481618,\n",
        "  u'swamp blues': 0.492647,\n",
        "  u'texas blues': 0.522059,\n",
        "  u'traditional blues': 0.8125},\n",
        " u'memphis hip hop': {u'crunk': 0.281081,\n",
        "  u'dirty south rap': 0.351351,\n",
        "  u'dirty texas rap': 0.108108,\n",
        "  u'gangster rap': 0.259459,\n",
        "  u'memphis hip hop': 1,\n",
        "  u'pop rap': 0.113514,\n",
        "  u'southern hip hop': 0.243243,\n",
        "  u'trap music': 0.232432},\n",
        " u'memphis soul': {u'beach music': 0.142292,\n",
        "  u'chicago soul': 0.596838,\n",
        "  u'classic funk rock': 0.233202,\n",
        "  u'funk': 0.213439,\n",
        "  u'funk rock': 0.181818,\n",
        "  u'jazz blues': 0.237154,\n",
        "  u'memphis soul': 1,\n",
        "  u'more southern soul': 0.106719,\n",
        "  u'motown': 0.525692,\n",
        "  u'new orleans blues': 0.106719,\n",
        "  u'northern soul': 0.213439,\n",
        "  u'quiet storm': 0.268775,\n",
        "  u'soul': 0.711462,\n",
        "  u'soul blues': 0.541502,\n",
        "  u'soul christmas': 0.173913,\n",
        "  u'southern soul': 0.849802},\n",
        " u'merengue': {u'bachata': 0.60515,\n",
        "  u'boogaloo': 0.197425,\n",
        "  u'dominican pop': 0.197425,\n",
        "  u'hurban': 0.257511,\n",
        "  u'merengue': 1,\n",
        "  u'merengue urbano': 0.141631,\n",
        "  u'salsa': 0.32618,\n",
        "  u'tropical': 0.493562},\n",
        " u'merengue urbano': {u'bachata': 0.24026,\n",
        "  u'dominican pop': 0.201299,\n",
        "  u'hurban': 0.12987,\n",
        "  u'merengue': 0.214286,\n",
        "  u'merengue urbano': 1,\n",
        "  u'tropical': 0.123377},\n",
        " u'merseybeat': {u'brill building pop': 0.228,\n",
        "  u'british blues': 0.232,\n",
        "  u'british invasion': 0.808,\n",
        "  u'bubblegum pop': 0.488,\n",
        "  u'classic garage rock': 0.12,\n",
        "  u'freakbeat': 0.14,\n",
        "  u'merseybeat': 1,\n",
        "  u'rock-and-roll': 0.16},\n",
        " u'metal': {u'black metal': 0.115854,\n",
        "  u'crossover thrash': 0.137195,\n",
        "  u'death metal': 0.246951,\n",
        "  u'groove metal': 0.344512,\n",
        "  u'hard rock': 0.216463,\n",
        "  u'melodic death metal': 0.179878,\n",
        "  u'melodic metalcore': 0.118902,\n",
        "  u'metal': 1,\n",
        "  u'neo classical metal': 0.155488,\n",
        "  u'nwobhm': 0.25,\n",
        "  u'power metal': 0.246951,\n",
        "  u'progressive metal': 0.228659,\n",
        "  u'rock': 0.143293,\n",
        "  u'speed metal': 0.594512,\n",
        "  u'thrash metal': 0.405488,\n",
        "  u'viking metal': 0.118902},\n",
        " u'metal guitar': {u'metal guitar': 1, u'neo classical metal': 0.124464},\n",
        " u'metalcore': {u'alternative metal': 0.174342,\n",
        "  u'christian hardcore': 0.243421,\n",
        "  u'christian metal': 0.236842,\n",
        "  u'death core': 0.259868,\n",
        "  u'groove metal': 0.302632,\n",
        "  u'mathcore': 0.210526,\n",
        "  u'melodic death metal': 0.118421,\n",
        "  u'melodic metalcore': 0.680921,\n",
        "  u'metalcore': 1,\n",
        "  u'nu metal': 0.210526,\n",
        "  u'post-hardcore': 0.141447,\n",
        "  u'rap metal': 0.111842,\n",
        "  u'rap rock': 0.101974,\n",
        "  u'screamo': 0.368421},\n",
        " u'metropopolis': {u'alternative dance': 0.164286,\n",
        "  u'chillwave': 0.264286,\n",
        "  u'indie pop': 0.1,\n",
        "  u'indietronica': 0.45,\n",
        "  u'metropopolis': 1,\n",
        "  u'nu gaze': 0.135714,\n",
        "  u'pop': 0.157143,\n",
        "  u'r-neg-b': 0.2,\n",
        "  u'shimmer pop': 0.207143,\n",
        "  u'synthpop': 0.314286},\n",
        " u'mexican indie': {u'latin alternative': 0.428,\n",
        "  u'latin electronica': 0.116,\n",
        "  u'mexican indie': 1,\n",
        "  u'rock en espanol': 0.188},\n",
        " u'mexican rock-and-roll': {u'bolero': 0.150376,\n",
        "  u'mexican rock-and-roll': 1,\n",
        "  u'ranchera': 0.105263},\n",
        " u'mexican son': {u'mariachi': 0.210256,\n",
        "  u'mexican son': 1,\n",
        "  u'mexican traditional': 0.169231,\n",
        "  u'ranchera': 0.2},\n",
        " u'mexican traditional': {u'mexican son': 0.146667, u'mexican traditional': 1},\n",
        " u'miami bass': {u'electro': 0.166667, u'miami bass': 1},\n",
        " u'michigan indie': {u'michigan indie': 1},\n",
        " u'microhouse': {u'deeper house': 0.116466,\n",
        "  u'detroit techno': 0.120482,\n",
        "  u'dub techno': 0.236948,\n",
        "  u'german techno': 0.208835,\n",
        "  u'glitch': 0.172691,\n",
        "  u'microhouse': 1,\n",
        "  u'minimal techno': 0.678715,\n",
        "  u'tech house': 0.333333,\n",
        "  u'techno': 0.11245},\n",
        " u'military band': {u'blaskapelle': 0.0625,\n",
        "  u'marching band': 0.0625,\n",
        "  u'military band': 1,\n",
        "  u'wind ensemble': 0.056818},\n",
        " u'minimal': {u'acousmatic': 0.648241,\n",
        "  u'avant-garde': 0.693467,\n",
        "  u'classical': 0.165829,\n",
        "  u'drone': 0.437186,\n",
        "  u'experimental': 0.100503,\n",
        "  u'fourth world': 0.105528,\n",
        "  u'free improvisation': 0.110553,\n",
        "  u'laboratorio': 0.115578,\n",
        "  u'minimal': 1,\n",
        "  u'modern classical': 0.653266,\n",
        "  u'modern performance': 0.135678,\n",
        "  u'musique concrete': 0.427136,\n",
        "  u'romantic': 0.100503,\n",
        "  u'serialism': 0.261307,\n",
        "  u'tzadik': 0.100503},\n",
        " u'minimal dub': {u'dub techno': 0.112108,\n",
        "  u'minimal dub': 1,\n",
        "  u'outsider house': 0.165919},\n",
        " u'minimal dubstep': {u'cinematic dubstep': 0.165803, u'minimal dubstep': 1},\n",
        " u'minimal melodic techno': {u'minimal melodic techno': 1},\n",
        " u'minimal techno': {u'deeper house': 0.174216,\n",
        "  u'detroit techno': 0.132404,\n",
        "  u'dub techno': 0.108014,\n",
        "  u'german techno': 0.268293,\n",
        "  u'microhouse': 0.58885,\n",
        "  u'minimal techno': 1,\n",
        "  u'tech house': 0.554007,\n",
        "  u'techno': 0.1777},\n",
        " u'minimal wave': {u'gothic post-punk': 0.08871,\n",
        "  u'grave wave': 0.064516,\n",
        "  u'minimal wave': 1,\n",
        "  u'neue deutsche welle': 0.060484},\n",
        " u'mizrahi': {u'israeli rock': 0.502646, u'judaica': 0.100529, u'mizrahi': 1},\n",
        " u'mod revival': {u'mod revival': 1, u'pub rock': 0.100671},\n",
        " u'modern blues': {u'acoustic blues': 0.262172,\n",
        "  u'blues': 0.363296,\n",
        "  u'blues-rock': 0.464419,\n",
        "  u'british blues': 0.438202,\n",
        "  u'chicago blues': 0.370787,\n",
        "  u'classic rock': 0.2397,\n",
        "  u'country blues': 0.438202,\n",
        "  u'delta blues': 0.217228,\n",
        "  u'electric blues': 0.838951,\n",
        "  u'louisiana blues': 0.344569,\n",
        "  u'memphis blues': 0.269663,\n",
        "  u'modern blues': 1,\n",
        "  u'soul blues': 0.310861,\n",
        "  u'swamp blues': 0.419476,\n",
        "  u'texas blues': 0.808989,\n",
        "  u'traditional blues': 0.340824},\n",
        " u'modern classical': {u'acousmatic': 0.448819,\n",
        "  u'avant-garde': 0.905512,\n",
        "  u'classical': 0.299213,\n",
        "  u'contemporary classical': 0.149606,\n",
        "  u'drone': 0.212598,\n",
        "  u'minimal': 0.511811,\n",
        "  u'modern classical': 1,\n",
        "  u'modern performance': 0.137795,\n",
        "  u'musique concrete': 0.251969,\n",
        "  u'romantic': 0.23622,\n",
        "  u'serialism': 0.492126},\n",
        " u'modern country rock': {u'contemporary country': 0.6,\n",
        "  u'country': 0.338462,\n",
        "  u'country dawn': 0.223077,\n",
        "  u'country road': 0.653846,\n",
        "  u'modern country rock': 1,\n",
        "  u'more contemporary country': 0.111538},\n",
        " u'modern downshift': {u'modern downshift': 1, u'modern uplift': 0.251142},\n",
        " u'modern free jazz': {u'avant-garde jazz': 0.188841,\n",
        "  u'free jazz': 0.188841,\n",
        "  u'modern free jazz': 1},\n",
        " u'modern performance': {u'acousmatic': 0.123457,\n",
        "  u'avant-garde': 0.185185,\n",
        "  u'contemporary classical': 0.117284,\n",
        "  u'minimal': 0.166667,\n",
        "  u'modern classical': 0.216049,\n",
        "  u'modern performance': 1,\n",
        "  u'serialism': 0.160494},\n",
        " u'modern southern rock': {u'modern southern rock': 1,\n",
        "  u'southern rock': 0.164444},\n",
        " u'modern uplift': {u'modern downshift': 0.22541, u'modern uplift': 1},\n",
        " u'monastic': {u'early music': 0.107143, u'monastic': 1},\n",
        " u'moombahton': {u'bmore': 0.104348, u'moombahton': 1, u'trapstep': 0.104348},\n",
        " u'more acoustic pop': {u'acoustic pop': 0.228426,\n",
        "  u'more acoustic pop': 1,\n",
        "  u'neo mellow': 0.101523},\n",
        " u'more adult standards': {u'adult standards': 0.237288,\n",
        "  u'christmas': 0.237288,\n",
        "  u'lounge': 0.107345,\n",
        "  u'more adult standards': 1},\n",
        " u'more baroque': {u'baroque': 0.089552,\n",
        "  u'baroque ensemble': 0.069652,\n",
        "  u'more baroque': 1},\n",
        " u'more brazilian pop': {u'choro': 0.057292,\n",
        "  u'more brazilian pop': 1,\n",
        "  u'velha guarda': 0.0625},\n",
        " u'more canadian indie': {u'canadian indie': 0.301724,\n",
        "  u'more canadian indie': 1},\n",
        " u'more ccm': {u'more ccm': 1, u'worship': 0.247573},\n",
        " u'more cello': {u'cello': 0.315068, u'more cello': 1},\n",
        " u'more christian rock': {u'ccm': 0.128713,\n",
        "  u'christian music': 0.153465,\n",
        "  u'more christian rock': 1},\n",
        " u'more classic garage rock': {u'classic garage rock': 0.158824,\n",
        "  u'more classic garage rock': 1},\n",
        " u'more classical piano': {u'more classical piano': 1},\n",
        " u'more comedy': {u'comedy': 0.359223, u'comic': 0.126214, u'more comedy': 1},\n",
        " u'more contemporary country': {u'contemporary country': 0.102041,\n",
        "  u'country': 0.114286,\n",
        "  u'country dawn': 0.273469,\n",
        "  u'modern country rock': 0.118367,\n",
        "  u'more contemporary country': 1},\n",
        " u'more dance pop': {u'dance pop': 0.11976,\n",
        "  u'more dance pop': 1,\n",
        "  u'pop': 0.173653,\n",
        "  u'sexy': 0.101796,\n",
        "  u'teen pop': 0.149701},\n",
        " u'more deep chill': {u'deep chill': 0.094787,\n",
        "  u'more deep chill': 1,\n",
        "  u'more sunset lounge': 0.085308},\n",
        " u'more deep house': {u'deep house': 0.105, u'more deep house': 1},\n",
        " u'more deeper house': {u'more deeper house': 1},\n",
        " u'more dub techno': {u'ambient dub techno': 0.147541,\n",
        "  u'dub techno': 0.120219,\n",
        "  u'more dub techno': 1},\n",
        " u'more east coast hip hop': {u'east coast hip hop': 0.173077,\n",
        "  u'hardcore hip hop': 0.163462,\n",
        "  u'more east coast hip hop': 1},\n",
        " u'more eurodance': {u'more eurodance': 1},\n",
        " u'more free jazz': {u'avant-garde jazz': 0.050633,\n",
        "  u'free jazz': 0.050633,\n",
        "  u'more free jazz': 1},\n",
        " u'more german indie': {u'german indie': 0.337143, u'more german indie': 1},\n",
        " u'more hardcore': {u'hardcore': 0.136054,\n",
        "  u'more hardcore': 1,\n",
        "  u'straight edge': 0.22449,\n",
        "  u'vegan straight edge': 0.129252},\n",
        " u'more hardcore punk': {u'crossover thrash': 0.125,\n",
        "  u'hardcore punk': 0.1875,\n",
        "  u'more hardcore punk': 1,\n",
        "  u'skate punk': 0.225962},\n",
        " u'more indie pop': {u'more indie pop': 1, u'shimmer psych': 0.173913},\n",
        " u'more indie rock': {u'british indie rock': 0.061453,\n",
        "  u'more indie rock': 1,\n",
        "  u'stomp and whittle': 0.055866},\n",
        " u'more indie singer-songwriter': {u'indie singer-songwriter': 0.070485,\n",
        "  u'more indie singer-songwriter': 1,\n",
        "  u'neo-singer-songwriter': 0.061674},\n",
        " u'more jazz guitar': {u'gypsy jazz': 0.073171,\n",
        "  u'jazz fusion': 0.060976,\n",
        "  u'more jazz guitar': 1},\n",
        " u'more jazz piano': {u'contemporary jazz': 0.073684,\n",
        "  u'italian jazz': 0.052632,\n",
        "  u'jazz trio': 0.084211,\n",
        "  u'more jazz piano': 1},\n",
        " u'more melodic death metal': {u'melodic death metal': 0.065306,\n",
        "  u'more melodic death metal': 1},\n",
        " u'more melodic hard rock': {u'hard glam': 0.245033,\n",
        "  u'more melodic hard rock': 1,\n",
        "  u'sleaze rock': 0.218543},\n",
        " u'more melodic metalcore': {u'christian hardcore': 0.087558,\n",
        "  u'djent': 0.059908,\n",
        "  u'metalcore': 0.050691,\n",
        "  u'more melodic metalcore': 1},\n",
        " u'more motown': {u'more motown': 1,\n",
        "  u'motown': 0.127778,\n",
        "  u'northern soul': 0.1},\n",
        " u'more neo-synthpop': {u'more neo-synthpop': 1, u'neo-synthpop': 0.307018},\n",
        " u'more new wave': {u'dance rock': 0.119792,\n",
        "  u'more new wave': 1,\n",
        "  u'new romantic': 0.151042,\n",
        "  u'new wave': 0.125},\n",
        " u'more opera': {u'more opera': 1, u'opera': 0.289916},\n",
        " u'more orchestral': {u'more orchestral': 1},\n",
        " u'more pop emo': {u'more pop emo': 1, u'pop emo': 0.175258},\n",
        " u'more pop punk': {u'alternative emo': 0.254098, u'more pop punk': 1},\n",
        " u'more progressive house': {u'dark progressive house': 0.212291,\n",
        "  u'more progressive house': 1},\n",
        " u'more progressive trance': {u'more progressive trance': 1,\n",
        "  u'progressive house': 0.11236,\n",
        "  u'progressive trance': 0.185393,\n",
        "  u'trance': 0.179775,\n",
        "  u'uplifting trance': 0.162921},\n",
        " u'more psychobilly': {u'more psychobilly': 1, u'psychobilly': 0.232804},\n",
        " u'more punk rock': {u'more hardcore punk': 0.078049,\n",
        "  u'more punk rock': 1,\n",
        "  u'oi': 0.053659,\n",
        "  u'pub rock': 0.073171},\n",
        " u'more rai': {u'maghreb': 0.101852, u'more rai': 1, u'rai': 0.314815},\n",
        " u'more regional mexican': {u'banda': 0.208163,\n",
        "  u'duranguense': 0.118367,\n",
        "  u'grupera': 0.15102,\n",
        "  u'more regional mexican': 1,\n",
        "  u'norteno': 0.208163,\n",
        "  u'regional mexican': 0.232653},\n",
        " u'more smooth jazz': {u'more smooth jazz': 1, u'smooth jazz': 0.281746},\n",
        " u'more soft rock': {u'more soft rock': 1},\n",
        " u'more soundtrack': {u'more soundtrack': 1, u'soundtrack': 0.232432},\n",
        " u'more southern soul': {u'memphis soul': 0.167702,\n",
        "  u'more southern soul': 1,\n",
        "  u'southern soul': 0.198758},\n",
        " u'more string quartet': {u'more string quartet': 1,\n",
        "  u'string quartet': 0.3125},\n",
        " u'more sunset lounge': {u'deep chill': 0.184466, u'more sunset lounge': 1},\n",
        " u'more surf music': {u'more surf music': 1, u'surf music': 0.303279},\n",
        " u'more symphonic black metal': {u'more symphonic black metal': 1,\n",
        "  u'symphonic black metal': 0.357488},\n",
        " u'more talent show': {u'idol': 0.111765, u'more talent show': 1},\n",
        " u'more tech house': {u'deep euro house': 0.096939,\n",
        "  u'deep tech house': 0.096939,\n",
        "  u'more tech house': 1},\n",
        " u'more thrash metal': {u'german metal': 0.051643,\n",
        "  u'more thrash metal': 1,\n",
        "  u'speed metal': 0.061033,\n",
        "  u'thrash metal': 0.089202},\n",
        " u'more turkish pop': {u'arabesk': 0.287449,\n",
        "  u'classic turkish pop': 0.1417,\n",
        "  u'more turkish pop': 1,\n",
        "  u'turkish pop': 0.497976},\n",
        " u'more uplifting trance': {u'more uplifting trance': 1,\n",
        "  u'progressive house': 0.212903,\n",
        "  u'progressive trance': 0.245161,\n",
        "  u'trance': 0.245161,\n",
        "  u'uplifting trance': 0.296774},\n",
        " u'more vocal house': {u'more vocal house': 1,\n",
        "  u'tribal house': 0.102564,\n",
        "  u'vocal house': 0.102564},\n",
        " u'more vocal jazz': {u'more vocal jazz': 1, u'vocal jazz': 0.093023},\n",
        " u'morna': {u'fado': 0.172414,\n",
        "  u'kizomba': 0.137931,\n",
        "  u'morna': 1,\n",
        "  u'world': 0.12931},\n",
        " u'motivation': {u'guidance': 0.066038, u'motivation': 1},\n",
        " u'motown': {u'beach music': 0.146179,\n",
        "  u'chicago soul': 0.578073,\n",
        "  u'classic funk rock': 0.395349,\n",
        "  u'disco': 0.289037,\n",
        "  u'funk': 0.45515,\n",
        "  u'funk rock': 0.305648,\n",
        "  u'jazz blues': 0.136213,\n",
        "  u'memphis soul': 0.44186,\n",
        "  u'motown': 1,\n",
        "  u'northern soul': 0.23588,\n",
        "  u'post-disco': 0.186047,\n",
        "  u'quiet storm': 0.554817,\n",
        "  u'soul': 0.774086,\n",
        "  u'soul blues': 0.305648,\n",
        "  u'soul christmas': 0.229236,\n",
        "  u'southern soul': 0.488372},\n",
        " u'movie tunes': {u'hollywood': 0.090517,\n",
        "  u'movie tunes': 1,\n",
        "  u'show tunes': 0.051724},\n",
        " u'mpb': {u'bossa nova': 0.568841,\n",
        "  u'brazilian indie': 0.119565,\n",
        "  u'brazilian pop music': 0.786232,\n",
        "  u'choro': 0.210145,\n",
        "  u'forro': 0.144928,\n",
        "  u'mpb': 1,\n",
        "  u'samba': 0.742754,\n",
        "  u'velha guarda': 0.268116},\n",
        " u'musica para ninos': {u'musica para ninos': 1},\n",
        " u'musiikkia lapsille': {u'musiikkia lapsille': 1},\n",
        " u'musique concrete': {u'acousmatic': 0.781095,\n",
        "  u'avant-garde': 0.393035,\n",
        "  u'drone': 0.348259,\n",
        "  u'laboratorio': 0.114428,\n",
        "  u'minimal': 0.422886,\n",
        "  u'modern classical': 0.318408,\n",
        "  u'musique concrete': 1,\n",
        "  u'serialism': 0.149254},\n",
        " u'musique pour enfants': {u'french movie tunes': 0.099502,\n",
        "  u'musique pour enfants': 1},\n",
        " u'muziek voor kinderen': {u'muziek voor kinderen': 1},\n",
        " u'nasheed': {u'islamic recitation': 0.485507, u'nasheed': 1},\n",
        " u'nashville sound': {u'country': 0.266667,\n",
        "  u'country christmas': 0.455556,\n",
        "  u'country gospel': 0.740741,\n",
        "  u'country rock': 0.125926,\n",
        "  u'cowboy western': 0.577778,\n",
        "  u'nashville sound': 1,\n",
        "  u'outlaw country': 0.262963,\n",
        "  u'traditional country': 0.818519,\n",
        "  u'western swing': 0.388889},\n",
        " u'native american': {u'native american': 1},\n",
        " u'necrogrind': {u'goregrind': 0.204678,\n",
        "  u'grindcore': 0.204678,\n",
        "  u'necrogrind': 1},\n",
        " u'neo classical metal': {u'german metal': 0.115942,\n",
        "  u'metal': 0.184783,\n",
        "  u'metal guitar': 0.105072,\n",
        "  u'neo classical metal': 1,\n",
        "  u'power metal': 0.539855,\n",
        "  u'progressive metal': 0.5,\n",
        "  u'speed metal': 0.304348},\n",
        " u'neo honky tonk': {u'alternative americana': 0.122905, u'neo honky tonk': 1},\n",
        " u'neo mellow': {u'acoustic pop': 0.491039,\n",
        "  u'alternative rock': 0.103943,\n",
        "  u'folk christmas': 0.114695,\n",
        "  u'folk-pop': 0.193548,\n",
        "  u'lilith': 0.125448,\n",
        "  u'neo mellow': 1,\n",
        "  u'pop': 0.150538,\n",
        "  u'pop rock': 0.55914,\n",
        "  u'post-grunge': 0.182796,\n",
        "  u'singer-songwriter': 0.268817},\n",
        " u'neo metal': {u'french punk': 0.058252,\n",
        "  u'french rock': 0.097087,\n",
        "  u'neo metal': 1},\n",
        " u'neo soul': {u'dance pop': 0.188406,\n",
        "  u'hip pop': 0.202899,\n",
        "  u'neo soul': 1,\n",
        "  u'new jack swing': 0.297101,\n",
        "  u'pop': 0.123188,\n",
        "  u'quiet storm': 0.206522,\n",
        "  u'r&b': 0.536232,\n",
        "  u'r-neg-b': 0.163043,\n",
        "  u'sexy': 0.434783,\n",
        "  u'soul christmas': 0.134058,\n",
        "  u'urban contemporary': 0.532609},\n",
        " u'neo soul-jazz': {u'neo soul-jazz': 1, u'smooth urban r&b': 0.223629},\n",
        " u'neo-industrial rock': {u'cyber metal': 0.104803,\n",
        "  u'industrial metal': 0.113537,\n",
        "  u'industrial rock': 0.100437,\n",
        "  u'neo-industrial rock': 1},\n",
        " u'neo-pagan': {u'geek folk': 0.454545, u'neo-pagan': 1},\n",
        " u'neo-progressive': {u'art rock': 0.152,\n",
        "  u'crossover prog': 0.268,\n",
        "  u'neo-progressive': 1,\n",
        "  u'progressive metal': 0.112,\n",
        "  u'progressive rock': 0.42,\n",
        "  u'symphonic rock': 0.348},\n",
        " u'neo-psychedelic': {u'alternative rock': 0.301527,\n",
        "  u'chamber pop': 0.251908,\n",
        "  u'dream pop': 0.145038,\n",
        "  u'e6fi': 0.171756,\n",
        "  u'freak folk': 0.274809,\n",
        "  u'indie folk': 0.164122,\n",
        "  u'indie pop': 0.301527,\n",
        "  u'indie rock': 0.416031,\n",
        "  u'lo-fi': 0.442748,\n",
        "  u'neo-psychedelic': 1,\n",
        "  u'new weird america': 0.125954,\n",
        "  u'noise pop': 0.438931,\n",
        "  u'noise rock': 0.129771,\n",
        "  u'nu gaze': 0.255725,\n",
        "  u'shoegaze': 0.152672,\n",
        "  u'space rock': 0.293893},\n",
        " u'neo-rockabilly': {u'neo-rockabilly': 1,\n",
        "  u'rhythm and boogie': 0.065116,\n",
        "  u'traditional rockabilly': 0.074419,\n",
        "  u'vintage rockabilly': 0.093023},\n",
        " u'neo-singer-songwriter': {u'more indie singer-songwriter': 0.14,\n",
        "  u'neo-singer-songwriter': 1},\n",
        " u'neo-synthpop': {u'futurepop': 0.405983,\n",
        "  u'more neo-synthpop': 0.299145,\n",
        "  u'neo-synthpop': 1},\n",
        " u'neo-trad metal': {u'german metal': 0.127451,\n",
        "  u'melodic power metal': 0.230392,\n",
        "  u'metal': 0.156863,\n",
        "  u'neo classical metal': 0.122549,\n",
        "  u'neo-trad metal': 1,\n",
        "  u'nwobhm': 0.25,\n",
        "  u'nwothm': 0.519608,\n",
        "  u'power metal': 0.27451,\n",
        "  u'progressive metal': 0.107843,\n",
        "  u'speed metal': 0.240196},\n",
        " u'neo-traditional country': {u'neo-traditional country': 1},\n",
        " u'neoclassical': {u'dark wave': 0.344828,\n",
        "  u'ethereal gothic': 0.137931,\n",
        "  u'ethereal wave': 0.564655,\n",
        "  u'martial industrial': 0.116379,\n",
        "  u'medieval': 0.659483,\n",
        "  u'neoclassical': 1,\n",
        "  u'neofolk': 0.193966},\n",
        " u'neofolk': {u'ethereal wave': 0.102679,\n",
        "  u'martial industrial': 0.736607,\n",
        "  u'medieval': 0.21875,\n",
        "  u'neoclassical': 0.200893,\n",
        "  u'neofolk': 1,\n",
        "  u'power electronics': 0.111607},\n",
        " u'nepali': {u'nepali': 1},\n",
        " u'nerdcore': {u'comic': 0.058394, u'nerdcore': 1},\n",
        " u'neue deutsche harte': {u'dark wave': 0.216216,\n",
        "  u'ebm': 0.108108,\n",
        "  u'futurepop': 0.108108,\n",
        "  u'industrial metal': 0.108108,\n",
        "  u'medieval rock': 0.172973,\n",
        "  u'neue deutsche harte': 1},\n",
        " u'neue deutsche welle': {u'german pop': 0.133803,\n",
        "  u'minimal wave': 0.105634,\n",
        "  u'neue deutsche welle': 1},\n",
        " u'neurofunk': {u'darkstep': 0.357692,\n",
        "  u'drum and bass': 0.342308,\n",
        "  u'drumfunk': 0.269231,\n",
        "  u'jump up': 0.123077,\n",
        "  u'jungle': 0.253846,\n",
        "  u'liquid funk': 0.230769,\n",
        "  u'neurofunk': 1},\n",
        " u'neurostep': {u'neurofunk': 0.108696, u'neurostep': 1},\n",
        " u'new age': {u'alternative new age': 0.146341,\n",
        "  u'ambient': 0.102439,\n",
        "  u'healing': 0.258537,\n",
        "  u'new age': 1,\n",
        "  u'new age piano': 0.112195},\n",
        " u'new age piano': {u'new age': 0.095833, u'new age piano': 1},\n",
        " u'new beat': {u'ebm': 0.359375,\n",
        "  u'electro-industrial': 0.179688,\n",
        "  u'new beat': 1},\n",
        " u'new jack smooth': {u'new jack smooth': 1, u'new jack swing': 0.075},\n",
        " u'new jack swing': {u'dance pop': 0.132813,\n",
        "  u'funk': 0.144531,\n",
        "  u'hip pop': 0.175781,\n",
        "  u'neo soul': 0.320313,\n",
        "  u'new jack swing': 1,\n",
        "  u'post-disco': 0.113281,\n",
        "  u'quiet storm': 0.402344,\n",
        "  u'r&b': 0.457031,\n",
        "  u'sexy': 0.3125,\n",
        "  u'soul christmas': 0.152344,\n",
        "  u'urban contemporary': 0.660156},\n",
        " u'new orleans blues': {u'acoustic blues': 0.1875,\n",
        "  u'blues': 0.223958,\n",
        "  u'boogie-woogie': 0.177083,\n",
        "  u'brass band': 0.260417,\n",
        "  u'chicago blues': 0.234375,\n",
        "  u'delta blues': 0.192708,\n",
        "  u'jazz blues': 0.390625,\n",
        "  u'jump blues': 0.348958,\n",
        "  u'louisiana blues': 0.291667,\n",
        "  u'memphis blues': 0.338542,\n",
        "  u'new orleans blues': 1,\n",
        "  u'piano blues': 0.317708,\n",
        "  u'soul blues': 0.375,\n",
        "  u'swamp blues': 0.239583,\n",
        "  u'texas blues': 0.177083,\n",
        "  u'traditional blues': 0.197917},\n",
        " u'new orleans jazz': {u'big band': 0.376289,\n",
        "  u'dixieland': 0.226804,\n",
        "  u'new orleans jazz': 1,\n",
        "  u'ragtime': 0.376289,\n",
        "  u'stride': 0.35567,\n",
        "  u'swing': 0.489691},\n",
        " u'new rave': {u'alternative dance': 0.770318,\n",
        "  u'british indie rock': 0.113074,\n",
        "  u'dance-punk': 0.667845,\n",
        "  u'electro house': 0.176678,\n",
        "  u'electroclash': 0.321555,\n",
        "  u'electrofox': 0.183746,\n",
        "  u'indie pop': 0.113074,\n",
        "  u'indie rock': 0.201413,\n",
        "  u'indietronica': 0.448763,\n",
        "  u'new rave': 1,\n",
        "  u'synthpop': 0.473498},\n",
        " u'new romantic': {u'art rock': 0.167832,\n",
        "  u'dance rock': 0.856643,\n",
        "  u'more new wave': 0.101399,\n",
        "  u'new romantic': 1,\n",
        "  u'new wave': 0.867133,\n",
        "  u'new wave pop': 0.562937,\n",
        "  u'post-punk': 0.118881,\n",
        "  u'synthpop': 0.594406,\n",
        "  u'uk post-punk': 0.157343},\n",
        " u'new tribe': {u'didgeridoo': 0.214953,\n",
        "  u'healing': 0.214953,\n",
        "  u'kirtan': 0.186916,\n",
        "  u'new tribe': 1,\n",
        "  u'world fusion': 0.130841},\n",
        " u'new wave': {u'art rock': 0.190769,\n",
        "  u'dance rock': 0.775385,\n",
        "  u'glam rock': 0.110769,\n",
        "  u'gothic rock': 0.107692,\n",
        "  u'madchester': 0.101538,\n",
        "  u'new romantic': 0.763077,\n",
        "  u'new wave': 1,\n",
        "  u'new wave pop': 0.44,\n",
        "  u'post-punk': 0.233846,\n",
        "  u'synthpop': 0.516923,\n",
        "  u'uk post-punk': 0.304615},\n",
        " u'new wave pop': {u'art rock': 0.100592,\n",
        "  u'dance rock': 0.452663,\n",
        "  u'folk christmas': 0.106509,\n",
        "  u'folk-pop': 0.204142,\n",
        "  u'hi nrg': 0.121302,\n",
        "  u'lilith': 0.218935,\n",
        "  u'mellow gold': 0.118343,\n",
        "  u'new romantic': 0.476331,\n",
        "  u'new wave': 0.423077,\n",
        "  u'new wave pop': 1,\n",
        "  u'pop rock': 0.156805,\n",
        "  u'singer-songwriter': 0.14497,\n",
        "  u'soft rock': 0.162722,\n",
        "  u'synthpop': 0.357988},\n",
        " u'new weird america': {u'anti-folk': 0.132159,\n",
        "  u'chamber pop': 0.220264,\n",
        "  u'experimental psych': 0.229075,\n",
        "  u'freak folk': 0.770925,\n",
        "  u'indie folk': 0.251101,\n",
        "  u'indie pop': 0.114537,\n",
        "  u'indie rock': 0.114537,\n",
        "  u'lo-fi': 0.154185,\n",
        "  u'neo-psychedelic': 0.145374,\n",
        "  u'new weird america': 1,\n",
        "  u'noise pop': 0.123348,\n",
        "  u'slow core': 0.180617,\n",
        "  u'stomp and holler': 0.23348},\n",
        " u'ninja': {u'acid jazz': 0.342466,\n",
        "  u'big beat': 0.246575,\n",
        "  u'broken beat': 0.100457,\n",
        "  u'chill-out': 0.43379,\n",
        "  u'downtempo': 0.634703,\n",
        "  u'electronic': 0.223744,\n",
        "  u'illbient': 0.100457,\n",
        "  u'lounge': 0.123288,\n",
        "  u'ninja': 1,\n",
        "  u'nu jazz': 0.630137,\n",
        "  u'trip hop': 0.625571,\n",
        "  u'turntablism': 0.442922},\n",
        " u'nintendocore': {u'chiptune': 0.521277,\n",
        "  u'nintendocore': 1,\n",
        "  u'screamo': 0.106383},\n",
        " u'nl folk': {u'celtic christmas': 0.123967, u'nl folk': 1},\n",
        " u'no wave': {u'experimental': 0.339056,\n",
        "  u'experimental rock': 0.55794,\n",
        "  u'industrial': 0.137339,\n",
        "  u'new wave': 0.120172,\n",
        "  u'no wave': 1,\n",
        "  u'noise rock': 0.214592,\n",
        "  u'post-punk': 0.639485,\n",
        "  u'protopunk': 0.16309,\n",
        "  u'uk post-punk': 0.51073},\n",
        " u'noise': {u'japanoise': 0.373391,\n",
        "  u'noise': 1,\n",
        "  u'power electronics': 0.390558,\n",
        "  u'rock noise': 0.141631},\n",
        " u'noise pop': {u'alternative rock': 0.268608,\n",
        "  u'chamber pop': 0.18123,\n",
        "  u'chillwave': 0.242718,\n",
        "  u'dream pop': 0.158576,\n",
        "  u'freak folk': 0.245955,\n",
        "  u'indie pop': 0.2589,\n",
        "  u'indie rock': 0.38835,\n",
        "  u'indietronica': 0.168285,\n",
        "  u'lo-fi': 0.521036,\n",
        "  u'neo-psychedelic': 0.372168,\n",
        "  u'noise pop': 1,\n",
        "  u'noise rock': 0.216828,\n",
        "  u'nu gaze': 0.459547,\n",
        "  u'r-neg-b': 0.12945,\n",
        "  u'shoegaze': 0.142395,\n",
        "  u'space rock': 0.142395},\n",
        " u'noise punk': {u'math rock': 0.169492,\n",
        "  u'noise punk': 1,\n",
        "  u'noise rock': 0.316384,\n",
        "  u'post-hardcore': 0.180791,\n",
        "  u'rock noise': 0.107345},\n",
        " u'noise rock': {u'alternative rock': 0.131455,\n",
        "  u'dance-punk': 0.13615,\n",
        "  u'experimental': 0.131455,\n",
        "  u'experimental rock': 0.375587,\n",
        "  u'indie rock': 0.122066,\n",
        "  u'lo-fi': 0.220657,\n",
        "  u'math rock': 0.300469,\n",
        "  u'neo-psychedelic': 0.159624,\n",
        "  u'no wave': 0.234742,\n",
        "  u'noise pop': 0.314554,\n",
        "  u'noise punk': 0.262911,\n",
        "  u'noise rock': 1,\n",
        "  u'nu gaze': 0.150235,\n",
        "  u'post-hardcore': 0.267606,\n",
        "  u'post-punk': 0.169014},\n",
        " u'nordic folk': {u'folkmusik': 0.621212,\n",
        "  u'medieval': 0.106061,\n",
        "  u'nordic folk': 1,\n",
        "  u'yoik': 0.143939},\n",
        " u'nordic house': {u'nordic house': 1},\n",
        " u'norteno': {u'banda': 0.798283,\n",
        "  u'cumbia sonidera': 0.103004,\n",
        "  u'duranguense': 0.416309,\n",
        "  u'grupera': 0.866953,\n",
        "  u'mariachi': 0.424893,\n",
        "  u'more regional mexican': 0.218884,\n",
        "  u'norteno': 1,\n",
        "  u'ranchera': 0.407725,\n",
        "  u'regional mexican': 0.909871},\n",
        " u'northern irish indie': {u'northern irish indie': 1},\n",
        " u'northern soul': {u'beach music': 0.201754,\n",
        "  u'chicago soul': 0.469298,\n",
        "  u'deep northern soul': 0.127193,\n",
        "  u'memphis soul': 0.236842,\n",
        "  u'motown': 0.311404,\n",
        "  u'northern soul': 1,\n",
        "  u'soul': 0.223684,\n",
        "  u'soul blues': 0.118421,\n",
        "  u'southern soul': 0.267544},\n",
        " u'norwegian gospel': {u'norwegian gospel': 1},\n",
        " u'norwegian hip hop': {u'classic norwegian pop': 0.081395,\n",
        "  u'norwegian hip hop': 1,\n",
        "  u'norwegian pop': 0.069767,\n",
        "  u'norwegian rock': 0.069767},\n",
        " u'norwegian jazz': {u'norwegian jazz': 1},\n",
        " u'norwegian pop': {u'classic norwegian pop': 0.134454,\n",
        "  u'norwegian pop': 1,\n",
        "  u'norwegian rock': 0.357143},\n",
        " u'norwegian punk': {u'norwegian punk': 1, u'norwegian rock': 0.111111},\n",
        " u'norwegian rock': {u'classic norwegian pop': 0.214634,\n",
        "  u'norwegian pop': 0.414634,\n",
        "  u'norwegian punk': 0.102439,\n",
        "  u'norwegian rock': 1},\n",
        " u'nu age': {u'nu age': 1, u'warm drone': 0.514706},\n",
        " u'nu disco': {u'balearic': 0.211454,\n",
        "  u'filter house': 0.207048,\n",
        "  u'nu disco': 1,\n",
        "  u'retro electro': 0.211454},\n",
        " u'nu electro': {u'electro': 0.121457, u'nu electro': 1},\n",
        " u'nu gaze': {u'chillwave': 0.32967,\n",
        "  u'dream pop': 0.446886,\n",
        "  u'freak folk': 0.172161,\n",
        "  u'indie pop': 0.153846,\n",
        "  u'indie rock': 0.194139,\n",
        "  u'indie shoegaze': 0.153846,\n",
        "  u'indietronica': 0.241758,\n",
        "  u'lo-fi': 0.274725,\n",
        "  u'neo-psychedelic': 0.245421,\n",
        "  u'noise pop': 0.520147,\n",
        "  u'noise rock': 0.117216,\n",
        "  u'nu gaze': 1,\n",
        "  u'r-neg-b': 0.186813,\n",
        "  u'shoegaze': 0.465201,\n",
        "  u'slow core': 0.120879,\n",
        "  u'space rock': 0.153846},\n",
        " u'nu jazz': {u'acid jazz': 0.584034,\n",
        "  u'big beat': 0.231092,\n",
        "  u'broken beat': 0.159664,\n",
        "  u'chill-out': 0.57563,\n",
        "  u'downtempo': 0.705882,\n",
        "  u'electro jazz': 0.113445,\n",
        "  u'electronic': 0.239496,\n",
        "  u'lounge': 0.239496,\n",
        "  u'ninja': 0.579832,\n",
        "  u'nu jazz': 1,\n",
        "  u'trip hop': 0.592437,\n",
        "  u'turntablism': 0.243697},\n",
        " u'nu metal': {u'alternative metal': 0.842949,\n",
        "  u'alternative rock': 0.173077,\n",
        "  u'funk metal': 0.349359,\n",
        "  u'funk rock': 0.25641,\n",
        "  u'groove metal': 0.451923,\n",
        "  u'industrial metal': 0.349359,\n",
        "  u'industrial rock': 0.182692,\n",
        "  u'melodic metalcore': 0.173077,\n",
        "  u'metalcore': 0.205128,\n",
        "  u'nu metal': 1,\n",
        "  u'post-grunge': 0.407051,\n",
        "  u'rap metal': 0.605769,\n",
        "  u'rap rock': 0.576923,\n",
        "  u'rock': 0.108974},\n",
        " u'nu skool breaks': {u'big beat': 0.240566,\n",
        "  u'breakbeat': 0.669811,\n",
        "  u'electronic': 0.122642,\n",
        "  u'nu skool breaks': 1},\n",
        " u'nu-cumbia': {u'cumbia': 0.137681, u'nu-cumbia': 1},\n",
        " u'nueva cancion': {u'andean': 0.204918,\n",
        "  u'argentine rock': 0.106557,\n",
        "  u'cantautor': 0.262295,\n",
        "  u'chilean rock': 0.286885,\n",
        "  u'folklore argentino': 0.131148,\n",
        "  u'nueva cancion': 1,\n",
        "  u'rock en espanol': 0.122951,\n",
        "  u'trova': 0.311475},\n",
        " u'nursery': {u'nursery': 1},\n",
        " u'nwobhm': {u'glam metal': 0.107759,\n",
        "  u'hard rock': 0.181034,\n",
        "  u'metal': 0.353448,\n",
        "  u'neo-trad metal': 0.219828,\n",
        "  u'nwobhm': 1,\n",
        "  u'nwothm': 0.327586,\n",
        "  u'power metal': 0.116379,\n",
        "  u'speed metal': 0.262931,\n",
        "  u'thrash metal': 0.159483},\n",
        " u'nwothm': {u'melodic power metal': 0.125628,\n",
        "  u'metal': 0.115578,\n",
        "  u'neo-trad metal': 0.532663,\n",
        "  u'nwobhm': 0.38191,\n",
        "  u'nwothm': 1},\n",
        " u'nz indie': {u'kiwi rock': 0.46798, u'nz indie': 1},\n",
        " u'oi': {u'anarcho-punk': 0.123853,\n",
        "  u'german oi': 0.137615,\n",
        "  u'oi': 1,\n",
        "  u'punk': 0.174312,\n",
        "  u'skinhead oi': 0.243119,\n",
        "  u'street punk': 0.178899},\n",
        " u'old school hip hop': {u'alternative hip hop': 0.115108,\n",
        "  u'east coast hip hop': 0.44964,\n",
        "  u'electro': 0.330935,\n",
        "  u'gangster rap': 0.133094,\n",
        "  u'hardcore hip hop': 0.478417,\n",
        "  u'hip hop': 0.564748,\n",
        "  u'old school hip hop': 1,\n",
        "  u'rap': 0.622302,\n",
        "  u'turntablism': 0.107914,\n",
        "  u'underground hip hop': 0.244604},\n",
        " u'old-time': {u'appalachian folk': 0.679389,\n",
        "  u'bluegrass': 0.229008,\n",
        "  u'old-time': 1,\n",
        "  u'progressive bluegrass': 0.198473,\n",
        "  u'vintage country folk': 0.229008},\n",
        " u'opera': {u'more opera': 0.310811, u'opera': 1, u'operatic pop': 0.283784},\n",
        " u'operatic pop': {u'opera': 0.366279, u'operatic pop': 1},\n",
        " u'opm': {u'opm': 1},\n",
        " u'oratory': {u'oratory': 1},\n",
        " u'orchestral': {u'classical performance': 0.292887, u'orchestral': 1},\n",
        " u'organic ambient': {u'deep ambient': 0.100559, u'organic ambient': 1},\n",
        " u'orgcore': {u'alternative emo': 0.109375,\n",
        "  u'deep orgcore': 0.203125,\n",
        "  u'melodic hardcore': 0.144531,\n",
        "  u'orgcore': 1,\n",
        "  u'power-pop punk': 0.183594},\n",
        " u'orquesta tipica': {u'orquesta tipica': 1,\n",
        "  u'tango': 0.219731,\n",
        "  u'vintage tango': 0.358744},\n",
        " u'orquesta tropical': {u'boogaloo': 0.100917,\n",
        "  u'orquesta tropical': 1,\n",
        "  u'salsa international': 0.165138},\n",
        " u'oshare kei': {u'j-metal': 0.602113,\n",
        "  u'oshare kei': 1,\n",
        "  u'visual kei': 0.661972},\n",
        " u'ostrock': {u'liedermacher': 0.076233, u'ostrock': 1},\n",
        " u'outer hip hop': {u'abstract hip hop': 0.160428,\n",
        "  u'canadian hip hop': 0.235294,\n",
        "  u'chip hop': 0.213904,\n",
        "  u'outer hip hop': 1,\n",
        "  u'underground rap': 0.128342},\n",
        " u'outlaw country': {u'alternative country': 0.260377,\n",
        "  u'country': 0.162264,\n",
        "  u'country christmas': 0.203774,\n",
        "  u'country gospel': 0.230189,\n",
        "  u'country rock': 0.233962,\n",
        "  u'cowboy western': 0.207547,\n",
        "  u'cowpunk': 0.233962,\n",
        "  u'folk': 0.143396,\n",
        "  u'nashville sound': 0.267925,\n",
        "  u'outlaw country': 1,\n",
        "  u'roots rock': 0.143396,\n",
        "  u'texas country': 0.728302,\n",
        "  u'traditional country': 0.34717,\n",
        "  u'western swing': 0.162264},\n",
        " u'outsider': {u'experimental': 0.209091,\n",
        "  u'experimental rock': 0.172727,\n",
        "  u'no wave': 0.1,\n",
        "  u'outsider': 1,\n",
        "  u'protopunk': 0.118182,\n",
        "  u'psychedelic rock': 0.118182},\n",
        " u'outsider house': {u'deep soul house': 0.131387,\n",
        "  u'minimal dub': 0.270073,\n",
        "  u'outsider house': 1},\n",
        " u'p funk': {u'classic funk rock': 0.397436,\n",
        "  u'funk': 0.326923,\n",
        "  u'funk rock': 0.365385,\n",
        "  u'p funk': 1,\n",
        "  u'post-disco': 0.121795},\n",
        " u'pagan black metal': {u'atmospheric black metal': 0.540084,\n",
        "  u'avantgarde metal': 0.518987,\n",
        "  u'black metal': 0.751055,\n",
        "  u'blackgaze': 0.105485,\n",
        "  u'chaotic black metal': 0.113924,\n",
        "  u'dark black metal': 0.126582,\n",
        "  u'death metal': 0.109705,\n",
        "  u'depressive black metal': 0.185654,\n",
        "  u'folk metal': 0.236287,\n",
        "  u'melodic death metal': 0.105485,\n",
        "  u'metal': 0.105485,\n",
        "  u'pagan black metal': 1,\n",
        "  u'post-metal': 0.122363,\n",
        "  u'symphonic black metal': 0.42616,\n",
        "  u'viking metal': 0.320675},\n",
        " u'pagode': {u'axe': 0.432432,\n",
        "  u'choro': 0.124324,\n",
        "  u'pagode': 1,\n",
        "  u'samba': 0.254054,\n",
        "  u'sertanejo universitario': 0.12973,\n",
        "  u'velha guarda': 0.221622},\n",
        " u'pakistani pop': {u'filmi': 0.134715,\n",
        "  u'gujarati': 0.11399,\n",
        "  u'indian pop': 0.160622,\n",
        "  u'pakistani pop': 1,\n",
        "  u'qawwali': 0.362694},\n",
        " u'permanent wave': {u'alternative rock': 0.405405,\n",
        "  u'art rock': 0.144144,\n",
        "  u'dance rock': 0.171171,\n",
        "  u'glam rock': 0.144144,\n",
        "  u'indie rock': 0.171171,\n",
        "  u'mellow gold': 0.126126,\n",
        "  u'new romantic': 0.144144,\n",
        "  u'new wave': 0.198198,\n",
        "  u'new wave pop': 0.261261,\n",
        "  u'permanent wave': 1,\n",
        "  u'pop christmas': 0.126126,\n",
        "  u'pop rock': 0.252252,\n",
        "  u'post-grunge': 0.126126,\n",
        "  u'rock': 0.36036,\n",
        "  u'singer-songwriter': 0.18018,\n",
        "  u'synthpop': 0.135135},\n",
        " u'persian pop': {u'persian pop': 1, u'persian traditional': 0.2249},\n",
        " u'persian traditional': {u'persian pop': 0.242424, u'persian traditional': 1},\n",
        " u'perth indie': {u'australian alternative rock': 0.130081, u'perth indie': 1},\n",
        " u'peruvian rock': {u'classic peruvian pop': 0.366071, u'peruvian rock': 1},\n",
        " u'piano blues': {u'acoustic blues': 0.545455,\n",
        "  u'blues': 0.586364,\n",
        "  u'boogie-woogie': 0.463636,\n",
        "  u'chicago blues': 0.554545,\n",
        "  u'country blues': 0.418182,\n",
        "  u'delta blues': 0.563636,\n",
        "  u'harmonica blues': 0.322727,\n",
        "  u'jazz blues': 0.531818,\n",
        "  u'louisiana blues': 0.468182,\n",
        "  u'memphis blues': 0.659091,\n",
        "  u'piano blues': 1,\n",
        "  u'piedmont blues': 0.418182,\n",
        "  u'soul blues': 0.363636,\n",
        "  u'swamp blues': 0.4,\n",
        "  u'texas blues': 0.390909,\n",
        "  u'traditional blues': 0.563636},\n",
        " u'piano rock': {u'alternative pop rock': 0.104839,\n",
        "  u'dreamo': 0.209677,\n",
        "  u'folk-pop': 0.120968,\n",
        "  u'neo mellow': 0.193548,\n",
        "  u'piano rock': 1,\n",
        "  u'pop punk': 0.137097,\n",
        "  u'pop rock': 0.169355},\n",
        " u'piedmont blues': {u'acoustic blues': 0.847222,\n",
        "  u'blues': 0.62963,\n",
        "  u'chicago blues': 0.486111,\n",
        "  u'country blues': 0.662037,\n",
        "  u'delta blues': 0.805556,\n",
        "  u'electric blues': 0.259259,\n",
        "  u'harmonica blues': 0.25,\n",
        "  u'jazz blues': 0.314815,\n",
        "  u'louisiana blues': 0.342593,\n",
        "  u'memphis blues': 0.689815,\n",
        "  u'piano blues': 0.425926,\n",
        "  u'piedmont blues': 1,\n",
        "  u'soul blues': 0.222222,\n",
        "  u'swamp blues': 0.296296,\n",
        "  u'texas blues': 0.37963,\n",
        "  u'traditional blues': 0.810185},\n",
        " u'pipe band': {u'pipe band': 1, u'traditional scottish folk': 0.234043},\n",
        " u'poetry': {u'poetry': 1},\n",
        " u'polish hip hop': {u'polish hip hop': 1},\n",
        " u'polish indie': {u'classic polish pop': 0.117391,\n",
        "  u'polish indie': 1,\n",
        "  u'polish pop': 0.308696,\n",
        "  u'polish punk': 0.204348},\n",
        " u'polish jazz': {u'classic polish pop': 0.054945,\n",
        "  u'polish indie': 0.071429,\n",
        "  u'polish jazz': 1},\n",
        " u'polish pop': {u'classic polish pop': 0.216102,\n",
        "  u'polish indie': 0.300847,\n",
        "  u'polish pop': 1,\n",
        "  u'polish punk': 0.258475},\n",
        " u'polish punk': {u'polish indie': 0.215596,\n",
        "  u'polish pop': 0.279817,\n",
        "  u'polish punk': 1,\n",
        "  u'polish reggae': 0.114679},\n",
        " u'polish reggae': {u'polish punk': 0.233645, u'polish reggae': 1},\n",
        " u'polka': {u'polka': 1, u'world christmas': 0.1},\n",
        " u'polynesian pop': {u'kiwi rock': 0.119658, u'polynesian pop': 1},\n",
        " u'polyphony': {u'caucasian folk': 0.275229,\n",
        "  u'corsican folk': 0.293578,\n",
        "  u'early music': 0.110092,\n",
        "  u'polyphony': 1},\n",
        " u'pop': {u'dance pop': 0.611549,\n",
        "  u'europop': 0.209974,\n",
        "  u'hip pop': 0.133858,\n",
        "  u'neo mellow': 0.110236,\n",
        "  u'pop': 1,\n",
        "  u'pop christmas': 0.110236,\n",
        "  u'pop rock': 0.191601,\n",
        "  u'r&b': 0.212598,\n",
        "  u'r-neg-b': 0.115486,\n",
        "  u'sexy': 0.467192,\n",
        "  u'synthpop': 0.120735,\n",
        "  u'teen pop': 0.322835,\n",
        "  u'urban contemporary': 0.217848},\n",
        " u'pop christmas': {u'dance pop': 0.235632,\n",
        "  u'europop': 0.114943,\n",
        "  u'folk christmas': 0.212644,\n",
        "  u'folk-pop': 0.16092,\n",
        "  u'mellow gold': 0.155172,\n",
        "  u'new wave pop': 0.143678,\n",
        "  u'pop': 0.241379,\n",
        "  u'pop christmas': 1,\n",
        "  u'pop rock': 0.16092,\n",
        "  u'r&b': 0.149425,\n",
        "  u'sexy': 0.206897,\n",
        "  u'singer-songwriter': 0.172414,\n",
        "  u'soft rock': 0.126437,\n",
        "  u'soul christmas': 0.132184,\n",
        "  u'teen pop': 0.109195,\n",
        "  u'urban contemporary': 0.143678},\n",
        " u'pop emo': {u'alternative pop rock': 0.309735,\n",
        "  u'more pop emo': 0.150442,\n",
        "  u'pop emo': 1,\n",
        "  u'pop punk': 0.274336,\n",
        "  u'punk christmas': 0.115044},\n",
        " u'pop house': {u'disco house': 0.124352,\n",
        "  u'electro house': 0.108808,\n",
        "  u'hands up': 0.119171,\n",
        "  u'house': 0.207254,\n",
        "  u'pop house': 1},\n",
        " u'pop punk': {u'alternative pop rock': 0.128028,\n",
        "  u'dreamo': 0.186851,\n",
        "  u'emo': 0.446367,\n",
        "  u'melodic hardcore': 0.204152,\n",
        "  u'pop emo': 0.214533,\n",
        "  u'pop punk': 1,\n",
        "  u'post-hardcore': 0.121107,\n",
        "  u'punk': 0.152249,\n",
        "  u'punk christmas': 0.235294,\n",
        "  u'screamo': 0.211073,\n",
        "  u'ska punk': 0.103806,\n",
        "  u'skate punk': 0.197232},\n",
        " u'pop rap': {u'alternative hip hop': 0.410765,\n",
        "  u'crunk': 0.487252,\n",
        "  u'dance pop': 0.11898,\n",
        "  u'dirty south rap': 0.512748,\n",
        "  u'gangster rap': 0.305949,\n",
        "  u'hardcore hip hop': 0.110482,\n",
        "  u'hip hop': 0.453258,\n",
        "  u'hip pop': 0.152975,\n",
        "  u'jerk': 0.144476,\n",
        "  u'juggalo': 0.104816,\n",
        "  u'pop rap': 1,\n",
        "  u'r-neg-b': 0.113314,\n",
        "  u'rap': 0.209632,\n",
        "  u'sexy': 0.141643,\n",
        "  u'southern hip hop': 0.549575,\n",
        "  u'trap music': 0.566572},\n",
        " u'pop rock': {u'acoustic pop': 0.15942,\n",
        "  u'alternative rock': 0.301449,\n",
        "  u'dance pop': 0.121739,\n",
        "  u'folk-pop': 0.147826,\n",
        "  u'grunge': 0.110145,\n",
        "  u'lilith': 0.156522,\n",
        "  u'neo mellow': 0.452174,\n",
        "  u'new wave pop': 0.153623,\n",
        "  u'pop': 0.211594,\n",
        "  u'pop rock': 1,\n",
        "  u'post-grunge': 0.417391,\n",
        "  u'rock': 0.136232,\n",
        "  u'singer-songwriter': 0.165217,\n",
        "  u'teen pop': 0.107246},\n",
        " u'portland indie': {u'portland indie': 1},\n",
        " u'portuguese pop': {u'hip hop tuga': 0.144737,\n",
        "  u'portuguese pop': 1,\n",
        "  u'portuguese rock': 0.263158},\n",
        " u'portuguese rock': {u'fado': 0.142276,\n",
        "  u'hip hop tuga': 0.174797,\n",
        "  u'portuguese pop': 0.243902,\n",
        "  u'portuguese rock': 1},\n",
        " u'post rock': {u'atmospheric post rock': 0.25,\n",
        "  u'math rock': 0.127049,\n",
        "  u'post rock': 1,\n",
        "  u'slow core': 0.163934},\n",
        " u'post-disco': {u'classic funk rock': 0.381679,\n",
        "  u'deep disco': 0.118321,\n",
        "  u'disco': 0.51145,\n",
        "  u'funk': 0.515267,\n",
        "  u'funk rock': 0.263359,\n",
        "  u'hi nrg': 0.232824,\n",
        "  u'motown': 0.21374,\n",
        "  u'new jack swing': 0.110687,\n",
        "  u'post-disco': 1,\n",
        "  u'post-disco soul': 0.156489,\n",
        "  u'quiet storm': 0.385496,\n",
        "  u'soul': 0.209924},\n",
        " u'post-disco soul': {u'post-disco': 0.22043, u'post-disco soul': 1},\n",
        " u'post-grunge': {u'alternative metal': 0.422961,\n",
        "  u'alternative rock': 0.425982,\n",
        "  u'funk metal': 0.244713,\n",
        "  u'funk rock': 0.175227,\n",
        "  u'groove metal': 0.117825,\n",
        "  u'grunge': 0.229607,\n",
        "  u'grunge pop': 0.181269,\n",
        "  u'industrial metal': 0.111782,\n",
        "  u'neo mellow': 0.154079,\n",
        "  u'nu metal': 0.383686,\n",
        "  u'pop rock': 0.435045,\n",
        "  u'post-grunge': 1,\n",
        "  u'rap metal': 0.256798,\n",
        "  u'rap rock': 0.314199,\n",
        "  u'rock': 0.202417},\n",
        " u'post-hardcore': {u'emo': 0.283871,\n",
        "  u'emo punk': 0.135484,\n",
        "  u'experimental rock': 0.1,\n",
        "  u'math rock': 0.419355,\n",
        "  u'metalcore': 0.13871,\n",
        "  u'noise punk': 0.103226,\n",
        "  u'noise rock': 0.183871,\n",
        "  u'pop punk': 0.112903,\n",
        "  u'post-hardcore': 1,\n",
        "  u'screamo': 0.267742},\n",
        " u'post-metal': {u'atmospheric black metal': 0.140969,\n",
        "  u'atmospheric post-metal': 0.378855,\n",
        "  u'avantgarde metal': 0.198238,\n",
        "  u'black sludge': 0.140969,\n",
        "  u'doom metal': 0.14978,\n",
        "  u'drone': 0.242291,\n",
        "  u'pagan black metal': 0.127753,\n",
        "  u'post-metal': 1,\n",
        "  u'sludge metal': 0.462555,\n",
        "  u'stoner metal': 0.251101,\n",
        "  u'stoner rock': 0.171806},\n",
        " u'post-post-hardcore': {u'electronicore': 0.364372, u'post-post-hardcore': 1},\n",
        " u'post-punk': {u'alternative rock': 0.142857,\n",
        "  u'art rock': 0.131274,\n",
        "  u'dance rock': 0.223938,\n",
        "  u'experimental': 0.220077,\n",
        "  u'experimental rock': 0.405405,\n",
        "  u'glam rock': 0.127413,\n",
        "  u'gothic rock': 0.104247,\n",
        "  u'industrial': 0.104247,\n",
        "  u'new romantic': 0.131274,\n",
        "  u'new wave': 0.293436,\n",
        "  u'no wave': 0.57529,\n",
        "  u'noise rock': 0.138996,\n",
        "  u'post-punk': 1,\n",
        "  u'protopunk': 0.235521,\n",
        "  u'punk': 0.142857,\n",
        "  u'uk post-punk': 0.741313},\n",
        " u'power blues-rock': {u'blues-rock guitar': 0.25,\n",
        "  u'electric blues': 0.104167,\n",
        "  u'modern blues': 0.1375,\n",
        "  u'power blues-rock': 1,\n",
        "  u'texas blues': 0.179167},\n",
        " u'power electronics': {u'dark ambient': 0.198068,\n",
        "  u'industrial': 0.130435,\n",
        "  u'japanoise': 0.299517,\n",
        "  u'martial industrial': 0.256039,\n",
        "  u'neofolk': 0.120773,\n",
        "  u'noise': 0.439614,\n",
        "  u'power electronics': 1},\n",
        " u'power metal': {u'folk metal': 0.110672,\n",
        "  u'german metal': 0.193676,\n",
        "  u'metal': 0.320158,\n",
        "  u'neo classical metal': 0.588933,\n",
        "  u'neo-trad metal': 0.221344,\n",
        "  u'nwobhm': 0.106719,\n",
        "  u'power metal': 1,\n",
        "  u'progressive metal': 0.537549,\n",
        "  u'speed metal': 0.486166,\n",
        "  u'symphonic metal': 0.15415},\n",
        " u'power noise': {u'aggrotech': 0.074419, u'power noise': 1},\n",
        " u'power pop': {u'alternative pop': 0.103448,\n",
        "  u'alternative rock': 0.285714,\n",
        "  u'indie christmas': 0.123153,\n",
        "  u'indie rock': 0.123153,\n",
        "  u'jangle pop': 0.719212,\n",
        "  u'lo-fi': 0.1133,\n",
        "  u'power pop': 1,\n",
        "  u'pub rock': 0.162562,\n",
        "  u'underground power pop': 0.246305},\n",
        " u'power violence': {u'crust punk': 0.177489,\n",
        "  u'grindcore': 0.21645,\n",
        "  u'power violence': 1,\n",
        "  u'thrash core': 0.463203},\n",
        " u'power-pop punk': {u'orgcore': 0.265537, u'power-pop punk': 1},\n",
        " u'praise': {u'gospel': 0.097625, u'praise': 1},\n",
        " u'progressive alternative': {u'hard alternative': 0.058824,\n",
        "  u'progressive alternative': 1},\n",
        " u'progressive bluegrass': {u'bluegrass': 0.754098,\n",
        "  u'old-time': 0.106557,\n",
        "  u'progressive bluegrass': 1},\n",
        " u'progressive electro house': {u'big room': 0.709821,\n",
        "  u'dutch house': 0.178571,\n",
        "  u'edm': 0.441964,\n",
        "  u'electro house': 0.379464,\n",
        "  u'house': 0.254464,\n",
        "  u'progressive electro house': 1,\n",
        "  u'progressive house': 0.174107},\n",
        " u'progressive house': {u'big room': 0.155963,\n",
        "  u'edm': 0.250765,\n",
        "  u'electro house': 0.204893,\n",
        "  u'house': 0.232416,\n",
        "  u'more uplifting trance': 0.100917,\n",
        "  u'progressive electro house': 0.119266,\n",
        "  u'progressive house': 1,\n",
        "  u'progressive trance': 0.366972,\n",
        "  u'tech house': 0.11315,\n",
        "  u'trance': 0.379205,\n",
        "  u'tribal house': 0.137615,\n",
        "  u'uplifting trance': 0.348624},\n",
        " u'progressive metal': {u'german metal': 0.127413,\n",
        "  u'jazz metal': 0.127413,\n",
        "  u'melodic progressive metal': 0.108108,\n",
        "  u'metal': 0.289575,\n",
        "  u'neo classical metal': 0.532819,\n",
        "  u'neo-progressive': 0.108108,\n",
        "  u'power metal': 0.525097,\n",
        "  u'progressive metal': 1,\n",
        "  u'speed metal': 0.370656,\n",
        "  u'symphonic metal': 0.119691},\n",
        " u'progressive psytrance': {u'deep psytrance': 0.148855,\n",
        "  u'progressive psytrance': 1},\n",
        " u'progressive rock': {u'album rock': 0.204633,\n",
        "  u'art rock': 0.563707,\n",
        "  u'canterbury scene': 0.420849,\n",
        "  u'classic rock': 0.119691,\n",
        "  u'italian progressive rock': 0.100386,\n",
        "  u'kraut rock': 0.131274,\n",
        "  u'neo-progressive': 0.405405,\n",
        "  u'progressive rock': 1,\n",
        "  u'psychedelic rock': 0.135135,\n",
        "  u'rock': 0.127413,\n",
        "  u'space rock': 0.274131,\n",
        "  u'symphonic rock': 0.841699},\n",
        " u'progressive trance': {u'more progressive trance': 0.11828,\n",
        "  u'more uplifting trance': 0.136201,\n",
        "  u'progressive house': 0.430108,\n",
        "  u'progressive trance': 1,\n",
        "  u'trance': 0.899642,\n",
        "  u'uplifting trance': 0.827957},\n",
        " u'progressive uplifting trance': {u'glitter trance': 0.063107,\n",
        "  u'progressive uplifting trance': 1,\n",
        "  u'uplifting trance': 0.072816},\n",
        " u'protopunk': {u'british blues': 0.223022,\n",
        "  u'british invasion': 0.147482,\n",
        "  u'classic garage rock': 0.23741,\n",
        "  u'classic rock': 0.172662,\n",
        "  u'experimental': 0.129496,\n",
        "  u'experimental rock': 0.169065,\n",
        "  u'freakbeat': 0.223022,\n",
        "  u'garage rock': 0.129496,\n",
        "  u'glam rock': 0.338129,\n",
        "  u'no wave': 0.136691,\n",
        "  u'post-punk': 0.219424,\n",
        "  u'protopunk': 1,\n",
        "  u'psychedelic rock': 0.341727,\n",
        "  u'pub rock': 0.154676,\n",
        "  u'punk': 0.223022,\n",
        "  u'uk post-punk': 0.143885},\n",
        " u'psych gaze': {u'indie shoegaze': 0.136585,\n",
        "  u'neo-psychedelic': 0.146341,\n",
        "  u'psych gaze': 1,\n",
        "  u'shoegaze': 0.102439},\n",
        " u'psychedelic blues-rock': {u'classic rock': 0.097345,\n",
        "  u'kraut rock': 0.061947,\n",
        "  u'psychedelic blues-rock': 1,\n",
        "  u'psychedelic rock': 0.09292},\n",
        " u'psychedelic rock': {u'album rock': 0.191882,\n",
        "  u'art rock': 0.129151,\n",
        "  u'blues-rock': 0.250923,\n",
        "  u'british blues': 0.357934,\n",
        "  u'british invasion': 0.180812,\n",
        "  u'classic garage rock': 0.236162,\n",
        "  u'classic rock': 0.398524,\n",
        "  u'folk rock': 0.166052,\n",
        "  u'freakbeat': 0.295203,\n",
        "  u'mellow gold': 0.129151,\n",
        "  u'progressive rock': 0.129151,\n",
        "  u'protopunk': 0.350554,\n",
        "  u'psychedelic rock': 1,\n",
        "  u'rock': 0.206642,\n",
        "  u'space rock': 0.136531,\n",
        "  u'symphonic rock': 0.125461},\n",
        " u'psychedelic trance': {u'full on': 0.275424,\n",
        "  u'goa trance': 0.233051,\n",
        "  u'psychedelic trance': 1},\n",
        " u'psychill': {u'ambient psychill': 0.344, u'psychill': 1},\n",
        " u'psychobilly': {u'horror punk': 0.226891,\n",
        "  u'more psychobilly': 0.184874,\n",
        "  u'psychobilly': 1},\n",
        " u'pub rock': {u'glam rock': 0.242105,\n",
        "  u'jangle pop': 0.173684,\n",
        "  u'power pop': 0.173684,\n",
        "  u'protopunk': 0.226316,\n",
        "  u'pub rock': 1,\n",
        "  u'punk': 0.121053,\n",
        "  u'roots rock': 0.105263},\n",
        " u'puerto rican rock': {u'hurban': 0.050955,\n",
        "  u'puerto rican rock': 1,\n",
        "  u'tropical': 0.057325},\n",
        " u'punjabi': {u'bhangra': 0.834746,\n",
        "  u'desi': 0.745763,\n",
        "  u'indian pop': 0.20339,\n",
        "  u'punjabi': 1},\n",
        " u'punk': {u'crossover thrash': 0.184564,\n",
        "  u'glam rock': 0.124161,\n",
        "  u'hardcore punk': 0.493289,\n",
        "  u'melodic hardcore': 0.338926,\n",
        "  u'oi': 0.127517,\n",
        "  u'pop punk': 0.147651,\n",
        "  u'post-punk': 0.124161,\n",
        "  u'protopunk': 0.208054,\n",
        "  u'punk': 1,\n",
        "  u'punk christmas': 0.100671,\n",
        "  u'ska punk': 0.11745,\n",
        "  u'skate punk': 0.597315,\n",
        "  u'straight edge': 0.11745},\n",
        " u'punk blues': {u'garage pop': 0.182266,\n",
        "  u'garage punk blues': 0.103448,\n",
        "  u'garage rock': 0.674877,\n",
        "  u'protopunk': 0.137931,\n",
        "  u'punk blues': 1,\n",
        "  u'trash rock': 0.142857},\n",
        " u'punk christmas': {u'emo': 0.251656,\n",
        "  u'heavy christmas': 0.298013,\n",
        "  u'pop emo': 0.172185,\n",
        "  u'pop punk': 0.450331,\n",
        "  u'punk': 0.198675,\n",
        "  u'punk christmas': 1,\n",
        "  u'screamo': 0.15894,\n",
        "  u'skate punk': 0.125828},\n",
        " u'punk ska': {u'crack rock steady': 0.111111,\n",
        "  u'punk ska': 1,\n",
        "  u'ska': 0.133333,\n",
        "  u'ska punk': 0.164444},\n",
        " u'qawwali': {u'filmi': 0.134228,\n",
        "  u'gujarati': 0.14094,\n",
        "  u'hindustani classical': 0.127517,\n",
        "  u'indian classical': 0.100671,\n",
        "  u'indian pop': 0.174497,\n",
        "  u'pakistani pop': 0.469799,\n",
        "  u'qawwali': 1},\n",
        " u'quebecois': {u'chanson quebecois': 0.204, u'quebecois': 1},\n",
        " u'quiet storm': {u'chicago soul': 0.265176,\n",
        "  u'classic funk rock': 0.453674,\n",
        "  u'disco': 0.364217,\n",
        "  u'funk': 0.587859,\n",
        "  u'funk rock': 0.338658,\n",
        "  u'memphis soul': 0.217252,\n",
        "  u'motown': 0.533546,\n",
        "  u'neo soul': 0.182109,\n",
        "  u'new jack swing': 0.329073,\n",
        "  u'post-disco': 0.322684,\n",
        "  u'quiet storm': 1,\n",
        "  u'soul': 0.549521,\n",
        "  u'soul blues': 0.172524,\n",
        "  u'soul christmas': 0.261981,\n",
        "  u'southern soul': 0.242812,\n",
        "  u'urban contemporary': 0.329073},\n",
        " u'r&b': {u'alternative r&b': 0.125,\n",
        "  u'dance pop': 0.407051,\n",
        "  u'hip pop': 0.503205,\n",
        "  u'neo soul': 0.474359,\n",
        "  u'new jack swing': 0.375,\n",
        "  u'pop': 0.259615,\n",
        "  u'quiet storm': 0.169872,\n",
        "  u'r&b': 1,\n",
        "  u'r-neg-b': 0.182692,\n",
        "  u'sexy': 0.740385,\n",
        "  u'soul christmas': 0.157051,\n",
        "  u'urban contemporary': 0.932692},\n",
        " u'r-neg-b': {u'alternative hip hop': 0.110687,\n",
        "  u'chillwave': 0.423664,\n",
        "  u'dance pop': 0.160305,\n",
        "  u'hip pop': 0.129771,\n",
        "  u'indietronica': 0.351145,\n",
        "  u'metropopolis': 0.10687,\n",
        "  u'neo soul': 0.171756,\n",
        "  u'noise pop': 0.152672,\n",
        "  u'nu gaze': 0.194656,\n",
        "  u'pop': 0.167939,\n",
        "  u'pop rap': 0.152672,\n",
        "  u'r&b': 0.217557,\n",
        "  u'r-neg-b': 1,\n",
        "  u'sexy': 0.248092,\n",
        "  u'synthpop': 0.114504,\n",
        "  u'urban contemporary': 0.20229},\n",
        " u'ragga jungle': {u'jungle': 0.148718, u'ragga jungle': 1},\n",
        " u'ragtime': {u'big band': 0.190217,\n",
        "  u'dixieland': 0.103261,\n",
        "  u'new orleans jazz': 0.396739,\n",
        "  u'ragtime': 1,\n",
        "  u'stride': 0.396739,\n",
        "  u'swing': 0.266304},\n",
        " u'rai': {u'arab pop': 0.101449,\n",
        "  u'maghreb': 0.342995,\n",
        "  u'more rai': 0.328502,\n",
        "  u'rai': 1},\n",
        " u'ranchera': {u'banda': 0.362445,\n",
        "  u'bolero': 0.39738,\n",
        "  u'duranguense': 0.161572,\n",
        "  u'grupera': 0.489083,\n",
        "  u'mariachi': 0.921397,\n",
        "  u'mexican son': 0.170306,\n",
        "  u'norteno': 0.414847,\n",
        "  u'ranchera': 1,\n",
        "  u'regional mexican': 0.401747},\n",
        " u'rap': {u'alternative hip hop': 0.228296,\n",
        "  u'dirty south rap': 0.128617,\n",
        "  u'east coast hip hop': 0.55627,\n",
        "  u'electro': 0.115756,\n",
        "  u'g funk': 0.144695,\n",
        "  u'gangster rap': 0.324759,\n",
        "  u'hardcore hip hop': 0.662379,\n",
        "  u'hip hop': 0.807074,\n",
        "  u'juggalo': 0.173633,\n",
        "  u'old school hip hop': 0.55627,\n",
        "  u'pop rap': 0.237942,\n",
        "  u'rap': 1,\n",
        "  u'trap music': 0.106109,\n",
        "  u'turntablism': 0.106109,\n",
        "  u'underground hip hop': 0.282958,\n",
        "  u'west coast rap': 0.131833},\n",
        " u'rap metal': {u'alternative metal': 0.672794,\n",
        "  u'alternative rock': 0.136029,\n",
        "  u'funk metal': 0.356618,\n",
        "  u'funk rock': 0.294118,\n",
        "  u'groove metal': 0.363971,\n",
        "  u'industrial metal': 0.308824,\n",
        "  u'industrial rock': 0.139706,\n",
        "  u'metalcore': 0.125,\n",
        "  u'nu metal': 0.694853,\n",
        "  u'post-grunge': 0.3125,\n",
        "  u'rap metal': 1,\n",
        "  u'rap metalcore': 0.213235,\n",
        "  u'rap rock': 0.705882},\n",
        " u'rap metalcore': {u'rap metal': 0.26009,\n",
        "  u'rap metalcore': 1,\n",
        "  u'rap rock': 0.103139},\n",
        " u'rap rock': {u'alternative metal': 0.689655,\n",
        "  u'alternative rock': 0.218391,\n",
        "  u'funk metal': 0.471264,\n",
        "  u'funk rock': 0.375479,\n",
        "  u'groove metal': 0.333333,\n",
        "  u'industrial metal': 0.268199,\n",
        "  u'industrial rock': 0.126437,\n",
        "  u'metalcore': 0.118774,\n",
        "  u'nu metal': 0.689655,\n",
        "  u'pop rock': 0.103448,\n",
        "  u'post-grunge': 0.398467,\n",
        "  u'rap metal': 0.735632,\n",
        "  u'rap rock': 1,\n",
        "  u'rock': 0.126437},\n",
        " u'raw black metal': {u'atmospheric black metal': 0.118343,\n",
        "  u'black metal': 0.12426,\n",
        "  u'dark black metal': 0.12426,\n",
        "  u'raw black metal': 1},\n",
        " u're:techno': {u're:techno': 1},\n",
        " u'reading': {u'poetry': 0.050279, u'reading': 1},\n",
        " u'rebetiko': {u'entehno': 0.231884, u'laiko': 0.169082, u'rebetiko': 1},\n",
        " u'reggae': {u'dancehall': 0.397059,\n",
        "  u'dub': 0.705882,\n",
        "  u'lovers rock': 0.301471,\n",
        "  u'reggae': 1,\n",
        "  u'rock steady': 0.183824,\n",
        "  u'roots reggae': 0.893382,\n",
        "  u'world christmas': 0.117647},\n",
        " u'reggae fusion': {u'dancehall': 0.121827, u'reggae fusion': 1},\n",
        " u'reggae rock': {u'reggae rock': 1},\n",
        " u'reggaeton': {u'hurban': 0.520833,\n",
        "  u'latin hip hop': 0.483333,\n",
        "  u'reggaeton': 1,\n",
        "  u'tropical': 0.370833},\n",
        " u'regional mexican': {u'banda': 0.797665,\n",
        "  u'cumbia sonidera': 0.105058,\n",
        "  u'duranguense': 0.40856,\n",
        "  u'grupera': 0.797665,\n",
        "  u'mariachi': 0.377432,\n",
        "  u'more regional mexican': 0.22179,\n",
        "  u'norteno': 0.824903,\n",
        "  u'ranchera': 0.357977,\n",
        "  u'regional mexican': 1},\n",
        " u'relaxative': {u'environmental': 0.105634, u'relaxative': 1},\n",
        " u'remix': {u'hands up': 0.05, u'remix': 1},\n",
        " u'renaissance': {u'baroque': 0.166667,\n",
        "  u'classical': 0.114035,\n",
        "  u'classical christmas': 0.162281,\n",
        "  u'early music': 0.828947,\n",
        "  u'early music ensemble': 0.175439,\n",
        "  u'renaissance': 1},\n",
        " u'retro electro': {u'filter house': 0.291139,\n",
        "  u'nu disco': 0.303797,\n",
        "  u'retro electro': 1},\n",
        " u'retro metal': {u'hard stoner rock': 0.295964,\n",
        "  u'retro metal': 1,\n",
        "  u'space rock': 0.107623,\n",
        "  u'stoner metal': 0.197309,\n",
        "  u'stoner rock': 0.246637},\n",
        " u'rhythm and boogie': {u'rhythm and boogie': 1,\n",
        "  u'traditional rockabilly': 0.260684,\n",
        "  u'vintage rockabilly': 0.252137},\n",
        " u'riddim': {u'dancehall': 0.111111, u'deep ragga': 0.142222, u'riddim': 1},\n",
        " u'rio de la plata': {u'argentine rock': 0.172093, u'rio de la plata': 1},\n",
        " u'riot grrrl': {u'alternative pop': 0.090047,\n",
        "  u'grunge': 0.061611,\n",
        "  u'no wave': 0.061611,\n",
        "  u'riot grrrl': 1},\n",
        " u'rock': {u'album rock': 0.565489,\n",
        "  u'alternative metal': 0.116424,\n",
        "  u'alternative rock': 0.212058,\n",
        "  u'blues-rock': 0.218295,\n",
        "  u'british blues': 0.118503,\n",
        "  u'classic rock': 0.359667,\n",
        "  u'funk metal': 0.126819,\n",
        "  u'glam metal': 0.180873,\n",
        "  u'glam rock': 0.293139,\n",
        "  u'hard rock': 0.424116,\n",
        "  u'mellow gold': 0.243243,\n",
        "  u'post-grunge': 0.139293,\n",
        "  u'psychedelic rock': 0.116424,\n",
        "  u'rock': 1,\n",
        "  u'soft rock': 0.191268,\n",
        "  u'southern rock': 0.155925},\n",
        " u'rock catala': {u'cantautor': 0.061983, u'rock catala': 1},\n",
        " u'rock en espanol': {u'argentine rock': 0.466667,\n",
        "  u'latin': 0.137255,\n",
        "  u'latin alternative': 0.572549,\n",
        "  u'latin pop': 0.133333,\n",
        "  u'mexican indie': 0.184314,\n",
        "  u'rock en espanol': 1,\n",
        "  u'spanish pop': 0.12549},\n",
        " u'rock gaucho': {u'brazilian indie': 0.173913,\n",
        "  u'brazilian pop music': 0.273913,\n",
        "  u'brazilian punk': 0.204348,\n",
        "  u'rock gaucho': 1},\n",
        " u'rock noise': {u'drone psych': 0.110345,\n",
        "  u'japanoise': 0.144828,\n",
        "  u'noise': 0.227586,\n",
        "  u'noise punk': 0.131034,\n",
        "  u'rock noise': 1},\n",
        " u'rock steady': {u'dub': 0.124481,\n",
        "  u'reggae': 0.207469,\n",
        "  u'rock steady': 1,\n",
        "  u'roots reggae': 0.157676,\n",
        "  u'ska revival': 0.136929,\n",
        "  u'skinhead reggae': 0.385892},\n",
        " u'rock-and-roll': {u'brill building pop': 0.393365,\n",
        "  u'british invasion': 0.227488,\n",
        "  u'bubblegum pop': 0.146919,\n",
        "  u'doo-wop': 0.14218,\n",
        "  u'merseybeat': 0.189573,\n",
        "  u'rock-and-roll': 1,\n",
        "  u'rockabilly': 0.677725},\n",
        " u'rockabilly': {u'brill building pop': 0.232323,\n",
        "  u'british invasion': 0.116162,\n",
        "  u'rock-and-roll': 0.722222,\n",
        "  u'rockabilly': 1,\n",
        "  u'traditional rockabilly': 0.106061},\n",
        " u'romanian pop': {u'manele': 0.180995,\n",
        "  u'romanian pop': 1,\n",
        "  u'romanian rock': 0.352941},\n",
        " u'romanian rock': {u'romanian pop': 0.408377, u'romanian rock': 1},\n",
        " u'romantic': {u'avant-garde': 0.219331,\n",
        "  u'baroque': 0.171004,\n",
        "  u'classical': 0.843866,\n",
        "  u'classical christmas': 0.234201,\n",
        "  u'classical period': 0.171004,\n",
        "  u'modern classical': 0.223048,\n",
        "  u'romantic': 1},\n",
        " u'roots reggae': {u'dancehall': 0.454212,\n",
        "  u'dub': 0.659341,\n",
        "  u'lovers rock': 0.344322,\n",
        "  u'reggae': 0.89011,\n",
        "  u'rock steady': 0.139194,\n",
        "  u'roots reggae': 1,\n",
        "  u'world christmas': 0.102564},\n",
        " u'roots rock': {u'album rock': 0.143813,\n",
        "  u'alternative country': 0.397993,\n",
        "  u'blues-rock': 0.153846,\n",
        "  u'classic rock': 0.187291,\n",
        "  u'country rock': 0.451505,\n",
        "  u'cowpunk': 0.381271,\n",
        "  u'folk': 0.304348,\n",
        "  u'folk rock': 0.431438,\n",
        "  u'folk-pop': 0.220736,\n",
        "  u'mellow gold': 0.401338,\n",
        "  u'rock': 0.167224,\n",
        "  u'roots rock': 1,\n",
        "  u'singer-songwriter': 0.528428,\n",
        "  u'soft rock': 0.240803,\n",
        "  u'southern rock': 0.147157,\n",
        "  u'traditional folk': 0.234114},\n",
        " u'rumba': {u'cante flamenco': 0.117647, u'flamenco': 0.637255, u'rumba': 1},\n",
        " u'russian alternative': {u'classic russian rock': 0.117117,\n",
        "  u'russian alternative': 1,\n",
        "  u'russian punk': 0.144144,\n",
        "  u'russian rock': 0.261261},\n",
        " u'russian hip hop': {u'russian hip hop': 1},\n",
        " u'russian pop': {u'classic russian pop': 0.059361,\n",
        "  u'russian pop': 1,\n",
        "  u'russian rock': 0.050228},\n",
        " u'russian punk': {u'classic russian rock': 0.375,\n",
        "  u'russian alternative': 0.117647,\n",
        "  u'russian punk': 1,\n",
        "  u'russian rock': 0.463235},\n",
        " u'russian rock': {u'classic russian rock': 0.655914,\n",
        "  u'russian alternative': 0.155914,\n",
        "  u'russian punk': 0.33871,\n",
        "  u'russian rock': 1},\n",
        " u'rva indie': {u'rva indie': 1},\n",
        " u'salsa': {u'bachata': 0.153846,\n",
        "  u'boogaloo': 0.700405,\n",
        "  u'cuban rumba': 0.125506,\n",
        "  u'hurban': 0.105263,\n",
        "  u'latin jazz': 0.287449,\n",
        "  u'mambo': 0.348178,\n",
        "  u'merengue': 0.307692,\n",
        "  u'salsa': 1,\n",
        "  u'salsa international': 0.234818,\n",
        "  u'tropical': 0.461538,\n",
        "  u'vallenato': 0.101215},\n",
        " u'salsa international': {u'boogaloo': 0.344498,\n",
        "  u'orquesta tropical': 0.172249,\n",
        "  u'salsa': 0.277512,\n",
        "  u'salsa international': 1},\n",
        " u'samba': {u'bossa nova': 0.576923,\n",
        "  u'brazilian pop music': 0.587413,\n",
        "  u'choro': 0.342657,\n",
        "  u'forro': 0.15035,\n",
        "  u'mpb': 0.716783,\n",
        "  u'pagode': 0.164336,\n",
        "  u'samba': 1,\n",
        "  u'velha guarda': 0.486014},\n",
        " u'schlager': {u'discofox': 0.139738, u'schlager': 1, u'volksmusik': 0.406114},\n",
        " u'schranz': {u'acid techno': 0.050209, u'schranz': 1},\n",
        " u'scorecore': {u'scorecore': 1, u'video game music': 0.184615},\n",
        " u'scottish rock': {u'scottish rock': 1},\n",
        " u'scratch': {u'scratch': 1, u'turntablism': 0.156069},\n",
        " u'screamo': {u'christian hardcore': 0.107492,\n",
        "  u'christian metal': 0.107492,\n",
        "  u'emo': 0.205212,\n",
        "  u'melodic metalcore': 0.14658,\n",
        "  u'metalcore': 0.364821,\n",
        "  u'pop punk': 0.198697,\n",
        "  u'post-hardcore': 0.270358,\n",
        "  u'screamo': 1,\n",
        "  u'screamocore': 0.107492},\n",
        " u'screamo punk': {u'indie emo': 0.098291, u'screamo punk': 1},\n",
        " u'screamocore': {u'screamo': 0.152778, u'screamocore': 1},\n",
        " u'seattle indie': {u'seattle indie': 1},\n",
        " u'sega': {u'malagasy folk': 0.056962, u'sega': 1},\n",
        " u'serialism': {u'acousmatic': 0.278539,\n",
        "  u'avant-garde': 0.538813,\n",
        "  u'classical': 0.105023,\n",
        "  u'contemporary classical': 0.488584,\n",
        "  u'minimal': 0.237443,\n",
        "  u'modern classical': 0.570776,\n",
        "  u'modern performance': 0.118721,\n",
        "  u'musique concrete': 0.136986,\n",
        "  u'serialism': 1},\n",
        " u'sertanejo': {u'sertanejo': 1,\n",
        "  u'sertanejo tradicional': 0.676056,\n",
        "  u'sertanejo universitario': 0.723005},\n",
        " u'sertanejo tradicional': {u'sertanejo': 0.64574,\n",
        "  u'sertanejo tradicional': 1,\n",
        "  u'sertanejo universitario': 0.421525},\n",
        " u'sertanejo universitario': {u'axe': 0.145729,\n",
        "  u'pagode': 0.120603,\n",
        "  u'sertanejo': 0.773869,\n",
        "  u'sertanejo tradicional': 0.472362,\n",
        "  u'sertanejo universitario': 1},\n",
        " u'sevdah': {u'chalga': 0.122581, u'sevdah': 1, u'turbo folk': 0.425806},\n",
        " u'sexy': {u'alternative r&b': 0.126005,\n",
        "  u'dance pop': 0.648794,\n",
        "  u'europop': 0.144772,\n",
        "  u'hip pop': 0.364611,\n",
        "  u'neo soul': 0.321716,\n",
        "  u'new jack swing': 0.214477,\n",
        "  u'pop': 0.477212,\n",
        "  u'pop rap': 0.134048,\n",
        "  u'r&b': 0.619303,\n",
        "  u'r-neg-b': 0.174263,\n",
        "  u'sexy': 1,\n",
        "  u'soul christmas': 0.10992,\n",
        "  u'teen pop': 0.179625,\n",
        "  u'urban contemporary': 0.630027},\n",
        " u'shanty': {u'shanty': 1, u'traditional british folk': 0.128205},\n",
        " u'sheffield indie': {u'british indie rock': 0.102804, u'sheffield indie': 1},\n",
        " u'shibuya-kei': {u'j-dance': 0.579618,\n",
        "  u'japanese jazztronica': 0.210191,\n",
        "  u'shibuya-kei': 1},\n",
        " u'shimmer pop': {u'chillwave': 0.15493,\n",
        "  u'indietronica': 0.201878,\n",
        "  u'metropopolis': 0.13615,\n",
        "  u'shimmer pop': 1,\n",
        "  u'shiver pop': 0.201878},\n",
        " u'shimmer psych': {u'chillwave': 0.110048,\n",
        "  u'indie psych-pop': 0.15311,\n",
        "  u'more indie pop': 0.133971,\n",
        "  u'shimmer psych': 1},\n",
        " u'shiver pop': {u'shimmer pop': 0.267081, u'shiver pop': 1},\n",
        " u'shoegaze': {u'alternative rock': 0.114754,\n",
        "  u'dream pop': 0.733607,\n",
        "  u'indie shoegaze': 0.32377,\n",
        "  u'lo-fi': 0.114754,\n",
        "  u'madchester': 0.106557,\n",
        "  u'neo-psychedelic': 0.163934,\n",
        "  u'noise pop': 0.180328,\n",
        "  u'nu gaze': 0.520492,\n",
        "  u'shoegaze': 1,\n",
        "  u'slow core': 0.159836,\n",
        "  u'space rock': 0.168033},\n",
        " u'show tunes': {u'broadway': 0.216814,\n",
        "  u'cabaret': 0.300885,\n",
        "  u'hollywood': 0.318584,\n",
        "  u'show tunes': 1},\n",
        " u'singaporean pop': {u'malaysian pop': 0.057692, u'singaporean pop': 1},\n",
        " u'singer-songwriter': {u'alternative country': 0.147059,\n",
        "  u'british folk': 0.215686,\n",
        "  u'chamber pop': 0.144608,\n",
        "  u'country rock': 0.242647,\n",
        "  u'folk': 0.375,\n",
        "  u'folk christmas': 0.284314,\n",
        "  u'folk rock': 0.492647,\n",
        "  u'folk-pop': 0.465686,\n",
        "  u'lilith': 0.142157,\n",
        "  u'mellow gold': 0.379902,\n",
        "  u'neo mellow': 0.183824,\n",
        "  u'pop rock': 0.139706,\n",
        "  u'roots rock': 0.387255,\n",
        "  u'singer-songwriter': 1,\n",
        "  u'soft rock': 0.259804,\n",
        "  u'traditional folk': 0.32598},\n",
        " u'sinhala': {u'sinhala': 1},\n",
        " u'ska': {u'crack rock steady': 0.187793,\n",
        "  u'euroska': 0.112676,\n",
        "  u'punk ska': 0.140845,\n",
        "  u'ska': 1,\n",
        "  u'ska punk': 0.877934,\n",
        "  u'ska revival': 0.267606,\n",
        "  u'skate punk': 0.13615,\n",
        "  u'traditional ska': 0.13615},\n",
        " u'ska punk': {u'crack rock steady': 0.183406,\n",
        "  u'melodic hardcore': 0.135371,\n",
        "  u'pop punk': 0.131004,\n",
        "  u'punk': 0.152838,\n",
        "  u'punk ska': 0.161572,\n",
        "  u'ska': 0.816594,\n",
        "  u'ska punk': 1,\n",
        "  u'ska revival': 0.170306,\n",
        "  u'skate punk': 0.196507,\n",
        "  u'traditional ska': 0.113537},\n",
        " u'ska revival': {u'euroska': 0.230769,\n",
        "  u'rock steady': 0.181319,\n",
        "  u'ska': 0.313187,\n",
        "  u'ska punk': 0.214286,\n",
        "  u'ska revival': 1,\n",
        "  u'traditional ska': 0.368132},\n",
        " u'skate punk': {u'crossover thrash': 0.30226,\n",
        "  u'hardcore punk': 0.553672,\n",
        "  u'melodic hardcore': 0.440678,\n",
        "  u'more hardcore punk': 0.132768,\n",
        "  u'pop punk': 0.161017,\n",
        "  u'punk': 0.502825,\n",
        "  u'ska punk': 0.127119,\n",
        "  u'skate punk': 1,\n",
        "  u'straight edge': 0.132768,\n",
        "  u'thrash core': 0.141243},\n",
        " u'skiffle': {u'skiffle': 1},\n",
        " u'skinhead oi': {u'oi': 0.217213, u'skinhead oi': 1},\n",
        " u'skinhead reggae': {u'rock steady': 0.420814, u'skinhead reggae': 1},\n",
        " u'skweee': {u'skweee': 1, u'wonky': 0.061856},\n",
        " u'slam death metal': {u'brutal death metal': 0.223077,\n",
        "  u'deathgrind': 0.130769,\n",
        "  u'goregrind': 0.126923,\n",
        "  u'slam death metal': 1,\n",
        "  u'technical brutal death metal': 0.276923,\n",
        "  u'technical death metal': 0.123077},\n",
        " u'slash punk': {u'slash punk': 1, u'thrash core': 0.120192},\n",
        " u'slc indie': {u'slc indie': 1},\n",
        " u'sleaze rock': {u'album rock': 0.14741,\n",
        "  u'glam metal': 0.653386,\n",
        "  u'glam rock': 0.223108,\n",
        "  u'hard glam': 0.398406,\n",
        "  u'hard rock': 0.418327,\n",
        "  u'more melodic hard rock': 0.131474,\n",
        "  u'rock': 0.155378,\n",
        "  u'sleaze rock': 1},\n",
        " u'sleep': {u'environmental': 0.50365, u'meditation': 0.160584, u'sleep': 1},\n",
        " u'slovak hip hop': {u'slovak hip hop': 1, u'slovak pop': 0.134831},\n",
        " u'slovak pop': {u'czech rock': 0.169231,\n",
        "  u'slovak hip hop': 0.123077,\n",
        "  u'slovak pop': 1},\n",
        " u'slovenian rock': {u'slovenian rock': 1},\n",
        " u'slow core': {u'alternative rock': 0.189076,\n",
        "  u'chamber pop': 0.470588,\n",
        "  u'dream pop': 0.201681,\n",
        "  u'folk': 0.142857,\n",
        "  u'freak folk': 0.281513,\n",
        "  u'indie folk': 0.390756,\n",
        "  u'indie pop': 0.226891,\n",
        "  u'indie rock': 0.281513,\n",
        "  u'lo-fi': 0.323529,\n",
        "  u'new weird america': 0.172269,\n",
        "  u'noise pop': 0.159664,\n",
        "  u'post rock': 0.168067,\n",
        "  u'shoegaze': 0.163866,\n",
        "  u'singer-songwriter': 0.159664,\n",
        "  u'slow core': 1,\n",
        "  u'stomp and holler': 0.310924},\n",
        " u'sludge metal': {u'atmospheric post-metal': 0.144531,\n",
        "  u'black sludge': 0.367188,\n",
        "  u'doom metal': 0.339844,\n",
        "  u'drone': 0.214844,\n",
        "  u'post-metal': 0.410156,\n",
        "  u'sludge metal': 1,\n",
        "  u'stoner metal': 0.597656,\n",
        "  u'stoner rock': 0.480469},\n",
        " u'smooth jazz': {u'jazz christmas': 0.35316,\n",
        "  u'jazz funk': 0.163569,\n",
        "  u'more smooth jazz': 0.263941,\n",
        "  u'smooth jazz': 1},\n",
        " u'smooth urban r&b': {u'neo soul-jazz': 0.227468, u'smooth urban r&b': 1},\n",
        " u'soca': {u'calypso': 0.192118, u'soca': 1},\n",
        " u'soda pop': {u'doo-wop': 0.175115, u'soda pop': 1},\n",
        " u'soft rock': {u'album rock': 0.361702,\n",
        "  u'classic rock': 0.221884,\n",
        "  u'country rock': 0.258359,\n",
        "  u'folk': 0.133739,\n",
        "  u'folk christmas': 0.109422,\n",
        "  u'folk rock': 0.364742,\n",
        "  u'folk-pop': 0.197568,\n",
        "  u'glam rock': 0.100304,\n",
        "  u'mellow gold': 0.772036,\n",
        "  u'new wave pop': 0.167173,\n",
        "  u'rock': 0.279635,\n",
        "  u'roots rock': 0.218845,\n",
        "  u'singer-songwriter': 0.322188,\n",
        "  u'soft rock': 1,\n",
        "  u'southern rock': 0.12462,\n",
        "  u'traditional folk': 0.173252},\n",
        " u'soukous': {u'benga': 0.158163,\n",
        "  u'coupe decale': 0.127551,\n",
        "  u'makossa': 0.321429,\n",
        "  u'mande pop': 0.127551,\n",
        "  u'soukous': 1,\n",
        "  u'west african jazz': 0.112245,\n",
        "  u'world': 0.127551,\n",
        "  u'zouglou': 0.173469},\n",
        " u'soul': {u'beach music': 0.120521,\n",
        "  u'chicago soul': 0.547231,\n",
        "  u'classic funk rock': 0.462541,\n",
        "  u'disco': 0.286645,\n",
        "  u'funk': 0.501629,\n",
        "  u'funk rock': 0.368078,\n",
        "  u'jazz blues': 0.18241,\n",
        "  u'memphis soul': 0.586319,\n",
        "  u'motown': 0.758958,\n",
        "  u'northern soul': 0.166124,\n",
        "  u'post-disco': 0.179153,\n",
        "  u'quiet storm': 0.560261,\n",
        "  u'soul': 1,\n",
        "  u'soul blues': 0.429967,\n",
        "  u'soul christmas': 0.247557,\n",
        "  u'southern soul': 0.625407},\n",
        " u'soul blues': {u'blues': 0.402685,\n",
        "  u'chicago blues': 0.45302,\n",
        "  u'chicago soul': 0.352349,\n",
        "  u'country blues': 0.355705,\n",
        "  u'electric blues': 0.416107,\n",
        "  u'jazz blues': 0.486577,\n",
        "  u'louisiana blues': 0.446309,\n",
        "  u'memphis blues': 0.439597,\n",
        "  u'memphis soul': 0.459732,\n",
        "  u'motown': 0.308725,\n",
        "  u'soul': 0.442953,\n",
        "  u'soul blues': 1,\n",
        "  u'southern soul': 0.506711,\n",
        "  u'swamp blues': 0.426174,\n",
        "  u'texas blues': 0.416107,\n",
        "  u'traditional blues': 0.369128},\n",
        " u'soul christmas': {u'chicago soul': 0.251497,\n",
        "  u'classic funk rock': 0.263473,\n",
        "  u'funk': 0.311377,\n",
        "  u'funk rock': 0.203593,\n",
        "  u'memphis soul': 0.263473,\n",
        "  u'motown': 0.413174,\n",
        "  u'neo soul': 0.221557,\n",
        "  u'new jack swing': 0.233533,\n",
        "  u'quiet storm': 0.491018,\n",
        "  u'r&b': 0.293413,\n",
        "  u'sexy': 0.245509,\n",
        "  u'soul': 0.45509,\n",
        "  u'soul blues': 0.275449,\n",
        "  u'soul christmas': 1,\n",
        "  u'southern soul': 0.317365,\n",
        "  u'urban contemporary': 0.383234},\n",
        " u'soul flow': {u'alternative hip hop': 0.166008,\n",
        "  u'east coast hip hop': 0.134387,\n",
        "  u'hip hop': 0.114625,\n",
        "  u'soul flow': 1,\n",
        "  u'underground hip hop': 0.205534,\n",
        "  u'underground rap': 0.16996},\n",
        " u'soul jazz': {u'bebop': 0.520325,\n",
        "  u'big band': 0.158537,\n",
        "  u'contemporary post-bop': 0.48374,\n",
        "  u'cool jazz': 0.455285,\n",
        "  u'hard bop': 0.617886,\n",
        "  u'jazz': 0.455285,\n",
        "  u'jazz christmas': 0.154472,\n",
        "  u'jazz funk': 0.422764,\n",
        "  u'jazz fusion': 0.146341,\n",
        "  u'soul jazz': 1},\n",
        " u'soundtrack': {u'more soundtrack': 0.167969, u'soundtrack': 1},\n",
        " u'south african jazz': {u'kwaito': 0.552083, u'south african jazz': 1},\n",
        " u'southern gospel': {u'country christmas': 0.168033,\n",
        "  u'country gospel': 0.491803,\n",
        "  u'southern gospel': 1},\n",
        " u'southern hip hop': {u'alternative hip hop': 0.222222,\n",
        "  u'crunk': 0.884921,\n",
        "  u'dirty south rap': 0.876984,\n",
        "  u'gangster rap': 0.464286,\n",
        "  u'hip hop': 0.253968,\n",
        "  u'hip pop': 0.142857,\n",
        "  u'jerk': 0.162698,\n",
        "  u'juggalo': 0.154762,\n",
        "  u'memphis hip hop': 0.178571,\n",
        "  u'pop rap': 0.769841,\n",
        "  u'rap': 0.126984,\n",
        "  u'southern hip hop': 1,\n",
        "  u'trap music': 0.845238},\n",
        " u'southern rock': {u'album rock': 0.343284,\n",
        "  u'blues-rock': 0.492537,\n",
        "  u'british blues': 0.273632,\n",
        "  u'classic rock': 0.547264,\n",
        "  u'country rock': 0.353234,\n",
        "  u'electric blues': 0.223881,\n",
        "  u'folk rock': 0.169154,\n",
        "  u'hard rock': 0.199005,\n",
        "  u'mellow gold': 0.328358,\n",
        "  u'modern blues': 0.248756,\n",
        "  u'modern southern rock': 0.18408,\n",
        "  u'psychedelic rock': 0.169154,\n",
        "  u'rock': 0.373134,\n",
        "  u'roots rock': 0.218905,\n",
        "  u'soft rock': 0.20398,\n",
        "  u'southern rock': 1},\n",
        " u'southern soul': {u'beach music': 0.162879,\n",
        "  u'chicago soul': 0.632576,\n",
        "  u'classic funk rock': 0.242424,\n",
        "  u'funk': 0.223485,\n",
        "  u'funk rock': 0.189394,\n",
        "  u'jazz blues': 0.253788,\n",
        "  u'memphis soul': 0.814394,\n",
        "  u'more southern soul': 0.121212,\n",
        "  u'motown': 0.556818,\n",
        "  u'new orleans blues': 0.121212,\n",
        "  u'northern soul': 0.231061,\n",
        "  u'quiet storm': 0.287879,\n",
        "  u'soul': 0.727273,\n",
        "  u'soul blues': 0.57197,\n",
        "  u'soul christmas': 0.200758,\n",
        "  u'southern soul': 1},\n",
        " u'space rock': {u'alternative rock': 0.147727,\n",
        "  u'art rock': 0.284091,\n",
        "  u'canterbury scene': 0.272727,\n",
        "  u'dream pop': 0.151515,\n",
        "  u'experimental': 0.128788,\n",
        "  u'kraut rock': 0.189394,\n",
        "  u'neo-psychedelic': 0.291667,\n",
        "  u'noise pop': 0.166667,\n",
        "  u'nu gaze': 0.159091,\n",
        "  u'progressive rock': 0.268939,\n",
        "  u'psychedelic rock': 0.140152,\n",
        "  u'shoegaze': 0.155303,\n",
        "  u'space rock': 1,\n",
        "  u'stoner metal': 0.189394,\n",
        "  u'stoner rock': 0.246212,\n",
        "  u'symphonic rock': 0.261364},\n",
        " u'spanish classical': {u'spanish classical': 1},\n",
        " u'spanish folk': {u'galego': 0.433071, u'spanish folk': 1},\n",
        " u'spanish hip hop': {u'spanish hip hop': 1},\n",
        " u'spanish indie pop': {u'spanish indie pop': 1,\n",
        "  u'spanish indie rock': 0.05814},\n",
        " u'spanish indie rock': {u'spanish indie pop': 0.144231,\n",
        "  u'spanish indie rock': 1},\n",
        " u'spanish invasion': {u'spanish invasion': 1},\n",
        " u'spanish pop': {u'cantautor': 0.186508,\n",
        "  u'hurban': 0.18254,\n",
        "  u'latin': 0.34127,\n",
        "  u'latin pop': 0.333333,\n",
        "  u'rock en espanol': 0.126984,\n",
        "  u'spanish pop': 1,\n",
        "  u'spanish pop rock': 0.22619},\n",
        " u'spanish pop rock': {u'latin': 0.121951,\n",
        "  u'latin pop': 0.115854,\n",
        "  u'spanish pop': 0.347561,\n",
        "  u'spanish pop rock': 1},\n",
        " u'spanish punk': {u'basque rock': 0.146789, u'spanish punk': 1},\n",
        " u'speed garage': {u'bassline': 0.21875,\n",
        "  u'speed garage': 1,\n",
        "  u'uk garage': 0.65625},\n",
        " u'speed metal': {u'crossover thrash': 0.236364,\n",
        "  u'death metal': 0.124242,\n",
        "  u'german metal': 0.172727,\n",
        "  u'groove metal': 0.309091,\n",
        "  u'metal': 0.590909,\n",
        "  u'neo classical metal': 0.254545,\n",
        "  u'neo-trad metal': 0.148485,\n",
        "  u'nwobhm': 0.184848,\n",
        "  u'power metal': 0.372727,\n",
        "  u'progressive metal': 0.290909,\n",
        "  u'speed metal': 1,\n",
        "  u'thrash metal': 0.621212},\n",
        " u'speedcore': {u'doomcore': 0.357798,\n",
        "  u'gabba': 0.279817,\n",
        "  u'hardcore techno': 0.247706,\n",
        "  u'speedcore': 1},\n",
        " u'spoken word': {u'spoken word': 1},\n",
        " u'spytrack': {u'classic soundtrack': 0.12766, u'spytrack': 1},\n",
        " u'steampunk': {u'dark cabaret': 0.691176,\n",
        "  u'dark wave': 0.169118,\n",
        "  u'steampunk': 1},\n",
        " u'steelpan': {u'calypso': 0.0625, u'steelpan': 1},\n",
        " u'stl indie': {u'stl indie': 1},\n",
        " u'stomp and flutter': {u'stomp and flutter': 1,\n",
        "  u'stomp and holler': 0.125749},\n",
        " u'stomp and holler': {u'anti-folk': 0.108911,\n",
        "  u'chamber pop': 0.462046,\n",
        "  u'folk': 0.207921,\n",
        "  u'folk christmas': 0.122112,\n",
        "  u'folk-pop': 0.290429,\n",
        "  u'freak folk': 0.320132,\n",
        "  u'indie christmas': 0.118812,\n",
        "  u'indie folk': 0.686469,\n",
        "  u'indie pop': 0.366337,\n",
        "  u'indie rock': 0.29703,\n",
        "  u'lo-fi': 0.244224,\n",
        "  u'new weird america': 0.174917,\n",
        "  u'singer-songwriter': 0.138614,\n",
        "  u'slow core': 0.244224,\n",
        "  u'stomp and holler': 1},\n",
        " u'stomp and whittle': {u'stomp and whittle': 1, u'stomp pop': 0.124402},\n",
        " u'stomp pop': {u'chamber pop': 0.10596,\n",
        "  u'indie pop': 0.225166,\n",
        "  u'indie rock': 0.198675,\n",
        "  u'lo-fi': 0.165563,\n",
        "  u'stomp and holler': 0.125828,\n",
        "  u'stomp and whittle': 0.172185,\n",
        "  u'stomp pop': 1},\n",
        " u'stoner metal': {u'black sludge': 0.214008,\n",
        "  u'doom metal': 0.404669,\n",
        "  u'drone': 0.143969,\n",
        "  u'post-metal': 0.22179,\n",
        "  u'retro metal': 0.171206,\n",
        "  u'sludge metal': 0.595331,\n",
        "  u'space rock': 0.194553,\n",
        "  u'stoner metal': 1,\n",
        "  u'stoner rock': 0.840467},\n",
        " u'stoner rock': {u'black sludge': 0.137546,\n",
        "  u'doom metal': 0.356877,\n",
        "  u'post-metal': 0.144981,\n",
        "  u'retro metal': 0.204461,\n",
        "  u'sludge metal': 0.457249,\n",
        "  u'space rock': 0.241636,\n",
        "  u'stoner metal': 0.802974,\n",
        "  u'stoner rock': 1},\n",
        " u'straight edge': {u'crossover thrash': 0.193916,\n",
        "  u'hardcore': 0.444867,\n",
        "  u'hardcore punk': 0.212928,\n",
        "  u'melodic hardcore': 0.1673,\n",
        "  u'more hardcore': 0.125475,\n",
        "  u'punk': 0.13308,\n",
        "  u'skate punk': 0.178707,\n",
        "  u'straight edge': 1,\n",
        "  u'thrash core': 0.117871,\n",
        "  u'vegan straight edge': 0.338403},\n",
        " u'street punk': {u'oi': 0.175676, u'street punk': 1},\n",
        " u'stride': {u'bebop': 0.239362,\n",
        "  u'big band': 0.388298,\n",
        "  u'contemporary post-bop': 0.202128,\n",
        "  u'cool jazz': 0.287234,\n",
        "  u'hard bop': 0.218085,\n",
        "  u'jazz': 0.228723,\n",
        "  u'jazz christmas': 0.111702,\n",
        "  u'new orleans jazz': 0.367021,\n",
        "  u'ragtime': 0.388298,\n",
        "  u'soul jazz': 0.111702,\n",
        "  u'stride': 1,\n",
        "  u'swing': 0.351064},\n",
        " u'string folk': {u'celtic': 0.102564,\n",
        "  u'classical christmas': 0.119658,\n",
        "  u'harp': 0.17094,\n",
        "  u'neo-pagan': 0.111111,\n",
        "  u'string folk': 1},\n",
        " u'string quartet': {u'classical performance': 0.116788,\n",
        "  u'more string quartet': 0.364964,\n",
        "  u'string quartet': 1},\n",
        " u'sunset lounge': {u'sunset lounge': 1},\n",
        " u'suomi rock': {u'classic finnish rock': 0.153191,\n",
        "  u'finnish indie': 0.182979,\n",
        "  u'finnish pop': 0.26383,\n",
        "  u'suomi rock': 1},\n",
        " u'surf music': {u'more surf music': 0.324561, u'surf music': 1},\n",
        " u'swamp blues': {u'acoustic blues': 0.434783,\n",
        "  u'blues': 0.55336,\n",
        "  u'chicago blues': 0.671937,\n",
        "  u'country blues': 0.529644,\n",
        "  u'delta blues': 0.418972,\n",
        "  u'electric blues': 0.608696,\n",
        "  u'harmonica blues': 0.581028,\n",
        "  u'jazz blues': 0.300395,\n",
        "  u'louisiana blues': 0.798419,\n",
        "  u'memphis blues': 0.529644,\n",
        "  u'modern blues': 0.442688,\n",
        "  u'piano blues': 0.347826,\n",
        "  u'soul blues': 0.501976,\n",
        "  u'swamp blues': 1,\n",
        "  u'texas blues': 0.656126,\n",
        "  u'traditional blues': 0.509881},\n",
        " u'swamp pop': {u'cajun': 0.43609,\n",
        "  u'new orleans blues': 0.105263,\n",
        "  u'swamp pop': 1,\n",
        "  u'zydeco': 0.496241},\n",
        " u'swedish hip hop': {u'swedish hip hop': 1},\n",
        " u'swedish indie pop': {u'swedish indie pop': 1,\n",
        "  u'swedish indie rock': 0.364035},\n",
        " u'swedish indie rock': {u'classic swedish pop': 0.105528,\n",
        "  u'swedish indie pop': 0.417085,\n",
        "  u'swedish indie rock': 1},\n",
        " u'swedish jazz': {u'swedish jazz': 1},\n",
        " u'swedish pop': {u'classic swedish pop': 0.211207, u'swedish pop': 1},\n",
        " u'swedish pop punk': {u'swedish pop punk': 1, u'swedish punk': 0.370588},\n",
        " u'swedish punk': {u'swedish pop punk': 0.295775, u'swedish punk': 1},\n",
        " u'swedish soft pop': {u'swedish soft pop': 1},\n",
        " u'swing': {u'adult standards': 0.199153,\n",
        "  u'big band': 0.70339,\n",
        "  u'cabaret': 0.169492,\n",
        "  u'christmas': 0.233051,\n",
        "  u'lounge': 0.169492,\n",
        "  u'new orleans jazz': 0.402542,\n",
        "  u'ragtime': 0.207627,\n",
        "  u'stride': 0.279661,\n",
        "  u'swing': 1,\n",
        "  u'vocal jazz': 0.152542},\n",
        " u'swiss folk': {u'swiss folk': 1,\n",
        "  u'swiss hip hop': 0.167939,\n",
        "  u'swiss rock': 0.198473,\n",
        "  u'volksmusik': 0.10687,\n",
        "  u'zillertal': 0.198473},\n",
        " u'swiss hip hop': {u'swiss folk': 0.103286,\n",
        "  u'swiss hip hop': 1,\n",
        "  u'swiss rock': 0.300469},\n",
        " u'swiss rock': {u'swiss folk': 0.123223,\n",
        "  u'swiss hip hop': 0.303318,\n",
        "  u'swiss rock': 1},\n",
        " u'symphonic black metal': {u'atmospheric black metal': 0.131356,\n",
        "  u'avantgarde metal': 0.330508,\n",
        "  u'black metal': 0.5,\n",
        "  u'death metal': 0.131356,\n",
        "  u'folk metal': 0.245763,\n",
        "  u'melodic death metal': 0.182203,\n",
        "  u'metal': 0.139831,\n",
        "  u'more symphonic black metal': 0.313559,\n",
        "  u'pagan black metal': 0.427966,\n",
        "  u'symphonic black metal': 1,\n",
        "  u'viking metal': 0.309322},\n",
        " u'symphonic metal': {u'fallen angel': 0.177165,\n",
        "  u'gothic metal': 0.724409,\n",
        "  u'gothic symphonic metal': 0.862205,\n",
        "  u'neo classical metal': 0.102362,\n",
        "  u'power metal': 0.153543,\n",
        "  u'progressive metal': 0.122047,\n",
        "  u'symphonic metal': 1},\n",
        " u'symphonic rock': {u'album rock': 0.17284,\n",
        "  u'art rock': 0.580247,\n",
        "  u'canterbury scene': 0.45679,\n",
        "  u'italian progressive rock': 0.139918,\n",
        "  u'kraut rock': 0.148148,\n",
        "  u'neo-progressive': 0.358025,\n",
        "  u'progressive rock': 0.897119,\n",
        "  u'psychedelic rock': 0.139918,\n",
        "  u'rock': 0.102881,\n",
        "  u'space rock': 0.283951,\n",
        "  u'symphonic rock': 1},\n",
        " u'synthpop': {u'alternative dance': 0.399497,\n",
        "  u'dance rock': 0.417085,\n",
        "  u'dance-punk': 0.253769,\n",
        "  u'electroclash': 0.208543,\n",
        "  u'indietronica': 0.369347,\n",
        "  u'metropopolis': 0.110553,\n",
        "  u'new rave': 0.336683,\n",
        "  u'new romantic': 0.427136,\n",
        "  u'new wave': 0.422111,\n",
        "  u'new wave pop': 0.30402,\n",
        "  u'pop': 0.115578,\n",
        "  u'synthpop': 1},\n",
        " u'taiwanese pop': {u'c-pop': 0.259574,\n",
        "  u'cantopop': 0.259574,\n",
        "  u'classic chinese pop': 0.221277,\n",
        "  u'mandopop': 0.714894,\n",
        "  u'taiwanese pop': 1},\n",
        " u'talent show': {u'dance pop': 0.139037,\n",
        "  u'europop': 0.13369,\n",
        "  u'pop': 0.192513,\n",
        "  u'talent show': 1},\n",
        " u'tamil': {u'filmi': 0.227545,\n",
        "  u'gujarati': 0.167665,\n",
        "  u'indian pop': 0.167665,\n",
        "  u'kannada': 0.736527,\n",
        "  u'malayalam': 0.694611,\n",
        "  u'tamil': 1,\n",
        "  u'telugu': 0.730539},\n",
        " u'tango': {u'orquesta tipica': 0.217778,\n",
        "  u'tango': 1,\n",
        "  u'vintage tango': 0.377778},\n",
        " u'tech house': {u'deeper house': 0.198529,\n",
        "  u'german techno': 0.257353,\n",
        "  u'microhouse': 0.305147,\n",
        "  u'minimal techno': 0.584559,\n",
        "  u'progressive house': 0.136029,\n",
        "  u'tech house': 1,\n",
        "  u'techno': 0.128676},\n",
        " u'technical brutal death metal': {u'brutal death metal': 0.32287,\n",
        "  u'deathgrind': 0.130045,\n",
        "  u'slam death metal': 0.32287,\n",
        "  u'technical brutal death metal': 1,\n",
        "  u'technical death metal': 0.295964},\n",
        " u'technical death metal': {u'brutal death metal': 0.837838,\n",
        "  u'death core': 0.177606,\n",
        "  u'death metal': 0.625483,\n",
        "  u'deathgrind': 0.617761,\n",
        "  u'goregrind': 0.285714,\n",
        "  u'grindcore': 0.335907,\n",
        "  u'jazz metal': 0.158301,\n",
        "  u'melodic death metal': 0.108108,\n",
        "  u'slam death metal': 0.123552,\n",
        "  u'technical brutal death metal': 0.254826,\n",
        "  u'technical death metal': 1},\n",
        " u'techno': {u'acid house': 0.176,\n",
        "  u'detroit techno': 0.82,\n",
        "  u'microhouse': 0.112,\n",
        "  u'minimal techno': 0.204,\n",
        "  u'tech house': 0.14,\n",
        "  u'techno': 1},\n",
        " u'teen pop': {u'dance pop': 0.394636,\n",
        "  u'europop': 0.172414,\n",
        "  u'pop': 0.471264,\n",
        "  u'pop rock': 0.141762,\n",
        "  u'sexy': 0.256705,\n",
        "  u'teen pop': 1},\n",
        " u'tejano': {u'grupera': 0.067308,\n",
        "  u'norteno': 0.072115,\n",
        "  u'regional mexican': 0.057692,\n",
        "  u'tejano': 1},\n",
        " u'tekno': {u'speedcore': 0.067265, u'tekno': 1},\n",
        " u'telugu': {u'filmi': 0.272727,\n",
        "  u'gujarati': 0.206061,\n",
        "  u'indian pop': 0.206061,\n",
        "  u'kannada': 0.751515,\n",
        "  u'malayalam': 0.618182,\n",
        "  u'tamil': 0.739394,\n",
        "  u'telugu': 1},\n",
        " u'terrorcore': {u'terrorcore': 1},\n",
        " u'texas blues': {u'acoustic blues': 0.417722,\n",
        "  u'blues': 0.537975,\n",
        "  u'blues-rock': 0.31962,\n",
        "  u'british blues': 0.313291,\n",
        "  u'chicago blues': 0.560127,\n",
        "  u'country blues': 0.518987,\n",
        "  u'delta blues': 0.392405,\n",
        "  u'electric blues': 0.787975,\n",
        "  u'harmonica blues': 0.344937,\n",
        "  u'louisiana blues': 0.5,\n",
        "  u'memphis blues': 0.449367,\n",
        "  u'modern blues': 0.683544,\n",
        "  u'soul blues': 0.392405,\n",
        "  u'swamp blues': 0.525316,\n",
        "  u'texas blues': 1,\n",
        "  u'traditional blues': 0.512658},\n",
        " u'texas country': {u'alternative country': 0.256198,\n",
        "  u'country rock': 0.157025,\n",
        "  u'cowpunk': 0.231405,\n",
        "  u'outlaw country': 0.797521,\n",
        "  u'roots rock': 0.128099,\n",
        "  u'texas country': 1,\n",
        "  u'traditional country': 0.152893},\n",
        " u'thai pop': {u'thai pop': 1},\n",
        " u'thrash core': {u'anarcho-punk': 0.102703,\n",
        "  u'crossover thrash': 0.351351,\n",
        "  u'crust punk': 0.291892,\n",
        "  u'hardcore punk': 0.27027,\n",
        "  u'power violence': 0.578378,\n",
        "  u'punk': 0.124324,\n",
        "  u'skate punk': 0.27027,\n",
        "  u'slash punk': 0.135135,\n",
        "  u'straight edge': 0.167568,\n",
        "  u'thrash core': 1},\n",
        " u'thrash metal': {u'black thrash': 0.117188,\n",
        "  u'crossover thrash': 0.351563,\n",
        "  u'death metal': 0.191406,\n",
        "  u'groove metal': 0.414063,\n",
        "  u'metal': 0.519531,\n",
        "  u'nwobhm': 0.144531,\n",
        "  u'speed metal': 0.800781,\n",
        "  u'thrash metal': 1},\n",
        " u'thrash-groove metal': {u'thrash-groove metal': 1},\n",
        " u'throat singing': {u'throat singing': 1, u'tibetan': 0.070968},\n",
        " u'tibetan': {u'throat singing': 0.072848, u'tibetan': 1},\n",
        " u'tico': {u'tico': 1},\n",
        " u'tin pan alley': {u'cabaret': 0.145038, u'tin pan alley': 1},\n",
        " u'traditional blues': {u'acoustic blues': 0.796117,\n",
        "  u'blues': 0.802589,\n",
        "  u'chicago blues': 0.673139,\n",
        "  u'country blues': 0.572816,\n",
        "  u'delta blues': 0.84466,\n",
        "  u'electric blues': 0.466019,\n",
        "  u'harmonica blues': 0.326861,\n",
        "  u'jazz blues': 0.349515,\n",
        "  u'louisiana blues': 0.453074,\n",
        "  u'memphis blues': 0.71521,\n",
        "  u'piano blues': 0.401294,\n",
        "  u'piedmont blues': 0.566343,\n",
        "  u'soul blues': 0.355987,\n",
        "  u'swamp blues': 0.417476,\n",
        "  u'texas blues': 0.524272,\n",
        "  u'traditional blues': 1},\n",
        " u'traditional british folk': {u'british folk': 0.190871,\n",
        "  u'traditional british folk': 1},\n",
        " u'traditional country': {u'country': 0.234615,\n",
        "  u'country christmas': 0.415385,\n",
        "  u'country gospel': 0.723077,\n",
        "  u'country rock': 0.161538,\n",
        "  u'cowboy western': 0.623077,\n",
        "  u'nashville sound': 0.85,\n",
        "  u'outlaw country': 0.353846,\n",
        "  u'texas country': 0.142308,\n",
        "  u'traditional country': 1,\n",
        "  u'western swing': 0.446154},\n",
        " u'traditional folk': {u'british folk': 0.357143,\n",
        "  u'contemporary folk': 0.101504,\n",
        "  u'country rock': 0.244361,\n",
        "  u'folk': 0.609023,\n",
        "  u'folk christmas': 0.304511,\n",
        "  u'folk rock': 0.541353,\n",
        "  u'folk-pop': 0.349624,\n",
        "  u'mellow gold': 0.315789,\n",
        "  u'roots rock': 0.263158,\n",
        "  u'singer-songwriter': 0.5,\n",
        "  u'soft rock': 0.214286,\n",
        "  u'traditional folk': 1},\n",
        " u'traditional funk': {u'deep funk': 0.065089, u'traditional funk': 1},\n",
        " u'traditional irish folk': {u'irish folk': 0.057471,\n",
        "  u'traditional irish folk': 1},\n",
        " u'traditional reggae': {u'traditional reggae': 1},\n",
        " u\"traditional rock 'n roll\": {u'dutch pop': 0.073864,\n",
        "  u\"traditional rock 'n roll\": 1},\n",
        " u'traditional rockabilly': {u'rhythm and boogie': 0.2891,\n",
        "  u'traditional rockabilly': 1,\n",
        "  u'vintage rockabilly': 0.189573},\n",
        " u'traditional scottish folk': {u'ceilidh': 0.141732,\n",
        "  u'pipe band': 0.346457,\n",
        "  u'traditional scottish folk': 1},\n",
        " u'traditional ska': {u'euroska': 0.123153,\n",
        "  u'ska': 0.142857,\n",
        "  u'ska punk': 0.128079,\n",
        "  u'ska revival': 0.330049,\n",
        "  u'traditional ska': 1},\n",
        " u'traditional soul': {u'traditional soul': 1},\n",
        " u'traditional swing': {u'traditional swing': 1},\n",
        " u'trance': {u'more progressive trance': 0.118959,\n",
        "  u'more uplifting trance': 0.141264,\n",
        "  u'progressive house': 0.460967,\n",
        "  u'progressive trance': 0.933086,\n",
        "  u'trance': 1,\n",
        "  u'uplifting trance': 0.817844},\n",
        " u'trance hop': {u'downtempo fusion': 0.241803, u'trance hop': 1},\n",
        " u'trap music': {u'alternative hip hop': 0.331169,\n",
        "  u'crunk': 0.63961,\n",
        "  u'deep trap': 0.146104,\n",
        "  u'dirty south rap': 0.649351,\n",
        "  u'gangster rap': 0.363636,\n",
        "  u'hip hop': 0.246753,\n",
        "  u'jerk': 0.165584,\n",
        "  u'juggalo': 0.11039,\n",
        "  u'memphis hip hop': 0.142857,\n",
        "  u'pop rap': 0.649351,\n",
        "  u'rap': 0.107143,\n",
        "  u'southern hip hop': 0.691558,\n",
        "  u'trap music': 1},\n",
        " u'trapstep': {u'footwork': 0.243478,\n",
        "  u'future garage': 0.313043,\n",
        "  u'moombahton': 0.104348,\n",
        "  u'trapstep': 1},\n",
        " u'trash rock': {u'garage rock': 0.190789,\n",
        "  u'punk blues': 0.190789,\n",
        "  u'trash rock': 1},\n",
        " u'triangle indie': {u'triangle indie': 1},\n",
        " u'tribal house': {u'disco house': 0.272727,\n",
        "  u'edm': 0.142857,\n",
        "  u'electro house': 0.11039,\n",
        "  u'house': 0.285714,\n",
        "  u'more vocal house': 0.103896,\n",
        "  u'progressive house': 0.292208,\n",
        "  u'tech house': 0.116883,\n",
        "  u'tribal house': 1,\n",
        "  u'vocal house': 0.480519},\n",
        " u'tribute': {u'tribute': 1},\n",
        " u'trip hop': {u'acid jazz': 0.370518,\n",
        "  u'big beat': 0.358566,\n",
        "  u'chill-out': 0.729084,\n",
        "  u'downtempo': 0.792829,\n",
        "  u'electronic': 0.438247,\n",
        "  u'lounge': 0.199203,\n",
        "  u'ninja': 0.545817,\n",
        "  u'nu jazz': 0.561753,\n",
        "  u'trip hop': 1,\n",
        "  u'turntablism': 0.342629},\n",
        " u'tropical': {u'bachata': 0.378906,\n",
        "  u'boogaloo': 0.285156,\n",
        "  u'hurban': 0.605469,\n",
        "  u'latin': 0.109375,\n",
        "  u'latin hip hop': 0.265625,\n",
        "  u'mambo': 0.125,\n",
        "  u'merengue': 0.449219,\n",
        "  u'reggaeton': 0.347656,\n",
        "  u'salsa': 0.445313,\n",
        "  u'tropical': 1},\n",
        " u'trova': {u'cantautor': 0.34188, u'nueva cancion': 0.324786, u'trova': 1},\n",
        " u'turbo folk': {u'chalga': 0.153509, u'sevdah': 0.289474, u'turbo folk': 1},\n",
        " u'turkish alternative': {u'turkish alternative': 1,\n",
        "  u'turkish pop': 0.111628,\n",
        "  u'turkish rock': 0.469767},\n",
        " u'turkish classical': {u'turkish classical': 1, u'turkish folk': 0.255208},\n",
        " u'turkish folk': {u'arabesk': 0.125,\n",
        "  u'turkish classical': 0.226852,\n",
        "  u'turkish folk': 1,\n",
        "  u'turkish pop': 0.166667,\n",
        "  u'turkish rock': 0.134259},\n",
        " u'turkish pop': {u'arabesk': 0.199288,\n",
        "  u'classic turkish pop': 0.206406,\n",
        "  u'more turkish pop': 0.437722,\n",
        "  u'turkish folk': 0.128114,\n",
        "  u'turkish pop': 1,\n",
        "  u'turkish rock': 0.41637},\n",
        " u'turkish rock': {u'turkish alternative': 0.386973,\n",
        "  u'turkish folk': 0.111111,\n",
        "  u'turkish pop': 0.448276,\n",
        "  u'turkish rock': 1},\n",
        " u'turntablism': {u'abstract hip hop': 0.153191,\n",
        "  u'acid jazz': 0.144681,\n",
        "  u'alternative hip hop': 0.187234,\n",
        "  u'big beat': 0.174468,\n",
        "  u'chill-out': 0.195745,\n",
        "  u'downtempo': 0.293617,\n",
        "  u'east coast hip hop': 0.174468,\n",
        "  u'electronic': 0.13617,\n",
        "  u'hardcore hip hop': 0.140426,\n",
        "  u'hip hop': 0.246809,\n",
        "  u'ninja': 0.412766,\n",
        "  u'nu jazz': 0.246809,\n",
        "  u'rap': 0.140426,\n",
        "  u'trip hop': 0.365957,\n",
        "  u'turntablism': 1,\n",
        "  u'underground hip hop': 0.331915},\n",
        " u'twee indie pop': {u'c86': 0.17,\n",
        "  u'indie fuzzpop': 0.235,\n",
        "  u'twee indie pop': 1,\n",
        "  u'twee pop': 0.16},\n",
        " u'twee pop': {u'c86': 0.747967,\n",
        "  u'indie fuzzpop': 0.304878,\n",
        "  u'twee indie pop': 0.130081,\n",
        "  u'twee pop': 1},\n",
        " u'twin cities indie': {u'twin cities indie': 1},\n",
        " u'tzadik': {u'acousmatic': 0.142857,\n",
        "  u'avant-garde': 0.142857,\n",
        "  u'avant-garde jazz': 0.142857,\n",
        "  u'drone': 0.133929,\n",
        "  u'free improvisation': 0.223214,\n",
        "  u'free jazz': 0.133929,\n",
        "  u'minimal': 0.178571,\n",
        "  u'modern classical': 0.125,\n",
        "  u'musique concrete': 0.125,\n",
        "  u'tzadik': 1},\n",
        " u'uk dub': {u'electro dub': 0.178808, u'uk dub': 1},\n",
        " u'uk garage': {u'bassline': 0.161972,\n",
        "  u'grime': 0.140845,\n",
        "  u'speed garage': 0.739437,\n",
        "  u'uk garage': 1},\n",
        " u'uk hip hop': {u'grime': 0.156379, u'uk hip hop': 1},\n",
        " u'uk post-punk': {u'art rock': 0.114068,\n",
        "  u'dance rock': 0.243346,\n",
        "  u'experimental': 0.171103,\n",
        "  u'experimental rock': 0.269962,\n",
        "  u'glam rock': 0.102662,\n",
        "  u'gothic rock': 0.209125,\n",
        "  u'new romantic': 0.171103,\n",
        "  u'new wave': 0.376426,\n",
        "  u'no wave': 0.452471,\n",
        "  u'post-punk': 0.730038,\n",
        "  u'protopunk': 0.152091,\n",
        "  u'uk post-punk': 1},\n",
        " u'ukrainian rock': {u'russian pop': 0.058824,\n",
        "  u'russian rock': 0.058824,\n",
        "  u'ukrainian rock': 1},\n",
        " u'ukulele': {u'hawaiian': 0.203704, u'ukulele': 1},\n",
        " u'unblack metal': {u'christian metal': 0.185484, u'unblack metal': 1},\n",
        " u'underground hip hop': {u'abstract hip hop': 0.301003,\n",
        "  u'alternative hip hop': 0.397993,\n",
        "  u'east coast hip hop': 0.377926,\n",
        "  u'hardcore hip hop': 0.317726,\n",
        "  u'hip hop': 0.468227,\n",
        "  u'old school hip hop': 0.227425,\n",
        "  u'rap': 0.294314,\n",
        "  u'soul flow': 0.173913,\n",
        "  u'turntablism': 0.26087,\n",
        "  u'underground hip hop': 1},\n",
        " u'underground latin hip hop': {u'chicano rap': 0.128788,\n",
        "  u'latin hip hop': 0.128788,\n",
        "  u'underground latin hip hop': 1},\n",
        " u'underground pop rap': {u'alternative hip hop': 0.1,\n",
        "  u'underground pop rap': 1},\n",
        " u'underground power pop': {u'jangle pop': 0.25641,\n",
        "  u'power pop': 0.213675,\n",
        "  u'underground power pop': 1},\n",
        " u'underground rap': {u'abstract hip hop': 0.236025,\n",
        "  u'flick hop': 0.180124,\n",
        "  u'outer hip hop': 0.149068,\n",
        "  u'soul flow': 0.267081,\n",
        "  u'underground hip hop': 0.167702,\n",
        "  u'underground rap': 1},\n",
        " u'uplifting trance': {u'more uplifting trance': 0.152824,\n",
        "  u'progressive house': 0.378738,\n",
        "  u'progressive trance': 0.767442,\n",
        "  u'trance': 0.730897,\n",
        "  u'uplifting trance': 1},\n",
        " u'urban contemporary': {u'alternative r&b': 0.111413,\n",
        "  u'dance pop': 0.36413,\n",
        "  u'hip pop': 0.423913,\n",
        "  u'neo soul': 0.399457,\n",
        "  u'new jack swing': 0.459239,\n",
        "  u'pop': 0.225543,\n",
        "  u'quiet storm': 0.279891,\n",
        "  u'r&b': 0.790761,\n",
        "  u'r-neg-b': 0.144022,\n",
        "  u'sexy': 0.638587,\n",
        "  u'soul christmas': 0.173913,\n",
        "  u'urban contemporary': 1},\n",
        " u'vallenato': {u'colombian rock': 0.141553,\n",
        "  u'cumbia': 0.114155,\n",
        "  u'salsa': 0.114155,\n",
        "  u'vallenato': 1},\n",
        " u'vaporwave': {u'chillwave': 0.131783,\n",
        "  u'grave wave': 0.131783,\n",
        "  u'hauntology': 0.131783,\n",
        "  u'vaporwave': 1,\n",
        "  u'witch house': 0.116279},\n",
        " u'vegan straight edge': {u'hardcore': 0.240175,\n",
        "  u'straight edge': 0.388646,\n",
        "  u'vegan straight edge': 1},\n",
        " u'vegas indie': {u'vegas indie': 1},\n",
        " u'velha guarda': {u'bossa nova': 0.328889,\n",
        "  u'brazilian pop music': 0.253333,\n",
        "  u'choro': 0.448889,\n",
        "  u'forro': 0.155556,\n",
        "  u'mpb': 0.328889,\n",
        "  u'pagode': 0.182222,\n",
        "  u'samba': 0.617778,\n",
        "  u'velha guarda': 1},\n",
        " u'venezuelan rock': {u'classic venezuelan pop': 0.19171,\n",
        "  u'venezuelan rock': 1},\n",
        " u'video game music': {u'gamecore': 0.207048,\n",
        "  u'scorecore': 0.105727,\n",
        "  u'video game music': 1},\n",
        " u'vienna indie': {u'austropop': 0.05641, u'vienna indie': 1},\n",
        " u'vietnamese pop': {u'vietnamese pop': 1},\n",
        " u'viking metal': {u'avantgarde metal': 0.196,\n",
        "  u'black metal': 0.312,\n",
        "  u'death metal': 0.112,\n",
        "  u'folk metal': 0.836,\n",
        "  u'melodic death metal': 0.208,\n",
        "  u'metal': 0.156,\n",
        "  u'pagan black metal': 0.304,\n",
        "  u'symphonic black metal': 0.292,\n",
        "  u'viking metal': 1},\n",
        " u'vintage chanson': {u'chanson': 0.119469, u'vintage chanson': 1},\n",
        " u'vintage country folk': {u'appalachian folk': 0.467593,\n",
        "  u'jug band': 0.152778,\n",
        "  u'old-time': 0.138889,\n",
        "  u'vintage country folk': 1,\n",
        "  u'vintage gospel': 0.212963},\n",
        " u'vintage gospel': {u'vintage country folk': 0.211009, u'vintage gospel': 1},\n",
        " u'vintage jazz': {u'dixieland': 0.056962,\n",
        "  u'new orleans jazz': 0.06962,\n",
        "  u'vintage jazz': 1},\n",
        " u'vintage reggae': {u'rock steady': 0.093333, u'vintage reggae': 1},\n",
        " u'vintage rockabilly': {u'neo-rockabilly': 0.100503,\n",
        "  u'rhythm and boogie': 0.296482,\n",
        "  u'traditional rockabilly': 0.201005,\n",
        "  u'vintage rockabilly': 1},\n",
        " u'vintage schlager': {u'classic schlager': 0.333333, u'vintage schlager': 1},\n",
        " u'vintage swing': {u'new orleans jazz': 0.105263,\n",
        "  u'swing': 0.12782,\n",
        "  u'vintage swing': 1},\n",
        " u'vintage swoon': {u'vintage swoon': 1},\n",
        " u'vintage tango': {u'orquesta tipica': 0.373832,\n",
        "  u'tango': 0.397196,\n",
        "  u'vintage tango': 1},\n",
        " u'vintage western': {u'cowboy western': 0.15508,\n",
        "  u'vintage western': 1,\n",
        "  u'western swing': 0.245989},\n",
        " u'violin': {u'classical performance': 0.227778,\n",
        "  u'classical piano': 0.111111,\n",
        "  u'violin': 1},\n",
        " u'viral pop': {u'acoustic pop': 0.101695,\n",
        "  u'teen pop': 0.110169,\n",
        "  u'viral pop': 1},\n",
        " u'visual kei': {u'j-alt': 0.102881,\n",
        "  u'j-metal': 0.802469,\n",
        "  u'j-rock': 0.131687,\n",
        "  u'oshare kei': 0.773663,\n",
        "  u'visual kei': 1},\n",
        " u'vocal house': {u'chicago house': 0.108108,\n",
        "  u'deep house': 0.144144,\n",
        "  u'disco house': 0.698198,\n",
        "  u'edm': 0.148649,\n",
        "  u'electro house': 0.130631,\n",
        "  u'hip house': 0.112613,\n",
        "  u'house': 0.427928,\n",
        "  u'progressive house': 0.130631,\n",
        "  u'tribal house': 0.333333,\n",
        "  u'vocal house': 1},\n",
        " u'vocal jazz': {u'adult standards': 0.338462,\n",
        "  u'cabaret': 0.423077,\n",
        "  u'christmas': 0.315385,\n",
        "  u'jazz blues': 0.126923,\n",
        "  u'lounge': 0.257692,\n",
        "  u'swing': 0.138462,\n",
        "  u'vocal jazz': 1},\n",
        " u'vocaloid': {u'vocaloid': 1},\n",
        " u'volksmusik': {u'schlager': 0.434579, u'volksmusik': 1},\n",
        " u'warm drone': {u'drone': 0.207207, u'nu age': 0.472973, u'warm drone': 1},\n",
        " u'welsh rock': {u'welsh rock': 1},\n",
        " u'west african jazz': {u'mande pop': 0.28777,\n",
        "  u'mbalax': 0.28777,\n",
        "  u'soukous': 0.158273,\n",
        "  u'west african jazz': 1,\n",
        "  u'world': 0.143885},\n",
        " u'west coast rap': {u'deep g funk': 0.160643,\n",
        "  u'g funk': 0.919679,\n",
        "  u'gangster rap': 0.606426,\n",
        "  u'hip hop': 0.104418,\n",
        "  u'hyphy': 0.417671,\n",
        "  u'juggalo': 0.341365,\n",
        "  u'rap': 0.164659,\n",
        "  u'west coast rap': 1},\n",
        " u'western swing': {u'country christmas': 0.240741,\n",
        "  u'country gospel': 0.449074,\n",
        "  u'cowboy western': 0.694444,\n",
        "  u'nashville sound': 0.486111,\n",
        "  u'outlaw country': 0.199074,\n",
        "  u'traditional country': 0.537037,\n",
        "  u'vintage western': 0.212963,\n",
        "  u'western swing': 1},\n",
        " u'wind ensemble': {u'marching band': 0.093567,\n",
        "  u'military band': 0.05848,\n",
        "  u'wind ensemble': 1},\n",
        " u'witch house': {u'grave wave': 0.485714,\n",
        "  u'vaporwave': 0.107143,\n",
        "  u'witch house': 1},\n",
        " u'wonky': {u'glitch hop': 0.164609, u'wonky': 1},\n",
        " u'workout': {u'fake': 0.155963, u'workout': 1},\n",
        " u'world': {u'desert blues': 0.198198,\n",
        "  u'mande pop': 0.653153,\n",
        "  u'mbalax': 0.225225,\n",
        "  u'soukous': 0.112613,\n",
        "  u'world': 1},\n",
        " u'world chill': {u'world chill': 1, u'world fusion': 0.093264},\n",
        " u'world christmas': {u'chanson': 0.110577,\n",
        "  u'dub': 0.115385,\n",
        "  u'hawaiian': 0.168269,\n",
        "  u'latin christmas': 0.206731,\n",
        "  u'reggae': 0.153846,\n",
        "  u'roots reggae': 0.134615,\n",
        "  u'world christmas': 1},\n",
        " u'world fusion': {u'world chill': 0.125, u'world fusion': 1},\n",
        " u'worship': {u'ccm': 0.782918,\n",
        "  u'christian alternative rock': 0.629893,\n",
        "  u'christian christmas': 0.437722,\n",
        "  u'christian music': 0.768683,\n",
        "  u'christian rock': 0.508897,\n",
        "  u'more ccm': 0.181495,\n",
        "  u'worship': 1},\n",
        " u'wrestling': {u'wrestling': 1},\n",
        " u'wrock': {u'wrock': 1},\n",
        " u'ye ye': {u'chanson': 0.218447, u'ye ye': 1},\n",
        " u'yoik': {u'folkmusik': 0.1, u'nordic folk': 0.19, u'yoik': 1},\n",
        " u'yugoslav rock': {u'croatian pop': 0.216216, u'yugoslav rock': 1},\n",
        " u'zeuhl': {u'canterbury scene': 0.131579, u'zeuhl': 1},\n",
        " u'zillertal': {u'swiss folk': 0.115044, u'zillertal': 1},\n",
        " u'zim': {u'mande pop': 0.07619, u'world': 0.095238, u'zim': 1},\n",
        " u'zolo': {u'art rock': 0.316667,\n",
        "  u'canterbury scene': 0.141667,\n",
        "  u'dance rock': 0.183333,\n",
        "  u'experimental': 0.175,\n",
        "  u'glam rock': 0.116667,\n",
        "  u'new romantic': 0.15,\n",
        "  u'new wave': 0.191667,\n",
        "  u'post-punk': 0.141667,\n",
        "  u'progressive rock': 0.1,\n",
        "  u'symphonic rock': 0.1,\n",
        "  u'uk post-punk': 0.116667,\n",
        "  u'zeuhl': 0.1,\n",
        "  u'zolo': 1},\n",
        " u'zouglou': {u'coupe decale': 0.751111,\n",
        "  u'makossa': 0.391111,\n",
        "  u'soukous': 0.151111,\n",
        "  u'zouglou': 1},\n",
        " u'zouk': {u'kizomba': 0.20362, u'kompa': 0.140271, u'zouk': 1},\n",
        " u'zydeco': {u'cajun': 0.687243, u'swamp pop': 0.271605, u'zydeco': 1}}"
       ]
      }
     ],
     "prompt_number": 21
    },
    {
     "cell_type": "code",
     "collapsed": false,
     "input": [
      "import pandas as pd"
     ],
     "language": "python",
     "metadata": {},
     "outputs": [],
     "prompt_number": 22
    },
    {
     "cell_type": "code",
     "collapsed": false,
     "input": [
      "df = pd.DataFrame(genre_sim_tot)"
     ],
     "language": "python",
     "metadata": {},
     "outputs": [],
     "prompt_number": 23
    },
    {
     "cell_type": "code",
     "collapsed": false,
     "input": [
      "df"
     ],
     "language": "python",
     "metadata": {},
     "outputs": [
      {
       "html": [
        "<div style=\"max-height:1000px;max-width:1500px;overflow:auto;\">\n",
        "<table border=\"1\" class=\"dataframe\">\n",
        "  <thead>\n",
        "    <tr style=\"text-align: right;\">\n",
        "      <th></th>\n",
        "      <th>a cappella</th>\n",
        "      <th>abstract</th>\n",
        "      <th>abstract hip hop</th>\n",
        "      <th>abstract idm</th>\n",
        "      <th>accordion</th>\n",
        "      <th>acid house</th>\n",
        "      <th>acid jazz</th>\n",
        "      <th>acid techno</th>\n",
        "      <th>acousmatic</th>\n",
        "      <th>acoustic blues</th>\n",
        "      <th>...</th>\n",
        "      <th>ye ye</th>\n",
        "      <th>yoik</th>\n",
        "      <th>yugoslav rock</th>\n",
        "      <th>zeuhl</th>\n",
        "      <th>zillertal</th>\n",
        "      <th>zim</th>\n",
        "      <th>zolo</th>\n",
        "      <th>zouglou</th>\n",
        "      <th>zouk</th>\n",
        "      <th>zydeco</th>\n",
        "    </tr>\n",
        "  </thead>\n",
        "  <tbody>\n",
        "    <tr>\n",
        "      <th>a cappella</th>\n",
        "      <td>  1</td>\n",
        "      <td>      NaN</td>\n",
        "      <td>      NaN</td>\n",
        "      <td>NaN</td>\n",
        "      <td>NaN</td>\n",
        "      <td>NaN</td>\n",
        "      <td>NaN</td>\n",
        "      <td>      NaN</td>\n",
        "      <td>NaN</td>\n",
        "      <td>NaN</td>\n",
        "      <td>...</td>\n",
        "      <td>NaN</td>\n",
        "      <td>NaN</td>\n",
        "      <td>NaN</td>\n",
        "      <td>NaN</td>\n",
        "      <td>NaN</td>\n",
        "      <td>      NaN</td>\n",
        "      <td> NaN</td>\n",
        "      <td>NaN</td>\n",
        "      <td>NaN</td>\n",
        "      <td>NaN</td>\n",
        "    </tr>\n",
        "    <tr>\n",
        "      <th>abstract</th>\n",
        "      <td>NaN</td>\n",
        "      <td> 1.000000</td>\n",
        "      <td>      NaN</td>\n",
        "      <td>NaN</td>\n",
        "      <td>NaN</td>\n",
        "      <td>NaN</td>\n",
        "      <td>NaN</td>\n",
        "      <td>      NaN</td>\n",
        "      <td>NaN</td>\n",
        "      <td>NaN</td>\n",
        "      <td>...</td>\n",
        "      <td>NaN</td>\n",
        "      <td>NaN</td>\n",
        "      <td>NaN</td>\n",
        "      <td>NaN</td>\n",
        "      <td>NaN</td>\n",
        "      <td>      NaN</td>\n",
        "      <td> NaN</td>\n",
        "      <td>NaN</td>\n",
        "      <td>NaN</td>\n",
        "      <td>NaN</td>\n",
        "    </tr>\n",
        "    <tr>\n",
        "      <th>abstract hip hop</th>\n",
        "      <td>NaN</td>\n",
        "      <td>      NaN</td>\n",
        "      <td> 1.000000</td>\n",
        "      <td>NaN</td>\n",
        "      <td>NaN</td>\n",
        "      <td>NaN</td>\n",
        "      <td>NaN</td>\n",
        "      <td>      NaN</td>\n",
        "      <td>NaN</td>\n",
        "      <td>NaN</td>\n",
        "      <td>...</td>\n",
        "      <td>NaN</td>\n",
        "      <td>NaN</td>\n",
        "      <td>NaN</td>\n",
        "      <td>NaN</td>\n",
        "      <td>NaN</td>\n",
        "      <td>      NaN</td>\n",
        "      <td> NaN</td>\n",
        "      <td>NaN</td>\n",
        "      <td>NaN</td>\n",
        "      <td>NaN</td>\n",
        "    </tr>\n",
        "    <tr>\n",
        "      <th>abstract idm</th>\n",
        "      <td>NaN</td>\n",
        "      <td>      NaN</td>\n",
        "      <td>      NaN</td>\n",
        "      <td>  1</td>\n",
        "      <td>NaN</td>\n",
        "      <td>NaN</td>\n",
        "      <td>NaN</td>\n",
        "      <td>      NaN</td>\n",
        "      <td>NaN</td>\n",
        "      <td>NaN</td>\n",
        "      <td>...</td>\n",
        "      <td>NaN</td>\n",
        "      <td>NaN</td>\n",
        "      <td>NaN</td>\n",
        "      <td>NaN</td>\n",
        "      <td>NaN</td>\n",
        "      <td>      NaN</td>\n",
        "      <td> NaN</td>\n",
        "      <td>NaN</td>\n",
        "      <td>NaN</td>\n",
        "      <td>NaN</td>\n",
        "    </tr>\n",
        "    <tr>\n",
        "      <th>accordion</th>\n",
        "      <td>NaN</td>\n",
        "      <td>      NaN</td>\n",
        "      <td>      NaN</td>\n",
        "      <td>NaN</td>\n",
        "      <td>  1</td>\n",
        "      <td>NaN</td>\n",
        "      <td>NaN</td>\n",
        "      <td>      NaN</td>\n",
        "      <td>NaN</td>\n",
        "      <td>NaN</td>\n",
        "      <td>...</td>\n",
        "      <td>NaN</td>\n",
        "      <td>NaN</td>\n",
        "      <td>NaN</td>\n",
        "      <td>NaN</td>\n",
        "      <td>NaN</td>\n",
        "      <td>      NaN</td>\n",
        "      <td> NaN</td>\n",
        "      <td>NaN</td>\n",
        "      <td>NaN</td>\n",
        "      <td>NaN</td>\n",
        "    </tr>\n",
        "    <tr>\n",
        "      <th>acid house</th>\n",
        "      <td>NaN</td>\n",
        "      <td>      NaN</td>\n",
        "      <td>      NaN</td>\n",
        "      <td>NaN</td>\n",
        "      <td>NaN</td>\n",
        "      <td>  1</td>\n",
        "      <td>NaN</td>\n",
        "      <td> 0.098266</td>\n",
        "      <td>NaN</td>\n",
        "      <td>NaN</td>\n",
        "      <td>...</td>\n",
        "      <td>NaN</td>\n",
        "      <td>NaN</td>\n",
        "      <td>NaN</td>\n",
        "      <td>NaN</td>\n",
        "      <td>NaN</td>\n",
        "      <td>      NaN</td>\n",
        "      <td> NaN</td>\n",
        "      <td>NaN</td>\n",
        "      <td>NaN</td>\n",
        "      <td>NaN</td>\n",
        "    </tr>\n",
        "    <tr>\n",
        "      <th>acid jazz</th>\n",
        "      <td>NaN</td>\n",
        "      <td>      NaN</td>\n",
        "      <td>      NaN</td>\n",
        "      <td>NaN</td>\n",
        "      <td>NaN</td>\n",
        "      <td>NaN</td>\n",
        "      <td>  1</td>\n",
        "      <td>      NaN</td>\n",
        "      <td>NaN</td>\n",
        "      <td>NaN</td>\n",
        "      <td>...</td>\n",
        "      <td>NaN</td>\n",
        "      <td>NaN</td>\n",
        "      <td>NaN</td>\n",
        "      <td>NaN</td>\n",
        "      <td>NaN</td>\n",
        "      <td>      NaN</td>\n",
        "      <td> NaN</td>\n",
        "      <td>NaN</td>\n",
        "      <td>NaN</td>\n",
        "      <td>NaN</td>\n",
        "    </tr>\n",
        "    <tr>\n",
        "      <th>acid techno</th>\n",
        "      <td>NaN</td>\n",
        "      <td>      NaN</td>\n",
        "      <td>      NaN</td>\n",
        "      <td>NaN</td>\n",
        "      <td>NaN</td>\n",
        "      <td>NaN</td>\n",
        "      <td>NaN</td>\n",
        "      <td> 1.000000</td>\n",
        "      <td>NaN</td>\n",
        "      <td>NaN</td>\n",
        "      <td>...</td>\n",
        "      <td>NaN</td>\n",
        "      <td>NaN</td>\n",
        "      <td>NaN</td>\n",
        "      <td>NaN</td>\n",
        "      <td>NaN</td>\n",
        "      <td>      NaN</td>\n",
        "      <td> NaN</td>\n",
        "      <td>NaN</td>\n",
        "      <td>NaN</td>\n",
        "      <td>NaN</td>\n",
        "    </tr>\n",
        "    <tr>\n",
        "      <th>acousmatic</th>\n",
        "      <td>NaN</td>\n",
        "      <td>      NaN</td>\n",
        "      <td>      NaN</td>\n",
        "      <td>NaN</td>\n",
        "      <td>NaN</td>\n",
        "      <td>NaN</td>\n",
        "      <td>NaN</td>\n",
        "      <td>      NaN</td>\n",
        "      <td>  1</td>\n",
        "      <td>NaN</td>\n",
        "      <td>...</td>\n",
        "      <td>NaN</td>\n",
        "      <td>NaN</td>\n",
        "      <td>NaN</td>\n",
        "      <td>NaN</td>\n",
        "      <td>NaN</td>\n",
        "      <td>      NaN</td>\n",
        "      <td> NaN</td>\n",
        "      <td>NaN</td>\n",
        "      <td>NaN</td>\n",
        "      <td>NaN</td>\n",
        "    </tr>\n",
        "    <tr>\n",
        "      <th>acoustic blues</th>\n",
        "      <td>NaN</td>\n",
        "      <td>      NaN</td>\n",
        "      <td>      NaN</td>\n",
        "      <td>NaN</td>\n",
        "      <td>NaN</td>\n",
        "      <td>NaN</td>\n",
        "      <td>NaN</td>\n",
        "      <td>      NaN</td>\n",
        "      <td>NaN</td>\n",
        "      <td>  1</td>\n",
        "      <td>...</td>\n",
        "      <td>NaN</td>\n",
        "      <td>NaN</td>\n",
        "      <td>NaN</td>\n",
        "      <td>NaN</td>\n",
        "      <td>NaN</td>\n",
        "      <td>      NaN</td>\n",
        "      <td> NaN</td>\n",
        "      <td>NaN</td>\n",
        "      <td>NaN</td>\n",
        "      <td>NaN</td>\n",
        "    </tr>\n",
        "    <tr>\n",
        "      <th>acoustic pop</th>\n",
        "      <td>NaN</td>\n",
        "      <td>      NaN</td>\n",
        "      <td>      NaN</td>\n",
        "      <td>NaN</td>\n",
        "      <td>NaN</td>\n",
        "      <td>NaN</td>\n",
        "      <td>NaN</td>\n",
        "      <td>      NaN</td>\n",
        "      <td>NaN</td>\n",
        "      <td>NaN</td>\n",
        "      <td>...</td>\n",
        "      <td>NaN</td>\n",
        "      <td>NaN</td>\n",
        "      <td>NaN</td>\n",
        "      <td>NaN</td>\n",
        "      <td>NaN</td>\n",
        "      <td>      NaN</td>\n",
        "      <td> NaN</td>\n",
        "      <td>NaN</td>\n",
        "      <td>NaN</td>\n",
        "      <td>NaN</td>\n",
        "    </tr>\n",
        "    <tr>\n",
        "      <th>adult standards</th>\n",
        "      <td>NaN</td>\n",
        "      <td>      NaN</td>\n",
        "      <td>      NaN</td>\n",
        "      <td>NaN</td>\n",
        "      <td>NaN</td>\n",
        "      <td>NaN</td>\n",
        "      <td>NaN</td>\n",
        "      <td>      NaN</td>\n",
        "      <td>NaN</td>\n",
        "      <td>NaN</td>\n",
        "      <td>...</td>\n",
        "      <td>NaN</td>\n",
        "      <td>NaN</td>\n",
        "      <td>NaN</td>\n",
        "      <td>NaN</td>\n",
        "      <td>NaN</td>\n",
        "      <td>      NaN</td>\n",
        "      <td> NaN</td>\n",
        "      <td>NaN</td>\n",
        "      <td>NaN</td>\n",
        "      <td>NaN</td>\n",
        "    </tr>\n",
        "    <tr>\n",
        "      <th>african percussion</th>\n",
        "      <td>NaN</td>\n",
        "      <td>      NaN</td>\n",
        "      <td>      NaN</td>\n",
        "      <td>NaN</td>\n",
        "      <td>NaN</td>\n",
        "      <td>NaN</td>\n",
        "      <td>NaN</td>\n",
        "      <td>      NaN</td>\n",
        "      <td>NaN</td>\n",
        "      <td>NaN</td>\n",
        "      <td>...</td>\n",
        "      <td>NaN</td>\n",
        "      <td>NaN</td>\n",
        "      <td>NaN</td>\n",
        "      <td>NaN</td>\n",
        "      <td>NaN</td>\n",
        "      <td>      NaN</td>\n",
        "      <td> NaN</td>\n",
        "      <td>NaN</td>\n",
        "      <td>NaN</td>\n",
        "      <td>NaN</td>\n",
        "    </tr>\n",
        "    <tr>\n",
        "      <th>african rock</th>\n",
        "      <td>NaN</td>\n",
        "      <td>      NaN</td>\n",
        "      <td>      NaN</td>\n",
        "      <td>NaN</td>\n",
        "      <td>NaN</td>\n",
        "      <td>NaN</td>\n",
        "      <td>NaN</td>\n",
        "      <td>      NaN</td>\n",
        "      <td>NaN</td>\n",
        "      <td>NaN</td>\n",
        "      <td>...</td>\n",
        "      <td>NaN</td>\n",
        "      <td>NaN</td>\n",
        "      <td>NaN</td>\n",
        "      <td>NaN</td>\n",
        "      <td>NaN</td>\n",
        "      <td>      NaN</td>\n",
        "      <td> NaN</td>\n",
        "      <td>NaN</td>\n",
        "      <td>NaN</td>\n",
        "      <td>NaN</td>\n",
        "    </tr>\n",
        "    <tr>\n",
        "      <th>afrikaans</th>\n",
        "      <td>NaN</td>\n",
        "      <td>      NaN</td>\n",
        "      <td>      NaN</td>\n",
        "      <td>NaN</td>\n",
        "      <td>NaN</td>\n",
        "      <td>NaN</td>\n",
        "      <td>NaN</td>\n",
        "      <td>      NaN</td>\n",
        "      <td>NaN</td>\n",
        "      <td>NaN</td>\n",
        "      <td>...</td>\n",
        "      <td>NaN</td>\n",
        "      <td>NaN</td>\n",
        "      <td>NaN</td>\n",
        "      <td>NaN</td>\n",
        "      <td>NaN</td>\n",
        "      <td>      NaN</td>\n",
        "      <td> NaN</td>\n",
        "      <td>NaN</td>\n",
        "      <td>NaN</td>\n",
        "      <td>NaN</td>\n",
        "    </tr>\n",
        "    <tr>\n",
        "      <th>afrobeat</th>\n",
        "      <td>NaN</td>\n",
        "      <td>      NaN</td>\n",
        "      <td>      NaN</td>\n",
        "      <td>NaN</td>\n",
        "      <td>NaN</td>\n",
        "      <td>NaN</td>\n",
        "      <td>NaN</td>\n",
        "      <td>      NaN</td>\n",
        "      <td>NaN</td>\n",
        "      <td>NaN</td>\n",
        "      <td>...</td>\n",
        "      <td>NaN</td>\n",
        "      <td>NaN</td>\n",
        "      <td>NaN</td>\n",
        "      <td>NaN</td>\n",
        "      <td>NaN</td>\n",
        "      <td>      NaN</td>\n",
        "      <td> NaN</td>\n",
        "      <td>NaN</td>\n",
        "      <td>NaN</td>\n",
        "      <td>NaN</td>\n",
        "    </tr>\n",
        "    <tr>\n",
        "      <th>afrobeats</th>\n",
        "      <td>NaN</td>\n",
        "      <td>      NaN</td>\n",
        "      <td>      NaN</td>\n",
        "      <td>NaN</td>\n",
        "      <td>NaN</td>\n",
        "      <td>NaN</td>\n",
        "      <td>NaN</td>\n",
        "      <td>      NaN</td>\n",
        "      <td>NaN</td>\n",
        "      <td>NaN</td>\n",
        "      <td>...</td>\n",
        "      <td>NaN</td>\n",
        "      <td>NaN</td>\n",
        "      <td>NaN</td>\n",
        "      <td>NaN</td>\n",
        "      <td>NaN</td>\n",
        "      <td>      NaN</td>\n",
        "      <td> NaN</td>\n",
        "      <td>NaN</td>\n",
        "      <td>NaN</td>\n",
        "      <td>NaN</td>\n",
        "    </tr>\n",
        "    <tr>\n",
        "      <th>aggrotech</th>\n",
        "      <td>NaN</td>\n",
        "      <td>      NaN</td>\n",
        "      <td>      NaN</td>\n",
        "      <td>NaN</td>\n",
        "      <td>NaN</td>\n",
        "      <td>NaN</td>\n",
        "      <td>NaN</td>\n",
        "      <td>      NaN</td>\n",
        "      <td>NaN</td>\n",
        "      <td>NaN</td>\n",
        "      <td>...</td>\n",
        "      <td>NaN</td>\n",
        "      <td>NaN</td>\n",
        "      <td>NaN</td>\n",
        "      <td>NaN</td>\n",
        "      <td>NaN</td>\n",
        "      <td>      NaN</td>\n",
        "      <td> NaN</td>\n",
        "      <td>NaN</td>\n",
        "      <td>NaN</td>\n",
        "      <td>NaN</td>\n",
        "    </tr>\n",
        "    <tr>\n",
        "      <th>albanian pop</th>\n",
        "      <td>NaN</td>\n",
        "      <td>      NaN</td>\n",
        "      <td>      NaN</td>\n",
        "      <td>NaN</td>\n",
        "      <td>NaN</td>\n",
        "      <td>NaN</td>\n",
        "      <td>NaN</td>\n",
        "      <td>      NaN</td>\n",
        "      <td>NaN</td>\n",
        "      <td>NaN</td>\n",
        "      <td>...</td>\n",
        "      <td>NaN</td>\n",
        "      <td>NaN</td>\n",
        "      <td>NaN</td>\n",
        "      <td>NaN</td>\n",
        "      <td>NaN</td>\n",
        "      <td>      NaN</td>\n",
        "      <td> NaN</td>\n",
        "      <td>NaN</td>\n",
        "      <td>NaN</td>\n",
        "      <td>NaN</td>\n",
        "    </tr>\n",
        "    <tr>\n",
        "      <th>album rock</th>\n",
        "      <td>NaN</td>\n",
        "      <td>      NaN</td>\n",
        "      <td>      NaN</td>\n",
        "      <td>NaN</td>\n",
        "      <td>NaN</td>\n",
        "      <td>NaN</td>\n",
        "      <td>NaN</td>\n",
        "      <td>      NaN</td>\n",
        "      <td>NaN</td>\n",
        "      <td>NaN</td>\n",
        "      <td>...</td>\n",
        "      <td>NaN</td>\n",
        "      <td>NaN</td>\n",
        "      <td>NaN</td>\n",
        "      <td>NaN</td>\n",
        "      <td>NaN</td>\n",
        "      <td>      NaN</td>\n",
        "      <td> NaN</td>\n",
        "      <td>NaN</td>\n",
        "      <td>NaN</td>\n",
        "      <td>NaN</td>\n",
        "    </tr>\n",
        "    <tr>\n",
        "      <th>albuquerque indie</th>\n",
        "      <td>NaN</td>\n",
        "      <td>      NaN</td>\n",
        "      <td>      NaN</td>\n",
        "      <td>NaN</td>\n",
        "      <td>NaN</td>\n",
        "      <td>NaN</td>\n",
        "      <td>NaN</td>\n",
        "      <td>      NaN</td>\n",
        "      <td>NaN</td>\n",
        "      <td>NaN</td>\n",
        "      <td>...</td>\n",
        "      <td>NaN</td>\n",
        "      <td>NaN</td>\n",
        "      <td>NaN</td>\n",
        "      <td>NaN</td>\n",
        "      <td>NaN</td>\n",
        "      <td>      NaN</td>\n",
        "      <td> NaN</td>\n",
        "      <td>NaN</td>\n",
        "      <td>NaN</td>\n",
        "      <td>NaN</td>\n",
        "    </tr>\n",
        "    <tr>\n",
        "      <th>alternative americana</th>\n",
        "      <td>NaN</td>\n",
        "      <td>      NaN</td>\n",
        "      <td>      NaN</td>\n",
        "      <td>NaN</td>\n",
        "      <td>NaN</td>\n",
        "      <td>NaN</td>\n",
        "      <td>NaN</td>\n",
        "      <td>      NaN</td>\n",
        "      <td>NaN</td>\n",
        "      <td>NaN</td>\n",
        "      <td>...</td>\n",
        "      <td>NaN</td>\n",
        "      <td>NaN</td>\n",
        "      <td>NaN</td>\n",
        "      <td>NaN</td>\n",
        "      <td>NaN</td>\n",
        "      <td>      NaN</td>\n",
        "      <td> NaN</td>\n",
        "      <td>NaN</td>\n",
        "      <td>NaN</td>\n",
        "      <td>NaN</td>\n",
        "    </tr>\n",
        "    <tr>\n",
        "      <th>alternative country</th>\n",
        "      <td>NaN</td>\n",
        "      <td>      NaN</td>\n",
        "      <td>      NaN</td>\n",
        "      <td>NaN</td>\n",
        "      <td>NaN</td>\n",
        "      <td>NaN</td>\n",
        "      <td>NaN</td>\n",
        "      <td>      NaN</td>\n",
        "      <td>NaN</td>\n",
        "      <td>NaN</td>\n",
        "      <td>...</td>\n",
        "      <td>NaN</td>\n",
        "      <td>NaN</td>\n",
        "      <td>NaN</td>\n",
        "      <td>NaN</td>\n",
        "      <td>NaN</td>\n",
        "      <td>      NaN</td>\n",
        "      <td> NaN</td>\n",
        "      <td>NaN</td>\n",
        "      <td>NaN</td>\n",
        "      <td>NaN</td>\n",
        "    </tr>\n",
        "    <tr>\n",
        "      <th>alternative dance</th>\n",
        "      <td>NaN</td>\n",
        "      <td>      NaN</td>\n",
        "      <td>      NaN</td>\n",
        "      <td>NaN</td>\n",
        "      <td>NaN</td>\n",
        "      <td>NaN</td>\n",
        "      <td>NaN</td>\n",
        "      <td>      NaN</td>\n",
        "      <td>NaN</td>\n",
        "      <td>NaN</td>\n",
        "      <td>...</td>\n",
        "      <td>NaN</td>\n",
        "      <td>NaN</td>\n",
        "      <td>NaN</td>\n",
        "      <td>NaN</td>\n",
        "      <td>NaN</td>\n",
        "      <td>      NaN</td>\n",
        "      <td> NaN</td>\n",
        "      <td>NaN</td>\n",
        "      <td>NaN</td>\n",
        "      <td>NaN</td>\n",
        "    </tr>\n",
        "    <tr>\n",
        "      <th>alternative emo</th>\n",
        "      <td>NaN</td>\n",
        "      <td>      NaN</td>\n",
        "      <td>      NaN</td>\n",
        "      <td>NaN</td>\n",
        "      <td>NaN</td>\n",
        "      <td>NaN</td>\n",
        "      <td>NaN</td>\n",
        "      <td>      NaN</td>\n",
        "      <td>NaN</td>\n",
        "      <td>NaN</td>\n",
        "      <td>...</td>\n",
        "      <td>NaN</td>\n",
        "      <td>NaN</td>\n",
        "      <td>NaN</td>\n",
        "      <td>NaN</td>\n",
        "      <td>NaN</td>\n",
        "      <td>      NaN</td>\n",
        "      <td> NaN</td>\n",
        "      <td>NaN</td>\n",
        "      <td>NaN</td>\n",
        "      <td>NaN</td>\n",
        "    </tr>\n",
        "    <tr>\n",
        "      <th>alternative hip hop</th>\n",
        "      <td>NaN</td>\n",
        "      <td>      NaN</td>\n",
        "      <td> 0.130612</td>\n",
        "      <td>NaN</td>\n",
        "      <td>NaN</td>\n",
        "      <td>NaN</td>\n",
        "      <td>NaN</td>\n",
        "      <td>      NaN</td>\n",
        "      <td>NaN</td>\n",
        "      <td>NaN</td>\n",
        "      <td>...</td>\n",
        "      <td>NaN</td>\n",
        "      <td>NaN</td>\n",
        "      <td>NaN</td>\n",
        "      <td>NaN</td>\n",
        "      <td>NaN</td>\n",
        "      <td>      NaN</td>\n",
        "      <td> NaN</td>\n",
        "      <td>NaN</td>\n",
        "      <td>NaN</td>\n",
        "      <td>NaN</td>\n",
        "    </tr>\n",
        "    <tr>\n",
        "      <th>alternative metal</th>\n",
        "      <td>NaN</td>\n",
        "      <td>      NaN</td>\n",
        "      <td>      NaN</td>\n",
        "      <td>NaN</td>\n",
        "      <td>NaN</td>\n",
        "      <td>NaN</td>\n",
        "      <td>NaN</td>\n",
        "      <td>      NaN</td>\n",
        "      <td>NaN</td>\n",
        "      <td>NaN</td>\n",
        "      <td>...</td>\n",
        "      <td>NaN</td>\n",
        "      <td>NaN</td>\n",
        "      <td>NaN</td>\n",
        "      <td>NaN</td>\n",
        "      <td>NaN</td>\n",
        "      <td>      NaN</td>\n",
        "      <td> NaN</td>\n",
        "      <td>NaN</td>\n",
        "      <td>NaN</td>\n",
        "      <td>NaN</td>\n",
        "    </tr>\n",
        "    <tr>\n",
        "      <th>alternative metalcore</th>\n",
        "      <td>NaN</td>\n",
        "      <td>      NaN</td>\n",
        "      <td>      NaN</td>\n",
        "      <td>NaN</td>\n",
        "      <td>NaN</td>\n",
        "      <td>NaN</td>\n",
        "      <td>NaN</td>\n",
        "      <td>      NaN</td>\n",
        "      <td>NaN</td>\n",
        "      <td>NaN</td>\n",
        "      <td>...</td>\n",
        "      <td>NaN</td>\n",
        "      <td>NaN</td>\n",
        "      <td>NaN</td>\n",
        "      <td>NaN</td>\n",
        "      <td>NaN</td>\n",
        "      <td>      NaN</td>\n",
        "      <td> NaN</td>\n",
        "      <td>NaN</td>\n",
        "      <td>NaN</td>\n",
        "      <td>NaN</td>\n",
        "    </tr>\n",
        "    <tr>\n",
        "      <th>alternative new age</th>\n",
        "      <td>NaN</td>\n",
        "      <td>      NaN</td>\n",
        "      <td>      NaN</td>\n",
        "      <td>NaN</td>\n",
        "      <td>NaN</td>\n",
        "      <td>NaN</td>\n",
        "      <td>NaN</td>\n",
        "      <td>      NaN</td>\n",
        "      <td>NaN</td>\n",
        "      <td>NaN</td>\n",
        "      <td>...</td>\n",
        "      <td>NaN</td>\n",
        "      <td>NaN</td>\n",
        "      <td>NaN</td>\n",
        "      <td>NaN</td>\n",
        "      <td>NaN</td>\n",
        "      <td>      NaN</td>\n",
        "      <td> NaN</td>\n",
        "      <td>NaN</td>\n",
        "      <td>NaN</td>\n",
        "      <td>NaN</td>\n",
        "    </tr>\n",
        "    <tr>\n",
        "      <th>alternative pop</th>\n",
        "      <td>NaN</td>\n",
        "      <td>      NaN</td>\n",
        "      <td>      NaN</td>\n",
        "      <td>NaN</td>\n",
        "      <td>NaN</td>\n",
        "      <td>NaN</td>\n",
        "      <td>NaN</td>\n",
        "      <td>      NaN</td>\n",
        "      <td>NaN</td>\n",
        "      <td>NaN</td>\n",
        "      <td>...</td>\n",
        "      <td>NaN</td>\n",
        "      <td>NaN</td>\n",
        "      <td>NaN</td>\n",
        "      <td>NaN</td>\n",
        "      <td>NaN</td>\n",
        "      <td>      NaN</td>\n",
        "      <td> NaN</td>\n",
        "      <td>NaN</td>\n",
        "      <td>NaN</td>\n",
        "      <td>NaN</td>\n",
        "    </tr>\n",
        "    <tr>\n",
        "      <th>...</th>\n",
        "      <td>...</td>\n",
        "      <td>...</td>\n",
        "      <td>...</td>\n",
        "      <td>...</td>\n",
        "      <td>...</td>\n",
        "      <td>...</td>\n",
        "      <td>...</td>\n",
        "      <td>...</td>\n",
        "      <td>...</td>\n",
        "      <td>...</td>\n",
        "      <td>...</td>\n",
        "      <td>...</td>\n",
        "      <td>...</td>\n",
        "      <td>...</td>\n",
        "      <td>...</td>\n",
        "      <td>...</td>\n",
        "      <td>...</td>\n",
        "      <td>...</td>\n",
        "      <td>...</td>\n",
        "      <td>...</td>\n",
        "      <td>...</td>\n",
        "    </tr>\n",
        "    <tr>\n",
        "      <th>vocal house</th>\n",
        "      <td>NaN</td>\n",
        "      <td>      NaN</td>\n",
        "      <td>      NaN</td>\n",
        "      <td>NaN</td>\n",
        "      <td>NaN</td>\n",
        "      <td>NaN</td>\n",
        "      <td>NaN</td>\n",
        "      <td>      NaN</td>\n",
        "      <td>NaN</td>\n",
        "      <td>NaN</td>\n",
        "      <td>...</td>\n",
        "      <td>NaN</td>\n",
        "      <td>NaN</td>\n",
        "      <td>NaN</td>\n",
        "      <td>NaN</td>\n",
        "      <td>NaN</td>\n",
        "      <td>      NaN</td>\n",
        "      <td> NaN</td>\n",
        "      <td>NaN</td>\n",
        "      <td>NaN</td>\n",
        "      <td>NaN</td>\n",
        "    </tr>\n",
        "    <tr>\n",
        "      <th>vocal jazz</th>\n",
        "      <td>NaN</td>\n",
        "      <td>      NaN</td>\n",
        "      <td>      NaN</td>\n",
        "      <td>NaN</td>\n",
        "      <td>NaN</td>\n",
        "      <td>NaN</td>\n",
        "      <td>NaN</td>\n",
        "      <td>      NaN</td>\n",
        "      <td>NaN</td>\n",
        "      <td>NaN</td>\n",
        "      <td>...</td>\n",
        "      <td>NaN</td>\n",
        "      <td>NaN</td>\n",
        "      <td>NaN</td>\n",
        "      <td>NaN</td>\n",
        "      <td>NaN</td>\n",
        "      <td>      NaN</td>\n",
        "      <td> NaN</td>\n",
        "      <td>NaN</td>\n",
        "      <td>NaN</td>\n",
        "      <td>NaN</td>\n",
        "    </tr>\n",
        "    <tr>\n",
        "      <th>vocaloid</th>\n",
        "      <td>NaN</td>\n",
        "      <td>      NaN</td>\n",
        "      <td>      NaN</td>\n",
        "      <td>NaN</td>\n",
        "      <td>NaN</td>\n",
        "      <td>NaN</td>\n",
        "      <td>NaN</td>\n",
        "      <td>      NaN</td>\n",
        "      <td>NaN</td>\n",
        "      <td>NaN</td>\n",
        "      <td>...</td>\n",
        "      <td>NaN</td>\n",
        "      <td>NaN</td>\n",
        "      <td>NaN</td>\n",
        "      <td>NaN</td>\n",
        "      <td>NaN</td>\n",
        "      <td>      NaN</td>\n",
        "      <td> NaN</td>\n",
        "      <td>NaN</td>\n",
        "      <td>NaN</td>\n",
        "      <td>NaN</td>\n",
        "    </tr>\n",
        "    <tr>\n",
        "      <th>volksmusik</th>\n",
        "      <td>NaN</td>\n",
        "      <td>      NaN</td>\n",
        "      <td>      NaN</td>\n",
        "      <td>NaN</td>\n",
        "      <td>NaN</td>\n",
        "      <td>NaN</td>\n",
        "      <td>NaN</td>\n",
        "      <td>      NaN</td>\n",
        "      <td>NaN</td>\n",
        "      <td>NaN</td>\n",
        "      <td>...</td>\n",
        "      <td>NaN</td>\n",
        "      <td>NaN</td>\n",
        "      <td>NaN</td>\n",
        "      <td>NaN</td>\n",
        "      <td>NaN</td>\n",
        "      <td>      NaN</td>\n",
        "      <td> NaN</td>\n",
        "      <td>NaN</td>\n",
        "      <td>NaN</td>\n",
        "      <td>NaN</td>\n",
        "    </tr>\n",
        "    <tr>\n",
        "      <th>warm drone</th>\n",
        "      <td>NaN</td>\n",
        "      <td> 0.106145</td>\n",
        "      <td>      NaN</td>\n",
        "      <td>NaN</td>\n",
        "      <td>NaN</td>\n",
        "      <td>NaN</td>\n",
        "      <td>NaN</td>\n",
        "      <td>      NaN</td>\n",
        "      <td>NaN</td>\n",
        "      <td>NaN</td>\n",
        "      <td>...</td>\n",
        "      <td>NaN</td>\n",
        "      <td>NaN</td>\n",
        "      <td>NaN</td>\n",
        "      <td>NaN</td>\n",
        "      <td>NaN</td>\n",
        "      <td>      NaN</td>\n",
        "      <td> NaN</td>\n",
        "      <td>NaN</td>\n",
        "      <td>NaN</td>\n",
        "      <td>NaN</td>\n",
        "    </tr>\n",
        "    <tr>\n",
        "      <th>welsh rock</th>\n",
        "      <td>NaN</td>\n",
        "      <td>      NaN</td>\n",
        "      <td>      NaN</td>\n",
        "      <td>NaN</td>\n",
        "      <td>NaN</td>\n",
        "      <td>NaN</td>\n",
        "      <td>NaN</td>\n",
        "      <td>      NaN</td>\n",
        "      <td>NaN</td>\n",
        "      <td>NaN</td>\n",
        "      <td>...</td>\n",
        "      <td>NaN</td>\n",
        "      <td>NaN</td>\n",
        "      <td>NaN</td>\n",
        "      <td>NaN</td>\n",
        "      <td>NaN</td>\n",
        "      <td>      NaN</td>\n",
        "      <td> NaN</td>\n",
        "      <td>NaN</td>\n",
        "      <td>NaN</td>\n",
        "      <td>NaN</td>\n",
        "    </tr>\n",
        "    <tr>\n",
        "      <th>west african jazz</th>\n",
        "      <td>NaN</td>\n",
        "      <td>      NaN</td>\n",
        "      <td>      NaN</td>\n",
        "      <td>NaN</td>\n",
        "      <td>NaN</td>\n",
        "      <td>NaN</td>\n",
        "      <td>NaN</td>\n",
        "      <td>      NaN</td>\n",
        "      <td>NaN</td>\n",
        "      <td>NaN</td>\n",
        "      <td>...</td>\n",
        "      <td>NaN</td>\n",
        "      <td>NaN</td>\n",
        "      <td>NaN</td>\n",
        "      <td>NaN</td>\n",
        "      <td>NaN</td>\n",
        "      <td>      NaN</td>\n",
        "      <td> NaN</td>\n",
        "      <td>NaN</td>\n",
        "      <td>NaN</td>\n",
        "      <td>NaN</td>\n",
        "    </tr>\n",
        "    <tr>\n",
        "      <th>west coast rap</th>\n",
        "      <td>NaN</td>\n",
        "      <td>      NaN</td>\n",
        "      <td>      NaN</td>\n",
        "      <td>NaN</td>\n",
        "      <td>NaN</td>\n",
        "      <td>NaN</td>\n",
        "      <td>NaN</td>\n",
        "      <td>      NaN</td>\n",
        "      <td>NaN</td>\n",
        "      <td>NaN</td>\n",
        "      <td>...</td>\n",
        "      <td>NaN</td>\n",
        "      <td>NaN</td>\n",
        "      <td>NaN</td>\n",
        "      <td>NaN</td>\n",
        "      <td>NaN</td>\n",
        "      <td>      NaN</td>\n",
        "      <td> NaN</td>\n",
        "      <td>NaN</td>\n",
        "      <td>NaN</td>\n",
        "      <td>NaN</td>\n",
        "    </tr>\n",
        "    <tr>\n",
        "      <th>western swing</th>\n",
        "      <td>NaN</td>\n",
        "      <td>      NaN</td>\n",
        "      <td>      NaN</td>\n",
        "      <td>NaN</td>\n",
        "      <td>NaN</td>\n",
        "      <td>NaN</td>\n",
        "      <td>NaN</td>\n",
        "      <td>      NaN</td>\n",
        "      <td>NaN</td>\n",
        "      <td>NaN</td>\n",
        "      <td>...</td>\n",
        "      <td>NaN</td>\n",
        "      <td>NaN</td>\n",
        "      <td>NaN</td>\n",
        "      <td>NaN</td>\n",
        "      <td>NaN</td>\n",
        "      <td>      NaN</td>\n",
        "      <td> NaN</td>\n",
        "      <td>NaN</td>\n",
        "      <td>NaN</td>\n",
        "      <td>NaN</td>\n",
        "    </tr>\n",
        "    <tr>\n",
        "      <th>wind ensemble</th>\n",
        "      <td>NaN</td>\n",
        "      <td>      NaN</td>\n",
        "      <td>      NaN</td>\n",
        "      <td>NaN</td>\n",
        "      <td>NaN</td>\n",
        "      <td>NaN</td>\n",
        "      <td>NaN</td>\n",
        "      <td>      NaN</td>\n",
        "      <td>NaN</td>\n",
        "      <td>NaN</td>\n",
        "      <td>...</td>\n",
        "      <td>NaN</td>\n",
        "      <td>NaN</td>\n",
        "      <td>NaN</td>\n",
        "      <td>NaN</td>\n",
        "      <td>NaN</td>\n",
        "      <td>      NaN</td>\n",
        "      <td> NaN</td>\n",
        "      <td>NaN</td>\n",
        "      <td>NaN</td>\n",
        "      <td>NaN</td>\n",
        "    </tr>\n",
        "    <tr>\n",
        "      <th>witch house</th>\n",
        "      <td>NaN</td>\n",
        "      <td>      NaN</td>\n",
        "      <td>      NaN</td>\n",
        "      <td>NaN</td>\n",
        "      <td>NaN</td>\n",
        "      <td>NaN</td>\n",
        "      <td>NaN</td>\n",
        "      <td>      NaN</td>\n",
        "      <td>NaN</td>\n",
        "      <td>NaN</td>\n",
        "      <td>...</td>\n",
        "      <td>NaN</td>\n",
        "      <td>NaN</td>\n",
        "      <td>NaN</td>\n",
        "      <td>NaN</td>\n",
        "      <td>NaN</td>\n",
        "      <td>      NaN</td>\n",
        "      <td> NaN</td>\n",
        "      <td>NaN</td>\n",
        "      <td>NaN</td>\n",
        "      <td>NaN</td>\n",
        "    </tr>\n",
        "    <tr>\n",
        "      <th>wonky</th>\n",
        "      <td>NaN</td>\n",
        "      <td>      NaN</td>\n",
        "      <td>      NaN</td>\n",
        "      <td>NaN</td>\n",
        "      <td>NaN</td>\n",
        "      <td>NaN</td>\n",
        "      <td>NaN</td>\n",
        "      <td>      NaN</td>\n",
        "      <td>NaN</td>\n",
        "      <td>NaN</td>\n",
        "      <td>...</td>\n",
        "      <td>NaN</td>\n",
        "      <td>NaN</td>\n",
        "      <td>NaN</td>\n",
        "      <td>NaN</td>\n",
        "      <td>NaN</td>\n",
        "      <td>      NaN</td>\n",
        "      <td> NaN</td>\n",
        "      <td>NaN</td>\n",
        "      <td>NaN</td>\n",
        "      <td>NaN</td>\n",
        "    </tr>\n",
        "    <tr>\n",
        "      <th>workout</th>\n",
        "      <td>NaN</td>\n",
        "      <td>      NaN</td>\n",
        "      <td>      NaN</td>\n",
        "      <td>NaN</td>\n",
        "      <td>NaN</td>\n",
        "      <td>NaN</td>\n",
        "      <td>NaN</td>\n",
        "      <td>      NaN</td>\n",
        "      <td>NaN</td>\n",
        "      <td>NaN</td>\n",
        "      <td>...</td>\n",
        "      <td>NaN</td>\n",
        "      <td>NaN</td>\n",
        "      <td>NaN</td>\n",
        "      <td>NaN</td>\n",
        "      <td>NaN</td>\n",
        "      <td>      NaN</td>\n",
        "      <td> NaN</td>\n",
        "      <td>NaN</td>\n",
        "      <td>NaN</td>\n",
        "      <td>NaN</td>\n",
        "    </tr>\n",
        "    <tr>\n",
        "      <th>world</th>\n",
        "      <td>NaN</td>\n",
        "      <td>      NaN</td>\n",
        "      <td>      NaN</td>\n",
        "      <td>NaN</td>\n",
        "      <td>NaN</td>\n",
        "      <td>NaN</td>\n",
        "      <td>NaN</td>\n",
        "      <td>      NaN</td>\n",
        "      <td>NaN</td>\n",
        "      <td>NaN</td>\n",
        "      <td>...</td>\n",
        "      <td>NaN</td>\n",
        "      <td>NaN</td>\n",
        "      <td>NaN</td>\n",
        "      <td>NaN</td>\n",
        "      <td>NaN</td>\n",
        "      <td> 0.095238</td>\n",
        "      <td> NaN</td>\n",
        "      <td>NaN</td>\n",
        "      <td>NaN</td>\n",
        "      <td>NaN</td>\n",
        "    </tr>\n",
        "    <tr>\n",
        "      <th>world chill</th>\n",
        "      <td>NaN</td>\n",
        "      <td>      NaN</td>\n",
        "      <td>      NaN</td>\n",
        "      <td>NaN</td>\n",
        "      <td>NaN</td>\n",
        "      <td>NaN</td>\n",
        "      <td>NaN</td>\n",
        "      <td>      NaN</td>\n",
        "      <td>NaN</td>\n",
        "      <td>NaN</td>\n",
        "      <td>...</td>\n",
        "      <td>NaN</td>\n",
        "      <td>NaN</td>\n",
        "      <td>NaN</td>\n",
        "      <td>NaN</td>\n",
        "      <td>NaN</td>\n",
        "      <td>      NaN</td>\n",
        "      <td> NaN</td>\n",
        "      <td>NaN</td>\n",
        "      <td>NaN</td>\n",
        "      <td>NaN</td>\n",
        "    </tr>\n",
        "    <tr>\n",
        "      <th>world christmas</th>\n",
        "      <td>NaN</td>\n",
        "      <td>      NaN</td>\n",
        "      <td>      NaN</td>\n",
        "      <td>NaN</td>\n",
        "      <td>NaN</td>\n",
        "      <td>NaN</td>\n",
        "      <td>NaN</td>\n",
        "      <td>      NaN</td>\n",
        "      <td>NaN</td>\n",
        "      <td>NaN</td>\n",
        "      <td>...</td>\n",
        "      <td>NaN</td>\n",
        "      <td>NaN</td>\n",
        "      <td>NaN</td>\n",
        "      <td>NaN</td>\n",
        "      <td>NaN</td>\n",
        "      <td>      NaN</td>\n",
        "      <td> NaN</td>\n",
        "      <td>NaN</td>\n",
        "      <td>NaN</td>\n",
        "      <td>NaN</td>\n",
        "    </tr>\n",
        "    <tr>\n",
        "      <th>world fusion</th>\n",
        "      <td>NaN</td>\n",
        "      <td>      NaN</td>\n",
        "      <td>      NaN</td>\n",
        "      <td>NaN</td>\n",
        "      <td>NaN</td>\n",
        "      <td>NaN</td>\n",
        "      <td>NaN</td>\n",
        "      <td>      NaN</td>\n",
        "      <td>NaN</td>\n",
        "      <td>NaN</td>\n",
        "      <td>...</td>\n",
        "      <td>NaN</td>\n",
        "      <td>NaN</td>\n",
        "      <td>NaN</td>\n",
        "      <td>NaN</td>\n",
        "      <td>NaN</td>\n",
        "      <td>      NaN</td>\n",
        "      <td> NaN</td>\n",
        "      <td>NaN</td>\n",
        "      <td>NaN</td>\n",
        "      <td>NaN</td>\n",
        "    </tr>\n",
        "    <tr>\n",
        "      <th>worship</th>\n",
        "      <td>NaN</td>\n",
        "      <td>      NaN</td>\n",
        "      <td>      NaN</td>\n",
        "      <td>NaN</td>\n",
        "      <td>NaN</td>\n",
        "      <td>NaN</td>\n",
        "      <td>NaN</td>\n",
        "      <td>      NaN</td>\n",
        "      <td>NaN</td>\n",
        "      <td>NaN</td>\n",
        "      <td>...</td>\n",
        "      <td>NaN</td>\n",
        "      <td>NaN</td>\n",
        "      <td>NaN</td>\n",
        "      <td>NaN</td>\n",
        "      <td>NaN</td>\n",
        "      <td>      NaN</td>\n",
        "      <td> NaN</td>\n",
        "      <td>NaN</td>\n",
        "      <td>NaN</td>\n",
        "      <td>NaN</td>\n",
        "    </tr>\n",
        "    <tr>\n",
        "      <th>wrestling</th>\n",
        "      <td>NaN</td>\n",
        "      <td>      NaN</td>\n",
        "      <td>      NaN</td>\n",
        "      <td>NaN</td>\n",
        "      <td>NaN</td>\n",
        "      <td>NaN</td>\n",
        "      <td>NaN</td>\n",
        "      <td>      NaN</td>\n",
        "      <td>NaN</td>\n",
        "      <td>NaN</td>\n",
        "      <td>...</td>\n",
        "      <td>NaN</td>\n",
        "      <td>NaN</td>\n",
        "      <td>NaN</td>\n",
        "      <td>NaN</td>\n",
        "      <td>NaN</td>\n",
        "      <td>      NaN</td>\n",
        "      <td> NaN</td>\n",
        "      <td>NaN</td>\n",
        "      <td>NaN</td>\n",
        "      <td>NaN</td>\n",
        "    </tr>\n",
        "    <tr>\n",
        "      <th>wrock</th>\n",
        "      <td>NaN</td>\n",
        "      <td>      NaN</td>\n",
        "      <td>      NaN</td>\n",
        "      <td>NaN</td>\n",
        "      <td>NaN</td>\n",
        "      <td>NaN</td>\n",
        "      <td>NaN</td>\n",
        "      <td>      NaN</td>\n",
        "      <td>NaN</td>\n",
        "      <td>NaN</td>\n",
        "      <td>...</td>\n",
        "      <td>NaN</td>\n",
        "      <td>NaN</td>\n",
        "      <td>NaN</td>\n",
        "      <td>NaN</td>\n",
        "      <td>NaN</td>\n",
        "      <td>      NaN</td>\n",
        "      <td> NaN</td>\n",
        "      <td>NaN</td>\n",
        "      <td>NaN</td>\n",
        "      <td>NaN</td>\n",
        "    </tr>\n",
        "    <tr>\n",
        "      <th>ye ye</th>\n",
        "      <td>NaN</td>\n",
        "      <td>      NaN</td>\n",
        "      <td>      NaN</td>\n",
        "      <td>NaN</td>\n",
        "      <td>NaN</td>\n",
        "      <td>NaN</td>\n",
        "      <td>NaN</td>\n",
        "      <td>      NaN</td>\n",
        "      <td>NaN</td>\n",
        "      <td>NaN</td>\n",
        "      <td>...</td>\n",
        "      <td>  1</td>\n",
        "      <td>NaN</td>\n",
        "      <td>NaN</td>\n",
        "      <td>NaN</td>\n",
        "      <td>NaN</td>\n",
        "      <td>      NaN</td>\n",
        "      <td> NaN</td>\n",
        "      <td>NaN</td>\n",
        "      <td>NaN</td>\n",
        "      <td>NaN</td>\n",
        "    </tr>\n",
        "    <tr>\n",
        "      <th>yoik</th>\n",
        "      <td>NaN</td>\n",
        "      <td>      NaN</td>\n",
        "      <td>      NaN</td>\n",
        "      <td>NaN</td>\n",
        "      <td>NaN</td>\n",
        "      <td>NaN</td>\n",
        "      <td>NaN</td>\n",
        "      <td>      NaN</td>\n",
        "      <td>NaN</td>\n",
        "      <td>NaN</td>\n",
        "      <td>...</td>\n",
        "      <td>NaN</td>\n",
        "      <td>  1</td>\n",
        "      <td>NaN</td>\n",
        "      <td>NaN</td>\n",
        "      <td>NaN</td>\n",
        "      <td>      NaN</td>\n",
        "      <td> NaN</td>\n",
        "      <td>NaN</td>\n",
        "      <td>NaN</td>\n",
        "      <td>NaN</td>\n",
        "    </tr>\n",
        "    <tr>\n",
        "      <th>yugoslav rock</th>\n",
        "      <td>NaN</td>\n",
        "      <td>      NaN</td>\n",
        "      <td>      NaN</td>\n",
        "      <td>NaN</td>\n",
        "      <td>NaN</td>\n",
        "      <td>NaN</td>\n",
        "      <td>NaN</td>\n",
        "      <td>      NaN</td>\n",
        "      <td>NaN</td>\n",
        "      <td>NaN</td>\n",
        "      <td>...</td>\n",
        "      <td>NaN</td>\n",
        "      <td>NaN</td>\n",
        "      <td>  1</td>\n",
        "      <td>NaN</td>\n",
        "      <td>NaN</td>\n",
        "      <td>      NaN</td>\n",
        "      <td> NaN</td>\n",
        "      <td>NaN</td>\n",
        "      <td>NaN</td>\n",
        "      <td>NaN</td>\n",
        "    </tr>\n",
        "    <tr>\n",
        "      <th>zeuhl</th>\n",
        "      <td>NaN</td>\n",
        "      <td>      NaN</td>\n",
        "      <td>      NaN</td>\n",
        "      <td>NaN</td>\n",
        "      <td>NaN</td>\n",
        "      <td>NaN</td>\n",
        "      <td>NaN</td>\n",
        "      <td>      NaN</td>\n",
        "      <td>NaN</td>\n",
        "      <td>NaN</td>\n",
        "      <td>...</td>\n",
        "      <td>NaN</td>\n",
        "      <td>NaN</td>\n",
        "      <td>NaN</td>\n",
        "      <td>  1</td>\n",
        "      <td>NaN</td>\n",
        "      <td>      NaN</td>\n",
        "      <td> 0.1</td>\n",
        "      <td>NaN</td>\n",
        "      <td>NaN</td>\n",
        "      <td>NaN</td>\n",
        "    </tr>\n",
        "    <tr>\n",
        "      <th>zillertal</th>\n",
        "      <td>NaN</td>\n",
        "      <td>      NaN</td>\n",
        "      <td>      NaN</td>\n",
        "      <td>NaN</td>\n",
        "      <td>NaN</td>\n",
        "      <td>NaN</td>\n",
        "      <td>NaN</td>\n",
        "      <td>      NaN</td>\n",
        "      <td>NaN</td>\n",
        "      <td>NaN</td>\n",
        "      <td>...</td>\n",
        "      <td>NaN</td>\n",
        "      <td>NaN</td>\n",
        "      <td>NaN</td>\n",
        "      <td>NaN</td>\n",
        "      <td>  1</td>\n",
        "      <td>      NaN</td>\n",
        "      <td> NaN</td>\n",
        "      <td>NaN</td>\n",
        "      <td>NaN</td>\n",
        "      <td>NaN</td>\n",
        "    </tr>\n",
        "    <tr>\n",
        "      <th>zim</th>\n",
        "      <td>NaN</td>\n",
        "      <td>      NaN</td>\n",
        "      <td>      NaN</td>\n",
        "      <td>NaN</td>\n",
        "      <td>NaN</td>\n",
        "      <td>NaN</td>\n",
        "      <td>NaN</td>\n",
        "      <td>      NaN</td>\n",
        "      <td>NaN</td>\n",
        "      <td>NaN</td>\n",
        "      <td>...</td>\n",
        "      <td>NaN</td>\n",
        "      <td>NaN</td>\n",
        "      <td>NaN</td>\n",
        "      <td>NaN</td>\n",
        "      <td>NaN</td>\n",
        "      <td> 1.000000</td>\n",
        "      <td> NaN</td>\n",
        "      <td>NaN</td>\n",
        "      <td>NaN</td>\n",
        "      <td>NaN</td>\n",
        "    </tr>\n",
        "    <tr>\n",
        "      <th>zolo</th>\n",
        "      <td>NaN</td>\n",
        "      <td>      NaN</td>\n",
        "      <td>      NaN</td>\n",
        "      <td>NaN</td>\n",
        "      <td>NaN</td>\n",
        "      <td>NaN</td>\n",
        "      <td>NaN</td>\n",
        "      <td>      NaN</td>\n",
        "      <td>NaN</td>\n",
        "      <td>NaN</td>\n",
        "      <td>...</td>\n",
        "      <td>NaN</td>\n",
        "      <td>NaN</td>\n",
        "      <td>NaN</td>\n",
        "      <td>NaN</td>\n",
        "      <td>NaN</td>\n",
        "      <td>      NaN</td>\n",
        "      <td> 1.0</td>\n",
        "      <td>NaN</td>\n",
        "      <td>NaN</td>\n",
        "      <td>NaN</td>\n",
        "    </tr>\n",
        "    <tr>\n",
        "      <th>zouglou</th>\n",
        "      <td>NaN</td>\n",
        "      <td>      NaN</td>\n",
        "      <td>      NaN</td>\n",
        "      <td>NaN</td>\n",
        "      <td>NaN</td>\n",
        "      <td>NaN</td>\n",
        "      <td>NaN</td>\n",
        "      <td>      NaN</td>\n",
        "      <td>NaN</td>\n",
        "      <td>NaN</td>\n",
        "      <td>...</td>\n",
        "      <td>NaN</td>\n",
        "      <td>NaN</td>\n",
        "      <td>NaN</td>\n",
        "      <td>NaN</td>\n",
        "      <td>NaN</td>\n",
        "      <td>      NaN</td>\n",
        "      <td> NaN</td>\n",
        "      <td>  1</td>\n",
        "      <td>NaN</td>\n",
        "      <td>NaN</td>\n",
        "    </tr>\n",
        "    <tr>\n",
        "      <th>zouk</th>\n",
        "      <td>NaN</td>\n",
        "      <td>      NaN</td>\n",
        "      <td>      NaN</td>\n",
        "      <td>NaN</td>\n",
        "      <td>NaN</td>\n",
        "      <td>NaN</td>\n",
        "      <td>NaN</td>\n",
        "      <td>      NaN</td>\n",
        "      <td>NaN</td>\n",
        "      <td>NaN</td>\n",
        "      <td>...</td>\n",
        "      <td>NaN</td>\n",
        "      <td>NaN</td>\n",
        "      <td>NaN</td>\n",
        "      <td>NaN</td>\n",
        "      <td>NaN</td>\n",
        "      <td>      NaN</td>\n",
        "      <td> NaN</td>\n",
        "      <td>NaN</td>\n",
        "      <td>  1</td>\n",
        "      <td>NaN</td>\n",
        "    </tr>\n",
        "    <tr>\n",
        "      <th>zydeco</th>\n",
        "      <td>NaN</td>\n",
        "      <td>      NaN</td>\n",
        "      <td>      NaN</td>\n",
        "      <td>NaN</td>\n",
        "      <td>NaN</td>\n",
        "      <td>NaN</td>\n",
        "      <td>NaN</td>\n",
        "      <td>      NaN</td>\n",
        "      <td>NaN</td>\n",
        "      <td>NaN</td>\n",
        "      <td>...</td>\n",
        "      <td>NaN</td>\n",
        "      <td>NaN</td>\n",
        "      <td>NaN</td>\n",
        "      <td>NaN</td>\n",
        "      <td>NaN</td>\n",
        "      <td>      NaN</td>\n",
        "      <td> NaN</td>\n",
        "      <td>NaN</td>\n",
        "      <td>NaN</td>\n",
        "      <td>  1</td>\n",
        "    </tr>\n",
        "  </tbody>\n",
        "</table>\n",
        "<p>1302 rows \u00d7 1302 columns</p>\n",
        "</div>"
       ],
       "metadata": {},
       "output_type": "pyout",
       "prompt_number": 24,
       "text": [
        "                       a cappella  abstract  abstract hip hop  abstract idm  \\\n",
        "a cappella                      1       NaN               NaN           NaN   \n",
        "abstract                      NaN  1.000000               NaN           NaN   \n",
        "abstract hip hop              NaN       NaN          1.000000           NaN   \n",
        "abstract idm                  NaN       NaN               NaN             1   \n",
        "accordion                     NaN       NaN               NaN           NaN   \n",
        "acid house                    NaN       NaN               NaN           NaN   \n",
        "acid jazz                     NaN       NaN               NaN           NaN   \n",
        "acid techno                   NaN       NaN               NaN           NaN   \n",
        "acousmatic                    NaN       NaN               NaN           NaN   \n",
        "acoustic blues                NaN       NaN               NaN           NaN   \n",
        "acoustic pop                  NaN       NaN               NaN           NaN   \n",
        "adult standards               NaN       NaN               NaN           NaN   \n",
        "african percussion            NaN       NaN               NaN           NaN   \n",
        "african rock                  NaN       NaN               NaN           NaN   \n",
        "afrikaans                     NaN       NaN               NaN           NaN   \n",
        "afrobeat                      NaN       NaN               NaN           NaN   \n",
        "afrobeats                     NaN       NaN               NaN           NaN   \n",
        "aggrotech                     NaN       NaN               NaN           NaN   \n",
        "albanian pop                  NaN       NaN               NaN           NaN   \n",
        "album rock                    NaN       NaN               NaN           NaN   \n",
        "albuquerque indie             NaN       NaN               NaN           NaN   \n",
        "alternative americana         NaN       NaN               NaN           NaN   \n",
        "alternative country           NaN       NaN               NaN           NaN   \n",
        "alternative dance             NaN       NaN               NaN           NaN   \n",
        "alternative emo               NaN       NaN               NaN           NaN   \n",
        "alternative hip hop           NaN       NaN          0.130612           NaN   \n",
        "alternative metal             NaN       NaN               NaN           NaN   \n",
        "alternative metalcore         NaN       NaN               NaN           NaN   \n",
        "alternative new age           NaN       NaN               NaN           NaN   \n",
        "alternative pop               NaN       NaN               NaN           NaN   \n",
        "...                           ...       ...               ...           ...   \n",
        "vocal house                   NaN       NaN               NaN           NaN   \n",
        "vocal jazz                    NaN       NaN               NaN           NaN   \n",
        "vocaloid                      NaN       NaN               NaN           NaN   \n",
        "volksmusik                    NaN       NaN               NaN           NaN   \n",
        "warm drone                    NaN  0.106145               NaN           NaN   \n",
        "welsh rock                    NaN       NaN               NaN           NaN   \n",
        "west african jazz             NaN       NaN               NaN           NaN   \n",
        "west coast rap                NaN       NaN               NaN           NaN   \n",
        "western swing                 NaN       NaN               NaN           NaN   \n",
        "wind ensemble                 NaN       NaN               NaN           NaN   \n",
        "witch house                   NaN       NaN               NaN           NaN   \n",
        "wonky                         NaN       NaN               NaN           NaN   \n",
        "workout                       NaN       NaN               NaN           NaN   \n",
        "world                         NaN       NaN               NaN           NaN   \n",
        "world chill                   NaN       NaN               NaN           NaN   \n",
        "world christmas               NaN       NaN               NaN           NaN   \n",
        "world fusion                  NaN       NaN               NaN           NaN   \n",
        "worship                       NaN       NaN               NaN           NaN   \n",
        "wrestling                     NaN       NaN               NaN           NaN   \n",
        "wrock                         NaN       NaN               NaN           NaN   \n",
        "ye ye                         NaN       NaN               NaN           NaN   \n",
        "yoik                          NaN       NaN               NaN           NaN   \n",
        "yugoslav rock                 NaN       NaN               NaN           NaN   \n",
        "zeuhl                         NaN       NaN               NaN           NaN   \n",
        "zillertal                     NaN       NaN               NaN           NaN   \n",
        "zim                           NaN       NaN               NaN           NaN   \n",
        "zolo                          NaN       NaN               NaN           NaN   \n",
        "zouglou                       NaN       NaN               NaN           NaN   \n",
        "zouk                          NaN       NaN               NaN           NaN   \n",
        "zydeco                        NaN       NaN               NaN           NaN   \n",
        "\n",
        "                       accordion  acid house  acid jazz  acid techno  \\\n",
        "a cappella                   NaN         NaN        NaN          NaN   \n",
        "abstract                     NaN         NaN        NaN          NaN   \n",
        "abstract hip hop             NaN         NaN        NaN          NaN   \n",
        "abstract idm                 NaN         NaN        NaN          NaN   \n",
        "accordion                      1         NaN        NaN          NaN   \n",
        "acid house                   NaN           1        NaN     0.098266   \n",
        "acid jazz                    NaN         NaN          1          NaN   \n",
        "acid techno                  NaN         NaN        NaN     1.000000   \n",
        "acousmatic                   NaN         NaN        NaN          NaN   \n",
        "acoustic blues               NaN         NaN        NaN          NaN   \n",
        "acoustic pop                 NaN         NaN        NaN          NaN   \n",
        "adult standards              NaN         NaN        NaN          NaN   \n",
        "african percussion           NaN         NaN        NaN          NaN   \n",
        "african rock                 NaN         NaN        NaN          NaN   \n",
        "afrikaans                    NaN         NaN        NaN          NaN   \n",
        "afrobeat                     NaN         NaN        NaN          NaN   \n",
        "afrobeats                    NaN         NaN        NaN          NaN   \n",
        "aggrotech                    NaN         NaN        NaN          NaN   \n",
        "albanian pop                 NaN         NaN        NaN          NaN   \n",
        "album rock                   NaN         NaN        NaN          NaN   \n",
        "albuquerque indie            NaN         NaN        NaN          NaN   \n",
        "alternative americana        NaN         NaN        NaN          NaN   \n",
        "alternative country          NaN         NaN        NaN          NaN   \n",
        "alternative dance            NaN         NaN        NaN          NaN   \n",
        "alternative emo              NaN         NaN        NaN          NaN   \n",
        "alternative hip hop          NaN         NaN        NaN          NaN   \n",
        "alternative metal            NaN         NaN        NaN          NaN   \n",
        "alternative metalcore        NaN         NaN        NaN          NaN   \n",
        "alternative new age          NaN         NaN        NaN          NaN   \n",
        "alternative pop              NaN         NaN        NaN          NaN   \n",
        "...                          ...         ...        ...          ...   \n",
        "vocal house                  NaN         NaN        NaN          NaN   \n",
        "vocal jazz                   NaN         NaN        NaN          NaN   \n",
        "vocaloid                     NaN         NaN        NaN          NaN   \n",
        "volksmusik                   NaN         NaN        NaN          NaN   \n",
        "warm drone                   NaN         NaN        NaN          NaN   \n",
        "welsh rock                   NaN         NaN        NaN          NaN   \n",
        "west african jazz            NaN         NaN        NaN          NaN   \n",
        "west coast rap               NaN         NaN        NaN          NaN   \n",
        "western swing                NaN         NaN        NaN          NaN   \n",
        "wind ensemble                NaN         NaN        NaN          NaN   \n",
        "witch house                  NaN         NaN        NaN          NaN   \n",
        "wonky                        NaN         NaN        NaN          NaN   \n",
        "workout                      NaN         NaN        NaN          NaN   \n",
        "world                        NaN         NaN        NaN          NaN   \n",
        "world chill                  NaN         NaN        NaN          NaN   \n",
        "world christmas              NaN         NaN        NaN          NaN   \n",
        "world fusion                 NaN         NaN        NaN          NaN   \n",
        "worship                      NaN         NaN        NaN          NaN   \n",
        "wrestling                    NaN         NaN        NaN          NaN   \n",
        "wrock                        NaN         NaN        NaN          NaN   \n",
        "ye ye                        NaN         NaN        NaN          NaN   \n",
        "yoik                         NaN         NaN        NaN          NaN   \n",
        "yugoslav rock                NaN         NaN        NaN          NaN   \n",
        "zeuhl                        NaN         NaN        NaN          NaN   \n",
        "zillertal                    NaN         NaN        NaN          NaN   \n",
        "zim                          NaN         NaN        NaN          NaN   \n",
        "zolo                         NaN         NaN        NaN          NaN   \n",
        "zouglou                      NaN         NaN        NaN          NaN   \n",
        "zouk                         NaN         NaN        NaN          NaN   \n",
        "zydeco                       NaN         NaN        NaN          NaN   \n",
        "\n",
        "                       acousmatic  acoustic blues       ...        ye ye  \\\n",
        "a cappella                    NaN             NaN       ...          NaN   \n",
        "abstract                      NaN             NaN       ...          NaN   \n",
        "abstract hip hop              NaN             NaN       ...          NaN   \n",
        "abstract idm                  NaN             NaN       ...          NaN   \n",
        "accordion                     NaN             NaN       ...          NaN   \n",
        "acid house                    NaN             NaN       ...          NaN   \n",
        "acid jazz                     NaN             NaN       ...          NaN   \n",
        "acid techno                   NaN             NaN       ...          NaN   \n",
        "acousmatic                      1             NaN       ...          NaN   \n",
        "acoustic blues                NaN               1       ...          NaN   \n",
        "acoustic pop                  NaN             NaN       ...          NaN   \n",
        "adult standards               NaN             NaN       ...          NaN   \n",
        "african percussion            NaN             NaN       ...          NaN   \n",
        "african rock                  NaN             NaN       ...          NaN   \n",
        "afrikaans                     NaN             NaN       ...          NaN   \n",
        "afrobeat                      NaN             NaN       ...          NaN   \n",
        "afrobeats                     NaN             NaN       ...          NaN   \n",
        "aggrotech                     NaN             NaN       ...          NaN   \n",
        "albanian pop                  NaN             NaN       ...          NaN   \n",
        "album rock                    NaN             NaN       ...          NaN   \n",
        "albuquerque indie             NaN             NaN       ...          NaN   \n",
        "alternative americana         NaN             NaN       ...          NaN   \n",
        "alternative country           NaN             NaN       ...          NaN   \n",
        "alternative dance             NaN             NaN       ...          NaN   \n",
        "alternative emo               NaN             NaN       ...          NaN   \n",
        "alternative hip hop           NaN             NaN       ...          NaN   \n",
        "alternative metal             NaN             NaN       ...          NaN   \n",
        "alternative metalcore         NaN             NaN       ...          NaN   \n",
        "alternative new age           NaN             NaN       ...          NaN   \n",
        "alternative pop               NaN             NaN       ...          NaN   \n",
        "...                           ...             ...       ...          ...   \n",
        "vocal house                   NaN             NaN       ...          NaN   \n",
        "vocal jazz                    NaN             NaN       ...          NaN   \n",
        "vocaloid                      NaN             NaN       ...          NaN   \n",
        "volksmusik                    NaN             NaN       ...          NaN   \n",
        "warm drone                    NaN             NaN       ...          NaN   \n",
        "welsh rock                    NaN             NaN       ...          NaN   \n",
        "west african jazz             NaN             NaN       ...          NaN   \n",
        "west coast rap                NaN             NaN       ...          NaN   \n",
        "western swing                 NaN             NaN       ...          NaN   \n",
        "wind ensemble                 NaN             NaN       ...          NaN   \n",
        "witch house                   NaN             NaN       ...          NaN   \n",
        "wonky                         NaN             NaN       ...          NaN   \n",
        "workout                       NaN             NaN       ...          NaN   \n",
        "world                         NaN             NaN       ...          NaN   \n",
        "world chill                   NaN             NaN       ...          NaN   \n",
        "world christmas               NaN             NaN       ...          NaN   \n",
        "world fusion                  NaN             NaN       ...          NaN   \n",
        "worship                       NaN             NaN       ...          NaN   \n",
        "wrestling                     NaN             NaN       ...          NaN   \n",
        "wrock                         NaN             NaN       ...          NaN   \n",
        "ye ye                         NaN             NaN       ...            1   \n",
        "yoik                          NaN             NaN       ...          NaN   \n",
        "yugoslav rock                 NaN             NaN       ...          NaN   \n",
        "zeuhl                         NaN             NaN       ...          NaN   \n",
        "zillertal                     NaN             NaN       ...          NaN   \n",
        "zim                           NaN             NaN       ...          NaN   \n",
        "zolo                          NaN             NaN       ...          NaN   \n",
        "zouglou                       NaN             NaN       ...          NaN   \n",
        "zouk                          NaN             NaN       ...          NaN   \n",
        "zydeco                        NaN             NaN       ...          NaN   \n",
        "\n",
        "                       yoik  yugoslav rock  zeuhl  zillertal       zim  zolo  \\\n",
        "a cappella              NaN            NaN    NaN        NaN       NaN   NaN   \n",
        "abstract                NaN            NaN    NaN        NaN       NaN   NaN   \n",
        "abstract hip hop        NaN            NaN    NaN        NaN       NaN   NaN   \n",
        "abstract idm            NaN            NaN    NaN        NaN       NaN   NaN   \n",
        "accordion               NaN            NaN    NaN        NaN       NaN   NaN   \n",
        "acid house              NaN            NaN    NaN        NaN       NaN   NaN   \n",
        "acid jazz               NaN            NaN    NaN        NaN       NaN   NaN   \n",
        "acid techno             NaN            NaN    NaN        NaN       NaN   NaN   \n",
        "acousmatic              NaN            NaN    NaN        NaN       NaN   NaN   \n",
        "acoustic blues          NaN            NaN    NaN        NaN       NaN   NaN   \n",
        "acoustic pop            NaN            NaN    NaN        NaN       NaN   NaN   \n",
        "adult standards         NaN            NaN    NaN        NaN       NaN   NaN   \n",
        "african percussion      NaN            NaN    NaN        NaN       NaN   NaN   \n",
        "african rock            NaN            NaN    NaN        NaN       NaN   NaN   \n",
        "afrikaans               NaN            NaN    NaN        NaN       NaN   NaN   \n",
        "afrobeat                NaN            NaN    NaN        NaN       NaN   NaN   \n",
        "afrobeats               NaN            NaN    NaN        NaN       NaN   NaN   \n",
        "aggrotech               NaN            NaN    NaN        NaN       NaN   NaN   \n",
        "albanian pop            NaN            NaN    NaN        NaN       NaN   NaN   \n",
        "album rock              NaN            NaN    NaN        NaN       NaN   NaN   \n",
        "albuquerque indie       NaN            NaN    NaN        NaN       NaN   NaN   \n",
        "alternative americana   NaN            NaN    NaN        NaN       NaN   NaN   \n",
        "alternative country     NaN            NaN    NaN        NaN       NaN   NaN   \n",
        "alternative dance       NaN            NaN    NaN        NaN       NaN   NaN   \n",
        "alternative emo         NaN            NaN    NaN        NaN       NaN   NaN   \n",
        "alternative hip hop     NaN            NaN    NaN        NaN       NaN   NaN   \n",
        "alternative metal       NaN            NaN    NaN        NaN       NaN   NaN   \n",
        "alternative metalcore   NaN            NaN    NaN        NaN       NaN   NaN   \n",
        "alternative new age     NaN            NaN    NaN        NaN       NaN   NaN   \n",
        "alternative pop         NaN            NaN    NaN        NaN       NaN   NaN   \n",
        "...                     ...            ...    ...        ...       ...   ...   \n",
        "vocal house             NaN            NaN    NaN        NaN       NaN   NaN   \n",
        "vocal jazz              NaN            NaN    NaN        NaN       NaN   NaN   \n",
        "vocaloid                NaN            NaN    NaN        NaN       NaN   NaN   \n",
        "volksmusik              NaN            NaN    NaN        NaN       NaN   NaN   \n",
        "warm drone              NaN            NaN    NaN        NaN       NaN   NaN   \n",
        "welsh rock              NaN            NaN    NaN        NaN       NaN   NaN   \n",
        "west african jazz       NaN            NaN    NaN        NaN       NaN   NaN   \n",
        "west coast rap          NaN            NaN    NaN        NaN       NaN   NaN   \n",
        "western swing           NaN            NaN    NaN        NaN       NaN   NaN   \n",
        "wind ensemble           NaN            NaN    NaN        NaN       NaN   NaN   \n",
        "witch house             NaN            NaN    NaN        NaN       NaN   NaN   \n",
        "wonky                   NaN            NaN    NaN        NaN       NaN   NaN   \n",
        "workout                 NaN            NaN    NaN        NaN       NaN   NaN   \n",
        "world                   NaN            NaN    NaN        NaN  0.095238   NaN   \n",
        "world chill             NaN            NaN    NaN        NaN       NaN   NaN   \n",
        "world christmas         NaN            NaN    NaN        NaN       NaN   NaN   \n",
        "world fusion            NaN            NaN    NaN        NaN       NaN   NaN   \n",
        "worship                 NaN            NaN    NaN        NaN       NaN   NaN   \n",
        "wrestling               NaN            NaN    NaN        NaN       NaN   NaN   \n",
        "wrock                   NaN            NaN    NaN        NaN       NaN   NaN   \n",
        "ye ye                   NaN            NaN    NaN        NaN       NaN   NaN   \n",
        "yoik                      1            NaN    NaN        NaN       NaN   NaN   \n",
        "yugoslav rock           NaN              1    NaN        NaN       NaN   NaN   \n",
        "zeuhl                   NaN            NaN      1        NaN       NaN   0.1   \n",
        "zillertal               NaN            NaN    NaN          1       NaN   NaN   \n",
        "zim                     NaN            NaN    NaN        NaN  1.000000   NaN   \n",
        "zolo                    NaN            NaN    NaN        NaN       NaN   1.0   \n",
        "zouglou                 NaN            NaN    NaN        NaN       NaN   NaN   \n",
        "zouk                    NaN            NaN    NaN        NaN       NaN   NaN   \n",
        "zydeco                  NaN            NaN    NaN        NaN       NaN   NaN   \n",
        "\n",
        "                       zouglou  zouk  zydeco  \n",
        "a cappella                 NaN   NaN     NaN  \n",
        "abstract                   NaN   NaN     NaN  \n",
        "abstract hip hop           NaN   NaN     NaN  \n",
        "abstract idm               NaN   NaN     NaN  \n",
        "accordion                  NaN   NaN     NaN  \n",
        "acid house                 NaN   NaN     NaN  \n",
        "acid jazz                  NaN   NaN     NaN  \n",
        "acid techno                NaN   NaN     NaN  \n",
        "acousmatic                 NaN   NaN     NaN  \n",
        "acoustic blues             NaN   NaN     NaN  \n",
        "acoustic pop               NaN   NaN     NaN  \n",
        "adult standards            NaN   NaN     NaN  \n",
        "african percussion         NaN   NaN     NaN  \n",
        "african rock               NaN   NaN     NaN  \n",
        "afrikaans                  NaN   NaN     NaN  \n",
        "afrobeat                   NaN   NaN     NaN  \n",
        "afrobeats                  NaN   NaN     NaN  \n",
        "aggrotech                  NaN   NaN     NaN  \n",
        "albanian pop               NaN   NaN     NaN  \n",
        "album rock                 NaN   NaN     NaN  \n",
        "albuquerque indie          NaN   NaN     NaN  \n",
        "alternative americana      NaN   NaN     NaN  \n",
        "alternative country        NaN   NaN     NaN  \n",
        "alternative dance          NaN   NaN     NaN  \n",
        "alternative emo            NaN   NaN     NaN  \n",
        "alternative hip hop        NaN   NaN     NaN  \n",
        "alternative metal          NaN   NaN     NaN  \n",
        "alternative metalcore      NaN   NaN     NaN  \n",
        "alternative new age        NaN   NaN     NaN  \n",
        "alternative pop            NaN   NaN     NaN  \n",
        "...                        ...   ...     ...  \n",
        "vocal house                NaN   NaN     NaN  \n",
        "vocal jazz                 NaN   NaN     NaN  \n",
        "vocaloid                   NaN   NaN     NaN  \n",
        "volksmusik                 NaN   NaN     NaN  \n",
        "warm drone                 NaN   NaN     NaN  \n",
        "welsh rock                 NaN   NaN     NaN  \n",
        "west african jazz          NaN   NaN     NaN  \n",
        "west coast rap             NaN   NaN     NaN  \n",
        "western swing              NaN   NaN     NaN  \n",
        "wind ensemble              NaN   NaN     NaN  \n",
        "witch house                NaN   NaN     NaN  \n",
        "wonky                      NaN   NaN     NaN  \n",
        "workout                    NaN   NaN     NaN  \n",
        "world                      NaN   NaN     NaN  \n",
        "world chill                NaN   NaN     NaN  \n",
        "world christmas            NaN   NaN     NaN  \n",
        "world fusion               NaN   NaN     NaN  \n",
        "worship                    NaN   NaN     NaN  \n",
        "wrestling                  NaN   NaN     NaN  \n",
        "wrock                      NaN   NaN     NaN  \n",
        "ye ye                      NaN   NaN     NaN  \n",
        "yoik                       NaN   NaN     NaN  \n",
        "yugoslav rock              NaN   NaN     NaN  \n",
        "zeuhl                      NaN   NaN     NaN  \n",
        "zillertal                  NaN   NaN     NaN  \n",
        "zim                        NaN   NaN     NaN  \n",
        "zolo                       NaN   NaN     NaN  \n",
        "zouglou                      1   NaN     NaN  \n",
        "zouk                       NaN     1     NaN  \n",
        "zydeco                     NaN   NaN       1  \n",
        "\n",
        "[1302 rows x 1302 columns]"
       ]
      }
     ],
     "prompt_number": 24
    },
    {
     "cell_type": "code",
     "collapsed": false,
     "input": [
      "json.dump(genre_sim_tot, open('genre_sim_tot.txt', 'wb'))"
     ],
     "language": "python",
     "metadata": {},
     "outputs": [],
     "prompt_number": 25
    },
    {
     "cell_type": "code",
     "collapsed": false,
     "input": [
      "r.import_cat_data()"
     ],
     "language": "python",
     "metadata": {},
     "outputs": [
      {
       "output_type": "stream",
       "stream": "stdout",
       "text": [
        "\n",
        "error"
       ]
      },
      {
       "output_type": "stream",
       "stream": "stdout",
       "text": [
        "\n",
        "error"
       ]
      },
      {
       "output_type": "stream",
       "stream": "stdout",
       "text": [
        "\n",
        "error"
       ]
      },
      {
       "output_type": "stream",
       "stream": "stdout",
       "text": [
        "\n",
        "error"
       ]
      },
      {
       "output_type": "stream",
       "stream": "stdout",
       "text": [
        "\n",
        "error"
       ]
      },
      {
       "output_type": "stream",
       "stream": "stdout",
       "text": [
        "\n",
        "error"
       ]
      },
      {
       "output_type": "stream",
       "stream": "stdout",
       "text": [
        "\n",
        "error"
       ]
      },
      {
       "output_type": "stream",
       "stream": "stdout",
       "text": [
        "\n",
        "error"
       ]
      },
      {
       "output_type": "stream",
       "stream": "stdout",
       "text": [
        "\n",
        "error"
       ]
      },
      {
       "output_type": "stream",
       "stream": "stdout",
       "text": [
        "\n",
        "error"
       ]
      },
      {
       "output_type": "stream",
       "stream": "stdout",
       "text": [
        "\n",
        "error"
       ]
      },
      {
       "output_type": "stream",
       "stream": "stdout",
       "text": [
        "\n",
        "error"
       ]
      },
      {
       "output_type": "stream",
       "stream": "stdout",
       "text": [
        "\n",
        "error"
       ]
      },
      {
       "output_type": "stream",
       "stream": "stdout",
       "text": [
        "\n",
        "error"
       ]
      },
      {
       "output_type": "stream",
       "stream": "stdout",
       "text": [
        "\n",
        "error"
       ]
      },
      {
       "output_type": "stream",
       "stream": "stdout",
       "text": [
        "\n",
        "error"
       ]
      },
      {
       "output_type": "stream",
       "stream": "stdout",
       "text": [
        "\n",
        "error"
       ]
      },
      {
       "output_type": "stream",
       "stream": "stdout",
       "text": [
        "\n",
        "error"
       ]
      },
      {
       "output_type": "stream",
       "stream": "stdout",
       "text": [
        "\n",
        "error"
       ]
      },
      {
       "output_type": "stream",
       "stream": "stdout",
       "text": [
        "\n",
        "error"
       ]
      },
      {
       "output_type": "stream",
       "stream": "stdout",
       "text": [
        "\n",
        "error"
       ]
      },
      {
       "output_type": "stream",
       "stream": "stdout",
       "text": [
        "\n",
        "error"
       ]
      },
      {
       "output_type": "stream",
       "stream": "stdout",
       "text": [
        "\n",
        "error"
       ]
      },
      {
       "output_type": "stream",
       "stream": "stdout",
       "text": [
        "\n",
        "error"
       ]
      },
      {
       "output_type": "stream",
       "stream": "stdout",
       "text": [
        "\n",
        "error"
       ]
      },
      {
       "output_type": "stream",
       "stream": "stdout",
       "text": [
        "\n",
        "error"
       ]
      },
      {
       "output_type": "stream",
       "stream": "stdout",
       "text": [
        "\n",
        "error"
       ]
      },
      {
       "output_type": "stream",
       "stream": "stdout",
       "text": [
        "\n",
        "error"
       ]
      },
      {
       "output_type": "stream",
       "stream": "stdout",
       "text": [
        "\n",
        "error"
       ]
      },
      {
       "output_type": "stream",
       "stream": "stdout",
       "text": [
        "\n",
        "error"
       ]
      },
      {
       "output_type": "stream",
       "stream": "stdout",
       "text": [
        "\n",
        "error"
       ]
      },
      {
       "output_type": "stream",
       "stream": "stdout",
       "text": [
        "\n",
        "error"
       ]
      },
      {
       "output_type": "stream",
       "stream": "stdout",
       "text": [
        "\n",
        "error"
       ]
      },
      {
       "output_type": "stream",
       "stream": "stdout",
       "text": [
        "\n",
        "error"
       ]
      },
      {
       "output_type": "stream",
       "stream": "stdout",
       "text": [
        "\n",
        "error"
       ]
      },
      {
       "output_type": "stream",
       "stream": "stdout",
       "text": [
        "\n",
        "error"
       ]
      },
      {
       "output_type": "stream",
       "stream": "stdout",
       "text": [
        "\n",
        "error"
       ]
      },
      {
       "output_type": "stream",
       "stream": "stdout",
       "text": [
        "\n",
        "error"
       ]
      },
      {
       "output_type": "stream",
       "stream": "stdout",
       "text": [
        "\n",
        "error"
       ]
      },
      {
       "output_type": "stream",
       "stream": "stdout",
       "text": [
        "\n",
        "error"
       ]
      },
      {
       "output_type": "stream",
       "stream": "stdout",
       "text": [
        "\n",
        "error"
       ]
      },
      {
       "output_type": "stream",
       "stream": "stdout",
       "text": [
        "\n",
        "error"
       ]
      },
      {
       "output_type": "stream",
       "stream": "stdout",
       "text": [
        "\n",
        "error"
       ]
      },
      {
       "output_type": "stream",
       "stream": "stdout",
       "text": [
        "\n",
        "error"
       ]
      },
      {
       "output_type": "stream",
       "stream": "stdout",
       "text": [
        "\n",
        "error"
       ]
      },
      {
       "output_type": "stream",
       "stream": "stdout",
       "text": [
        "\n",
        "error"
       ]
      },
      {
       "output_type": "stream",
       "stream": "stdout",
       "text": [
        "\n",
        "error"
       ]
      },
      {
       "output_type": "stream",
       "stream": "stdout",
       "text": [
        "\n",
        "error"
       ]
      },
      {
       "output_type": "stream",
       "stream": "stdout",
       "text": [
        "\n",
        "error"
       ]
      },
      {
       "output_type": "stream",
       "stream": "stdout",
       "text": [
        "\n",
        "error"
       ]
      },
      {
       "output_type": "stream",
       "stream": "stdout",
       "text": [
        "\n",
        "error"
       ]
      },
      {
       "output_type": "stream",
       "stream": "stdout",
       "text": [
        "\n",
        "error"
       ]
      },
      {
       "output_type": "stream",
       "stream": "stdout",
       "text": [
        "\n",
        "error"
       ]
      },
      {
       "output_type": "stream",
       "stream": "stdout",
       "text": [
        "\n",
        "error"
       ]
      },
      {
       "output_type": "stream",
       "stream": "stdout",
       "text": [
        "\n",
        "error"
       ]
      },
      {
       "output_type": "stream",
       "stream": "stdout",
       "text": [
        "\n",
        "error"
       ]
      },
      {
       "output_type": "stream",
       "stream": "stdout",
       "text": [
        "\n",
        "error"
       ]
      },
      {
       "output_type": "stream",
       "stream": "stdout",
       "text": [
        "\n",
        "error"
       ]
      },
      {
       "output_type": "stream",
       "stream": "stdout",
       "text": [
        "\n",
        "error"
       ]
      },
      {
       "output_type": "stream",
       "stream": "stdout",
       "text": [
        "\n",
        "error"
       ]
      },
      {
       "output_type": "stream",
       "stream": "stdout",
       "text": [
        "\n",
        "error"
       ]
      },
      {
       "output_type": "stream",
       "stream": "stdout",
       "text": [
        "\n",
        "error"
       ]
      },
      {
       "output_type": "stream",
       "stream": "stdout",
       "text": [
        "\n",
        "error"
       ]
      },
      {
       "output_type": "stream",
       "stream": "stdout",
       "text": [
        "\n",
        "error"
       ]
      },
      {
       "output_type": "stream",
       "stream": "stdout",
       "text": [
        "\n",
        "error"
       ]
      },
      {
       "output_type": "stream",
       "stream": "stdout",
       "text": [
        "\n",
        "error"
       ]
      },
      {
       "output_type": "stream",
       "stream": "stdout",
       "text": [
        "\n",
        "error"
       ]
      },
      {
       "output_type": "stream",
       "stream": "stdout",
       "text": [
        "\n",
        "error"
       ]
      },
      {
       "output_type": "stream",
       "stream": "stdout",
       "text": [
        "\n",
        "error"
       ]
      },
      {
       "output_type": "stream",
       "stream": "stdout",
       "text": [
        "\n",
        "error"
       ]
      },
      {
       "output_type": "stream",
       "stream": "stdout",
       "text": [
        "\n",
        "error"
       ]
      },
      {
       "output_type": "stream",
       "stream": "stdout",
       "text": [
        "\n",
        "error"
       ]
      },
      {
       "output_type": "stream",
       "stream": "stdout",
       "text": [
        "\n",
        "error"
       ]
      },
      {
       "output_type": "stream",
       "stream": "stdout",
       "text": [
        "\n",
        "error"
       ]
      },
      {
       "output_type": "stream",
       "stream": "stdout",
       "text": [
        "\n",
        "error"
       ]
      },
      {
       "output_type": "stream",
       "stream": "stdout",
       "text": [
        "\n",
        "error"
       ]
      },
      {
       "output_type": "stream",
       "stream": "stdout",
       "text": [
        "\n",
        "error"
       ]
      },
      {
       "output_type": "stream",
       "stream": "stdout",
       "text": [
        "\n",
        "error"
       ]
      },
      {
       "output_type": "stream",
       "stream": "stdout",
       "text": [
        "\n",
        "error"
       ]
      },
      {
       "output_type": "stream",
       "stream": "stdout",
       "text": [
        "\n",
        "error"
       ]
      },
      {
       "output_type": "stream",
       "stream": "stdout",
       "text": [
        "\n",
        "error"
       ]
      },
      {
       "output_type": "stream",
       "stream": "stdout",
       "text": [
        "\n",
        "error"
       ]
      },
      {
       "output_type": "stream",
       "stream": "stdout",
       "text": [
        "\n",
        "error"
       ]
      },
      {
       "output_type": "stream",
       "stream": "stdout",
       "text": [
        "\n",
        "error"
       ]
      },
      {
       "output_type": "stream",
       "stream": "stdout",
       "text": [
        "\n",
        "error"
       ]
      },
      {
       "output_type": "stream",
       "stream": "stdout",
       "text": [
        "\n",
        "error"
       ]
      },
      {
       "output_type": "stream",
       "stream": "stdout",
       "text": [
        "\n",
        "error"
       ]
      },
      {
       "output_type": "stream",
       "stream": "stdout",
       "text": [
        "\n",
        "error"
       ]
      },
      {
       "output_type": "stream",
       "stream": "stdout",
       "text": [
        "\n",
        "error"
       ]
      },
      {
       "output_type": "stream",
       "stream": "stdout",
       "text": [
        "\n",
        "error"
       ]
      },
      {
       "output_type": "stream",
       "stream": "stdout",
       "text": [
        "\n",
        "error"
       ]
      },
      {
       "output_type": "stream",
       "stream": "stdout",
       "text": [
        "\n",
        "error"
       ]
      },
      {
       "output_type": "stream",
       "stream": "stdout",
       "text": [
        "\n",
        "error"
       ]
      },
      {
       "output_type": "stream",
       "stream": "stdout",
       "text": [
        "\n",
        "error"
       ]
      },
      {
       "output_type": "stream",
       "stream": "stdout",
       "text": [
        "\n",
        "error"
       ]
      },
      {
       "output_type": "stream",
       "stream": "stdout",
       "text": [
        "\n",
        "error"
       ]
      },
      {
       "output_type": "stream",
       "stream": "stdout",
       "text": [
        "\n",
        "error"
       ]
      },
      {
       "output_type": "stream",
       "stream": "stdout",
       "text": [
        "\n",
        "error"
       ]
      },
      {
       "output_type": "stream",
       "stream": "stdout",
       "text": [
        "\n",
        "error"
       ]
      },
      {
       "output_type": "stream",
       "stream": "stdout",
       "text": [
        "\n",
        "error"
       ]
      },
      {
       "output_type": "stream",
       "stream": "stdout",
       "text": [
        "\n",
        "error"
       ]
      },
      {
       "output_type": "stream",
       "stream": "stdout",
       "text": [
        "\n",
        "error"
       ]
      },
      {
       "output_type": "stream",
       "stream": "stdout",
       "text": [
        "\n",
        "error"
       ]
      },
      {
       "output_type": "stream",
       "stream": "stdout",
       "text": [
        "\n",
        "error"
       ]
      },
      {
       "output_type": "stream",
       "stream": "stdout",
       "text": [
        "\n",
        "error"
       ]
      },
      {
       "output_type": "stream",
       "stream": "stdout",
       "text": [
        "\n",
        "error"
       ]
      },
      {
       "output_type": "stream",
       "stream": "stdout",
       "text": [
        "\n",
        "error"
       ]
      },
      {
       "output_type": "stream",
       "stream": "stdout",
       "text": [
        "\n",
        "error"
       ]
      },
      {
       "output_type": "stream",
       "stream": "stdout",
       "text": [
        "\n",
        "error"
       ]
      },
      {
       "output_type": "stream",
       "stream": "stdout",
       "text": [
        "\n",
        "error"
       ]
      },
      {
       "output_type": "stream",
       "stream": "stdout",
       "text": [
        "\n",
        "error"
       ]
      },
      {
       "output_type": "stream",
       "stream": "stdout",
       "text": [
        "\n",
        "error"
       ]
      },
      {
       "output_type": "stream",
       "stream": "stdout",
       "text": [
        "\n",
        "error"
       ]
      },
      {
       "output_type": "stream",
       "stream": "stdout",
       "text": [
        "\n",
        "error"
       ]
      },
      {
       "output_type": "stream",
       "stream": "stdout",
       "text": [
        "\n",
        "error"
       ]
      },
      {
       "output_type": "stream",
       "stream": "stdout",
       "text": [
        "\n",
        "error"
       ]
      },
      {
       "output_type": "stream",
       "stream": "stdout",
       "text": [
        "\n",
        "error"
       ]
      },
      {
       "output_type": "stream",
       "stream": "stdout",
       "text": [
        "\n",
        "error"
       ]
      },
      {
       "output_type": "stream",
       "stream": "stdout",
       "text": [
        "\n",
        "error"
       ]
      },
      {
       "output_type": "stream",
       "stream": "stdout",
       "text": [
        "\n",
        "error"
       ]
      },
      {
       "output_type": "stream",
       "stream": "stdout",
       "text": [
        "\n",
        "error"
       ]
      },
      {
       "output_type": "stream",
       "stream": "stdout",
       "text": [
        "\n",
        "error"
       ]
      },
      {
       "output_type": "stream",
       "stream": "stdout",
       "text": [
        "\n",
        "error"
       ]
      },
      {
       "output_type": "stream",
       "stream": "stdout",
       "text": [
        "\n",
        "error"
       ]
      },
      {
       "output_type": "stream",
       "stream": "stdout",
       "text": [
        "\n",
        "error"
       ]
      },
      {
       "output_type": "stream",
       "stream": "stdout",
       "text": [
        "\n",
        "error"
       ]
      },
      {
       "output_type": "stream",
       "stream": "stdout",
       "text": [
        "\n",
        "error"
       ]
      },
      {
       "output_type": "stream",
       "stream": "stdout",
       "text": [
        "\n",
        "error"
       ]
      },
      {
       "output_type": "stream",
       "stream": "stdout",
       "text": [
        "\n",
        "error"
       ]
      },
      {
       "output_type": "stream",
       "stream": "stdout",
       "text": [
        "\n",
        "error"
       ]
      },
      {
       "output_type": "stream",
       "stream": "stdout",
       "text": [
        "\n",
        "error"
       ]
      },
      {
       "output_type": "stream",
       "stream": "stdout",
       "text": [
        "\n",
        "error"
       ]
      },
      {
       "output_type": "stream",
       "stream": "stdout",
       "text": [
        "\n",
        "error"
       ]
      },
      {
       "output_type": "stream",
       "stream": "stdout",
       "text": [
        "\n",
        "error"
       ]
      },
      {
       "output_type": "stream",
       "stream": "stdout",
       "text": [
        "\n",
        "error"
       ]
      },
      {
       "output_type": "stream",
       "stream": "stdout",
       "text": [
        "\n",
        "error"
       ]
      },
      {
       "output_type": "stream",
       "stream": "stdout",
       "text": [
        "\n",
        "error"
       ]
      },
      {
       "output_type": "stream",
       "stream": "stdout",
       "text": [
        "\n",
        "error"
       ]
      },
      {
       "output_type": "stream",
       "stream": "stdout",
       "text": [
        "\n",
        "error"
       ]
      },
      {
       "output_type": "stream",
       "stream": "stdout",
       "text": [
        "\n",
        "error"
       ]
      },
      {
       "output_type": "stream",
       "stream": "stdout",
       "text": [
        "\n",
        "error"
       ]
      },
      {
       "output_type": "stream",
       "stream": "stdout",
       "text": [
        "\n",
        "error"
       ]
      },
      {
       "output_type": "stream",
       "stream": "stdout",
       "text": [
        "\n",
        "error"
       ]
      },
      {
       "output_type": "stream",
       "stream": "stdout",
       "text": [
        "\n",
        "error"
       ]
      },
      {
       "output_type": "stream",
       "stream": "stdout",
       "text": [
        "\n",
        "error"
       ]
      },
      {
       "output_type": "stream",
       "stream": "stdout",
       "text": [
        "\n",
        "error"
       ]
      },
      {
       "output_type": "stream",
       "stream": "stdout",
       "text": [
        "\n",
        "error"
       ]
      },
      {
       "output_type": "stream",
       "stream": "stdout",
       "text": [
        "\n",
        "error"
       ]
      },
      {
       "output_type": "stream",
       "stream": "stdout",
       "text": [
        "\n",
        "error"
       ]
      },
      {
       "output_type": "stream",
       "stream": "stdout",
       "text": [
        "\n",
        "error"
       ]
      },
      {
       "output_type": "stream",
       "stream": "stdout",
       "text": [
        "\n",
        "error"
       ]
      },
      {
       "output_type": "stream",
       "stream": "stdout",
       "text": [
        "\n",
        "error"
       ]
      },
      {
       "output_type": "stream",
       "stream": "stdout",
       "text": [
        "\n",
        "error"
       ]
      },
      {
       "output_type": "stream",
       "stream": "stdout",
       "text": [
        "\n",
        "error"
       ]
      },
      {
       "output_type": "stream",
       "stream": "stdout",
       "text": [
        "\n",
        "error"
       ]
      },
      {
       "output_type": "stream",
       "stream": "stdout",
       "text": [
        "\n",
        "error"
       ]
      },
      {
       "output_type": "stream",
       "stream": "stdout",
       "text": [
        "\n",
        "error"
       ]
      },
      {
       "output_type": "stream",
       "stream": "stdout",
       "text": [
        "\n",
        "error"
       ]
      },
      {
       "output_type": "stream",
       "stream": "stdout",
       "text": [
        "\n",
        "error"
       ]
      },
      {
       "output_type": "stream",
       "stream": "stdout",
       "text": [
        "\n",
        "error"
       ]
      },
      {
       "output_type": "stream",
       "stream": "stdout",
       "text": [
        "\n",
        "error"
       ]
      },
      {
       "output_type": "stream",
       "stream": "stdout",
       "text": [
        "\n",
        "error"
       ]
      },
      {
       "output_type": "stream",
       "stream": "stdout",
       "text": [
        "\n",
        "error"
       ]
      },
      {
       "output_type": "stream",
       "stream": "stdout",
       "text": [
        "\n",
        "error"
       ]
      },
      {
       "output_type": "stream",
       "stream": "stdout",
       "text": [
        "\n",
        "error"
       ]
      },
      {
       "output_type": "stream",
       "stream": "stdout",
       "text": [
        "\n",
        "error"
       ]
      },
      {
       "output_type": "stream",
       "stream": "stdout",
       "text": [
        "\n",
        "error"
       ]
      },
      {
       "output_type": "stream",
       "stream": "stdout",
       "text": [
        "\n",
        "error"
       ]
      },
      {
       "output_type": "stream",
       "stream": "stdout",
       "text": [
        "\n",
        "error"
       ]
      },
      {
       "output_type": "stream",
       "stream": "stdout",
       "text": [
        "\n",
        "error"
       ]
      },
      {
       "output_type": "stream",
       "stream": "stdout",
       "text": [
        "\n",
        "error"
       ]
      },
      {
       "output_type": "stream",
       "stream": "stdout",
       "text": [
        "\n",
        "error"
       ]
      },
      {
       "output_type": "stream",
       "stream": "stdout",
       "text": [
        "\n",
        "error"
       ]
      },
      {
       "output_type": "stream",
       "stream": "stdout",
       "text": [
        "\n",
        "error"
       ]
      },
      {
       "output_type": "stream",
       "stream": "stdout",
       "text": [
        "\n",
        "error"
       ]
      },
      {
       "output_type": "stream",
       "stream": "stdout",
       "text": [
        "\n",
        "error"
       ]
      },
      {
       "output_type": "stream",
       "stream": "stdout",
       "text": [
        "\n",
        "error"
       ]
      },
      {
       "output_type": "stream",
       "stream": "stdout",
       "text": [
        "\n",
        "error"
       ]
      },
      {
       "output_type": "stream",
       "stream": "stdout",
       "text": [
        "\n",
        "error"
       ]
      },
      {
       "output_type": "stream",
       "stream": "stdout",
       "text": [
        "\n",
        "error"
       ]
      },
      {
       "output_type": "stream",
       "stream": "stdout",
       "text": [
        "\n",
        "error"
       ]
      },
      {
       "output_type": "stream",
       "stream": "stdout",
       "text": [
        "\n",
        "error"
       ]
      },
      {
       "output_type": "stream",
       "stream": "stdout",
       "text": [
        "\n",
        "error"
       ]
      },
      {
       "output_type": "stream",
       "stream": "stdout",
       "text": [
        "\n",
        "error"
       ]
      },
      {
       "output_type": "stream",
       "stream": "stdout",
       "text": [
        "\n",
        "error"
       ]
      },
      {
       "output_type": "stream",
       "stream": "stdout",
       "text": [
        "\n",
        "error"
       ]
      },
      {
       "output_type": "stream",
       "stream": "stdout",
       "text": [
        "\n",
        "error"
       ]
      },
      {
       "output_type": "stream",
       "stream": "stdout",
       "text": [
        "\n",
        "error"
       ]
      },
      {
       "output_type": "stream",
       "stream": "stdout",
       "text": [
        "\n",
        "error"
       ]
      },
      {
       "output_type": "stream",
       "stream": "stdout",
       "text": [
        "\n",
        "error"
       ]
      },
      {
       "output_type": "stream",
       "stream": "stdout",
       "text": [
        "\n",
        "error"
       ]
      },
      {
       "output_type": "stream",
       "stream": "stdout",
       "text": [
        "\n",
        "error"
       ]
      },
      {
       "output_type": "stream",
       "stream": "stdout",
       "text": [
        "\n",
        "error"
       ]
      },
      {
       "output_type": "stream",
       "stream": "stdout",
       "text": [
        "\n",
        "error"
       ]
      },
      {
       "output_type": "stream",
       "stream": "stdout",
       "text": [
        "\n",
        "error"
       ]
      },
      {
       "output_type": "stream",
       "stream": "stdout",
       "text": [
        "\n",
        "error"
       ]
      },
      {
       "output_type": "stream",
       "stream": "stdout",
       "text": [
        "\n",
        "error"
       ]
      },
      {
       "output_type": "stream",
       "stream": "stdout",
       "text": [
        "\n",
        "error"
       ]
      },
      {
       "output_type": "stream",
       "stream": "stdout",
       "text": [
        "\n",
        "error"
       ]
      },
      {
       "output_type": "stream",
       "stream": "stdout",
       "text": [
        "\n",
        "error"
       ]
      },
      {
       "output_type": "stream",
       "stream": "stdout",
       "text": [
        "\n",
        "error"
       ]
      },
      {
       "output_type": "stream",
       "stream": "stdout",
       "text": [
        "\n",
        "error"
       ]
      },
      {
       "output_type": "stream",
       "stream": "stdout",
       "text": [
        "\n",
        "error"
       ]
      },
      {
       "output_type": "stream",
       "stream": "stdout",
       "text": [
        "\n",
        "error"
       ]
      },
      {
       "output_type": "stream",
       "stream": "stdout",
       "text": [
        "\n",
        "error"
       ]
      },
      {
       "output_type": "stream",
       "stream": "stdout",
       "text": [
        "\n",
        "error"
       ]
      },
      {
       "output_type": "stream",
       "stream": "stdout",
       "text": [
        "\n",
        "error"
       ]
      },
      {
       "output_type": "stream",
       "stream": "stdout",
       "text": [
        "\n",
        "error"
       ]
      },
      {
       "output_type": "stream",
       "stream": "stdout",
       "text": [
        "\n",
        "error"
       ]
      },
      {
       "output_type": "stream",
       "stream": "stdout",
       "text": [
        "\n",
        "error"
       ]
      },
      {
       "output_type": "stream",
       "stream": "stdout",
       "text": [
        "\n",
        "error"
       ]
      },
      {
       "output_type": "stream",
       "stream": "stdout",
       "text": [
        "\n",
        "error"
       ]
      },
      {
       "output_type": "stream",
       "stream": "stdout",
       "text": [
        "\n",
        "error"
       ]
      },
      {
       "output_type": "stream",
       "stream": "stdout",
       "text": [
        "\n",
        "error"
       ]
      },
      {
       "output_type": "stream",
       "stream": "stdout",
       "text": [
        "\n",
        "error"
       ]
      },
      {
       "output_type": "stream",
       "stream": "stdout",
       "text": [
        "\n",
        "error"
       ]
      },
      {
       "output_type": "stream",
       "stream": "stdout",
       "text": [
        "\n",
        "error"
       ]
      },
      {
       "output_type": "stream",
       "stream": "stdout",
       "text": [
        "\n",
        "error"
       ]
      },
      {
       "output_type": "stream",
       "stream": "stdout",
       "text": [
        "\n",
        "error"
       ]
      },
      {
       "output_type": "stream",
       "stream": "stdout",
       "text": [
        "\n",
        "error"
       ]
      },
      {
       "output_type": "stream",
       "stream": "stdout",
       "text": [
        "\n",
        "error"
       ]
      },
      {
       "output_type": "stream",
       "stream": "stdout",
       "text": [
        "\n",
        "error"
       ]
      },
      {
       "output_type": "stream",
       "stream": "stdout",
       "text": [
        "\n",
        "error"
       ]
      },
      {
       "output_type": "stream",
       "stream": "stdout",
       "text": [
        "\n",
        "error"
       ]
      },
      {
       "output_type": "stream",
       "stream": "stdout",
       "text": [
        "\n",
        "error"
       ]
      },
      {
       "output_type": "stream",
       "stream": "stdout",
       "text": [
        "\n",
        "error"
       ]
      },
      {
       "output_type": "stream",
       "stream": "stdout",
       "text": [
        "\n",
        "error"
       ]
      },
      {
       "output_type": "stream",
       "stream": "stdout",
       "text": [
        "\n",
        "error"
       ]
      },
      {
       "output_type": "stream",
       "stream": "stdout",
       "text": [
        "\n",
        "error"
       ]
      },
      {
       "output_type": "stream",
       "stream": "stdout",
       "text": [
        "\n",
        "error"
       ]
      },
      {
       "output_type": "stream",
       "stream": "stdout",
       "text": [
        "\n",
        "error"
       ]
      },
      {
       "output_type": "stream",
       "stream": "stdout",
       "text": [
        "\n",
        "error"
       ]
      },
      {
       "output_type": "stream",
       "stream": "stdout",
       "text": [
        "\n",
        "error"
       ]
      },
      {
       "output_type": "stream",
       "stream": "stdout",
       "text": [
        "\n",
        "error"
       ]
      },
      {
       "output_type": "stream",
       "stream": "stdout",
       "text": [
        "\n",
        "error"
       ]
      },
      {
       "output_type": "stream",
       "stream": "stdout",
       "text": [
        "\n",
        "error"
       ]
      },
      {
       "output_type": "stream",
       "stream": "stdout",
       "text": [
        "\n",
        "error"
       ]
      },
      {
       "output_type": "stream",
       "stream": "stdout",
       "text": [
        "\n",
        "error"
       ]
      },
      {
       "output_type": "stream",
       "stream": "stdout",
       "text": [
        "\n",
        "error"
       ]
      },
      {
       "output_type": "stream",
       "stream": "stdout",
       "text": [
        "\n",
        "error"
       ]
      },
      {
       "output_type": "stream",
       "stream": "stdout",
       "text": [
        "\n",
        "error"
       ]
      },
      {
       "output_type": "stream",
       "stream": "stdout",
       "text": [
        "\n",
        "error"
       ]
      },
      {
       "output_type": "stream",
       "stream": "stdout",
       "text": [
        "\n",
        "error"
       ]
      },
      {
       "output_type": "stream",
       "stream": "stdout",
       "text": [
        "\n",
        "error"
       ]
      },
      {
       "output_type": "stream",
       "stream": "stdout",
       "text": [
        "\n",
        "error"
       ]
      },
      {
       "output_type": "stream",
       "stream": "stdout",
       "text": [
        "\n",
        "error"
       ]
      },
      {
       "output_type": "stream",
       "stream": "stdout",
       "text": [
        "\n",
        "error"
       ]
      },
      {
       "output_type": "stream",
       "stream": "stdout",
       "text": [
        "\n",
        "error"
       ]
      },
      {
       "output_type": "stream",
       "stream": "stdout",
       "text": [
        "\n",
        "error"
       ]
      },
      {
       "output_type": "stream",
       "stream": "stdout",
       "text": [
        "\n",
        "error"
       ]
      },
      {
       "output_type": "stream",
       "stream": "stdout",
       "text": [
        "\n",
        "error"
       ]
      },
      {
       "output_type": "stream",
       "stream": "stdout",
       "text": [
        "\n",
        "error"
       ]
      },
      {
       "output_type": "stream",
       "stream": "stdout",
       "text": [
        "\n",
        "error"
       ]
      },
      {
       "output_type": "stream",
       "stream": "stdout",
       "text": [
        "\n",
        "error"
       ]
      },
      {
       "output_type": "stream",
       "stream": "stdout",
       "text": [
        "\n",
        "error"
       ]
      },
      {
       "output_type": "stream",
       "stream": "stdout",
       "text": [
        "\n",
        "error"
       ]
      },
      {
       "output_type": "stream",
       "stream": "stdout",
       "text": [
        "\n",
        "error"
       ]
      },
      {
       "output_type": "stream",
       "stream": "stdout",
       "text": [
        "\n",
        "error"
       ]
      },
      {
       "output_type": "stream",
       "stream": "stdout",
       "text": [
        "\n",
        "error"
       ]
      },
      {
       "output_type": "stream",
       "stream": "stdout",
       "text": [
        "\n",
        "error"
       ]
      },
      {
       "output_type": "stream",
       "stream": "stdout",
       "text": [
        "\n",
        "error"
       ]
      },
      {
       "output_type": "stream",
       "stream": "stdout",
       "text": [
        "\n",
        "error"
       ]
      },
      {
       "output_type": "stream",
       "stream": "stdout",
       "text": [
        "\n",
        "error"
       ]
      },
      {
       "output_type": "stream",
       "stream": "stdout",
       "text": [
        "\n",
        "error"
       ]
      },
      {
       "output_type": "stream",
       "stream": "stdout",
       "text": [
        "\n",
        "error"
       ]
      },
      {
       "output_type": "stream",
       "stream": "stdout",
       "text": [
        "\n",
        "error"
       ]
      },
      {
       "output_type": "stream",
       "stream": "stdout",
       "text": [
        "\n",
        "error"
       ]
      },
      {
       "output_type": "stream",
       "stream": "stdout",
       "text": [
        "\n",
        "error"
       ]
      },
      {
       "output_type": "stream",
       "stream": "stdout",
       "text": [
        "\n",
        "error"
       ]
      },
      {
       "output_type": "stream",
       "stream": "stdout",
       "text": [
        "\n",
        "error"
       ]
      },
      {
       "output_type": "stream",
       "stream": "stdout",
       "text": [
        "\n",
        "error"
       ]
      },
      {
       "output_type": "stream",
       "stream": "stdout",
       "text": [
        "\n",
        "error"
       ]
      },
      {
       "output_type": "stream",
       "stream": "stdout",
       "text": [
        "\n",
        "error"
       ]
      },
      {
       "output_type": "stream",
       "stream": "stdout",
       "text": [
        "\n",
        "error"
       ]
      },
      {
       "output_type": "stream",
       "stream": "stdout",
       "text": [
        "\n",
        "error"
       ]
      },
      {
       "output_type": "stream",
       "stream": "stdout",
       "text": [
        "\n",
        "error"
       ]
      },
      {
       "output_type": "stream",
       "stream": "stdout",
       "text": [
        "\n",
        "error"
       ]
      },
      {
       "output_type": "stream",
       "stream": "stdout",
       "text": [
        "\n",
        "error"
       ]
      },
      {
       "output_type": "stream",
       "stream": "stdout",
       "text": [
        "\n",
        "error"
       ]
      },
      {
       "output_type": "stream",
       "stream": "stdout",
       "text": [
        "\n",
        "error"
       ]
      },
      {
       "output_type": "stream",
       "stream": "stdout",
       "text": [
        "\n",
        "error"
       ]
      },
      {
       "output_type": "stream",
       "stream": "stdout",
       "text": [
        "\n",
        "error"
       ]
      },
      {
       "output_type": "stream",
       "stream": "stdout",
       "text": [
        "\n",
        "error"
       ]
      },
      {
       "output_type": "stream",
       "stream": "stdout",
       "text": [
        "\n",
        "error"
       ]
      },
      {
       "output_type": "stream",
       "stream": "stdout",
       "text": [
        "\n",
        "error"
       ]
      },
      {
       "output_type": "stream",
       "stream": "stdout",
       "text": [
        "\n",
        "error"
       ]
      },
      {
       "output_type": "stream",
       "stream": "stdout",
       "text": [
        "\n",
        "error"
       ]
      },
      {
       "output_type": "stream",
       "stream": "stdout",
       "text": [
        "\n",
        "error"
       ]
      },
      {
       "output_type": "stream",
       "stream": "stdout",
       "text": [
        "\n",
        "error"
       ]
      },
      {
       "output_type": "stream",
       "stream": "stdout",
       "text": [
        "\n",
        "error"
       ]
      },
      {
       "output_type": "stream",
       "stream": "stdout",
       "text": [
        "\n",
        "error"
       ]
      },
      {
       "output_type": "stream",
       "stream": "stdout",
       "text": [
        "\n",
        "error"
       ]
      },
      {
       "output_type": "stream",
       "stream": "stdout",
       "text": [
        "\n",
        "error"
       ]
      },
      {
       "output_type": "stream",
       "stream": "stdout",
       "text": [
        "\n",
        "error"
       ]
      },
      {
       "output_type": "stream",
       "stream": "stdout",
       "text": [
        "\n",
        "error"
       ]
      },
      {
       "output_type": "stream",
       "stream": "stdout",
       "text": [
        "\n",
        "error"
       ]
      },
      {
       "output_type": "stream",
       "stream": "stdout",
       "text": [
        "\n",
        "error"
       ]
      },
      {
       "output_type": "stream",
       "stream": "stdout",
       "text": [
        "\n",
        "error"
       ]
      },
      {
       "output_type": "stream",
       "stream": "stdout",
       "text": [
        "\n",
        "error"
       ]
      },
      {
       "output_type": "stream",
       "stream": "stdout",
       "text": [
        "\n",
        "error"
       ]
      },
      {
       "output_type": "stream",
       "stream": "stdout",
       "text": [
        "\n",
        "error"
       ]
      },
      {
       "output_type": "stream",
       "stream": "stdout",
       "text": [
        "\n",
        "error"
       ]
      },
      {
       "output_type": "stream",
       "stream": "stdout",
       "text": [
        "\n",
        "error"
       ]
      },
      {
       "output_type": "stream",
       "stream": "stdout",
       "text": [
        "\n",
        "error"
       ]
      },
      {
       "output_type": "stream",
       "stream": "stdout",
       "text": [
        "\n",
        "error"
       ]
      },
      {
       "output_type": "stream",
       "stream": "stdout",
       "text": [
        "\n",
        "error"
       ]
      },
      {
       "output_type": "stream",
       "stream": "stdout",
       "text": [
        "\n",
        "error"
       ]
      },
      {
       "output_type": "stream",
       "stream": "stdout",
       "text": [
        "\n",
        "error"
       ]
      },
      {
       "output_type": "stream",
       "stream": "stdout",
       "text": [
        "\n",
        "error"
       ]
      },
      {
       "output_type": "stream",
       "stream": "stdout",
       "text": [
        "\n",
        "error"
       ]
      },
      {
       "output_type": "stream",
       "stream": "stdout",
       "text": [
        "\n",
        "error"
       ]
      },
      {
       "output_type": "stream",
       "stream": "stdout",
       "text": [
        "\n",
        "error"
       ]
      },
      {
       "output_type": "stream",
       "stream": "stdout",
       "text": [
        "\n",
        "error"
       ]
      },
      {
       "output_type": "stream",
       "stream": "stdout",
       "text": [
        "\n",
        "error"
       ]
      },
      {
       "output_type": "stream",
       "stream": "stdout",
       "text": [
        "\n",
        "error"
       ]
      },
      {
       "output_type": "stream",
       "stream": "stdout",
       "text": [
        "\n",
        "error"
       ]
      },
      {
       "output_type": "stream",
       "stream": "stdout",
       "text": [
        "\n",
        "error"
       ]
      },
      {
       "output_type": "stream",
       "stream": "stdout",
       "text": [
        "\n",
        "error"
       ]
      },
      {
       "output_type": "stream",
       "stream": "stdout",
       "text": [
        "\n",
        "error"
       ]
      },
      {
       "output_type": "stream",
       "stream": "stdout",
       "text": [
        "\n",
        "error"
       ]
      },
      {
       "output_type": "stream",
       "stream": "stdout",
       "text": [
        "\n",
        "error"
       ]
      },
      {
       "output_type": "stream",
       "stream": "stdout",
       "text": [
        "\n",
        "error"
       ]
      },
      {
       "output_type": "stream",
       "stream": "stdout",
       "text": [
        "\n",
        "error"
       ]
      },
      {
       "output_type": "stream",
       "stream": "stdout",
       "text": [
        "\n",
        "error"
       ]
      },
      {
       "output_type": "stream",
       "stream": "stdout",
       "text": [
        "\n",
        "error"
       ]
      },
      {
       "output_type": "stream",
       "stream": "stdout",
       "text": [
        "\n",
        "error"
       ]
      },
      {
       "output_type": "stream",
       "stream": "stdout",
       "text": [
        "\n",
        "error"
       ]
      },
      {
       "output_type": "stream",
       "stream": "stdout",
       "text": [
        "\n",
        "error"
       ]
      },
      {
       "output_type": "stream",
       "stream": "stdout",
       "text": [
        "\n",
        "error"
       ]
      },
      {
       "output_type": "stream",
       "stream": "stdout",
       "text": [
        "\n",
        "error"
       ]
      },
      {
       "output_type": "stream",
       "stream": "stdout",
       "text": [
        "\n",
        "error"
       ]
      },
      {
       "output_type": "stream",
       "stream": "stdout",
       "text": [
        "\n",
        "error"
       ]
      },
      {
       "output_type": "stream",
       "stream": "stdout",
       "text": [
        "\n",
        "error"
       ]
      },
      {
       "output_type": "stream",
       "stream": "stdout",
       "text": [
        "\n",
        "error"
       ]
      },
      {
       "output_type": "stream",
       "stream": "stdout",
       "text": [
        "\n",
        "error"
       ]
      },
      {
       "output_type": "stream",
       "stream": "stdout",
       "text": [
        "\n",
        "error"
       ]
      },
      {
       "output_type": "stream",
       "stream": "stdout",
       "text": [
        "\n",
        "error"
       ]
      },
      {
       "output_type": "stream",
       "stream": "stdout",
       "text": [
        "\n",
        "error"
       ]
      },
      {
       "output_type": "stream",
       "stream": "stdout",
       "text": [
        "\n",
        "error"
       ]
      },
      {
       "output_type": "stream",
       "stream": "stdout",
       "text": [
        "\n",
        "error"
       ]
      },
      {
       "output_type": "stream",
       "stream": "stdout",
       "text": [
        "\n",
        "error"
       ]
      },
      {
       "output_type": "stream",
       "stream": "stdout",
       "text": [
        "\n",
        "error"
       ]
      },
      {
       "output_type": "stream",
       "stream": "stdout",
       "text": [
        "\n",
        "error"
       ]
      },
      {
       "output_type": "stream",
       "stream": "stdout",
       "text": [
        "\n",
        "error"
       ]
      },
      {
       "output_type": "stream",
       "stream": "stdout",
       "text": [
        "\n",
        "error"
       ]
      },
      {
       "output_type": "stream",
       "stream": "stdout",
       "text": [
        "\n",
        "error"
       ]
      },
      {
       "output_type": "stream",
       "stream": "stdout",
       "text": [
        "\n",
        "error"
       ]
      },
      {
       "output_type": "stream",
       "stream": "stdout",
       "text": [
        "\n",
        "error"
       ]
      },
      {
       "output_type": "stream",
       "stream": "stdout",
       "text": [
        "\n",
        "error"
       ]
      },
      {
       "output_type": "stream",
       "stream": "stdout",
       "text": [
        "\n",
        "error"
       ]
      },
      {
       "output_type": "stream",
       "stream": "stdout",
       "text": [
        "\n",
        "error"
       ]
      },
      {
       "output_type": "stream",
       "stream": "stdout",
       "text": [
        "\n",
        "error"
       ]
      },
      {
       "output_type": "stream",
       "stream": "stdout",
       "text": [
        "\n",
        "error"
       ]
      },
      {
       "output_type": "stream",
       "stream": "stdout",
       "text": [
        "\n",
        "error"
       ]
      },
      {
       "output_type": "stream",
       "stream": "stdout",
       "text": [
        "\n",
        "error"
       ]
      },
      {
       "output_type": "stream",
       "stream": "stdout",
       "text": [
        "\n",
        "error"
       ]
      },
      {
       "output_type": "stream",
       "stream": "stdout",
       "text": [
        "\n",
        "error"
       ]
      },
      {
       "output_type": "stream",
       "stream": "stdout",
       "text": [
        "\n",
        "error"
       ]
      },
      {
       "output_type": "stream",
       "stream": "stdout",
       "text": [
        "\n",
        "error"
       ]
      },
      {
       "output_type": "stream",
       "stream": "stdout",
       "text": [
        "\n",
        "error"
       ]
      },
      {
       "output_type": "stream",
       "stream": "stdout",
       "text": [
        "\n",
        "error"
       ]
      },
      {
       "output_type": "stream",
       "stream": "stdout",
       "text": [
        "\n",
        "error"
       ]
      },
      {
       "output_type": "stream",
       "stream": "stdout",
       "text": [
        "\n",
        "error"
       ]
      },
      {
       "output_type": "stream",
       "stream": "stdout",
       "text": [
        "\n",
        "error"
       ]
      },
      {
       "output_type": "stream",
       "stream": "stdout",
       "text": [
        "\n",
        "error"
       ]
      },
      {
       "output_type": "stream",
       "stream": "stdout",
       "text": [
        "\n",
        "error"
       ]
      },
      {
       "output_type": "stream",
       "stream": "stdout",
       "text": [
        "\n",
        "error"
       ]
      },
      {
       "output_type": "stream",
       "stream": "stdout",
       "text": [
        "\n",
        "error"
       ]
      },
      {
       "output_type": "stream",
       "stream": "stdout",
       "text": [
        "\n",
        "error"
       ]
      },
      {
       "output_type": "stream",
       "stream": "stdout",
       "text": [
        "\n",
        "error"
       ]
      },
      {
       "output_type": "stream",
       "stream": "stdout",
       "text": [
        "\n",
        "error"
       ]
      },
      {
       "output_type": "stream",
       "stream": "stdout",
       "text": [
        "\n",
        "error"
       ]
      },
      {
       "output_type": "stream",
       "stream": "stdout",
       "text": [
        "\n",
        "error"
       ]
      },
      {
       "output_type": "stream",
       "stream": "stdout",
       "text": [
        "\n",
        "error"
       ]
      },
      {
       "output_type": "stream",
       "stream": "stdout",
       "text": [
        "\n",
        "error"
       ]
      },
      {
       "output_type": "stream",
       "stream": "stdout",
       "text": [
        "\n",
        "error"
       ]
      },
      {
       "output_type": "stream",
       "stream": "stdout",
       "text": [
        "\n",
        "error"
       ]
      },
      {
       "output_type": "stream",
       "stream": "stdout",
       "text": [
        "\n",
        "error"
       ]
      },
      {
       "output_type": "stream",
       "stream": "stdout",
       "text": [
        "\n",
        "error"
       ]
      },
      {
       "output_type": "stream",
       "stream": "stdout",
       "text": [
        "\n",
        "error"
       ]
      },
      {
       "output_type": "stream",
       "stream": "stdout",
       "text": [
        "\n",
        "error"
       ]
      },
      {
       "output_type": "stream",
       "stream": "stdout",
       "text": [
        "\n",
        "error"
       ]
      },
      {
       "output_type": "stream",
       "stream": "stdout",
       "text": [
        "\n",
        "error"
       ]
      },
      {
       "output_type": "stream",
       "stream": "stdout",
       "text": [
        "\n",
        "error"
       ]
      },
      {
       "output_type": "stream",
       "stream": "stdout",
       "text": [
        "\n",
        "error"
       ]
      },
      {
       "output_type": "stream",
       "stream": "stdout",
       "text": [
        "\n",
        "error"
       ]
      },
      {
       "output_type": "stream",
       "stream": "stdout",
       "text": [
        "\n",
        "error"
       ]
      },
      {
       "output_type": "stream",
       "stream": "stdout",
       "text": [
        "\n",
        "error"
       ]
      },
      {
       "output_type": "stream",
       "stream": "stdout",
       "text": [
        "\n",
        "error"
       ]
      },
      {
       "output_type": "stream",
       "stream": "stdout",
       "text": [
        "\n",
        "error"
       ]
      },
      {
       "output_type": "stream",
       "stream": "stdout",
       "text": [
        "\n",
        "error"
       ]
      },
      {
       "output_type": "stream",
       "stream": "stdout",
       "text": [
        "\n",
        "error"
       ]
      },
      {
       "output_type": "stream",
       "stream": "stdout",
       "text": [
        "\n",
        "error"
       ]
      },
      {
       "output_type": "stream",
       "stream": "stdout",
       "text": [
        "\n",
        "error"
       ]
      },
      {
       "output_type": "stream",
       "stream": "stdout",
       "text": [
        "\n",
        "error"
       ]
      },
      {
       "output_type": "stream",
       "stream": "stdout",
       "text": [
        "\n",
        "error"
       ]
      },
      {
       "output_type": "stream",
       "stream": "stdout",
       "text": [
        "\n",
        "error"
       ]
      },
      {
       "output_type": "stream",
       "stream": "stdout",
       "text": [
        "\n",
        "error"
       ]
      },
      {
       "output_type": "stream",
       "stream": "stdout",
       "text": [
        "\n",
        "error"
       ]
      },
      {
       "output_type": "stream",
       "stream": "stdout",
       "text": [
        "\n",
        "error"
       ]
      },
      {
       "output_type": "stream",
       "stream": "stdout",
       "text": [
        "\n",
        "error"
       ]
      },
      {
       "output_type": "stream",
       "stream": "stdout",
       "text": [
        "\n",
        "error"
       ]
      },
      {
       "output_type": "stream",
       "stream": "stdout",
       "text": [
        "\n",
        "error"
       ]
      },
      {
       "output_type": "stream",
       "stream": "stdout",
       "text": [
        "\n",
        "error"
       ]
      },
      {
       "output_type": "stream",
       "stream": "stdout",
       "text": [
        "\n",
        "error"
       ]
      },
      {
       "output_type": "stream",
       "stream": "stdout",
       "text": [
        "\n",
        "error"
       ]
      },
      {
       "output_type": "stream",
       "stream": "stdout",
       "text": [
        "\n",
        "error"
       ]
      },
      {
       "output_type": "stream",
       "stream": "stdout",
       "text": [
        "\n",
        "error"
       ]
      },
      {
       "output_type": "stream",
       "stream": "stdout",
       "text": [
        "\n",
        "error"
       ]
      },
      {
       "output_type": "stream",
       "stream": "stdout",
       "text": [
        "\n",
        "error"
       ]
      },
      {
       "output_type": "stream",
       "stream": "stdout",
       "text": [
        "\n",
        "error"
       ]
      },
      {
       "output_type": "stream",
       "stream": "stdout",
       "text": [
        "\n",
        "error"
       ]
      },
      {
       "output_type": "stream",
       "stream": "stdout",
       "text": [
        "\n",
        "error"
       ]
      },
      {
       "output_type": "stream",
       "stream": "stdout",
       "text": [
        "\n",
        "error"
       ]
      },
      {
       "output_type": "stream",
       "stream": "stdout",
       "text": [
        "\n",
        "error"
       ]
      },
      {
       "output_type": "stream",
       "stream": "stdout",
       "text": [
        "\n",
        "error"
       ]
      },
      {
       "output_type": "stream",
       "stream": "stdout",
       "text": [
        "\n",
        "error"
       ]
      },
      {
       "output_type": "stream",
       "stream": "stdout",
       "text": [
        "\n",
        "error"
       ]
      },
      {
       "output_type": "stream",
       "stream": "stdout",
       "text": [
        "\n",
        "error"
       ]
      },
      {
       "output_type": "stream",
       "stream": "stdout",
       "text": [
        "\n",
        "error"
       ]
      },
      {
       "output_type": "stream",
       "stream": "stdout",
       "text": [
        "\n",
        "error"
       ]
      },
      {
       "output_type": "stream",
       "stream": "stdout",
       "text": [
        "\n",
        "error"
       ]
      },
      {
       "output_type": "stream",
       "stream": "stdout",
       "text": [
        "\n",
        "error"
       ]
      },
      {
       "output_type": "stream",
       "stream": "stdout",
       "text": [
        "\n",
        "error"
       ]
      },
      {
       "output_type": "stream",
       "stream": "stdout",
       "text": [
        "\n",
        "error"
       ]
      },
      {
       "output_type": "stream",
       "stream": "stdout",
       "text": [
        "\n",
        "error"
       ]
      },
      {
       "output_type": "stream",
       "stream": "stdout",
       "text": [
        "\n",
        "error"
       ]
      },
      {
       "output_type": "stream",
       "stream": "stdout",
       "text": [
        "\n",
        "error"
       ]
      },
      {
       "output_type": "stream",
       "stream": "stdout",
       "text": [
        "\n",
        "error"
       ]
      },
      {
       "output_type": "stream",
       "stream": "stdout",
       "text": [
        "\n",
        "error"
       ]
      },
      {
       "output_type": "stream",
       "stream": "stdout",
       "text": [
        "\n",
        "error"
       ]
      },
      {
       "output_type": "stream",
       "stream": "stdout",
       "text": [
        "\n",
        "error"
       ]
      },
      {
       "output_type": "stream",
       "stream": "stdout",
       "text": [
        "\n",
        "error"
       ]
      },
      {
       "output_type": "stream",
       "stream": "stdout",
       "text": [
        "\n",
        "error"
       ]
      },
      {
       "output_type": "stream",
       "stream": "stdout",
       "text": [
        "\n",
        "error"
       ]
      },
      {
       "output_type": "stream",
       "stream": "stdout",
       "text": [
        "\n",
        "error"
       ]
      },
      {
       "output_type": "stream",
       "stream": "stdout",
       "text": [
        "\n",
        "error"
       ]
      },
      {
       "output_type": "stream",
       "stream": "stdout",
       "text": [
        "\n",
        "error"
       ]
      },
      {
       "output_type": "stream",
       "stream": "stdout",
       "text": [
        "\n",
        "error"
       ]
      },
      {
       "output_type": "stream",
       "stream": "stdout",
       "text": [
        "\n",
        "error"
       ]
      },
      {
       "output_type": "stream",
       "stream": "stdout",
       "text": [
        "\n",
        "error"
       ]
      },
      {
       "output_type": "stream",
       "stream": "stdout",
       "text": [
        "\n",
        "error"
       ]
      },
      {
       "output_type": "stream",
       "stream": "stdout",
       "text": [
        "\n",
        "error"
       ]
      },
      {
       "output_type": "stream",
       "stream": "stdout",
       "text": [
        "\n",
        "error"
       ]
      },
      {
       "output_type": "stream",
       "stream": "stdout",
       "text": [
        "\n",
        "error"
       ]
      },
      {
       "output_type": "stream",
       "stream": "stdout",
       "text": [
        "\n",
        "error"
       ]
      },
      {
       "output_type": "stream",
       "stream": "stdout",
       "text": [
        "\n",
        "error"
       ]
      },
      {
       "output_type": "stream",
       "stream": "stdout",
       "text": [
        "\n",
        "error"
       ]
      },
      {
       "output_type": "stream",
       "stream": "stdout",
       "text": [
        "\n",
        "error"
       ]
      },
      {
       "output_type": "stream",
       "stream": "stdout",
       "text": [
        "\n",
        "error"
       ]
      },
      {
       "output_type": "stream",
       "stream": "stdout",
       "text": [
        "\n",
        "error"
       ]
      },
      {
       "output_type": "stream",
       "stream": "stdout",
       "text": [
        "\n",
        "error"
       ]
      },
      {
       "output_type": "stream",
       "stream": "stdout",
       "text": [
        "\n",
        "error"
       ]
      },
      {
       "output_type": "stream",
       "stream": "stdout",
       "text": [
        "\n",
        "error"
       ]
      },
      {
       "output_type": "stream",
       "stream": "stdout",
       "text": [
        "\n",
        "error"
       ]
      },
      {
       "output_type": "stream",
       "stream": "stdout",
       "text": [
        "\n",
        "error"
       ]
      },
      {
       "output_type": "stream",
       "stream": "stdout",
       "text": [
        "\n",
        "error"
       ]
      },
      {
       "output_type": "stream",
       "stream": "stdout",
       "text": [
        "\n",
        "error"
       ]
      },
      {
       "output_type": "stream",
       "stream": "stdout",
       "text": [
        "\n",
        "error"
       ]
      },
      {
       "output_type": "stream",
       "stream": "stdout",
       "text": [
        "\n",
        "error"
       ]
      },
      {
       "output_type": "stream",
       "stream": "stdout",
       "text": [
        "\n",
        "error"
       ]
      },
      {
       "output_type": "stream",
       "stream": "stdout",
       "text": [
        "\n",
        "error"
       ]
      },
      {
       "output_type": "stream",
       "stream": "stdout",
       "text": [
        "\n",
        "error"
       ]
      },
      {
       "output_type": "stream",
       "stream": "stdout",
       "text": [
        "\n",
        "error"
       ]
      },
      {
       "output_type": "stream",
       "stream": "stdout",
       "text": [
        "\n",
        "error"
       ]
      },
      {
       "output_type": "stream",
       "stream": "stdout",
       "text": [
        "\n",
        "error"
       ]
      },
      {
       "output_type": "stream",
       "stream": "stdout",
       "text": [
        "\n",
        "error"
       ]
      },
      {
       "output_type": "stream",
       "stream": "stdout",
       "text": [
        "\n",
        "error"
       ]
      },
      {
       "output_type": "stream",
       "stream": "stdout",
       "text": [
        "\n",
        "error"
       ]
      },
      {
       "output_type": "stream",
       "stream": "stdout",
       "text": [
        "\n",
        "error"
       ]
      },
      {
       "output_type": "stream",
       "stream": "stdout",
       "text": [
        "\n",
        "error"
       ]
      },
      {
       "output_type": "stream",
       "stream": "stdout",
       "text": [
        "\n",
        "error"
       ]
      },
      {
       "output_type": "stream",
       "stream": "stdout",
       "text": [
        "\n",
        "error"
       ]
      },
      {
       "output_type": "stream",
       "stream": "stdout",
       "text": [
        "\n",
        "error"
       ]
      },
      {
       "output_type": "stream",
       "stream": "stdout",
       "text": [
        "\n",
        "error"
       ]
      },
      {
       "output_type": "stream",
       "stream": "stdout",
       "text": [
        "\n",
        "error"
       ]
      },
      {
       "output_type": "stream",
       "stream": "stdout",
       "text": [
        "\n",
        "error"
       ]
      },
      {
       "output_type": "stream",
       "stream": "stdout",
       "text": [
        "\n",
        "error"
       ]
      },
      {
       "output_type": "stream",
       "stream": "stdout",
       "text": [
        "\n",
        "error"
       ]
      },
      {
       "output_type": "stream",
       "stream": "stdout",
       "text": [
        "\n",
        "error"
       ]
      },
      {
       "output_type": "stream",
       "stream": "stdout",
       "text": [
        "\n",
        "error"
       ]
      },
      {
       "output_type": "stream",
       "stream": "stdout",
       "text": [
        "\n",
        "error"
       ]
      },
      {
       "output_type": "stream",
       "stream": "stdout",
       "text": [
        "\n",
        "error"
       ]
      },
      {
       "output_type": "stream",
       "stream": "stdout",
       "text": [
        "\n",
        "error"
       ]
      },
      {
       "output_type": "stream",
       "stream": "stdout",
       "text": [
        "\n",
        "error"
       ]
      },
      {
       "output_type": "stream",
       "stream": "stdout",
       "text": [
        "\n",
        "error"
       ]
      },
      {
       "output_type": "stream",
       "stream": "stdout",
       "text": [
        "\n",
        "error"
       ]
      },
      {
       "output_type": "stream",
       "stream": "stdout",
       "text": [
        "\n",
        "error"
       ]
      },
      {
       "output_type": "stream",
       "stream": "stdout",
       "text": [
        "\n",
        "error"
       ]
      },
      {
       "output_type": "stream",
       "stream": "stdout",
       "text": [
        "\n",
        "error"
       ]
      },
      {
       "output_type": "stream",
       "stream": "stdout",
       "text": [
        "\n",
        "error"
       ]
      },
      {
       "output_type": "stream",
       "stream": "stdout",
       "text": [
        "\n",
        "error"
       ]
      },
      {
       "output_type": "stream",
       "stream": "stdout",
       "text": [
        "\n",
        "error"
       ]
      },
      {
       "output_type": "stream",
       "stream": "stdout",
       "text": [
        "\n",
        "error"
       ]
      },
      {
       "output_type": "stream",
       "stream": "stdout",
       "text": [
        "\n",
        "error"
       ]
      },
      {
       "output_type": "stream",
       "stream": "stdout",
       "text": [
        "\n",
        "error"
       ]
      },
      {
       "output_type": "stream",
       "stream": "stdout",
       "text": [
        "\n",
        "error"
       ]
      },
      {
       "output_type": "stream",
       "stream": "stdout",
       "text": [
        "\n",
        "error"
       ]
      },
      {
       "output_type": "stream",
       "stream": "stdout",
       "text": [
        "\n",
        "error"
       ]
      },
      {
       "output_type": "stream",
       "stream": "stdout",
       "text": [
        "\n",
        "error"
       ]
      },
      {
       "output_type": "stream",
       "stream": "stdout",
       "text": [
        "\n",
        "error"
       ]
      },
      {
       "output_type": "stream",
       "stream": "stdout",
       "text": [
        "\n",
        "error"
       ]
      },
      {
       "output_type": "stream",
       "stream": "stdout",
       "text": [
        "\n",
        "error"
       ]
      },
      {
       "output_type": "stream",
       "stream": "stdout",
       "text": [
        "\n",
        "error"
       ]
      },
      {
       "output_type": "stream",
       "stream": "stdout",
       "text": [
        "\n",
        "error"
       ]
      },
      {
       "output_type": "stream",
       "stream": "stdout",
       "text": [
        "\n",
        "error"
       ]
      },
      {
       "output_type": "stream",
       "stream": "stdout",
       "text": [
        "\n",
        "error"
       ]
      },
      {
       "output_type": "stream",
       "stream": "stdout",
       "text": [
        "\n",
        "error"
       ]
      },
      {
       "output_type": "stream",
       "stream": "stdout",
       "text": [
        "\n",
        "error"
       ]
      },
      {
       "output_type": "stream",
       "stream": "stdout",
       "text": [
        "\n",
        "error"
       ]
      },
      {
       "output_type": "stream",
       "stream": "stdout",
       "text": [
        "\n",
        "error"
       ]
      },
      {
       "output_type": "stream",
       "stream": "stdout",
       "text": [
        "\n",
        "error"
       ]
      },
      {
       "output_type": "stream",
       "stream": "stdout",
       "text": [
        "\n",
        "error"
       ]
      },
      {
       "output_type": "stream",
       "stream": "stdout",
       "text": [
        "\n",
        "error"
       ]
      },
      {
       "output_type": "stream",
       "stream": "stdout",
       "text": [
        "\n",
        "error"
       ]
      },
      {
       "output_type": "stream",
       "stream": "stdout",
       "text": [
        "\n",
        "error"
       ]
      },
      {
       "output_type": "stream",
       "stream": "stdout",
       "text": [
        "\n",
        "error"
       ]
      },
      {
       "output_type": "stream",
       "stream": "stdout",
       "text": [
        "\n",
        "error"
       ]
      },
      {
       "output_type": "stream",
       "stream": "stdout",
       "text": [
        "\n",
        "error"
       ]
      },
      {
       "output_type": "stream",
       "stream": "stdout",
       "text": [
        "\n",
        "error"
       ]
      },
      {
       "output_type": "stream",
       "stream": "stdout",
       "text": [
        "\n",
        "error"
       ]
      },
      {
       "output_type": "stream",
       "stream": "stdout",
       "text": [
        "\n",
        "error"
       ]
      },
      {
       "output_type": "stream",
       "stream": "stdout",
       "text": [
        "\n",
        "error"
       ]
      },
      {
       "output_type": "stream",
       "stream": "stdout",
       "text": [
        "\n",
        "error"
       ]
      },
      {
       "output_type": "stream",
       "stream": "stdout",
       "text": [
        "\n",
        "error"
       ]
      },
      {
       "output_type": "stream",
       "stream": "stdout",
       "text": [
        "\n",
        "error"
       ]
      },
      {
       "output_type": "stream",
       "stream": "stdout",
       "text": [
        "\n",
        "error"
       ]
      },
      {
       "output_type": "stream",
       "stream": "stdout",
       "text": [
        "\n",
        "error"
       ]
      },
      {
       "output_type": "stream",
       "stream": "stdout",
       "text": [
        "\n",
        "error"
       ]
      }
     ],
     "prompt_number": "*"
    },
    {
     "cell_type": "code",
     "collapsed": false,
     "input": [
      "reload(r)"
     ],
     "language": "python",
     "metadata": {},
     "outputs": [],
     "prompt_number": "*"
    },
    {
     "cell_type": "code",
     "collapsed": false,
     "input": [],
     "language": "python",
     "metadata": {},
     "outputs": []
    }
   ],
   "metadata": {}
  }
 ]
}