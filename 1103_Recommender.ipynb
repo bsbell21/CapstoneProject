{
 "metadata": {
  "name": ""
 },
 "nbformat": 3,
 "nbformat_minor": 0,
 "worksheets": [
  {
   "cells": [
    {
     "cell_type": "code",
     "collapsed": false,
     "input": [
      "import recommend_init as r\n",
      "import graphlab as gl"
     ],
     "language": "python",
     "metadata": {},
     "outputs": [],
     "prompt_number": 1
    },
    {
     "cell_type": "code",
     "collapsed": false,
     "input": [
      "train_set_norm.head()"
     ],
     "language": "python",
     "metadata": {},
     "outputs": [
      {
       "html": [
        "<div style=\"max-height:1000px;max-width:1500px;overflow:auto;\"><table frame=\"box\" rules=\"cols\">\n",
        "    <tr>\n",
        "        <th style=\"padding-left: 1em; padding-right: 1em; text-align: center\">artist</th>\n",
        "        <th style=\"padding-left: 1em; padding-right: 1em; text-align: center\">song</th>\n",
        "        <th style=\"padding-left: 1em; padding-right: 1em; text-align: center\">user</th>\n",
        "        <th style=\"padding-left: 1em; padding-right: 1em; text-align: center\">Count</th>\n",
        "        <th style=\"padding-left: 1em; padding-right: 1em; text-align: center\">artist_song</th>\n",
        "        <th style=\"padding-left: 1em; padding-right: 1em; text-align: center\">total_cnt</th>\n",
        "    </tr>\n",
        "    <tr>\n",
        "        <td style=\"padding-left: 1em; padding-right: 1em; text-align: center; vertical-align: top\">Richard Swift</td>\n",
        "        <td style=\"padding-left: 1em; padding-right: 1em; text-align: center; vertical-align: top\">Artist &amp; Repertoire</td>\n",
        "        <td style=\"padding-left: 1em; padding-right: 1em; text-align: center; vertical-align: top\">user_000234</td>\n",
        "        <td style=\"padding-left: 1em; padding-right: 1em; text-align: center; vertical-align: top\">39</td>\n",
        "        <td style=\"padding-left: 1em; padding-right: 1em; text-align: center; vertical-align: top\">Richard Swift: Artist &amp;<br>Repertoire</td>\n",
        "        <td style=\"padding-left: 1em; padding-right: 1em; text-align: center; vertical-align: top\">7248</td>\n",
        "    </tr>\n",
        "    <tr>\n",
        "        <td style=\"padding-left: 1em; padding-right: 1em; text-align: center; vertical-align: top\">The Frames</td>\n",
        "        <td style=\"padding-left: 1em; padding-right: 1em; text-align: center; vertical-align: top\">What Happens When The<br>Heart Just Stops</td>\n",
        "        <td style=\"padding-left: 1em; padding-right: 1em; text-align: center; vertical-align: top\">user_000503</td>\n",
        "        <td style=\"padding-left: 1em; padding-right: 1em; text-align: center; vertical-align: top\">33</td>\n",
        "        <td style=\"padding-left: 1em; padding-right: 1em; text-align: center; vertical-align: top\">The Frames: What Happens<br>When The Heart Just S ...</td>\n",
        "        <td style=\"padding-left: 1em; padding-right: 1em; text-align: center; vertical-align: top\">13872</td>\n",
        "    </tr>\n",
        "    <tr>\n",
        "        <td style=\"padding-left: 1em; padding-right: 1em; text-align: center; vertical-align: top\">Jakalope</td>\n",
        "        <td style=\"padding-left: 1em; padding-right: 1em; text-align: center; vertical-align: top\">Nothing Nowhere</td>\n",
        "        <td style=\"padding-left: 1em; padding-right: 1em; text-align: center; vertical-align: top\">user_000885</td>\n",
        "        <td style=\"padding-left: 1em; padding-right: 1em; text-align: center; vertical-align: top\">33</td>\n",
        "        <td style=\"padding-left: 1em; padding-right: 1em; text-align: center; vertical-align: top\">Jakalope: Nothing Nowhere</td>\n",
        "        <td style=\"padding-left: 1em; padding-right: 1em; text-align: center; vertical-align: top\">15233</td>\n",
        "    </tr>\n",
        "    <tr>\n",
        "        <td style=\"padding-left: 1em; padding-right: 1em; text-align: center; vertical-align: top\">Strike Anywhere</td>\n",
        "        <td style=\"padding-left: 1em; padding-right: 1em; text-align: center; vertical-align: top\">You'Re Fired</td>\n",
        "        <td style=\"padding-left: 1em; padding-right: 1em; text-align: center; vertical-align: top\">user_000085</td>\n",
        "        <td style=\"padding-left: 1em; padding-right: 1em; text-align: center; vertical-align: top\">37</td>\n",
        "        <td style=\"padding-left: 1em; padding-right: 1em; text-align: center; vertical-align: top\">Strike Anywhere: You'Re<br>Fired</td>\n",
        "        <td style=\"padding-left: 1em; padding-right: 1em; text-align: center; vertical-align: top\">4433</td>\n",
        "    </tr>\n",
        "    <tr>\n",
        "        <td style=\"padding-left: 1em; padding-right: 1em; text-align: center; vertical-align: top\">Jessy Greene</td>\n",
        "        <td style=\"padding-left: 1em; padding-right: 1em; text-align: center; vertical-align: top\">Time Bomb</td>\n",
        "        <td style=\"padding-left: 1em; padding-right: 1em; text-align: center; vertical-align: top\">user_000008</td>\n",
        "        <td style=\"padding-left: 1em; padding-right: 1em; text-align: center; vertical-align: top\">49</td>\n",
        "        <td style=\"padding-left: 1em; padding-right: 1em; text-align: center; vertical-align: top\">Jessy Greene: Time Bomb</td>\n",
        "        <td style=\"padding-left: 1em; padding-right: 1em; text-align: center; vertical-align: top\">11210</td>\n",
        "    </tr>\n",
        "    <tr>\n",
        "        <td style=\"padding-left: 1em; padding-right: 1em; text-align: center; vertical-align: top\">Field Mob</td>\n",
        "        <td style=\"padding-left: 1em; padding-right: 1em; text-align: center; vertical-align: top\">At The Park</td>\n",
        "        <td style=\"padding-left: 1em; padding-right: 1em; text-align: center; vertical-align: top\">user_000685</td>\n",
        "        <td style=\"padding-left: 1em; padding-right: 1em; text-align: center; vertical-align: top\">43</td>\n",
        "        <td style=\"padding-left: 1em; padding-right: 1em; text-align: center; vertical-align: top\">Field Mob: At The Park</td>\n",
        "        <td style=\"padding-left: 1em; padding-right: 1em; text-align: center; vertical-align: top\">25250</td>\n",
        "    </tr>\n",
        "    <tr>\n",
        "        <td style=\"padding-left: 1em; padding-right: 1em; text-align: center; vertical-align: top\">Hocico</td>\n",
        "        <td style=\"padding-left: 1em; padding-right: 1em; text-align: center; vertical-align: top\">About A Dead</td>\n",
        "        <td style=\"padding-left: 1em; padding-right: 1em; text-align: center; vertical-align: top\">user_000612</td>\n",
        "        <td style=\"padding-left: 1em; padding-right: 1em; text-align: center; vertical-align: top\">44</td>\n",
        "        <td style=\"padding-left: 1em; padding-right: 1em; text-align: center; vertical-align: top\">Hocico: About A Dead</td>\n",
        "        <td style=\"padding-left: 1em; padding-right: 1em; text-align: center; vertical-align: top\">24005</td>\n",
        "    </tr>\n",
        "    <tr>\n",
        "        <td style=\"padding-left: 1em; padding-right: 1em; text-align: center; vertical-align: top\">\\xe3\\x83\\xa0\\xe3\\x83\\x83\\<br>xe3\\x82\\xaf</td>\n",
        "        <td style=\"padding-left: 1em; padding-right: 1em; text-align: center; vertical-align: top\">Saishuu Ressha</td>\n",
        "        <td style=\"padding-left: 1em; padding-right: 1em; text-align: center; vertical-align: top\">user_000033</td>\n",
        "        <td style=\"padding-left: 1em; padding-right: 1em; text-align: center; vertical-align: top\">50</td>\n",
        "        <td style=\"padding-left: 1em; padding-right: 1em; text-align: center; vertical-align: top\">\\xe3\\x83\\xa0\\xe3\\x83\\x83\\<br>xe3\\x82\\xaf: Saishuu ...</td>\n",
        "        <td style=\"padding-left: 1em; padding-right: 1em; text-align: center; vertical-align: top\">28807</td>\n",
        "    </tr>\n",
        "    <tr>\n",
        "        <td style=\"padding-left: 1em; padding-right: 1em; text-align: center; vertical-align: top\">The Goo Goo Dolls</td>\n",
        "        <td style=\"padding-left: 1em; padding-right: 1em; text-align: center; vertical-align: top\">Iris</td>\n",
        "        <td style=\"padding-left: 1em; padding-right: 1em; text-align: center; vertical-align: top\">user_000709</td>\n",
        "        <td style=\"padding-left: 1em; padding-right: 1em; text-align: center; vertical-align: top\">27</td>\n",
        "        <td style=\"padding-left: 1em; padding-right: 1em; text-align: center; vertical-align: top\">The Goo Goo Dolls: Iris</td>\n",
        "        <td style=\"padding-left: 1em; padding-right: 1em; text-align: center; vertical-align: top\">28058</td>\n",
        "    </tr>\n",
        "    <tr>\n",
        "        <td style=\"padding-left: 1em; padding-right: 1em; text-align: center; vertical-align: top\">Live</td>\n",
        "        <td style=\"padding-left: 1em; padding-right: 1em; text-align: center; vertical-align: top\">The Distance</td>\n",
        "        <td style=\"padding-left: 1em; padding-right: 1em; text-align: center; vertical-align: top\">user_000732</td>\n",
        "        <td style=\"padding-left: 1em; padding-right: 1em; text-align: center; vertical-align: top\">36</td>\n",
        "        <td style=\"padding-left: 1em; padding-right: 1em; text-align: center; vertical-align: top\">Live: The Distance</td>\n",
        "        <td style=\"padding-left: 1em; padding-right: 1em; text-align: center; vertical-align: top\">10504</td>\n",
        "    </tr>\n",
        "</table>\n",
        "<table frame=\"box\" rules=\"cols\">\n",
        "    <tr>\n",
        "        <th style=\"padding-left: 1em; padding-right: 1em; text-align: center\">norm</th>\n",
        "    </tr>\n",
        "    <tr>\n",
        "        <td style=\"padding-left: 1em; padding-right: 1em; text-align: center; vertical-align: top\">0.00538079470199</td>\n",
        "    </tr>\n",
        "    <tr>\n",
        "        <td style=\"padding-left: 1em; padding-right: 1em; text-align: center; vertical-align: top\">0.00237889273356</td>\n",
        "    </tr>\n",
        "    <tr>\n",
        "        <td style=\"padding-left: 1em; padding-right: 1em; text-align: center; vertical-align: top\">0.00216634937307</td>\n",
        "    </tr>\n",
        "    <tr>\n",
        "        <td style=\"padding-left: 1em; padding-right: 1em; text-align: center; vertical-align: top\">0.00834649221746</td>\n",
        "    </tr>\n",
        "    <tr>\n",
        "        <td style=\"padding-left: 1em; padding-right: 1em; text-align: center; vertical-align: top\">0.00437109723461</td>\n",
        "    </tr>\n",
        "    <tr>\n",
        "        <td style=\"padding-left: 1em; padding-right: 1em; text-align: center; vertical-align: top\">0.00170297029703</td>\n",
        "    </tr>\n",
        "    <tr>\n",
        "        <td style=\"padding-left: 1em; padding-right: 1em; text-align: center; vertical-align: top\">0.00183295146844</td>\n",
        "    </tr>\n",
        "    <tr>\n",
        "        <td style=\"padding-left: 1em; padding-right: 1em; text-align: center; vertical-align: top\">0.0017356892422</td>\n",
        "    </tr>\n",
        "    <tr>\n",
        "        <td style=\"padding-left: 1em; padding-right: 1em; text-align: center; vertical-align: top\">0.000962292394326</td>\n",
        "    </tr>\n",
        "    <tr>\n",
        "        <td style=\"padding-left: 1em; padding-right: 1em; text-align: center; vertical-align: top\">0.0034272658035</td>\n",
        "    </tr>\n",
        "</table>\n",
        "[10 rows x 7 columns]<br/>\n",
        "</div>"
       ],
       "metadata": {},
       "output_type": "pyout",
       "prompt_number": 36,
       "text": [
        "Columns:\n",
        "\tartist\tstr\n",
        "\tsong\tstr\n",
        "\tuser\tstr\n",
        "\tCount\tint\n",
        "\tartist_song\tstr\n",
        "\ttotal_cnt\tint\n",
        "\tnorm\tfloat\n",
        "\n",
        "Rows: 10\n",
        "\n",
        "Data:\n",
        "+--------------------------------+--------------------------------+-------------+\n",
        "|             artist             |              song              |     user    |\n",
        "+--------------------------------+--------------------------------+-------------+\n",
        "|         Richard Swift          |      Artist & Repertoire       | user_000234 |\n",
        "|           The Frames           | What Happens When The Hear ... | user_000503 |\n",
        "|            Jakalope            |        Nothing Nowhere         | user_000885 |\n",
        "|        Strike Anywhere         |          You'Re Fired          | user_000085 |\n",
        "|          Jessy Greene          |           Time Bomb            | user_000008 |\n",
        "|           Field Mob            |          At The Park           | user_000685 |\n",
        "|             Hocico             |          About A Dead          | user_000612 |\n",
        "| \\xe3\\x83\\xa0\\xe3\\x83\\x83\\x ... |         Saishuu Ressha         | user_000033 |\n",
        "|       The Goo Goo Dolls        |              Iris              | user_000709 |\n",
        "|              Live              |          The Distance          | user_000732 |\n",
        "+--------------------------------+--------------------------------+-------------+\n",
        "+-------+--------------------------------+-----------+-------------------+\n",
        "| Count |          artist_song           | total_cnt |        norm       |\n",
        "+-------+--------------------------------+-----------+-------------------+\n",
        "|   39  | Richard Swift: Artist & Re ... |    7248   |  0.00538079470199 |\n",
        "|   33  | The Frames: What Happens W ... |   13872   |  0.00237889273356 |\n",
        "|   33  |   Jakalope: Nothing Nowhere    |   15233   |  0.00216634937307 |\n",
        "|   37  | Strike Anywhere: You'Re Fired  |    4433   |  0.00834649221746 |\n",
        "|   49  |    Jessy Greene: Time Bomb     |   11210   |  0.00437109723461 |\n",
        "|   43  |     Field Mob: At The Park     |   25250   |  0.00170297029703 |\n",
        "|   44  |      Hocico: About A Dead      |   24005   |  0.00183295146844 |\n",
        "|   50  | \\xe3\\x83\\xa0\\xe3\\x83\\x83\\x ... |   28807   |  0.0017356892422  |\n",
        "|   27  |    The Goo Goo Dolls: Iris     |   28058   | 0.000962292394326 |\n",
        "|   36  |       Live: The Distance       |   10504   |  0.0034272658035  |\n",
        "+-------+--------------------------------+-----------+-------------------+\n",
        "[10 rows x 7 columns]\n"
       ]
      }
     ],
     "prompt_number": 36
    },
    {
     "cell_type": "code",
     "collapsed": false,
     "input": [
      "grouped_norm, smaller_norm, train_set_norm, test_set_norm, grouped_s, smaller_s, train_set_s, test_set_s = r.create_grouped_table('lastfm-1k/sample.csv')"
     ],
     "language": "python",
     "metadata": {},
     "outputs": [
      {
       "output_type": "stream",
       "stream": "stderr",
       "text": [
        "[INFO] Start server at: ipc:///tmp/graphlab_server-10294 - Server binary: /Users/Zipfian/anaconda/lib/python2.7/site-packages/graphlab/unity_server - Server log: /tmp/graphlab_server_1415060992.log\n"
       ]
      },
      {
       "output_type": "stream",
       "stream": "stderr",
       "text": [
        "[INFO] GraphLab Server Version: 1.0.1\n"
       ]
      },
      {
       "html": [
        "<pre>PROGRESS: Finished parsing file /Users/Zipfian/Desktop/Ben_Bell/CapstoneProject/lastfm-1k/sample.csv</pre>"
       ],
       "metadata": {},
       "output_type": "display_data",
       "text": [
        "PROGRESS: Finished parsing file /Users/Zipfian/Desktop/Ben_Bell/CapstoneProject/lastfm-1k/sample.csv"
       ]
      },
      {
       "html": [
        "<pre>PROGRESS: Parsing completed. Parsed 100 lines in 0.982288 secs.</pre>"
       ],
       "metadata": {},
       "output_type": "display_data",
       "text": [
        "PROGRESS: Parsing completed. Parsed 100 lines in 0.982288 secs."
       ]
      },
      {
       "output_type": "stream",
       "stream": "stdout",
       "text": [
        "------------------------------------------------------"
       ]
      },
      {
       "html": [
        "<pre>PROGRESS: Read 365155 lines. Lines per second: 206591</pre>"
       ],
       "metadata": {},
       "output_type": "display_data",
       "text": [
        "PROGRESS: Read 365155 lines. Lines per second: 206591"
       ]
      },
      {
       "html": [
        "<pre>PROGRESS: Read 2175185 lines. Lines per second: 282876</pre>"
       ],
       "metadata": {},
       "output_type": "display_data",
       "text": [
        "PROGRESS: Read 2175185 lines. Lines per second: 282876"
       ]
      },
      {
       "html": [
        "<pre>PROGRESS: Read 3271134 lines. Lines per second: 243029</pre>"
       ],
       "metadata": {},
       "output_type": "display_data",
       "text": [
        "PROGRESS: Read 3271134 lines. Lines per second: 243029"
       ]
      },
      {
       "html": [
        "<pre>PROGRESS: Read 5094257 lines. Lines per second: 254719</pre>"
       ],
       "metadata": {},
       "output_type": "display_data",
       "text": [
        "PROGRESS: Read 5094257 lines. Lines per second: 254719"
       ]
      },
      {
       "html": [
        "<pre>PROGRESS: Finished parsing file /Users/Zipfian/Desktop/Ben_Bell/CapstoneProject/lastfm-1k/sample.csv</pre>"
       ],
       "metadata": {},
       "output_type": "display_data",
       "text": [
        "PROGRESS: Finished parsing file /Users/Zipfian/Desktop/Ben_Bell/CapstoneProject/lastfm-1k/sample.csv"
       ]
      },
      {
       "html": [
        "<pre>PROGRESS: Parsing completed. Parsed 5743330 lines in 22.1594 secs.</pre>"
       ],
       "metadata": {},
       "output_type": "display_data",
       "text": [
        "PROGRESS: Parsing completed. Parsed 5743330 lines in 22.1594 secs."
       ]
      },
      {
       "output_type": "stream",
       "stream": "stdout",
       "text": [
        "\n",
        "Inferred types from first line of file as \n",
        "column_type_hints=[str,str,str,str,str,str]\n",
        "If parsing fails due to incorrect types, you can correct\n",
        "the inferred type list above and pass it to read_csv in\n",
        "the column_type_hints argument\n",
        "------------------------------------------------------\n"
       ]
      }
     ],
     "prompt_number": 2
    },
    {
     "cell_type": "code",
     "collapsed": false,
     "input": [
      "model = gl.recommender.create(train_set_norm, 'user', 'artist_song', 'norm')"
     ],
     "language": "python",
     "metadata": {},
     "outputs": [
      {
       "html": [
        "<pre>PROGRESS: Recsys training: model = ranking_factorization_recommender</pre>"
       ],
       "metadata": {},
       "output_type": "display_data",
       "text": [
        "PROGRESS: Recsys training: model = ranking_factorization_recommender"
       ]
      },
      {
       "html": [
        "<pre>PROGRESS: Preparing data set.</pre>"
       ],
       "metadata": {},
       "output_type": "display_data",
       "text": [
        "PROGRESS: Preparing data set."
       ]
      },
      {
       "html": [
        "<pre>PROGRESS:     Data has 7159 observations with 347 users and 6483 items.</pre>"
       ],
       "metadata": {},
       "output_type": "display_data",
       "text": [
        "PROGRESS:     Data has 7159 observations with 347 users and 6483 items."
       ]
      },
      {
       "html": [
        "<pre>PROGRESS:     Data prepared in: 0.638629s</pre>"
       ],
       "metadata": {},
       "output_type": "display_data",
       "text": [
        "PROGRESS:     Data prepared in: 0.638629s"
       ]
      },
      {
       "html": [
        "<pre>PROGRESS: Training ranking_factorization_recommender for recommendations.</pre>"
       ],
       "metadata": {},
       "output_type": "display_data",
       "text": [
        "PROGRESS: Training ranking_factorization_recommender for recommendations."
       ]
      },
      {
       "html": [
        "<pre>PROGRESS: +------------------------------+--------------------------------------------------+----------+</pre>"
       ],
       "metadata": {},
       "output_type": "display_data",
       "text": [
        "PROGRESS: +------------------------------+--------------------------------------------------+----------+"
       ]
      },
      {
       "html": [
        "<pre>PROGRESS: | Parameter                    | Description                                      | Value    |</pre>"
       ],
       "metadata": {},
       "output_type": "display_data",
       "text": [
        "PROGRESS: | Parameter                    | Description                                      | Value    |"
       ]
      },
      {
       "html": [
        "<pre>PROGRESS: +------------------------------+--------------------------------------------------+----------+</pre>"
       ],
       "metadata": {},
       "output_type": "display_data",
       "text": [
        "PROGRESS: +------------------------------+--------------------------------------------------+----------+"
       ]
      },
      {
       "html": [
        "<pre>PROGRESS: | num_factors                  | Factor Dimension                                 | 8        |</pre>"
       ],
       "metadata": {},
       "output_type": "display_data",
       "text": [
        "PROGRESS: | num_factors                  | Factor Dimension                                 | 8        |"
       ]
      },
      {
       "html": [
        "<pre>PROGRESS: | regularization               | L2 Regularization on Factors                     | 0        |</pre>"
       ],
       "metadata": {},
       "output_type": "display_data",
       "text": [
        "PROGRESS: | regularization               | L2 Regularization on Factors                     | 0        |"
       ]
      },
      {
       "html": [
        "<pre>PROGRESS: | ranking_regularization       | Rank-based Regularization Weight                 | 0.25     |</pre>"
       ],
       "metadata": {},
       "output_type": "display_data",
       "text": [
        "PROGRESS: | ranking_regularization       | Rank-based Regularization Weight                 | 0.25     |"
       ]
      },
      {
       "html": [
        "<pre>PROGRESS: | max_iterations               | Maximum Number of Iterations                     | 50       |</pre>"
       ],
       "metadata": {},
       "output_type": "display_data",
       "text": [
        "PROGRESS: | max_iterations               | Maximum Number of Iterations                     | 50       |"
       ]
      },
      {
       "html": [
        "<pre>PROGRESS: +------------------------------+--------------------------------------------------+----------+</pre>"
       ],
       "metadata": {},
       "output_type": "display_data",
       "text": [
        "PROGRESS: +------------------------------+--------------------------------------------------+----------+"
       ]
      },
      {
       "html": [
        "<pre>PROGRESS:   Optimizing model using SGD; tuning step size.</pre>"
       ],
       "metadata": {},
       "output_type": "display_data",
       "text": [
        "PROGRESS:   Optimizing model using SGD; tuning step size."
       ]
      },
      {
       "html": [
        "<pre>PROGRESS:   Using 7159 / 7159 points for tuning the step size.</pre>"
       ],
       "metadata": {},
       "output_type": "display_data",
       "text": [
        "PROGRESS:   Using 7159 / 7159 points for tuning the step size."
       ]
      },
      {
       "html": [
        "<pre>PROGRESS: +---------+-------------------+---------------------------+</pre>"
       ],
       "metadata": {},
       "output_type": "display_data",
       "text": [
        "PROGRESS: +---------+-------------------+---------------------------+"
       ]
      },
      {
       "html": [
        "<pre>PROGRESS: | Attempt | Initial Step Size | Estimated Objective Value |</pre>"
       ],
       "metadata": {},
       "output_type": "display_data",
       "text": [
        "PROGRESS: | Attempt | Initial Step Size | Estimated Objective Value |"
       ]
      },
      {
       "html": [
        "<pre>PROGRESS: +---------+-------------------+---------------------------+</pre>"
       ],
       "metadata": {},
       "output_type": "display_data",
       "text": [
        "PROGRESS: +---------+-------------------+---------------------------+"
       ]
      },
      {
       "html": [
        "<pre>PROGRESS: | 0       | 8.33333           | Not Viable                |</pre>"
       ],
       "metadata": {},
       "output_type": "display_data",
       "text": [
        "PROGRESS: | 0       | 8.33333           | Not Viable                |"
       ]
      },
      {
       "html": [
        "<pre>PROGRESS: | 1       | 2.08333           | Not Viable                |</pre>"
       ],
       "metadata": {},
       "output_type": "display_data",
       "text": [
        "PROGRESS: | 1       | 2.08333           | Not Viable                |"
       ]
      },
      {
       "html": [
        "<pre>PROGRESS: | 2       | 0.520833          | Not Viable                |</pre>"
       ],
       "metadata": {},
       "output_type": "display_data",
       "text": [
        "PROGRESS: | 2       | 0.520833          | Not Viable                |"
       ]
      },
      {
       "html": [
        "<pre>PROGRESS: | 3       | 0.130208          | Not Viable                |</pre>"
       ],
       "metadata": {},
       "output_type": "display_data",
       "text": [
        "PROGRESS: | 3       | 0.130208          | Not Viable                |"
       ]
      },
      {
       "html": [
        "<pre>PROGRESS: | 4       | 0.0325521         | Not Viable                |</pre>"
       ],
       "metadata": {},
       "output_type": "display_data",
       "text": [
        "PROGRESS: | 4       | 0.0325521         | Not Viable                |"
       ]
      },
      {
       "html": [
        "<pre>PROGRESS: | 5       | 0.00813802        | 9.61401e-05               |</pre>"
       ],
       "metadata": {},
       "output_type": "display_data",
       "text": [
        "PROGRESS: | 5       | 0.00813802        | 9.61401e-05               |"
       ]
      },
      {
       "html": [
        "<pre>PROGRESS: | 6       | 0.00406901        | 0.000105895               |</pre>"
       ],
       "metadata": {},
       "output_type": "display_data",
       "text": [
        "PROGRESS: | 6       | 0.00406901        | 0.000105895               |"
       ]
      },
      {
       "html": [
        "<pre>PROGRESS: | 7       | 0.00203451        | 0.000113019               |</pre>"
       ],
       "metadata": {},
       "output_type": "display_data",
       "text": [
        "PROGRESS: | 7       | 0.00203451        | 0.000113019               |"
       ]
      },
      {
       "html": [
        "<pre>PROGRESS: | 8       | 0.00101725        | 0.000121665               |</pre>"
       ],
       "metadata": {},
       "output_type": "display_data",
       "text": [
        "PROGRESS: | 8       | 0.00101725        | 0.000121665               |"
       ]
      },
      {
       "html": [
        "<pre>PROGRESS: +---------+-------------------+---------------------------+</pre>"
       ],
       "metadata": {},
       "output_type": "display_data",
       "text": [
        "PROGRESS: +---------+-------------------+---------------------------+"
       ]
      },
      {
       "html": [
        "<pre>PROGRESS: | Final   | 0.00813802        | 9.61401e-05               |</pre>"
       ],
       "metadata": {},
       "output_type": "display_data",
       "text": [
        "PROGRESS: | Final   | 0.00813802        | 9.61401e-05               |"
       ]
      },
      {
       "html": [
        "<pre>PROGRESS: +---------+-------------------+---------------------------+</pre>"
       ],
       "metadata": {},
       "output_type": "display_data",
       "text": [
        "PROGRESS: +---------+-------------------+---------------------------+"
       ]
      },
      {
       "html": [
        "<pre>PROGRESS: Starting Optimization.</pre>"
       ],
       "metadata": {},
       "output_type": "display_data",
       "text": [
        "PROGRESS: Starting Optimization."
       ]
      },
      {
       "html": [
        "<pre>PROGRESS: +---------+--------------+----------------+---------------+-------------+</pre>"
       ],
       "metadata": {},
       "output_type": "display_data",
       "text": [
        "PROGRESS: +---------+--------------+----------------+---------------+-------------+"
       ]
      },
      {
       "html": [
        "<pre>PROGRESS: | Iter.   | Elapsed Time | Est. Objective | Training RMSE | Step Size   |</pre>"
       ],
       "metadata": {},
       "output_type": "display_data",
       "text": [
        "PROGRESS: | Iter.   | Elapsed Time | Est. Objective | Training RMSE | Step Size   |"
       ]
      },
      {
       "html": [
        "<pre>PROGRESS: +---------+--------------+----------------+---------------+-------------+</pre>"
       ],
       "metadata": {},
       "output_type": "display_data",
       "text": [
        "PROGRESS: +---------+--------------+----------------+---------------+-------------+"
       ]
      },
      {
       "html": [
        "<pre>PROGRESS: | Initial | 68.674ms     | 9.85032e-05    | 0.00697181    |             |</pre>"
       ],
       "metadata": {},
       "output_type": "display_data",
       "text": [
        "PROGRESS: | Initial | 68.674ms     | 9.85032e-05    | 0.00697181    |             |"
       ]
      },
      {
       "html": [
        "<pre>PROGRESS: +---------+--------------+----------------+---------------+-------------+</pre>"
       ],
       "metadata": {},
       "output_type": "display_data",
       "text": [
        "PROGRESS: +---------+--------------+----------------+---------------+-------------+"
       ]
      },
      {
       "html": [
        "<pre>PROGRESS: | 1       | 96.026ms     | 0.000178236    | 0.00883337    | 0.00813802  |</pre>"
       ],
       "metadata": {},
       "output_type": "display_data",
       "text": [
        "PROGRESS: | 1       | 96.026ms     | 0.000178236    | 0.00883337    | 0.00813802  |"
       ]
      },
      {
       "html": [
        "<pre>PROGRESS: +---------+--------------+----------------+---------------+-------------+</pre>"
       ],
       "metadata": {},
       "output_type": "display_data",
       "text": [
        "PROGRESS: +---------+--------------+----------------+---------------+-------------+"
       ]
      },
      {
       "html": [
        "<pre>PROGRESS: | Final   | 244.944ms    | 9.8873e-05     | 0.00719969    |             |</pre>"
       ],
       "metadata": {},
       "output_type": "display_data",
       "text": [
        "PROGRESS: | Final   | 244.944ms    | 9.8873e-05     | 0.00719969    |             |"
       ]
      },
      {
       "html": [
        "<pre>PROGRESS: +---------+--------------+----------------+---------------+-------------+</pre>"
       ],
       "metadata": {},
       "output_type": "display_data",
       "text": [
        "PROGRESS: +---------+--------------+----------------+---------------+-------------+"
       ]
      },
      {
       "html": [
        "<pre>PROGRESS: Optimization Complete: Convergence on objective within bounds.</pre>"
       ],
       "metadata": {},
       "output_type": "display_data",
       "text": [
        "PROGRESS: Optimization Complete: Convergence on objective within bounds."
       ]
      }
     ],
     "prompt_number": 6
    },
    {
     "cell_type": "code",
     "collapsed": false,
     "input": [
      "model_factor = gl.recommender.factorization_recommender.create(train_set_norm, user_id = 'user', item_id='artist_song', target='norm', nmf = True, num_factors = 20)"
     ],
     "language": "python",
     "metadata": {},
     "outputs": [
      {
       "html": [
        "<pre>PROGRESS: Recsys training: model = factorization_recommender</pre>"
       ],
       "metadata": {},
       "output_type": "display_data",
       "text": [
        "PROGRESS: Recsys training: model = factorization_recommender"
       ]
      },
      {
       "html": [
        "<pre>PROGRESS: Preparing data set.</pre>"
       ],
       "metadata": {},
       "output_type": "display_data",
       "text": [
        "PROGRESS: Preparing data set."
       ]
      },
      {
       "html": [
        "<pre>PROGRESS:     Data has 7159 observations with 347 users and 6483 items.</pre>"
       ],
       "metadata": {},
       "output_type": "display_data",
       "text": [
        "PROGRESS:     Data has 7159 observations with 347 users and 6483 items."
       ]
      },
      {
       "html": [
        "<pre>PROGRESS:     Data prepared in: 0.466509s</pre>"
       ],
       "metadata": {},
       "output_type": "display_data",
       "text": [
        "PROGRESS:     Data prepared in: 0.466509s"
       ]
      },
      {
       "html": [
        "<pre>PROGRESS: Training factorization_recommender for recommendations.</pre>"
       ],
       "metadata": {},
       "output_type": "display_data",
       "text": [
        "PROGRESS: Training factorization_recommender for recommendations."
       ]
      },
      {
       "html": [
        "<pre>PROGRESS: +------------------------------+--------------------------------------------------+----------+</pre>"
       ],
       "metadata": {},
       "output_type": "display_data",
       "text": [
        "PROGRESS: +------------------------------+--------------------------------------------------+----------+"
       ]
      },
      {
       "html": [
        "<pre>PROGRESS: | Parameter                    | Description                                      | Value    |</pre>"
       ],
       "metadata": {},
       "output_type": "display_data",
       "text": [
        "PROGRESS: | Parameter                    | Description                                      | Value    |"
       ]
      },
      {
       "html": [
        "<pre>PROGRESS: +------------------------------+--------------------------------------------------+----------+</pre>"
       ],
       "metadata": {},
       "output_type": "display_data",
       "text": [
        "PROGRESS: +------------------------------+--------------------------------------------------+----------+"
       ]
      },
      {
       "html": [
        "<pre>PROGRESS: | num_factors                  | Factor Dimension                                 | 20       |</pre>"
       ],
       "metadata": {},
       "output_type": "display_data",
       "text": [
        "PROGRESS: | num_factors                  | Factor Dimension                                 | 20       |"
       ]
      },
      {
       "html": [
        "<pre>PROGRESS: | regularization               | L2 Regularization on Factors                     | 1e-06    |</pre>"
       ],
       "metadata": {},
       "output_type": "display_data",
       "text": [
        "PROGRESS: | regularization               | L2 Regularization on Factors                     | 1e-06    |"
       ]
      },
      {
       "html": [
        "<pre>PROGRESS: | nmf                          | Use Non-Negative Factors                         | True     |</pre>"
       ],
       "metadata": {},
       "output_type": "display_data",
       "text": [
        "PROGRESS: | nmf                          | Use Non-Negative Factors                         | True     |"
       ]
      },
      {
       "html": [
        "<pre>PROGRESS: | max_iterations               | Maximum Number of Iterations                     | 50       |</pre>"
       ],
       "metadata": {},
       "output_type": "display_data",
       "text": [
        "PROGRESS: | max_iterations               | Maximum Number of Iterations                     | 50       |"
       ]
      },
      {
       "html": [
        "<pre>PROGRESS: +------------------------------+--------------------------------------------------+----------+</pre>"
       ],
       "metadata": {},
       "output_type": "display_data",
       "text": [
        "PROGRESS: +------------------------------+--------------------------------------------------+----------+"
       ]
      },
      {
       "html": [
        "<pre>PROGRESS:   Optimizing model using SGD; tuning step size.</pre>"
       ],
       "metadata": {},
       "output_type": "display_data",
       "text": [
        "PROGRESS:   Optimizing model using SGD; tuning step size."
       ]
      },
      {
       "html": [
        "<pre>PROGRESS:   Using 7159 / 7159 points for tuning the step size.</pre>"
       ],
       "metadata": {},
       "output_type": "display_data",
       "text": [
        "PROGRESS:   Using 7159 / 7159 points for tuning the step size."
       ]
      },
      {
       "html": [
        "<pre>PROGRESS: +---------+-------------------+---------------------------+</pre>"
       ],
       "metadata": {},
       "output_type": "display_data",
       "text": [
        "PROGRESS: +---------+-------------------+---------------------------+"
       ]
      },
      {
       "html": [
        "<pre>PROGRESS: | Attempt | Initial Step Size | Estimated Objective Value |</pre>"
       ],
       "metadata": {},
       "output_type": "display_data",
       "text": [
        "PROGRESS: | Attempt | Initial Step Size | Estimated Objective Value |"
       ]
      },
      {
       "html": [
        "<pre>PROGRESS: +---------+-------------------+---------------------------+</pre>"
       ],
       "metadata": {},
       "output_type": "display_data",
       "text": [
        "PROGRESS: +---------+-------------------+---------------------------+"
       ]
      },
      {
       "html": [
        "<pre>PROGRESS: | 0       | 8.33333           | Not Viable                |</pre>"
       ],
       "metadata": {},
       "output_type": "display_data",
       "text": [
        "PROGRESS: | 0       | 8.33333           | Not Viable                |"
       ]
      },
      {
       "html": [
        "<pre>PROGRESS: | 1       | 2.08333           | Not Viable                |</pre>"
       ],
       "metadata": {},
       "output_type": "display_data",
       "text": [
        "PROGRESS: | 1       | 2.08333           | Not Viable                |"
       ]
      },
      {
       "html": [
        "<pre>PROGRESS: | 2       | 0.520833          | 2.89968e-05               |</pre>"
       ],
       "metadata": {},
       "output_type": "display_data",
       "text": [
        "PROGRESS: | 2       | 0.520833          | 2.89968e-05               |"
       ]
      },
      {
       "html": [
        "<pre>PROGRESS: | 3       | 0.260417          | 2.34453e-05               |</pre>"
       ],
       "metadata": {},
       "output_type": "display_data",
       "text": [
        "PROGRESS: | 3       | 0.260417          | 2.34453e-05               |"
       ]
      },
      {
       "html": [
        "<pre>PROGRESS: | 4       | 0.130208          | 3.71218e-05               |</pre>"
       ],
       "metadata": {},
       "output_type": "display_data",
       "text": [
        "PROGRESS: | 4       | 0.130208          | 3.71218e-05               |"
       ]
      },
      {
       "html": [
        "<pre>PROGRESS: | 5       | 0.0651042         | 4.72516e-05               |</pre>"
       ],
       "metadata": {},
       "output_type": "display_data",
       "text": [
        "PROGRESS: | 5       | 0.0651042         | 4.72516e-05               |"
       ]
      },
      {
       "html": [
        "<pre>PROGRESS: +---------+-------------------+---------------------------+</pre>"
       ],
       "metadata": {},
       "output_type": "display_data",
       "text": [
        "PROGRESS: +---------+-------------------+---------------------------+"
       ]
      },
      {
       "html": [
        "<pre>PROGRESS: | Final   | 0.260417          | 2.34453e-05               |</pre>"
       ],
       "metadata": {},
       "output_type": "display_data",
       "text": [
        "PROGRESS: | Final   | 0.260417          | 2.34453e-05               |"
       ]
      },
      {
       "html": [
        "<pre>PROGRESS: +---------+-------------------+---------------------------+</pre>"
       ],
       "metadata": {},
       "output_type": "display_data",
       "text": [
        "PROGRESS: +---------+-------------------+---------------------------+"
       ]
      },
      {
       "html": [
        "<pre>PROGRESS: Starting Optimization.</pre>"
       ],
       "metadata": {},
       "output_type": "display_data",
       "text": [
        "PROGRESS: Starting Optimization."
       ]
      },
      {
       "html": [
        "<pre>PROGRESS: +---------+--------------+----------------+---------------+-------------+</pre>"
       ],
       "metadata": {},
       "output_type": "display_data",
       "text": [
        "PROGRESS: +---------+--------------+----------------+---------------+-------------+"
       ]
      },
      {
       "html": [
        "<pre>PROGRESS: | Iter.   | Elapsed Time | Est. Objective | Training RMSE | Step Size   |</pre>"
       ],
       "metadata": {},
       "output_type": "display_data",
       "text": [
        "PROGRESS: | Iter.   | Elapsed Time | Est. Objective | Training RMSE | Step Size   |"
       ]
      },
      {
       "html": [
        "<pre>PROGRESS: +---------+--------------+----------------+---------------+-------------+</pre>"
       ],
       "metadata": {},
       "output_type": "display_data",
       "text": [
        "PROGRESS: +---------+--------------+----------------+---------------+-------------+"
       ]
      },
      {
       "html": [
        "<pre>PROGRESS: | Initial | 2.051ms      | 6.21422e-05    | 0.00788298    |             |</pre>"
       ],
       "metadata": {},
       "output_type": "display_data",
       "text": [
        "PROGRESS: | Initial | 2.051ms      | 6.21422e-05    | 0.00788298    |             |"
       ]
      },
      {
       "html": [
        "<pre>PROGRESS: +---------+--------------+----------------+---------------+-------------+</pre>"
       ],
       "metadata": {},
       "output_type": "display_data",
       "text": [
        "PROGRESS: +---------+--------------+----------------+---------------+-------------+"
       ]
      },
      {
       "html": [
        "<pre>PROGRESS: | 1       | 16.494ms     | 4.07234e-05    | 0.00637224    | 0.260417    |</pre>"
       ],
       "metadata": {},
       "output_type": "display_data",
       "text": [
        "PROGRESS: | 1       | 16.494ms     | 4.07234e-05    | 0.00637224    | 0.260417    |"
       ]
      },
      {
       "html": [
        "<pre>PROGRESS: +---------+--------------+----------------+---------------+-------------+</pre>"
       ],
       "metadata": {},
       "output_type": "display_data",
       "text": [
        "PROGRESS: +---------+--------------+----------------+---------------+-------------+"
       ]
      },
      {
       "html": [
        "<pre>PROGRESS: | Final   | 126.24ms     | 2.59276e-05    | 0.0050713     |             |</pre>"
       ],
       "metadata": {},
       "output_type": "display_data",
       "text": [
        "PROGRESS: | Final   | 126.24ms     | 2.59276e-05    | 0.0050713     |             |"
       ]
      },
      {
       "html": [
        "<pre>PROGRESS: +---------+--------------+----------------+---------------+-------------+</pre>"
       ],
       "metadata": {},
       "output_type": "display_data",
       "text": [
        "PROGRESS: +---------+--------------+----------------+---------------+-------------+"
       ]
      },
      {
       "html": [
        "<pre>PROGRESS: Optimization Complete: Convergence on objective within bounds.</pre>"
       ],
       "metadata": {},
       "output_type": "display_data",
       "text": [
        "PROGRESS: Optimization Complete: Convergence on objective within bounds."
       ]
      }
     ],
     "prompt_number": 63
    },
    {
     "cell_type": "code",
     "collapsed": false,
     "input": [
      "model_factor.summary()"
     ],
     "language": "python",
     "metadata": {},
     "outputs": [
      {
       "output_type": "stream",
       "stream": "stdout",
       "text": [
        "FactorizationRecommender\n",
        "\n",
        "Schema\n",
        "  user id:       user\n",
        "  item id:       artist_song\n",
        "  target:        norm\n",
        "\n",
        "Statistics\n",
        "  Training set:            7159 obs         347 users        6483 items\n",
        "\n",
        "Training summary\n",
        "  training_rmse:       0.00520866431185\n",
        "\n",
        "Settings\n",
        "  regularization type:   normal                        \n",
        "  sgd step size:         0.0                           \n",
        "  regularization:        1e-06                         \n",
        "  side data factorization: 1                             \n",
        "  binary target:         0                             \n",
        "  sgd trial sample minimum size: 10000                         \n",
        "  sgd convergence threshold: 1e-05                         \n",
        "  step size decrease rate: 0.75                          \n",
        "  nmf:                   1                             \n",
        "  sgd max trial iterations: 10                            \n",
        "  sgd trial sample proportion: 0.05                          \n",
        "  num factors:           8                             \n",
        "  sgd convergence interval: 4                             \n",
        "  optimization method:   auto                          \n",
        "  linear regularization: 0.0                           \n",
        "  init random sigma:     0.01                          \n",
        "  max iterations:        50                            \n",
        "\n"
       ]
      }
     ],
     "prompt_number": 10
    },
    {
     "cell_type": "code",
     "collapsed": false,
     "input": [
      "(train_set2, test_set2) = smaller_norm.random_split(0.8)"
     ],
     "language": "python",
     "metadata": {},
     "outputs": [],
     "prompt_number": 66
    },
    {
     "cell_type": "code",
     "collapsed": false,
     "input": [
      "train_set2['binary'] = 1"
     ],
     "language": "python",
     "metadata": {},
     "outputs": [],
     "prompt_number": 151
    },
    {
     "cell_type": "code",
     "collapsed": false,
     "input": [
      "model_factor.get('regularization')"
     ],
     "language": "python",
     "metadata": {},
     "outputs": [
      {
       "metadata": {},
       "output_type": "pyout",
       "prompt_number": 80,
       "text": [
        "1e-06"
       ]
      }
     ],
     "prompt_number": 80
    },
    {
     "cell_type": "code",
     "collapsed": false,
     "input": [
      "model_factor.list_fields()"
     ],
     "language": "python",
     "metadata": {},
     "outputs": [
      {
       "metadata": {},
       "output_type": "pyout",
       "prompt_number": 79,
       "text": [
        "['binary_target',\n",
        " 'coefficients',\n",
        " 'data_load_time',\n",
        " 'init_random_sigma',\n",
        " 'item_id',\n",
        " 'item_side_data_column_names',\n",
        " 'item_side_data_column_types',\n",
        " 'linear_regularization',\n",
        " 'max_iterations',\n",
        " 'model_name',\n",
        " 'nmf',\n",
        " 'num_factors',\n",
        " 'num_features',\n",
        " 'num_item_side_features',\n",
        " 'num_items',\n",
        " 'num_observations',\n",
        " 'num_user_side_features',\n",
        " 'num_users',\n",
        " 'observation_data_column_names',\n",
        " 'optimization_method',\n",
        " 'random_seed',\n",
        " 'regularization',\n",
        " 'regularization_type',\n",
        " 'sgd_convergence_interval',\n",
        " 'sgd_convergence_threshold',\n",
        " 'sgd_max_trial_iterations',\n",
        " 'sgd_step_size',\n",
        " 'sgd_trial_sample_minimum_size',\n",
        " 'sgd_trial_sample_proportion',\n",
        " 'side_data_factorization',\n",
        " 'step_size_decrease_rate',\n",
        " 'target',\n",
        " 'training_rmse',\n",
        " 'training_stats',\n",
        " 'training_time',\n",
        " 'user_id',\n",
        " 'user_side_data_column_names',\n",
        " 'user_side_data_column_types']"
       ]
      }
     ],
     "prompt_number": 79
    },
    {
     "cell_type": "code",
     "collapsed": false,
     "input": [
      "model_factor2 = gl.recommender.factorization_recommender.create(train_set2, user_id = 'user', item_id='artist_song', target='binary', nmf = True, num_factors = 5, regularization=0);"
     ],
     "language": "python",
     "metadata": {},
     "outputs": [
      {
       "html": [
        "<pre>PROGRESS: Recsys training: model = factorization_recommender</pre>"
       ],
       "metadata": {},
       "output_type": "display_data",
       "text": [
        "PROGRESS: Recsys training: model = factorization_recommender"
       ]
      },
      {
       "html": [
        "<pre>PROGRESS: Preparing data set.</pre>"
       ],
       "metadata": {},
       "output_type": "display_data",
       "text": [
        "PROGRESS: Preparing data set."
       ]
      },
      {
       "html": [
        "<pre>PROGRESS:     Data has 7204 observations with 336 users and 6542 items.</pre>"
       ],
       "metadata": {},
       "output_type": "display_data",
       "text": [
        "PROGRESS:     Data has 7204 observations with 336 users and 6542 items."
       ]
      },
      {
       "html": [
        "<pre>PROGRESS:     Data prepared in: 0.81424s</pre>"
       ],
       "metadata": {},
       "output_type": "display_data",
       "text": [
        "PROGRESS:     Data prepared in: 0.81424s"
       ]
      },
      {
       "html": [
        "<pre>PROGRESS: Training factorization_recommender for recommendations.</pre>"
       ],
       "metadata": {},
       "output_type": "display_data",
       "text": [
        "PROGRESS: Training factorization_recommender for recommendations."
       ]
      },
      {
       "html": [
        "<pre>PROGRESS: +------------------------------+--------------------------------------------------+----------+</pre>"
       ],
       "metadata": {},
       "output_type": "display_data",
       "text": [
        "PROGRESS: +------------------------------+--------------------------------------------------+----------+"
       ]
      },
      {
       "html": [
        "<pre>PROGRESS: | Parameter                    | Description                                      | Value    |</pre>"
       ],
       "metadata": {},
       "output_type": "display_data",
       "text": [
        "PROGRESS: | Parameter                    | Description                                      | Value    |"
       ]
      },
      {
       "html": [
        "<pre>PROGRESS: +------------------------------+--------------------------------------------------+----------+</pre>"
       ],
       "metadata": {},
       "output_type": "display_data",
       "text": [
        "PROGRESS: +------------------------------+--------------------------------------------------+----------+"
       ]
      },
      {
       "html": [
        "<pre>PROGRESS: | num_factors                  | Factor Dimension                                 | 5        |</pre>"
       ],
       "metadata": {},
       "output_type": "display_data",
       "text": [
        "PROGRESS: | num_factors                  | Factor Dimension                                 | 5        |"
       ]
      },
      {
       "html": [
        "<pre>PROGRESS: | regularization               | L2 Regularization on Factors                     | 0        |</pre>"
       ],
       "metadata": {},
       "output_type": "display_data",
       "text": [
        "PROGRESS: | regularization               | L2 Regularization on Factors                     | 0        |"
       ]
      },
      {
       "html": [
        "<pre>PROGRESS: | nmf                          | Use Non-Negative Factors                         | True     |</pre>"
       ],
       "metadata": {},
       "output_type": "display_data",
       "text": [
        "PROGRESS: | nmf                          | Use Non-Negative Factors                         | True     |"
       ]
      },
      {
       "html": [
        "<pre>PROGRESS: | max_iterations               | Maximum Number of Iterations                     | 50       |</pre>"
       ],
       "metadata": {},
       "output_type": "display_data",
       "text": [
        "PROGRESS: | max_iterations               | Maximum Number of Iterations                     | 50       |"
       ]
      },
      {
       "html": [
        "<pre>PROGRESS: +------------------------------+--------------------------------------------------+----------+</pre>"
       ],
       "metadata": {},
       "output_type": "display_data",
       "text": [
        "PROGRESS: +------------------------------+--------------------------------------------------+----------+"
       ]
      },
      {
       "html": [
        "<pre>PROGRESS:   Optimizing model using SGD; tuning step size.</pre>"
       ],
       "metadata": {},
       "output_type": "display_data",
       "text": [
        "PROGRESS:   Optimizing model using SGD; tuning step size."
       ]
      },
      {
       "html": [
        "<pre>PROGRESS:   Using 7204 / 7204 points for tuning the step size.</pre>"
       ],
       "metadata": {},
       "output_type": "display_data",
       "text": [
        "PROGRESS:   Using 7204 / 7204 points for tuning the step size."
       ]
      },
      {
       "html": [
        "<pre>PROGRESS: +---------+-------------------+---------------------------+</pre>"
       ],
       "metadata": {},
       "output_type": "display_data",
       "text": [
        "PROGRESS: +---------+-------------------+---------------------------+"
       ]
      },
      {
       "html": [
        "<pre>PROGRESS: | Attempt | Initial Step Size | Estimated Objective Value |</pre>"
       ],
       "metadata": {},
       "output_type": "display_data",
       "text": [
        "PROGRESS: | Attempt | Initial Step Size | Estimated Objective Value |"
       ]
      },
      {
       "html": [
        "<pre>PROGRESS: +---------+-------------------+---------------------------+</pre>"
       ],
       "metadata": {},
       "output_type": "display_data",
       "text": [
        "PROGRESS: +---------+-------------------+---------------------------+"
       ]
      },
      {
       "html": [
        "<pre>PROGRESS: | 0       | 7.14286           | Not Viable                |</pre>"
       ],
       "metadata": {},
       "output_type": "display_data",
       "text": [
        "PROGRESS: | 0       | 7.14286           | Not Viable                |"
       ]
      },
      {
       "html": [
        "<pre>PROGRESS: | 1       | 1.78571           | Not Viable                |</pre>"
       ],
       "metadata": {},
       "output_type": "display_data",
       "text": [
        "PROGRESS: | 1       | 1.78571           | Not Viable                |"
       ]
      },
      {
       "html": [
        "<pre>PROGRESS: | 2       | 0.446429          | 2.27727e-10               |</pre>"
       ],
       "metadata": {},
       "output_type": "display_data",
       "text": [
        "PROGRESS: | 2       | 0.446429          | 2.27727e-10               |"
       ]
      },
      {
       "html": [
        "<pre>PROGRESS: | 3       | 0.223214          | 2.94882e-10               |</pre>"
       ],
       "metadata": {},
       "output_type": "display_data",
       "text": [
        "PROGRESS: | 3       | 0.223214          | 2.94882e-10               |"
       ]
      },
      {
       "html": [
        "<pre>PROGRESS: | 4       | 0.111607          | 4.3427e-07                |</pre>"
       ],
       "metadata": {},
       "output_type": "display_data",
       "text": [
        "PROGRESS: | 4       | 0.111607          | 4.3427e-07                |"
       ]
      },
      {
       "html": [
        "<pre>PROGRESS: +---------+-------------------+---------------------------+</pre>"
       ],
       "metadata": {},
       "output_type": "display_data",
       "text": [
        "PROGRESS: +---------+-------------------+---------------------------+"
       ]
      },
      {
       "html": [
        "<pre>PROGRESS: | Final   | 0.446429          | 2.27727e-10               |</pre>"
       ],
       "metadata": {},
       "output_type": "display_data",
       "text": [
        "PROGRESS: | Final   | 0.446429          | 2.27727e-10               |"
       ]
      },
      {
       "html": [
        "<pre>PROGRESS: +---------+-------------------+---------------------------+</pre>"
       ],
       "metadata": {},
       "output_type": "display_data",
       "text": [
        "PROGRESS: +---------+-------------------+---------------------------+"
       ]
      },
      {
       "html": [
        "<pre>PROGRESS: Starting Optimization.</pre>"
       ],
       "metadata": {},
       "output_type": "display_data",
       "text": [
        "PROGRESS: Starting Optimization."
       ]
      },
      {
       "html": [
        "<pre>PROGRESS: +---------+--------------+----------------+---------------+-------------+</pre>"
       ],
       "metadata": {},
       "output_type": "display_data",
       "text": [
        "PROGRESS: +---------+--------------+----------------+---------------+-------------+"
       ]
      },
      {
       "html": [
        "<pre>PROGRESS: | Iter.   | Elapsed Time | Est. Objective | Training RMSE | Step Size   |</pre>"
       ],
       "metadata": {},
       "output_type": "display_data",
       "text": [
        "PROGRESS: | Iter.   | Elapsed Time | Est. Objective | Training RMSE | Step Size   |"
       ]
      },
      {
       "html": [
        "<pre>PROGRESS: +---------+--------------+----------------+---------------+-------------+</pre>"
       ],
       "metadata": {},
       "output_type": "display_data",
       "text": [
        "PROGRESS: +---------+--------------+----------------+---------------+-------------+"
       ]
      },
      {
       "html": [
        "<pre>PROGRESS: | Initial | 3.969ms      | 1              | 1             |             |</pre>"
       ],
       "metadata": {},
       "output_type": "display_data",
       "text": [
        "PROGRESS: | Initial | 3.969ms      | 1              | 1             |             |"
       ]
      },
      {
       "html": [
        "<pre>PROGRESS: +---------+--------------+----------------+---------------+-------------+</pre>"
       ],
       "metadata": {},
       "output_type": "display_data",
       "text": [
        "PROGRESS: +---------+--------------+----------------+---------------+-------------+"
       ]
      },
      {
       "html": [
        "<pre>PROGRESS: | 1       | 20.952ms     | 7.67378e-08    | 0.000277016   | 0.446429    |</pre>"
       ],
       "metadata": {},
       "output_type": "display_data",
       "text": [
        "PROGRESS: | 1       | 20.952ms     | 7.67378e-08    | 0.000277016   | 0.446429    |"
       ]
      },
      {
       "html": [
        "<pre>PROGRESS: +---------+--------------+----------------+---------------+-------------+</pre>"
       ],
       "metadata": {},
       "output_type": "display_data",
       "text": [
        "PROGRESS: +---------+--------------+----------------+---------------+-------------+"
       ]
      },
      {
       "html": [
        "<pre>PROGRESS: | Final   | 104.872ms    | 1.2133e-07     | 0.000348325   |             |</pre>"
       ],
       "metadata": {},
       "output_type": "display_data",
       "text": [
        "PROGRESS: | Final   | 104.872ms    | 1.2133e-07     | 0.000348325   |             |"
       ]
      },
      {
       "html": [
        "<pre>PROGRESS: +---------+--------------+----------------+---------------+-------------+</pre>"
       ],
       "metadata": {},
       "output_type": "display_data",
       "text": [
        "PROGRESS: +---------+--------------+----------------+---------------+-------------+"
       ]
      },
      {
       "html": [
        "<pre>PROGRESS: Optimization Complete: Convergence on objective within bounds.</pre>"
       ],
       "metadata": {},
       "output_type": "display_data",
       "text": [
        "PROGRESS: Optimization Complete: Convergence on objective within bounds."
       ]
      }
     ],
     "prompt_number": 204
    },
    {
     "cell_type": "code",
     "collapsed": false,
     "input": [],
     "language": "python",
     "metadata": {},
     "outputs": [],
     "prompt_number": 204
    },
    {
     "cell_type": "code",
     "collapsed": false,
     "input": [],
     "language": "python",
     "metadata": {},
     "outputs": [],
     "prompt_number": 204
    },
    {
     "cell_type": "code",
     "collapsed": false,
     "input": [
      "gl.evaluation.rmse(test_set2['norm'], model_factor2.predict(test_set2))"
     ],
     "language": "python",
     "metadata": {},
     "outputs": [
      {
       "metadata": {},
       "output_type": "pyout",
       "prompt_number": 205,
       "text": [
        "0.9962349796665888"
       ]
      }
     ],
     "prompt_number": 205
    },
    {
     "cell_type": "code",
     "collapsed": false,
     "input": [
      "print test_set2[0]['user'], test_set2[1]['user'], test_set2[2]['user'], test_set2[3]['user']\n",
      "\n",
      "train_user0 = test_set2[0]['user']\n",
      "train_user1 = test_set2[1]['user']\n",
      "train_user2 = test_set2[2]['user']\n",
      "train_user3 = test_set2[3]['user']"
     ],
     "language": "python",
     "metadata": {},
     "outputs": [
      {
       "output_type": "stream",
       "stream": "stdout",
       "text": [
        "user_000234 user_000612 user_000008 "
       ]
      },
      {
       "output_type": "stream",
       "stream": "stdout",
       "text": [
        "user_000349\n"
       ]
      }
     ],
     "prompt_number": 214
    },
    {
     "cell_type": "code",
     "collapsed": false,
     "input": [
      "model_factor2.recommend(['user_000349'], k = -1)[-10:]"
     ],
     "language": "python",
     "metadata": {},
     "outputs": [
      {
       "html": [
        "<div style=\"max-height:1000px;max-width:1500px;overflow:auto;\"><table frame=\"box\" rules=\"cols\">\n",
        "    <tr>\n",
        "        <th style=\"padding-left: 1em; padding-right: 1em; text-align: center\">user</th>\n",
        "        <th style=\"padding-left: 1em; padding-right: 1em; text-align: center\">artist_song</th>\n",
        "        <th style=\"padding-left: 1em; padding-right: 1em; text-align: center\">score</th>\n",
        "        <th style=\"padding-left: 1em; padding-right: 1em; text-align: center\">rank</th>\n",
        "    </tr>\n",
        "    <tr>\n",
        "        <td style=\"padding-left: 1em; padding-right: 1em; text-align: center; vertical-align: top\">user_000349</td>\n",
        "        <td style=\"padding-left: 1em; padding-right: 1em; text-align: center; vertical-align: top\">The Power-Chords: Dream<br>Girl</td>\n",
        "        <td style=\"padding-left: 1em; padding-right: 1em; text-align: center; vertical-align: top\">0.999666846037</td>\n",
        "        <td style=\"padding-left: 1em; padding-right: 1em; text-align: center; vertical-align: top\">7923</td>\n",
        "    </tr>\n",
        "    <tr>\n",
        "        <td style=\"padding-left: 1em; padding-right: 1em; text-align: center; vertical-align: top\">user_000349</td>\n",
        "        <td style=\"padding-left: 1em; padding-right: 1em; text-align: center; vertical-align: top\">Tristania: December Elegy</td>\n",
        "        <td style=\"padding-left: 1em; padding-right: 1em; text-align: center; vertical-align: top\">0.999666846037</td>\n",
        "        <td style=\"padding-left: 1em; padding-right: 1em; text-align: center; vertical-align: top\">7924</td>\n",
        "    </tr>\n",
        "    <tr>\n",
        "        <td style=\"padding-left: 1em; padding-right: 1em; text-align: center; vertical-align: top\">user_000349</td>\n",
        "        <td style=\"padding-left: 1em; padding-right: 1em; text-align: center; vertical-align: top\">Ray Lamontagne: You Can<br>Bring Me Flowers</td>\n",
        "        <td style=\"padding-left: 1em; padding-right: 1em; text-align: center; vertical-align: top\">0.999666846037</td>\n",
        "        <td style=\"padding-left: 1em; padding-right: 1em; text-align: center; vertical-align: top\">7925</td>\n",
        "    </tr>\n",
        "    <tr>\n",
        "        <td style=\"padding-left: 1em; padding-right: 1em; text-align: center; vertical-align: top\">user_000349</td>\n",
        "        <td style=\"padding-left: 1em; padding-right: 1em; text-align: center; vertical-align: top\">The Beach Boys: Good<br>Vibrations</td>\n",
        "        <td style=\"padding-left: 1em; padding-right: 1em; text-align: center; vertical-align: top\">0.999666846037</td>\n",
        "        <td style=\"padding-left: 1em; padding-right: 1em; text-align: center; vertical-align: top\">7926</td>\n",
        "    </tr>\n",
        "    <tr>\n",
        "        <td style=\"padding-left: 1em; padding-right: 1em; text-align: center; vertical-align: top\">user_000349</td>\n",
        "        <td style=\"padding-left: 1em; padding-right: 1em; text-align: center; vertical-align: top\">Ac/Dc: Back In Black</td>\n",
        "        <td style=\"padding-left: 1em; padding-right: 1em; text-align: center; vertical-align: top\">0.999666846037</td>\n",
        "        <td style=\"padding-left: 1em; padding-right: 1em; text-align: center; vertical-align: top\">7927</td>\n",
        "    </tr>\n",
        "    <tr>\n",
        "        <td style=\"padding-left: 1em; padding-right: 1em; text-align: center; vertical-align: top\">user_000349</td>\n",
        "        <td style=\"padding-left: 1em; padding-right: 1em; text-align: center; vertical-align: top\">Gym Class Heroes: Cupid'S<br>Chokehold (Feat. Patr ...</td>\n",
        "        <td style=\"padding-left: 1em; padding-right: 1em; text-align: center; vertical-align: top\">0.999666846037</td>\n",
        "        <td style=\"padding-left: 1em; padding-right: 1em; text-align: center; vertical-align: top\">7928</td>\n",
        "    </tr>\n",
        "    <tr>\n",
        "        <td style=\"padding-left: 1em; padding-right: 1em; text-align: center; vertical-align: top\">user_000349</td>\n",
        "        <td style=\"padding-left: 1em; padding-right: 1em; text-align: center; vertical-align: top\">The Mars Volta: Vermicide</td>\n",
        "        <td style=\"padding-left: 1em; padding-right: 1em; text-align: center; vertical-align: top\">0.999666846037</td>\n",
        "        <td style=\"padding-left: 1em; padding-right: 1em; text-align: center; vertical-align: top\">7929</td>\n",
        "    </tr>\n",
        "    <tr>\n",
        "        <td style=\"padding-left: 1em; padding-right: 1em; text-align: center; vertical-align: top\">user_000349</td>\n",
        "        <td style=\"padding-left: 1em; padding-right: 1em; text-align: center; vertical-align: top\">Los Fastidios: Sogno<br>Jamaica</td>\n",
        "        <td style=\"padding-left: 1em; padding-right: 1em; text-align: center; vertical-align: top\">0.999666846037</td>\n",
        "        <td style=\"padding-left: 1em; padding-right: 1em; text-align: center; vertical-align: top\">7930</td>\n",
        "    </tr>\n",
        "    <tr>\n",
        "        <td style=\"padding-left: 1em; padding-right: 1em; text-align: center; vertical-align: top\">user_000349</td>\n",
        "        <td style=\"padding-left: 1em; padding-right: 1em; text-align: center; vertical-align: top\">Hypocrisy: Roswell 47</td>\n",
        "        <td style=\"padding-left: 1em; padding-right: 1em; text-align: center; vertical-align: top\">0.999666846037</td>\n",
        "        <td style=\"padding-left: 1em; padding-right: 1em; text-align: center; vertical-align: top\">7931</td>\n",
        "    </tr>\n",
        "    <tr>\n",
        "        <td style=\"padding-left: 1em; padding-right: 1em; text-align: center; vertical-align: top\">user_000349</td>\n",
        "        <td style=\"padding-left: 1em; padding-right: 1em; text-align: center; vertical-align: top\">Deerhunter: Cryptograms</td>\n",
        "        <td style=\"padding-left: 1em; padding-right: 1em; text-align: center; vertical-align: top\">0.999666846037</td>\n",
        "        <td style=\"padding-left: 1em; padding-right: 1em; text-align: center; vertical-align: top\">7932</td>\n",
        "    </tr>\n",
        "</table>\n",
        "[10 rows x 4 columns]<br/>\n",
        "</div>"
       ],
       "metadata": {},
       "output_type": "pyout",
       "prompt_number": 211,
       "text": [
        "Columns:\n",
        "\tuser\tstr\n",
        "\tartist_song\tstr\n",
        "\tscore\tfloat\n",
        "\trank\tint\n",
        "\n",
        "Rows: 10\n",
        "\n",
        "Data:\n",
        "+-------------+--------------------------------+----------------+------+\n",
        "|     user    |          artist_song           |     score      | rank |\n",
        "+-------------+--------------------------------+----------------+------+\n",
        "| user_000349 |  The Power-Chords: Dream Girl  | 0.999666846037 | 7923 |\n",
        "| user_000349 |   Tristania: December Elegy    | 0.999666846037 | 7924 |\n",
        "| user_000349 | Ray Lamontagne: You Can Br ... | 0.999666846037 | 7925 |\n",
        "| user_000349 | The Beach Boys: Good Vibra ... | 0.999666846037 | 7926 |\n",
        "| user_000349 |      Ac/Dc: Back In Black      | 0.999666846037 | 7927 |\n",
        "| user_000349 | Gym Class Heroes: Cupid'S  ... | 0.999666846037 | 7928 |\n",
        "| user_000349 |   The Mars Volta: Vermicide    | 0.999666846037 | 7929 |\n",
        "| user_000349 |  Los Fastidios: Sogno Jamaica  | 0.999666846037 | 7930 |\n",
        "| user_000349 |     Hypocrisy: Roswell 47      | 0.999666846037 | 7931 |\n",
        "| user_000349 |    Deerhunter: Cryptograms     | 0.999666846037 | 7932 |\n",
        "+-------------+--------------------------------+----------------+------+\n",
        "[10 rows x 4 columns]\n"
       ]
      }
     ],
     "prompt_number": 211
    },
    {
     "cell_type": "code",
     "collapsed": false,
     "input": [
      "model_factor2.recommend(['user_000612'], k = -1)[:]"
     ],
     "language": "python",
     "metadata": {},
     "outputs": [
      {
       "html": [
        "<div style=\"max-height:1000px;max-width:1500px;overflow:auto;\"><table frame=\"box\" rules=\"cols\">\n",
        "    <tr>\n",
        "        <th style=\"padding-left: 1em; padding-right: 1em; text-align: center\">user</th>\n",
        "        <th style=\"padding-left: 1em; padding-right: 1em; text-align: center\">artist_song</th>\n",
        "        <th style=\"padding-left: 1em; padding-right: 1em; text-align: center\">score</th>\n",
        "        <th style=\"padding-left: 1em; padding-right: 1em; text-align: center\">rank</th>\n",
        "    </tr>\n",
        "    <tr>\n",
        "        <td style=\"padding-left: 1em; padding-right: 1em; text-align: center; vertical-align: top\">user_000612</td>\n",
        "        <td style=\"padding-left: 1em; padding-right: 1em; text-align: center; vertical-align: top\">Ratatat: Spanish Armada</td>\n",
        "        <td style=\"padding-left: 1em; padding-right: 1em; text-align: center; vertical-align: top\">0.999674585776</td>\n",
        "        <td style=\"padding-left: 1em; padding-right: 1em; text-align: center; vertical-align: top\">1</td>\n",
        "    </tr>\n",
        "    <tr>\n",
        "        <td style=\"padding-left: 1em; padding-right: 1em; text-align: center; vertical-align: top\">user_000612</td>\n",
        "        <td style=\"padding-left: 1em; padding-right: 1em; text-align: center; vertical-align: top\">Kelly Clarkson: Since U<br>Been Gone</td>\n",
        "        <td style=\"padding-left: 1em; padding-right: 1em; text-align: center; vertical-align: top\">0.999674317098</td>\n",
        "        <td style=\"padding-left: 1em; padding-right: 1em; text-align: center; vertical-align: top\">2</td>\n",
        "    </tr>\n",
        "    <tr>\n",
        "        <td style=\"padding-left: 1em; padding-right: 1em; text-align: center; vertical-align: top\">user_000612</td>\n",
        "        <td style=\"padding-left: 1em; padding-right: 1em; text-align: center; vertical-align: top\">Radiohead: Let Down</td>\n",
        "        <td style=\"padding-left: 1em; padding-right: 1em; text-align: center; vertical-align: top\">0.999673783503</td>\n",
        "        <td style=\"padding-left: 1em; padding-right: 1em; text-align: center; vertical-align: top\">3</td>\n",
        "    </tr>\n",
        "    <tr>\n",
        "        <td style=\"padding-left: 1em; padding-right: 1em; text-align: center; vertical-align: top\">user_000612</td>\n",
        "        <td style=\"padding-left: 1em; padding-right: 1em; text-align: center; vertical-align: top\">Pedro The Lion: A Simple<br>Plan</td>\n",
        "        <td style=\"padding-left: 1em; padding-right: 1em; text-align: center; vertical-align: top\">0.999673583546</td>\n",
        "        <td style=\"padding-left: 1em; padding-right: 1em; text-align: center; vertical-align: top\">4</td>\n",
        "    </tr>\n",
        "    <tr>\n",
        "        <td style=\"padding-left: 1em; padding-right: 1em; text-align: center; vertical-align: top\">user_000612</td>\n",
        "        <td style=\"padding-left: 1em; padding-right: 1em; text-align: center; vertical-align: top\">Oasis: Live Forever</td>\n",
        "        <td style=\"padding-left: 1em; padding-right: 1em; text-align: center; vertical-align: top\">0.999673324262</td>\n",
        "        <td style=\"padding-left: 1em; padding-right: 1em; text-align: center; vertical-align: top\">5</td>\n",
        "    </tr>\n",
        "    <tr>\n",
        "        <td style=\"padding-left: 1em; padding-right: 1em; text-align: center; vertical-align: top\">user_000612</td>\n",
        "        <td style=\"padding-left: 1em; padding-right: 1em; text-align: center; vertical-align: top\">Britney Spears: What It'S<br>Like To Be Me</td>\n",
        "        <td style=\"padding-left: 1em; padding-right: 1em; text-align: center; vertical-align: top\">0.999673324021</td>\n",
        "        <td style=\"padding-left: 1em; padding-right: 1em; text-align: center; vertical-align: top\">6</td>\n",
        "    </tr>\n",
        "    <tr>\n",
        "        <td style=\"padding-left: 1em; padding-right: 1em; text-align: center; vertical-align: top\">user_000612</td>\n",
        "        <td style=\"padding-left: 1em; padding-right: 1em; text-align: center; vertical-align: top\">\\xe9\\x88\\xb4\\xe6\\x9d\\x91\\<br>xe5\\x81\\xa5\\xe4\\xb8\\x ...</td>\n",
        "        <td style=\"padding-left: 1em; padding-right: 1em; text-align: center; vertical-align: top\">0.999673249527</td>\n",
        "        <td style=\"padding-left: 1em; padding-right: 1em; text-align: center; vertical-align: top\">7</td>\n",
        "    </tr>\n",
        "    <tr>\n",
        "        <td style=\"padding-left: 1em; padding-right: 1em; text-align: center; vertical-align: top\">user_000612</td>\n",
        "        <td style=\"padding-left: 1em; padding-right: 1em; text-align: center; vertical-align: top\">Queen: Another One Bites<br>The Dust</td>\n",
        "        <td style=\"padding-left: 1em; padding-right: 1em; text-align: center; vertical-align: top\">0.999673242734</td>\n",
        "        <td style=\"padding-left: 1em; padding-right: 1em; text-align: center; vertical-align: top\">8</td>\n",
        "    </tr>\n",
        "    <tr>\n",
        "        <td style=\"padding-left: 1em; padding-right: 1em; text-align: center; vertical-align: top\">user_000612</td>\n",
        "        <td style=\"padding-left: 1em; padding-right: 1em; text-align: center; vertical-align: top\">Portishead: Strangers</td>\n",
        "        <td style=\"padding-left: 1em; padding-right: 1em; text-align: center; vertical-align: top\">0.999673226421</td>\n",
        "        <td style=\"padding-left: 1em; padding-right: 1em; text-align: center; vertical-align: top\">9</td>\n",
        "    </tr>\n",
        "    <tr>\n",
        "        <td style=\"padding-left: 1em; padding-right: 1em; text-align: center; vertical-align: top\">user_000612</td>\n",
        "        <td style=\"padding-left: 1em; padding-right: 1em; text-align: center; vertical-align: top\">Pedro The Lion: The<br>Longer I Lay Here</td>\n",
        "        <td style=\"padding-left: 1em; padding-right: 1em; text-align: center; vertical-align: top\">0.999673224693</td>\n",
        "        <td style=\"padding-left: 1em; padding-right: 1em; text-align: center; vertical-align: top\">10</td>\n",
        "    </tr>\n",
        "    <tr>\n",
        "        <td style=\"padding-left: 1em; padding-right: 1em; text-align: center; vertical-align: top\">...</td>\n",
        "        <td style=\"padding-left: 1em; padding-right: 1em; text-align: center; vertical-align: top\">...</td>\n",
        "        <td style=\"padding-left: 1em; padding-right: 1em; text-align: center; vertical-align: top\">...</td>\n",
        "        <td style=\"padding-left: 1em; padding-right: 1em; text-align: center; vertical-align: top\">...</td>\n",
        "    </tr>\n",
        "</table>\n",
        "[7891 rows x 4 columns]<br/>Note: Only the head of the SFrame is printed.<br/>You can use print_rows(num_rows=m, num_columns=n) to print more rows and columns.\n",
        "</div>"
       ],
       "metadata": {},
       "output_type": "pyout",
       "prompt_number": 209,
       "text": [
        "Columns:\n",
        "\tuser\tstr\n",
        "\tartist_song\tstr\n",
        "\tscore\tfloat\n",
        "\trank\tint\n",
        "\n",
        "Rows: 7891\n",
        "\n",
        "Data:\n",
        "+-------------+--------------------------------+----------------+------+\n",
        "|     user    |          artist_song           |     score      | rank |\n",
        "+-------------+--------------------------------+----------------+------+\n",
        "| user_000612 |    Ratatat: Spanish Armada     | 0.999674585776 |  1   |\n",
        "| user_000612 | Kelly Clarkson: Since U Be ... | 0.999674317098 |  2   |\n",
        "| user_000612 |      Radiohead: Let Down       | 0.999673783503 |  3   |\n",
        "| user_000612 | Pedro The Lion: A Simple Plan  | 0.999673583546 |  4   |\n",
        "| user_000612 |      Oasis: Live Forever       | 0.999673324262 |  5   |\n",
        "| user_000612 | Britney Spears: What It'S  ... | 0.999673324021 |  6   |\n",
        "| user_000612 | \\xe9\\x88\\xb4\\xe6\\x9d\\x91\\x ... | 0.999673249527 |  7   |\n",
        "| user_000612 | Queen: Another One Bites T ... | 0.999673242734 |  8   |\n",
        "| user_000612 |     Portishead: Strangers      | 0.999673226421 |  9   |\n",
        "| user_000612 | Pedro The Lion: The Longer ... | 0.999673224693 |  10  |\n",
        "|     ...     |              ...               |      ...       | ...  |\n",
        "+-------------+--------------------------------+----------------+------+\n",
        "[7891 rows x 4 columns]\n",
        "Note: Only the head of the SFrame is printed.\n",
        "You can use print_rows(num_rows=m, num_columns=n) to print more rows and columns."
       ]
      }
     ],
     "prompt_number": 209
    },
    {
     "cell_type": "code",
     "collapsed": false,
     "input": [
      "model_factor2.get('coefficients')['artist_song']"
     ],
     "language": "python",
     "metadata": {},
     "outputs": [
      {
       "html": [
        "<div style=\"max-height:1000px;max-width:1500px;overflow:auto;\"><table frame=\"box\" rules=\"cols\">\n",
        "    <tr>\n",
        "        <th style=\"padding-left: 1em; padding-right: 1em; text-align: center\">artist_song</th>\n",
        "        <th style=\"padding-left: 1em; padding-right: 1em; text-align: center\">factors</th>\n",
        "    </tr>\n",
        "    <tr>\n",
        "        <td style=\"padding-left: 1em; padding-right: 1em; text-align: center; vertical-align: top\">The Frames: What Happens<br>When The Heart Just S ...</td>\n",
        "        <td style=\"padding-left: 1em; padding-right: 1em; text-align: center; vertical-align: top\">array('d',<br>[1.67549600860184e-07 ...</td>\n",
        "    </tr>\n",
        "    <tr>\n",
        "        <td style=\"padding-left: 1em; padding-right: 1em; text-align: center; vertical-align: top\">Jakalope: Nothing Nowhere</td>\n",
        "        <td style=\"padding-left: 1em; padding-right: 1em; text-align: center; vertical-align: top\">array('d',<br>[4.086566889327514e-0 ...</td>\n",
        "    </tr>\n",
        "    <tr>\n",
        "        <td style=\"padding-left: 1em; padding-right: 1em; text-align: center; vertical-align: top\">Strike Anywhere: You'Re<br>Fired</td>\n",
        "        <td style=\"padding-left: 1em; padding-right: 1em; text-align: center; vertical-align: top\">array('d',<br>[4.3829410856233153e- ...</td>\n",
        "    </tr>\n",
        "    <tr>\n",
        "        <td style=\"padding-left: 1em; padding-right: 1em; text-align: center; vertical-align: top\">Field Mob: At The Park</td>\n",
        "        <td style=\"padding-left: 1em; padding-right: 1em; text-align: center; vertical-align: top\">array('d',<br>[5.786313295175205e-0 ...</td>\n",
        "    </tr>\n",
        "    <tr>\n",
        "        <td style=\"padding-left: 1em; padding-right: 1em; text-align: center; vertical-align: top\">Hocico: About A Dead</td>\n",
        "        <td style=\"padding-left: 1em; padding-right: 1em; text-align: center; vertical-align: top\">array('d',<br>[2.7390051116071845e- ...</td>\n",
        "    </tr>\n",
        "    <tr>\n",
        "        <td style=\"padding-left: 1em; padding-right: 1em; text-align: center; vertical-align: top\">\\xe3\\x83\\xa0\\xe3\\x83\\x83\\<br>xe3\\x82\\xaf: Saishuu ...</td>\n",
        "        <td style=\"padding-left: 1em; padding-right: 1em; text-align: center; vertical-align: top\">array('d',<br>[3.544311788505894e-1 ...</td>\n",
        "    </tr>\n",
        "    <tr>\n",
        "        <td style=\"padding-left: 1em; padding-right: 1em; text-align: center; vertical-align: top\">The Goo Goo Dolls: Iris</td>\n",
        "        <td style=\"padding-left: 1em; padding-right: 1em; text-align: center; vertical-align: top\">array('d',<br>[8.091488723493967e-0 ...</td>\n",
        "    </tr>\n",
        "    <tr>\n",
        "        <td style=\"padding-left: 1em; padding-right: 1em; text-align: center; vertical-align: top\">Live: The Distance</td>\n",
        "        <td style=\"padding-left: 1em; padding-right: 1em; text-align: center; vertical-align: top\">array('d',<br>[1.6749059739140648e- ...</td>\n",
        "    </tr>\n",
        "    <tr>\n",
        "        <td style=\"padding-left: 1em; padding-right: 1em; text-align: center; vertical-align: top\">Death Cab For Cutie: 06<br>Track 6</td>\n",
        "        <td style=\"padding-left: 1em; padding-right: 1em; text-align: center; vertical-align: top\">array('d',<br>[7.940951715634803e-1 ...</td>\n",
        "    </tr>\n",
        "    <tr>\n",
        "        <td style=\"padding-left: 1em; padding-right: 1em; text-align: center; vertical-align: top\">Kanye West: Coldest<br>Winter</td>\n",
        "        <td style=\"padding-left: 1em; padding-right: 1em; text-align: center; vertical-align: top\">array('d',<br>[5.174523920459251e-0 ...</td>\n",
        "    </tr>\n",
        "    <tr>\n",
        "        <td style=\"padding-left: 1em; padding-right: 1em; text-align: center; vertical-align: top\">...</td>\n",
        "        <td style=\"padding-left: 1em; padding-right: 1em; text-align: center; vertical-align: top\">...</td>\n",
        "    </tr>\n",
        "</table>\n",
        "[6542 rows x 2 columns]<br/>Note: Only the head of the SFrame is printed.<br/>You can use print_rows(num_rows=m, num_columns=n) to print more rows and columns.\n",
        "</div>"
       ],
       "metadata": {},
       "output_type": "pyout",
       "prompt_number": 161,
       "text": [
        "Columns:\n",
        "\tartist_song\tstr\n",
        "\tfactors\tarray\n",
        "\n",
        "Rows: 6542\n",
        "\n",
        "Data:\n",
        "+--------------------------------+--------------------------------+\n",
        "|          artist_song           |            factors             |\n",
        "+--------------------------------+--------------------------------+\n",
        "| The Frames: What Happens W ... | array('d', [1.675496008601 ... |\n",
        "|   Jakalope: Nothing Nowhere    | array('d', [4.086566889327 ... |\n",
        "| Strike Anywhere: You'Re Fired  | array('d', [4.382941085623 ... |\n",
        "|     Field Mob: At The Park     | array('d', [5.786313295175 ... |\n",
        "|      Hocico: About A Dead      | array('d', [2.739005111607 ... |\n",
        "| \\xe3\\x83\\xa0\\xe3\\x83\\x83\\x ... | array('d', [3.544311788505 ... |\n",
        "|    The Goo Goo Dolls: Iris     | array('d', [8.091488723493 ... |\n",
        "|       Live: The Distance       | array('d', [1.674905973914 ... |\n",
        "| Death Cab For Cutie: 06 Tr ... | array('d', [7.940951715634 ... |\n",
        "|   Kanye West: Coldest Winter   | array('d', [5.174523920459 ... |\n",
        "|              ...               |              ...               |\n",
        "+--------------------------------+--------------------------------+\n",
        "[6542 rows x 2 columns]\n",
        "Note: Only the head of the SFrame is printed.\n",
        "You can use print_rows(num_rows=m, num_columns=n) to print more rows and columns."
       ]
      }
     ],
     "prompt_number": 161
    },
    {
     "cell_type": "code",
     "collapsed": false,
     "input": [
      "model_factor.list_fields()"
     ],
     "language": "python",
     "metadata": {},
     "outputs": [
      {
       "metadata": {},
       "output_type": "pyout",
       "prompt_number": 11,
       "text": [
        "['binary_target',\n",
        " 'coefficients',\n",
        " 'data_load_time',\n",
        " 'init_random_sigma',\n",
        " 'item_id',\n",
        " 'item_side_data_column_names',\n",
        " 'item_side_data_column_types',\n",
        " 'linear_regularization',\n",
        " 'max_iterations',\n",
        " 'model_name',\n",
        " 'nmf',\n",
        " 'num_factors',\n",
        " 'num_features',\n",
        " 'num_item_side_features',\n",
        " 'num_items',\n",
        " 'num_observations',\n",
        " 'num_user_side_features',\n",
        " 'num_users',\n",
        " 'observation_data_column_names',\n",
        " 'optimization_method',\n",
        " 'random_seed',\n",
        " 'regularization',\n",
        " 'regularization_type',\n",
        " 'sgd_convergence_interval',\n",
        " 'sgd_convergence_threshold',\n",
        " 'sgd_max_trial_iterations',\n",
        " 'sgd_step_size',\n",
        " 'sgd_trial_sample_minimum_size',\n",
        " 'sgd_trial_sample_proportion',\n",
        " 'side_data_factorization',\n",
        " 'step_size_decrease_rate',\n",
        " 'target',\n",
        " 'training_rmse',\n",
        " 'training_stats',\n",
        " 'training_time',\n",
        " 'user_id',\n",
        " 'user_side_data_column_names',\n",
        " 'user_side_data_column_types']"
       ]
      }
     ],
     "prompt_number": 11
    },
    {
     "cell_type": "code",
     "collapsed": false,
     "input": [
      "model_factor.get('coefficients')['artist_song']"
     ],
     "language": "python",
     "metadata": {},
     "outputs": [
      {
       "html": [
        "<div style=\"max-height:1000px;max-width:1500px;overflow:auto;\"><table frame=\"box\" rules=\"cols\">\n",
        "    <tr>\n",
        "        <th style=\"padding-left: 1em; padding-right: 1em; text-align: center\">artist_song</th>\n",
        "        <th style=\"padding-left: 1em; padding-right: 1em; text-align: center\">factors</th>\n",
        "    </tr>\n",
        "    <tr>\n",
        "        <td style=\"padding-left: 1em; padding-right: 1em; text-align: center; vertical-align: top\">Richard Swift: Artist &amp;<br>Repertoire</td>\n",
        "        <td style=\"padding-left: 1em; padding-right: 1em; text-align: center; vertical-align: top\">array('d',<br>[3.4560687254270306e- ...</td>\n",
        "    </tr>\n",
        "    <tr>\n",
        "        <td style=\"padding-left: 1em; padding-right: 1em; text-align: center; vertical-align: top\">The Frames: What Happens<br>When The Heart Just S ...</td>\n",
        "        <td style=\"padding-left: 1em; padding-right: 1em; text-align: center; vertical-align: top\">array('d',<br>[1.5846750102355145e- ...</td>\n",
        "    </tr>\n",
        "    <tr>\n",
        "        <td style=\"padding-left: 1em; padding-right: 1em; text-align: center; vertical-align: top\">Jakalope: Nothing Nowhere</td>\n",
        "        <td style=\"padding-left: 1em; padding-right: 1em; text-align: center; vertical-align: top\">array('d',<br>[1.0460582416271791e- ...</td>\n",
        "    </tr>\n",
        "    <tr>\n",
        "        <td style=\"padding-left: 1em; padding-right: 1em; text-align: center; vertical-align: top\">Strike Anywhere: You'Re<br>Fired</td>\n",
        "        <td style=\"padding-left: 1em; padding-right: 1em; text-align: center; vertical-align: top\">array('d', [0.0,<br>0.0005498852115124464 ...</td>\n",
        "    </tr>\n",
        "    <tr>\n",
        "        <td style=\"padding-left: 1em; padding-right: 1em; text-align: center; vertical-align: top\">Jessy Greene: Time Bomb</td>\n",
        "        <td style=\"padding-left: 1em; padding-right: 1em; text-align: center; vertical-align: top\">array('d',<br>[3.184961769875372e-0 ...</td>\n",
        "    </tr>\n",
        "    <tr>\n",
        "        <td style=\"padding-left: 1em; padding-right: 1em; text-align: center; vertical-align: top\">Field Mob: At The Park</td>\n",
        "        <td style=\"padding-left: 1em; padding-right: 1em; text-align: center; vertical-align: top\">array('d',<br>[0.000168080281582660 ...</td>\n",
        "    </tr>\n",
        "    <tr>\n",
        "        <td style=\"padding-left: 1em; padding-right: 1em; text-align: center; vertical-align: top\">Hocico: About A Dead</td>\n",
        "        <td style=\"padding-left: 1em; padding-right: 1em; text-align: center; vertical-align: top\">array('d',<br>[0.001273122965358197 ...</td>\n",
        "    </tr>\n",
        "    <tr>\n",
        "        <td style=\"padding-left: 1em; padding-right: 1em; text-align: center; vertical-align: top\">\\xe3\\x83\\xa0\\xe3\\x83\\x83\\<br>xe3\\x82\\xaf: Saishuu ...</td>\n",
        "        <td style=\"padding-left: 1em; padding-right: 1em; text-align: center; vertical-align: top\">array('d',<br>[2.3426642314916535e- ...</td>\n",
        "    </tr>\n",
        "    <tr>\n",
        "        <td style=\"padding-left: 1em; padding-right: 1em; text-align: center; vertical-align: top\">The Goo Goo Dolls: Iris</td>\n",
        "        <td style=\"padding-left: 1em; padding-right: 1em; text-align: center; vertical-align: top\">array('d',<br>[0.000487331766635179 ...</td>\n",
        "    </tr>\n",
        "    <tr>\n",
        "        <td style=\"padding-left: 1em; padding-right: 1em; text-align: center; vertical-align: top\">Live: The Distance</td>\n",
        "        <td style=\"padding-left: 1em; padding-right: 1em; text-align: center; vertical-align: top\">array('d', [0.0, 0.0,<br>0.0, 0.0, 0.0, 0.0, 0 ...</td>\n",
        "    </tr>\n",
        "    <tr>\n",
        "        <td style=\"padding-left: 1em; padding-right: 1em; text-align: center; vertical-align: top\">...</td>\n",
        "        <td style=\"padding-left: 1em; padding-right: 1em; text-align: center; vertical-align: top\">...</td>\n",
        "    </tr>\n",
        "</table>\n",
        "[6483 rows x 2 columns]<br/>Note: Only the head of the SFrame is printed.<br/>You can use print_rows(num_rows=m, num_columns=n) to print more rows and columns.\n",
        "</div>"
       ],
       "metadata": {},
       "output_type": "pyout",
       "prompt_number": 40,
       "text": [
        "Columns:\n",
        "\tartist_song\tstr\n",
        "\tfactors\tarray\n",
        "\n",
        "Rows: 6483\n",
        "\n",
        "Data:\n",
        "+--------------------------------+--------------------------------+\n",
        "|          artist_song           |            factors             |\n",
        "+--------------------------------+--------------------------------+\n",
        "| Richard Swift: Artist & Re ... | array('d', [3.456068725427 ... |\n",
        "| The Frames: What Happens W ... | array('d', [1.584675010235 ... |\n",
        "|   Jakalope: Nothing Nowhere    | array('d', [1.046058241627 ... |\n",
        "| Strike Anywhere: You'Re Fired  | array('d', [0.0, 0.0005498 ... |\n",
        "|    Jessy Greene: Time Bomb     | array('d', [3.184961769875 ... |\n",
        "|     Field Mob: At The Park     | array('d', [0.000168080281 ... |\n",
        "|      Hocico: About A Dead      | array('d', [0.001273122965 ... |\n",
        "| \\xe3\\x83\\xa0\\xe3\\x83\\x83\\x ... | array('d', [2.342664231491 ... |\n",
        "|    The Goo Goo Dolls: Iris     | array('d', [0.000487331766 ... |\n",
        "|       Live: The Distance       | array('d', [0.0, 0.0, 0.0, ... |\n",
        "|              ...               |              ...               |\n",
        "+--------------------------------+--------------------------------+\n",
        "[6483 rows x 2 columns]\n",
        "Note: Only the head of the SFrame is printed.\n",
        "You can use print_rows(num_rows=m, num_columns=n) to print more rows and columns."
       ]
      }
     ],
     "prompt_number": 40
    },
    {
     "cell_type": "code",
     "collapsed": false,
     "input": [
      "model_factor.get('coefficients')['user']"
     ],
     "language": "python",
     "metadata": {},
     "outputs": [
      {
       "html": [
        "<div style=\"max-height:1000px;max-width:1500px;overflow:auto;\"><table frame=\"box\" rules=\"cols\">\n",
        "    <tr>\n",
        "        <th style=\"padding-left: 1em; padding-right: 1em; text-align: center\">user</th>\n",
        "        <th style=\"padding-left: 1em; padding-right: 1em; text-align: center\">factors</th>\n",
        "    </tr>\n",
        "    <tr>\n",
        "        <td style=\"padding-left: 1em; padding-right: 1em; text-align: center; vertical-align: top\">user_000234</td>\n",
        "        <td style=\"padding-left: 1em; padding-right: 1em; text-align: center; vertical-align: top\">array('d',<br>[0.001062194351106882 ...</td>\n",
        "    </tr>\n",
        "    <tr>\n",
        "        <td style=\"padding-left: 1em; padding-right: 1em; text-align: center; vertical-align: top\">user_000503</td>\n",
        "        <td style=\"padding-left: 1em; padding-right: 1em; text-align: center; vertical-align: top\">array('d',<br>[0.002473946195095777 ...</td>\n",
        "    </tr>\n",
        "    <tr>\n",
        "        <td style=\"padding-left: 1em; padding-right: 1em; text-align: center; vertical-align: top\">user_000885</td>\n",
        "        <td style=\"padding-left: 1em; padding-right: 1em; text-align: center; vertical-align: top\">array('d',<br>[6.18591730017215e-05 ...</td>\n",
        "    </tr>\n",
        "    <tr>\n",
        "        <td style=\"padding-left: 1em; padding-right: 1em; text-align: center; vertical-align: top\">user_000085</td>\n",
        "        <td style=\"padding-left: 1em; padding-right: 1em; text-align: center; vertical-align: top\">array('d', [0.0, 0.0,<br>0.0, 0.0, 0.0, 0.0, 0 ...</td>\n",
        "    </tr>\n",
        "    <tr>\n",
        "        <td style=\"padding-left: 1em; padding-right: 1em; text-align: center; vertical-align: top\">user_000008</td>\n",
        "        <td style=\"padding-left: 1em; padding-right: 1em; text-align: center; vertical-align: top\">array('d',<br>[0.003727087285369634 ...</td>\n",
        "    </tr>\n",
        "    <tr>\n",
        "        <td style=\"padding-left: 1em; padding-right: 1em; text-align: center; vertical-align: top\">user_000685</td>\n",
        "        <td style=\"padding-left: 1em; padding-right: 1em; text-align: center; vertical-align: top\">array('d',<br>[3.3474800602562027e- ...</td>\n",
        "    </tr>\n",
        "    <tr>\n",
        "        <td style=\"padding-left: 1em; padding-right: 1em; text-align: center; vertical-align: top\">user_000612</td>\n",
        "        <td style=\"padding-left: 1em; padding-right: 1em; text-align: center; vertical-align: top\">array('d',<br>[0.000251871388172730 ...</td>\n",
        "    </tr>\n",
        "    <tr>\n",
        "        <td style=\"padding-left: 1em; padding-right: 1em; text-align: center; vertical-align: top\">user_000033</td>\n",
        "        <td style=\"padding-left: 1em; padding-right: 1em; text-align: center; vertical-align: top\">array('d',<br>[0.002385768340900540 ...</td>\n",
        "    </tr>\n",
        "    <tr>\n",
        "        <td style=\"padding-left: 1em; padding-right: 1em; text-align: center; vertical-align: top\">user_000709</td>\n",
        "        <td style=\"padding-left: 1em; padding-right: 1em; text-align: center; vertical-align: top\">array('d',<br>[6.536049113492481e-0 ...</td>\n",
        "    </tr>\n",
        "    <tr>\n",
        "        <td style=\"padding-left: 1em; padding-right: 1em; text-align: center; vertical-align: top\">user_000732</td>\n",
        "        <td style=\"padding-left: 1em; padding-right: 1em; text-align: center; vertical-align: top\">array('d',<br>[0.000135248119477182 ...</td>\n",
        "    </tr>\n",
        "    <tr>\n",
        "        <td style=\"padding-left: 1em; padding-right: 1em; text-align: center; vertical-align: top\">...</td>\n",
        "        <td style=\"padding-left: 1em; padding-right: 1em; text-align: center; vertical-align: top\">...</td>\n",
        "    </tr>\n",
        "</table>\n",
        "[347 rows x 2 columns]<br/>Note: Only the head of the SFrame is printed.<br/>You can use print_rows(num_rows=m, num_columns=n) to print more rows and columns.\n",
        "</div>"
       ],
       "metadata": {},
       "output_type": "pyout",
       "prompt_number": 32,
       "text": [
        "Columns:\n",
        "\tuser\tstr\n",
        "\tfactors\tarray\n",
        "\n",
        "Rows: 347\n",
        "\n",
        "Data:\n",
        "+-------------+--------------------------------+\n",
        "|     user    |            factors             |\n",
        "+-------------+--------------------------------+\n",
        "| user_000234 | array('d', [0.001062194351 ... |\n",
        "| user_000503 | array('d', [0.002473946195 ... |\n",
        "| user_000885 | array('d', [6.185917300172 ... |\n",
        "| user_000085 | array('d', [0.0, 0.0, 0.0, ... |\n",
        "| user_000008 | array('d', [0.003727087285 ... |\n",
        "| user_000685 | array('d', [3.347480060256 ... |\n",
        "| user_000612 | array('d', [0.000251871388 ... |\n",
        "| user_000033 | array('d', [0.002385768340 ... |\n",
        "| user_000709 | array('d', [6.536049113492 ... |\n",
        "| user_000732 | array('d', [0.000135248119 ... |\n",
        "|     ...     |              ...               |\n",
        "+-------------+--------------------------------+\n",
        "[347 rows x 2 columns]\n",
        "Note: Only the head of the SFrame is printed.\n",
        "You can use print_rows(num_rows=m, num_columns=n) to print more rows and columns."
       ]
      }
     ],
     "prompt_number": 32
    },
    {
     "cell_type": "code",
     "collapsed": false,
     "input": [
      "model.recommend(users = "
     ],
     "language": "python",
     "metadata": {},
     "outputs": []
    },
    {
     "cell_type": "code",
     "collapsed": false,
     "input": [],
     "language": "python",
     "metadata": {},
     "outputs": []
    },
    {
     "cell_type": "code",
     "collapsed": false,
     "input": [
      "sa = gl.SArray([[1,2,3], [3,4,5]])"
     ],
     "language": "python",
     "metadata": {},
     "outputs": [],
     "prompt_number": 33
    },
    {
     "cell_type": "code",
     "collapsed": false,
     "input": [
      "sa\n"
     ],
     "language": "python",
     "metadata": {},
     "outputs": [
      {
       "metadata": {},
       "output_type": "pyout",
       "prompt_number": 34,
       "text": [
        "dtype: array\n",
        "Rows: 2\n",
        "[array('d', [1.0, 2.0, 3.0]), array('d', [3.0, 4.0, 5.0])]"
       ]
      }
     ],
     "prompt_number": 34
    },
    {
     "cell_type": "code",
     "collapsed": false,
     "input": [
      "sa."
     ],
     "language": "python",
     "metadata": {},
     "outputs": [
      {
       "ename": "AttributeError",
       "evalue": "'module' object has no attribute 'dot'",
       "output_type": "pyerr",
       "traceback": [
        "\u001b[0;31m---------------------------------------------------------------------------\u001b[0m\n\u001b[0;31mAttributeError\u001b[0m                            Traceback (most recent call last)",
        "\u001b[0;32m<ipython-input-59-f6da24240dec>\u001b[0m in \u001b[0;36m<module>\u001b[0;34m()\u001b[0m\n\u001b[0;32m----> 1\u001b[0;31m \u001b[0mgl\u001b[0m\u001b[0;34m.\u001b[0m\u001b[0mdot\u001b[0m\u001b[0;34m(\u001b[0m\u001b[0msa\u001b[0m\u001b[0;34m,\u001b[0m\u001b[0msa\u001b[0m\u001b[0;34m)\u001b[0m\u001b[0;34m\u001b[0m\u001b[0m\n\u001b[0m",
        "\u001b[0;31mAttributeError\u001b[0m: 'module' object has no attribute 'dot'"
       ]
      }
     ],
     "prompt_number": 59
    },
    {
     "cell_type": "code",
     "collapsed": false,
     "input": [
      "model.recommend(['user_000234'], k = -1)"
     ],
     "language": "python",
     "metadata": {},
     "outputs": [
      {
       "html": [
        "<div style=\"max-height:1000px;max-width:1500px;overflow:auto;\"><table frame=\"box\" rules=\"cols\">\n",
        "    <tr>\n",
        "        <th style=\"padding-left: 1em; padding-right: 1em; text-align: center\">user</th>\n",
        "        <th style=\"padding-left: 1em; padding-right: 1em; text-align: center\">artist_song</th>\n",
        "        <th style=\"padding-left: 1em; padding-right: 1em; text-align: center\">score</th>\n",
        "        <th style=\"padding-left: 1em; padding-right: 1em; text-align: center\">rank</th>\n",
        "    </tr>\n",
        "    <tr>\n",
        "        <td style=\"padding-left: 1em; padding-right: 1em; text-align: center; vertical-align: top\">user_000234</td>\n",
        "        <td style=\"padding-left: 1em; padding-right: 1em; text-align: center; vertical-align: top\">Tenacious D: Beelzeboss<br>(The Final Showdown)</td>\n",
        "        <td style=\"padding-left: 1em; padding-right: 1em; text-align: center; vertical-align: top\">0.0146300813568</td>\n",
        "        <td style=\"padding-left: 1em; padding-right: 1em; text-align: center; vertical-align: top\">1</td>\n",
        "    </tr>\n",
        "    <tr>\n",
        "        <td style=\"padding-left: 1em; padding-right: 1em; text-align: center; vertical-align: top\">user_000234</td>\n",
        "        <td style=\"padding-left: 1em; padding-right: 1em; text-align: center; vertical-align: top\">Kanye West: Amazing<br>(Feat. Young Jeezy)</td>\n",
        "        <td style=\"padding-left: 1em; padding-right: 1em; text-align: center; vertical-align: top\">0.00246142557382</td>\n",
        "        <td style=\"padding-left: 1em; padding-right: 1em; text-align: center; vertical-align: top\">2</td>\n",
        "    </tr>\n",
        "    <tr>\n",
        "        <td style=\"padding-left: 1em; padding-right: 1em; text-align: center; vertical-align: top\">user_000234</td>\n",
        "        <td style=\"padding-left: 1em; padding-right: 1em; text-align: center; vertical-align: top\">Barking Dogs: Nazi Punks<br>Fuck Off</td>\n",
        "        <td style=\"padding-left: 1em; padding-right: 1em; text-align: center; vertical-align: top\">0.00123995277512</td>\n",
        "        <td style=\"padding-left: 1em; padding-right: 1em; text-align: center; vertical-align: top\">3</td>\n",
        "    </tr>\n",
        "    <tr>\n",
        "        <td style=\"padding-left: 1em; padding-right: 1em; text-align: center; vertical-align: top\">user_000234</td>\n",
        "        <td style=\"padding-left: 1em; padding-right: 1em; text-align: center; vertical-align: top\">Keane: We Might As Well<br>Be Strangers</td>\n",
        "        <td style=\"padding-left: 1em; padding-right: 1em; text-align: center; vertical-align: top\">0.001131524536</td>\n",
        "        <td style=\"padding-left: 1em; padding-right: 1em; text-align: center; vertical-align: top\">4</td>\n",
        "    </tr>\n",
        "    <tr>\n",
        "        <td style=\"padding-left: 1em; padding-right: 1em; text-align: center; vertical-align: top\">user_000234</td>\n",
        "        <td style=\"padding-left: 1em; padding-right: 1em; text-align: center; vertical-align: top\">Mobb Deep: Survival Of<br>The Fittest</td>\n",
        "        <td style=\"padding-left: 1em; padding-right: 1em; text-align: center; vertical-align: top\">0.000720465048014</td>\n",
        "        <td style=\"padding-left: 1em; padding-right: 1em; text-align: center; vertical-align: top\">5</td>\n",
        "    </tr>\n",
        "    <tr>\n",
        "        <td style=\"padding-left: 1em; padding-right: 1em; text-align: center; vertical-align: top\">user_000234</td>\n",
        "        <td style=\"padding-left: 1em; padding-right: 1em; text-align: center; vertical-align: top\">Air: Cherry Blossom Girl</td>\n",
        "        <td style=\"padding-left: 1em; padding-right: 1em; text-align: center; vertical-align: top\">0.000638543117996</td>\n",
        "        <td style=\"padding-left: 1em; padding-right: 1em; text-align: center; vertical-align: top\">6</td>\n",
        "    </tr>\n",
        "    <tr>\n",
        "        <td style=\"padding-left: 1em; padding-right: 1em; text-align: center; vertical-align: top\">user_000234</td>\n",
        "        <td style=\"padding-left: 1em; padding-right: 1em; text-align: center; vertical-align: top\">The Fratellis: Chelsea<br>Dagger</td>\n",
        "        <td style=\"padding-left: 1em; padding-right: 1em; text-align: center; vertical-align: top\">0.000561545189906</td>\n",
        "        <td style=\"padding-left: 1em; padding-right: 1em; text-align: center; vertical-align: top\">7</td>\n",
        "    </tr>\n",
        "    <tr>\n",
        "        <td style=\"padding-left: 1em; padding-right: 1em; text-align: center; vertical-align: top\">user_000234</td>\n",
        "        <td style=\"padding-left: 1em; padding-right: 1em; text-align: center; vertical-align: top\">Armin Van Buuren: In And<br>Out Of Love (Feat. Sh ...</td>\n",
        "        <td style=\"padding-left: 1em; padding-right: 1em; text-align: center; vertical-align: top\">0.000557671102977</td>\n",
        "        <td style=\"padding-left: 1em; padding-right: 1em; text-align: center; vertical-align: top\">8</td>\n",
        "    </tr>\n",
        "    <tr>\n",
        "        <td style=\"padding-left: 1em; padding-right: 1em; text-align: center; vertical-align: top\">user_000234</td>\n",
        "        <td style=\"padding-left: 1em; padding-right: 1em; text-align: center; vertical-align: top\">Fat Joe Feat. Lil' Wayne<br>&amp; Baby T.I. &amp;  R. Kel ...</td>\n",
        "        <td style=\"padding-left: 1em; padding-right: 1em; text-align: center; vertical-align: top\">0.000515273000199</td>\n",
        "        <td style=\"padding-left: 1em; padding-right: 1em; text-align: center; vertical-align: top\">9</td>\n",
        "    </tr>\n",
        "    <tr>\n",
        "        <td style=\"padding-left: 1em; padding-right: 1em; text-align: center; vertical-align: top\">user_000234</td>\n",
        "        <td style=\"padding-left: 1em; padding-right: 1em; text-align: center; vertical-align: top\">Calvin Harris: Acceptable<br>In The 80S</td>\n",
        "        <td style=\"padding-left: 1em; padding-right: 1em; text-align: center; vertical-align: top\">0.000500302385343</td>\n",
        "        <td style=\"padding-left: 1em; padding-right: 1em; text-align: center; vertical-align: top\">10</td>\n",
        "    </tr>\n",
        "    <tr>\n",
        "        <td style=\"padding-left: 1em; padding-right: 1em; text-align: center; vertical-align: top\">...</td>\n",
        "        <td style=\"padding-left: 1em; padding-right: 1em; text-align: center; vertical-align: top\">...</td>\n",
        "        <td style=\"padding-left: 1em; padding-right: 1em; text-align: center; vertical-align: top\">...</td>\n",
        "        <td style=\"padding-left: 1em; padding-right: 1em; text-align: center; vertical-align: top\">...</td>\n",
        "    </tr>\n",
        "</table>\n",
        "[6463 rows x 4 columns]<br/>Note: Only the head of the SFrame is printed.<br/>You can use print_rows(num_rows=m, num_columns=n) to print more rows and columns.\n",
        "</div>"
       ],
       "metadata": {},
       "output_type": "pyout",
       "prompt_number": 53,
       "text": [
        "Columns:\n",
        "\tuser\tstr\n",
        "\tartist_song\tstr\n",
        "\tscore\tfloat\n",
        "\trank\tint\n",
        "\n",
        "Rows: 6463\n",
        "\n",
        "Data:\n",
        "+-------------+--------------------------------+-------------------+------+\n",
        "|     user    |          artist_song           |       score       | rank |\n",
        "+-------------+--------------------------------+-------------------+------+\n",
        "| user_000234 | Tenacious D: Beelzeboss (T ... |  0.0146300813568  |  1   |\n",
        "| user_000234 | Kanye West: Amazing (Feat. ... |  0.00246142557382 |  2   |\n",
        "| user_000234 | Barking Dogs: Nazi Punks F ... |  0.00123995277512 |  3   |\n",
        "| user_000234 | Keane: We Might As Well Be ... |   0.001131524536  |  4   |\n",
        "| user_000234 | Mobb Deep: Survival Of The ... | 0.000720465048014 |  5   |\n",
        "| user_000234 |    Air: Cherry Blossom Girl    | 0.000638543117996 |  6   |\n",
        "| user_000234 | The Fratellis: Chelsea Dagger  | 0.000561545189906 |  7   |\n",
        "| user_000234 | Armin Van Buuren: In And O ... | 0.000557671102977 |  8   |\n",
        "| user_000234 | Fat Joe Feat. Lil' Wayne & ... | 0.000515273000199 |  9   |\n",
        "| user_000234 | Calvin Harris: Acceptable  ... | 0.000500302385343 |  10  |\n",
        "|     ...     |              ...               |        ...        | ...  |\n",
        "+-------------+--------------------------------+-------------------+------+\n",
        "[6463 rows x 4 columns]\n",
        "Note: Only the head of the SFrame is printed.\n",
        "You can use print_rows(num_rows=m, num_columns=n) to print more rows and columns."
       ]
      }
     ],
     "prompt_number": 53
    },
    {
     "cell_type": "code",
     "collapsed": false,
     "input": [
      "model.recommend(['user_000503'], k = -1)"
     ],
     "language": "python",
     "metadata": {},
     "outputs": [
      {
       "html": [
        "<div style=\"max-height:1000px;max-width:1500px;overflow:auto;\"><table frame=\"box\" rules=\"cols\">\n",
        "    <tr>\n",
        "        <th style=\"padding-left: 1em; padding-right: 1em; text-align: center\">user</th>\n",
        "        <th style=\"padding-left: 1em; padding-right: 1em; text-align: center\">artist_song</th>\n",
        "        <th style=\"padding-left: 1em; padding-right: 1em; text-align: center\">score</th>\n",
        "        <th style=\"padding-left: 1em; padding-right: 1em; text-align: center\">rank</th>\n",
        "    </tr>\n",
        "    <tr>\n",
        "        <td style=\"padding-left: 1em; padding-right: 1em; text-align: center; vertical-align: top\">user_000503</td>\n",
        "        <td style=\"padding-left: 1em; padding-right: 1em; text-align: center; vertical-align: top\">Tenacious D: Beelzeboss<br>(The Final Showdown)</td>\n",
        "        <td style=\"padding-left: 1em; padding-right: 1em; text-align: center; vertical-align: top\">0.0172380657165</td>\n",
        "        <td style=\"padding-left: 1em; padding-right: 1em; text-align: center; vertical-align: top\">1</td>\n",
        "    </tr>\n",
        "    <tr>\n",
        "        <td style=\"padding-left: 1em; padding-right: 1em; text-align: center; vertical-align: top\">user_000503</td>\n",
        "        <td style=\"padding-left: 1em; padding-right: 1em; text-align: center; vertical-align: top\">Kanye West: Amazing<br>(Feat. Young Jeezy)</td>\n",
        "        <td style=\"padding-left: 1em; padding-right: 1em; text-align: center; vertical-align: top\">0.0050700614317</td>\n",
        "        <td style=\"padding-left: 1em; padding-right: 1em; text-align: center; vertical-align: top\">2</td>\n",
        "    </tr>\n",
        "    <tr>\n",
        "        <td style=\"padding-left: 1em; padding-right: 1em; text-align: center; vertical-align: top\">user_000503</td>\n",
        "        <td style=\"padding-left: 1em; padding-right: 1em; text-align: center; vertical-align: top\">Barking Dogs: Nazi Punks<br>Fuck Off</td>\n",
        "        <td style=\"padding-left: 1em; padding-right: 1em; text-align: center; vertical-align: top\">0.00384934388661</td>\n",
        "        <td style=\"padding-left: 1em; padding-right: 1em; text-align: center; vertical-align: top\">3</td>\n",
        "    </tr>\n",
        "    <tr>\n",
        "        <td style=\"padding-left: 1em; padding-right: 1em; text-align: center; vertical-align: top\">user_000503</td>\n",
        "        <td style=\"padding-left: 1em; padding-right: 1em; text-align: center; vertical-align: top\">Keane: We Might As Well<br>Be Strangers</td>\n",
        "        <td style=\"padding-left: 1em; padding-right: 1em; text-align: center; vertical-align: top\">0.00374099899933</td>\n",
        "        <td style=\"padding-left: 1em; padding-right: 1em; text-align: center; vertical-align: top\">4</td>\n",
        "    </tr>\n",
        "    <tr>\n",
        "        <td style=\"padding-left: 1em; padding-right: 1em; text-align: center; vertical-align: top\">user_000503</td>\n",
        "        <td style=\"padding-left: 1em; padding-right: 1em; text-align: center; vertical-align: top\">Mobb Deep: Survival Of<br>The Fittest</td>\n",
        "        <td style=\"padding-left: 1em; padding-right: 1em; text-align: center; vertical-align: top\">0.00332939440211</td>\n",
        "        <td style=\"padding-left: 1em; padding-right: 1em; text-align: center; vertical-align: top\">5</td>\n",
        "    </tr>\n",
        "    <tr>\n",
        "        <td style=\"padding-left: 1em; padding-right: 1em; text-align: center; vertical-align: top\">user_000503</td>\n",
        "        <td style=\"padding-left: 1em; padding-right: 1em; text-align: center; vertical-align: top\">Air: Cherry Blossom Girl</td>\n",
        "        <td style=\"padding-left: 1em; padding-right: 1em; text-align: center; vertical-align: top\">0.00324724493368</td>\n",
        "        <td style=\"padding-left: 1em; padding-right: 1em; text-align: center; vertical-align: top\">6</td>\n",
        "    </tr>\n",
        "    <tr>\n",
        "        <td style=\"padding-left: 1em; padding-right: 1em; text-align: center; vertical-align: top\">user_000503</td>\n",
        "        <td style=\"padding-left: 1em; padding-right: 1em; text-align: center; vertical-align: top\">The Fratellis: Chelsea<br>Dagger</td>\n",
        "        <td style=\"padding-left: 1em; padding-right: 1em; text-align: center; vertical-align: top\">0.00316985969728</td>\n",
        "        <td style=\"padding-left: 1em; padding-right: 1em; text-align: center; vertical-align: top\">7</td>\n",
        "    </tr>\n",
        "    <tr>\n",
        "        <td style=\"padding-left: 1em; padding-right: 1em; text-align: center; vertical-align: top\">user_000503</td>\n",
        "        <td style=\"padding-left: 1em; padding-right: 1em; text-align: center; vertical-align: top\">Armin Van Buuren: In And<br>Out Of Love (Feat. Sh ...</td>\n",
        "        <td style=\"padding-left: 1em; padding-right: 1em; text-align: center; vertical-align: top\">0.00316526178694</td>\n",
        "        <td style=\"padding-left: 1em; padding-right: 1em; text-align: center; vertical-align: top\">8</td>\n",
        "    </tr>\n",
        "    <tr>\n",
        "        <td style=\"padding-left: 1em; padding-right: 1em; text-align: center; vertical-align: top\">user_000503</td>\n",
        "        <td style=\"padding-left: 1em; padding-right: 1em; text-align: center; vertical-align: top\">Fat Joe Feat. Lil' Wayne<br>&amp; Baby T.I. &amp;  R. Kel ...</td>\n",
        "        <td style=\"padding-left: 1em; padding-right: 1em; text-align: center; vertical-align: top\">0.00312281189117</td>\n",
        "        <td style=\"padding-left: 1em; padding-right: 1em; text-align: center; vertical-align: top\">9</td>\n",
        "    </tr>\n",
        "    <tr>\n",
        "        <td style=\"padding-left: 1em; padding-right: 1em; text-align: center; vertical-align: top\">user_000503</td>\n",
        "        <td style=\"padding-left: 1em; padding-right: 1em; text-align: center; vertical-align: top\">Calvin Harris: Acceptable<br>In The 80S</td>\n",
        "        <td style=\"padding-left: 1em; padding-right: 1em; text-align: center; vertical-align: top\">0.00310862735075</td>\n",
        "        <td style=\"padding-left: 1em; padding-right: 1em; text-align: center; vertical-align: top\">10</td>\n",
        "    </tr>\n",
        "    <tr>\n",
        "        <td style=\"padding-left: 1em; padding-right: 1em; text-align: center; vertical-align: top\">...</td>\n",
        "        <td style=\"padding-left: 1em; padding-right: 1em; text-align: center; vertical-align: top\">...</td>\n",
        "        <td style=\"padding-left: 1em; padding-right: 1em; text-align: center; vertical-align: top\">...</td>\n",
        "        <td style=\"padding-left: 1em; padding-right: 1em; text-align: center; vertical-align: top\">...</td>\n",
        "    </tr>\n",
        "</table>\n",
        "[6454 rows x 4 columns]<br/>Note: Only the head of the SFrame is printed.<br/>You can use print_rows(num_rows=m, num_columns=n) to print more rows and columns.\n",
        "</div>"
       ],
       "metadata": {},
       "output_type": "pyout",
       "prompt_number": 54,
       "text": [
        "Columns:\n",
        "\tuser\tstr\n",
        "\tartist_song\tstr\n",
        "\tscore\tfloat\n",
        "\trank\tint\n",
        "\n",
        "Rows: 6454\n",
        "\n",
        "Data:\n",
        "+-------------+--------------------------------+------------------+------+\n",
        "|     user    |          artist_song           |      score       | rank |\n",
        "+-------------+--------------------------------+------------------+------+\n",
        "| user_000503 | Tenacious D: Beelzeboss (T ... | 0.0172380657165  |  1   |\n",
        "| user_000503 | Kanye West: Amazing (Feat. ... | 0.0050700614317  |  2   |\n",
        "| user_000503 | Barking Dogs: Nazi Punks F ... | 0.00384934388661 |  3   |\n",
        "| user_000503 | Keane: We Might As Well Be ... | 0.00374099899933 |  4   |\n",
        "| user_000503 | Mobb Deep: Survival Of The ... | 0.00332939440211 |  5   |\n",
        "| user_000503 |    Air: Cherry Blossom Girl    | 0.00324724493368 |  6   |\n",
        "| user_000503 | The Fratellis: Chelsea Dagger  | 0.00316985969728 |  7   |\n",
        "| user_000503 | Armin Van Buuren: In And O ... | 0.00316526178694 |  8   |\n",
        "| user_000503 | Fat Joe Feat. Lil' Wayne & ... | 0.00312281189117 |  9   |\n",
        "| user_000503 | Calvin Harris: Acceptable  ... | 0.00310862735075 |  10  |\n",
        "|     ...     |              ...               |       ...        | ...  |\n",
        "+-------------+--------------------------------+------------------+------+\n",
        "[6454 rows x 4 columns]\n",
        "Note: Only the head of the SFrame is printed.\n",
        "You can use print_rows(num_rows=m, num_columns=n) to print more rows and columns."
       ]
      }
     ],
     "prompt_number": 54
    },
    {
     "cell_type": "code",
     "collapsed": false,
     "input": [
      "smaller_s[smaller_s['user'] == 'user_000234'].sort('Count', ascending = False)"
     ],
     "language": "python",
     "metadata": {},
     "outputs": [
      {
       "html": [
        "<div style=\"max-height:1000px;max-width:1500px;overflow:auto;\"><table frame=\"box\" rules=\"cols\">\n",
        "    <tr>\n",
        "        <th style=\"padding-left: 1em; padding-right: 1em; text-align: center\">artist</th>\n",
        "        <th style=\"padding-left: 1em; padding-right: 1em; text-align: center\">song</th>\n",
        "        <th style=\"padding-left: 1em; padding-right: 1em; text-align: center\">user</th>\n",
        "        <th style=\"padding-left: 1em; padding-right: 1em; text-align: center\">Count</th>\n",
        "        <th style=\"padding-left: 1em; padding-right: 1em; text-align: center\">artist_song</th>\n",
        "    </tr>\n",
        "    <tr>\n",
        "        <td style=\"padding-left: 1em; padding-right: 1em; text-align: center; vertical-align: top\">Elliott Smith</td>\n",
        "        <td style=\"padding-left: 1em; padding-right: 1em; text-align: center; vertical-align: top\">Color Bars</td>\n",
        "        <td style=\"padding-left: 1em; padding-right: 1em; text-align: center; vertical-align: top\">user_000234</td>\n",
        "        <td style=\"padding-left: 1em; padding-right: 1em; text-align: center; vertical-align: top\">58</td>\n",
        "        <td style=\"padding-left: 1em; padding-right: 1em; text-align: center; vertical-align: top\">Elliott Smith: Color Bars</td>\n",
        "    </tr>\n",
        "    <tr>\n",
        "        <td style=\"padding-left: 1em; padding-right: 1em; text-align: center; vertical-align: top\">Rilo Kiley</td>\n",
        "        <td style=\"padding-left: 1em; padding-right: 1em; text-align: center; vertical-align: top\">Dreamworld</td>\n",
        "        <td style=\"padding-left: 1em; padding-right: 1em; text-align: center; vertical-align: top\">user_000234</td>\n",
        "        <td style=\"padding-left: 1em; padding-right: 1em; text-align: center; vertical-align: top\">55</td>\n",
        "        <td style=\"padding-left: 1em; padding-right: 1em; text-align: center; vertical-align: top\">Rilo Kiley: Dreamworld</td>\n",
        "    </tr>\n",
        "    <tr>\n",
        "        <td style=\"padding-left: 1em; padding-right: 1em; text-align: center; vertical-align: top\">Elliott Smith</td>\n",
        "        <td style=\"padding-left: 1em; padding-right: 1em; text-align: center; vertical-align: top\">Somebody That I Used To<br>Know</td>\n",
        "        <td style=\"padding-left: 1em; padding-right: 1em; text-align: center; vertical-align: top\">user_000234</td>\n",
        "        <td style=\"padding-left: 1em; padding-right: 1em; text-align: center; vertical-align: top\">45</td>\n",
        "        <td style=\"padding-left: 1em; padding-right: 1em; text-align: center; vertical-align: top\">Elliott Smith: Somebody<br>That I Used To Know</td>\n",
        "    </tr>\n",
        "    <tr>\n",
        "        <td style=\"padding-left: 1em; padding-right: 1em; text-align: center; vertical-align: top\">Flight Of The Conchords</td>\n",
        "        <td style=\"padding-left: 1em; padding-right: 1em; text-align: center; vertical-align: top\">The Most Beautiful Girl<br>(In The Room)</td>\n",
        "        <td style=\"padding-left: 1em; padding-right: 1em; text-align: center; vertical-align: top\">user_000234</td>\n",
        "        <td style=\"padding-left: 1em; padding-right: 1em; text-align: center; vertical-align: top\">45</td>\n",
        "        <td style=\"padding-left: 1em; padding-right: 1em; text-align: center; vertical-align: top\">Flight Of The Conchords:<br>The Most Beautiful Gi ...</td>\n",
        "    </tr>\n",
        "    <tr>\n",
        "        <td style=\"padding-left: 1em; padding-right: 1em; text-align: center; vertical-align: top\">Richard Swift</td>\n",
        "        <td style=\"padding-left: 1em; padding-right: 1em; text-align: center; vertical-align: top\">Artist &amp; Repertoire</td>\n",
        "        <td style=\"padding-left: 1em; padding-right: 1em; text-align: center; vertical-align: top\">user_000234</td>\n",
        "        <td style=\"padding-left: 1em; padding-right: 1em; text-align: center; vertical-align: top\">39</td>\n",
        "        <td style=\"padding-left: 1em; padding-right: 1em; text-align: center; vertical-align: top\">Richard Swift: Artist &amp;<br>Repertoire</td>\n",
        "    </tr>\n",
        "    <tr>\n",
        "        <td style=\"padding-left: 1em; padding-right: 1em; text-align: center; vertical-align: top\">Elliott Smith</td>\n",
        "        <td style=\"padding-left: 1em; padding-right: 1em; text-align: center; vertical-align: top\">Roman Candle</td>\n",
        "        <td style=\"padding-left: 1em; padding-right: 1em; text-align: center; vertical-align: top\">user_000234</td>\n",
        "        <td style=\"padding-left: 1em; padding-right: 1em; text-align: center; vertical-align: top\">39</td>\n",
        "        <td style=\"padding-left: 1em; padding-right: 1em; text-align: center; vertical-align: top\">Elliott Smith: Roman<br>Candle</td>\n",
        "    </tr>\n",
        "    <tr>\n",
        "        <td style=\"padding-left: 1em; padding-right: 1em; text-align: center; vertical-align: top\">Sparklehorse</td>\n",
        "        <td style=\"padding-left: 1em; padding-right: 1em; text-align: center; vertical-align: top\">It'S A Wonderful Life</td>\n",
        "        <td style=\"padding-left: 1em; padding-right: 1em; text-align: center; vertical-align: top\">user_000234</td>\n",
        "        <td style=\"padding-left: 1em; padding-right: 1em; text-align: center; vertical-align: top\">33</td>\n",
        "        <td style=\"padding-left: 1em; padding-right: 1em; text-align: center; vertical-align: top\">Sparklehorse: It'S A<br>Wonderful Life</td>\n",
        "    </tr>\n",
        "    <tr>\n",
        "        <td style=\"padding-left: 1em; padding-right: 1em; text-align: center; vertical-align: top\">Kings Of Convenience</td>\n",
        "        <td style=\"padding-left: 1em; padding-right: 1em; text-align: center; vertical-align: top\">The Passenger</td>\n",
        "        <td style=\"padding-left: 1em; padding-right: 1em; text-align: center; vertical-align: top\">user_000234</td>\n",
        "        <td style=\"padding-left: 1em; padding-right: 1em; text-align: center; vertical-align: top\">33</td>\n",
        "        <td style=\"padding-left: 1em; padding-right: 1em; text-align: center; vertical-align: top\">Kings Of Convenience: The<br>Passenger</td>\n",
        "    </tr>\n",
        "    <tr>\n",
        "        <td style=\"padding-left: 1em; padding-right: 1em; text-align: center; vertical-align: top\">Rufus Wainwright</td>\n",
        "        <td style=\"padding-left: 1em; padding-right: 1em; text-align: center; vertical-align: top\">Poses</td>\n",
        "        <td style=\"padding-left: 1em; padding-right: 1em; text-align: center; vertical-align: top\">user_000234</td>\n",
        "        <td style=\"padding-left: 1em; padding-right: 1em; text-align: center; vertical-align: top\">33</td>\n",
        "        <td style=\"padding-left: 1em; padding-right: 1em; text-align: center; vertical-align: top\">Rufus Wainwright: Poses</td>\n",
        "    </tr>\n",
        "    <tr>\n",
        "        <td style=\"padding-left: 1em; padding-right: 1em; text-align: center; vertical-align: top\">Elliott Smith</td>\n",
        "        <td style=\"padding-left: 1em; padding-right: 1em; text-align: center; vertical-align: top\">Drive All Over Town</td>\n",
        "        <td style=\"padding-left: 1em; padding-right: 1em; text-align: center; vertical-align: top\">user_000234</td>\n",
        "        <td style=\"padding-left: 1em; padding-right: 1em; text-align: center; vertical-align: top\">33</td>\n",
        "        <td style=\"padding-left: 1em; padding-right: 1em; text-align: center; vertical-align: top\">Elliott Smith: Drive All<br>Over Town</td>\n",
        "    </tr>\n",
        "    <tr>\n",
        "        <td style=\"padding-left: 1em; padding-right: 1em; text-align: center; vertical-align: top\">...</td>\n",
        "        <td style=\"padding-left: 1em; padding-right: 1em; text-align: center; vertical-align: top\">...</td>\n",
        "        <td style=\"padding-left: 1em; padding-right: 1em; text-align: center; vertical-align: top\">...</td>\n",
        "        <td style=\"padding-left: 1em; padding-right: 1em; text-align: center; vertical-align: top\">...</td>\n",
        "        <td style=\"padding-left: 1em; padding-right: 1em; text-align: center; vertical-align: top\">...</td>\n",
        "    </tr>\n",
        "</table>\n",
        "[26 rows x 5 columns]<br/>Note: Only the head of the SFrame is printed.<br/>You can use print_rows(num_rows=m, num_columns=n) to print more rows and columns.\n",
        "</div>"
       ],
       "metadata": {},
       "output_type": "pyout",
       "prompt_number": 52,
       "text": [
        "Columns:\n",
        "\tartist\tstr\n",
        "\tsong\tstr\n",
        "\tuser\tstr\n",
        "\tCount\tint\n",
        "\tartist_song\tstr\n",
        "\n",
        "Rows: 26\n",
        "\n",
        "Data:\n",
        "+-------------------------+--------------------------------+-------------+-------+\n",
        "|          artist         |              song              |     user    | Count |\n",
        "+-------------------------+--------------------------------+-------------+-------+\n",
        "|      Elliott Smith      |           Color Bars           | user_000234 |   58  |\n",
        "|        Rilo Kiley       |           Dreamworld           | user_000234 |   55  |\n",
        "|      Elliott Smith      |  Somebody That I Used To Know  | user_000234 |   45  |\n",
        "| Flight Of The Conchords | The Most Beautiful Girl (I ... | user_000234 |   45  |\n",
        "|      Richard Swift      |      Artist & Repertoire       | user_000234 |   39  |\n",
        "|      Elliott Smith      |          Roman Candle          | user_000234 |   39  |\n",
        "|       Sparklehorse      |     It'S A Wonderful Life      | user_000234 |   33  |\n",
        "|   Kings Of Convenience  |         The Passenger          | user_000234 |   33  |\n",
        "|     Rufus Wainwright    |             Poses              | user_000234 |   33  |\n",
        "|      Elliott Smith      |      Drive All Over Town       | user_000234 |   33  |\n",
        "+-------------------------+--------------------------------+-------------+-------+\n",
        "+--------------------------------+\n",
        "|          artist_song           |\n",
        "+--------------------------------+\n",
        "|   Elliott Smith: Color Bars    |\n",
        "|     Rilo Kiley: Dreamworld     |\n",
        "| Elliott Smith: Somebody Th ... |\n",
        "| Flight Of The Conchords: T ... |\n",
        "| Richard Swift: Artist & Re ... |\n",
        "|  Elliott Smith: Roman Candle   |\n",
        "| Sparklehorse: It'S A Wonde ... |\n",
        "| Kings Of Convenience: The  ... |\n",
        "|    Rufus Wainwright: Poses     |\n",
        "| Elliott Smith: Drive All O ... |\n",
        "|              ...               |\n",
        "+--------------------------------+\n",
        "[26 rows x 5 columns]\n",
        "Note: Only the head of the SFrame is printed.\n",
        "You can use print_rows(num_rows=m, num_columns=n) to print more rows and columns."
       ]
      }
     ],
     "prompt_number": 52
    },
    {
     "cell_type": "code",
     "collapsed": false,
     "input": [
      "smaller_s[smaller_s['user'] == 'user_000503'].sort('Count', ascending = False)"
     ],
     "language": "python",
     "metadata": {},
     "outputs": [
      {
       "html": [
        "<div style=\"max-height:1000px;max-width:1500px;overflow:auto;\"><table frame=\"box\" rules=\"cols\">\n",
        "    <tr>\n",
        "        <th style=\"padding-left: 1em; padding-right: 1em; text-align: center\">artist</th>\n",
        "        <th style=\"padding-left: 1em; padding-right: 1em; text-align: center\">song</th>\n",
        "        <th style=\"padding-left: 1em; padding-right: 1em; text-align: center\">user</th>\n",
        "        <th style=\"padding-left: 1em; padding-right: 1em; text-align: center\">Count</th>\n",
        "        <th style=\"padding-left: 1em; padding-right: 1em; text-align: center\">artist_song</th>\n",
        "    </tr>\n",
        "    <tr>\n",
        "        <td style=\"padding-left: 1em; padding-right: 1em; text-align: center; vertical-align: top\">Nine Inch Nails</td>\n",
        "        <td style=\"padding-left: 1em; padding-right: 1em; text-align: center; vertical-align: top\">Right Where It Belongs<br>V.2</td>\n",
        "        <td style=\"padding-left: 1em; padding-right: 1em; text-align: center; vertical-align: top\">user_000503</td>\n",
        "        <td style=\"padding-left: 1em; padding-right: 1em; text-align: center; vertical-align: top\">104</td>\n",
        "        <td style=\"padding-left: 1em; padding-right: 1em; text-align: center; vertical-align: top\">Nine Inch Nails: Right<br>Where It Belongs V.2</td>\n",
        "    </tr>\n",
        "    <tr>\n",
        "        <td style=\"padding-left: 1em; padding-right: 1em; text-align: center; vertical-align: top\">Nine Inch Nails</td>\n",
        "        <td style=\"padding-left: 1em; padding-right: 1em; text-align: center; vertical-align: top\">13 Ghosts Ii</td>\n",
        "        <td style=\"padding-left: 1em; padding-right: 1em; text-align: center; vertical-align: top\">user_000503</td>\n",
        "        <td style=\"padding-left: 1em; padding-right: 1em; text-align: center; vertical-align: top\">81</td>\n",
        "        <td style=\"padding-left: 1em; padding-right: 1em; text-align: center; vertical-align: top\">Nine Inch Nails: 13<br>Ghosts Ii</td>\n",
        "    </tr>\n",
        "    <tr>\n",
        "        <td style=\"padding-left: 1em; padding-right: 1em; text-align: center; vertical-align: top\">Nine Inch Nails</td>\n",
        "        <td style=\"padding-left: 1em; padding-right: 1em; text-align: center; vertical-align: top\">1 Ghosts I</td>\n",
        "        <td style=\"padding-left: 1em; padding-right: 1em; text-align: center; vertical-align: top\">user_000503</td>\n",
        "        <td style=\"padding-left: 1em; padding-right: 1em; text-align: center; vertical-align: top\">78</td>\n",
        "        <td style=\"padding-left: 1em; padding-right: 1em; text-align: center; vertical-align: top\">Nine Inch Nails: 1 Ghosts<br>I</td>\n",
        "    </tr>\n",
        "    <tr>\n",
        "        <td style=\"padding-left: 1em; padding-right: 1em; text-align: center; vertical-align: top\">Nine Inch Nails</td>\n",
        "        <td style=\"padding-left: 1em; padding-right: 1em; text-align: center; vertical-align: top\">36 Ghosts Iv</td>\n",
        "        <td style=\"padding-left: 1em; padding-right: 1em; text-align: center; vertical-align: top\">user_000503</td>\n",
        "        <td style=\"padding-left: 1em; padding-right: 1em; text-align: center; vertical-align: top\">76</td>\n",
        "        <td style=\"padding-left: 1em; padding-right: 1em; text-align: center; vertical-align: top\">Nine Inch Nails: 36<br>Ghosts Iv</td>\n",
        "    </tr>\n",
        "    <tr>\n",
        "        <td style=\"padding-left: 1em; padding-right: 1em; text-align: center; vertical-align: top\">Placebo</td>\n",
        "        <td style=\"padding-left: 1em; padding-right: 1em; text-align: center; vertical-align: top\">Because I Want You</td>\n",
        "        <td style=\"padding-left: 1em; padding-right: 1em; text-align: center; vertical-align: top\">user_000503</td>\n",
        "        <td style=\"padding-left: 1em; padding-right: 1em; text-align: center; vertical-align: top\">73</td>\n",
        "        <td style=\"padding-left: 1em; padding-right: 1em; text-align: center; vertical-align: top\">Placebo: Because I Want<br>You</td>\n",
        "    </tr>\n",
        "    <tr>\n",
        "        <td style=\"padding-left: 1em; padding-right: 1em; text-align: center; vertical-align: top\">Nine Inch Nails</td>\n",
        "        <td style=\"padding-left: 1em; padding-right: 1em; text-align: center; vertical-align: top\">The Frail</td>\n",
        "        <td style=\"padding-left: 1em; padding-right: 1em; text-align: center; vertical-align: top\">user_000503</td>\n",
        "        <td style=\"padding-left: 1em; padding-right: 1em; text-align: center; vertical-align: top\">68</td>\n",
        "        <td style=\"padding-left: 1em; padding-right: 1em; text-align: center; vertical-align: top\">Nine Inch Nails: The<br>Frail</td>\n",
        "    </tr>\n",
        "    <tr>\n",
        "        <td style=\"padding-left: 1em; padding-right: 1em; text-align: center; vertical-align: top\">Nine Inch Nails</td>\n",
        "        <td style=\"padding-left: 1em; padding-right: 1em; text-align: center; vertical-align: top\">Leaving Hope</td>\n",
        "        <td style=\"padding-left: 1em; padding-right: 1em; text-align: center; vertical-align: top\">user_000503</td>\n",
        "        <td style=\"padding-left: 1em; padding-right: 1em; text-align: center; vertical-align: top\">65</td>\n",
        "        <td style=\"padding-left: 1em; padding-right: 1em; text-align: center; vertical-align: top\">Nine Inch Nails: Leaving<br>Hope</td>\n",
        "    </tr>\n",
        "    <tr>\n",
        "        <td style=\"padding-left: 1em; padding-right: 1em; text-align: center; vertical-align: top\">Nine Inch Nails</td>\n",
        "        <td style=\"padding-left: 1em; padding-right: 1em; text-align: center; vertical-align: top\">Adrift And At Peace</td>\n",
        "        <td style=\"padding-left: 1em; padding-right: 1em; text-align: center; vertical-align: top\">user_000503</td>\n",
        "        <td style=\"padding-left: 1em; padding-right: 1em; text-align: center; vertical-align: top\">61</td>\n",
        "        <td style=\"padding-left: 1em; padding-right: 1em; text-align: center; vertical-align: top\">Nine Inch Nails: Adrift<br>And At Peace</td>\n",
        "    </tr>\n",
        "    <tr>\n",
        "        <td style=\"padding-left: 1em; padding-right: 1em; text-align: center; vertical-align: top\">Nine Inch Nails</td>\n",
        "        <td style=\"padding-left: 1em; padding-right: 1em; text-align: center; vertical-align: top\">The Persistence Of Loss</td>\n",
        "        <td style=\"padding-left: 1em; padding-right: 1em; text-align: center; vertical-align: top\">user_000503</td>\n",
        "        <td style=\"padding-left: 1em; padding-right: 1em; text-align: center; vertical-align: top\">57</td>\n",
        "        <td style=\"padding-left: 1em; padding-right: 1em; text-align: center; vertical-align: top\">Nine Inch Nails: The<br>Persistence Of Loss</td>\n",
        "    </tr>\n",
        "    <tr>\n",
        "        <td style=\"padding-left: 1em; padding-right: 1em; text-align: center; vertical-align: top\">Nine Inch Nails</td>\n",
        "        <td style=\"padding-left: 1em; padding-right: 1em; text-align: center; vertical-align: top\">6 Ghosts I</td>\n",
        "        <td style=\"padding-left: 1em; padding-right: 1em; text-align: center; vertical-align: top\">user_000503</td>\n",
        "        <td style=\"padding-left: 1em; padding-right: 1em; text-align: center; vertical-align: top\">57</td>\n",
        "        <td style=\"padding-left: 1em; padding-right: 1em; text-align: center; vertical-align: top\">Nine Inch Nails: 6 Ghosts<br>I</td>\n",
        "    </tr>\n",
        "    <tr>\n",
        "        <td style=\"padding-left: 1em; padding-right: 1em; text-align: center; vertical-align: top\">...</td>\n",
        "        <td style=\"padding-left: 1em; padding-right: 1em; text-align: center; vertical-align: top\">...</td>\n",
        "        <td style=\"padding-left: 1em; padding-right: 1em; text-align: center; vertical-align: top\">...</td>\n",
        "        <td style=\"padding-left: 1em; padding-right: 1em; text-align: center; vertical-align: top\">...</td>\n",
        "        <td style=\"padding-left: 1em; padding-right: 1em; text-align: center; vertical-align: top\">...</td>\n",
        "    </tr>\n",
        "</table>\n",
        "[35 rows x 5 columns]<br/>Note: Only the head of the SFrame is printed.<br/>You can use print_rows(num_rows=m, num_columns=n) to print more rows and columns.\n",
        "</div>"
       ],
       "metadata": {},
       "output_type": "pyout",
       "prompt_number": 48,
       "text": [
        "Columns:\n",
        "\tartist\tstr\n",
        "\tsong\tstr\n",
        "\tuser\tstr\n",
        "\tCount\tint\n",
        "\tartist_song\tstr\n",
        "\n",
        "Rows: 35\n",
        "\n",
        "Data:\n",
        "+-----------------+----------------------------+-------------+-------+\n",
        "|      artist     |            song            |     user    | Count |\n",
        "+-----------------+----------------------------+-------------+-------+\n",
        "| Nine Inch Nails | Right Where It Belongs V.2 | user_000503 |  104  |\n",
        "| Nine Inch Nails |        13 Ghosts Ii        | user_000503 |   81  |\n",
        "| Nine Inch Nails |         1 Ghosts I         | user_000503 |   78  |\n",
        "| Nine Inch Nails |        36 Ghosts Iv        | user_000503 |   76  |\n",
        "|     Placebo     |     Because I Want You     | user_000503 |   73  |\n",
        "| Nine Inch Nails |         The Frail          | user_000503 |   68  |\n",
        "| Nine Inch Nails |        Leaving Hope        | user_000503 |   65  |\n",
        "| Nine Inch Nails |    Adrift And At Peace     | user_000503 |   61  |\n",
        "| Nine Inch Nails |  The Persistence Of Loss   | user_000503 |   57  |\n",
        "| Nine Inch Nails |         6 Ghosts I         | user_000503 |   57  |\n",
        "+-----------------+----------------------------+-------------+-------+\n",
        "+--------------------------------+\n",
        "|          artist_song           |\n",
        "+--------------------------------+\n",
        "| Nine Inch Nails: Right Whe ... |\n",
        "| Nine Inch Nails: 13 Ghosts Ii  |\n",
        "|  Nine Inch Nails: 1 Ghosts I   |\n",
        "| Nine Inch Nails: 36 Ghosts Iv  |\n",
        "|  Placebo: Because I Want You   |\n",
        "|   Nine Inch Nails: The Frail   |\n",
        "| Nine Inch Nails: Leaving Hope  |\n",
        "| Nine Inch Nails: Adrift An ... |\n",
        "| Nine Inch Nails: The Persi ... |\n",
        "|  Nine Inch Nails: 6 Ghosts I   |\n",
        "|              ...               |\n",
        "+--------------------------------+\n",
        "[35 rows x 5 columns]\n",
        "Note: Only the head of the SFrame is printed.\n",
        "You can use print_rows(num_rows=m, num_columns=n) to print more rows and columns."
       ]
      }
     ],
     "prompt_number": 48
    },
    {
     "cell_type": "code",
     "collapsed": false,
     "input": [
      "model_factor.recommend(['user_000234'], k = -1)"
     ],
     "language": "python",
     "metadata": {},
     "outputs": [
      {
       "html": [
        "<div style=\"max-height:1000px;max-width:1500px;overflow:auto;\"><table frame=\"box\" rules=\"cols\">\n",
        "    <tr>\n",
        "        <th style=\"padding-left: 1em; padding-right: 1em; text-align: center\">user</th>\n",
        "        <th style=\"padding-left: 1em; padding-right: 1em; text-align: center\">artist_song</th>\n",
        "        <th style=\"padding-left: 1em; padding-right: 1em; text-align: center\">score</th>\n",
        "        <th style=\"padding-left: 1em; padding-right: 1em; text-align: center\">rank</th>\n",
        "    </tr>\n",
        "    <tr>\n",
        "        <td style=\"padding-left: 1em; padding-right: 1em; text-align: center; vertical-align: top\">user_000234</td>\n",
        "        <td style=\"padding-left: 1em; padding-right: 1em; text-align: center; vertical-align: top\">Tenacious D: Beelzeboss<br>(The Final Showdown)</td>\n",
        "        <td style=\"padding-left: 1em; padding-right: 1em; text-align: center; vertical-align: top\">0.0011168150067</td>\n",
        "        <td style=\"padding-left: 1em; padding-right: 1em; text-align: center; vertical-align: top\">1</td>\n",
        "    </tr>\n",
        "    <tr>\n",
        "        <td style=\"padding-left: 1em; padding-right: 1em; text-align: center; vertical-align: top\">user_000234</td>\n",
        "        <td style=\"padding-left: 1em; padding-right: 1em; text-align: center; vertical-align: top\">Kanye West: Love Lockdown</td>\n",
        "        <td style=\"padding-left: 1em; padding-right: 1em; text-align: center; vertical-align: top\">0.00107765572506</td>\n",
        "        <td style=\"padding-left: 1em; padding-right: 1em; text-align: center; vertical-align: top\">2</td>\n",
        "    </tr>\n",
        "    <tr>\n",
        "        <td style=\"padding-left: 1em; padding-right: 1em; text-align: center; vertical-align: top\">user_000234</td>\n",
        "        <td style=\"padding-left: 1em; padding-right: 1em; text-align: center; vertical-align: top\">Kanye West: Welcome To<br>Heartbreak (Feat. Kid ...</td>\n",
        "        <td style=\"padding-left: 1em; padding-right: 1em; text-align: center; vertical-align: top\">0.00107739088612</td>\n",
        "        <td style=\"padding-left: 1em; padding-right: 1em; text-align: center; vertical-align: top\">3</td>\n",
        "    </tr>\n",
        "    <tr>\n",
        "        <td style=\"padding-left: 1em; padding-right: 1em; text-align: center; vertical-align: top\">user_000234</td>\n",
        "        <td style=\"padding-left: 1em; padding-right: 1em; text-align: center; vertical-align: top\">Humanwine: Wake Up</td>\n",
        "        <td style=\"padding-left: 1em; padding-right: 1em; text-align: center; vertical-align: top\">0.00107655765016</td>\n",
        "        <td style=\"padding-left: 1em; padding-right: 1em; text-align: center; vertical-align: top\">4</td>\n",
        "    </tr>\n",
        "    <tr>\n",
        "        <td style=\"padding-left: 1em; padding-right: 1em; text-align: center; vertical-align: top\">user_000234</td>\n",
        "        <td style=\"padding-left: 1em; padding-right: 1em; text-align: center; vertical-align: top\">Kanye West: Heartless</td>\n",
        "        <td style=\"padding-left: 1em; padding-right: 1em; text-align: center; vertical-align: top\">0.00107630820077</td>\n",
        "        <td style=\"padding-left: 1em; padding-right: 1em; text-align: center; vertical-align: top\">5</td>\n",
        "    </tr>\n",
        "    <tr>\n",
        "        <td style=\"padding-left: 1em; padding-right: 1em; text-align: center; vertical-align: top\">user_000234</td>\n",
        "        <td style=\"padding-left: 1em; padding-right: 1em; text-align: center; vertical-align: top\">Kanye West: Street Lights</td>\n",
        "        <td style=\"padding-left: 1em; padding-right: 1em; text-align: center; vertical-align: top\">0.0010762514699</td>\n",
        "        <td style=\"padding-left: 1em; padding-right: 1em; text-align: center; vertical-align: top\">6</td>\n",
        "    </tr>\n",
        "    <tr>\n",
        "        <td style=\"padding-left: 1em; padding-right: 1em; text-align: center; vertical-align: top\">user_000234</td>\n",
        "        <td style=\"padding-left: 1em; padding-right: 1em; text-align: center; vertical-align: top\">Humanwine: Rivolta<br>Silenziosa</td>\n",
        "        <td style=\"padding-left: 1em; padding-right: 1em; text-align: center; vertical-align: top\">0.00107596141886</td>\n",
        "        <td style=\"padding-left: 1em; padding-right: 1em; text-align: center; vertical-align: top\">7</td>\n",
        "    </tr>\n",
        "    <tr>\n",
        "        <td style=\"padding-left: 1em; padding-right: 1em; text-align: center; vertical-align: top\">user_000234</td>\n",
        "        <td style=\"padding-left: 1em; padding-right: 1em; text-align: center; vertical-align: top\">Zeigeist: Fight With<br>Shattered Mirrors</td>\n",
        "        <td style=\"padding-left: 1em; padding-right: 1em; text-align: center; vertical-align: top\">0.00107585382791</td>\n",
        "        <td style=\"padding-left: 1em; padding-right: 1em; text-align: center; vertical-align: top\">8</td>\n",
        "    </tr>\n",
        "    <tr>\n",
        "        <td style=\"padding-left: 1em; padding-right: 1em; text-align: center; vertical-align: top\">user_000234</td>\n",
        "        <td style=\"padding-left: 1em; padding-right: 1em; text-align: center; vertical-align: top\">Kanye West: Paranoid<br>(Feat. Mr. Hudson)</td>\n",
        "        <td style=\"padding-left: 1em; padding-right: 1em; text-align: center; vertical-align: top\">0.00107575508975</td>\n",
        "        <td style=\"padding-left: 1em; padding-right: 1em; text-align: center; vertical-align: top\">9</td>\n",
        "    </tr>\n",
        "    <tr>\n",
        "        <td style=\"padding-left: 1em; padding-right: 1em; text-align: center; vertical-align: top\">user_000234</td>\n",
        "        <td style=\"padding-left: 1em; padding-right: 1em; text-align: center; vertical-align: top\">The Prodigy: Omen</td>\n",
        "        <td style=\"padding-left: 1em; padding-right: 1em; text-align: center; vertical-align: top\">0.00107561695615</td>\n",
        "        <td style=\"padding-left: 1em; padding-right: 1em; text-align: center; vertical-align: top\">10</td>\n",
        "    </tr>\n",
        "    <tr>\n",
        "        <td style=\"padding-left: 1em; padding-right: 1em; text-align: center; vertical-align: top\">...</td>\n",
        "        <td style=\"padding-left: 1em; padding-right: 1em; text-align: center; vertical-align: top\">...</td>\n",
        "        <td style=\"padding-left: 1em; padding-right: 1em; text-align: center; vertical-align: top\">...</td>\n",
        "        <td style=\"padding-left: 1em; padding-right: 1em; text-align: center; vertical-align: top\">...</td>\n",
        "    </tr>\n",
        "</table>\n",
        "[6463 rows x 4 columns]<br/>Note: Only the head of the SFrame is printed.<br/>You can use print_rows(num_rows=m, num_columns=n) to print more rows and columns.\n",
        "</div>"
       ],
       "metadata": {},
       "output_type": "pyout",
       "prompt_number": 64,
       "text": [
        "Columns:\n",
        "\tuser\tstr\n",
        "\tartist_song\tstr\n",
        "\tscore\tfloat\n",
        "\trank\tint\n",
        "\n",
        "Rows: 6463\n",
        "\n",
        "Data:\n",
        "+-------------+--------------------------------+------------------+------+\n",
        "|     user    |          artist_song           |      score       | rank |\n",
        "+-------------+--------------------------------+------------------+------+\n",
        "| user_000234 | Tenacious D: Beelzeboss (T ... | 0.0011168150067  |  1   |\n",
        "| user_000234 |   Kanye West: Love Lockdown    | 0.00107765572506 |  2   |\n",
        "| user_000234 | Kanye West: Welcome To Hea ... | 0.00107739088612 |  3   |\n",
        "| user_000234 |       Humanwine: Wake Up       | 0.00107655765016 |  4   |\n",
        "| user_000234 |     Kanye West: Heartless      | 0.00107630820077 |  5   |\n",
        "| user_000234 |   Kanye West: Street Lights    | 0.0010762514699  |  6   |\n",
        "| user_000234 | Humanwine: Rivolta Silenziosa  | 0.00107596141886 |  7   |\n",
        "| user_000234 | Zeigeist: Fight With Shatt ... | 0.00107585382791 |  8   |\n",
        "| user_000234 | Kanye West: Paranoid (Feat ... | 0.00107575508975 |  9   |\n",
        "| user_000234 |       The Prodigy: Omen        | 0.00107561695615 |  10  |\n",
        "|     ...     |              ...               |       ...        | ...  |\n",
        "+-------------+--------------------------------+------------------+------+\n",
        "[6463 rows x 4 columns]\n",
        "Note: Only the head of the SFrame is printed.\n",
        "You can use print_rows(num_rows=m, num_columns=n) to print more rows and columns."
       ]
      }
     ],
     "prompt_number": 64
    },
    {
     "cell_type": "code",
     "collapsed": false,
     "input": [
      "model_factor.recommend(['user_000709'], k = 3)"
     ],
     "language": "python",
     "metadata": {},
     "outputs": [
      {
       "html": [
        "<div style=\"max-height:1000px;max-width:1500px;overflow:auto;\"><table frame=\"box\" rules=\"cols\">\n",
        "    <tr>\n",
        "        <th style=\"padding-left: 1em; padding-right: 1em; text-align: center\">user</th>\n",
        "        <th style=\"padding-left: 1em; padding-right: 1em; text-align: center\">artist_song</th>\n",
        "        <th style=\"padding-left: 1em; padding-right: 1em; text-align: center\">score</th>\n",
        "        <th style=\"padding-left: 1em; padding-right: 1em; text-align: center\">rank</th>\n",
        "    </tr>\n",
        "    <tr>\n",
        "        <td style=\"padding-left: 1em; padding-right: 1em; text-align: center; vertical-align: top\">user_000709</td>\n",
        "        <td style=\"padding-left: 1em; padding-right: 1em; text-align: center; vertical-align: top\">Tenacious D: Beelzeboss<br>(The Final Showdown)</td>\n",
        "        <td style=\"padding-left: 1em; padding-right: 1em; text-align: center; vertical-align: top\">0.00113038310332</td>\n",
        "        <td style=\"padding-left: 1em; padding-right: 1em; text-align: center; vertical-align: top\">1</td>\n",
        "    </tr>\n",
        "    <tr>\n",
        "        <td style=\"padding-left: 1em; padding-right: 1em; text-align: center; vertical-align: top\">user_000709</td>\n",
        "        <td style=\"padding-left: 1em; padding-right: 1em; text-align: center; vertical-align: top\">Kanye West: Welcome To<br>Heartbreak (Feat. Kid ...</td>\n",
        "        <td style=\"padding-left: 1em; padding-right: 1em; text-align: center; vertical-align: top\">0.00107909503476</td>\n",
        "        <td style=\"padding-left: 1em; padding-right: 1em; text-align: center; vertical-align: top\">2</td>\n",
        "    </tr>\n",
        "    <tr>\n",
        "        <td style=\"padding-left: 1em; padding-right: 1em; text-align: center; vertical-align: top\">user_000709</td>\n",
        "        <td style=\"padding-left: 1em; padding-right: 1em; text-align: center; vertical-align: top\">Kanye West: Love Lockdown</td>\n",
        "        <td style=\"padding-left: 1em; padding-right: 1em; text-align: center; vertical-align: top\">0.00107904245323</td>\n",
        "        <td style=\"padding-left: 1em; padding-right: 1em; text-align: center; vertical-align: top\">3</td>\n",
        "    </tr>\n",
        "</table>\n",
        "[3 rows x 4 columns]<br/>\n",
        "</div>"
       ],
       "metadata": {},
       "output_type": "pyout",
       "prompt_number": 65,
       "text": [
        "Columns:\n",
        "\tuser\tstr\n",
        "\tartist_song\tstr\n",
        "\tscore\tfloat\n",
        "\trank\tint\n",
        "\n",
        "Rows: 3\n",
        "\n",
        "Data:\n",
        "+-------------+--------------------------------+------------------+------+\n",
        "|     user    |          artist_song           |      score       | rank |\n",
        "+-------------+--------------------------------+------------------+------+\n",
        "| user_000709 | Tenacious D: Beelzeboss (T ... | 0.00113038310332 |  1   |\n",
        "| user_000709 | Kanye West: Welcome To Hea ... | 0.00107909503476 |  2   |\n",
        "| user_000709 |   Kanye West: Love Lockdown    | 0.00107904245323 |  3   |\n",
        "+-------------+--------------------------------+------------------+------+\n",
        "[3 rows x 4 columns]\n"
       ]
      }
     ],
     "prompt_number": 65
    },
    {
     "cell_type": "code",
     "collapsed": false,
     "input": [
      "user_sf = model_factor.get('coefficients')['user']\n",
      "song_sf = model_factor.get('coefficients')['artist_song']\n",
      "user_df = user_sf.to_dataframe()\n",
      "song_df = song_sf.to_dataframe()"
     ],
     "language": "python",
     "metadata": {},
     "outputs": [],
     "prompt_number": 134
    },
    {
     "cell_type": "code",
     "collapsed": false,
     "input": [
      "user_df"
     ],
     "language": "python",
     "metadata": {},
     "outputs": [
      {
       "html": [
        "<div style=\"max-height:1000px;max-width:1500px;overflow:auto;\">\n",
        "<table border=\"1\" class=\"dataframe\">\n",
        "  <thead>\n",
        "    <tr style=\"text-align: right;\">\n",
        "      <th></th>\n",
        "      <th>user</th>\n",
        "      <th>factors</th>\n",
        "    </tr>\n",
        "  </thead>\n",
        "  <tbody>\n",
        "    <tr>\n",
        "      <th>0  </th>\n",
        "      <td> user_000234</td>\n",
        "      <td> [1.28642004711e-05, 2.25128296734e-05, 0.00036...</td>\n",
        "    </tr>\n",
        "    <tr>\n",
        "      <th>1  </th>\n",
        "      <td> user_000503</td>\n",
        "      <td> [0.00120336655527, 0.000332810013788, 0.000657...</td>\n",
        "    </tr>\n",
        "    <tr>\n",
        "      <th>2  </th>\n",
        "      <td> user_000885</td>\n",
        "      <td> [0.000210969941691, 5.97795042268e-05, 0.00011...</td>\n",
        "    </tr>\n",
        "    <tr>\n",
        "      <th>3  </th>\n",
        "      <td> user_000085</td>\n",
        "      <td> [0.0, 0.00145214586519, 0.00112342112698, 0.00...</td>\n",
        "    </tr>\n",
        "    <tr>\n",
        "      <th>4  </th>\n",
        "      <td> user_000008</td>\n",
        "      <td> [0.00493567669764, 0.00170248304494, 0.0028940...</td>\n",
        "    </tr>\n",
        "    <tr>\n",
        "      <th>5  </th>\n",
        "      <td> user_000685</td>\n",
        "      <td> [4.56358102383e-05, 0.00103177700657, 2.858248...</td>\n",
        "    </tr>\n",
        "    <tr>\n",
        "      <th>6  </th>\n",
        "      <td> user_000612</td>\n",
        "      <td> [0.00210373359732, 7.03212062945e-05, 0.001483...</td>\n",
        "    </tr>\n",
        "    <tr>\n",
        "      <th>7  </th>\n",
        "      <td> user_000033</td>\n",
        "      <td> [0.00404176209122, 0.00106863980182, 0.0039111...</td>\n",
        "    </tr>\n",
        "    <tr>\n",
        "      <th>8  </th>\n",
        "      <td> user_000709</td>\n",
        "      <td> [4.44823890575e-05, 8.01917667559e-06, 0.00065...</td>\n",
        "    </tr>\n",
        "    <tr>\n",
        "      <th>9  </th>\n",
        "      <td> user_000732</td>\n",
        "      <td> [2.26007045967e-06, 9.89347881841e-07, 0.00099...</td>\n",
        "    </tr>\n",
        "    <tr>\n",
        "      <th>10 </th>\n",
        "      <td> user_000525</td>\n",
        "      <td> [0.00678127538413, 0.00239346874878, 0.0038987...</td>\n",
        "    </tr>\n",
        "    <tr>\n",
        "      <th>11 </th>\n",
        "      <td> user_000628</td>\n",
        "      <td> [0.000575391575694, 0.000156030568178, 0.00031...</td>\n",
        "    </tr>\n",
        "    <tr>\n",
        "      <th>12 </th>\n",
        "      <td> user_000284</td>\n",
        "      <td> [8.8381137175e-05, 0.0, 0.0, 0.00147623487283,...</td>\n",
        "    </tr>\n",
        "    <tr>\n",
        "      <th>13 </th>\n",
        "      <td> user_000141</td>\n",
        "      <td> [0.00636836513877, 0.00172780093271, 0.0028778...</td>\n",
        "    </tr>\n",
        "    <tr>\n",
        "      <th>14 </th>\n",
        "      <td> user_000147</td>\n",
        "      <td> [0.00297153065912, 0.000585011206567, 0.001102...</td>\n",
        "    </tr>\n",
        "    <tr>\n",
        "      <th>15 </th>\n",
        "      <td> user_000349</td>\n",
        "      <td> [0.000509824953042, 0.000570101721678, 0.00028...</td>\n",
        "    </tr>\n",
        "    <tr>\n",
        "      <th>16 </th>\n",
        "      <td> user_000653</td>\n",
        "      <td> [0.000485124008264, 4.06071478665e-08, 0.0, 0....</td>\n",
        "    </tr>\n",
        "    <tr>\n",
        "      <th>17 </th>\n",
        "      <td> user_000452</td>\n",
        "      <td> [0.000322995474562, 0.000106976891402, 0.00065...</td>\n",
        "    </tr>\n",
        "    <tr>\n",
        "      <th>18 </th>\n",
        "      <td> user_000275</td>\n",
        "      <td> [0.00256666820496, 0.000861599051859, 0.002369...</td>\n",
        "    </tr>\n",
        "    <tr>\n",
        "      <th>19 </th>\n",
        "      <td> user_000980</td>\n",
        "      <td> [0.00158541358542, 0.000469106133096, 0.000941...</td>\n",
        "    </tr>\n",
        "    <tr>\n",
        "      <th>20 </th>\n",
        "      <td> user_000999</td>\n",
        "      <td> [0.00314122019336, 0.000726687896531, 0.000810...</td>\n",
        "    </tr>\n",
        "    <tr>\n",
        "      <th>21 </th>\n",
        "      <td> user_000075</td>\n",
        "      <td> [0.000177434456418, 0.000611351279076, 8.78650...</td>\n",
        "    </tr>\n",
        "    <tr>\n",
        "      <th>22 </th>\n",
        "      <td> user_000920</td>\n",
        "      <td> [0.00144264975097, 0.000419920455897, 0.000795...</td>\n",
        "    </tr>\n",
        "    <tr>\n",
        "      <th>23 </th>\n",
        "      <td> user_000710</td>\n",
        "      <td> [0.000474142492749, 0.00180837814696, 0.000264...</td>\n",
        "    </tr>\n",
        "    <tr>\n",
        "      <th>24 </th>\n",
        "      <td> user_000269</td>\n",
        "      <td> [0.000357789569534, 0.000773789535742, 0.00023...</td>\n",
        "    </tr>\n",
        "    <tr>\n",
        "      <th>25 </th>\n",
        "      <td> user_000054</td>\n",
        "      <td> [0.000342011451721, 7.17696093488e-05, 0.00016...</td>\n",
        "    </tr>\n",
        "    <tr>\n",
        "      <th>26 </th>\n",
        "      <td> user_000353</td>\n",
        "      <td> [1.16928640637e-05, 4.47207139587e-06, 7.94954...</td>\n",
        "    </tr>\n",
        "    <tr>\n",
        "      <th>27 </th>\n",
        "      <td> user_000798</td>\n",
        "      <td> [0.00215102755465, 0.00159330049064, 0.0016831...</td>\n",
        "    </tr>\n",
        "    <tr>\n",
        "      <th>28 </th>\n",
        "      <td> user_000781</td>\n",
        "      <td> [0.000189241123735, 0.000943561433814, 0.00010...</td>\n",
        "    </tr>\n",
        "    <tr>\n",
        "      <th>29 </th>\n",
        "      <td> user_000493</td>\n",
        "      <td> [2.96570692626e-06, 8.59389217567e-07, 1.70407...</td>\n",
        "    </tr>\n",
        "    <tr>\n",
        "      <th>...</th>\n",
        "      <td>...</td>\n",
        "      <td>...</td>\n",
        "    </tr>\n",
        "    <tr>\n",
        "      <th>317</th>\n",
        "      <td> user_000006</td>\n",
        "      <td> [0.000161519055837, 4.2083189328e-05, 0.000558...</td>\n",
        "    </tr>\n",
        "    <tr>\n",
        "      <th>318</th>\n",
        "      <td> user_000390</td>\n",
        "      <td> [0.0, 0.000835841172375, 5.12535189046e-05, 0....</td>\n",
        "    </tr>\n",
        "    <tr>\n",
        "      <th>319</th>\n",
        "      <td> user_000707</td>\n",
        "      <td> [2.26859970098e-06, 0.000130892396555, 1.23983...</td>\n",
        "    </tr>\n",
        "    <tr>\n",
        "      <th>320</th>\n",
        "      <td> user_000347</td>\n",
        "      <td> [0.000225586205488, 2.03677132049e-06, 5.92607...</td>\n",
        "    </tr>\n",
        "    <tr>\n",
        "      <th>321</th>\n",
        "      <td> user_000303</td>\n",
        "      <td> [4.08071209677e-05, 1.51978229042e-05, 2.63571...</td>\n",
        "    </tr>\n",
        "    <tr>\n",
        "      <th>322</th>\n",
        "      <td> user_000832</td>\n",
        "      <td> [0.0, 0.0, 0.0, 0.0, 0.0, 0.0, 0.0, 0.0, 0.000...</td>\n",
        "    </tr>\n",
        "    <tr>\n",
        "      <th>323</th>\n",
        "      <td> user_000264</td>\n",
        "      <td> [4.52765380032e-05, 1.06131328721e-05, 2.75646...</td>\n",
        "    </tr>\n",
        "    <tr>\n",
        "      <th>324</th>\n",
        "      <td> user_000918</td>\n",
        "      <td> [0.0, 0.000486326112878, 0.0, 0.0, 0.0, 0.0, 0...</td>\n",
        "    </tr>\n",
        "    <tr>\n",
        "      <th>325</th>\n",
        "      <td> user_000627</td>\n",
        "      <td> [0.00018549116794, 5.2316194342e-05, 9.7832002...</td>\n",
        "    </tr>\n",
        "    <tr>\n",
        "      <th>326</th>\n",
        "      <td> user_000768</td>\n",
        "      <td> [0.000451337196864, 0.000142025091918, 0.00029...</td>\n",
        "    </tr>\n",
        "    <tr>\n",
        "      <th>327</th>\n",
        "      <td> user_000420</td>\n",
        "      <td> [3.0987073842e-05, 9.54640563577e-06, 1.951916...</td>\n",
        "    </tr>\n",
        "    <tr>\n",
        "      <th>328</th>\n",
        "      <td> user_000469</td>\n",
        "      <td> [0.00100924354047, 0.000320258492138, 0.000603...</td>\n",
        "    </tr>\n",
        "    <tr>\n",
        "      <th>329</th>\n",
        "      <td> user_000761</td>\n",
        "      <td> [0.000112515721412, 3.34125179506e-05, 6.26217...</td>\n",
        "    </tr>\n",
        "    <tr>\n",
        "      <th>330</th>\n",
        "      <td> user_000132</td>\n",
        "      <td> [9.12317482289e-05, 2.84736361209e-05, 6.52904...</td>\n",
        "    </tr>\n",
        "    <tr>\n",
        "      <th>331</th>\n",
        "      <td> user_000569</td>\n",
        "      <td> [0.000115048125735, 2.79650739685e-05, 6.67674...</td>\n",
        "    </tr>\n",
        "    <tr>\n",
        "      <th>332</th>\n",
        "      <td> user_000112</td>\n",
        "      <td> [0.00102727115154, 0.00107386440504, 1.2278343...</td>\n",
        "    </tr>\n",
        "    <tr>\n",
        "      <th>333</th>\n",
        "      <td> user_000850</td>\n",
        "      <td> [0.000682807934936, 0.0, 0.0, 0.0, 0.0, 0.0, 0...</td>\n",
        "    </tr>\n",
        "    <tr>\n",
        "      <th>334</th>\n",
        "      <td> user_000849</td>\n",
        "      <td> [8.97097124835e-05, 3.5049924918e-05, 5.267657...</td>\n",
        "    </tr>\n",
        "    <tr>\n",
        "      <th>335</th>\n",
        "      <td> user_000383</td>\n",
        "      <td> [0.000296241923934, 0.00141386163887, 0.000204...</td>\n",
        "    </tr>\n",
        "    <tr>\n",
        "      <th>336</th>\n",
        "      <td> user_000089</td>\n",
        "      <td> [8.87768910616e-05, 2.82049877569e-05, 0.00174...</td>\n",
        "    </tr>\n",
        "    <tr>\n",
        "      <th>337</th>\n",
        "      <td> user_000239</td>\n",
        "      <td> [1.52089978656e-05, 4.91717173645e-06, 9.01789...</td>\n",
        "    </tr>\n",
        "    <tr>\n",
        "      <th>338</th>\n",
        "      <td> user_000795</td>\n",
        "      <td> [0.0, 0.0, 0.0, 0.0, 0.001506372937, 0.0, 0.0,...</td>\n",
        "    </tr>\n",
        "    <tr>\n",
        "      <th>339</th>\n",
        "      <td> user_000659</td>\n",
        "      <td> [0.0025852851104, 0.000807116448414, 0.0016013...</td>\n",
        "    </tr>\n",
        "    <tr>\n",
        "      <th>340</th>\n",
        "      <td> user_000426</td>\n",
        "      <td> [0.000712042383384, 8.33337762742e-05, 0.00016...</td>\n",
        "    </tr>\n",
        "    <tr>\n",
        "      <th>341</th>\n",
        "      <td> user_000830</td>\n",
        "      <td> [0.00150307815056, 0.000687674852088, 9.741089...</td>\n",
        "    </tr>\n",
        "    <tr>\n",
        "      <th>342</th>\n",
        "      <td> user_000078</td>\n",
        "      <td> [1.06940319711e-06, 3.04153331854e-07, 6.67583...</td>\n",
        "    </tr>\n",
        "    <tr>\n",
        "      <th>343</th>\n",
        "      <td> user_000451</td>\n",
        "      <td> [0.00014211650705, 2.88700593956e-05, 6.896055...</td>\n",
        "    </tr>\n",
        "    <tr>\n",
        "      <th>344</th>\n",
        "      <td> user_000728</td>\n",
        "      <td> [6.30600698059e-05, 0.00161513744388, 0.000311...</td>\n",
        "    </tr>\n",
        "    <tr>\n",
        "      <th>345</th>\n",
        "      <td> user_000961</td>\n",
        "      <td> [0.000625814136583, 1.66738554981e-05, 0.00104...</td>\n",
        "    </tr>\n",
        "    <tr>\n",
        "      <th>346</th>\n",
        "      <td> user_000573</td>\n",
        "      <td> [0.00132221996319, 7.60277714562e-07, 1.118373...</td>\n",
        "    </tr>\n",
        "  </tbody>\n",
        "</table>\n",
        "<p>347 rows \u00d7 2 columns</p>\n",
        "</div>"
       ],
       "metadata": {},
       "output_type": "pyout",
       "prompt_number": 135,
       "text": [
        "            user                                            factors\n",
        "0    user_000234  [1.28642004711e-05, 2.25128296734e-05, 0.00036...\n",
        "1    user_000503  [0.00120336655527, 0.000332810013788, 0.000657...\n",
        "2    user_000885  [0.000210969941691, 5.97795042268e-05, 0.00011...\n",
        "3    user_000085  [0.0, 0.00145214586519, 0.00112342112698, 0.00...\n",
        "4    user_000008  [0.00493567669764, 0.00170248304494, 0.0028940...\n",
        "5    user_000685  [4.56358102383e-05, 0.00103177700657, 2.858248...\n",
        "6    user_000612  [0.00210373359732, 7.03212062945e-05, 0.001483...\n",
        "7    user_000033  [0.00404176209122, 0.00106863980182, 0.0039111...\n",
        "8    user_000709  [4.44823890575e-05, 8.01917667559e-06, 0.00065...\n",
        "9    user_000732  [2.26007045967e-06, 9.89347881841e-07, 0.00099...\n",
        "10   user_000525  [0.00678127538413, 0.00239346874878, 0.0038987...\n",
        "11   user_000628  [0.000575391575694, 0.000156030568178, 0.00031...\n",
        "12   user_000284  [8.8381137175e-05, 0.0, 0.0, 0.00147623487283,...\n",
        "13   user_000141  [0.00636836513877, 0.00172780093271, 0.0028778...\n",
        "14   user_000147  [0.00297153065912, 0.000585011206567, 0.001102...\n",
        "15   user_000349  [0.000509824953042, 0.000570101721678, 0.00028...\n",
        "16   user_000653  [0.000485124008264, 4.06071478665e-08, 0.0, 0....\n",
        "17   user_000452  [0.000322995474562, 0.000106976891402, 0.00065...\n",
        "18   user_000275  [0.00256666820496, 0.000861599051859, 0.002369...\n",
        "19   user_000980  [0.00158541358542, 0.000469106133096, 0.000941...\n",
        "20   user_000999  [0.00314122019336, 0.000726687896531, 0.000810...\n",
        "21   user_000075  [0.000177434456418, 0.000611351279076, 8.78650...\n",
        "22   user_000920  [0.00144264975097, 0.000419920455897, 0.000795...\n",
        "23   user_000710  [0.000474142492749, 0.00180837814696, 0.000264...\n",
        "24   user_000269  [0.000357789569534, 0.000773789535742, 0.00023...\n",
        "25   user_000054  [0.000342011451721, 7.17696093488e-05, 0.00016...\n",
        "26   user_000353  [1.16928640637e-05, 4.47207139587e-06, 7.94954...\n",
        "27   user_000798  [0.00215102755465, 0.00159330049064, 0.0016831...\n",
        "28   user_000781  [0.000189241123735, 0.000943561433814, 0.00010...\n",
        "29   user_000493  [2.96570692626e-06, 8.59389217567e-07, 1.70407...\n",
        "..           ...                                                ...\n",
        "317  user_000006  [0.000161519055837, 4.2083189328e-05, 0.000558...\n",
        "318  user_000390  [0.0, 0.000835841172375, 5.12535189046e-05, 0....\n",
        "319  user_000707  [2.26859970098e-06, 0.000130892396555, 1.23983...\n",
        "320  user_000347  [0.000225586205488, 2.03677132049e-06, 5.92607...\n",
        "321  user_000303  [4.08071209677e-05, 1.51978229042e-05, 2.63571...\n",
        "322  user_000832  [0.0, 0.0, 0.0, 0.0, 0.0, 0.0, 0.0, 0.0, 0.000...\n",
        "323  user_000264  [4.52765380032e-05, 1.06131328721e-05, 2.75646...\n",
        "324  user_000918  [0.0, 0.000486326112878, 0.0, 0.0, 0.0, 0.0, 0...\n",
        "325  user_000627  [0.00018549116794, 5.2316194342e-05, 9.7832002...\n",
        "326  user_000768  [0.000451337196864, 0.000142025091918, 0.00029...\n",
        "327  user_000420  [3.0987073842e-05, 9.54640563577e-06, 1.951916...\n",
        "328  user_000469  [0.00100924354047, 0.000320258492138, 0.000603...\n",
        "329  user_000761  [0.000112515721412, 3.34125179506e-05, 6.26217...\n",
        "330  user_000132  [9.12317482289e-05, 2.84736361209e-05, 6.52904...\n",
        "331  user_000569  [0.000115048125735, 2.79650739685e-05, 6.67674...\n",
        "332  user_000112  [0.00102727115154, 0.00107386440504, 1.2278343...\n",
        "333  user_000850  [0.000682807934936, 0.0, 0.0, 0.0, 0.0, 0.0, 0...\n",
        "334  user_000849  [8.97097124835e-05, 3.5049924918e-05, 5.267657...\n",
        "335  user_000383  [0.000296241923934, 0.00141386163887, 0.000204...\n",
        "336  user_000089  [8.87768910616e-05, 2.82049877569e-05, 0.00174...\n",
        "337  user_000239  [1.52089978656e-05, 4.91717173645e-06, 9.01789...\n",
        "338  user_000795  [0.0, 0.0, 0.0, 0.0, 0.001506372937, 0.0, 0.0,...\n",
        "339  user_000659  [0.0025852851104, 0.000807116448414, 0.0016013...\n",
        "340  user_000426  [0.000712042383384, 8.33337762742e-05, 0.00016...\n",
        "341  user_000830  [0.00150307815056, 0.000687674852088, 9.741089...\n",
        "342  user_000078  [1.06940319711e-06, 3.04153331854e-07, 6.67583...\n",
        "343  user_000451  [0.00014211650705, 2.88700593956e-05, 6.896055...\n",
        "344  user_000728  [6.30600698059e-05, 0.00161513744388, 0.000311...\n",
        "345  user_000961  [0.000625814136583, 1.66738554981e-05, 0.00104...\n",
        "346  user_000573  [0.00132221996319, 7.60277714562e-07, 1.118373...\n",
        "\n",
        "[347 rows x 2 columns]"
       ]
      }
     ],
     "prompt_number": 135
    },
    {
     "cell_type": "code",
     "collapsed": false,
     "input": [
      "import numpy as np\n",
      "\n",
      "ten_d_factors = np.array(song_df[song_df['artist_song'] == 'Tenacious D: Beelzeboss (The Final Showdown)']['factors'].values[0])\n",
      "\n",
      "user_000234_factors = np.array(user_df[user_df['user'] == 'user_000234']['factors'].values[0])\n",
      "\n",
      "np.dot(user_000234_factors, ten_d_factors.T)\n",
      "## does not equal the predicted - very confused"
     ],
     "language": "python",
     "metadata": {},
     "outputs": [
      {
       "metadata": {},
       "output_type": "pyout",
       "prompt_number": 142,
       "text": [
        "4.4036297378819279e-05"
       ]
      }
     ],
     "prompt_number": 142
    },
    {
     "cell_type": "code",
     "collapsed": false,
     "input": [
      "ten_d_factors"
     ],
     "language": "python",
     "metadata": {},
     "outputs": [
      {
       "metadata": {},
       "output_type": "pyout",
       "prompt_number": 143,
       "text": [
        "array([ 0.0759577 ,  0.02350485,  0.045374  ,  0.02316483,  0.04114467,\n",
        "        0.02839064,  0.02699466,  0.01701508,  0.0215646 ,  0.02241486,\n",
        "        0.033234  ,  0.0348015 ,  0.02216143,  0.06005603,  0.01065197,\n",
        "        0.0278203 ,  0.03002236,  0.04416378,  0.0340133 ,  0.03521375])"
       ]
      }
     ],
     "prompt_number": 143
    },
    {
     "cell_type": "code",
     "collapsed": false,
     "input": [
      "train_set3 = r.normalize_by_column(train_set2, 'song', 'Count', 'norm')"
     ],
     "language": "python",
     "metadata": {},
     "outputs": [],
     "prompt_number": 176
    },
    {
     "cell_type": "code",
     "collapsed": false,
     "input": [
      "train_set3['norm'] = 1"
     ],
     "language": "python",
     "metadata": {},
     "outputs": [],
     "prompt_number": 167
    },
    {
     "cell_type": "code",
     "collapsed": false,
     "input": [
      "train_set3"
     ],
     "language": "python",
     "metadata": {},
     "outputs": [
      {
       "html": [
        "<div style=\"max-height:1000px;max-width:1500px;overflow:auto;\"><table frame=\"box\" rules=\"cols\">\n",
        "    <tr>\n",
        "        <th style=\"padding-left: 1em; padding-right: 1em; text-align: center\">artist</th>\n",
        "        <th style=\"padding-left: 1em; padding-right: 1em; text-align: center\">song</th>\n",
        "        <th style=\"padding-left: 1em; padding-right: 1em; text-align: center\">user</th>\n",
        "        <th style=\"padding-left: 1em; padding-right: 1em; text-align: center\">Count</th>\n",
        "        <th style=\"padding-left: 1em; padding-right: 1em; text-align: center\">artist_song</th>\n",
        "        <th style=\"padding-left: 1em; padding-right: 1em; text-align: center\">total_cnt</th>\n",
        "    </tr>\n",
        "    <tr>\n",
        "        <td style=\"padding-left: 1em; padding-right: 1em; text-align: center; vertical-align: top\">The Frames</td>\n",
        "        <td style=\"padding-left: 1em; padding-right: 1em; text-align: center; vertical-align: top\">What Happens When The<br>Heart Just Stops</td>\n",
        "        <td style=\"padding-left: 1em; padding-right: 1em; text-align: center; vertical-align: top\">user_000503</td>\n",
        "        <td style=\"padding-left: 1em; padding-right: 1em; text-align: center; vertical-align: top\">33</td>\n",
        "        <td style=\"padding-left: 1em; padding-right: 1em; text-align: center; vertical-align: top\">The Frames: What Happens<br>When The Heart Just S ...</td>\n",
        "        <td style=\"padding-left: 1em; padding-right: 1em; text-align: center; vertical-align: top\">13872</td>\n",
        "    </tr>\n",
        "    <tr>\n",
        "        <td style=\"padding-left: 1em; padding-right: 1em; text-align: center; vertical-align: top\">Jakalope</td>\n",
        "        <td style=\"padding-left: 1em; padding-right: 1em; text-align: center; vertical-align: top\">Nothing Nowhere</td>\n",
        "        <td style=\"padding-left: 1em; padding-right: 1em; text-align: center; vertical-align: top\">user_000885</td>\n",
        "        <td style=\"padding-left: 1em; padding-right: 1em; text-align: center; vertical-align: top\">33</td>\n",
        "        <td style=\"padding-left: 1em; padding-right: 1em; text-align: center; vertical-align: top\">Jakalope: Nothing Nowhere</td>\n",
        "        <td style=\"padding-left: 1em; padding-right: 1em; text-align: center; vertical-align: top\">15233</td>\n",
        "    </tr>\n",
        "    <tr>\n",
        "        <td style=\"padding-left: 1em; padding-right: 1em; text-align: center; vertical-align: top\">Strike Anywhere</td>\n",
        "        <td style=\"padding-left: 1em; padding-right: 1em; text-align: center; vertical-align: top\">You'Re Fired</td>\n",
        "        <td style=\"padding-left: 1em; padding-right: 1em; text-align: center; vertical-align: top\">user_000085</td>\n",
        "        <td style=\"padding-left: 1em; padding-right: 1em; text-align: center; vertical-align: top\">37</td>\n",
        "        <td style=\"padding-left: 1em; padding-right: 1em; text-align: center; vertical-align: top\">Strike Anywhere: You'Re<br>Fired</td>\n",
        "        <td style=\"padding-left: 1em; padding-right: 1em; text-align: center; vertical-align: top\">4433</td>\n",
        "    </tr>\n",
        "    <tr>\n",
        "        <td style=\"padding-left: 1em; padding-right: 1em; text-align: center; vertical-align: top\">Field Mob</td>\n",
        "        <td style=\"padding-left: 1em; padding-right: 1em; text-align: center; vertical-align: top\">At The Park</td>\n",
        "        <td style=\"padding-left: 1em; padding-right: 1em; text-align: center; vertical-align: top\">user_000685</td>\n",
        "        <td style=\"padding-left: 1em; padding-right: 1em; text-align: center; vertical-align: top\">43</td>\n",
        "        <td style=\"padding-left: 1em; padding-right: 1em; text-align: center; vertical-align: top\">Field Mob: At The Park</td>\n",
        "        <td style=\"padding-left: 1em; padding-right: 1em; text-align: center; vertical-align: top\">25250</td>\n",
        "    </tr>\n",
        "    <tr>\n",
        "        <td style=\"padding-left: 1em; padding-right: 1em; text-align: center; vertical-align: top\">Hocico</td>\n",
        "        <td style=\"padding-left: 1em; padding-right: 1em; text-align: center; vertical-align: top\">About A Dead</td>\n",
        "        <td style=\"padding-left: 1em; padding-right: 1em; text-align: center; vertical-align: top\">user_000612</td>\n",
        "        <td style=\"padding-left: 1em; padding-right: 1em; text-align: center; vertical-align: top\">44</td>\n",
        "        <td style=\"padding-left: 1em; padding-right: 1em; text-align: center; vertical-align: top\">Hocico: About A Dead</td>\n",
        "        <td style=\"padding-left: 1em; padding-right: 1em; text-align: center; vertical-align: top\">24005</td>\n",
        "    </tr>\n",
        "    <tr>\n",
        "        <td style=\"padding-left: 1em; padding-right: 1em; text-align: center; vertical-align: top\">\\xe3\\x83\\xa0\\xe3\\x83\\x83\\<br>xe3\\x82\\xaf</td>\n",
        "        <td style=\"padding-left: 1em; padding-right: 1em; text-align: center; vertical-align: top\">Saishuu Ressha</td>\n",
        "        <td style=\"padding-left: 1em; padding-right: 1em; text-align: center; vertical-align: top\">user_000033</td>\n",
        "        <td style=\"padding-left: 1em; padding-right: 1em; text-align: center; vertical-align: top\">50</td>\n",
        "        <td style=\"padding-left: 1em; padding-right: 1em; text-align: center; vertical-align: top\">\\xe3\\x83\\xa0\\xe3\\x83\\x83\\<br>xe3\\x82\\xaf: Saishuu ...</td>\n",
        "        <td style=\"padding-left: 1em; padding-right: 1em; text-align: center; vertical-align: top\">28807</td>\n",
        "    </tr>\n",
        "    <tr>\n",
        "        <td style=\"padding-left: 1em; padding-right: 1em; text-align: center; vertical-align: top\">The Goo Goo Dolls</td>\n",
        "        <td style=\"padding-left: 1em; padding-right: 1em; text-align: center; vertical-align: top\">Iris</td>\n",
        "        <td style=\"padding-left: 1em; padding-right: 1em; text-align: center; vertical-align: top\">user_000709</td>\n",
        "        <td style=\"padding-left: 1em; padding-right: 1em; text-align: center; vertical-align: top\">27</td>\n",
        "        <td style=\"padding-left: 1em; padding-right: 1em; text-align: center; vertical-align: top\">The Goo Goo Dolls: Iris</td>\n",
        "        <td style=\"padding-left: 1em; padding-right: 1em; text-align: center; vertical-align: top\">28058</td>\n",
        "    </tr>\n",
        "    <tr>\n",
        "        <td style=\"padding-left: 1em; padding-right: 1em; text-align: center; vertical-align: top\">Live</td>\n",
        "        <td style=\"padding-left: 1em; padding-right: 1em; text-align: center; vertical-align: top\">The Distance</td>\n",
        "        <td style=\"padding-left: 1em; padding-right: 1em; text-align: center; vertical-align: top\">user_000732</td>\n",
        "        <td style=\"padding-left: 1em; padding-right: 1em; text-align: center; vertical-align: top\">36</td>\n",
        "        <td style=\"padding-left: 1em; padding-right: 1em; text-align: center; vertical-align: top\">Live: The Distance</td>\n",
        "        <td style=\"padding-left: 1em; padding-right: 1em; text-align: center; vertical-align: top\">10504</td>\n",
        "    </tr>\n",
        "    <tr>\n",
        "        <td style=\"padding-left: 1em; padding-right: 1em; text-align: center; vertical-align: top\">Death Cab For Cutie</td>\n",
        "        <td style=\"padding-left: 1em; padding-right: 1em; text-align: center; vertical-align: top\">06 Track 6</td>\n",
        "        <td style=\"padding-left: 1em; padding-right: 1em; text-align: center; vertical-align: top\">user_000525</td>\n",
        "        <td style=\"padding-left: 1em; padding-right: 1em; text-align: center; vertical-align: top\">35</td>\n",
        "        <td style=\"padding-left: 1em; padding-right: 1em; text-align: center; vertical-align: top\">Death Cab For Cutie: 06<br>Track 6</td>\n",
        "        <td style=\"padding-left: 1em; padding-right: 1em; text-align: center; vertical-align: top\">7754</td>\n",
        "    </tr>\n",
        "    <tr>\n",
        "        <td style=\"padding-left: 1em; padding-right: 1em; text-align: center; vertical-align: top\">Kanye West</td>\n",
        "        <td style=\"padding-left: 1em; padding-right: 1em; text-align: center; vertical-align: top\">Coldest Winter</td>\n",
        "        <td style=\"padding-left: 1em; padding-right: 1em; text-align: center; vertical-align: top\">user_000008</td>\n",
        "        <td style=\"padding-left: 1em; padding-right: 1em; text-align: center; vertical-align: top\">600</td>\n",
        "        <td style=\"padding-left: 1em; padding-right: 1em; text-align: center; vertical-align: top\">Kanye West: Coldest<br>Winter</td>\n",
        "        <td style=\"padding-left: 1em; padding-right: 1em; text-align: center; vertical-align: top\">11210</td>\n",
        "    </tr>\n",
        "</table>\n",
        "<table frame=\"box\" rules=\"cols\">\n",
        "    <tr>\n",
        "        <th style=\"padding-left: 1em; padding-right: 1em; text-align: center\">norm</th>\n",
        "        <th style=\"padding-left: 1em; padding-right: 1em; text-align: center\">binary</th>\n",
        "        <th style=\"padding-left: 1em; padding-right: 1em; text-align: center\">norm_song</th>\n",
        "    </tr>\n",
        "    <tr>\n",
        "        <td style=\"padding-left: 1em; padding-right: 1em; text-align: center; vertical-align: top\">0.00237889273356</td>\n",
        "        <td style=\"padding-left: 1em; padding-right: 1em; text-align: center; vertical-align: top\">1</td>\n",
        "        <td style=\"padding-left: 1em; padding-right: 1em; text-align: center; vertical-align: top\">1.71488807206e-07</td>\n",
        "    </tr>\n",
        "    <tr>\n",
        "        <td style=\"padding-left: 1em; padding-right: 1em; text-align: center; vertical-align: top\">0.00216634937307</td>\n",
        "        <td style=\"padding-left: 1em; padding-right: 1em; text-align: center; vertical-align: top\">1</td>\n",
        "        <td style=\"padding-left: 1em; padding-right: 1em; text-align: center; vertical-align: top\">1.42214230491e-07</td>\n",
        "    </tr>\n",
        "    <tr>\n",
        "        <td style=\"padding-left: 1em; padding-right: 1em; text-align: center; vertical-align: top\">0.00834649221746</td>\n",
        "        <td style=\"padding-left: 1em; padding-right: 1em; text-align: center; vertical-align: top\">1</td>\n",
        "        <td style=\"padding-left: 1em; padding-right: 1em; text-align: center; vertical-align: top\">1.88280898206e-06</td>\n",
        "    </tr>\n",
        "    <tr>\n",
        "        <td style=\"padding-left: 1em; padding-right: 1em; text-align: center; vertical-align: top\">0.00170297029703</td>\n",
        "        <td style=\"padding-left: 1em; padding-right: 1em; text-align: center; vertical-align: top\">1</td>\n",
        "        <td style=\"padding-left: 1em; padding-right: 1em; text-align: center; vertical-align: top\">6.74443681992e-08</td>\n",
        "    </tr>\n",
        "    <tr>\n",
        "        <td style=\"padding-left: 1em; padding-right: 1em; text-align: center; vertical-align: top\">0.00183295146844</td>\n",
        "        <td style=\"padding-left: 1em; padding-right: 1em; text-align: center; vertical-align: top\">1</td>\n",
        "        <td style=\"padding-left: 1em; padding-right: 1em; text-align: center; vertical-align: top\">7.63570701289e-08</td>\n",
        "    </tr>\n",
        "    <tr>\n",
        "        <td style=\"padding-left: 1em; padding-right: 1em; text-align: center; vertical-align: top\">0.0017356892422</td>\n",
        "        <td style=\"padding-left: 1em; padding-right: 1em; text-align: center; vertical-align: top\">1</td>\n",
        "        <td style=\"padding-left: 1em; padding-right: 1em; text-align: center; vertical-align: top\">6.02523429096e-08</td>\n",
        "    </tr>\n",
        "    <tr>\n",
        "        <td style=\"padding-left: 1em; padding-right: 1em; text-align: center; vertical-align: top\">0.000962292394326</td>\n",
        "        <td style=\"padding-left: 1em; padding-right: 1em; text-align: center; vertical-align: top\">1</td>\n",
        "        <td style=\"padding-left: 1em; padding-right: 1em; text-align: center; vertical-align: top\">3.42965426732e-08</td>\n",
        "    </tr>\n",
        "    <tr>\n",
        "        <td style=\"padding-left: 1em; padding-right: 1em; text-align: center; vertical-align: top\">0.0034272658035</td>\n",
        "        <td style=\"padding-left: 1em; padding-right: 1em; text-align: center; vertical-align: top\">1</td>\n",
        "        <td style=\"padding-left: 1em; padding-right: 1em; text-align: center; vertical-align: top\">3.26281969107e-07</td>\n",
        "    </tr>\n",
        "    <tr>\n",
        "        <td style=\"padding-left: 1em; padding-right: 1em; text-align: center; vertical-align: top\">0.00451379932938</td>\n",
        "        <td style=\"padding-left: 1em; padding-right: 1em; text-align: center; vertical-align: top\">1</td>\n",
        "        <td style=\"padding-left: 1em; padding-right: 1em; text-align: center; vertical-align: top\">5.82125268168e-07</td>\n",
        "    </tr>\n",
        "    <tr>\n",
        "        <td style=\"padding-left: 1em; padding-right: 1em; text-align: center; vertical-align: top\">0.0535236396075</td>\n",
        "        <td style=\"padding-left: 1em; padding-right: 1em; text-align: center; vertical-align: top\">1</td>\n",
        "        <td style=\"padding-left: 1em; padding-right: 1em; text-align: center; vertical-align: top\">4.77463332805e-06</td>\n",
        "    </tr>\n",
        "    <tr>\n",
        "        <td style=\"padding-left: 1em; padding-right: 1em; text-align: center; vertical-align: top\">...</td>\n",
        "        <td style=\"padding-left: 1em; padding-right: 1em; text-align: center; vertical-align: top\">...</td>\n",
        "        <td style=\"padding-left: 1em; padding-right: 1em; text-align: center; vertical-align: top\">...</td>\n",
        "    </tr>\n",
        "</table>\n",
        "[7204 rows x 9 columns]<br/>Note: Only the head of the SFrame is printed.<br/>You can use print_rows(num_rows=m, num_columns=n) to print more rows and columns.\n",
        "</div>"
       ],
       "metadata": {},
       "output_type": "pyout",
       "prompt_number": 177,
       "text": [
        "Columns:\n",
        "\tartist\tstr\n",
        "\tsong\tstr\n",
        "\tuser\tstr\n",
        "\tCount\tint\n",
        "\tartist_song\tstr\n",
        "\ttotal_cnt\tint\n",
        "\tnorm\tfloat\n",
        "\tbinary\tint\n",
        "\tnorm_song\tfloat\n",
        "\n",
        "Rows: 7204\n",
        "\n",
        "Data:\n",
        "+--------------------------------+--------------------------------+-------------+\n",
        "|             artist             |              song              |     user    |\n",
        "+--------------------------------+--------------------------------+-------------+\n",
        "|           The Frames           | What Happens When The Hear ... | user_000503 |\n",
        "|            Jakalope            |        Nothing Nowhere         | user_000885 |\n",
        "|        Strike Anywhere         |          You'Re Fired          | user_000085 |\n",
        "|           Field Mob            |          At The Park           | user_000685 |\n",
        "|             Hocico             |          About A Dead          | user_000612 |\n",
        "| \\xe3\\x83\\xa0\\xe3\\x83\\x83\\x ... |         Saishuu Ressha         | user_000033 |\n",
        "|       The Goo Goo Dolls        |              Iris              | user_000709 |\n",
        "|              Live              |          The Distance          | user_000732 |\n",
        "|      Death Cab For Cutie       |           06 Track 6           | user_000525 |\n",
        "|           Kanye West           |         Coldest Winter         | user_000008 |\n",
        "+--------------------------------+--------------------------------+-------------+\n",
        "+-------+--------------------------------+-----------+-------------------+--------+\n",
        "| Count |          artist_song           | total_cnt |        norm       | binary |\n",
        "+-------+--------------------------------+-----------+-------------------+--------+\n",
        "|   33  | The Frames: What Happens W ... |   13872   |  0.00237889273356 |   1    |\n",
        "|   33  |   Jakalope: Nothing Nowhere    |   15233   |  0.00216634937307 |   1    |\n",
        "|   37  | Strike Anywhere: You'Re Fired  |    4433   |  0.00834649221746 |   1    |\n",
        "|   43  |     Field Mob: At The Park     |   25250   |  0.00170297029703 |   1    |\n",
        "|   44  |      Hocico: About A Dead      |   24005   |  0.00183295146844 |   1    |\n",
        "|   50  | \\xe3\\x83\\xa0\\xe3\\x83\\x83\\x ... |   28807   |  0.0017356892422  |   1    |\n",
        "|   27  |    The Goo Goo Dolls: Iris     |   28058   | 0.000962292394326 |   1    |\n",
        "|   36  |       Live: The Distance       |   10504   |  0.0034272658035  |   1    |\n",
        "|   35  | Death Cab For Cutie: 06 Tr ... |    7754   |  0.00451379932938 |   1    |\n",
        "|  600  |   Kanye West: Coldest Winter   |   11210   |  0.0535236396075  |   1    |\n",
        "+-------+--------------------------------+-----------+-------------------+--------+\n",
        "+-------------------+\n",
        "|     norm_song     |\n",
        "+-------------------+\n",
        "| 1.71488807206e-07 |\n",
        "| 1.42214230491e-07 |\n",
        "| 1.88280898206e-06 |\n",
        "| 6.74443681992e-08 |\n",
        "| 7.63570701289e-08 |\n",
        "| 6.02523429096e-08 |\n",
        "| 3.42965426732e-08 |\n",
        "| 3.26281969107e-07 |\n",
        "| 5.82125268168e-07 |\n",
        "| 4.77463332805e-06 |\n",
        "|        ...        |\n",
        "+-------------------+\n",
        "[7204 rows x 9 columns]\n",
        "Note: Only the head of the SFrame is printed.\n",
        "You can use print_rows(num_rows=m, num_columns=n) to print more rows and columns."
       ]
      }
     ],
     "prompt_number": 177
    },
    {
     "cell_type": "code",
     "collapsed": false,
     "input": [
      "train_set2[:10]"
     ],
     "language": "python",
     "metadata": {},
     "outputs": [
      {
       "html": [
        "<div style=\"max-height:1000px;max-width:1500px;overflow:auto;\"><table frame=\"box\" rules=\"cols\">\n",
        "    <tr>\n",
        "        <th style=\"padding-left: 1em; padding-right: 1em; text-align: center\">artist</th>\n",
        "        <th style=\"padding-left: 1em; padding-right: 1em; text-align: center\">song</th>\n",
        "        <th style=\"padding-left: 1em; padding-right: 1em; text-align: center\">user</th>\n",
        "        <th style=\"padding-left: 1em; padding-right: 1em; text-align: center\">Count</th>\n",
        "        <th style=\"padding-left: 1em; padding-right: 1em; text-align: center\">artist_song</th>\n",
        "        <th style=\"padding-left: 1em; padding-right: 1em; text-align: center\">total_cnt</th>\n",
        "    </tr>\n",
        "    <tr>\n",
        "        <td style=\"padding-left: 1em; padding-right: 1em; text-align: center; vertical-align: top\">The Frames</td>\n",
        "        <td style=\"padding-left: 1em; padding-right: 1em; text-align: center; vertical-align: top\">What Happens When The<br>Heart Just Stops</td>\n",
        "        <td style=\"padding-left: 1em; padding-right: 1em; text-align: center; vertical-align: top\">user_000503</td>\n",
        "        <td style=\"padding-left: 1em; padding-right: 1em; text-align: center; vertical-align: top\">33</td>\n",
        "        <td style=\"padding-left: 1em; padding-right: 1em; text-align: center; vertical-align: top\">The Frames: What Happens<br>When The Heart Just S ...</td>\n",
        "        <td style=\"padding-left: 1em; padding-right: 1em; text-align: center; vertical-align: top\">13872</td>\n",
        "    </tr>\n",
        "    <tr>\n",
        "        <td style=\"padding-left: 1em; padding-right: 1em; text-align: center; vertical-align: top\">Jakalope</td>\n",
        "        <td style=\"padding-left: 1em; padding-right: 1em; text-align: center; vertical-align: top\">Nothing Nowhere</td>\n",
        "        <td style=\"padding-left: 1em; padding-right: 1em; text-align: center; vertical-align: top\">user_000885</td>\n",
        "        <td style=\"padding-left: 1em; padding-right: 1em; text-align: center; vertical-align: top\">33</td>\n",
        "        <td style=\"padding-left: 1em; padding-right: 1em; text-align: center; vertical-align: top\">Jakalope: Nothing Nowhere</td>\n",
        "        <td style=\"padding-left: 1em; padding-right: 1em; text-align: center; vertical-align: top\">15233</td>\n",
        "    </tr>\n",
        "    <tr>\n",
        "        <td style=\"padding-left: 1em; padding-right: 1em; text-align: center; vertical-align: top\">Strike Anywhere</td>\n",
        "        <td style=\"padding-left: 1em; padding-right: 1em; text-align: center; vertical-align: top\">You'Re Fired</td>\n",
        "        <td style=\"padding-left: 1em; padding-right: 1em; text-align: center; vertical-align: top\">user_000085</td>\n",
        "        <td style=\"padding-left: 1em; padding-right: 1em; text-align: center; vertical-align: top\">37</td>\n",
        "        <td style=\"padding-left: 1em; padding-right: 1em; text-align: center; vertical-align: top\">Strike Anywhere: You'Re<br>Fired</td>\n",
        "        <td style=\"padding-left: 1em; padding-right: 1em; text-align: center; vertical-align: top\">4433</td>\n",
        "    </tr>\n",
        "    <tr>\n",
        "        <td style=\"padding-left: 1em; padding-right: 1em; text-align: center; vertical-align: top\">Field Mob</td>\n",
        "        <td style=\"padding-left: 1em; padding-right: 1em; text-align: center; vertical-align: top\">At The Park</td>\n",
        "        <td style=\"padding-left: 1em; padding-right: 1em; text-align: center; vertical-align: top\">user_000685</td>\n",
        "        <td style=\"padding-left: 1em; padding-right: 1em; text-align: center; vertical-align: top\">43</td>\n",
        "        <td style=\"padding-left: 1em; padding-right: 1em; text-align: center; vertical-align: top\">Field Mob: At The Park</td>\n",
        "        <td style=\"padding-left: 1em; padding-right: 1em; text-align: center; vertical-align: top\">25250</td>\n",
        "    </tr>\n",
        "    <tr>\n",
        "        <td style=\"padding-left: 1em; padding-right: 1em; text-align: center; vertical-align: top\">Hocico</td>\n",
        "        <td style=\"padding-left: 1em; padding-right: 1em; text-align: center; vertical-align: top\">About A Dead</td>\n",
        "        <td style=\"padding-left: 1em; padding-right: 1em; text-align: center; vertical-align: top\">user_000612</td>\n",
        "        <td style=\"padding-left: 1em; padding-right: 1em; text-align: center; vertical-align: top\">44</td>\n",
        "        <td style=\"padding-left: 1em; padding-right: 1em; text-align: center; vertical-align: top\">Hocico: About A Dead</td>\n",
        "        <td style=\"padding-left: 1em; padding-right: 1em; text-align: center; vertical-align: top\">24005</td>\n",
        "    </tr>\n",
        "    <tr>\n",
        "        <td style=\"padding-left: 1em; padding-right: 1em; text-align: center; vertical-align: top\">\\xe3\\x83\\xa0\\xe3\\x83\\x83\\<br>xe3\\x82\\xaf</td>\n",
        "        <td style=\"padding-left: 1em; padding-right: 1em; text-align: center; vertical-align: top\">Saishuu Ressha</td>\n",
        "        <td style=\"padding-left: 1em; padding-right: 1em; text-align: center; vertical-align: top\">user_000033</td>\n",
        "        <td style=\"padding-left: 1em; padding-right: 1em; text-align: center; vertical-align: top\">50</td>\n",
        "        <td style=\"padding-left: 1em; padding-right: 1em; text-align: center; vertical-align: top\">\\xe3\\x83\\xa0\\xe3\\x83\\x83\\<br>xe3\\x82\\xaf: Saishuu ...</td>\n",
        "        <td style=\"padding-left: 1em; padding-right: 1em; text-align: center; vertical-align: top\">28807</td>\n",
        "    </tr>\n",
        "    <tr>\n",
        "        <td style=\"padding-left: 1em; padding-right: 1em; text-align: center; vertical-align: top\">The Goo Goo Dolls</td>\n",
        "        <td style=\"padding-left: 1em; padding-right: 1em; text-align: center; vertical-align: top\">Iris</td>\n",
        "        <td style=\"padding-left: 1em; padding-right: 1em; text-align: center; vertical-align: top\">user_000709</td>\n",
        "        <td style=\"padding-left: 1em; padding-right: 1em; text-align: center; vertical-align: top\">27</td>\n",
        "        <td style=\"padding-left: 1em; padding-right: 1em; text-align: center; vertical-align: top\">The Goo Goo Dolls: Iris</td>\n",
        "        <td style=\"padding-left: 1em; padding-right: 1em; text-align: center; vertical-align: top\">28058</td>\n",
        "    </tr>\n",
        "    <tr>\n",
        "        <td style=\"padding-left: 1em; padding-right: 1em; text-align: center; vertical-align: top\">Live</td>\n",
        "        <td style=\"padding-left: 1em; padding-right: 1em; text-align: center; vertical-align: top\">The Distance</td>\n",
        "        <td style=\"padding-left: 1em; padding-right: 1em; text-align: center; vertical-align: top\">user_000732</td>\n",
        "        <td style=\"padding-left: 1em; padding-right: 1em; text-align: center; vertical-align: top\">36</td>\n",
        "        <td style=\"padding-left: 1em; padding-right: 1em; text-align: center; vertical-align: top\">Live: The Distance</td>\n",
        "        <td style=\"padding-left: 1em; padding-right: 1em; text-align: center; vertical-align: top\">10504</td>\n",
        "    </tr>\n",
        "    <tr>\n",
        "        <td style=\"padding-left: 1em; padding-right: 1em; text-align: center; vertical-align: top\">Death Cab For Cutie</td>\n",
        "        <td style=\"padding-left: 1em; padding-right: 1em; text-align: center; vertical-align: top\">06 Track 6</td>\n",
        "        <td style=\"padding-left: 1em; padding-right: 1em; text-align: center; vertical-align: top\">user_000525</td>\n",
        "        <td style=\"padding-left: 1em; padding-right: 1em; text-align: center; vertical-align: top\">35</td>\n",
        "        <td style=\"padding-left: 1em; padding-right: 1em; text-align: center; vertical-align: top\">Death Cab For Cutie: 06<br>Track 6</td>\n",
        "        <td style=\"padding-left: 1em; padding-right: 1em; text-align: center; vertical-align: top\">7754</td>\n",
        "    </tr>\n",
        "    <tr>\n",
        "        <td style=\"padding-left: 1em; padding-right: 1em; text-align: center; vertical-align: top\">Kanye West</td>\n",
        "        <td style=\"padding-left: 1em; padding-right: 1em; text-align: center; vertical-align: top\">Coldest Winter</td>\n",
        "        <td style=\"padding-left: 1em; padding-right: 1em; text-align: center; vertical-align: top\">user_000008</td>\n",
        "        <td style=\"padding-left: 1em; padding-right: 1em; text-align: center; vertical-align: top\">600</td>\n",
        "        <td style=\"padding-left: 1em; padding-right: 1em; text-align: center; vertical-align: top\">Kanye West: Coldest<br>Winter</td>\n",
        "        <td style=\"padding-left: 1em; padding-right: 1em; text-align: center; vertical-align: top\">11210</td>\n",
        "    </tr>\n",
        "</table>\n",
        "<table frame=\"box\" rules=\"cols\">\n",
        "    <tr>\n",
        "        <th style=\"padding-left: 1em; padding-right: 1em; text-align: center\">norm</th>\n",
        "        <th style=\"padding-left: 1em; padding-right: 1em; text-align: center\">binary</th>\n",
        "    </tr>\n",
        "    <tr>\n",
        "        <td style=\"padding-left: 1em; padding-right: 1em; text-align: center; vertical-align: top\">0.00237889273356</td>\n",
        "        <td style=\"padding-left: 1em; padding-right: 1em; text-align: center; vertical-align: top\">1</td>\n",
        "    </tr>\n",
        "    <tr>\n",
        "        <td style=\"padding-left: 1em; padding-right: 1em; text-align: center; vertical-align: top\">0.00216634937307</td>\n",
        "        <td style=\"padding-left: 1em; padding-right: 1em; text-align: center; vertical-align: top\">1</td>\n",
        "    </tr>\n",
        "    <tr>\n",
        "        <td style=\"padding-left: 1em; padding-right: 1em; text-align: center; vertical-align: top\">0.00834649221746</td>\n",
        "        <td style=\"padding-left: 1em; padding-right: 1em; text-align: center; vertical-align: top\">1</td>\n",
        "    </tr>\n",
        "    <tr>\n",
        "        <td style=\"padding-left: 1em; padding-right: 1em; text-align: center; vertical-align: top\">0.00170297029703</td>\n",
        "        <td style=\"padding-left: 1em; padding-right: 1em; text-align: center; vertical-align: top\">1</td>\n",
        "    </tr>\n",
        "    <tr>\n",
        "        <td style=\"padding-left: 1em; padding-right: 1em; text-align: center; vertical-align: top\">0.00183295146844</td>\n",
        "        <td style=\"padding-left: 1em; padding-right: 1em; text-align: center; vertical-align: top\">1</td>\n",
        "    </tr>\n",
        "    <tr>\n",
        "        <td style=\"padding-left: 1em; padding-right: 1em; text-align: center; vertical-align: top\">0.0017356892422</td>\n",
        "        <td style=\"padding-left: 1em; padding-right: 1em; text-align: center; vertical-align: top\">1</td>\n",
        "    </tr>\n",
        "    <tr>\n",
        "        <td style=\"padding-left: 1em; padding-right: 1em; text-align: center; vertical-align: top\">0.000962292394326</td>\n",
        "        <td style=\"padding-left: 1em; padding-right: 1em; text-align: center; vertical-align: top\">1</td>\n",
        "    </tr>\n",
        "    <tr>\n",
        "        <td style=\"padding-left: 1em; padding-right: 1em; text-align: center; vertical-align: top\">0.0034272658035</td>\n",
        "        <td style=\"padding-left: 1em; padding-right: 1em; text-align: center; vertical-align: top\">1</td>\n",
        "    </tr>\n",
        "    <tr>\n",
        "        <td style=\"padding-left: 1em; padding-right: 1em; text-align: center; vertical-align: top\">0.00451379932938</td>\n",
        "        <td style=\"padding-left: 1em; padding-right: 1em; text-align: center; vertical-align: top\">1</td>\n",
        "    </tr>\n",
        "    <tr>\n",
        "        <td style=\"padding-left: 1em; padding-right: 1em; text-align: center; vertical-align: top\">0.0535236396075</td>\n",
        "        <td style=\"padding-left: 1em; padding-right: 1em; text-align: center; vertical-align: top\">1</td>\n",
        "    </tr>\n",
        "</table>\n",
        "[10 rows x 8 columns]<br/>\n",
        "</div>"
       ],
       "metadata": {},
       "output_type": "pyout",
       "prompt_number": 172,
       "text": [
        "Columns:\n",
        "\tartist\tstr\n",
        "\tsong\tstr\n",
        "\tuser\tstr\n",
        "\tCount\tint\n",
        "\tartist_song\tstr\n",
        "\ttotal_cnt\tint\n",
        "\tnorm\tfloat\n",
        "\tbinary\tint\n",
        "\n",
        "Rows: 10\n",
        "\n",
        "Data:\n",
        "+--------------------------------+--------------------------------+-------------+\n",
        "|             artist             |              song              |     user    |\n",
        "+--------------------------------+--------------------------------+-------------+\n",
        "|           The Frames           | What Happens When The Hear ... | user_000503 |\n",
        "|            Jakalope            |        Nothing Nowhere         | user_000885 |\n",
        "|        Strike Anywhere         |          You'Re Fired          | user_000085 |\n",
        "|           Field Mob            |          At The Park           | user_000685 |\n",
        "|             Hocico             |          About A Dead          | user_000612 |\n",
        "| \\xe3\\x83\\xa0\\xe3\\x83\\x83\\x ... |         Saishuu Ressha         | user_000033 |\n",
        "|       The Goo Goo Dolls        |              Iris              | user_000709 |\n",
        "|              Live              |          The Distance          | user_000732 |\n",
        "|      Death Cab For Cutie       |           06 Track 6           | user_000525 |\n",
        "|           Kanye West           |         Coldest Winter         | user_000008 |\n",
        "+--------------------------------+--------------------------------+-------------+\n",
        "+-------+--------------------------------+-----------+-------------------+--------+\n",
        "| Count |          artist_song           | total_cnt |        norm       | binary |\n",
        "+-------+--------------------------------+-----------+-------------------+--------+\n",
        "|   33  | The Frames: What Happens W ... |   13872   |  0.00237889273356 |   1    |\n",
        "|   33  |   Jakalope: Nothing Nowhere    |   15233   |  0.00216634937307 |   1    |\n",
        "|   37  | Strike Anywhere: You'Re Fired  |    4433   |  0.00834649221746 |   1    |\n",
        "|   43  |     Field Mob: At The Park     |   25250   |  0.00170297029703 |   1    |\n",
        "|   44  |      Hocico: About A Dead      |   24005   |  0.00183295146844 |   1    |\n",
        "|   50  | \\xe3\\x83\\xa0\\xe3\\x83\\x83\\x ... |   28807   |  0.0017356892422  |   1    |\n",
        "|   27  |    The Goo Goo Dolls: Iris     |   28058   | 0.000962292394326 |   1    |\n",
        "|   36  |       Live: The Distance       |   10504   |  0.0034272658035  |   1    |\n",
        "|   35  | Death Cab For Cutie: 06 Tr ... |    7754   |  0.00451379932938 |   1    |\n",
        "|  600  |   Kanye West: Coldest Winter   |   11210   |  0.0535236396075  |   1    |\n",
        "+-------+--------------------------------+-----------+-------------------+--------+\n",
        "[10 rows x 8 columns]\n"
       ]
      }
     ],
     "prompt_number": 172
    },
    {
     "cell_type": "code",
     "collapsed": false,
     "input": [
      "train_set3"
     ],
     "language": "python",
     "metadata": {},
     "outputs": [
      {
       "html": [
        "<div style=\"max-height:1000px;max-width:1500px;overflow:auto;\"><table frame=\"box\" rules=\"cols\">\n",
        "    <tr>\n",
        "        <th style=\"padding-left: 1em; padding-right: 1em; text-align: center\">artist</th>\n",
        "        <th style=\"padding-left: 1em; padding-right: 1em; text-align: center\">song</th>\n",
        "        <th style=\"padding-left: 1em; padding-right: 1em; text-align: center\">user</th>\n",
        "        <th style=\"padding-left: 1em; padding-right: 1em; text-align: center\">Count</th>\n",
        "        <th style=\"padding-left: 1em; padding-right: 1em; text-align: center\">artist_song</th>\n",
        "        <th style=\"padding-left: 1em; padding-right: 1em; text-align: center\">total_cnt</th>\n",
        "    </tr>\n",
        "    <tr>\n",
        "        <td style=\"padding-left: 1em; padding-right: 1em; text-align: center; vertical-align: top\">The Frames</td>\n",
        "        <td style=\"padding-left: 1em; padding-right: 1em; text-align: center; vertical-align: top\">What Happens When The<br>Heart Just Stops</td>\n",
        "        <td style=\"padding-left: 1em; padding-right: 1em; text-align: center; vertical-align: top\">user_000503</td>\n",
        "        <td style=\"padding-left: 1em; padding-right: 1em; text-align: center; vertical-align: top\">33</td>\n",
        "        <td style=\"padding-left: 1em; padding-right: 1em; text-align: center; vertical-align: top\">The Frames: What Happens<br>When The Heart Just S ...</td>\n",
        "        <td style=\"padding-left: 1em; padding-right: 1em; text-align: center; vertical-align: top\">13872</td>\n",
        "    </tr>\n",
        "    <tr>\n",
        "        <td style=\"padding-left: 1em; padding-right: 1em; text-align: center; vertical-align: top\">Jakalope</td>\n",
        "        <td style=\"padding-left: 1em; padding-right: 1em; text-align: center; vertical-align: top\">Nothing Nowhere</td>\n",
        "        <td style=\"padding-left: 1em; padding-right: 1em; text-align: center; vertical-align: top\">user_000885</td>\n",
        "        <td style=\"padding-left: 1em; padding-right: 1em; text-align: center; vertical-align: top\">33</td>\n",
        "        <td style=\"padding-left: 1em; padding-right: 1em; text-align: center; vertical-align: top\">Jakalope: Nothing Nowhere</td>\n",
        "        <td style=\"padding-left: 1em; padding-right: 1em; text-align: center; vertical-align: top\">15233</td>\n",
        "    </tr>\n",
        "    <tr>\n",
        "        <td style=\"padding-left: 1em; padding-right: 1em; text-align: center; vertical-align: top\">Strike Anywhere</td>\n",
        "        <td style=\"padding-left: 1em; padding-right: 1em; text-align: center; vertical-align: top\">You'Re Fired</td>\n",
        "        <td style=\"padding-left: 1em; padding-right: 1em; text-align: center; vertical-align: top\">user_000085</td>\n",
        "        <td style=\"padding-left: 1em; padding-right: 1em; text-align: center; vertical-align: top\">37</td>\n",
        "        <td style=\"padding-left: 1em; padding-right: 1em; text-align: center; vertical-align: top\">Strike Anywhere: You'Re<br>Fired</td>\n",
        "        <td style=\"padding-left: 1em; padding-right: 1em; text-align: center; vertical-align: top\">4433</td>\n",
        "    </tr>\n",
        "    <tr>\n",
        "        <td style=\"padding-left: 1em; padding-right: 1em; text-align: center; vertical-align: top\">Field Mob</td>\n",
        "        <td style=\"padding-left: 1em; padding-right: 1em; text-align: center; vertical-align: top\">At The Park</td>\n",
        "        <td style=\"padding-left: 1em; padding-right: 1em; text-align: center; vertical-align: top\">user_000685</td>\n",
        "        <td style=\"padding-left: 1em; padding-right: 1em; text-align: center; vertical-align: top\">43</td>\n",
        "        <td style=\"padding-left: 1em; padding-right: 1em; text-align: center; vertical-align: top\">Field Mob: At The Park</td>\n",
        "        <td style=\"padding-left: 1em; padding-right: 1em; text-align: center; vertical-align: top\">25250</td>\n",
        "    </tr>\n",
        "    <tr>\n",
        "        <td style=\"padding-left: 1em; padding-right: 1em; text-align: center; vertical-align: top\">Hocico</td>\n",
        "        <td style=\"padding-left: 1em; padding-right: 1em; text-align: center; vertical-align: top\">About A Dead</td>\n",
        "        <td style=\"padding-left: 1em; padding-right: 1em; text-align: center; vertical-align: top\">user_000612</td>\n",
        "        <td style=\"padding-left: 1em; padding-right: 1em; text-align: center; vertical-align: top\">44</td>\n",
        "        <td style=\"padding-left: 1em; padding-right: 1em; text-align: center; vertical-align: top\">Hocico: About A Dead</td>\n",
        "        <td style=\"padding-left: 1em; padding-right: 1em; text-align: center; vertical-align: top\">24005</td>\n",
        "    </tr>\n",
        "    <tr>\n",
        "        <td style=\"padding-left: 1em; padding-right: 1em; text-align: center; vertical-align: top\">\\xe3\\x83\\xa0\\xe3\\x83\\x83\\<br>xe3\\x82\\xaf</td>\n",
        "        <td style=\"padding-left: 1em; padding-right: 1em; text-align: center; vertical-align: top\">Saishuu Ressha</td>\n",
        "        <td style=\"padding-left: 1em; padding-right: 1em; text-align: center; vertical-align: top\">user_000033</td>\n",
        "        <td style=\"padding-left: 1em; padding-right: 1em; text-align: center; vertical-align: top\">50</td>\n",
        "        <td style=\"padding-left: 1em; padding-right: 1em; text-align: center; vertical-align: top\">\\xe3\\x83\\xa0\\xe3\\x83\\x83\\<br>xe3\\x82\\xaf: Saishuu ...</td>\n",
        "        <td style=\"padding-left: 1em; padding-right: 1em; text-align: center; vertical-align: top\">28807</td>\n",
        "    </tr>\n",
        "    <tr>\n",
        "        <td style=\"padding-left: 1em; padding-right: 1em; text-align: center; vertical-align: top\">The Goo Goo Dolls</td>\n",
        "        <td style=\"padding-left: 1em; padding-right: 1em; text-align: center; vertical-align: top\">Iris</td>\n",
        "        <td style=\"padding-left: 1em; padding-right: 1em; text-align: center; vertical-align: top\">user_000709</td>\n",
        "        <td style=\"padding-left: 1em; padding-right: 1em; text-align: center; vertical-align: top\">27</td>\n",
        "        <td style=\"padding-left: 1em; padding-right: 1em; text-align: center; vertical-align: top\">The Goo Goo Dolls: Iris</td>\n",
        "        <td style=\"padding-left: 1em; padding-right: 1em; text-align: center; vertical-align: top\">28058</td>\n",
        "    </tr>\n",
        "    <tr>\n",
        "        <td style=\"padding-left: 1em; padding-right: 1em; text-align: center; vertical-align: top\">Live</td>\n",
        "        <td style=\"padding-left: 1em; padding-right: 1em; text-align: center; vertical-align: top\">The Distance</td>\n",
        "        <td style=\"padding-left: 1em; padding-right: 1em; text-align: center; vertical-align: top\">user_000732</td>\n",
        "        <td style=\"padding-left: 1em; padding-right: 1em; text-align: center; vertical-align: top\">36</td>\n",
        "        <td style=\"padding-left: 1em; padding-right: 1em; text-align: center; vertical-align: top\">Live: The Distance</td>\n",
        "        <td style=\"padding-left: 1em; padding-right: 1em; text-align: center; vertical-align: top\">10504</td>\n",
        "    </tr>\n",
        "    <tr>\n",
        "        <td style=\"padding-left: 1em; padding-right: 1em; text-align: center; vertical-align: top\">Death Cab For Cutie</td>\n",
        "        <td style=\"padding-left: 1em; padding-right: 1em; text-align: center; vertical-align: top\">06 Track 6</td>\n",
        "        <td style=\"padding-left: 1em; padding-right: 1em; text-align: center; vertical-align: top\">user_000525</td>\n",
        "        <td style=\"padding-left: 1em; padding-right: 1em; text-align: center; vertical-align: top\">35</td>\n",
        "        <td style=\"padding-left: 1em; padding-right: 1em; text-align: center; vertical-align: top\">Death Cab For Cutie: 06<br>Track 6</td>\n",
        "        <td style=\"padding-left: 1em; padding-right: 1em; text-align: center; vertical-align: top\">7754</td>\n",
        "    </tr>\n",
        "    <tr>\n",
        "        <td style=\"padding-left: 1em; padding-right: 1em; text-align: center; vertical-align: top\">Kanye West</td>\n",
        "        <td style=\"padding-left: 1em; padding-right: 1em; text-align: center; vertical-align: top\">Coldest Winter</td>\n",
        "        <td style=\"padding-left: 1em; padding-right: 1em; text-align: center; vertical-align: top\">user_000008</td>\n",
        "        <td style=\"padding-left: 1em; padding-right: 1em; text-align: center; vertical-align: top\">600</td>\n",
        "        <td style=\"padding-left: 1em; padding-right: 1em; text-align: center; vertical-align: top\">Kanye West: Coldest<br>Winter</td>\n",
        "        <td style=\"padding-left: 1em; padding-right: 1em; text-align: center; vertical-align: top\">11210</td>\n",
        "    </tr>\n",
        "</table>\n",
        "<table frame=\"box\" rules=\"cols\">\n",
        "    <tr>\n",
        "        <th style=\"padding-left: 1em; padding-right: 1em; text-align: center\">norm</th>\n",
        "        <th style=\"padding-left: 1em; padding-right: 1em; text-align: center\">binary</th>\n",
        "        <th style=\"padding-left: 1em; padding-right: 1em; text-align: center\">norm_Count</th>\n",
        "    </tr>\n",
        "    <tr>\n",
        "        <td style=\"padding-left: 1em; padding-right: 1em; text-align: center; vertical-align: top\">0.00237889273356</td>\n",
        "        <td style=\"padding-left: 1em; padding-right: 1em; text-align: center; vertical-align: top\">1</td>\n",
        "        <td style=\"padding-left: 1em; padding-right: 1em; text-align: center; vertical-align: top\">1.71488807206e-07</td>\n",
        "    </tr>\n",
        "    <tr>\n",
        "        <td style=\"padding-left: 1em; padding-right: 1em; text-align: center; vertical-align: top\">0.00216634937307</td>\n",
        "        <td style=\"padding-left: 1em; padding-right: 1em; text-align: center; vertical-align: top\">1</td>\n",
        "        <td style=\"padding-left: 1em; padding-right: 1em; text-align: center; vertical-align: top\">1.42214230491e-07</td>\n",
        "    </tr>\n",
        "    <tr>\n",
        "        <td style=\"padding-left: 1em; padding-right: 1em; text-align: center; vertical-align: top\">0.00834649221746</td>\n",
        "        <td style=\"padding-left: 1em; padding-right: 1em; text-align: center; vertical-align: top\">1</td>\n",
        "        <td style=\"padding-left: 1em; padding-right: 1em; text-align: center; vertical-align: top\">1.88280898206e-06</td>\n",
        "    </tr>\n",
        "    <tr>\n",
        "        <td style=\"padding-left: 1em; padding-right: 1em; text-align: center; vertical-align: top\">0.00170297029703</td>\n",
        "        <td style=\"padding-left: 1em; padding-right: 1em; text-align: center; vertical-align: top\">1</td>\n",
        "        <td style=\"padding-left: 1em; padding-right: 1em; text-align: center; vertical-align: top\">6.74443681992e-08</td>\n",
        "    </tr>\n",
        "    <tr>\n",
        "        <td style=\"padding-left: 1em; padding-right: 1em; text-align: center; vertical-align: top\">0.00183295146844</td>\n",
        "        <td style=\"padding-left: 1em; padding-right: 1em; text-align: center; vertical-align: top\">1</td>\n",
        "        <td style=\"padding-left: 1em; padding-right: 1em; text-align: center; vertical-align: top\">7.63570701289e-08</td>\n",
        "    </tr>\n",
        "    <tr>\n",
        "        <td style=\"padding-left: 1em; padding-right: 1em; text-align: center; vertical-align: top\">0.0017356892422</td>\n",
        "        <td style=\"padding-left: 1em; padding-right: 1em; text-align: center; vertical-align: top\">1</td>\n",
        "        <td style=\"padding-left: 1em; padding-right: 1em; text-align: center; vertical-align: top\">6.02523429096e-08</td>\n",
        "    </tr>\n",
        "    <tr>\n",
        "        <td style=\"padding-left: 1em; padding-right: 1em; text-align: center; vertical-align: top\">0.000962292394326</td>\n",
        "        <td style=\"padding-left: 1em; padding-right: 1em; text-align: center; vertical-align: top\">1</td>\n",
        "        <td style=\"padding-left: 1em; padding-right: 1em; text-align: center; vertical-align: top\">3.42965426732e-08</td>\n",
        "    </tr>\n",
        "    <tr>\n",
        "        <td style=\"padding-left: 1em; padding-right: 1em; text-align: center; vertical-align: top\">0.0034272658035</td>\n",
        "        <td style=\"padding-left: 1em; padding-right: 1em; text-align: center; vertical-align: top\">1</td>\n",
        "        <td style=\"padding-left: 1em; padding-right: 1em; text-align: center; vertical-align: top\">3.26281969107e-07</td>\n",
        "    </tr>\n",
        "    <tr>\n",
        "        <td style=\"padding-left: 1em; padding-right: 1em; text-align: center; vertical-align: top\">0.00451379932938</td>\n",
        "        <td style=\"padding-left: 1em; padding-right: 1em; text-align: center; vertical-align: top\">1</td>\n",
        "        <td style=\"padding-left: 1em; padding-right: 1em; text-align: center; vertical-align: top\">5.82125268168e-07</td>\n",
        "    </tr>\n",
        "    <tr>\n",
        "        <td style=\"padding-left: 1em; padding-right: 1em; text-align: center; vertical-align: top\">0.0535236396075</td>\n",
        "        <td style=\"padding-left: 1em; padding-right: 1em; text-align: center; vertical-align: top\">1</td>\n",
        "        <td style=\"padding-left: 1em; padding-right: 1em; text-align: center; vertical-align: top\">4.77463332805e-06</td>\n",
        "    </tr>\n",
        "    <tr>\n",
        "        <td style=\"padding-left: 1em; padding-right: 1em; text-align: center; vertical-align: top\">...</td>\n",
        "        <td style=\"padding-left: 1em; padding-right: 1em; text-align: center; vertical-align: top\">...</td>\n",
        "        <td style=\"padding-left: 1em; padding-right: 1em; text-align: center; vertical-align: top\">...</td>\n",
        "    </tr>\n",
        "</table>\n",
        "[7204 rows x 9 columns]<br/>Note: Only the head of the SFrame is printed.<br/>You can use print_rows(num_rows=m, num_columns=n) to print more rows and columns.\n",
        "</div>"
       ],
       "metadata": {},
       "output_type": "pyout",
       "prompt_number": 175,
       "text": [
        "Columns:\n",
        "\tartist\tstr\n",
        "\tsong\tstr\n",
        "\tuser\tstr\n",
        "\tCount\tint\n",
        "\tartist_song\tstr\n",
        "\ttotal_cnt\tint\n",
        "\tnorm\tfloat\n",
        "\tbinary\tint\n",
        "\tnorm_Count\tfloat\n",
        "\n",
        "Rows: 7204\n",
        "\n",
        "Data:\n",
        "+--------------------------------+--------------------------------+-------------+\n",
        "|             artist             |              song              |     user    |\n",
        "+--------------------------------+--------------------------------+-------------+\n",
        "|           The Frames           | What Happens When The Hear ... | user_000503 |\n",
        "|            Jakalope            |        Nothing Nowhere         | user_000885 |\n",
        "|        Strike Anywhere         |          You'Re Fired          | user_000085 |\n",
        "|           Field Mob            |          At The Park           | user_000685 |\n",
        "|             Hocico             |          About A Dead          | user_000612 |\n",
        "| \\xe3\\x83\\xa0\\xe3\\x83\\x83\\x ... |         Saishuu Ressha         | user_000033 |\n",
        "|       The Goo Goo Dolls        |              Iris              | user_000709 |\n",
        "|              Live              |          The Distance          | user_000732 |\n",
        "|      Death Cab For Cutie       |           06 Track 6           | user_000525 |\n",
        "|           Kanye West           |         Coldest Winter         | user_000008 |\n",
        "+--------------------------------+--------------------------------+-------------+\n",
        "+-------+--------------------------------+-----------+-------------------+--------+\n",
        "| Count |          artist_song           | total_cnt |        norm       | binary |\n",
        "+-------+--------------------------------+-----------+-------------------+--------+\n",
        "|   33  | The Frames: What Happens W ... |   13872   |  0.00237889273356 |   1    |\n",
        "|   33  |   Jakalope: Nothing Nowhere    |   15233   |  0.00216634937307 |   1    |\n",
        "|   37  | Strike Anywhere: You'Re Fired  |    4433   |  0.00834649221746 |   1    |\n",
        "|   43  |     Field Mob: At The Park     |   25250   |  0.00170297029703 |   1    |\n",
        "|   44  |      Hocico: About A Dead      |   24005   |  0.00183295146844 |   1    |\n",
        "|   50  | \\xe3\\x83\\xa0\\xe3\\x83\\x83\\x ... |   28807   |  0.0017356892422  |   1    |\n",
        "|   27  |    The Goo Goo Dolls: Iris     |   28058   | 0.000962292394326 |   1    |\n",
        "|   36  |       Live: The Distance       |   10504   |  0.0034272658035  |   1    |\n",
        "|   35  | Death Cab For Cutie: 06 Tr ... |    7754   |  0.00451379932938 |   1    |\n",
        "|  600  |   Kanye West: Coldest Winter   |   11210   |  0.0535236396075  |   1    |\n",
        "+-------+--------------------------------+-----------+-------------------+--------+\n",
        "+-------------------+\n",
        "|     norm_Count    |\n",
        "+-------------------+\n",
        "| 1.71488807206e-07 |\n",
        "| 1.42214230491e-07 |\n",
        "| 1.88280898206e-06 |\n",
        "| 6.74443681992e-08 |\n",
        "| 7.63570701289e-08 |\n",
        "| 6.02523429096e-08 |\n",
        "| 3.42965426732e-08 |\n",
        "| 3.26281969107e-07 |\n",
        "| 5.82125268168e-07 |\n",
        "| 4.77463332805e-06 |\n",
        "|        ...        |\n",
        "+-------------------+\n",
        "[7204 rows x 9 columns]\n",
        "Note: Only the head of the SFrame is printed.\n",
        "You can use print_rows(num_rows=m, num_columns=n) to print more rows and columns."
       ]
      }
     ],
     "prompt_number": 175
    },
    {
     "cell_type": "code",
     "collapsed": false,
     "input": [
      "model_factor3 = gl.recommender.factorization_recommender.create(train_set3, user_id = 'user', item_id='artist_song', target='norm_song', nmf = True, num_factors = 5, regularization=.00001)"
     ],
     "language": "python",
     "metadata": {},
     "outputs": [
      {
       "html": [
        "<pre>PROGRESS: Recsys training: model = factorization_recommender</pre>"
       ],
       "metadata": {},
       "output_type": "display_data",
       "text": [
        "PROGRESS: Recsys training: model = factorization_recommender"
       ]
      },
      {
       "html": [
        "<pre>PROGRESS: Preparing data set.</pre>"
       ],
       "metadata": {},
       "output_type": "display_data",
       "text": [
        "PROGRESS: Preparing data set."
       ]
      },
      {
       "html": [
        "<pre>PROGRESS:     Data has 7204 observations with 336 users and 6542 items.</pre>"
       ],
       "metadata": {},
       "output_type": "display_data",
       "text": [
        "PROGRESS:     Data has 7204 observations with 336 users and 6542 items."
       ]
      },
      {
       "html": [
        "<pre>PROGRESS:     Data prepared in: 4.81204s</pre>"
       ],
       "metadata": {},
       "output_type": "display_data",
       "text": [
        "PROGRESS:     Data prepared in: 4.81204s"
       ]
      },
      {
       "html": [
        "<pre>PROGRESS: Training factorization_recommender for recommendations.</pre>"
       ],
       "metadata": {},
       "output_type": "display_data",
       "text": [
        "PROGRESS: Training factorization_recommender for recommendations."
       ]
      },
      {
       "html": [
        "<pre>PROGRESS: +------------------------------+--------------------------------------------------+----------+</pre>"
       ],
       "metadata": {},
       "output_type": "display_data",
       "text": [
        "PROGRESS: +------------------------------+--------------------------------------------------+----------+"
       ]
      },
      {
       "html": [
        "<pre>PROGRESS: | Parameter                    | Description                                      | Value    |</pre>"
       ],
       "metadata": {},
       "output_type": "display_data",
       "text": [
        "PROGRESS: | Parameter                    | Description                                      | Value    |"
       ]
      },
      {
       "html": [
        "<pre>PROGRESS: +------------------------------+--------------------------------------------------+----------+</pre>"
       ],
       "metadata": {},
       "output_type": "display_data",
       "text": [
        "PROGRESS: +------------------------------+--------------------------------------------------+----------+"
       ]
      },
      {
       "html": [
        "<pre>PROGRESS: | num_factors                  | Factor Dimension                                 | 5        |</pre>"
       ],
       "metadata": {},
       "output_type": "display_data",
       "text": [
        "PROGRESS: | num_factors                  | Factor Dimension                                 | 5        |"
       ]
      },
      {
       "html": [
        "<pre>PROGRESS: | regularization               | L2 Regularization on Factors                     | 1e-05    |</pre>"
       ],
       "metadata": {},
       "output_type": "display_data",
       "text": [
        "PROGRESS: | regularization               | L2 Regularization on Factors                     | 1e-05    |"
       ]
      },
      {
       "html": [
        "<pre>PROGRESS: | nmf                          | Use Non-Negative Factors                         | True     |</pre>"
       ],
       "metadata": {},
       "output_type": "display_data",
       "text": [
        "PROGRESS: | nmf                          | Use Non-Negative Factors                         | True     |"
       ]
      },
      {
       "html": [
        "<pre>PROGRESS: | max_iterations               | Maximum Number of Iterations                     | 50       |</pre>"
       ],
       "metadata": {},
       "output_type": "display_data",
       "text": [
        "PROGRESS: | max_iterations               | Maximum Number of Iterations                     | 50       |"
       ]
      },
      {
       "html": [
        "<pre>PROGRESS: +------------------------------+--------------------------------------------------+----------+</pre>"
       ],
       "metadata": {},
       "output_type": "display_data",
       "text": [
        "PROGRESS: +------------------------------+--------------------------------------------------+----------+"
       ]
      },
      {
       "html": [
        "<pre>PROGRESS:   Optimizing model using SGD; tuning step size.</pre>"
       ],
       "metadata": {},
       "output_type": "display_data",
       "text": [
        "PROGRESS:   Optimizing model using SGD; tuning step size."
       ]
      },
      {
       "html": [
        "<pre>PROGRESS:   Using 7204 / 7204 points for tuning the step size.</pre>"
       ],
       "metadata": {},
       "output_type": "display_data",
       "text": [
        "PROGRESS:   Using 7204 / 7204 points for tuning the step size."
       ]
      },
      {
       "html": [
        "<pre>PROGRESS: +---------+-------------------+---------------------------+</pre>"
       ],
       "metadata": {},
       "output_type": "display_data",
       "text": [
        "PROGRESS: +---------+-------------------+---------------------------+"
       ]
      },
      {
       "html": [
        "<pre>PROGRESS: | Attempt | Initial Step Size | Estimated Objective Value |</pre>"
       ],
       "metadata": {},
       "output_type": "display_data",
       "text": [
        "PROGRESS: | Attempt | Initial Step Size | Estimated Objective Value |"
       ]
      },
      {
       "html": [
        "<pre>PROGRESS: +---------+-------------------+---------------------------+</pre>"
       ],
       "metadata": {},
       "output_type": "display_data",
       "text": [
        "PROGRESS: +---------+-------------------+---------------------------+"
       ]
      },
      {
       "html": [
        "<pre>PROGRESS: | 0       | 6.25              | Not Viable                |</pre>"
       ],
       "metadata": {},
       "output_type": "display_data",
       "text": [
        "PROGRESS: | 0       | 6.25              | Not Viable                |"
       ]
      },
      {
       "html": [
        "<pre>PROGRESS: | 1       | 1.5625            | Not Viable                |</pre>"
       ],
       "metadata": {},
       "output_type": "display_data",
       "text": [
        "PROGRESS: | 1       | 1.5625            | Not Viable                |"
       ]
      },
      {
       "html": [
        "<pre>PROGRESS: | 2       | 0.390625          | Not Viable                |</pre>"
       ],
       "metadata": {},
       "output_type": "display_data",
       "text": [
        "PROGRESS: | 2       | 0.390625          | Not Viable                |"
       ]
      },
      {
       "html": [
        "<pre>PROGRESS: | 3       | 0.0976562         | Not Viable                |</pre>"
       ],
       "metadata": {},
       "output_type": "display_data",
       "text": [
        "PROGRESS: | 3       | 0.0976562         | Not Viable                |"
       ]
      },
      {
       "html": [
        "<pre>PROGRESS: | 4       | 0.0244141         | Not Viable                |</pre>"
       ],
       "metadata": {},
       "output_type": "display_data",
       "text": [
        "PROGRESS: | 4       | 0.0244141         | Not Viable                |"
       ]
      },
      {
       "html": [
        "<pre>PROGRESS: | 5       | 0.00610352        | Not Viable                |</pre>"
       ],
       "metadata": {},
       "output_type": "display_data",
       "text": [
        "PROGRESS: | 5       | 0.00610352        | Not Viable                |"
       ]
      },
      {
       "html": [
        "<pre>PROGRESS: | 6       | 0.00152588        | Not Viable                |</pre>"
       ],
       "metadata": {},
       "output_type": "display_data",
       "text": [
        "PROGRESS: | 6       | 0.00152588        | Not Viable                |"
       ]
      },
      {
       "html": [
        "<pre>PROGRESS: | 7       | 0.00038147        | Not Viable                |</pre>"
       ],
       "metadata": {},
       "output_type": "display_data",
       "text": [
        "PROGRESS: | 7       | 0.00038147        | Not Viable                |"
       ]
      },
      {
       "html": [
        "<pre>PROGRESS: | 8       | 9.53674e-05       | Not Viable                |</pre>"
       ],
       "metadata": {},
       "output_type": "display_data",
       "text": [
        "PROGRESS: | 8       | 9.53674e-05       | Not Viable                |"
       ]
      },
      {
       "html": [
        "<pre>PROGRESS: | 9       | 2.38419e-05       | Not Viable                |</pre>"
       ],
       "metadata": {},
       "output_type": "display_data",
       "text": [
        "PROGRESS: | 9       | 2.38419e-05       | Not Viable                |"
       ]
      },
      {
       "html": [
        "<pre>PROGRESS: | 10      | 5.96046e-06       | Not Viable                |</pre>"
       ],
       "metadata": {},
       "output_type": "display_data",
       "text": [
        "PROGRESS: | 10      | 5.96046e-06       | Not Viable                |"
       ]
      },
      {
       "html": [
        "<pre>PROGRESS: | 11      | 1.49012e-06       | Not Viable                |</pre>"
       ],
       "metadata": {},
       "output_type": "display_data",
       "text": [
        "PROGRESS: | 11      | 1.49012e-06       | Not Viable                |"
       ]
      },
      {
       "html": [
        "<pre>PROGRESS: | 12      | 3.72529e-07       | Not Viable                |</pre>"
       ],
       "metadata": {},
       "output_type": "display_data",
       "text": [
        "PROGRESS: | 12      | 3.72529e-07       | Not Viable                |"
       ]
      },
      {
       "html": [
        "<pre>PROGRESS: | 13      | 9.31323e-08       | Not Viable                |</pre>"
       ],
       "metadata": {},
       "output_type": "display_data",
       "text": [
        "PROGRESS: | 13      | 9.31323e-08       | Not Viable                |"
       ]
      },
      {
       "html": [
        "<pre>PROGRESS: | 14      | 2.32831e-08       | Not Viable                |</pre>"
       ],
       "metadata": {},
       "output_type": "display_data",
       "text": [
        "PROGRESS: | 14      | 2.32831e-08       | Not Viable                |"
       ]
      },
      {
       "html": [
        "<pre>PROGRESS: | 15      | 5.82077e-09       | Not Viable                |</pre>"
       ],
       "metadata": {},
       "output_type": "display_data",
       "text": [
        "PROGRESS: | 15      | 5.82077e-09       | Not Viable                |"
       ]
      },
      {
       "html": [
        "<pre>PROGRESS: | 16      | 1.45519e-09       | Not Viable                |</pre>"
       ],
       "metadata": {},
       "output_type": "display_data",
       "text": [
        "PROGRESS: | 16      | 1.45519e-09       | Not Viable                |"
       ]
      },
      {
       "html": [
        "<pre>PROGRESS: | 17      | 3.63798e-10       | Not Viable                |</pre>"
       ],
       "metadata": {},
       "output_type": "display_data",
       "text": [
        "PROGRESS: | 17      | 3.63798e-10       | Not Viable                |"
       ]
      },
      {
       "html": [
        "<pre>PROGRESS: | 18      | 9.09495e-11       | Not Viable                |</pre>"
       ],
       "metadata": {},
       "output_type": "display_data",
       "text": [
        "PROGRESS: | 18      | 9.09495e-11       | Not Viable                |"
       ]
      },
      {
       "html": [
        "<pre>PROGRESS: | 19      | 2.27374e-11       | Not Viable                |</pre>"
       ],
       "metadata": {},
       "output_type": "display_data",
       "text": [
        "PROGRESS: | 19      | 2.27374e-11       | Not Viable                |"
       ]
      },
      {
       "html": [
        "<pre>PROGRESS: | 20      | 5.68434e-12       | Not Viable                |</pre>"
       ],
       "metadata": {},
       "output_type": "display_data",
       "text": [
        "PROGRESS: | 20      | 5.68434e-12       | Not Viable                |"
       ]
      },
      {
       "html": [
        "<pre>PROGRESS: | 21      | 1.42109e-12       | Not Viable                |</pre>"
       ],
       "metadata": {},
       "output_type": "display_data",
       "text": [
        "PROGRESS: | 21      | 1.42109e-12       | Not Viable                |"
       ]
      },
      {
       "html": [
        "<pre>PROGRESS: +---------+-------------------+---------------------------+</pre>"
       ],
       "metadata": {},
       "output_type": "display_data",
       "text": [
        "PROGRESS: +---------+-------------------+---------------------------+"
       ]
      },
      {
       "html": [
        "<pre>PROGRESS: | Final   | 0.005             | Unknown                   |</pre>"
       ],
       "metadata": {},
       "output_type": "display_data",
       "text": [
        "PROGRESS: | Final   | 0.005             | Unknown                   |"
       ]
      },
      {
       "html": [
        "<pre>PROGRESS: +---------+-------------------+---------------------------+</pre>"
       ],
       "metadata": {},
       "output_type": "display_data",
       "text": [
        "PROGRESS: +---------+-------------------+---------------------------+"
       ]
      },
      {
       "html": [
        "<pre>PROGRESS: Starting Optimization.</pre>"
       ],
       "metadata": {},
       "output_type": "display_data",
       "text": [
        "PROGRESS: Starting Optimization."
       ]
      },
      {
       "html": [
        "<pre>PROGRESS: +---------+--------------+----------------+---------------+-------------+</pre>"
       ],
       "metadata": {},
       "output_type": "display_data",
       "text": [
        "PROGRESS: +---------+--------------+----------------+---------------+-------------+"
       ]
      },
      {
       "html": [
        "<pre>PROGRESS: | Iter.   | Elapsed Time | Est. Objective | Training RMSE | Step Size   |</pre>"
       ],
       "metadata": {},
       "output_type": "display_data",
       "text": [
        "PROGRESS: | Iter.   | Elapsed Time | Est. Objective | Training RMSE | Step Size   |"
       ]
      },
      {
       "html": [
        "<pre>PROGRESS: +---------+--------------+----------------+---------------+-------------+</pre>"
       ],
       "metadata": {},
       "output_type": "display_data",
       "text": [
        "PROGRESS: +---------+--------------+----------------+---------------+-------------+"
       ]
      },
      {
       "html": [
        "<pre>PROGRESS: | Initial | 55.413ms     | 1.26345e-08    | 2.23615e-05   |             |</pre>"
       ],
       "metadata": {},
       "output_type": "display_data",
       "text": [
        "PROGRESS: | Initial | 55.413ms     | 1.26345e-08    | 2.23615e-05   |             |"
       ]
      },
      {
       "html": [
        "<pre>PROGRESS: +---------+--------------+----------------+---------------+-------------+</pre>"
       ],
       "metadata": {},
       "output_type": "display_data",
       "text": [
        "PROGRESS: +---------+--------------+----------------+---------------+-------------+"
       ]
      },
      {
       "html": [
        "<pre>PROGRESS: | 1       | 101.138ms    | DIVERGED       | DIVERGED      | 0.005       |</pre>"
       ],
       "metadata": {},
       "output_type": "display_data",
       "text": [
        "PROGRESS: | 1       | 101.138ms    | DIVERGED       | DIVERGED      | 0.005       |"
       ]
      },
      {
       "html": [
        "<pre>PROGRESS: | RESET   | 134.84ms     | 1.20442e-06    | 3.75924e-05   |             |</pre>"
       ],
       "metadata": {},
       "output_type": "display_data",
       "text": [
        "PROGRESS: | RESET   | 134.84ms     | 1.20442e-06    | 3.75924e-05   |             |"
       ]
      },
      {
       "html": [
        "<pre>PROGRESS: | 2       | 147.117ms    | 1.20356e-06    | 3.26348e-05   | 0.00297302  |</pre>"
       ],
       "metadata": {},
       "output_type": "display_data",
       "text": [
        "PROGRESS: | 2       | 147.117ms    | 1.20356e-06    | 3.26348e-05   | 0.00297302  |"
       ]
      },
      {
       "html": [
        "<pre>PROGRESS: +---------+--------------+----------------+---------------+-------------+</pre>"
       ],
       "metadata": {},
       "output_type": "display_data",
       "text": [
        "PROGRESS: +---------+--------------+----------------+---------------+-------------+"
       ]
      },
      {
       "html": [
        "<pre>PROGRESS: | Final   | 244.94ms     | 1.20264e-06    | 3.31296e-05   |             |</pre>"
       ],
       "metadata": {},
       "output_type": "display_data",
       "text": [
        "PROGRESS: | Final   | 244.94ms     | 1.20264e-06    | 3.31296e-05   |             |"
       ]
      },
      {
       "html": [
        "<pre>PROGRESS: +---------+--------------+----------------+---------------+-------------+</pre>"
       ],
       "metadata": {},
       "output_type": "display_data",
       "text": [
        "PROGRESS: +---------+--------------+----------------+---------------+-------------+"
       ]
      },
      {
       "html": [
        "<pre>PROGRESS: Optimization Complete: Convergence on objective within bounds.</pre>"
       ],
       "metadata": {},
       "output_type": "display_data",
       "text": [
        "PROGRESS: Optimization Complete: Convergence on objective within bounds."
       ]
      }
     ],
     "prompt_number": 191
    },
    {
     "cell_type": "code",
     "collapsed": false,
     "input": [
      "print test_set2[0]['user'], test_set2[1]['user'], test_set2[3]['user']"
     ],
     "language": "python",
     "metadata": {},
     "outputs": [
      {
       "output_type": "stream",
       "stream": "stdout",
       "text": [
        "user_000234 user_000612 "
       ]
      },
      {
       "output_type": "stream",
       "stream": "stdout",
       "text": [
        "user_000349\n"
       ]
      }
     ],
     "prompt_number": 192
    },
    {
     "cell_type": "code",
     "collapsed": false,
     "input": [
      "model_factor3.recommend(['user_000234'], k = -1)[1:]"
     ],
     "language": "python",
     "metadata": {},
     "outputs": [
      {
       "html": [
        "<div style=\"max-height:1000px;max-width:1500px;overflow:auto;\"><table frame=\"box\" rules=\"cols\">\n",
        "    <tr>\n",
        "        <th style=\"padding-left: 1em; padding-right: 1em; text-align: center\">user</th>\n",
        "        <th style=\"padding-left: 1em; padding-right: 1em; text-align: center\">artist_song</th>\n",
        "        <th style=\"padding-left: 1em; padding-right: 1em; text-align: center\">score</th>\n",
        "        <th style=\"padding-left: 1em; padding-right: 1em; text-align: center\">rank</th>\n",
        "    </tr>\n",
        "    <tr>\n",
        "        <td style=\"padding-left: 1em; padding-right: 1em; text-align: center; vertical-align: top\">user_000234</td>\n",
        "        <td style=\"padding-left: 1em; padding-right: 1em; text-align: center; vertical-align: top\">Fettes Brot: Intro</td>\n",
        "        <td style=\"padding-left: 1em; padding-right: 1em; text-align: center; vertical-align: top\">-8.47770540178e-06</td>\n",
        "        <td style=\"padding-left: 1em; padding-right: 1em; text-align: center; vertical-align: top\">2</td>\n",
        "    </tr>\n",
        "    <tr>\n",
        "        <td style=\"padding-left: 1em; padding-right: 1em; text-align: center; vertical-align: top\">user_000234</td>\n",
        "        <td style=\"padding-left: 1em; padding-right: 1em; text-align: center; vertical-align: top\">Ratatat: Lapland</td>\n",
        "        <td style=\"padding-left: 1em; padding-right: 1em; text-align: center; vertical-align: top\">-8.47904736121e-06</td>\n",
        "        <td style=\"padding-left: 1em; padding-right: 1em; text-align: center; vertical-align: top\">3</td>\n",
        "    </tr>\n",
        "    <tr>\n",
        "        <td style=\"padding-left: 1em; padding-right: 1em; text-align: center; vertical-align: top\">user_000234</td>\n",
        "        <td style=\"padding-left: 1em; padding-right: 1em; text-align: center; vertical-align: top\">The Honorary Title: Far<br>More</td>\n",
        "        <td style=\"padding-left: 1em; padding-right: 1em; text-align: center; vertical-align: top\">-8.48481992409e-06</td>\n",
        "        <td style=\"padding-left: 1em; padding-right: 1em; text-align: center; vertical-align: top\">4</td>\n",
        "    </tr>\n",
        "    <tr>\n",
        "        <td style=\"padding-left: 1em; padding-right: 1em; text-align: center; vertical-align: top\">user_000234</td>\n",
        "        <td style=\"padding-left: 1em; padding-right: 1em; text-align: center; vertical-align: top\">The Holloways: Two Left<br>Feet</td>\n",
        "        <td style=\"padding-left: 1em; padding-right: 1em; text-align: center; vertical-align: top\">-8.48554524611e-06</td>\n",
        "        <td style=\"padding-left: 1em; padding-right: 1em; text-align: center; vertical-align: top\">5</td>\n",
        "    </tr>\n",
        "    <tr>\n",
        "        <td style=\"padding-left: 1em; padding-right: 1em; text-align: center; vertical-align: top\">user_000234</td>\n",
        "        <td style=\"padding-left: 1em; padding-right: 1em; text-align: center; vertical-align: top\">The Killers: Change Your<br>Mind</td>\n",
        "        <td style=\"padding-left: 1em; padding-right: 1em; text-align: center; vertical-align: top\">-8.48614642211e-06</td>\n",
        "        <td style=\"padding-left: 1em; padding-right: 1em; text-align: center; vertical-align: top\">6</td>\n",
        "    </tr>\n",
        "    <tr>\n",
        "        <td style=\"padding-left: 1em; padding-right: 1em; text-align: center; vertical-align: top\">user_000234</td>\n",
        "        <td style=\"padding-left: 1em; padding-right: 1em; text-align: center; vertical-align: top\">The Stranglers: Golden<br>Brown</td>\n",
        "        <td style=\"padding-left: 1em; padding-right: 1em; text-align: center; vertical-align: top\">-8.48793130546e-06</td>\n",
        "        <td style=\"padding-left: 1em; padding-right: 1em; text-align: center; vertical-align: top\">7</td>\n",
        "    </tr>\n",
        "    <tr>\n",
        "        <td style=\"padding-left: 1em; padding-right: 1em; text-align: center; vertical-align: top\">user_000234</td>\n",
        "        <td style=\"padding-left: 1em; padding-right: 1em; text-align: center; vertical-align: top\">Cut Copy: Future</td>\n",
        "        <td style=\"padding-left: 1em; padding-right: 1em; text-align: center; vertical-align: top\">-8.48832511667e-06</td>\n",
        "        <td style=\"padding-left: 1em; padding-right: 1em; text-align: center; vertical-align: top\">8</td>\n",
        "    </tr>\n",
        "    <tr>\n",
        "        <td style=\"padding-left: 1em; padding-right: 1em; text-align: center; vertical-align: top\">user_000234</td>\n",
        "        <td style=\"padding-left: 1em; padding-right: 1em; text-align: center; vertical-align: top\">Radiohead: There There.<br>(The Boney King Of ...</td>\n",
        "        <td style=\"padding-left: 1em; padding-right: 1em; text-align: center; vertical-align: top\">-8.48837377463e-06</td>\n",
        "        <td style=\"padding-left: 1em; padding-right: 1em; text-align: center; vertical-align: top\">9</td>\n",
        "    </tr>\n",
        "    <tr>\n",
        "        <td style=\"padding-left: 1em; padding-right: 1em; text-align: center; vertical-align: top\">user_000234</td>\n",
        "        <td style=\"padding-left: 1em; padding-right: 1em; text-align: center; vertical-align: top\">Orchestral Manoeuvres In<br>The Dark: Radio Waves</td>\n",
        "        <td style=\"padding-left: 1em; padding-right: 1em; text-align: center; vertical-align: top\">-8.49040876903e-06</td>\n",
        "        <td style=\"padding-left: 1em; padding-right: 1em; text-align: center; vertical-align: top\">10</td>\n",
        "    </tr>\n",
        "    <tr>\n",
        "        <td style=\"padding-left: 1em; padding-right: 1em; text-align: center; vertical-align: top\">user_000234</td>\n",
        "        <td style=\"padding-left: 1em; padding-right: 1em; text-align: center; vertical-align: top\">Jimmy Eat World: Work</td>\n",
        "        <td style=\"padding-left: 1em; padding-right: 1em; text-align: center; vertical-align: top\">-8.49223230591e-06</td>\n",
        "        <td style=\"padding-left: 1em; padding-right: 1em; text-align: center; vertical-align: top\">11</td>\n",
        "    </tr>\n",
        "    <tr>\n",
        "        <td style=\"padding-left: 1em; padding-right: 1em; text-align: center; vertical-align: top\">...</td>\n",
        "        <td style=\"padding-left: 1em; padding-right: 1em; text-align: center; vertical-align: top\">...</td>\n",
        "        <td style=\"padding-left: 1em; padding-right: 1em; text-align: center; vertical-align: top\">...</td>\n",
        "        <td style=\"padding-left: 1em; padding-right: 1em; text-align: center; vertical-align: top\">...</td>\n",
        "    </tr>\n",
        "</table>\n",
        "[6521 rows x 4 columns]<br/>Note: Only the head of the SFrame is printed.<br/>You can use print_rows(num_rows=m, num_columns=n) to print more rows and columns.\n",
        "</div>"
       ],
       "metadata": {},
       "output_type": "pyout",
       "prompt_number": 194,
       "text": [
        "Columns:\n",
        "\tuser\tstr\n",
        "\tartist_song\tstr\n",
        "\tscore\tfloat\n",
        "\trank\tint\n",
        "\n",
        "Rows: 6521\n",
        "\n",
        "Data:\n",
        "+-------------+--------------------------------+--------------------+------+\n",
        "|     user    |          artist_song           |       score        | rank |\n",
        "+-------------+--------------------------------+--------------------+------+\n",
        "| user_000234 |       Fettes Brot: Intro       | -8.47770540178e-06 |  2   |\n",
        "| user_000234 |        Ratatat: Lapland        | -8.47904736121e-06 |  3   |\n",
        "| user_000234 |  The Honorary Title: Far More  | -8.48481992409e-06 |  4   |\n",
        "| user_000234 |  The Holloways: Two Left Feet  | -8.48554524611e-06 |  5   |\n",
        "| user_000234 | The Killers: Change Your Mind  | -8.48614642211e-06 |  6   |\n",
        "| user_000234 |  The Stranglers: Golden Brown  | -8.48793130546e-06 |  7   |\n",
        "| user_000234 |        Cut Copy: Future        | -8.48832511667e-06 |  8   |\n",
        "| user_000234 | Radiohead: There There. (T ... | -8.48837377463e-06 |  9   |\n",
        "| user_000234 | Orchestral Manoeuvres In T ... | -8.49040876903e-06 |  10  |\n",
        "| user_000234 |     Jimmy Eat World: Work      | -8.49223230591e-06 |  11  |\n",
        "|     ...     |              ...               |        ...         | ...  |\n",
        "+-------------+--------------------------------+--------------------+------+\n",
        "[6521 rows x 4 columns]\n",
        "Note: Only the head of the SFrame is printed.\n",
        "You can use print_rows(num_rows=m, num_columns=n) to print more rows and columns."
       ]
      }
     ],
     "prompt_number": 194
    },
    {
     "cell_type": "code",
     "collapsed": false,
     "input": [
      "model_factor3.recommend(['user_000349'])"
     ],
     "language": "python",
     "metadata": {},
     "outputs": [
      {
       "html": [
        "<div style=\"max-height:1000px;max-width:1500px;overflow:auto;\"><table frame=\"box\" rules=\"cols\">\n",
        "    <tr>\n",
        "        <th style=\"padding-left: 1em; padding-right: 1em; text-align: center\">user</th>\n",
        "        <th style=\"padding-left: 1em; padding-right: 1em; text-align: center\">artist_song</th>\n",
        "        <th style=\"padding-left: 1em; padding-right: 1em; text-align: center\">score</th>\n",
        "        <th style=\"padding-left: 1em; padding-right: 1em; text-align: center\">rank</th>\n",
        "    </tr>\n",
        "    <tr>\n",
        "        <td style=\"padding-left: 1em; padding-right: 1em; text-align: center; vertical-align: top\">user_000349</td>\n",
        "        <td style=\"padding-left: 1em; padding-right: 1em; text-align: center; vertical-align: top\">Killswitch Engage: My<br>Curse</td>\n",
        "        <td style=\"padding-left: 1em; padding-right: 1em; text-align: center; vertical-align: top\">3.40034494595e-08</td>\n",
        "        <td style=\"padding-left: 1em; padding-right: 1em; text-align: center; vertical-align: top\">1</td>\n",
        "    </tr>\n",
        "    <tr>\n",
        "        <td style=\"padding-left: 1em; padding-right: 1em; text-align: center; vertical-align: top\">user_000349</td>\n",
        "        <td style=\"padding-left: 1em; padding-right: 1em; text-align: center; vertical-align: top\">Red Hot Chili Peppers:<br>Throw Away Your ...</td>\n",
        "        <td style=\"padding-left: 1em; padding-right: 1em; text-align: center; vertical-align: top\">3.40034315301e-08</td>\n",
        "        <td style=\"padding-left: 1em; padding-right: 1em; text-align: center; vertical-align: top\">2</td>\n",
        "    </tr>\n",
        "    <tr>\n",
        "        <td style=\"padding-left: 1em; padding-right: 1em; text-align: center; vertical-align: top\">user_000349</td>\n",
        "        <td style=\"padding-left: 1em; padding-right: 1em; text-align: center; vertical-align: top\">Fear Before The March Of<br>Flames: Fear Before ...</td>\n",
        "        <td style=\"padding-left: 1em; padding-right: 1em; text-align: center; vertical-align: top\">3.4003416341e-08</td>\n",
        "        <td style=\"padding-left: 1em; padding-right: 1em; text-align: center; vertical-align: top\">3</td>\n",
        "    </tr>\n",
        "    <tr>\n",
        "        <td style=\"padding-left: 1em; padding-right: 1em; text-align: center; vertical-align: top\">user_000349</td>\n",
        "        <td style=\"padding-left: 1em; padding-right: 1em; text-align: center; vertical-align: top\">Kanye West: See You In My<br>Nightmares</td>\n",
        "        <td style=\"padding-left: 1em; padding-right: 1em; text-align: center; vertical-align: top\">3.40034090701e-08</td>\n",
        "        <td style=\"padding-left: 1em; padding-right: 1em; text-align: center; vertical-align: top\">4</td>\n",
        "    </tr>\n",
        "    <tr>\n",
        "        <td style=\"padding-left: 1em; padding-right: 1em; text-align: center; vertical-align: top\">user_000349</td>\n",
        "        <td style=\"padding-left: 1em; padding-right: 1em; text-align: center; vertical-align: top\">David Bowie: Starman</td>\n",
        "        <td style=\"padding-left: 1em; padding-right: 1em; text-align: center; vertical-align: top\">3.40033917158e-08</td>\n",
        "        <td style=\"padding-left: 1em; padding-right: 1em; text-align: center; vertical-align: top\">5</td>\n",
        "    </tr>\n",
        "    <tr>\n",
        "        <td style=\"padding-left: 1em; padding-right: 1em; text-align: center; vertical-align: top\">user_000349</td>\n",
        "        <td style=\"padding-left: 1em; padding-right: 1em; text-align: center; vertical-align: top\">Placebo: Every You Every<br>Me</td>\n",
        "        <td style=\"padding-left: 1em; padding-right: 1em; text-align: center; vertical-align: top\">3.40033916622e-08</td>\n",
        "        <td style=\"padding-left: 1em; padding-right: 1em; text-align: center; vertical-align: top\">6</td>\n",
        "    </tr>\n",
        "    <tr>\n",
        "        <td style=\"padding-left: 1em; padding-right: 1em; text-align: center; vertical-align: top\">user_000349</td>\n",
        "        <td style=\"padding-left: 1em; padding-right: 1em; text-align: center; vertical-align: top\">Blue Man Group: Rods And<br>Cones</td>\n",
        "        <td style=\"padding-left: 1em; padding-right: 1em; text-align: center; vertical-align: top\">3.40033878022e-08</td>\n",
        "        <td style=\"padding-left: 1em; padding-right: 1em; text-align: center; vertical-align: top\">7</td>\n",
        "    </tr>\n",
        "    <tr>\n",
        "        <td style=\"padding-left: 1em; padding-right: 1em; text-align: center; vertical-align: top\">user_000349</td>\n",
        "        <td style=\"padding-left: 1em; padding-right: 1em; text-align: center; vertical-align: top\">Sade: The Sweetest Gift</td>\n",
        "        <td style=\"padding-left: 1em; padding-right: 1em; text-align: center; vertical-align: top\">3.4003380753e-08</td>\n",
        "        <td style=\"padding-left: 1em; padding-right: 1em; text-align: center; vertical-align: top\">8</td>\n",
        "    </tr>\n",
        "    <tr>\n",
        "        <td style=\"padding-left: 1em; padding-right: 1em; text-align: center; vertical-align: top\">user_000349</td>\n",
        "        <td style=\"padding-left: 1em; padding-right: 1em; text-align: center; vertical-align: top\">Elliott Smith: No Name #4</td>\n",
        "        <td style=\"padding-left: 1em; padding-right: 1em; text-align: center; vertical-align: top\">3.40033803434e-08</td>\n",
        "        <td style=\"padding-left: 1em; padding-right: 1em; text-align: center; vertical-align: top\">9</td>\n",
        "    </tr>\n",
        "    <tr>\n",
        "        <td style=\"padding-left: 1em; padding-right: 1em; text-align: center; vertical-align: top\">user_000349</td>\n",
        "        <td style=\"padding-left: 1em; padding-right: 1em; text-align: center; vertical-align: top\">Sign: What You Don'T Know</td>\n",
        "        <td style=\"padding-left: 1em; padding-right: 1em; text-align: center; vertical-align: top\">3.40033718467e-08</td>\n",
        "        <td style=\"padding-left: 1em; padding-right: 1em; text-align: center; vertical-align: top\">10</td>\n",
        "    </tr>\n",
        "</table>\n",
        "[10 rows x 4 columns]<br/>\n",
        "</div>"
       ],
       "metadata": {},
       "output_type": "pyout",
       "prompt_number": 181,
       "text": [
        "Columns:\n",
        "\tuser\tstr\n",
        "\tartist_song\tstr\n",
        "\tscore\tfloat\n",
        "\trank\tint\n",
        "\n",
        "Rows: 10\n",
        "\n",
        "Data:\n",
        "+-------------+--------------------------------+-------------------+------+\n",
        "|     user    |          artist_song           |       score       | rank |\n",
        "+-------------+--------------------------------+-------------------+------+\n",
        "| user_000349 |  Killswitch Engage: My Curse   | 3.40034494595e-08 |  1   |\n",
        "| user_000349 | Red Hot Chili Peppers: Thr ... | 3.40034315301e-08 |  2   |\n",
        "| user_000349 | Fear Before The March Of F ... |  3.4003416341e-08 |  3   |\n",
        "| user_000349 | Kanye West: See You In My  ... | 3.40034090701e-08 |  4   |\n",
        "| user_000349 |      David Bowie: Starman      | 3.40033917158e-08 |  5   |\n",
        "| user_000349 |  Placebo: Every You Every Me   | 3.40033916622e-08 |  6   |\n",
        "| user_000349 | Blue Man Group: Rods And Cones | 3.40033878022e-08 |  7   |\n",
        "| user_000349 |    Sade: The Sweetest Gift     |  3.4003380753e-08 |  8   |\n",
        "| user_000349 |   Elliott Smith: No Name #4    | 3.40033803434e-08 |  9   |\n",
        "| user_000349 |   Sign: What You Don'T Know    | 3.40033718467e-08 |  10  |\n",
        "+-------------+--------------------------------+-------------------+------+\n",
        "[10 rows x 4 columns]\n"
       ]
      }
     ],
     "prompt_number": 181
    },
    {
     "cell_type": "code",
     "collapsed": false,
     "input": [
      "train_set3"
     ],
     "language": "python",
     "metadata": {},
     "outputs": [
      {
       "html": [
        "<div style=\"max-height:1000px;max-width:1500px;overflow:auto;\"><table frame=\"box\" rules=\"cols\">\n",
        "    <tr>\n",
        "        <th style=\"padding-left: 1em; padding-right: 1em; text-align: center\">artist</th>\n",
        "        <th style=\"padding-left: 1em; padding-right: 1em; text-align: center\">song</th>\n",
        "        <th style=\"padding-left: 1em; padding-right: 1em; text-align: center\">user</th>\n",
        "        <th style=\"padding-left: 1em; padding-right: 1em; text-align: center\">Count</th>\n",
        "        <th style=\"padding-left: 1em; padding-right: 1em; text-align: center\">artist_song</th>\n",
        "        <th style=\"padding-left: 1em; padding-right: 1em; text-align: center\">total_cnt</th>\n",
        "    </tr>\n",
        "    <tr>\n",
        "        <td style=\"padding-left: 1em; padding-right: 1em; text-align: center; vertical-align: top\">The Frames</td>\n",
        "        <td style=\"padding-left: 1em; padding-right: 1em; text-align: center; vertical-align: top\">What Happens When The<br>Heart Just Stops</td>\n",
        "        <td style=\"padding-left: 1em; padding-right: 1em; text-align: center; vertical-align: top\">user_000503</td>\n",
        "        <td style=\"padding-left: 1em; padding-right: 1em; text-align: center; vertical-align: top\">33</td>\n",
        "        <td style=\"padding-left: 1em; padding-right: 1em; text-align: center; vertical-align: top\">The Frames: What Happens<br>When The Heart Just S ...</td>\n",
        "        <td style=\"padding-left: 1em; padding-right: 1em; text-align: center; vertical-align: top\">13872</td>\n",
        "    </tr>\n",
        "    <tr>\n",
        "        <td style=\"padding-left: 1em; padding-right: 1em; text-align: center; vertical-align: top\">Jakalope</td>\n",
        "        <td style=\"padding-left: 1em; padding-right: 1em; text-align: center; vertical-align: top\">Nothing Nowhere</td>\n",
        "        <td style=\"padding-left: 1em; padding-right: 1em; text-align: center; vertical-align: top\">user_000885</td>\n",
        "        <td style=\"padding-left: 1em; padding-right: 1em; text-align: center; vertical-align: top\">33</td>\n",
        "        <td style=\"padding-left: 1em; padding-right: 1em; text-align: center; vertical-align: top\">Jakalope: Nothing Nowhere</td>\n",
        "        <td style=\"padding-left: 1em; padding-right: 1em; text-align: center; vertical-align: top\">15233</td>\n",
        "    </tr>\n",
        "    <tr>\n",
        "        <td style=\"padding-left: 1em; padding-right: 1em; text-align: center; vertical-align: top\">Strike Anywhere</td>\n",
        "        <td style=\"padding-left: 1em; padding-right: 1em; text-align: center; vertical-align: top\">You'Re Fired</td>\n",
        "        <td style=\"padding-left: 1em; padding-right: 1em; text-align: center; vertical-align: top\">user_000085</td>\n",
        "        <td style=\"padding-left: 1em; padding-right: 1em; text-align: center; vertical-align: top\">37</td>\n",
        "        <td style=\"padding-left: 1em; padding-right: 1em; text-align: center; vertical-align: top\">Strike Anywhere: You'Re<br>Fired</td>\n",
        "        <td style=\"padding-left: 1em; padding-right: 1em; text-align: center; vertical-align: top\">4433</td>\n",
        "    </tr>\n",
        "    <tr>\n",
        "        <td style=\"padding-left: 1em; padding-right: 1em; text-align: center; vertical-align: top\">Field Mob</td>\n",
        "        <td style=\"padding-left: 1em; padding-right: 1em; text-align: center; vertical-align: top\">At The Park</td>\n",
        "        <td style=\"padding-left: 1em; padding-right: 1em; text-align: center; vertical-align: top\">user_000685</td>\n",
        "        <td style=\"padding-left: 1em; padding-right: 1em; text-align: center; vertical-align: top\">43</td>\n",
        "        <td style=\"padding-left: 1em; padding-right: 1em; text-align: center; vertical-align: top\">Field Mob: At The Park</td>\n",
        "        <td style=\"padding-left: 1em; padding-right: 1em; text-align: center; vertical-align: top\">25250</td>\n",
        "    </tr>\n",
        "    <tr>\n",
        "        <td style=\"padding-left: 1em; padding-right: 1em; text-align: center; vertical-align: top\">Hocico</td>\n",
        "        <td style=\"padding-left: 1em; padding-right: 1em; text-align: center; vertical-align: top\">About A Dead</td>\n",
        "        <td style=\"padding-left: 1em; padding-right: 1em; text-align: center; vertical-align: top\">user_000612</td>\n",
        "        <td style=\"padding-left: 1em; padding-right: 1em; text-align: center; vertical-align: top\">44</td>\n",
        "        <td style=\"padding-left: 1em; padding-right: 1em; text-align: center; vertical-align: top\">Hocico: About A Dead</td>\n",
        "        <td style=\"padding-left: 1em; padding-right: 1em; text-align: center; vertical-align: top\">24005</td>\n",
        "    </tr>\n",
        "    <tr>\n",
        "        <td style=\"padding-left: 1em; padding-right: 1em; text-align: center; vertical-align: top\">\\xe3\\x83\\xa0\\xe3\\x83\\x83\\<br>xe3\\x82\\xaf</td>\n",
        "        <td style=\"padding-left: 1em; padding-right: 1em; text-align: center; vertical-align: top\">Saishuu Ressha</td>\n",
        "        <td style=\"padding-left: 1em; padding-right: 1em; text-align: center; vertical-align: top\">user_000033</td>\n",
        "        <td style=\"padding-left: 1em; padding-right: 1em; text-align: center; vertical-align: top\">50</td>\n",
        "        <td style=\"padding-left: 1em; padding-right: 1em; text-align: center; vertical-align: top\">\\xe3\\x83\\xa0\\xe3\\x83\\x83\\<br>xe3\\x82\\xaf: Saishuu ...</td>\n",
        "        <td style=\"padding-left: 1em; padding-right: 1em; text-align: center; vertical-align: top\">28807</td>\n",
        "    </tr>\n",
        "    <tr>\n",
        "        <td style=\"padding-left: 1em; padding-right: 1em; text-align: center; vertical-align: top\">The Goo Goo Dolls</td>\n",
        "        <td style=\"padding-left: 1em; padding-right: 1em; text-align: center; vertical-align: top\">Iris</td>\n",
        "        <td style=\"padding-left: 1em; padding-right: 1em; text-align: center; vertical-align: top\">user_000709</td>\n",
        "        <td style=\"padding-left: 1em; padding-right: 1em; text-align: center; vertical-align: top\">27</td>\n",
        "        <td style=\"padding-left: 1em; padding-right: 1em; text-align: center; vertical-align: top\">The Goo Goo Dolls: Iris</td>\n",
        "        <td style=\"padding-left: 1em; padding-right: 1em; text-align: center; vertical-align: top\">28058</td>\n",
        "    </tr>\n",
        "    <tr>\n",
        "        <td style=\"padding-left: 1em; padding-right: 1em; text-align: center; vertical-align: top\">Live</td>\n",
        "        <td style=\"padding-left: 1em; padding-right: 1em; text-align: center; vertical-align: top\">The Distance</td>\n",
        "        <td style=\"padding-left: 1em; padding-right: 1em; text-align: center; vertical-align: top\">user_000732</td>\n",
        "        <td style=\"padding-left: 1em; padding-right: 1em; text-align: center; vertical-align: top\">36</td>\n",
        "        <td style=\"padding-left: 1em; padding-right: 1em; text-align: center; vertical-align: top\">Live: The Distance</td>\n",
        "        <td style=\"padding-left: 1em; padding-right: 1em; text-align: center; vertical-align: top\">10504</td>\n",
        "    </tr>\n",
        "    <tr>\n",
        "        <td style=\"padding-left: 1em; padding-right: 1em; text-align: center; vertical-align: top\">Death Cab For Cutie</td>\n",
        "        <td style=\"padding-left: 1em; padding-right: 1em; text-align: center; vertical-align: top\">06 Track 6</td>\n",
        "        <td style=\"padding-left: 1em; padding-right: 1em; text-align: center; vertical-align: top\">user_000525</td>\n",
        "        <td style=\"padding-left: 1em; padding-right: 1em; text-align: center; vertical-align: top\">35</td>\n",
        "        <td style=\"padding-left: 1em; padding-right: 1em; text-align: center; vertical-align: top\">Death Cab For Cutie: 06<br>Track 6</td>\n",
        "        <td style=\"padding-left: 1em; padding-right: 1em; text-align: center; vertical-align: top\">7754</td>\n",
        "    </tr>\n",
        "    <tr>\n",
        "        <td style=\"padding-left: 1em; padding-right: 1em; text-align: center; vertical-align: top\">Kanye West</td>\n",
        "        <td style=\"padding-left: 1em; padding-right: 1em; text-align: center; vertical-align: top\">Coldest Winter</td>\n",
        "        <td style=\"padding-left: 1em; padding-right: 1em; text-align: center; vertical-align: top\">user_000008</td>\n",
        "        <td style=\"padding-left: 1em; padding-right: 1em; text-align: center; vertical-align: top\">600</td>\n",
        "        <td style=\"padding-left: 1em; padding-right: 1em; text-align: center; vertical-align: top\">Kanye West: Coldest<br>Winter</td>\n",
        "        <td style=\"padding-left: 1em; padding-right: 1em; text-align: center; vertical-align: top\">11210</td>\n",
        "    </tr>\n",
        "</table>\n",
        "<table frame=\"box\" rules=\"cols\">\n",
        "    <tr>\n",
        "        <th style=\"padding-left: 1em; padding-right: 1em; text-align: center\">norm</th>\n",
        "        <th style=\"padding-left: 1em; padding-right: 1em; text-align: center\">binary</th>\n",
        "        <th style=\"padding-left: 1em; padding-right: 1em; text-align: center\">norm_song</th>\n",
        "    </tr>\n",
        "    <tr>\n",
        "        <td style=\"padding-left: 1em; padding-right: 1em; text-align: center; vertical-align: top\">0.00237889273356</td>\n",
        "        <td style=\"padding-left: 1em; padding-right: 1em; text-align: center; vertical-align: top\">1</td>\n",
        "        <td style=\"padding-left: 1em; padding-right: 1em; text-align: center; vertical-align: top\">1.71488807206e-07</td>\n",
        "    </tr>\n",
        "    <tr>\n",
        "        <td style=\"padding-left: 1em; padding-right: 1em; text-align: center; vertical-align: top\">0.00216634937307</td>\n",
        "        <td style=\"padding-left: 1em; padding-right: 1em; text-align: center; vertical-align: top\">1</td>\n",
        "        <td style=\"padding-left: 1em; padding-right: 1em; text-align: center; vertical-align: top\">1.42214230491e-07</td>\n",
        "    </tr>\n",
        "    <tr>\n",
        "        <td style=\"padding-left: 1em; padding-right: 1em; text-align: center; vertical-align: top\">0.00834649221746</td>\n",
        "        <td style=\"padding-left: 1em; padding-right: 1em; text-align: center; vertical-align: top\">1</td>\n",
        "        <td style=\"padding-left: 1em; padding-right: 1em; text-align: center; vertical-align: top\">1.88280898206e-06</td>\n",
        "    </tr>\n",
        "    <tr>\n",
        "        <td style=\"padding-left: 1em; padding-right: 1em; text-align: center; vertical-align: top\">0.00170297029703</td>\n",
        "        <td style=\"padding-left: 1em; padding-right: 1em; text-align: center; vertical-align: top\">1</td>\n",
        "        <td style=\"padding-left: 1em; padding-right: 1em; text-align: center; vertical-align: top\">6.74443681992e-08</td>\n",
        "    </tr>\n",
        "    <tr>\n",
        "        <td style=\"padding-left: 1em; padding-right: 1em; text-align: center; vertical-align: top\">0.00183295146844</td>\n",
        "        <td style=\"padding-left: 1em; padding-right: 1em; text-align: center; vertical-align: top\">1</td>\n",
        "        <td style=\"padding-left: 1em; padding-right: 1em; text-align: center; vertical-align: top\">7.63570701289e-08</td>\n",
        "    </tr>\n",
        "    <tr>\n",
        "        <td style=\"padding-left: 1em; padding-right: 1em; text-align: center; vertical-align: top\">0.0017356892422</td>\n",
        "        <td style=\"padding-left: 1em; padding-right: 1em; text-align: center; vertical-align: top\">1</td>\n",
        "        <td style=\"padding-left: 1em; padding-right: 1em; text-align: center; vertical-align: top\">6.02523429096e-08</td>\n",
        "    </tr>\n",
        "    <tr>\n",
        "        <td style=\"padding-left: 1em; padding-right: 1em; text-align: center; vertical-align: top\">0.000962292394326</td>\n",
        "        <td style=\"padding-left: 1em; padding-right: 1em; text-align: center; vertical-align: top\">1</td>\n",
        "        <td style=\"padding-left: 1em; padding-right: 1em; text-align: center; vertical-align: top\">3.42965426732e-08</td>\n",
        "    </tr>\n",
        "    <tr>\n",
        "        <td style=\"padding-left: 1em; padding-right: 1em; text-align: center; vertical-align: top\">0.0034272658035</td>\n",
        "        <td style=\"padding-left: 1em; padding-right: 1em; text-align: center; vertical-align: top\">1</td>\n",
        "        <td style=\"padding-left: 1em; padding-right: 1em; text-align: center; vertical-align: top\">3.26281969107e-07</td>\n",
        "    </tr>\n",
        "    <tr>\n",
        "        <td style=\"padding-left: 1em; padding-right: 1em; text-align: center; vertical-align: top\">0.00451379932938</td>\n",
        "        <td style=\"padding-left: 1em; padding-right: 1em; text-align: center; vertical-align: top\">1</td>\n",
        "        <td style=\"padding-left: 1em; padding-right: 1em; text-align: center; vertical-align: top\">5.82125268168e-07</td>\n",
        "    </tr>\n",
        "    <tr>\n",
        "        <td style=\"padding-left: 1em; padding-right: 1em; text-align: center; vertical-align: top\">0.0535236396075</td>\n",
        "        <td style=\"padding-left: 1em; padding-right: 1em; text-align: center; vertical-align: top\">1</td>\n",
        "        <td style=\"padding-left: 1em; padding-right: 1em; text-align: center; vertical-align: top\">4.77463332805e-06</td>\n",
        "    </tr>\n",
        "    <tr>\n",
        "        <td style=\"padding-left: 1em; padding-right: 1em; text-align: center; vertical-align: top\">...</td>\n",
        "        <td style=\"padding-left: 1em; padding-right: 1em; text-align: center; vertical-align: top\">...</td>\n",
        "        <td style=\"padding-left: 1em; padding-right: 1em; text-align: center; vertical-align: top\">...</td>\n",
        "    </tr>\n",
        "</table>\n",
        "[7204 rows x 9 columns]<br/>Note: Only the head of the SFrame is printed.<br/>You can use print_rows(num_rows=m, num_columns=n) to print more rows and columns.\n",
        "</div>"
       ],
       "metadata": {},
       "output_type": "pyout",
       "prompt_number": 184,
       "text": [
        "Columns:\n",
        "\tartist\tstr\n",
        "\tsong\tstr\n",
        "\tuser\tstr\n",
        "\tCount\tint\n",
        "\tartist_song\tstr\n",
        "\ttotal_cnt\tint\n",
        "\tnorm\tfloat\n",
        "\tbinary\tint\n",
        "\tnorm_song\tfloat\n",
        "\n",
        "Rows: 7204\n",
        "\n",
        "Data:\n",
        "+--------------------------------+--------------------------------+-------------+\n",
        "|             artist             |              song              |     user    |\n",
        "+--------------------------------+--------------------------------+-------------+\n",
        "|           The Frames           | What Happens When The Hear ... | user_000503 |\n",
        "|            Jakalope            |        Nothing Nowhere         | user_000885 |\n",
        "|        Strike Anywhere         |          You'Re Fired          | user_000085 |\n",
        "|           Field Mob            |          At The Park           | user_000685 |\n",
        "|             Hocico             |          About A Dead          | user_000612 |\n",
        "| \\xe3\\x83\\xa0\\xe3\\x83\\x83\\x ... |         Saishuu Ressha         | user_000033 |\n",
        "|       The Goo Goo Dolls        |              Iris              | user_000709 |\n",
        "|              Live              |          The Distance          | user_000732 |\n",
        "|      Death Cab For Cutie       |           06 Track 6           | user_000525 |\n",
        "|           Kanye West           |         Coldest Winter         | user_000008 |\n",
        "+--------------------------------+--------------------------------+-------------+\n",
        "+-------+--------------------------------+-----------+-------------------+--------+\n",
        "| Count |          artist_song           | total_cnt |        norm       | binary |\n",
        "+-------+--------------------------------+-----------+-------------------+--------+\n",
        "|   33  | The Frames: What Happens W ... |   13872   |  0.00237889273356 |   1    |\n",
        "|   33  |   Jakalope: Nothing Nowhere    |   15233   |  0.00216634937307 |   1    |\n",
        "|   37  | Strike Anywhere: You'Re Fired  |    4433   |  0.00834649221746 |   1    |\n",
        "|   43  |     Field Mob: At The Park     |   25250   |  0.00170297029703 |   1    |\n",
        "|   44  |      Hocico: About A Dead      |   24005   |  0.00183295146844 |   1    |\n",
        "|   50  | \\xe3\\x83\\xa0\\xe3\\x83\\x83\\x ... |   28807   |  0.0017356892422  |   1    |\n",
        "|   27  |    The Goo Goo Dolls: Iris     |   28058   | 0.000962292394326 |   1    |\n",
        "|   36  |       Live: The Distance       |   10504   |  0.0034272658035  |   1    |\n",
        "|   35  | Death Cab For Cutie: 06 Tr ... |    7754   |  0.00451379932938 |   1    |\n",
        "|  600  |   Kanye West: Coldest Winter   |   11210   |  0.0535236396075  |   1    |\n",
        "+-------+--------------------------------+-----------+-------------------+--------+\n",
        "+-------------------+\n",
        "|     norm_song     |\n",
        "+-------------------+\n",
        "| 1.71488807206e-07 |\n",
        "| 1.42214230491e-07 |\n",
        "| 1.88280898206e-06 |\n",
        "| 6.74443681992e-08 |\n",
        "| 7.63570701289e-08 |\n",
        "| 6.02523429096e-08 |\n",
        "| 3.42965426732e-08 |\n",
        "| 3.26281969107e-07 |\n",
        "| 5.82125268168e-07 |\n",
        "| 4.77463332805e-06 |\n",
        "|        ...        |\n",
        "+-------------------+\n",
        "[7204 rows x 9 columns]\n",
        "Note: Only the head of the SFrame is printed.\n",
        "You can use print_rows(num_rows=m, num_columns=n) to print more rows and columns."
       ]
      }
     ],
     "prompt_number": 184
    },
    {
     "cell_type": "code",
     "collapsed": false,
     "input": [
      "model_2 = gl.recommender.create(train_set3, user_id = 'user', item_id='artist_song', target='binary')"
     ],
     "language": "python",
     "metadata": {},
     "outputs": [
      {
       "html": [
        "<pre>PROGRESS: Recsys training: model = ranking_factorization_recommender</pre>"
       ],
       "metadata": {},
       "output_type": "display_data",
       "text": [
        "PROGRESS: Recsys training: model = ranking_factorization_recommender"
       ]
      },
      {
       "html": [
        "<pre>PROGRESS: Preparing data set.</pre>"
       ],
       "metadata": {},
       "output_type": "display_data",
       "text": [
        "PROGRESS: Preparing data set."
       ]
      },
      {
       "html": [
        "<pre>PROGRESS:     Data has 7204 observations with 336 users and 6542 items.</pre>"
       ],
       "metadata": {},
       "output_type": "display_data",
       "text": [
        "PROGRESS:     Data has 7204 observations with 336 users and 6542 items."
       ]
      },
      {
       "html": [
        "<pre>PROGRESS:     Data prepared in: 0.618935s</pre>"
       ],
       "metadata": {},
       "output_type": "display_data",
       "text": [
        "PROGRESS:     Data prepared in: 0.618935s"
       ]
      },
      {
       "html": [
        "<pre>PROGRESS: Training ranking_factorization_recommender for recommendations.</pre>"
       ],
       "metadata": {},
       "output_type": "display_data",
       "text": [
        "PROGRESS: Training ranking_factorization_recommender for recommendations."
       ]
      },
      {
       "html": [
        "<pre>PROGRESS: +------------------------------+--------------------------------------------------+----------+</pre>"
       ],
       "metadata": {},
       "output_type": "display_data",
       "text": [
        "PROGRESS: +------------------------------+--------------------------------------------------+----------+"
       ]
      },
      {
       "html": [
        "<pre>PROGRESS: | Parameter                    | Description                                      | Value    |</pre>"
       ],
       "metadata": {},
       "output_type": "display_data",
       "text": [
        "PROGRESS: | Parameter                    | Description                                      | Value    |"
       ]
      },
      {
       "html": [
        "<pre>PROGRESS: +------------------------------+--------------------------------------------------+----------+</pre>"
       ],
       "metadata": {},
       "output_type": "display_data",
       "text": [
        "PROGRESS: +------------------------------+--------------------------------------------------+----------+"
       ]
      },
      {
       "html": [
        "<pre>PROGRESS: | num_factors                  | Factor Dimension                                 | 8        |</pre>"
       ],
       "metadata": {},
       "output_type": "display_data",
       "text": [
        "PROGRESS: | num_factors                  | Factor Dimension                                 | 8        |"
       ]
      },
      {
       "html": [
        "<pre>PROGRESS: | regularization               | L2 Regularization on Factors                     | 0        |</pre>"
       ],
       "metadata": {},
       "output_type": "display_data",
       "text": [
        "PROGRESS: | regularization               | L2 Regularization on Factors                     | 0        |"
       ]
      },
      {
       "html": [
        "<pre>PROGRESS: | ranking_regularization       | Rank-based Regularization Weight                 | 0.25     |</pre>"
       ],
       "metadata": {},
       "output_type": "display_data",
       "text": [
        "PROGRESS: | ranking_regularization       | Rank-based Regularization Weight                 | 0.25     |"
       ]
      },
      {
       "html": [
        "<pre>PROGRESS: | max_iterations               | Maximum Number of Iterations                     | 50       |</pre>"
       ],
       "metadata": {},
       "output_type": "display_data",
       "text": [
        "PROGRESS: | max_iterations               | Maximum Number of Iterations                     | 50       |"
       ]
      },
      {
       "html": [
        "<pre>PROGRESS: +------------------------------+--------------------------------------------------+----------+</pre>"
       ],
       "metadata": {},
       "output_type": "display_data",
       "text": [
        "PROGRESS: +------------------------------+--------------------------------------------------+----------+"
       ]
      },
      {
       "html": [
        "<pre>PROGRESS:   Optimizing model using SGD; tuning step size.</pre>"
       ],
       "metadata": {},
       "output_type": "display_data",
       "text": [
        "PROGRESS:   Optimizing model using SGD; tuning step size."
       ]
      },
      {
       "html": [
        "<pre>PROGRESS:   Using 7204 / 7204 points for tuning the step size.</pre>"
       ],
       "metadata": {},
       "output_type": "display_data",
       "text": [
        "PROGRESS:   Using 7204 / 7204 points for tuning the step size."
       ]
      },
      {
       "html": [
        "<pre>PROGRESS: +---------+-------------------+---------------------------+</pre>"
       ],
       "metadata": {},
       "output_type": "display_data",
       "text": [
        "PROGRESS: +---------+-------------------+---------------------------+"
       ]
      },
      {
       "html": [
        "<pre>PROGRESS: | Attempt | Initial Step Size | Estimated Objective Value |</pre>"
       ],
       "metadata": {},
       "output_type": "display_data",
       "text": [
        "PROGRESS: | Attempt | Initial Step Size | Estimated Objective Value |"
       ]
      },
      {
       "html": [
        "<pre>PROGRESS: +---------+-------------------+---------------------------+</pre>"
       ],
       "metadata": {},
       "output_type": "display_data",
       "text": [
        "PROGRESS: +---------+-------------------+---------------------------+"
       ]
      },
      {
       "html": [
        "<pre>PROGRESS: | 0       | 6.25              | Not Viable                |</pre>"
       ],
       "metadata": {},
       "output_type": "display_data",
       "text": [
        "PROGRESS: | 0       | 6.25              | Not Viable                |"
       ]
      },
      {
       "html": [
        "<pre>PROGRESS: | 1       | 1.5625            | Not Viable                |</pre>"
       ],
       "metadata": {},
       "output_type": "display_data",
       "text": [
        "PROGRESS: | 1       | 1.5625            | Not Viable                |"
       ]
      },
      {
       "html": [
        "<pre>PROGRESS: | 2       | 0.390625          | Not Viable                |</pre>"
       ],
       "metadata": {},
       "output_type": "display_data",
       "text": [
        "PROGRESS: | 2       | 0.390625          | Not Viable                |"
       ]
      },
      {
       "html": [
        "<pre>PROGRESS: | 3       | 0.0976562         | Not Viable                |</pre>"
       ],
       "metadata": {},
       "output_type": "display_data",
       "text": [
        "PROGRESS: | 3       | 0.0976562         | Not Viable                |"
       ]
      },
      {
       "html": [
        "<pre>PROGRESS: | 4       | 0.0244141         | Not Viable                |</pre>"
       ],
       "metadata": {},
       "output_type": "display_data",
       "text": [
        "PROGRESS: | 4       | 0.0244141         | Not Viable                |"
       ]
      },
      {
       "html": [
        "<pre>PROGRESS: | 5       | 0.00610352        | 0.202207                  |</pre>"
       ],
       "metadata": {},
       "output_type": "display_data",
       "text": [
        "PROGRESS: | 5       | 0.00610352        | 0.202207                  |"
       ]
      },
      {
       "html": [
        "<pre>PROGRESS: | 6       | 0.00305176        | 0.200451                  |</pre>"
       ],
       "metadata": {},
       "output_type": "display_data",
       "text": [
        "PROGRESS: | 6       | 0.00305176        | 0.200451                  |"
       ]
      },
      {
       "html": [
        "<pre>PROGRESS: | 7       | 0.00152588        | 0.2008                    |</pre>"
       ],
       "metadata": {},
       "output_type": "display_data",
       "text": [
        "PROGRESS: | 7       | 0.00152588        | 0.2008                    |"
       ]
      },
      {
       "html": [
        "<pre>PROGRESS: | 8       | 0.000762939       | 0.201824                  |</pre>"
       ],
       "metadata": {},
       "output_type": "display_data",
       "text": [
        "PROGRESS: | 8       | 0.000762939       | 0.201824                  |"
       ]
      },
      {
       "html": [
        "<pre>PROGRESS: | 9       | 0.00038147        | 0.201383                  |</pre>"
       ],
       "metadata": {},
       "output_type": "display_data",
       "text": [
        "PROGRESS: | 9       | 0.00038147        | 0.201383                  |"
       ]
      },
      {
       "html": [
        "<pre>PROGRESS: +---------+-------------------+---------------------------+</pre>"
       ],
       "metadata": {},
       "output_type": "display_data",
       "text": [
        "PROGRESS: +---------+-------------------+---------------------------+"
       ]
      },
      {
       "html": [
        "<pre>PROGRESS: | Final   | 0.00305176        | 0.200451                  |</pre>"
       ],
       "metadata": {},
       "output_type": "display_data",
       "text": [
        "PROGRESS: | Final   | 0.00305176        | 0.200451                  |"
       ]
      },
      {
       "html": [
        "<pre>PROGRESS: +---------+-------------------+---------------------------+</pre>"
       ],
       "metadata": {},
       "output_type": "display_data",
       "text": [
        "PROGRESS: +---------+-------------------+---------------------------+"
       ]
      },
      {
       "html": [
        "<pre>PROGRESS: Starting Optimization.</pre>"
       ],
       "metadata": {},
       "output_type": "display_data",
       "text": [
        "PROGRESS: Starting Optimization."
       ]
      },
      {
       "html": [
        "<pre>PROGRESS: +---------+--------------+----------------+---------------+-------------+</pre>"
       ],
       "metadata": {},
       "output_type": "display_data",
       "text": [
        "PROGRESS: +---------+--------------+----------------+---------------+-------------+"
       ]
      },
      {
       "html": [
        "<pre>PROGRESS: | Iter.   | Elapsed Time | Est. Objective | Training RMSE | Step Size   |</pre>"
       ],
       "metadata": {},
       "output_type": "display_data",
       "text": [
        "PROGRESS: | Iter.   | Elapsed Time | Est. Objective | Training RMSE | Step Size   |"
       ]
      },
      {
       "html": [
        "<pre>PROGRESS: +---------+--------------+----------------+---------------+-------------+</pre>"
       ],
       "metadata": {},
       "output_type": "display_data",
       "text": [
        "PROGRESS: +---------+--------------+----------------+---------------+-------------+"
       ]
      },
      {
       "html": [
        "<pre>PROGRESS: | Initial | 1.719ms      | 0.250096       | 0.000600135   |             |</pre>"
       ],
       "metadata": {},
       "output_type": "display_data",
       "text": [
        "PROGRESS: | Initial | 1.719ms      | 0.250096       | 0.000600135   |             |"
       ]
      },
      {
       "html": [
        "<pre>PROGRESS: +---------+--------------+----------------+---------------+-------------+</pre>"
       ],
       "metadata": {},
       "output_type": "display_data",
       "text": [
        "PROGRESS: +---------+--------------+----------------+---------------+-------------+"
       ]
      },
      {
       "html": [
        "<pre>PROGRESS: | 1       | 18.845ms     | 0.204533       | 0.21499       | 0.00305176  |</pre>"
       ],
       "metadata": {},
       "output_type": "display_data",
       "text": [
        "PROGRESS: | 1       | 18.845ms     | 0.204533       | 0.21499       | 0.00305176  |"
       ]
      },
      {
       "html": [
        "<pre>PROGRESS: +---------+--------------+----------------+---------------+-------------+</pre>"
       ],
       "metadata": {},
       "output_type": "display_data",
       "text": [
        "PROGRESS: +---------+--------------+----------------+---------------+-------------+"
       ]
      },
      {
       "html": [
        "<pre>PROGRESS: | Final   | 580.715ms    | 0.200377       | 0.213492      |             |</pre>"
       ],
       "metadata": {},
       "output_type": "display_data",
       "text": [
        "PROGRESS: | Final   | 580.715ms    | 0.200377       | 0.213492      |             |"
       ]
      },
      {
       "html": [
        "<pre>PROGRESS: +---------+--------------+----------------+---------------+-------------+</pre>"
       ],
       "metadata": {},
       "output_type": "display_data",
       "text": [
        "PROGRESS: +---------+--------------+----------------+---------------+-------------+"
       ]
      },
      {
       "html": [
        "<pre>PROGRESS: Optimization Complete: Convergence on objective within bounds.</pre>"
       ],
       "metadata": {},
       "output_type": "display_data",
       "text": [
        "PROGRESS: Optimization Complete: Convergence on objective within bounds."
       ]
      }
     ],
     "prompt_number": 213
    },
    {
     "cell_type": "code",
     "collapsed": false,
     "input": [
      "model_2.recommend([train_user0])"
     ],
     "language": "python",
     "metadata": {},
     "outputs": [
      {
       "html": [
        "<div style=\"max-height:1000px;max-width:1500px;overflow:auto;\"><table frame=\"box\" rules=\"cols\">\n",
        "    <tr>\n",
        "        <th style=\"padding-left: 1em; padding-right: 1em; text-align: center\">user</th>\n",
        "        <th style=\"padding-left: 1em; padding-right: 1em; text-align: center\">artist_song</th>\n",
        "        <th style=\"padding-left: 1em; padding-right: 1em; text-align: center\">score</th>\n",
        "        <th style=\"padding-left: 1em; padding-right: 1em; text-align: center\">rank</th>\n",
        "    </tr>\n",
        "    <tr>\n",
        "        <td style=\"padding-left: 1em; padding-right: 1em; text-align: center; vertical-align: top\">user_000234</td>\n",
        "        <td style=\"padding-left: 1em; padding-right: 1em; text-align: center; vertical-align: top\">Death Cab For Cutie: Soul<br>Meets Body</td>\n",
        "        <td style=\"padding-left: 1em; padding-right: 1em; text-align: center; vertical-align: top\">0.767914505087</td>\n",
        "        <td style=\"padding-left: 1em; padding-right: 1em; text-align: center; vertical-align: top\">1</td>\n",
        "    </tr>\n",
        "    <tr>\n",
        "        <td style=\"padding-left: 1em; padding-right: 1em; text-align: center; vertical-align: top\">user_000234</td>\n",
        "        <td style=\"padding-left: 1em; padding-right: 1em; text-align: center; vertical-align: top\">Muse: Time Is Running Out</td>\n",
        "        <td style=\"padding-left: 1em; padding-right: 1em; text-align: center; vertical-align: top\">0.767367748365</td>\n",
        "        <td style=\"padding-left: 1em; padding-right: 1em; text-align: center; vertical-align: top\">2</td>\n",
        "    </tr>\n",
        "    <tr>\n",
        "        <td style=\"padding-left: 1em; padding-right: 1em; text-align: center; vertical-align: top\">user_000234</td>\n",
        "        <td style=\"padding-left: 1em; padding-right: 1em; text-align: center; vertical-align: top\">Yeah Yeah Yeahs: Maps</td>\n",
        "        <td style=\"padding-left: 1em; padding-right: 1em; text-align: center; vertical-align: top\">0.767065900077</td>\n",
        "        <td style=\"padding-left: 1em; padding-right: 1em; text-align: center; vertical-align: top\">3</td>\n",
        "    </tr>\n",
        "    <tr>\n",
        "        <td style=\"padding-left: 1em; padding-right: 1em; text-align: center; vertical-align: top\">user_000234</td>\n",
        "        <td style=\"padding-left: 1em; padding-right: 1em; text-align: center; vertical-align: top\">Imogen Heap: Hide And<br>Seek</td>\n",
        "        <td style=\"padding-left: 1em; padding-right: 1em; text-align: center; vertical-align: top\">0.76463585811</td>\n",
        "        <td style=\"padding-left: 1em; padding-right: 1em; text-align: center; vertical-align: top\">4</td>\n",
        "    </tr>\n",
        "    <tr>\n",
        "        <td style=\"padding-left: 1em; padding-right: 1em; text-align: center; vertical-align: top\">user_000234</td>\n",
        "        <td style=\"padding-left: 1em; padding-right: 1em; text-align: center; vertical-align: top\">Zero 7: In The Waiting<br>Line</td>\n",
        "        <td style=\"padding-left: 1em; padding-right: 1em; text-align: center; vertical-align: top\">0.763891839932</td>\n",
        "        <td style=\"padding-left: 1em; padding-right: 1em; text-align: center; vertical-align: top\">5</td>\n",
        "    </tr>\n",
        "    <tr>\n",
        "        <td style=\"padding-left: 1em; padding-right: 1em; text-align: center; vertical-align: top\">user_000234</td>\n",
        "        <td style=\"padding-left: 1em; padding-right: 1em; text-align: center; vertical-align: top\">Radiohead: Creep</td>\n",
        "        <td style=\"padding-left: 1em; padding-right: 1em; text-align: center; vertical-align: top\">0.763849510824</td>\n",
        "        <td style=\"padding-left: 1em; padding-right: 1em; text-align: center; vertical-align: top\">6</td>\n",
        "    </tr>\n",
        "    <tr>\n",
        "        <td style=\"padding-left: 1em; padding-right: 1em; text-align: center; vertical-align: top\">user_000234</td>\n",
        "        <td style=\"padding-left: 1em; padding-right: 1em; text-align: center; vertical-align: top\">Sigur R\\xc3\\xb3s:<br>Untitled 4</td>\n",
        "        <td style=\"padding-left: 1em; padding-right: 1em; text-align: center; vertical-align: top\">0.763647114352</td>\n",
        "        <td style=\"padding-left: 1em; padding-right: 1em; text-align: center; vertical-align: top\">7</td>\n",
        "    </tr>\n",
        "    <tr>\n",
        "        <td style=\"padding-left: 1em; padding-right: 1em; text-align: center; vertical-align: top\">user_000234</td>\n",
        "        <td style=\"padding-left: 1em; padding-right: 1em; text-align: center; vertical-align: top\">The Fray: How To Save A<br>Life</td>\n",
        "        <td style=\"padding-left: 1em; padding-right: 1em; text-align: center; vertical-align: top\">0.762752747142</td>\n",
        "        <td style=\"padding-left: 1em; padding-right: 1em; text-align: center; vertical-align: top\">8</td>\n",
        "    </tr>\n",
        "    <tr>\n",
        "        <td style=\"padding-left: 1em; padding-right: 1em; text-align: center; vertical-align: top\">user_000234</td>\n",
        "        <td style=\"padding-left: 1em; padding-right: 1em; text-align: center; vertical-align: top\">Jeff Buckley: Hallelujah</td>\n",
        "        <td style=\"padding-left: 1em; padding-right: 1em; text-align: center; vertical-align: top\">0.762440347703</td>\n",
        "        <td style=\"padding-left: 1em; padding-right: 1em; text-align: center; vertical-align: top\">9</td>\n",
        "    </tr>\n",
        "    <tr>\n",
        "        <td style=\"padding-left: 1em; padding-right: 1em; text-align: center; vertical-align: top\">user_000234</td>\n",
        "        <td style=\"padding-left: 1em; padding-right: 1em; text-align: center; vertical-align: top\">Britney Spears: Gimme<br>More</td>\n",
        "        <td style=\"padding-left: 1em; padding-right: 1em; text-align: center; vertical-align: top\">0.76185846478</td>\n",
        "        <td style=\"padding-left: 1em; padding-right: 1em; text-align: center; vertical-align: top\">10</td>\n",
        "    </tr>\n",
        "</table>\n",
        "[10 rows x 4 columns]<br/>\n",
        "</div>"
       ],
       "metadata": {},
       "output_type": "pyout",
       "prompt_number": 217,
       "text": [
        "Columns:\n",
        "\tuser\tstr\n",
        "\tartist_song\tstr\n",
        "\tscore\tfloat\n",
        "\trank\tint\n",
        "\n",
        "Rows: 10\n",
        "\n",
        "Data:\n",
        "+-------------+--------------------------------+----------------+------+\n",
        "|     user    |          artist_song           |     score      | rank |\n",
        "+-------------+--------------------------------+----------------+------+\n",
        "| user_000234 | Death Cab For Cutie: Soul  ... | 0.767914505087 |  1   |\n",
        "| user_000234 |   Muse: Time Is Running Out    | 0.767367748365 |  2   |\n",
        "| user_000234 |     Yeah Yeah Yeahs: Maps      | 0.767065900077 |  3   |\n",
        "| user_000234 |   Imogen Heap: Hide And Seek   | 0.76463585811  |  4   |\n",
        "| user_000234 |  Zero 7: In The Waiting Line   | 0.763891839932 |  5   |\n",
        "| user_000234 |        Radiohead: Creep        | 0.763849510824 |  6   |\n",
        "| user_000234 |  Sigur R\\xc3\\xb3s: Untitled 4  | 0.763647114352 |  7   |\n",
        "| user_000234 |  The Fray: How To Save A Life  | 0.762752747142 |  8   |\n",
        "| user_000234 |    Jeff Buckley: Hallelujah    | 0.762440347703 |  9   |\n",
        "| user_000234 |   Britney Spears: Gimme More   | 0.76185846478  |  10  |\n",
        "+-------------+--------------------------------+----------------+------+\n",
        "[10 rows x 4 columns]\n"
       ]
      }
     ],
     "prompt_number": 217
    },
    {
     "cell_type": "code",
     "collapsed": false,
     "input": [
      "model_2.recommend([train_user2])"
     ],
     "language": "python",
     "metadata": {},
     "outputs": [
      {
       "html": [
        "<div style=\"max-height:1000px;max-width:1500px;overflow:auto;\"><table frame=\"box\" rules=\"cols\">\n",
        "    <tr>\n",
        "        <th style=\"padding-left: 1em; padding-right: 1em; text-align: center\">user</th>\n",
        "        <th style=\"padding-left: 1em; padding-right: 1em; text-align: center\">artist_song</th>\n",
        "        <th style=\"padding-left: 1em; padding-right: 1em; text-align: center\">score</th>\n",
        "        <th style=\"padding-left: 1em; padding-right: 1em; text-align: center\">rank</th>\n",
        "    </tr>\n",
        "    <tr>\n",
        "        <td style=\"padding-left: 1em; padding-right: 1em; text-align: center; vertical-align: top\">user_000008</td>\n",
        "        <td style=\"padding-left: 1em; padding-right: 1em; text-align: center; vertical-align: top\">Death Cab For Cutie: Soul<br>Meets Body</td>\n",
        "        <td style=\"padding-left: 1em; padding-right: 1em; text-align: center; vertical-align: top\">0.770875505174</td>\n",
        "        <td style=\"padding-left: 1em; padding-right: 1em; text-align: center; vertical-align: top\">1</td>\n",
        "    </tr>\n",
        "    <tr>\n",
        "        <td style=\"padding-left: 1em; padding-right: 1em; text-align: center; vertical-align: top\">user_000008</td>\n",
        "        <td style=\"padding-left: 1em; padding-right: 1em; text-align: center; vertical-align: top\">Muse: Time Is Running Out</td>\n",
        "        <td style=\"padding-left: 1em; padding-right: 1em; text-align: center; vertical-align: top\">0.770326647564</td>\n",
        "        <td style=\"padding-left: 1em; padding-right: 1em; text-align: center; vertical-align: top\">2</td>\n",
        "    </tr>\n",
        "    <tr>\n",
        "        <td style=\"padding-left: 1em; padding-right: 1em; text-align: center; vertical-align: top\">user_000008</td>\n",
        "        <td style=\"padding-left: 1em; padding-right: 1em; text-align: center; vertical-align: top\">Yeah Yeah Yeahs: Maps</td>\n",
        "        <td style=\"padding-left: 1em; padding-right: 1em; text-align: center; vertical-align: top\">0.770026943523</td>\n",
        "        <td style=\"padding-left: 1em; padding-right: 1em; text-align: center; vertical-align: top\">3</td>\n",
        "    </tr>\n",
        "    <tr>\n",
        "        <td style=\"padding-left: 1em; padding-right: 1em; text-align: center; vertical-align: top\">user_000008</td>\n",
        "        <td style=\"padding-left: 1em; padding-right: 1em; text-align: center; vertical-align: top\">Imogen Heap: Hide And<br>Seek</td>\n",
        "        <td style=\"padding-left: 1em; padding-right: 1em; text-align: center; vertical-align: top\">0.767596232756</td>\n",
        "        <td style=\"padding-left: 1em; padding-right: 1em; text-align: center; vertical-align: top\">4</td>\n",
        "    </tr>\n",
        "    <tr>\n",
        "        <td style=\"padding-left: 1em; padding-right: 1em; text-align: center; vertical-align: top\">user_000008</td>\n",
        "        <td style=\"padding-left: 1em; padding-right: 1em; text-align: center; vertical-align: top\">Zero 7: In The Waiting<br>Line</td>\n",
        "        <td style=\"padding-left: 1em; padding-right: 1em; text-align: center; vertical-align: top\">0.766853040587</td>\n",
        "        <td style=\"padding-left: 1em; padding-right: 1em; text-align: center; vertical-align: top\">5</td>\n",
        "    </tr>\n",
        "    <tr>\n",
        "        <td style=\"padding-left: 1em; padding-right: 1em; text-align: center; vertical-align: top\">user_000008</td>\n",
        "        <td style=\"padding-left: 1em; padding-right: 1em; text-align: center; vertical-align: top\">Radiohead: Creep</td>\n",
        "        <td style=\"padding-left: 1em; padding-right: 1em; text-align: center; vertical-align: top\">0.766809676718</td>\n",
        "        <td style=\"padding-left: 1em; padding-right: 1em; text-align: center; vertical-align: top\">6</td>\n",
        "    </tr>\n",
        "    <tr>\n",
        "        <td style=\"padding-left: 1em; padding-right: 1em; text-align: center; vertical-align: top\">user_000008</td>\n",
        "        <td style=\"padding-left: 1em; padding-right: 1em; text-align: center; vertical-align: top\">Sigur R\\xc3\\xb3s:<br>Untitled 4</td>\n",
        "        <td style=\"padding-left: 1em; padding-right: 1em; text-align: center; vertical-align: top\">0.766607021846</td>\n",
        "        <td style=\"padding-left: 1em; padding-right: 1em; text-align: center; vertical-align: top\">7</td>\n",
        "    </tr>\n",
        "    <tr>\n",
        "        <td style=\"padding-left: 1em; padding-right: 1em; text-align: center; vertical-align: top\">user_000008</td>\n",
        "        <td style=\"padding-left: 1em; padding-right: 1em; text-align: center; vertical-align: top\">Jeff Buckley: Hallelujah</td>\n",
        "        <td style=\"padding-left: 1em; padding-right: 1em; text-align: center; vertical-align: top\">0.765400894198</td>\n",
        "        <td style=\"padding-left: 1em; padding-right: 1em; text-align: center; vertical-align: top\">8</td>\n",
        "    </tr>\n",
        "    <tr>\n",
        "        <td style=\"padding-left: 1em; padding-right: 1em; text-align: center; vertical-align: top\">user_000008</td>\n",
        "        <td style=\"padding-left: 1em; padding-right: 1em; text-align: center; vertical-align: top\">Britney Spears: Gimme<br>More</td>\n",
        "        <td style=\"padding-left: 1em; padding-right: 1em; text-align: center; vertical-align: top\">0.764819892444</td>\n",
        "        <td style=\"padding-left: 1em; padding-right: 1em; text-align: center; vertical-align: top\">9</td>\n",
        "    </tr>\n",
        "    <tr>\n",
        "        <td style=\"padding-left: 1em; padding-right: 1em; text-align: center; vertical-align: top\">user_000008</td>\n",
        "        <td style=\"padding-left: 1em; padding-right: 1em; text-align: center; vertical-align: top\">Mgmt: Electric Feel</td>\n",
        "        <td style=\"padding-left: 1em; padding-right: 1em; text-align: center; vertical-align: top\">0.764673735484</td>\n",
        "        <td style=\"padding-left: 1em; padding-right: 1em; text-align: center; vertical-align: top\">10</td>\n",
        "    </tr>\n",
        "</table>\n",
        "[10 rows x 4 columns]<br/>\n",
        "</div>"
       ],
       "metadata": {},
       "output_type": "pyout",
       "prompt_number": 219,
       "text": [
        "Columns:\n",
        "\tuser\tstr\n",
        "\tartist_song\tstr\n",
        "\tscore\tfloat\n",
        "\trank\tint\n",
        "\n",
        "Rows: 10\n",
        "\n",
        "Data:\n",
        "+-------------+--------------------------------+----------------+------+\n",
        "|     user    |          artist_song           |     score      | rank |\n",
        "+-------------+--------------------------------+----------------+------+\n",
        "| user_000008 | Death Cab For Cutie: Soul  ... | 0.770875505174 |  1   |\n",
        "| user_000008 |   Muse: Time Is Running Out    | 0.770326647564 |  2   |\n",
        "| user_000008 |     Yeah Yeah Yeahs: Maps      | 0.770026943523 |  3   |\n",
        "| user_000008 |   Imogen Heap: Hide And Seek   | 0.767596232756 |  4   |\n",
        "| user_000008 |  Zero 7: In The Waiting Line   | 0.766853040587 |  5   |\n",
        "| user_000008 |        Radiohead: Creep        | 0.766809676718 |  6   |\n",
        "| user_000008 |  Sigur R\\xc3\\xb3s: Untitled 4  | 0.766607021846 |  7   |\n",
        "| user_000008 |    Jeff Buckley: Hallelujah    | 0.765400894198 |  8   |\n",
        "| user_000008 |   Britney Spears: Gimme More   | 0.764819892444 |  9   |\n",
        "| user_000008 |      Mgmt: Electric Feel       | 0.764673735484 |  10  |\n",
        "+-------------+--------------------------------+----------------+------+\n",
        "[10 rows x 4 columns]\n"
       ]
      }
     ],
     "prompt_number": 219
    },
    {
     "cell_type": "code",
     "collapsed": false,
     "input": [
      "r.current_top_songs(train_user2, train_set3, 'norm_song')[['artist_song', 'norm_song']]"
     ],
     "language": "python",
     "metadata": {},
     "outputs": [
      {
       "html": [
        "<div style=\"max-height:1000px;max-width:1500px;overflow:auto;\"><table frame=\"box\" rules=\"cols\">\n",
        "    <tr>\n",
        "        <th style=\"padding-left: 1em; padding-right: 1em; text-align: center\">artist_song</th>\n",
        "        <th style=\"padding-left: 1em; padding-right: 1em; text-align: center\">norm_song</th>\n",
        "    </tr>\n",
        "    <tr>\n",
        "        <td style=\"padding-left: 1em; padding-right: 1em; text-align: center; vertical-align: top\">Kanye West: Amazing<br>(Feat. Young Jeezy)</td>\n",
        "        <td style=\"padding-left: 1em; padding-right: 1em; text-align: center; vertical-align: top\">5.13273082766e-06</td>\n",
        "    </tr>\n",
        "    <tr>\n",
        "        <td style=\"padding-left: 1em; padding-right: 1em; text-align: center; vertical-align: top\">Kanye West: Welcome To<br>Heartbreak (Feat. Kid ...</td>\n",
        "        <td style=\"padding-left: 1em; padding-right: 1em; text-align: center; vertical-align: top\">5.11681538323e-06</td>\n",
        "    </tr>\n",
        "    <tr>\n",
        "        <td style=\"padding-left: 1em; padding-right: 1em; text-align: center; vertical-align: top\">Kanye West: Heartless</td>\n",
        "        <td style=\"padding-left: 1em; padding-right: 1em; text-align: center; vertical-align: top\">4.97357638339e-06</td>\n",
        "    </tr>\n",
        "    <tr>\n",
        "        <td style=\"padding-left: 1em; padding-right: 1em; text-align: center; vertical-align: top\">Kanye West: Paranoid<br>(Feat. Mr. Hudson)</td>\n",
        "        <td style=\"padding-left: 1em; padding-right: 1em; text-align: center; vertical-align: top\">4.89399916126e-06</td>\n",
        "    </tr>\n",
        "    <tr>\n",
        "        <td style=\"padding-left: 1em; padding-right: 1em; text-align: center; vertical-align: top\">Kanye West: Coldest<br>Winter</td>\n",
        "        <td style=\"padding-left: 1em; padding-right: 1em; text-align: center; vertical-align: top\">4.77463332805e-06</td>\n",
        "    </tr>\n",
        "    <tr>\n",
        "        <td style=\"padding-left: 1em; padding-right: 1em; text-align: center; vertical-align: top\">Kanye West: Bad News</td>\n",
        "        <td style=\"padding-left: 1em; padding-right: 1em; text-align: center; vertical-align: top\">4.7428024392e-06</td>\n",
        "    </tr>\n",
        "    <tr>\n",
        "        <td style=\"padding-left: 1em; padding-right: 1em; text-align: center; vertical-align: top\">Kanye West: See You In My<br>Nightmares</td>\n",
        "        <td style=\"padding-left: 1em; padding-right: 1em; text-align: center; vertical-align: top\">4.67118293928e-06</td>\n",
        "    </tr>\n",
        "    <tr>\n",
        "        <td style=\"padding-left: 1em; padding-right: 1em; text-align: center; vertical-align: top\">Kanye West: Robocop</td>\n",
        "        <td style=\"padding-left: 1em; padding-right: 1em; text-align: center; vertical-align: top\">4.35287405074e-06</td>\n",
        "    </tr>\n",
        "    <tr>\n",
        "        <td style=\"padding-left: 1em; padding-right: 1em; text-align: center; vertical-align: top\">T.I.: Live Your Life<br>(Feat. Rihanna)</td>\n",
        "        <td style=\"padding-left: 1em; padding-right: 1em; text-align: center; vertical-align: top\">9.78799832251e-07</td>\n",
        "    </tr>\n",
        "    <tr>\n",
        "        <td style=\"padding-left: 1em; padding-right: 1em; text-align: center; vertical-align: top\">T.I.: Ready For Whatever</td>\n",
        "        <td style=\"padding-left: 1em; padding-right: 1em; text-align: center; vertical-align: top\">8.91264887904e-07</td>\n",
        "    </tr>\n",
        "    <tr>\n",
        "        <td style=\"padding-left: 1em; padding-right: 1em; text-align: center; vertical-align: top\">...</td>\n",
        "        <td style=\"padding-left: 1em; padding-right: 1em; text-align: center; vertical-align: top\">...</td>\n",
        "    </tr>\n",
        "</table>\n",
        "[40 rows x 2 columns]<br/>Note: Only the head of the SFrame is printed.<br/>You can use print_rows(num_rows=m, num_columns=n) to print more rows and columns.\n",
        "</div>"
       ],
       "metadata": {},
       "output_type": "pyout",
       "prompt_number": 226,
       "text": [
        "Columns:\n",
        "\tartist_song\tstr\n",
        "\tnorm_song\tfloat\n",
        "\n",
        "Rows: 40\n",
        "\n",
        "Data:\n",
        "+--------------------------------+-------------------+\n",
        "|          artist_song           |     norm_song     |\n",
        "+--------------------------------+-------------------+\n",
        "| Kanye West: Amazing (Feat. ... | 5.13273082766e-06 |\n",
        "| Kanye West: Welcome To Hea ... | 5.11681538323e-06 |\n",
        "|     Kanye West: Heartless      | 4.97357638339e-06 |\n",
        "| Kanye West: Paranoid (Feat ... | 4.89399916126e-06 |\n",
        "|   Kanye West: Coldest Winter   | 4.77463332805e-06 |\n",
        "|      Kanye West: Bad News      |  4.7428024392e-06 |\n",
        "| Kanye West: See You In My  ... | 4.67118293928e-06 |\n",
        "|      Kanye West: Robocop       | 4.35287405074e-06 |\n",
        "| T.I.: Live Your Life (Feat ... | 9.78799832251e-07 |\n",
        "|    T.I.: Ready For Whatever    | 8.91264887904e-07 |\n",
        "|              ...               |        ...        |\n",
        "+--------------------------------+-------------------+\n",
        "[40 rows x 2 columns]\n",
        "Note: Only the head of the SFrame is printed.\n",
        "You can use print_rows(num_rows=m, num_columns=n) to print more rows and columns."
       ]
      }
     ],
     "prompt_number": 226
    },
    {
     "cell_type": "code",
     "collapsed": false,
     "input": [
      "r.current_top_songs(train_user0, train_set3, 'norm_song')[['artist_song', 'norm_song']]"
     ],
     "language": "python",
     "metadata": {},
     "outputs": [
      {
       "html": [
        "<div style=\"max-height:1000px;max-width:1500px;overflow:auto;\"><table frame=\"box\" rules=\"cols\">\n",
        "    <tr>\n",
        "        <th style=\"padding-left: 1em; padding-right: 1em; text-align: center\">artist_song</th>\n",
        "        <th style=\"padding-left: 1em; padding-right: 1em; text-align: center\">norm_song</th>\n",
        "    </tr>\n",
        "    <tr>\n",
        "        <td style=\"padding-left: 1em; padding-right: 1em; text-align: center; vertical-align: top\">Elliott Smith: Color Bars</td>\n",
        "        <td style=\"padding-left: 1em; padding-right: 1em; text-align: center; vertical-align: top\">1.10405732692e-06</td>\n",
        "    </tr>\n",
        "    <tr>\n",
        "        <td style=\"padding-left: 1em; padding-right: 1em; text-align: center; vertical-align: top\">Rilo Kiley: Dreamworld</td>\n",
        "        <td style=\"padding-left: 1em; padding-right: 1em; text-align: center; vertical-align: top\">1.04695091346e-06</td>\n",
        "    </tr>\n",
        "    <tr>\n",
        "        <td style=\"padding-left: 1em; padding-right: 1em; text-align: center; vertical-align: top\">Flight Of The Conchords:<br>The Most Beautiful Gi ...</td>\n",
        "        <td style=\"padding-left: 1em; padding-right: 1em; text-align: center; vertical-align: top\">8.56596201921e-07</td>\n",
        "    </tr>\n",
        "    <tr>\n",
        "        <td style=\"padding-left: 1em; padding-right: 1em; text-align: center; vertical-align: top\">Elliott Smith: Somebody<br>That I Used To Know</td>\n",
        "        <td style=\"padding-left: 1em; padding-right: 1em; text-align: center; vertical-align: top\">8.56596201921e-07</td>\n",
        "    </tr>\n",
        "    <tr>\n",
        "        <td style=\"padding-left: 1em; padding-right: 1em; text-align: center; vertical-align: top\">Elliott Smith: Roman<br>Candle</td>\n",
        "        <td style=\"padding-left: 1em; padding-right: 1em; text-align: center; vertical-align: top\">7.42383374998e-07</td>\n",
        "    </tr>\n",
        "    <tr>\n",
        "        <td style=\"padding-left: 1em; padding-right: 1em; text-align: center; vertical-align: top\">Kings Of Convenience: The<br>Passenger</td>\n",
        "        <td style=\"padding-left: 1em; padding-right: 1em; text-align: center; vertical-align: top\">6.28170548075e-07</td>\n",
        "    </tr>\n",
        "    <tr>\n",
        "        <td style=\"padding-left: 1em; padding-right: 1em; text-align: center; vertical-align: top\">Elliott Smith: Drive All<br>Over Town</td>\n",
        "        <td style=\"padding-left: 1em; padding-right: 1em; text-align: center; vertical-align: top\">6.28170548075e-07</td>\n",
        "    </tr>\n",
        "    <tr>\n",
        "        <td style=\"padding-left: 1em; padding-right: 1em; text-align: center; vertical-align: top\">Sparklehorse: It'S A<br>Wonderful Life</td>\n",
        "        <td style=\"padding-left: 1em; padding-right: 1em; text-align: center; vertical-align: top\">6.28170548075e-07</td>\n",
        "    </tr>\n",
        "    <tr>\n",
        "        <td style=\"padding-left: 1em; padding-right: 1em; text-align: center; vertical-align: top\">Rufus Wainwright: Poses</td>\n",
        "        <td style=\"padding-left: 1em; padding-right: 1em; text-align: center; vertical-align: top\">6.28170548075e-07</td>\n",
        "    </tr>\n",
        "    <tr>\n",
        "        <td style=\"padding-left: 1em; padding-right: 1em; text-align: center; vertical-align: top\">Sparklehorse: Gold Day</td>\n",
        "        <td style=\"padding-left: 1em; padding-right: 1em; text-align: center; vertical-align: top\">6.09135076922e-07</td>\n",
        "    </tr>\n",
        "    <tr>\n",
        "        <td style=\"padding-left: 1em; padding-right: 1em; text-align: center; vertical-align: top\">...</td>\n",
        "        <td style=\"padding-left: 1em; padding-right: 1em; text-align: center; vertical-align: top\">...</td>\n",
        "    </tr>\n",
        "</table>\n",
        "[20 rows x 2 columns]<br/>Note: Only the head of the SFrame is printed.<br/>You can use print_rows(num_rows=m, num_columns=n) to print more rows and columns.\n",
        "</div>"
       ],
       "metadata": {},
       "output_type": "pyout",
       "prompt_number": 227,
       "text": [
        "Columns:\n",
        "\tartist_song\tstr\n",
        "\tnorm_song\tfloat\n",
        "\n",
        "Rows: 20\n",
        "\n",
        "Data:\n",
        "+--------------------------------+-------------------+\n",
        "|          artist_song           |     norm_song     |\n",
        "+--------------------------------+-------------------+\n",
        "|   Elliott Smith: Color Bars    | 1.10405732692e-06 |\n",
        "|     Rilo Kiley: Dreamworld     | 1.04695091346e-06 |\n",
        "| Flight Of The Conchords: T ... | 8.56596201921e-07 |\n",
        "| Elliott Smith: Somebody Th ... | 8.56596201921e-07 |\n",
        "|  Elliott Smith: Roman Candle   | 7.42383374998e-07 |\n",
        "| Kings Of Convenience: The  ... | 6.28170548075e-07 |\n",
        "| Elliott Smith: Drive All O ... | 6.28170548075e-07 |\n",
        "| Sparklehorse: It'S A Wonde ... | 6.28170548075e-07 |\n",
        "|    Rufus Wainwright: Poses     | 6.28170548075e-07 |\n",
        "|     Sparklehorse: Gold Day     | 6.09135076922e-07 |\n",
        "|              ...               |        ...        |\n",
        "+--------------------------------+-------------------+\n",
        "[20 rows x 2 columns]\n",
        "Note: Only the head of the SFrame is printed.\n",
        "You can use print_rows(num_rows=m, num_columns=n) to print more rows and columns."
       ]
      }
     ],
     "prompt_number": 227
    },
    {
     "cell_type": "code",
     "collapsed": false,
     "input": [
      "model_3 = gl.recommender.create(train_set3, user_id = 'user', item_id='artist_song', target='norm_song')"
     ],
     "language": "python",
     "metadata": {},
     "outputs": [
      {
       "html": [
        "<pre>PROGRESS: Recsys training: model = ranking_factorization_recommender</pre>"
       ],
       "metadata": {},
       "output_type": "display_data",
       "text": [
        "PROGRESS: Recsys training: model = ranking_factorization_recommender"
       ]
      },
      {
       "html": [
        "<pre>PROGRESS: Preparing data set.</pre>"
       ],
       "metadata": {},
       "output_type": "display_data",
       "text": [
        "PROGRESS: Preparing data set."
       ]
      },
      {
       "html": [
        "<pre>PROGRESS:     Data has 7204 observations with 336 users and 6542 items.</pre>"
       ],
       "metadata": {},
       "output_type": "display_data",
       "text": [
        "PROGRESS:     Data has 7204 observations with 336 users and 6542 items."
       ]
      },
      {
       "html": [
        "<pre>PROGRESS:     Data prepared in: 0.679094s</pre>"
       ],
       "metadata": {},
       "output_type": "display_data",
       "text": [
        "PROGRESS:     Data prepared in: 0.679094s"
       ]
      },
      {
       "html": [
        "<pre>PROGRESS: Training ranking_factorization_recommender for recommendations.</pre>"
       ],
       "metadata": {},
       "output_type": "display_data",
       "text": [
        "PROGRESS: Training ranking_factorization_recommender for recommendations."
       ]
      },
      {
       "html": [
        "<pre>PROGRESS: +------------------------------+--------------------------------------------------+----------+</pre>"
       ],
       "metadata": {},
       "output_type": "display_data",
       "text": [
        "PROGRESS: +------------------------------+--------------------------------------------------+----------+"
       ]
      },
      {
       "html": [
        "<pre>PROGRESS: | Parameter                    | Description                                      | Value    |</pre>"
       ],
       "metadata": {},
       "output_type": "display_data",
       "text": [
        "PROGRESS: | Parameter                    | Description                                      | Value    |"
       ]
      },
      {
       "html": [
        "<pre>PROGRESS: +------------------------------+--------------------------------------------------+----------+</pre>"
       ],
       "metadata": {},
       "output_type": "display_data",
       "text": [
        "PROGRESS: +------------------------------+--------------------------------------------------+----------+"
       ]
      },
      {
       "html": [
        "<pre>PROGRESS: | num_factors                  | Factor Dimension                                 | 8        |</pre>"
       ],
       "metadata": {},
       "output_type": "display_data",
       "text": [
        "PROGRESS: | num_factors                  | Factor Dimension                                 | 8        |"
       ]
      },
      {
       "html": [
        "<pre>PROGRESS: | regularization               | L2 Regularization on Factors                     | 0        |</pre>"
       ],
       "metadata": {},
       "output_type": "display_data",
       "text": [
        "PROGRESS: | regularization               | L2 Regularization on Factors                     | 0        |"
       ]
      },
      {
       "html": [
        "<pre>PROGRESS: | ranking_regularization       | Rank-based Regularization Weight                 | 0.25     |</pre>"
       ],
       "metadata": {},
       "output_type": "display_data",
       "text": [
        "PROGRESS: | ranking_regularization       | Rank-based Regularization Weight                 | 0.25     |"
       ]
      },
      {
       "html": [
        "<pre>PROGRESS: | max_iterations               | Maximum Number of Iterations                     | 50       |</pre>"
       ],
       "metadata": {},
       "output_type": "display_data",
       "text": [
        "PROGRESS: | max_iterations               | Maximum Number of Iterations                     | 50       |"
       ]
      },
      {
       "html": [
        "<pre>PROGRESS: +------------------------------+--------------------------------------------------+----------+</pre>"
       ],
       "metadata": {},
       "output_type": "display_data",
       "text": [
        "PROGRESS: +------------------------------+--------------------------------------------------+----------+"
       ]
      },
      {
       "html": [
        "<pre>PROGRESS:   Optimizing model using SGD; tuning step size.</pre>"
       ],
       "metadata": {},
       "output_type": "display_data",
       "text": [
        "PROGRESS:   Optimizing model using SGD; tuning step size."
       ]
      },
      {
       "html": [
        "<pre>PROGRESS:   Using 7204 / 7204 points for tuning the step size.</pre>"
       ],
       "metadata": {},
       "output_type": "display_data",
       "text": [
        "PROGRESS:   Using 7204 / 7204 points for tuning the step size."
       ]
      },
      {
       "html": [
        "<pre>PROGRESS: +---------+-------------------+---------------------------+</pre>"
       ],
       "metadata": {},
       "output_type": "display_data",
       "text": [
        "PROGRESS: +---------+-------------------+---------------------------+"
       ]
      },
      {
       "html": [
        "<pre>PROGRESS: | Attempt | Initial Step Size | Estimated Objective Value |</pre>"
       ],
       "metadata": {},
       "output_type": "display_data",
       "text": [
        "PROGRESS: | Attempt | Initial Step Size | Estimated Objective Value |"
       ]
      },
      {
       "html": [
        "<pre>PROGRESS: +---------+-------------------+---------------------------+</pre>"
       ],
       "metadata": {},
       "output_type": "display_data",
       "text": [
        "PROGRESS: +---------+-------------------+---------------------------+"
       ]
      },
      {
       "html": [
        "<pre>PROGRESS: | 0       | 6.25              | Not Viable                |</pre>"
       ],
       "metadata": {},
       "output_type": "display_data",
       "text": [
        "PROGRESS: | 0       | 6.25              | Not Viable                |"
       ]
      },
      {
       "html": [
        "<pre>PROGRESS: | 1       | 1.5625            | Not Viable                |</pre>"
       ],
       "metadata": {},
       "output_type": "display_data",
       "text": [
        "PROGRESS: | 1       | 1.5625            | Not Viable                |"
       ]
      },
      {
       "html": [
        "<pre>PROGRESS: | 2       | 0.390625          | Not Viable                |</pre>"
       ],
       "metadata": {},
       "output_type": "display_data",
       "text": [
        "PROGRESS: | 2       | 0.390625          | Not Viable                |"
       ]
      },
      {
       "html": [
        "<pre>PROGRESS: | 3       | 0.0976562         | Not Viable                |</pre>"
       ],
       "metadata": {},
       "output_type": "display_data",
       "text": [
        "PROGRESS: | 3       | 0.0976562         | Not Viable                |"
       ]
      },
      {
       "html": [
        "<pre>PROGRESS: | 4       | 0.0244141         | Not Viable                |</pre>"
       ],
       "metadata": {},
       "output_type": "display_data",
       "text": [
        "PROGRESS: | 4       | 0.0244141         | Not Viable                |"
       ]
      },
      {
       "html": [
        "<pre>PROGRESS: | 5       | 0.00610352        | Not Viable                |</pre>"
       ],
       "metadata": {},
       "output_type": "display_data",
       "text": [
        "PROGRESS: | 5       | 0.00610352        | Not Viable                |"
       ]
      },
      {
       "html": [
        "<pre>PROGRESS: | 6       | 0.00152588        | Not Viable                |</pre>"
       ],
       "metadata": {},
       "output_type": "display_data",
       "text": [
        "PROGRESS: | 6       | 0.00152588        | Not Viable                |"
       ]
      },
      {
       "html": [
        "<pre>PROGRESS: | 7       | 0.00038147        | Not Viable                |</pre>"
       ],
       "metadata": {},
       "output_type": "display_data",
       "text": [
        "PROGRESS: | 7       | 0.00038147        | Not Viable                |"
       ]
      },
      {
       "html": [
        "<pre>PROGRESS: | 8       | 9.53674e-05       | Not Viable                |</pre>"
       ],
       "metadata": {},
       "output_type": "display_data",
       "text": [
        "PROGRESS: | 8       | 9.53674e-05       | Not Viable                |"
       ]
      },
      {
       "html": [
        "<pre>PROGRESS: | 9       | 2.38419e-05       | Not Viable                |</pre>"
       ],
       "metadata": {},
       "output_type": "display_data",
       "text": [
        "PROGRESS: | 9       | 2.38419e-05       | Not Viable                |"
       ]
      },
      {
       "html": [
        "<pre>PROGRESS: | 10      | 5.96046e-06       | Not Viable                |</pre>"
       ],
       "metadata": {},
       "output_type": "display_data",
       "text": [
        "PROGRESS: | 10      | 5.96046e-06       | Not Viable                |"
       ]
      },
      {
       "html": [
        "<pre>PROGRESS: | 11      | 1.49012e-06       | Not Viable                |</pre>"
       ],
       "metadata": {},
       "output_type": "display_data",
       "text": [
        "PROGRESS: | 11      | 1.49012e-06       | Not Viable                |"
       ]
      },
      {
       "html": [
        "<pre>PROGRESS: | 12      | 3.72529e-07       | Not Viable                |</pre>"
       ],
       "metadata": {},
       "output_type": "display_data",
       "text": [
        "PROGRESS: | 12      | 3.72529e-07       | Not Viable                |"
       ]
      },
      {
       "html": [
        "<pre>PROGRESS: | 13      | 9.31323e-08       | Not Viable                |</pre>"
       ],
       "metadata": {},
       "output_type": "display_data",
       "text": [
        "PROGRESS: | 13      | 9.31323e-08       | Not Viable                |"
       ]
      },
      {
       "html": [
        "<pre>PROGRESS: | 14      | 2.32831e-08       | Not Viable                |</pre>"
       ],
       "metadata": {},
       "output_type": "display_data",
       "text": [
        "PROGRESS: | 14      | 2.32831e-08       | Not Viable                |"
       ]
      },
      {
       "html": [
        "<pre>PROGRESS: | 15      | 5.82077e-09       | Not Viable                |</pre>"
       ],
       "metadata": {},
       "output_type": "display_data",
       "text": [
        "PROGRESS: | 15      | 5.82077e-09       | Not Viable                |"
       ]
      },
      {
       "html": [
        "<pre>PROGRESS: | 16      | 1.45519e-09       | Not Viable                |</pre>"
       ],
       "metadata": {},
       "output_type": "display_data",
       "text": [
        "PROGRESS: | 16      | 1.45519e-09       | Not Viable                |"
       ]
      },
      {
       "html": [
        "<pre>PROGRESS: | 17      | 3.63798e-10       | Not Viable                |</pre>"
       ],
       "metadata": {},
       "output_type": "display_data",
       "text": [
        "PROGRESS: | 17      | 3.63798e-10       | Not Viable                |"
       ]
      },
      {
       "html": [
        "<pre>PROGRESS: | 18      | 9.09495e-11       | Not Viable                |</pre>"
       ],
       "metadata": {},
       "output_type": "display_data",
       "text": [
        "PROGRESS: | 18      | 9.09495e-11       | Not Viable                |"
       ]
      },
      {
       "html": [
        "<pre>PROGRESS: | 19      | 2.27374e-11       | Not Viable                |</pre>"
       ],
       "metadata": {},
       "output_type": "display_data",
       "text": [
        "PROGRESS: | 19      | 2.27374e-11       | Not Viable                |"
       ]
      },
      {
       "html": [
        "<pre>PROGRESS: | 20      | 5.68434e-12       | Not Viable                |</pre>"
       ],
       "metadata": {},
       "output_type": "display_data",
       "text": [
        "PROGRESS: | 20      | 5.68434e-12       | Not Viable                |"
       ]
      },
      {
       "html": [
        "<pre>PROGRESS: | 21      | 1.42109e-12       | Not Viable                |</pre>"
       ],
       "metadata": {},
       "output_type": "display_data",
       "text": [
        "PROGRESS: | 21      | 1.42109e-12       | Not Viable                |"
       ]
      },
      {
       "html": [
        "<pre>PROGRESS: +---------+-------------------+---------------------------+</pre>"
       ],
       "metadata": {},
       "output_type": "display_data",
       "text": [
        "PROGRESS: +---------+-------------------+---------------------------+"
       ]
      },
      {
       "html": [
        "<pre>PROGRESS: | Final   | 0.005             | Unknown                   |</pre>"
       ],
       "metadata": {},
       "output_type": "display_data",
       "text": [
        "PROGRESS: | Final   | 0.005             | Unknown                   |"
       ]
      },
      {
       "html": [
        "<pre>PROGRESS: +---------+-------------------+---------------------------+</pre>"
       ],
       "metadata": {},
       "output_type": "display_data",
       "text": [
        "PROGRESS: +---------+-------------------+---------------------------+"
       ]
      },
      {
       "html": [
        "<pre>PROGRESS: Starting Optimization.</pre>"
       ],
       "metadata": {},
       "output_type": "display_data",
       "text": [
        "PROGRESS: Starting Optimization."
       ]
      },
      {
       "html": [
        "<pre>PROGRESS: +---------+--------------+----------------+---------------+-------------+</pre>"
       ],
       "metadata": {},
       "output_type": "display_data",
       "text": [
        "PROGRESS: +---------+--------------+----------------+---------------+-------------+"
       ]
      },
      {
       "html": [
        "<pre>PROGRESS: | Iter.   | Elapsed Time | Est. Objective | Training RMSE | Step Size   |</pre>"
       ],
       "metadata": {},
       "output_type": "display_data",
       "text": [
        "PROGRESS: | Iter.   | Elapsed Time | Est. Objective | Training RMSE | Step Size   |"
       ]
      },
      {
       "html": [
        "<pre>PROGRESS: +---------+--------------+----------------+---------------+-------------+</pre>"
       ],
       "metadata": {},
       "output_type": "display_data",
       "text": [
        "PROGRESS: +---------+--------------+----------------+---------------+-------------+"
       ]
      },
      {
       "html": [
        "<pre>PROGRESS: | Initial | 1.521ms      | 4.31549e-07    | 0.00060059    |             |</pre>"
       ],
       "metadata": {},
       "output_type": "display_data",
       "text": [
        "PROGRESS: | Initial | 1.521ms      | 4.31549e-07    | 0.00060059    |             |"
       ]
      },
      {
       "html": [
        "<pre>PROGRESS: +---------+--------------+----------------+---------------+-------------+</pre>"
       ],
       "metadata": {},
       "output_type": "display_data",
       "text": [
        "PROGRESS: +---------+--------------+----------------+---------------+-------------+"
       ]
      },
      {
       "html": [
        "<pre>PROGRESS: | 1       | 18.012ms     | DIVERGED       | DIVERGED      | 0.005       |</pre>"
       ],
       "metadata": {},
       "output_type": "display_data",
       "text": [
        "PROGRESS: | 1       | 18.012ms     | DIVERGED       | DIVERGED      | 0.005       |"
       ]
      },
      {
       "html": [
        "<pre>PROGRESS: | RESET   | 40.521ms     | 7.91118e-05    | 0.00806108    |             |</pre>"
       ],
       "metadata": {},
       "output_type": "display_data",
       "text": [
        "PROGRESS: | RESET   | 40.521ms     | 7.91118e-05    | 0.00806108    |             |"
       ]
      },
      {
       "html": [
        "<pre>PROGRESS: | 2       | 54.658ms     | 3.51105e-05    | 0.00543853    | 0.00297302  |</pre>"
       ],
       "metadata": {},
       "output_type": "display_data",
       "text": [
        "PROGRESS: | 2       | 54.658ms     | 3.51105e-05    | 0.00543853    | 0.00297302  |"
       ]
      },
      {
       "html": [
        "<pre>PROGRESS: +---------+--------------+----------------+---------------+-------------+</pre>"
       ],
       "metadata": {},
       "output_type": "display_data",
       "text": [
        "PROGRESS: +---------+--------------+----------------+---------------+-------------+"
       ]
      },
      {
       "html": [
        "<pre>PROGRESS: | Final   | 103.599ms    | 2.61238e-05    | 0.00464995    |             |</pre>"
       ],
       "metadata": {},
       "output_type": "display_data",
       "text": [
        "PROGRESS: | Final   | 103.599ms    | 2.61238e-05    | 0.00464995    |             |"
       ]
      },
      {
       "html": [
        "<pre>PROGRESS: +---------+--------------+----------------+---------------+-------------+</pre>"
       ],
       "metadata": {},
       "output_type": "display_data",
       "text": [
        "PROGRESS: +---------+--------------+----------------+---------------+-------------+"
       ]
      },
      {
       "html": [
        "<pre>PROGRESS: Optimization Complete: Convergence on objective within bounds.</pre>"
       ],
       "metadata": {},
       "output_type": "display_data",
       "text": [
        "PROGRESS: Optimization Complete: Convergence on objective within bounds."
       ]
      }
     ],
     "prompt_number": 223
    },
    {
     "cell_type": "code",
     "collapsed": false,
     "input": [
      "model_3.recommend([train_user2])"
     ],
     "language": "python",
     "metadata": {},
     "outputs": [
      {
       "html": [
        "<div style=\"max-height:1000px;max-width:1500px;overflow:auto;\"><table frame=\"box\" rules=\"cols\">\n",
        "    <tr>\n",
        "        <th style=\"padding-left: 1em; padding-right: 1em; text-align: center\">user</th>\n",
        "        <th style=\"padding-left: 1em; padding-right: 1em; text-align: center\">artist_song</th>\n",
        "        <th style=\"padding-left: 1em; padding-right: 1em; text-align: center\">score</th>\n",
        "        <th style=\"padding-left: 1em; padding-right: 1em; text-align: center\">rank</th>\n",
        "    </tr>\n",
        "    <tr>\n",
        "        <td style=\"padding-left: 1em; padding-right: 1em; text-align: center; vertical-align: top\">user_000008</td>\n",
        "        <td style=\"padding-left: 1em; padding-right: 1em; text-align: center; vertical-align: top\">Goldfrapp: Ooh La La</td>\n",
        "        <td style=\"padding-left: 1em; padding-right: 1em; text-align: center; vertical-align: top\">0.00420518749672</td>\n",
        "        <td style=\"padding-left: 1em; padding-right: 1em; text-align: center; vertical-align: top\">1</td>\n",
        "    </tr>\n",
        "    <tr>\n",
        "        <td style=\"padding-left: 1em; padding-right: 1em; text-align: center; vertical-align: top\">user_000008</td>\n",
        "        <td style=\"padding-left: 1em; padding-right: 1em; text-align: center; vertical-align: top\">Ida Corr: Let Me Think<br>About It (Fedde Le Gr ...</td>\n",
        "        <td style=\"padding-left: 1em; padding-right: 1em; text-align: center; vertical-align: top\">0.00404649754082</td>\n",
        "        <td style=\"padding-left: 1em; padding-right: 1em; text-align: center; vertical-align: top\">2</td>\n",
        "    </tr>\n",
        "    <tr>\n",
        "        <td style=\"padding-left: 1em; padding-right: 1em; text-align: center; vertical-align: top\">user_000008</td>\n",
        "        <td style=\"padding-left: 1em; padding-right: 1em; text-align: center; vertical-align: top\">The Bravery: An Honest<br>Mistake</td>\n",
        "        <td style=\"padding-left: 1em; padding-right: 1em; text-align: center; vertical-align: top\">0.00401976950489</td>\n",
        "        <td style=\"padding-left: 1em; padding-right: 1em; text-align: center; vertical-align: top\">3</td>\n",
        "    </tr>\n",
        "    <tr>\n",
        "        <td style=\"padding-left: 1em; padding-right: 1em; text-align: center; vertical-align: top\">user_000008</td>\n",
        "        <td style=\"padding-left: 1em; padding-right: 1em; text-align: center; vertical-align: top\">Pixies: Break My Body</td>\n",
        "        <td style=\"padding-left: 1em; padding-right: 1em; text-align: center; vertical-align: top\">0.00399120601564</td>\n",
        "        <td style=\"padding-left: 1em; padding-right: 1em; text-align: center; vertical-align: top\">4</td>\n",
        "    </tr>\n",
        "    <tr>\n",
        "        <td style=\"padding-left: 1em; padding-right: 1em; text-align: center; vertical-align: top\">user_000008</td>\n",
        "        <td style=\"padding-left: 1em; padding-right: 1em; text-align: center; vertical-align: top\">Johann Sebastian Bach:<br>Cello Suite No.1 In G</td>\n",
        "        <td style=\"padding-left: 1em; padding-right: 1em; text-align: center; vertical-align: top\">0.00398650784694</td>\n",
        "        <td style=\"padding-left: 1em; padding-right: 1em; text-align: center; vertical-align: top\">5</td>\n",
        "    </tr>\n",
        "    <tr>\n",
        "        <td style=\"padding-left: 1em; padding-right: 1em; text-align: center; vertical-align: top\">user_000008</td>\n",
        "        <td style=\"padding-left: 1em; padding-right: 1em; text-align: center; vertical-align: top\">R\\xc3\\xb6yksopp: Sparks</td>\n",
        "        <td style=\"padding-left: 1em; padding-right: 1em; text-align: center; vertical-align: top\">0.00398614526631</td>\n",
        "        <td style=\"padding-left: 1em; padding-right: 1em; text-align: center; vertical-align: top\">6</td>\n",
        "    </tr>\n",
        "    <tr>\n",
        "        <td style=\"padding-left: 1em; padding-right: 1em; text-align: center; vertical-align: top\">user_000008</td>\n",
        "        <td style=\"padding-left: 1em; padding-right: 1em; text-align: center; vertical-align: top\">Poisonblack: Hollow Be My<br>Name</td>\n",
        "        <td style=\"padding-left: 1em; padding-right: 1em; text-align: center; vertical-align: top\">0.00397915354818</td>\n",
        "        <td style=\"padding-left: 1em; padding-right: 1em; text-align: center; vertical-align: top\">7</td>\n",
        "    </tr>\n",
        "    <tr>\n",
        "        <td style=\"padding-left: 1em; padding-right: 1em; text-align: center; vertical-align: top\">user_000008</td>\n",
        "        <td style=\"padding-left: 1em; padding-right: 1em; text-align: center; vertical-align: top\">Stephanie: Changin'</td>\n",
        "        <td style=\"padding-left: 1em; padding-right: 1em; text-align: center; vertical-align: top\">0.00397877673327</td>\n",
        "        <td style=\"padding-left: 1em; padding-right: 1em; text-align: center; vertical-align: top\">8</td>\n",
        "    </tr>\n",
        "    <tr>\n",
        "        <td style=\"padding-left: 1em; padding-right: 1em; text-align: center; vertical-align: top\">user_000008</td>\n",
        "        <td style=\"padding-left: 1em; padding-right: 1em; text-align: center; vertical-align: top\">The Crimea: Lottery<br>Winners On Acid</td>\n",
        "        <td style=\"padding-left: 1em; padding-right: 1em; text-align: center; vertical-align: top\">0.00397264869519</td>\n",
        "        <td style=\"padding-left: 1em; padding-right: 1em; text-align: center; vertical-align: top\">9</td>\n",
        "    </tr>\n",
        "    <tr>\n",
        "        <td style=\"padding-left: 1em; padding-right: 1em; text-align: center; vertical-align: top\">user_000008</td>\n",
        "        <td style=\"padding-left: 1em; padding-right: 1em; text-align: center; vertical-align: top\">Moloko: Sing It Back<br>(Boris Musical Mix)</td>\n",
        "        <td style=\"padding-left: 1em; padding-right: 1em; text-align: center; vertical-align: top\">0.00397056117998</td>\n",
        "        <td style=\"padding-left: 1em; padding-right: 1em; text-align: center; vertical-align: top\">10</td>\n",
        "    </tr>\n",
        "</table>\n",
        "[10 rows x 4 columns]<br/>\n",
        "</div>"
       ],
       "metadata": {},
       "output_type": "pyout",
       "prompt_number": 228,
       "text": [
        "Columns:\n",
        "\tuser\tstr\n",
        "\tartist_song\tstr\n",
        "\tscore\tfloat\n",
        "\trank\tint\n",
        "\n",
        "Rows: 10\n",
        "\n",
        "Data:\n",
        "+-------------+--------------------------------+------------------+------+\n",
        "|     user    |          artist_song           |      score       | rank |\n",
        "+-------------+--------------------------------+------------------+------+\n",
        "| user_000008 |      Goldfrapp: Ooh La La      | 0.00420518749672 |  1   |\n",
        "| user_000008 | Ida Corr: Let Me Think Abo ... | 0.00404649754082 |  2   |\n",
        "| user_000008 | The Bravery: An Honest Mistake | 0.00401976950489 |  3   |\n",
        "| user_000008 |     Pixies: Break My Body      | 0.00399120601564 |  4   |\n",
        "| user_000008 | Johann Sebastian Bach: Cel ... | 0.00398650784694 |  5   |\n",
        "| user_000008 |    R\\xc3\\xb6yksopp: Sparks     | 0.00398614526631 |  6   |\n",
        "| user_000008 | Poisonblack: Hollow Be My Name | 0.00397915354818 |  7   |\n",
        "| user_000008 |      Stephanie: Changin'       | 0.00397877673327 |  8   |\n",
        "| user_000008 | The Crimea: Lottery Winner ... | 0.00397264869519 |  9   |\n",
        "| user_000008 | Moloko: Sing It Back (Bori ... | 0.00397056117998 |  10  |\n",
        "+-------------+--------------------------------+------------------+------+\n",
        "[10 rows x 4 columns]\n"
       ]
      }
     ],
     "prompt_number": 228
    },
    {
     "cell_type": "code",
     "collapsed": false,
     "input": [
      "model_3.recommend([train_user0])"
     ],
     "language": "python",
     "metadata": {},
     "outputs": [
      {
       "html": [
        "<div style=\"max-height:1000px;max-width:1500px;overflow:auto;\"><table frame=\"box\" rules=\"cols\">\n",
        "    <tr>\n",
        "        <th style=\"padding-left: 1em; padding-right: 1em; text-align: center\">user</th>\n",
        "        <th style=\"padding-left: 1em; padding-right: 1em; text-align: center\">artist_song</th>\n",
        "        <th style=\"padding-left: 1em; padding-right: 1em; text-align: center\">score</th>\n",
        "        <th style=\"padding-left: 1em; padding-right: 1em; text-align: center\">rank</th>\n",
        "    </tr>\n",
        "    <tr>\n",
        "        <td style=\"padding-left: 1em; padding-right: 1em; text-align: center; vertical-align: top\">user_000234</td>\n",
        "        <td style=\"padding-left: 1em; padding-right: 1em; text-align: center; vertical-align: top\">Goldfrapp: Ooh La La</td>\n",
        "        <td style=\"padding-left: 1em; padding-right: 1em; text-align: center; vertical-align: top\">0.00184782147909</td>\n",
        "        <td style=\"padding-left: 1em; padding-right: 1em; text-align: center; vertical-align: top\">1</td>\n",
        "    </tr>\n",
        "    <tr>\n",
        "        <td style=\"padding-left: 1em; padding-right: 1em; text-align: center; vertical-align: top\">user_000234</td>\n",
        "        <td style=\"padding-left: 1em; padding-right: 1em; text-align: center; vertical-align: top\">Ida Corr: Let Me Think<br>About It (Fedde Le Gr ...</td>\n",
        "        <td style=\"padding-left: 1em; padding-right: 1em; text-align: center; vertical-align: top\">0.00169094452482</td>\n",
        "        <td style=\"padding-left: 1em; padding-right: 1em; text-align: center; vertical-align: top\">2</td>\n",
        "    </tr>\n",
        "    <tr>\n",
        "        <td style=\"padding-left: 1em; padding-right: 1em; text-align: center; vertical-align: top\">user_000234</td>\n",
        "        <td style=\"padding-left: 1em; padding-right: 1em; text-align: center; vertical-align: top\">The Bravery: An Honest<br>Mistake</td>\n",
        "        <td style=\"padding-left: 1em; padding-right: 1em; text-align: center; vertical-align: top\">0.00166325844502</td>\n",
        "        <td style=\"padding-left: 1em; padding-right: 1em; text-align: center; vertical-align: top\">3</td>\n",
        "    </tr>\n",
        "    <tr>\n",
        "        <td style=\"padding-left: 1em; padding-right: 1em; text-align: center; vertical-align: top\">user_000234</td>\n",
        "        <td style=\"padding-left: 1em; padding-right: 1em; text-align: center; vertical-align: top\">Pixies: Break My Body</td>\n",
        "        <td style=\"padding-left: 1em; padding-right: 1em; text-align: center; vertical-align: top\">0.00163506606061</td>\n",
        "        <td style=\"padding-left: 1em; padding-right: 1em; text-align: center; vertical-align: top\">4</td>\n",
        "    </tr>\n",
        "    <tr>\n",
        "        <td style=\"padding-left: 1em; padding-right: 1em; text-align: center; vertical-align: top\">user_000234</td>\n",
        "        <td style=\"padding-left: 1em; padding-right: 1em; text-align: center; vertical-align: top\">Johann Sebastian Bach:<br>Cello Suite No.1 In G</td>\n",
        "        <td style=\"padding-left: 1em; padding-right: 1em; text-align: center; vertical-align: top\">0.00163205015553</td>\n",
        "        <td style=\"padding-left: 1em; padding-right: 1em; text-align: center; vertical-align: top\">5</td>\n",
        "    </tr>\n",
        "    <tr>\n",
        "        <td style=\"padding-left: 1em; padding-right: 1em; text-align: center; vertical-align: top\">user_000234</td>\n",
        "        <td style=\"padding-left: 1em; padding-right: 1em; text-align: center; vertical-align: top\">R\\xc3\\xb6yksopp: Sparks</td>\n",
        "        <td style=\"padding-left: 1em; padding-right: 1em; text-align: center; vertical-align: top\">0.00162994829247</td>\n",
        "        <td style=\"padding-left: 1em; padding-right: 1em; text-align: center; vertical-align: top\">6</td>\n",
        "    </tr>\n",
        "    <tr>\n",
        "        <td style=\"padding-left: 1em; padding-right: 1em; text-align: center; vertical-align: top\">user_000234</td>\n",
        "        <td style=\"padding-left: 1em; padding-right: 1em; text-align: center; vertical-align: top\">Poisonblack: Hollow Be My<br>Name</td>\n",
        "        <td style=\"padding-left: 1em; padding-right: 1em; text-align: center; vertical-align: top\">0.0016240655961</td>\n",
        "        <td style=\"padding-left: 1em; padding-right: 1em; text-align: center; vertical-align: top\">7</td>\n",
        "    </tr>\n",
        "    <tr>\n",
        "        <td style=\"padding-left: 1em; padding-right: 1em; text-align: center; vertical-align: top\">user_000234</td>\n",
        "        <td style=\"padding-left: 1em; padding-right: 1em; text-align: center; vertical-align: top\">Stephanie: Changin'</td>\n",
        "        <td style=\"padding-left: 1em; padding-right: 1em; text-align: center; vertical-align: top\">0.00162172613568</td>\n",
        "        <td style=\"padding-left: 1em; padding-right: 1em; text-align: center; vertical-align: top\">8</td>\n",
        "    </tr>\n",
        "    <tr>\n",
        "        <td style=\"padding-left: 1em; padding-right: 1em; text-align: center; vertical-align: top\">user_000234</td>\n",
        "        <td style=\"padding-left: 1em; padding-right: 1em; text-align: center; vertical-align: top\">The Crimea: Lottery<br>Winners On Acid</td>\n",
        "        <td style=\"padding-left: 1em; padding-right: 1em; text-align: center; vertical-align: top\">0.00161641054882</td>\n",
        "        <td style=\"padding-left: 1em; padding-right: 1em; text-align: center; vertical-align: top\">9</td>\n",
        "    </tr>\n",
        "    <tr>\n",
        "        <td style=\"padding-left: 1em; padding-right: 1em; text-align: center; vertical-align: top\">user_000234</td>\n",
        "        <td style=\"padding-left: 1em; padding-right: 1em; text-align: center; vertical-align: top\">Tori Amos: China</td>\n",
        "        <td style=\"padding-left: 1em; padding-right: 1em; text-align: center; vertical-align: top\">0.00161408881382</td>\n",
        "        <td style=\"padding-left: 1em; padding-right: 1em; text-align: center; vertical-align: top\">10</td>\n",
        "    </tr>\n",
        "</table>\n",
        "[10 rows x 4 columns]<br/>\n",
        "</div>"
       ],
       "metadata": {},
       "output_type": "pyout",
       "prompt_number": 229,
       "text": [
        "Columns:\n",
        "\tuser\tstr\n",
        "\tartist_song\tstr\n",
        "\tscore\tfloat\n",
        "\trank\tint\n",
        "\n",
        "Rows: 10\n",
        "\n",
        "Data:\n",
        "+-------------+--------------------------------+------------------+------+\n",
        "|     user    |          artist_song           |      score       | rank |\n",
        "+-------------+--------------------------------+------------------+------+\n",
        "| user_000234 |      Goldfrapp: Ooh La La      | 0.00184782147909 |  1   |\n",
        "| user_000234 | Ida Corr: Let Me Think Abo ... | 0.00169094452482 |  2   |\n",
        "| user_000234 | The Bravery: An Honest Mistake | 0.00166325844502 |  3   |\n",
        "| user_000234 |     Pixies: Break My Body      | 0.00163506606061 |  4   |\n",
        "| user_000234 | Johann Sebastian Bach: Cel ... | 0.00163205015553 |  5   |\n",
        "| user_000234 |    R\\xc3\\xb6yksopp: Sparks     | 0.00162994829247 |  6   |\n",
        "| user_000234 | Poisonblack: Hollow Be My Name | 0.0016240655961  |  7   |\n",
        "| user_000234 |      Stephanie: Changin'       | 0.00162172613568 |  8   |\n",
        "| user_000234 | The Crimea: Lottery Winner ... | 0.00161641054882 |  9   |\n",
        "| user_000234 |        Tori Amos: China        | 0.00161408881382 |  10  |\n",
        "+-------------+--------------------------------+------------------+------+\n",
        "[10 rows x 4 columns]\n"
       ]
      }
     ],
     "prompt_number": 229
    },
    {
     "cell_type": "code",
     "collapsed": false,
     "input": [
      "item_model = gl.recommender.item_similarity_recommender.create(train_set3, user_id = 'user', item_id='artist_song')"
     ],
     "language": "python",
     "metadata": {},
     "outputs": [
      {
       "html": [
        "<pre>PROGRESS: Recsys training: model = item_similarity</pre>"
       ],
       "metadata": {},
       "output_type": "display_data",
       "text": [
        "PROGRESS: Recsys training: model = item_similarity"
       ]
      },
      {
       "html": [
        "<pre>PROGRESS: Preparing data set.</pre>"
       ],
       "metadata": {},
       "output_type": "display_data",
       "text": [
        "PROGRESS: Preparing data set."
       ]
      },
      {
       "html": [
        "<pre>PROGRESS:     Data has 7204 observations with 336 users and 6542 items.</pre>"
       ],
       "metadata": {},
       "output_type": "display_data",
       "text": [
        "PROGRESS:     Data has 7204 observations with 336 users and 6542 items."
       ]
      },
      {
       "html": [
        "<pre>PROGRESS:     Data prepared in: 0.111002s</pre>"
       ],
       "metadata": {},
       "output_type": "display_data",
       "text": [
        "PROGRESS:     Data prepared in: 0.111002s"
       ]
      },
      {
       "html": [
        "<pre>PROGRESS: Computing item similarity statistics:</pre>"
       ],
       "metadata": {},
       "output_type": "display_data",
       "text": [
        "PROGRESS: Computing item similarity statistics:"
       ]
      },
      {
       "html": [
        "<pre>PROGRESS: +-----------------+-----------------+</pre>"
       ],
       "metadata": {},
       "output_type": "display_data",
       "text": [
        "PROGRESS: +-----------------+-----------------+"
       ]
      },
      {
       "html": [
        "<pre>PROGRESS: | Number of users | Elapsed Time    |</pre>"
       ],
       "metadata": {},
       "output_type": "display_data",
       "text": [
        "PROGRESS: | Number of users | Elapsed Time    |"
       ]
      },
      {
       "html": [
        "<pre>PROGRESS: +-----------------+-----------------+</pre>"
       ],
       "metadata": {},
       "output_type": "display_data",
       "text": [
        "PROGRESS: +-----------------+-----------------+"
       ]
      },
      {
       "html": [
        "<pre>PROGRESS: +-----------------+-----------------+</pre>"
       ],
       "metadata": {},
       "output_type": "display_data",
       "text": [
        "PROGRESS: +-----------------+-----------------+"
       ]
      },
      {
       "html": [
        "<pre>PROGRESS: Computing most similar items for 6542 items:</pre>"
       ],
       "metadata": {},
       "output_type": "display_data",
       "text": [
        "PROGRESS: Computing most similar items for 6542 items:"
       ]
      },
      {
       "html": [
        "<pre>PROGRESS: +-----------------+-----------------+</pre>"
       ],
       "metadata": {},
       "output_type": "display_data",
       "text": [
        "PROGRESS: +-----------------+-----------------+"
       ]
      },
      {
       "html": [
        "<pre>PROGRESS: | Number of items | Elapsed Time    |</pre>"
       ],
       "metadata": {},
       "output_type": "display_data",
       "text": [
        "PROGRESS: | Number of items | Elapsed Time    |"
       ]
      },
      {
       "html": [
        "<pre>PROGRESS: +-----------------+-----------------+</pre>"
       ],
       "metadata": {},
       "output_type": "display_data",
       "text": [
        "PROGRESS: +-----------------+-----------------+"
       ]
      },
      {
       "html": [
        "<pre>PROGRESS: | 0               | 0.916394        |</pre>"
       ],
       "metadata": {},
       "output_type": "display_data",
       "text": [
        "PROGRESS: | 0               | 0.916394        |"
       ]
      },
      {
       "html": [
        "<pre>PROGRESS: +-----------------+-----------------+</pre>"
       ],
       "metadata": {},
       "output_type": "display_data",
       "text": [
        "PROGRESS: +-----------------+-----------------+"
       ]
      },
      {
       "html": [
        "<pre>PROGRESS: Finished training in 2.21117s</pre>"
       ],
       "metadata": {},
       "output_type": "display_data",
       "text": [
        "PROGRESS: Finished training in 2.21117s"
       ]
      }
     ],
     "prompt_number": 248
    },
    {
     "cell_type": "code",
     "collapsed": false,
     "input": [
      "(item_model.recommend([train_user3], k = -1)['score'] > 0).mean()"
     ],
     "language": "python",
     "metadata": {},
     "outputs": [
      {
       "metadata": {},
       "output_type": "pyout",
       "prompt_number": 274,
       "text": [
        "0.011866235167206028"
       ]
      }
     ],
     "prompt_number": 274
    },
    {
     "cell_type": "code",
     "collapsed": false,
     "input": [
      "r.current_top_songs(train_user3,train_set3)"
     ],
     "language": "python",
     "metadata": {},
     "outputs": [
      {
       "html": [
        "<div style=\"max-height:1000px;max-width:1500px;overflow:auto;\"><table frame=\"box\" rules=\"cols\">\n",
        "    <tr>\n",
        "        <th style=\"padding-left: 1em; padding-right: 1em; text-align: center\">artist</th>\n",
        "        <th style=\"padding-left: 1em; padding-right: 1em; text-align: center\">song</th>\n",
        "        <th style=\"padding-left: 1em; padding-right: 1em; text-align: center\">user</th>\n",
        "        <th style=\"padding-left: 1em; padding-right: 1em; text-align: center\">Count</th>\n",
        "        <th style=\"padding-left: 1em; padding-right: 1em; text-align: center\">artist_song</th>\n",
        "        <th style=\"padding-left: 1em; padding-right: 1em; text-align: center\">total_cnt</th>\n",
        "    </tr>\n",
        "    <tr>\n",
        "        <td style=\"padding-left: 1em; padding-right: 1em; text-align: center; vertical-align: top\">Man\\xc3\\xa1</td>\n",
        "        <td style=\"padding-left: 1em; padding-right: 1em; text-align: center; vertical-align: top\">Hechicera</td>\n",
        "        <td style=\"padding-left: 1em; padding-right: 1em; text-align: center; vertical-align: top\">user_000349</td>\n",
        "        <td style=\"padding-left: 1em; padding-right: 1em; text-align: center; vertical-align: top\">114</td>\n",
        "        <td style=\"padding-left: 1em; padding-right: 1em; text-align: center; vertical-align: top\">Man\\xc3\\xa1: Hechicera</td>\n",
        "        <td style=\"padding-left: 1em; padding-right: 1em; text-align: center; vertical-align: top\">34434</td>\n",
        "    </tr>\n",
        "    <tr>\n",
        "        <td style=\"padding-left: 1em; padding-right: 1em; text-align: center; vertical-align: top\">Mana</td>\n",
        "        <td style=\"padding-left: 1em; padding-right: 1em; text-align: center; vertical-align: top\">Clavado En Un Bar</td>\n",
        "        <td style=\"padding-left: 1em; padding-right: 1em; text-align: center; vertical-align: top\">user_000349</td>\n",
        "        <td style=\"padding-left: 1em; padding-right: 1em; text-align: center; vertical-align: top\">110</td>\n",
        "        <td style=\"padding-left: 1em; padding-right: 1em; text-align: center; vertical-align: top\">Mana: Clavado En Un Bar</td>\n",
        "        <td style=\"padding-left: 1em; padding-right: 1em; text-align: center; vertical-align: top\">34434</td>\n",
        "    </tr>\n",
        "    <tr>\n",
        "        <td style=\"padding-left: 1em; padding-right: 1em; text-align: center; vertical-align: top\">Man\\xc3\\xa1</td>\n",
        "        <td style=\"padding-left: 1em; padding-right: 1em; text-align: center; vertical-align: top\">\\xc2\\xa1Justicia, Tierra<br>Y Libertad! ...</td>\n",
        "        <td style=\"padding-left: 1em; padding-right: 1em; text-align: center; vertical-align: top\">user_000349</td>\n",
        "        <td style=\"padding-left: 1em; padding-right: 1em; text-align: center; vertical-align: top\">93</td>\n",
        "        <td style=\"padding-left: 1em; padding-right: 1em; text-align: center; vertical-align: top\">Man\\xc3\\xa1:<br>\\xc2\\xa1Justicia, Tie ...</td>\n",
        "        <td style=\"padding-left: 1em; padding-right: 1em; text-align: center; vertical-align: top\">34434</td>\n",
        "    </tr>\n",
        "    <tr>\n",
        "        <td style=\"padding-left: 1em; padding-right: 1em; text-align: center; vertical-align: top\">Man\\xc3\\xa1</td>\n",
        "        <td style=\"padding-left: 1em; padding-right: 1em; text-align: center; vertical-align: top\">Somos Mar Y Arena</td>\n",
        "        <td style=\"padding-left: 1em; padding-right: 1em; text-align: center; vertical-align: top\">user_000349</td>\n",
        "        <td style=\"padding-left: 1em; padding-right: 1em; text-align: center; vertical-align: top\">90</td>\n",
        "        <td style=\"padding-left: 1em; padding-right: 1em; text-align: center; vertical-align: top\">Man\\xc3\\xa1: Somos Mar Y<br>Arena</td>\n",
        "        <td style=\"padding-left: 1em; padding-right: 1em; text-align: center; vertical-align: top\">34434</td>\n",
        "    </tr>\n",
        "    <tr>\n",
        "        <td style=\"padding-left: 1em; padding-right: 1em; text-align: center; vertical-align: top\">Man\\xc3\\xa1</td>\n",
        "        <td style=\"padding-left: 1em; padding-right: 1em; text-align: center; vertical-align: top\">Angel De Amor</td>\n",
        "        <td style=\"padding-left: 1em; padding-right: 1em; text-align: center; vertical-align: top\">user_000349</td>\n",
        "        <td style=\"padding-left: 1em; padding-right: 1em; text-align: center; vertical-align: top\">81</td>\n",
        "        <td style=\"padding-left: 1em; padding-right: 1em; text-align: center; vertical-align: top\">Man\\xc3\\xa1: Angel De<br>Amor</td>\n",
        "        <td style=\"padding-left: 1em; padding-right: 1em; text-align: center; vertical-align: top\">34434</td>\n",
        "    </tr>\n",
        "    <tr>\n",
        "        <td style=\"padding-left: 1em; padding-right: 1em; text-align: center; vertical-align: top\">Man\\xc3\\xa1</td>\n",
        "        <td style=\"padding-left: 1em; padding-right: 1em; text-align: center; vertical-align: top\">Ay, Doctor</td>\n",
        "        <td style=\"padding-left: 1em; padding-right: 1em; text-align: center; vertical-align: top\">user_000349</td>\n",
        "        <td style=\"padding-left: 1em; padding-right: 1em; text-align: center; vertical-align: top\">75</td>\n",
        "        <td style=\"padding-left: 1em; padding-right: 1em; text-align: center; vertical-align: top\">Man\\xc3\\xa1: Ay, Doctor</td>\n",
        "        <td style=\"padding-left: 1em; padding-right: 1em; text-align: center; vertical-align: top\">34434</td>\n",
        "    </tr>\n",
        "    <tr>\n",
        "        <td style=\"padding-left: 1em; padding-right: 1em; text-align: center; vertical-align: top\">Man\\xc3\\xa1</td>\n",
        "        <td style=\"padding-left: 1em; padding-right: 1em; text-align: center; vertical-align: top\">Sabanas Frias</td>\n",
        "        <td style=\"padding-left: 1em; padding-right: 1em; text-align: center; vertical-align: top\">user_000349</td>\n",
        "        <td style=\"padding-left: 1em; padding-right: 1em; text-align: center; vertical-align: top\">72</td>\n",
        "        <td style=\"padding-left: 1em; padding-right: 1em; text-align: center; vertical-align: top\">Man\\xc3\\xa1: Sabanas<br>Frias</td>\n",
        "        <td style=\"padding-left: 1em; padding-right: 1em; text-align: center; vertical-align: top\">34434</td>\n",
        "    </tr>\n",
        "    <tr>\n",
        "        <td style=\"padding-left: 1em; padding-right: 1em; text-align: center; vertical-align: top\">Mana</td>\n",
        "        <td style=\"padding-left: 1em; padding-right: 1em; text-align: center; vertical-align: top\">Mariposa Traicionera</td>\n",
        "        <td style=\"padding-left: 1em; padding-right: 1em; text-align: center; vertical-align: top\">user_000349</td>\n",
        "        <td style=\"padding-left: 1em; padding-right: 1em; text-align: center; vertical-align: top\">64</td>\n",
        "        <td style=\"padding-left: 1em; padding-right: 1em; text-align: center; vertical-align: top\">Mana: Mariposa<br>Traicionera</td>\n",
        "        <td style=\"padding-left: 1em; padding-right: 1em; text-align: center; vertical-align: top\">34434</td>\n",
        "    </tr>\n",
        "    <tr>\n",
        "        <td style=\"padding-left: 1em; padding-right: 1em; text-align: center; vertical-align: top\">Mana</td>\n",
        "        <td style=\"padding-left: 1em; padding-right: 1em; text-align: center; vertical-align: top\">Labios Compartidos</td>\n",
        "        <td style=\"padding-left: 1em; padding-right: 1em; text-align: center; vertical-align: top\">user_000349</td>\n",
        "        <td style=\"padding-left: 1em; padding-right: 1em; text-align: center; vertical-align: top\">62</td>\n",
        "        <td style=\"padding-left: 1em; padding-right: 1em; text-align: center; vertical-align: top\">Mana: Labios Compartidos</td>\n",
        "        <td style=\"padding-left: 1em; padding-right: 1em; text-align: center; vertical-align: top\">34434</td>\n",
        "    </tr>\n",
        "    <tr>\n",
        "        <td style=\"padding-left: 1em; padding-right: 1em; text-align: center; vertical-align: top\">Man\\xc3\\xa1</td>\n",
        "        <td style=\"padding-left: 1em; padding-right: 1em; text-align: center; vertical-align: top\">Oye Mi Amor</td>\n",
        "        <td style=\"padding-left: 1em; padding-right: 1em; text-align: center; vertical-align: top\">user_000349</td>\n",
        "        <td style=\"padding-left: 1em; padding-right: 1em; text-align: center; vertical-align: top\">58</td>\n",
        "        <td style=\"padding-left: 1em; padding-right: 1em; text-align: center; vertical-align: top\">Man\\xc3\\xa1: Oye Mi Amor</td>\n",
        "        <td style=\"padding-left: 1em; padding-right: 1em; text-align: center; vertical-align: top\">34434</td>\n",
        "    </tr>\n",
        "</table>\n",
        "<table frame=\"box\" rules=\"cols\">\n",
        "    <tr>\n",
        "        <th style=\"padding-left: 1em; padding-right: 1em; text-align: center\">norm</th>\n",
        "        <th style=\"padding-left: 1em; padding-right: 1em; text-align: center\">binary</th>\n",
        "        <th style=\"padding-left: 1em; padding-right: 1em; text-align: center\">norm_song</th>\n",
        "    </tr>\n",
        "    <tr>\n",
        "        <td style=\"padding-left: 1em; padding-right: 1em; text-align: center; vertical-align: top\">0.00331068130336</td>\n",
        "        <td style=\"padding-left: 1em; padding-right: 1em; text-align: center; vertical-align: top\">1</td>\n",
        "        <td style=\"padding-left: 1em; padding-right: 1em; text-align: center; vertical-align: top\">9.61457078284e-08</td>\n",
        "    </tr>\n",
        "    <tr>\n",
        "        <td style=\"padding-left: 1em; padding-right: 1em; text-align: center; vertical-align: top\">0.0031945170471</td>\n",
        "        <td style=\"padding-left: 1em; padding-right: 1em; text-align: center; vertical-align: top\">1</td>\n",
        "        <td style=\"padding-left: 1em; padding-right: 1em; text-align: center; vertical-align: top\">9.27721742204e-08</td>\n",
        "    </tr>\n",
        "    <tr>\n",
        "        <td style=\"padding-left: 1em; padding-right: 1em; text-align: center; vertical-align: top\">0.00270081895801</td>\n",
        "        <td style=\"padding-left: 1em; padding-right: 1em; text-align: center; vertical-align: top\">1</td>\n",
        "        <td style=\"padding-left: 1em; padding-right: 1em; text-align: center; vertical-align: top\">7.84346563863e-08</td>\n",
        "    </tr>\n",
        "    <tr>\n",
        "        <td style=\"padding-left: 1em; padding-right: 1em; text-align: center; vertical-align: top\">0.00261369576581</td>\n",
        "        <td style=\"padding-left: 1em; padding-right: 1em; text-align: center; vertical-align: top\">1</td>\n",
        "        <td style=\"padding-left: 1em; padding-right: 1em; text-align: center; vertical-align: top\">7.59045061803e-08</td>\n",
        "    </tr>\n",
        "    <tr>\n",
        "        <td style=\"padding-left: 1em; padding-right: 1em; text-align: center; vertical-align: top\">0.00235232618923</td>\n",
        "        <td style=\"padding-left: 1em; padding-right: 1em; text-align: center; vertical-align: top\">1</td>\n",
        "        <td style=\"padding-left: 1em; padding-right: 1em; text-align: center; vertical-align: top\">6.83140555623e-08</td>\n",
        "    </tr>\n",
        "    <tr>\n",
        "        <td style=\"padding-left: 1em; padding-right: 1em; text-align: center; vertical-align: top\">0.00217807980484</td>\n",
        "        <td style=\"padding-left: 1em; padding-right: 1em; text-align: center; vertical-align: top\">1</td>\n",
        "        <td style=\"padding-left: 1em; padding-right: 1em; text-align: center; vertical-align: top\">6.32537551503e-08</td>\n",
        "    </tr>\n",
        "    <tr>\n",
        "        <td style=\"padding-left: 1em; padding-right: 1em; text-align: center; vertical-align: top\">0.00209095661265</td>\n",
        "        <td style=\"padding-left: 1em; padding-right: 1em; text-align: center; vertical-align: top\">1</td>\n",
        "        <td style=\"padding-left: 1em; padding-right: 1em; text-align: center; vertical-align: top\">6.07236049442e-08</td>\n",
        "    </tr>\n",
        "    <tr>\n",
        "        <td style=\"padding-left: 1em; padding-right: 1em; text-align: center; vertical-align: top\">0.00185862810013</td>\n",
        "        <td style=\"padding-left: 1em; padding-right: 1em; text-align: center; vertical-align: top\">1</td>\n",
        "        <td style=\"padding-left: 1em; padding-right: 1em; text-align: center; vertical-align: top\">5.39765377282e-08</td>\n",
        "    </tr>\n",
        "    <tr>\n",
        "        <td style=\"padding-left: 1em; padding-right: 1em; text-align: center; vertical-align: top\">0.001800545972</td>\n",
        "        <td style=\"padding-left: 1em; padding-right: 1em; text-align: center; vertical-align: top\">1</td>\n",
        "        <td style=\"padding-left: 1em; padding-right: 1em; text-align: center; vertical-align: top\">5.22897709242e-08</td>\n",
        "    </tr>\n",
        "    <tr>\n",
        "        <td style=\"padding-left: 1em; padding-right: 1em; text-align: center; vertical-align: top\">0.00168438171575</td>\n",
        "        <td style=\"padding-left: 1em; padding-right: 1em; text-align: center; vertical-align: top\">1</td>\n",
        "        <td style=\"padding-left: 1em; padding-right: 1em; text-align: center; vertical-align: top\">4.89162373162e-08</td>\n",
        "    </tr>\n",
        "    <tr>\n",
        "        <td style=\"padding-left: 1em; padding-right: 1em; text-align: center; vertical-align: top\">...</td>\n",
        "        <td style=\"padding-left: 1em; padding-right: 1em; text-align: center; vertical-align: top\">...</td>\n",
        "        <td style=\"padding-left: 1em; padding-right: 1em; text-align: center; vertical-align: top\">...</td>\n",
        "    </tr>\n",
        "</table>\n",
        "[53 rows x 9 columns]<br/>Note: Only the head of the SFrame is printed.<br/>You can use print_rows(num_rows=m, num_columns=n) to print more rows and columns.\n",
        "</div>"
       ],
       "metadata": {},
       "output_type": "pyout",
       "prompt_number": 260,
       "text": [
        "Columns:\n",
        "\tartist\tstr\n",
        "\tsong\tstr\n",
        "\tuser\tstr\n",
        "\tCount\tint\n",
        "\tartist_song\tstr\n",
        "\ttotal_cnt\tint\n",
        "\tnorm\tfloat\n",
        "\tbinary\tint\n",
        "\tnorm_song\tfloat\n",
        "\n",
        "Rows: 53\n",
        "\n",
        "Data:\n",
        "+-------------+--------------------------------+-------------+-------+\n",
        "|    artist   |              song              |     user    | Count |\n",
        "+-------------+--------------------------------+-------------+-------+\n",
        "| Man\\xc3\\xa1 |           Hechicera            | user_000349 |  114  |\n",
        "|     Mana    |       Clavado En Un Bar        | user_000349 |  110  |\n",
        "| Man\\xc3\\xa1 | \\xc2\\xa1Justicia, Tierra Y ... | user_000349 |   93  |\n",
        "| Man\\xc3\\xa1 |       Somos Mar Y Arena        | user_000349 |   90  |\n",
        "| Man\\xc3\\xa1 |         Angel De Amor          | user_000349 |   81  |\n",
        "| Man\\xc3\\xa1 |           Ay, Doctor           | user_000349 |   75  |\n",
        "| Man\\xc3\\xa1 |         Sabanas Frias          | user_000349 |   72  |\n",
        "|     Mana    |      Mariposa Traicionera      | user_000349 |   64  |\n",
        "|     Mana    |       Labios Compartidos       | user_000349 |   62  |\n",
        "| Man\\xc3\\xa1 |          Oye Mi Amor           | user_000349 |   58  |\n",
        "+-------------+--------------------------------+-------------+-------+\n",
        "+--------------------------------+-----------+------------------+--------+\n",
        "|          artist_song           | total_cnt |       norm       | binary |\n",
        "+--------------------------------+-----------+------------------+--------+\n",
        "|     Man\\xc3\\xa1: Hechicera     |   34434   | 0.00331068130336 |   1    |\n",
        "|    Mana: Clavado En Un Bar     |   34434   | 0.0031945170471  |   1    |\n",
        "| Man\\xc3\\xa1: \\xc2\\xa1Justi ... |   34434   | 0.00270081895801 |   1    |\n",
        "| Man\\xc3\\xa1: Somos Mar Y Arena |   34434   | 0.00261369576581 |   1    |\n",
        "|   Man\\xc3\\xa1: Angel De Amor   |   34434   | 0.00235232618923 |   1    |\n",
        "|    Man\\xc3\\xa1: Ay, Doctor     |   34434   | 0.00217807980484 |   1    |\n",
        "|   Man\\xc3\\xa1: Sabanas Frias   |   34434   | 0.00209095661265 |   1    |\n",
        "|   Mana: Mariposa Traicionera   |   34434   | 0.00185862810013 |   1    |\n",
        "|    Mana: Labios Compartidos    |   34434   |  0.001800545972  |   1    |\n",
        "|    Man\\xc3\\xa1: Oye Mi Amor    |   34434   | 0.00168438171575 |   1    |\n",
        "+--------------------------------+-----------+------------------+--------+\n",
        "+-------------------+\n",
        "|     norm_song     |\n",
        "+-------------------+\n",
        "| 9.61457078284e-08 |\n",
        "| 9.27721742204e-08 |\n",
        "| 7.84346563863e-08 |\n",
        "| 7.59045061803e-08 |\n",
        "| 6.83140555623e-08 |\n",
        "| 6.32537551503e-08 |\n",
        "| 6.07236049442e-08 |\n",
        "| 5.39765377282e-08 |\n",
        "| 5.22897709242e-08 |\n",
        "| 4.89162373162e-08 |\n",
        "|        ...        |\n",
        "+-------------------+\n",
        "[53 rows x 9 columns]\n",
        "Note: Only the head of the SFrame is printed.\n",
        "You can use print_rows(num_rows=m, num_columns=n) to print more rows and columns."
       ]
      }
     ],
     "prompt_number": 260
    },
    {
     "cell_type": "code",
     "collapsed": false,
     "input": [
      "item_model.list_fields()"
     ],
     "language": "python",
     "metadata": {},
     "outputs": [
      {
       "metadata": {},
       "output_type": "pyout",
       "prompt_number": 284,
       "text": [
        "['data_load_time',\n",
        " 'item_id',\n",
        " 'item_side_data_column_names',\n",
        " 'item_side_data_column_types',\n",
        " 'model_name',\n",
        " 'num_features',\n",
        " 'num_item_side_features',\n",
        " 'num_items',\n",
        " 'num_observations',\n",
        " 'num_user_side_features',\n",
        " 'num_users',\n",
        " 'observation_data_column_names',\n",
        " 'only_top_k',\n",
        " 'random_seed',\n",
        " 'similarity_type',\n",
        " 'target',\n",
        " 'threshold',\n",
        " 'training_method',\n",
        " 'training_time',\n",
        " 'user_id',\n",
        " 'user_side_data_column_names',\n",
        " 'user_side_data_column_types']"
       ]
      }
     ],
     "prompt_number": 284
    },
    {
     "cell_type": "code",
     "collapsed": false,
     "input": [
      "item_model['user_side_data_column_names']"
     ],
     "language": "python",
     "metadata": {},
     "outputs": [
      {
       "metadata": {},
       "output_type": "pyout",
       "prompt_number": 286,
       "text": [
        "[]"
       ]
      }
     ],
     "prompt_number": 286
    },
    {
     "cell_type": "code",
     "collapsed": false,
     "input": [
      "item_model.get_similar_items()['score'].unique()"
     ],
     "language": "python",
     "metadata": {},
     "outputs": [
      {
       "html": [
        "<pre>PROGRESS: Getting similar items completed in 0.110902</pre>"
       ],
       "metadata": {},
       "output_type": "display_data",
       "text": [
        "PROGRESS: Getting similar items completed in 0.110902"
       ]
      },
      {
       "metadata": {},
       "output_type": "pyout",
       "prompt_number": 295,
       "text": [
        "dtype: float\n",
        "Rows: 13\n",
        "[0.8, 0.4, 0.75, 0.2857142857142857, 0.16666666666666666, 1.0, 0.5, 0.2, 0.6666666666666666, 0.25, 0.6, 0.3333333333333333, 0.2222222222222222]"
       ]
      }
     ],
     "prompt_number": 295
    },
    {
     "cell_type": "code",
     "collapsed": false,
     "input": [
      "train_set2['artist_song'].unique()"
     ],
     "language": "python",
     "metadata": {},
     "outputs": [
      {
       "metadata": {},
       "output_type": "pyout",
       "prompt_number": 293,
       "text": [
        "dtype: str\n",
        "Rows: 6542\n",
        "['Zana Aliu: Vljubena (Fyr Macedonia)', 'The Shins: Spilt Needles', 'Cocteau Twins: Amelia', 'Kettcar: Balu', 'Red House Painters: Brown Eyes [Demo]', 'The Machinist: Warp', 'The Cure: The Only One', 'Britney Spears: Phonography', 'Sigur R\\xc3\\xb3s: M\\xc3\\xadlan\\xc3\\xb3', 'Frou Frou: The Dumbing Down Of Love', 'Kylie Minogue: King Or Queen', 'Dir En Grey: Merciless Cult', 'Mgmt: The Youth', 'Red House Painters: Michael', 'James Blunt: Goodbye My Lover', 'Britney Spears: Amnesia (Bonus Track)', 'Nelly Furtado: Te Busque (Feat. Juanes)', 'Mika: Grace Kelly', 'Jackson And His Computer Band: Utopia', 'Agonoize: The Holy Flame', \"The 69 Eyes: Dance D'Amour\", 'Girlicious: Stupid S***', 'A Perfect Circle: Fiddle And The Drum', 'Mylo: In My Arms', 'Cansei De Ser Sexy: Meeting Paris Hilton', 'Scooter: Fire', 'Interpol: Obstacle 1', 'Bruce Springsteen: Born To Run (Acoustic)', 'Proyecto Uno: Trabajando En El Sol', 'Mogwai: Friend Of The Night', 'Blue Man Group: Chant Jam', 'Buckethead: Forgotten Trail', 'Barenaked Ladies: The Old Apartment', 'Trackademicks: Bullets (Trackademicks Remix) - The Editors', 'Man\\xc3\\xa1: Selva Negra', 'Atlas Sound: Blue Moon', 'Johnny Nash: I Can See Clearly Now', 'Iron & Wine: Bird Stealing Bread', 'Nine Inch Nails: Wish', \"Warmen: Somebody'S Watching Me\", 'Operation Ivy: Bankshot - Popdrop.Ru', 'Melanie C: Better Alone', 'Massive Attack: Karmacoma', 'M\\xc3\\xbam: We Have A Map Of The Piano', 'Jon Secada: Window To My Heart', 'L.P.: Wasted', 'Alva Noto + Ryuichi Sakamoto: Aurora', 'Klaxons: As Above, So Below', 'Chemistry: B.M.N. (Big Man, Now)', 'Gogol Bordello: Start Wearing Purple', 'Turbonegro: Fuck The World', '\\xe9\\x9b\\x85-Miyavi-: Sukki Yanen Myv ~Myv Man Koushiki Ouen Uta~ (Zenpen)', 'Kelly Clarkson: My Life Would Suck Without You', 'The Knife: Is It Medicine', 'The Russian Futurists: Paul Simon', 'The Postal Service: We Will Become Silhouettes', 'The 69 Eyes: Dream Master', 'Jackson And His Computer Band: Arpeggio', 'De Saloon: Dejame Ser El Silencio', 'Astor Piazzolla: Vuelvo Al Sur', \"The 69 Eyes: You'Re Lost Little Girl\", 'In Flames: Free Fall', 'Emilie Autumn: Swallow', 'Iko: Cinema', \"Looper: Mondo '77\", 'Maroon 5: Better That We Break', 'Beach House: Turtle Island', 'Pj Harvey: Ecstasy', 'The Fray: Fall Away', 'On Thorns I Lay: Atlantis I', 'Guy Clark: New Cut Road', 'Jem: Finally Woken', 'Are You God?: Help Yourself', 'Gustavo Santaolalla: Can Light Be Found In The Darkness?', 'Nine Inch Nails: Something I Can Never Have', 'Quim Barreiros: O Neg\\xc3\\xb3cio Grande', 'The Films: Black Shoes', 'The Courteeners: What Took You So Long?', 'Ac/Dc: Whole Lotta Rosie', '\\xe6\\x9c\\x89\\xe5\\x9d\\x82\\xe7\\xbe\\x8e\\xe9\\xa6\\x99: Life Goes On', \"L'Arc~En~Ciel: The Fourth Avenue Cafe\", \"Amy Winehouse: You Know I'M No Good\", 'Yazoo: Ode To Boy', 'Death Cab For Cutie: Summer Skin', 'Frou Frou: Let Go', 'Scorpions: Life Is Too Short', 'Ratatat: Lapland', 'Piotr Rubik: Psalm Dla Ciebie', 'Dir En Grey: \\xe2\\x80\\x9a\\xc2\\xa9\\xe2\\x80\\x9a\\xc2\\xb7\\xe2\\x80\\x9a\\xc3\\x9d', 'Jennifer Lopez: Mile In These Shoes', 'Aphex Twin: 54 Cymru Beats', 'Chemistry: Rewind', 'Hank Williams, Jr.: Cold Cold Ground', 'M83: Unrecorded', 'Chris Isaak: You Owe Me Some Kind Of Love', 'Os Bonnies: Venha Pra Mim', 'Elliott Smith: Between The Bars', 'Rooney: Daisy Duke', 'Mgmt: Kids', 'Girls Aloud: Untouchable', ... ]"
       ]
      }
     ],
     "prompt_number": 293
    },
    {
     "cell_type": "markdown",
     "metadata": {},
     "source": [
      "## trying w/ graphlab example"
     ]
    },
    {
     "cell_type": "code",
     "collapsed": false,
     "input": [
      "data = gl.SFrame.read_csv(\"http://s3.amazonaws.com/GraphLab-Datasets/movie_ratings/training_data.csv\", column_type_hints={\"rating\":int})"
     ],
     "language": "python",
     "metadata": {},
     "outputs": [
      {
       "html": [
        "<pre>PROGRESS: Finished parsing file http://s3.amazonaws.com/GraphLab-Datasets/movie_ratings/training_data.csv</pre>"
       ],
       "metadata": {},
       "output_type": "display_data",
       "text": [
        "PROGRESS: Finished parsing file http://s3.amazonaws.com/GraphLab-Datasets/movie_ratings/training_data.csv"
       ]
      },
      {
       "html": [
        "<pre>PROGRESS: Parsing completed. Parsed 82068 lines in 0.365529 secs.</pre>"
       ],
       "metadata": {},
       "output_type": "display_data",
       "text": [
        "PROGRESS: Parsing completed. Parsed 82068 lines in 0.365529 secs."
       ]
      }
     ],
     "prompt_number": 231
    },
    {
     "cell_type": "code",
     "collapsed": false,
     "input": [
      "m = gl.recommender.create(data, user_id=\"user\", item_id=\"movie\", target=\"rating\", verbose = False)"
     ],
     "language": "python",
     "metadata": {},
     "outputs": [
      {
       "html": [
        "<pre>PROGRESS: Recsys training: model = ranking_factorization_recommender</pre>"
       ],
       "metadata": {},
       "output_type": "display_data",
       "text": [
        "PROGRESS: Recsys training: model = ranking_factorization_recommender"
       ]
      }
     ],
     "prompt_number": 270
    },
    {
     "cell_type": "code",
     "collapsed": false,
     "input": [
      "results = m.recommend(users=['Jacob Smith'], k=5)\n",
      "results.head()"
     ],
     "language": "python",
     "metadata": {},
     "outputs": [
      {
       "html": [
        "<div style=\"max-height:1000px;max-width:1500px;overflow:auto;\"><table frame=\"box\" rules=\"cols\">\n",
        "    <tr>\n",
        "        <th style=\"padding-left: 1em; padding-right: 1em; text-align: center\">user</th>\n",
        "        <th style=\"padding-left: 1em; padding-right: 1em; text-align: center\">movie</th>\n",
        "        <th style=\"padding-left: 1em; padding-right: 1em; text-align: center\">score</th>\n",
        "        <th style=\"padding-left: 1em; padding-right: 1em; text-align: center\">rank</th>\n",
        "    </tr>\n",
        "    <tr>\n",
        "        <td style=\"padding-left: 1em; padding-right: 1em; text-align: center; vertical-align: top\">Jacob Smith</td>\n",
        "        <td style=\"padding-left: 1em; padding-right: 1em; text-align: center; vertical-align: top\">The Remains of the Day</td>\n",
        "        <td style=\"padding-left: 1em; padding-right: 1em; text-align: center; vertical-align: top\">4.4398354406</td>\n",
        "        <td style=\"padding-left: 1em; padding-right: 1em; text-align: center; vertical-align: top\">1</td>\n",
        "    </tr>\n",
        "    <tr>\n",
        "        <td style=\"padding-left: 1em; padding-right: 1em; text-align: center; vertical-align: top\">Jacob Smith</td>\n",
        "        <td style=\"padding-left: 1em; padding-right: 1em; text-align: center; vertical-align: top\">MASH: Season 5</td>\n",
        "        <td style=\"padding-left: 1em; padding-right: 1em; text-align: center; vertical-align: top\">4.0790976996</td>\n",
        "        <td style=\"padding-left: 1em; padding-right: 1em; text-align: center; vertical-align: top\">2</td>\n",
        "    </tr>\n",
        "    <tr>\n",
        "        <td style=\"padding-left: 1em; padding-right: 1em; text-align: center; vertical-align: top\">Jacob Smith</td>\n",
        "        <td style=\"padding-left: 1em; padding-right: 1em; text-align: center; vertical-align: top\">When Harry Met Sally</td>\n",
        "        <td style=\"padding-left: 1em; padding-right: 1em; text-align: center; vertical-align: top\">3.92830492207</td>\n",
        "        <td style=\"padding-left: 1em; padding-right: 1em; text-align: center; vertical-align: top\">3</td>\n",
        "    </tr>\n",
        "    <tr>\n",
        "        <td style=\"padding-left: 1em; padding-right: 1em; text-align: center; vertical-align: top\">Jacob Smith</td>\n",
        "        <td style=\"padding-left: 1em; padding-right: 1em; text-align: center; vertical-align: top\">The Shawshank Redemption:<br>Special Edition</td>\n",
        "        <td style=\"padding-left: 1em; padding-right: 1em; text-align: center; vertical-align: top\">3.92001385637</td>\n",
        "        <td style=\"padding-left: 1em; padding-right: 1em; text-align: center; vertical-align: top\">4</td>\n",
        "    </tr>\n",
        "    <tr>\n",
        "        <td style=\"padding-left: 1em; padding-right: 1em; text-align: center; vertical-align: top\">Jacob Smith</td>\n",
        "        <td style=\"padding-left: 1em; padding-right: 1em; text-align: center; vertical-align: top\">The Philadelphia Story</td>\n",
        "        <td style=\"padding-left: 1em; padding-right: 1em; text-align: center; vertical-align: top\">3.80154122063</td>\n",
        "        <td style=\"padding-left: 1em; padding-right: 1em; text-align: center; vertical-align: top\">5</td>\n",
        "    </tr>\n",
        "</table>\n",
        "[5 rows x 4 columns]<br/>\n",
        "</div>"
       ],
       "metadata": {},
       "output_type": "pyout",
       "prompt_number": 271,
       "text": [
        "Columns:\n",
        "\tuser\tstr\n",
        "\tmovie\tstr\n",
        "\tscore\tfloat\n",
        "\trank\tint\n",
        "\n",
        "Rows: 5\n",
        "\n",
        "Data:\n",
        "+-------------+--------------------------------+---------------+------+\n",
        "|     user    |             movie              |     score     | rank |\n",
        "+-------------+--------------------------------+---------------+------+\n",
        "| Jacob Smith |     The Remains of the Day     |  4.4398354406 |  1   |\n",
        "| Jacob Smith |         MASH: Season 5         |  4.0790976996 |  2   |\n",
        "| Jacob Smith |      When Harry Met Sally      | 3.92830492207 |  3   |\n",
        "| Jacob Smith | The Shawshank Redemption:  ... | 3.92001385637 |  4   |\n",
        "| Jacob Smith |     The Philadelphia Story     | 3.80154122063 |  5   |\n",
        "+-------------+--------------------------------+---------------+------+\n",
        "[5 rows x 4 columns]\n"
       ]
      }
     ],
     "prompt_number": 271
    },
    {
     "cell_type": "code",
     "collapsed": false,
     "input": [
      "data.head()"
     ],
     "language": "python",
     "metadata": {},
     "outputs": [
      {
       "html": [
        "<div style=\"max-height:1000px;max-width:1500px;overflow:auto;\"><table frame=\"box\" rules=\"cols\">\n",
        "    <tr>\n",
        "        <th style=\"padding-left: 1em; padding-right: 1em; text-align: center\">user</th>\n",
        "        <th style=\"padding-left: 1em; padding-right: 1em; text-align: center\">movie</th>\n",
        "        <th style=\"padding-left: 1em; padding-right: 1em; text-align: center\">rating</th>\n",
        "    </tr>\n",
        "    <tr>\n",
        "        <td style=\"padding-left: 1em; padding-right: 1em; text-align: center; vertical-align: top\">Jacob Smith</td>\n",
        "        <td style=\"padding-left: 1em; padding-right: 1em; text-align: center; vertical-align: top\">Flirting with Disaster</td>\n",
        "        <td style=\"padding-left: 1em; padding-right: 1em; text-align: center; vertical-align: top\">4</td>\n",
        "    </tr>\n",
        "    <tr>\n",
        "        <td style=\"padding-left: 1em; padding-right: 1em; text-align: center; vertical-align: top\">Jacob Smith</td>\n",
        "        <td style=\"padding-left: 1em; padding-right: 1em; text-align: center; vertical-align: top\">Indecent Proposal</td>\n",
        "        <td style=\"padding-left: 1em; padding-right: 1em; text-align: center; vertical-align: top\">3</td>\n",
        "    </tr>\n",
        "    <tr>\n",
        "        <td style=\"padding-left: 1em; padding-right: 1em; text-align: center; vertical-align: top\">Jacob Smith</td>\n",
        "        <td style=\"padding-left: 1em; padding-right: 1em; text-align: center; vertical-align: top\">Runaway Bride</td>\n",
        "        <td style=\"padding-left: 1em; padding-right: 1em; text-align: center; vertical-align: top\">2</td>\n",
        "    </tr>\n",
        "    <tr>\n",
        "        <td style=\"padding-left: 1em; padding-right: 1em; text-align: center; vertical-align: top\">Jacob Smith</td>\n",
        "        <td style=\"padding-left: 1em; padding-right: 1em; text-align: center; vertical-align: top\">Swiss Family Robinson</td>\n",
        "        <td style=\"padding-left: 1em; padding-right: 1em; text-align: center; vertical-align: top\">1</td>\n",
        "    </tr>\n",
        "    <tr>\n",
        "        <td style=\"padding-left: 1em; padding-right: 1em; text-align: center; vertical-align: top\">Jacob Smith</td>\n",
        "        <td style=\"padding-left: 1em; padding-right: 1em; text-align: center; vertical-align: top\">The Mexican</td>\n",
        "        <td style=\"padding-left: 1em; padding-right: 1em; text-align: center; vertical-align: top\">2</td>\n",
        "    </tr>\n",
        "    <tr>\n",
        "        <td style=\"padding-left: 1em; padding-right: 1em; text-align: center; vertical-align: top\">Jacob Smith</td>\n",
        "        <td style=\"padding-left: 1em; padding-right: 1em; text-align: center; vertical-align: top\">Maid in Manhattan</td>\n",
        "        <td style=\"padding-left: 1em; padding-right: 1em; text-align: center; vertical-align: top\">4</td>\n",
        "    </tr>\n",
        "    <tr>\n",
        "        <td style=\"padding-left: 1em; padding-right: 1em; text-align: center; vertical-align: top\">Jacob Smith</td>\n",
        "        <td style=\"padding-left: 1em; padding-right: 1em; text-align: center; vertical-align: top\">A Charlie Brown<br>Thanksgiving / The ...</td>\n",
        "        <td style=\"padding-left: 1em; padding-right: 1em; text-align: center; vertical-align: top\">3</td>\n",
        "    </tr>\n",
        "    <tr>\n",
        "        <td style=\"padding-left: 1em; padding-right: 1em; text-align: center; vertical-align: top\">Jacob Smith</td>\n",
        "        <td style=\"padding-left: 1em; padding-right: 1em; text-align: center; vertical-align: top\">Brazil</td>\n",
        "        <td style=\"padding-left: 1em; padding-right: 1em; text-align: center; vertical-align: top\">1</td>\n",
        "    </tr>\n",
        "    <tr>\n",
        "        <td style=\"padding-left: 1em; padding-right: 1em; text-align: center; vertical-align: top\">Jacob Smith</td>\n",
        "        <td style=\"padding-left: 1em; padding-right: 1em; text-align: center; vertical-align: top\">Forrest Gump</td>\n",
        "        <td style=\"padding-left: 1em; padding-right: 1em; text-align: center; vertical-align: top\">3</td>\n",
        "    </tr>\n",
        "    <tr>\n",
        "        <td style=\"padding-left: 1em; padding-right: 1em; text-align: center; vertical-align: top\">Jacob Smith</td>\n",
        "        <td style=\"padding-left: 1em; padding-right: 1em; text-align: center; vertical-align: top\">It Happened One Night</td>\n",
        "        <td style=\"padding-left: 1em; padding-right: 1em; text-align: center; vertical-align: top\">4</td>\n",
        "    </tr>\n",
        "</table>\n",
        "[10 rows x 3 columns]<br/>\n",
        "</div>"
       ],
       "metadata": {},
       "output_type": "pyout",
       "prompt_number": 264,
       "text": [
        "Columns:\n",
        "\tuser\tstr\n",
        "\tmovie\tstr\n",
        "\trating\tint\n",
        "\n",
        "Rows: 10\n",
        "\n",
        "Data:\n",
        "+-------------+--------------------------------+--------+\n",
        "|     user    |             movie              | rating |\n",
        "+-------------+--------------------------------+--------+\n",
        "| Jacob Smith |     Flirting with Disaster     |   4    |\n",
        "| Jacob Smith |       Indecent Proposal        |   3    |\n",
        "| Jacob Smith |         Runaway Bride          |   2    |\n",
        "| Jacob Smith |     Swiss Family Robinson      |   1    |\n",
        "| Jacob Smith |          The Mexican           |   2    |\n",
        "| Jacob Smith |       Maid in Manhattan        |   4    |\n",
        "| Jacob Smith | A Charlie Brown Thanksgivi ... |   3    |\n",
        "| Jacob Smith |             Brazil             |   1    |\n",
        "| Jacob Smith |          Forrest Gump          |   3    |\n",
        "| Jacob Smith |     It Happened One Night      |   4    |\n",
        "+-------------+--------------------------------+--------+\n",
        "[10 rows x 3 columns]\n"
       ]
      }
     ],
     "prompt_number": 264
    },
    {
     "cell_type": "code",
     "collapsed": false,
     "input": [],
     "language": "python",
     "metadata": {},
     "outputs": []
    },
    {
     "cell_type": "code",
     "collapsed": false,
     "input": [],
     "language": "python",
     "metadata": {},
     "outputs": []
    },
    {
     "cell_type": "code",
     "collapsed": false,
     "input": [],
     "language": "python",
     "metadata": {},
     "outputs": []
    },
    {
     "cell_type": "code",
     "collapsed": false,
     "input": [],
     "language": "python",
     "metadata": {},
     "outputs": []
    },
    {
     "cell_type": "code",
     "collapsed": false,
     "input": [
      "data[data['user'] == 'Jacob Smith']['movie']"
     ],
     "language": "python",
     "metadata": {},
     "outputs": [
      {
       "metadata": {},
       "output_type": "pyout",
       "prompt_number": 326,
       "text": [
        "dtype: str\n",
        "Rows: 145\n",
        "['Flirting with Disaster', 'Indecent Proposal', 'Runaway Bride', 'Swiss Family Robinson', 'The Mexican', 'Maid in Manhattan', 'A Charlie Brown Thanksgiving / The Mayflower Voyagers', 'Brazil', 'Forrest Gump', 'It Happened One Night', 'Airplane!', 'The Wedding Planner', 'A League of Their Own', 'Swordfish', 'Indiana Jones and the Temple of Doom', 'A Beautiful Mind', 'The Blue Planet: Seas of Life: Tidal Seas - Coasts', 'Brother Bear (Home Viewing Version)', 'The Sound of Music', 'Kate & Leopold', 'A Charlie Brown Christmas', 'The Rock', 'Coming to America', 'Better Off Dead', 'Mystic River', 'The Office: Series 1', 'Double Jeopardy', 'Men in Black', 'Two Weeks Notice', 'Austin Powers: International Man of Mystery', 'Chicago', 'Terms of Endearment', \"The General's Daughter\", 'A Fish Called Wanda', 'Life Is Beautiful', 'Air Force One', 'Breakthru Pilates Sculpt', \"Dora the Explorer: Dora's Map Adventures\", 'The Game', 'Raising Arizona', 'Spider-Man', 'How to Lose a Guy in 10 Days', \"You've Got Mail\", 'Die Hard With a Vengeance', 'Bend It Like Beckham', 'Austin Powers: The Spy Who Shagged Me', 'The Sweetest Thing', 'Rivers and Tides', 'Dead Poets Society', 'Notting Hill', 'Dangerous Liaisons', 'Sweet Home Alabama', 'Real Women Have Curves', 'Big', 'Amadeus', 'Citizen Ruth', 'Blue Crush', 'Life as a House', 'The Graduate', \"One Night at McCool's\", '13 Going on 30', 'Return to Me', 'Vertigo', 'Laws of Attraction', 'Martin Lawrence: You So Crazy', 'Winged Migration', 'Dirty Harry', 'Defending Your Life', 'Sweet and Lowdown', 'Titanic', 'Bandits', 'Meet the Parents', 'Saving Private Ryan', 'Legally Blonde', 'Tootsie', 'Slap Shot: 25th Anniversary Edition', 'Ghostbusters', \"Harry Potter and the Sorcerer's Stone\", 'Eternal Sunshine of the Spotless Mind', 'Pirates of the Caribbean: The Curse of the Black Pearl', 'The Story of Us', 'What Women Want', 'Bad Boys', 'On Golden Pond', \"America's Sweethearts\", 'Northern Exposure: Season 1', \"The Emperor's New Groove\", 'Parenthood', 'The Silence of the Lambs', 'Harold and Kumar Go to White Castle', 'The Ladykillers', \"Something's Gotta Give\", 'Lethal Weapon 3', 'Finding Nemo (Widescreen)', 'Patch Adams', 'The Sixth Sense', 'A Nightmare on Elm Street', 'The Italian Job', 'Dances With Wolves: Special Edition', 'Steel Magnolias', ... ]"
       ]
      }
     ],
     "prompt_number": 326
    },
    {
     "cell_type": "code",
     "collapsed": false,
     "input": [
      "len(data.to_dataframe()['movie'].value_counts())"
     ],
     "language": "python",
     "metadata": {},
     "outputs": [
      {
       "metadata": {},
       "output_type": "pyout",
       "prompt_number": 283,
       "text": [
        "7714"
       ]
      }
     ],
     "prompt_number": 283
    },
    {
     "cell_type": "code",
     "collapsed": false,
     "input": [
      "model_factor4 = gl.recommender.create(train_set3, user_id = 'user', item_id='artist_song', verbose = False)"
     ],
     "language": "python",
     "metadata": {},
     "outputs": [
      {
       "html": [
        "<pre>PROGRESS: Recsys training: model = item_similarity</pre>"
       ],
       "metadata": {},
       "output_type": "display_data",
       "text": [
        "PROGRESS: Recsys training: model = item_similarity"
       ]
      },
      {
       "html": [
        "<pre>PROGRESS: Preparing data set.</pre>"
       ],
       "metadata": {},
       "output_type": "display_data",
       "text": [
        "PROGRESS: Preparing data set."
       ]
      },
      {
       "html": [
        "<pre>PROGRESS:     Data has 7204 observations with 336 users and 6542 items.</pre>"
       ],
       "metadata": {},
       "output_type": "display_data",
       "text": [
        "PROGRESS:     Data has 7204 observations with 336 users and 6542 items."
       ]
      },
      {
       "html": [
        "<pre>PROGRESS:     Data prepared in: 0.217667s</pre>"
       ],
       "metadata": {},
       "output_type": "display_data",
       "text": [
        "PROGRESS:     Data prepared in: 0.217667s"
       ]
      },
      {
       "html": [
        "<pre>PROGRESS: Computing item similarity statistics:</pre>"
       ],
       "metadata": {},
       "output_type": "display_data",
       "text": [
        "PROGRESS: Computing item similarity statistics:"
       ]
      },
      {
       "html": [
        "<pre>PROGRESS: +-----------------+-----------------+</pre>"
       ],
       "metadata": {},
       "output_type": "display_data",
       "text": [
        "PROGRESS: +-----------------+-----------------+"
       ]
      },
      {
       "html": [
        "<pre>PROGRESS: | Number of users | Elapsed Time    |</pre>"
       ],
       "metadata": {},
       "output_type": "display_data",
       "text": [
        "PROGRESS: | Number of users | Elapsed Time    |"
       ]
      },
      {
       "html": [
        "<pre>PROGRESS: +-----------------+-----------------+</pre>"
       ],
       "metadata": {},
       "output_type": "display_data",
       "text": [
        "PROGRESS: +-----------------+-----------------+"
       ]
      },
      {
       "html": [
        "<pre>PROGRESS: +-----------------+-----------------+</pre>"
       ],
       "metadata": {},
       "output_type": "display_data",
       "text": [
        "PROGRESS: +-----------------+-----------------+"
       ]
      },
      {
       "html": [
        "<pre>PROGRESS: Computing most similar items for 6542 items:</pre>"
       ],
       "metadata": {},
       "output_type": "display_data",
       "text": [
        "PROGRESS: Computing most similar items for 6542 items:"
       ]
      },
      {
       "html": [
        "<pre>PROGRESS: +-----------------+-----------------+</pre>"
       ],
       "metadata": {},
       "output_type": "display_data",
       "text": [
        "PROGRESS: +-----------------+-----------------+"
       ]
      },
      {
       "html": [
        "<pre>PROGRESS: | Number of items | Elapsed Time    |</pre>"
       ],
       "metadata": {},
       "output_type": "display_data",
       "text": [
        "PROGRESS: | Number of items | Elapsed Time    |"
       ]
      },
      {
       "html": [
        "<pre>PROGRESS: +-----------------+-----------------+</pre>"
       ],
       "metadata": {},
       "output_type": "display_data",
       "text": [
        "PROGRESS: +-----------------+-----------------+"
       ]
      },
      {
       "html": [
        "<pre>PROGRESS: | 0               | 0.458235        |</pre>"
       ],
       "metadata": {},
       "output_type": "display_data",
       "text": [
        "PROGRESS: | 0               | 0.458235        |"
       ]
      },
      {
       "html": [
        "<pre>PROGRESS: +-----------------+-----------------+</pre>"
       ],
       "metadata": {},
       "output_type": "display_data",
       "text": [
        "PROGRESS: +-----------------+-----------------+"
       ]
      },
      {
       "html": [
        "<pre>PROGRESS: Finished training in 1.12663s</pre>"
       ],
       "metadata": {},
       "output_type": "display_data",
       "text": [
        "PROGRESS: Finished training in 1.12663s"
       ]
      }
     ],
     "prompt_number": 298
    },
    {
     "cell_type": "code",
     "collapsed": false,
     "input": [
      "model_factor4.recommend([train_user0])"
     ],
     "language": "python",
     "metadata": {},
     "outputs": [
      {
       "html": [
        "<div style=\"max-height:1000px;max-width:1500px;overflow:auto;\"><table frame=\"box\" rules=\"cols\">\n",
        "    <tr>\n",
        "        <th style=\"padding-left: 1em; padding-right: 1em; text-align: center\">user</th>\n",
        "        <th style=\"padding-left: 1em; padding-right: 1em; text-align: center\">artist_song</th>\n",
        "        <th style=\"padding-left: 1em; padding-right: 1em; text-align: center\">score</th>\n",
        "        <th style=\"padding-left: 1em; padding-right: 1em; text-align: center\">rank</th>\n",
        "    </tr>\n",
        "    <tr>\n",
        "        <td style=\"padding-left: 1em; padding-right: 1em; text-align: center; vertical-align: top\">user_000234</td>\n",
        "        <td style=\"padding-left: 1em; padding-right: 1em; text-align: center; vertical-align: top\">A Tribe Called Quest: Can<br>I Kick It?</td>\n",
        "        <td style=\"padding-left: 1em; padding-right: 1em; text-align: center; vertical-align: top\">0.0416666666667</td>\n",
        "        <td style=\"padding-left: 1em; padding-right: 1em; text-align: center; vertical-align: top\">1</td>\n",
        "    </tr>\n",
        "    <tr>\n",
        "        <td style=\"padding-left: 1em; padding-right: 1em; text-align: center; vertical-align: top\">user_000234</td>\n",
        "        <td style=\"padding-left: 1em; padding-right: 1em; text-align: center; vertical-align: top\">Wu-Tang Clan: Gravel Pit</td>\n",
        "        <td style=\"padding-left: 1em; padding-right: 1em; text-align: center; vertical-align: top\">0.0416666666667</td>\n",
        "        <td style=\"padding-left: 1em; padding-right: 1em; text-align: center; vertical-align: top\">2</td>\n",
        "    </tr>\n",
        "    <tr>\n",
        "        <td style=\"padding-left: 1em; padding-right: 1em; text-align: center; vertical-align: top\">user_000234</td>\n",
        "        <td style=\"padding-left: 1em; padding-right: 1em; text-align: center; vertical-align: top\">Wilco: I'M The Man Who<br>Loves You</td>\n",
        "        <td style=\"padding-left: 1em; padding-right: 1em; text-align: center; vertical-align: top\">0.0416666666667</td>\n",
        "        <td style=\"padding-left: 1em; padding-right: 1em; text-align: center; vertical-align: top\">3</td>\n",
        "    </tr>\n",
        "    <tr>\n",
        "        <td style=\"padding-left: 1em; padding-right: 1em; text-align: center; vertical-align: top\">user_000234</td>\n",
        "        <td style=\"padding-left: 1em; padding-right: 1em; text-align: center; vertical-align: top\">Keke Palmer: Bottoms Up</td>\n",
        "        <td style=\"padding-left: 1em; padding-right: 1em; text-align: center; vertical-align: top\">0.0416666666667</td>\n",
        "        <td style=\"padding-left: 1em; padding-right: 1em; text-align: center; vertical-align: top\">4</td>\n",
        "    </tr>\n",
        "    <tr>\n",
        "        <td style=\"padding-left: 1em; padding-right: 1em; text-align: center; vertical-align: top\">user_000234</td>\n",
        "        <td style=\"padding-left: 1em; padding-right: 1em; text-align: center; vertical-align: top\">Pavement: Gold Soundz</td>\n",
        "        <td style=\"padding-left: 1em; padding-right: 1em; text-align: center; vertical-align: top\">0.0416666666667</td>\n",
        "        <td style=\"padding-left: 1em; padding-right: 1em; text-align: center; vertical-align: top\">5</td>\n",
        "    </tr>\n",
        "    <tr>\n",
        "        <td style=\"padding-left: 1em; padding-right: 1em; text-align: center; vertical-align: top\">user_000234</td>\n",
        "        <td style=\"padding-left: 1em; padding-right: 1em; text-align: center; vertical-align: top\">Jedi Mind Tricks: On The<br>Eve Of War (Feat. ...</td>\n",
        "        <td style=\"padding-left: 1em; padding-right: 1em; text-align: center; vertical-align: top\">0.0416666666667</td>\n",
        "        <td style=\"padding-left: 1em; padding-right: 1em; text-align: center; vertical-align: top\">6</td>\n",
        "    </tr>\n",
        "    <tr>\n",
        "        <td style=\"padding-left: 1em; padding-right: 1em; text-align: center; vertical-align: top\">user_000234</td>\n",
        "        <td style=\"padding-left: 1em; padding-right: 1em; text-align: center; vertical-align: top\">Clap Your Hands Say Yeah:<br>Over And Over Again ( ...</td>\n",
        "        <td style=\"padding-left: 1em; padding-right: 1em; text-align: center; vertical-align: top\">0.0416666666667</td>\n",
        "        <td style=\"padding-left: 1em; padding-right: 1em; text-align: center; vertical-align: top\">7</td>\n",
        "    </tr>\n",
        "    <tr>\n",
        "        <td style=\"padding-left: 1em; padding-right: 1em; text-align: center; vertical-align: top\">user_000234</td>\n",
        "        <td style=\"padding-left: 1em; padding-right: 1em; text-align: center; vertical-align: top\">Animal Collective: Leaf<br>House</td>\n",
        "        <td style=\"padding-left: 1em; padding-right: 1em; text-align: center; vertical-align: top\">0.0416666666667</td>\n",
        "        <td style=\"padding-left: 1em; padding-right: 1em; text-align: center; vertical-align: top\">8</td>\n",
        "    </tr>\n",
        "    <tr>\n",
        "        <td style=\"padding-left: 1em; padding-right: 1em; text-align: center; vertical-align: top\">user_000234</td>\n",
        "        <td style=\"padding-left: 1em; padding-right: 1em; text-align: center; vertical-align: top\">Wilco: Forget The Flowers</td>\n",
        "        <td style=\"padding-left: 1em; padding-right: 1em; text-align: center; vertical-align: top\">0.0416666666667</td>\n",
        "        <td style=\"padding-left: 1em; padding-right: 1em; text-align: center; vertical-align: top\">9</td>\n",
        "    </tr>\n",
        "    <tr>\n",
        "        <td style=\"padding-left: 1em; padding-right: 1em; text-align: center; vertical-align: top\">user_000234</td>\n",
        "        <td style=\"padding-left: 1em; padding-right: 1em; text-align: center; vertical-align: top\">Dr. Dre: What'S The<br>Difference (Feat. Emi ...</td>\n",
        "        <td style=\"padding-left: 1em; padding-right: 1em; text-align: center; vertical-align: top\">0.0416666666667</td>\n",
        "        <td style=\"padding-left: 1em; padding-right: 1em; text-align: center; vertical-align: top\">10</td>\n",
        "    </tr>\n",
        "</table>\n",
        "[10 rows x 4 columns]<br/>\n",
        "</div>"
       ],
       "metadata": {},
       "output_type": "pyout",
       "prompt_number": 299,
       "text": [
        "Columns:\n",
        "\tuser\tstr\n",
        "\tartist_song\tstr\n",
        "\tscore\tfloat\n",
        "\trank\tint\n",
        "\n",
        "Rows: 10\n",
        "\n",
        "Data:\n",
        "+-------------+--------------------------------+-----------------+------+\n",
        "|     user    |          artist_song           |      score      | rank |\n",
        "+-------------+--------------------------------+-----------------+------+\n",
        "| user_000234 | A Tribe Called Quest: Can  ... | 0.0416666666667 |  1   |\n",
        "| user_000234 |    Wu-Tang Clan: Gravel Pit    | 0.0416666666667 |  2   |\n",
        "| user_000234 | Wilco: I'M The Man Who Lov ... | 0.0416666666667 |  3   |\n",
        "| user_000234 |    Keke Palmer: Bottoms Up     | 0.0416666666667 |  4   |\n",
        "| user_000234 |     Pavement: Gold Soundz      | 0.0416666666667 |  5   |\n",
        "| user_000234 | Jedi Mind Tricks: On The E ... | 0.0416666666667 |  6   |\n",
        "| user_000234 | Clap Your Hands Say Yeah:  ... | 0.0416666666667 |  7   |\n",
        "| user_000234 | Animal Collective: Leaf House  | 0.0416666666667 |  8   |\n",
        "| user_000234 |   Wilco: Forget The Flowers    | 0.0416666666667 |  9   |\n",
        "| user_000234 | Dr. Dre: What'S The Differ ... | 0.0416666666667 |  10  |\n",
        "+-------------+--------------------------------+-----------------+------+\n",
        "[10 rows x 4 columns]\n"
       ]
      }
     ],
     "prompt_number": 299
    },
    {
     "cell_type": "code",
     "collapsed": false,
     "input": [
      "model_factor4.recommend([train_user2], k = -1)['score'].unique()"
     ],
     "language": "python",
     "metadata": {},
     "outputs": [
      {
       "metadata": {},
       "output_type": "pyout",
       "prompt_number": 309,
       "text": [
        "dtype: float\n",
        "Rows: 12\n",
        "[0.0, 0.06875, 0.0225, 0.0125, 0.01125, 0.07375000000000001, 0.0625, 0.0375, 0.01, 0.005, 0.008333333333333333, 0.00625]"
       ]
      }
     ],
     "prompt_number": 309
    },
    {
     "cell_type": "code",
     "collapsed": false,
     "input": [
      "train_set3.head()"
     ],
     "language": "python",
     "metadata": {},
     "outputs": [
      {
       "html": [
        "<div style=\"max-height:1000px;max-width:1500px;overflow:auto;\"><table frame=\"box\" rules=\"cols\">\n",
        "    <tr>\n",
        "        <th style=\"padding-left: 1em; padding-right: 1em; text-align: center\">artist</th>\n",
        "        <th style=\"padding-left: 1em; padding-right: 1em; text-align: center\">song</th>\n",
        "        <th style=\"padding-left: 1em; padding-right: 1em; text-align: center\">user</th>\n",
        "        <th style=\"padding-left: 1em; padding-right: 1em; text-align: center\">Count</th>\n",
        "        <th style=\"padding-left: 1em; padding-right: 1em; text-align: center\">artist_song</th>\n",
        "        <th style=\"padding-left: 1em; padding-right: 1em; text-align: center\">total_cnt</th>\n",
        "    </tr>\n",
        "    <tr>\n",
        "        <td style=\"padding-left: 1em; padding-right: 1em; text-align: center; vertical-align: top\">The Frames</td>\n",
        "        <td style=\"padding-left: 1em; padding-right: 1em; text-align: center; vertical-align: top\">What Happens When The<br>Heart Just Stops</td>\n",
        "        <td style=\"padding-left: 1em; padding-right: 1em; text-align: center; vertical-align: top\">user_000503</td>\n",
        "        <td style=\"padding-left: 1em; padding-right: 1em; text-align: center; vertical-align: top\">33</td>\n",
        "        <td style=\"padding-left: 1em; padding-right: 1em; text-align: center; vertical-align: top\">The Frames: What Happens<br>When The Heart Just S ...</td>\n",
        "        <td style=\"padding-left: 1em; padding-right: 1em; text-align: center; vertical-align: top\">13872</td>\n",
        "    </tr>\n",
        "    <tr>\n",
        "        <td style=\"padding-left: 1em; padding-right: 1em; text-align: center; vertical-align: top\">Jakalope</td>\n",
        "        <td style=\"padding-left: 1em; padding-right: 1em; text-align: center; vertical-align: top\">Nothing Nowhere</td>\n",
        "        <td style=\"padding-left: 1em; padding-right: 1em; text-align: center; vertical-align: top\">user_000885</td>\n",
        "        <td style=\"padding-left: 1em; padding-right: 1em; text-align: center; vertical-align: top\">33</td>\n",
        "        <td style=\"padding-left: 1em; padding-right: 1em; text-align: center; vertical-align: top\">Jakalope: Nothing Nowhere</td>\n",
        "        <td style=\"padding-left: 1em; padding-right: 1em; text-align: center; vertical-align: top\">15233</td>\n",
        "    </tr>\n",
        "    <tr>\n",
        "        <td style=\"padding-left: 1em; padding-right: 1em; text-align: center; vertical-align: top\">Strike Anywhere</td>\n",
        "        <td style=\"padding-left: 1em; padding-right: 1em; text-align: center; vertical-align: top\">You'Re Fired</td>\n",
        "        <td style=\"padding-left: 1em; padding-right: 1em; text-align: center; vertical-align: top\">user_000085</td>\n",
        "        <td style=\"padding-left: 1em; padding-right: 1em; text-align: center; vertical-align: top\">37</td>\n",
        "        <td style=\"padding-left: 1em; padding-right: 1em; text-align: center; vertical-align: top\">Strike Anywhere: You'Re<br>Fired</td>\n",
        "        <td style=\"padding-left: 1em; padding-right: 1em; text-align: center; vertical-align: top\">4433</td>\n",
        "    </tr>\n",
        "    <tr>\n",
        "        <td style=\"padding-left: 1em; padding-right: 1em; text-align: center; vertical-align: top\">Field Mob</td>\n",
        "        <td style=\"padding-left: 1em; padding-right: 1em; text-align: center; vertical-align: top\">At The Park</td>\n",
        "        <td style=\"padding-left: 1em; padding-right: 1em; text-align: center; vertical-align: top\">user_000685</td>\n",
        "        <td style=\"padding-left: 1em; padding-right: 1em; text-align: center; vertical-align: top\">43</td>\n",
        "        <td style=\"padding-left: 1em; padding-right: 1em; text-align: center; vertical-align: top\">Field Mob: At The Park</td>\n",
        "        <td style=\"padding-left: 1em; padding-right: 1em; text-align: center; vertical-align: top\">25250</td>\n",
        "    </tr>\n",
        "    <tr>\n",
        "        <td style=\"padding-left: 1em; padding-right: 1em; text-align: center; vertical-align: top\">Hocico</td>\n",
        "        <td style=\"padding-left: 1em; padding-right: 1em; text-align: center; vertical-align: top\">About A Dead</td>\n",
        "        <td style=\"padding-left: 1em; padding-right: 1em; text-align: center; vertical-align: top\">user_000612</td>\n",
        "        <td style=\"padding-left: 1em; padding-right: 1em; text-align: center; vertical-align: top\">44</td>\n",
        "        <td style=\"padding-left: 1em; padding-right: 1em; text-align: center; vertical-align: top\">Hocico: About A Dead</td>\n",
        "        <td style=\"padding-left: 1em; padding-right: 1em; text-align: center; vertical-align: top\">24005</td>\n",
        "    </tr>\n",
        "    <tr>\n",
        "        <td style=\"padding-left: 1em; padding-right: 1em; text-align: center; vertical-align: top\">\\xe3\\x83\\xa0\\xe3\\x83\\x83\\<br>xe3\\x82\\xaf</td>\n",
        "        <td style=\"padding-left: 1em; padding-right: 1em; text-align: center; vertical-align: top\">Saishuu Ressha</td>\n",
        "        <td style=\"padding-left: 1em; padding-right: 1em; text-align: center; vertical-align: top\">user_000033</td>\n",
        "        <td style=\"padding-left: 1em; padding-right: 1em; text-align: center; vertical-align: top\">50</td>\n",
        "        <td style=\"padding-left: 1em; padding-right: 1em; text-align: center; vertical-align: top\">\\xe3\\x83\\xa0\\xe3\\x83\\x83\\<br>xe3\\x82\\xaf: Saishuu ...</td>\n",
        "        <td style=\"padding-left: 1em; padding-right: 1em; text-align: center; vertical-align: top\">28807</td>\n",
        "    </tr>\n",
        "    <tr>\n",
        "        <td style=\"padding-left: 1em; padding-right: 1em; text-align: center; vertical-align: top\">The Goo Goo Dolls</td>\n",
        "        <td style=\"padding-left: 1em; padding-right: 1em; text-align: center; vertical-align: top\">Iris</td>\n",
        "        <td style=\"padding-left: 1em; padding-right: 1em; text-align: center; vertical-align: top\">user_000709</td>\n",
        "        <td style=\"padding-left: 1em; padding-right: 1em; text-align: center; vertical-align: top\">27</td>\n",
        "        <td style=\"padding-left: 1em; padding-right: 1em; text-align: center; vertical-align: top\">The Goo Goo Dolls: Iris</td>\n",
        "        <td style=\"padding-left: 1em; padding-right: 1em; text-align: center; vertical-align: top\">28058</td>\n",
        "    </tr>\n",
        "    <tr>\n",
        "        <td style=\"padding-left: 1em; padding-right: 1em; text-align: center; vertical-align: top\">Live</td>\n",
        "        <td style=\"padding-left: 1em; padding-right: 1em; text-align: center; vertical-align: top\">The Distance</td>\n",
        "        <td style=\"padding-left: 1em; padding-right: 1em; text-align: center; vertical-align: top\">user_000732</td>\n",
        "        <td style=\"padding-left: 1em; padding-right: 1em; text-align: center; vertical-align: top\">36</td>\n",
        "        <td style=\"padding-left: 1em; padding-right: 1em; text-align: center; vertical-align: top\">Live: The Distance</td>\n",
        "        <td style=\"padding-left: 1em; padding-right: 1em; text-align: center; vertical-align: top\">10504</td>\n",
        "    </tr>\n",
        "    <tr>\n",
        "        <td style=\"padding-left: 1em; padding-right: 1em; text-align: center; vertical-align: top\">Death Cab For Cutie</td>\n",
        "        <td style=\"padding-left: 1em; padding-right: 1em; text-align: center; vertical-align: top\">06 Track 6</td>\n",
        "        <td style=\"padding-left: 1em; padding-right: 1em; text-align: center; vertical-align: top\">user_000525</td>\n",
        "        <td style=\"padding-left: 1em; padding-right: 1em; text-align: center; vertical-align: top\">35</td>\n",
        "        <td style=\"padding-left: 1em; padding-right: 1em; text-align: center; vertical-align: top\">Death Cab For Cutie: 06<br>Track 6</td>\n",
        "        <td style=\"padding-left: 1em; padding-right: 1em; text-align: center; vertical-align: top\">7754</td>\n",
        "    </tr>\n",
        "    <tr>\n",
        "        <td style=\"padding-left: 1em; padding-right: 1em; text-align: center; vertical-align: top\">Kanye West</td>\n",
        "        <td style=\"padding-left: 1em; padding-right: 1em; text-align: center; vertical-align: top\">Coldest Winter</td>\n",
        "        <td style=\"padding-left: 1em; padding-right: 1em; text-align: center; vertical-align: top\">user_000008</td>\n",
        "        <td style=\"padding-left: 1em; padding-right: 1em; text-align: center; vertical-align: top\">600</td>\n",
        "        <td style=\"padding-left: 1em; padding-right: 1em; text-align: center; vertical-align: top\">Kanye West: Coldest<br>Winter</td>\n",
        "        <td style=\"padding-left: 1em; padding-right: 1em; text-align: center; vertical-align: top\">11210</td>\n",
        "    </tr>\n",
        "</table>\n",
        "<table frame=\"box\" rules=\"cols\">\n",
        "    <tr>\n",
        "        <th style=\"padding-left: 1em; padding-right: 1em; text-align: center\">norm</th>\n",
        "        <th style=\"padding-left: 1em; padding-right: 1em; text-align: center\">binary</th>\n",
        "        <th style=\"padding-left: 1em; padding-right: 1em; text-align: center\">norm_song</th>\n",
        "    </tr>\n",
        "    <tr>\n",
        "        <td style=\"padding-left: 1em; padding-right: 1em; text-align: center; vertical-align: top\">0.00237889273356</td>\n",
        "        <td style=\"padding-left: 1em; padding-right: 1em; text-align: center; vertical-align: top\">1</td>\n",
        "        <td style=\"padding-left: 1em; padding-right: 1em; text-align: center; vertical-align: top\">1.71488807206e-07</td>\n",
        "    </tr>\n",
        "    <tr>\n",
        "        <td style=\"padding-left: 1em; padding-right: 1em; text-align: center; vertical-align: top\">0.00216634937307</td>\n",
        "        <td style=\"padding-left: 1em; padding-right: 1em; text-align: center; vertical-align: top\">1</td>\n",
        "        <td style=\"padding-left: 1em; padding-right: 1em; text-align: center; vertical-align: top\">1.42214230491e-07</td>\n",
        "    </tr>\n",
        "    <tr>\n",
        "        <td style=\"padding-left: 1em; padding-right: 1em; text-align: center; vertical-align: top\">0.00834649221746</td>\n",
        "        <td style=\"padding-left: 1em; padding-right: 1em; text-align: center; vertical-align: top\">1</td>\n",
        "        <td style=\"padding-left: 1em; padding-right: 1em; text-align: center; vertical-align: top\">1.88280898206e-06</td>\n",
        "    </tr>\n",
        "    <tr>\n",
        "        <td style=\"padding-left: 1em; padding-right: 1em; text-align: center; vertical-align: top\">0.00170297029703</td>\n",
        "        <td style=\"padding-left: 1em; padding-right: 1em; text-align: center; vertical-align: top\">1</td>\n",
        "        <td style=\"padding-left: 1em; padding-right: 1em; text-align: center; vertical-align: top\">6.74443681992e-08</td>\n",
        "    </tr>\n",
        "    <tr>\n",
        "        <td style=\"padding-left: 1em; padding-right: 1em; text-align: center; vertical-align: top\">0.00183295146844</td>\n",
        "        <td style=\"padding-left: 1em; padding-right: 1em; text-align: center; vertical-align: top\">1</td>\n",
        "        <td style=\"padding-left: 1em; padding-right: 1em; text-align: center; vertical-align: top\">7.63570701289e-08</td>\n",
        "    </tr>\n",
        "    <tr>\n",
        "        <td style=\"padding-left: 1em; padding-right: 1em; text-align: center; vertical-align: top\">0.0017356892422</td>\n",
        "        <td style=\"padding-left: 1em; padding-right: 1em; text-align: center; vertical-align: top\">1</td>\n",
        "        <td style=\"padding-left: 1em; padding-right: 1em; text-align: center; vertical-align: top\">6.02523429096e-08</td>\n",
        "    </tr>\n",
        "    <tr>\n",
        "        <td style=\"padding-left: 1em; padding-right: 1em; text-align: center; vertical-align: top\">0.000962292394326</td>\n",
        "        <td style=\"padding-left: 1em; padding-right: 1em; text-align: center; vertical-align: top\">1</td>\n",
        "        <td style=\"padding-left: 1em; padding-right: 1em; text-align: center; vertical-align: top\">3.42965426732e-08</td>\n",
        "    </tr>\n",
        "    <tr>\n",
        "        <td style=\"padding-left: 1em; padding-right: 1em; text-align: center; vertical-align: top\">0.0034272658035</td>\n",
        "        <td style=\"padding-left: 1em; padding-right: 1em; text-align: center; vertical-align: top\">1</td>\n",
        "        <td style=\"padding-left: 1em; padding-right: 1em; text-align: center; vertical-align: top\">3.26281969107e-07</td>\n",
        "    </tr>\n",
        "    <tr>\n",
        "        <td style=\"padding-left: 1em; padding-right: 1em; text-align: center; vertical-align: top\">0.00451379932938</td>\n",
        "        <td style=\"padding-left: 1em; padding-right: 1em; text-align: center; vertical-align: top\">1</td>\n",
        "        <td style=\"padding-left: 1em; padding-right: 1em; text-align: center; vertical-align: top\">5.82125268168e-07</td>\n",
        "    </tr>\n",
        "    <tr>\n",
        "        <td style=\"padding-left: 1em; padding-right: 1em; text-align: center; vertical-align: top\">0.0535236396075</td>\n",
        "        <td style=\"padding-left: 1em; padding-right: 1em; text-align: center; vertical-align: top\">1</td>\n",
        "        <td style=\"padding-left: 1em; padding-right: 1em; text-align: center; vertical-align: top\">4.77463332805e-06</td>\n",
        "    </tr>\n",
        "</table>\n",
        "[10 rows x 9 columns]<br/>\n",
        "</div>"
       ],
       "metadata": {},
       "output_type": "pyout",
       "prompt_number": 310,
       "text": [
        "Columns:\n",
        "\tartist\tstr\n",
        "\tsong\tstr\n",
        "\tuser\tstr\n",
        "\tCount\tint\n",
        "\tartist_song\tstr\n",
        "\ttotal_cnt\tint\n",
        "\tnorm\tfloat\n",
        "\tbinary\tint\n",
        "\tnorm_song\tfloat\n",
        "\n",
        "Rows: 10\n",
        "\n",
        "Data:\n",
        "+--------------------------------+--------------------------------+-------------+\n",
        "|             artist             |              song              |     user    |\n",
        "+--------------------------------+--------------------------------+-------------+\n",
        "|           The Frames           | What Happens When The Hear ... | user_000503 |\n",
        "|            Jakalope            |        Nothing Nowhere         | user_000885 |\n",
        "|        Strike Anywhere         |          You'Re Fired          | user_000085 |\n",
        "|           Field Mob            |          At The Park           | user_000685 |\n",
        "|             Hocico             |          About A Dead          | user_000612 |\n",
        "| \\xe3\\x83\\xa0\\xe3\\x83\\x83\\x ... |         Saishuu Ressha         | user_000033 |\n",
        "|       The Goo Goo Dolls        |              Iris              | user_000709 |\n",
        "|              Live              |          The Distance          | user_000732 |\n",
        "|      Death Cab For Cutie       |           06 Track 6           | user_000525 |\n",
        "|           Kanye West           |         Coldest Winter         | user_000008 |\n",
        "+--------------------------------+--------------------------------+-------------+\n",
        "+-------+--------------------------------+-----------+-------------------+--------+\n",
        "| Count |          artist_song           | total_cnt |        norm       | binary |\n",
        "+-------+--------------------------------+-----------+-------------------+--------+\n",
        "|   33  | The Frames: What Happens W ... |   13872   |  0.00237889273356 |   1    |\n",
        "|   33  |   Jakalope: Nothing Nowhere    |   15233   |  0.00216634937307 |   1    |\n",
        "|   37  | Strike Anywhere: You'Re Fired  |    4433   |  0.00834649221746 |   1    |\n",
        "|   43  |     Field Mob: At The Park     |   25250   |  0.00170297029703 |   1    |\n",
        "|   44  |      Hocico: About A Dead      |   24005   |  0.00183295146844 |   1    |\n",
        "|   50  | \\xe3\\x83\\xa0\\xe3\\x83\\x83\\x ... |   28807   |  0.0017356892422  |   1    |\n",
        "|   27  |    The Goo Goo Dolls: Iris     |   28058   | 0.000962292394326 |   1    |\n",
        "|   36  |       Live: The Distance       |   10504   |  0.0034272658035  |   1    |\n",
        "|   35  | Death Cab For Cutie: 06 Tr ... |    7754   |  0.00451379932938 |   1    |\n",
        "|  600  |   Kanye West: Coldest Winter   |   11210   |  0.0535236396075  |   1    |\n",
        "+-------+--------------------------------+-----------+-------------------+--------+\n",
        "+-------------------+\n",
        "|     norm_song     |\n",
        "+-------------------+\n",
        "| 1.71488807206e-07 |\n",
        "| 1.42214230491e-07 |\n",
        "| 1.88280898206e-06 |\n",
        "| 6.74443681992e-08 |\n",
        "| 7.63570701289e-08 |\n",
        "| 6.02523429096e-08 |\n",
        "| 3.42965426732e-08 |\n",
        "| 3.26281969107e-07 |\n",
        "| 5.82125268168e-07 |\n",
        "| 4.77463332805e-06 |\n",
        "+-------------------+\n",
        "[10 rows x 9 columns]\n"
       ]
      }
     ],
     "prompt_number": 310
    },
    {
     "cell_type": "code",
     "collapsed": false,
     "input": [
      "train_set_compact = train_set3[['user', 'song', 'Count']]"
     ],
     "language": "python",
     "metadata": {},
     "outputs": [],
     "prompt_number": 311
    },
    {
     "cell_type": "code",
     "collapsed": false,
     "input": [
      "model_compact = gl.recommender.create(train_set_compact, user_id=\"user\", item_id=\"song\", target=\"Count\", verbose = False)"
     ],
     "language": "python",
     "metadata": {},
     "outputs": [
      {
       "html": [
        "<pre>PROGRESS: Recsys training: model = ranking_factorization_recommender</pre>"
       ],
       "metadata": {},
       "output_type": "display_data",
       "text": [
        "PROGRESS: Recsys training: model = ranking_factorization_recommender"
       ]
      },
      {
       "html": [
        "<pre>PROGRESS: Preparing data set.</pre>"
       ],
       "metadata": {},
       "output_type": "display_data",
       "text": [
        "PROGRESS: Preparing data set."
       ]
      },
      {
       "html": [
        "<pre>PROGRESS:     Data has 7204 observations with 336 users and 6338 items.</pre>"
       ],
       "metadata": {},
       "output_type": "display_data",
       "text": [
        "PROGRESS:     Data has 7204 observations with 336 users and 6338 items."
       ]
      },
      {
       "html": [
        "<pre>PROGRESS:     Data prepared in: 0.183872s</pre>"
       ],
       "metadata": {},
       "output_type": "display_data",
       "text": [
        "PROGRESS:     Data prepared in: 0.183872s"
       ]
      },
      {
       "html": [
        "<pre>PROGRESS: Training ranking_factorization_recommender for recommendations.</pre>"
       ],
       "metadata": {},
       "output_type": "display_data",
       "text": [
        "PROGRESS: Training ranking_factorization_recommender for recommendations."
       ]
      },
      {
       "html": [
        "<pre>PROGRESS: +------------------------------+--------------------------------------------------+----------+</pre>"
       ],
       "metadata": {},
       "output_type": "display_data",
       "text": [
        "PROGRESS: +------------------------------+--------------------------------------------------+----------+"
       ]
      },
      {
       "html": [
        "<pre>PROGRESS: | Parameter                    | Description                                      | Value    |</pre>"
       ],
       "metadata": {},
       "output_type": "display_data",
       "text": [
        "PROGRESS: | Parameter                    | Description                                      | Value    |"
       ]
      },
      {
       "html": [
        "<pre>PROGRESS: +------------------------------+--------------------------------------------------+----------+</pre>"
       ],
       "metadata": {},
       "output_type": "display_data",
       "text": [
        "PROGRESS: +------------------------------+--------------------------------------------------+----------+"
       ]
      },
      {
       "html": [
        "<pre>PROGRESS: | num_factors                  | Factor Dimension                                 | 8        |</pre>"
       ],
       "metadata": {},
       "output_type": "display_data",
       "text": [
        "PROGRESS: | num_factors                  | Factor Dimension                                 | 8        |"
       ]
      },
      {
       "html": [
        "<pre>PROGRESS: | regularization               | L2 Regularization on Factors                     | 0        |</pre>"
       ],
       "metadata": {},
       "output_type": "display_data",
       "text": [
        "PROGRESS: | regularization               | L2 Regularization on Factors                     | 0        |"
       ]
      },
      {
       "html": [
        "<pre>PROGRESS: | ranking_regularization       | Rank-based Regularization Weight                 | 0.25     |</pre>"
       ],
       "metadata": {},
       "output_type": "display_data",
       "text": [
        "PROGRESS: | ranking_regularization       | Rank-based Regularization Weight                 | 0.25     |"
       ]
      },
      {
       "html": [
        "<pre>PROGRESS: | max_iterations               | Maximum Number of Iterations                     | 50       |</pre>"
       ],
       "metadata": {},
       "output_type": "display_data",
       "text": [
        "PROGRESS: | max_iterations               | Maximum Number of Iterations                     | 50       |"
       ]
      },
      {
       "html": [
        "<pre>PROGRESS: +------------------------------+--------------------------------------------------+----------+</pre>"
       ],
       "metadata": {},
       "output_type": "display_data",
       "text": [
        "PROGRESS: +------------------------------+--------------------------------------------------+----------+"
       ]
      },
      {
       "html": [
        "<pre>PROGRESS:   Optimizing model using SGD; tuning step size.</pre>"
       ],
       "metadata": {},
       "output_type": "display_data",
       "text": [
        "PROGRESS:   Optimizing model using SGD; tuning step size."
       ]
      },
      {
       "html": [
        "<pre>PROGRESS:   Using 7204 / 7204 points for tuning the step size.</pre>"
       ],
       "metadata": {},
       "output_type": "display_data",
       "text": [
        "PROGRESS:   Using 7204 / 7204 points for tuning the step size."
       ]
      },
      {
       "html": [
        "<pre>PROGRESS: +---------+-------------------+---------------------------+</pre>"
       ],
       "metadata": {},
       "output_type": "display_data",
       "text": [
        "PROGRESS: +---------+-------------------+---------------------------+"
       ]
      },
      {
       "html": [
        "<pre>PROGRESS: | Attempt | Initial Step Size | Estimated Objective Value |</pre>"
       ],
       "metadata": {},
       "output_type": "display_data",
       "text": [
        "PROGRESS: | Attempt | Initial Step Size | Estimated Objective Value |"
       ]
      },
      {
       "html": [
        "<pre>PROGRESS: +---------+-------------------+---------------------------+</pre>"
       ],
       "metadata": {},
       "output_type": "display_data",
       "text": [
        "PROGRESS: +---------+-------------------+---------------------------+"
       ]
      },
      {
       "html": [
        "<pre>PROGRESS: | 0       | 25                | Not Viable                |</pre>"
       ],
       "metadata": {},
       "output_type": "display_data",
       "text": [
        "PROGRESS: | 0       | 25                | Not Viable                |"
       ]
      },
      {
       "html": [
        "<pre>PROGRESS: | 1       | 6.25              | Not Viable                |</pre>"
       ],
       "metadata": {},
       "output_type": "display_data",
       "text": [
        "PROGRESS: | 1       | 6.25              | Not Viable                |"
       ]
      },
      {
       "html": [
        "<pre>PROGRESS: | 2       | 1.5625            | Not Viable                |</pre>"
       ],
       "metadata": {},
       "output_type": "display_data",
       "text": [
        "PROGRESS: | 2       | 1.5625            | Not Viable                |"
       ]
      },
      {
       "html": [
        "<pre>PROGRESS: | 3       | 0.390625          | Not Viable                |</pre>"
       ],
       "metadata": {},
       "output_type": "display_data",
       "text": [
        "PROGRESS: | 3       | 0.390625          | Not Viable                |"
       ]
      },
      {
       "html": [
        "<pre>PROGRESS: | 4       | 0.0976562         | Not Viable                |</pre>"
       ],
       "metadata": {},
       "output_type": "display_data",
       "text": [
        "PROGRESS: | 4       | 0.0976562         | Not Viable                |"
       ]
      },
      {
       "html": [
        "<pre>PROGRESS: | 5       | 0.0244141         | Not Viable                |</pre>"
       ],
       "metadata": {},
       "output_type": "display_data",
       "text": [
        "PROGRESS: | 5       | 0.0244141         | Not Viable                |"
       ]
      },
      {
       "html": [
        "<pre>PROGRESS: | 6       | 0.00610352        | Not Viable                |</pre>"
       ],
       "metadata": {},
       "output_type": "display_data",
       "text": [
        "PROGRESS: | 6       | 0.00610352        | Not Viable                |"
       ]
      },
      {
       "html": [
        "<pre>PROGRESS: | 7       | 0.00152588        | 1269.26                   |</pre>"
       ],
       "metadata": {},
       "output_type": "display_data",
       "text": [
        "PROGRESS: | 7       | 0.00152588        | 1269.26                   |"
       ]
      },
      {
       "html": [
        "<pre>PROGRESS: | 8       | 0.000762939       | 1919.48                   |</pre>"
       ],
       "metadata": {},
       "output_type": "display_data",
       "text": [
        "PROGRESS: | 8       | 0.000762939       | 1919.48                   |"
       ]
      },
      {
       "html": [
        "<pre>PROGRESS: | 9       | 0.00038147        | 1951.64                   |</pre>"
       ],
       "metadata": {},
       "output_type": "display_data",
       "text": [
        "PROGRESS: | 9       | 0.00038147        | 1951.64                   |"
       ]
      },
      {
       "html": [
        "<pre>PROGRESS: | 10      | 0.000190735       | 1978.25                   |</pre>"
       ],
       "metadata": {},
       "output_type": "display_data",
       "text": [
        "PROGRESS: | 10      | 0.000190735       | 1978.25                   |"
       ]
      },
      {
       "html": [
        "<pre>PROGRESS: +---------+-------------------+---------------------------+</pre>"
       ],
       "metadata": {},
       "output_type": "display_data",
       "text": [
        "PROGRESS: +---------+-------------------+---------------------------+"
       ]
      },
      {
       "html": [
        "<pre>PROGRESS: | Final   | 0.00152588        | 1269.26                   |</pre>"
       ],
       "metadata": {},
       "output_type": "display_data",
       "text": [
        "PROGRESS: | Final   | 0.00152588        | 1269.26                   |"
       ]
      },
      {
       "html": [
        "<pre>PROGRESS: +---------+-------------------+---------------------------+</pre>"
       ],
       "metadata": {},
       "output_type": "display_data",
       "text": [
        "PROGRESS: +---------+-------------------+---------------------------+"
       ]
      },
      {
       "html": [
        "<pre>PROGRESS: Starting Optimization.</pre>"
       ],
       "metadata": {},
       "output_type": "display_data",
       "text": [
        "PROGRESS: Starting Optimization."
       ]
      },
      {
       "html": [
        "<pre>PROGRESS: +---------+--------------+----------------+---------------+-------------+</pre>"
       ],
       "metadata": {},
       "output_type": "display_data",
       "text": [
        "PROGRESS: +---------+--------------+----------------+---------------+-------------+"
       ]
      },
      {
       "html": [
        "<pre>PROGRESS: | Iter.   | Elapsed Time | Est. Objective | Training RMSE | Step Size   |</pre>"
       ],
       "metadata": {},
       "output_type": "display_data",
       "text": [
        "PROGRESS: | Iter.   | Elapsed Time | Est. Objective | Training RMSE | Step Size   |"
       ]
      },
      {
       "html": [
        "<pre>PROGRESS: +---------+--------------+----------------+---------------+-------------+</pre>"
       ],
       "metadata": {},
       "output_type": "display_data",
       "text": [
        "PROGRESS: +---------+--------------+----------------+---------------+-------------+"
       ]
      },
      {
       "html": [
        "<pre>PROGRESS: | Initial | 1.517ms      | 2258.27        | 33.9391       |             |</pre>"
       ],
       "metadata": {},
       "output_type": "display_data",
       "text": [
        "PROGRESS: | Initial | 1.517ms      | 2258.27        | 33.9391       |             |"
       ]
      },
      {
       "html": [
        "<pre>PROGRESS: +---------+--------------+----------------+---------------+-------------+</pre>"
       ],
       "metadata": {},
       "output_type": "display_data",
       "text": [
        "PROGRESS: +---------+--------------+----------------+---------------+-------------+"
       ]
      },
      {
       "html": [
        "<pre>PROGRESS: | 1       | 61.67ms      | 1949.59        | 35.1294       | 0.00152588  |</pre>"
       ],
       "metadata": {},
       "output_type": "display_data",
       "text": [
        "PROGRESS: | 1       | 61.67ms      | 1949.59        | 35.1294       | 0.00152588  |"
       ]
      },
      {
       "html": [
        "<pre>PROGRESS: +---------+--------------+----------------+---------------+-------------+</pre>"
       ],
       "metadata": {},
       "output_type": "display_data",
       "text": [
        "PROGRESS: +---------+--------------+----------------+---------------+-------------+"
       ]
      },
      {
       "html": [
        "<pre>PROGRESS: | Final   | 437.968ms    | 952.386        | 19.1934       |             |</pre>"
       ],
       "metadata": {},
       "output_type": "display_data",
       "text": [
        "PROGRESS: | Final   | 437.968ms    | 952.386        | 19.1934       |             |"
       ]
      },
      {
       "html": [
        "<pre>PROGRESS: +---------+--------------+----------------+---------------+-------------+</pre>"
       ],
       "metadata": {},
       "output_type": "display_data",
       "text": [
        "PROGRESS: +---------+--------------+----------------+---------------+-------------+"
       ]
      },
      {
       "html": [
        "<pre>PROGRESS: Optimization Complete: Maximum number of passes through the data reached.</pre>"
       ],
       "metadata": {},
       "output_type": "display_data",
       "text": [
        "PROGRESS: Optimization Complete: Maximum number of passes through the data reached."
       ]
      }
     ],
     "prompt_number": 314
    },
    {
     "cell_type": "code",
     "collapsed": false,
     "input": [
      "model_compact.recommend([train_user0])"
     ],
     "language": "python",
     "metadata": {},
     "outputs": [
      {
       "html": [
        "<div style=\"max-height:1000px;max-width:1500px;overflow:auto;\"><table frame=\"box\" rules=\"cols\">\n",
        "    <tr>\n",
        "        <th style=\"padding-left: 1em; padding-right: 1em; text-align: center\">user</th>\n",
        "        <th style=\"padding-left: 1em; padding-right: 1em; text-align: center\">song</th>\n",
        "        <th style=\"padding-left: 1em; padding-right: 1em; text-align: center\">score</th>\n",
        "        <th style=\"padding-left: 1em; padding-right: 1em; text-align: center\">rank</th>\n",
        "    </tr>\n",
        "    <tr>\n",
        "        <td style=\"padding-left: 1em; padding-right: 1em; text-align: center; vertical-align: top\">user_000234</td>\n",
        "        <td style=\"padding-left: 1em; padding-right: 1em; text-align: center; vertical-align: top\">Gimme More</td>\n",
        "        <td style=\"padding-left: 1em; padding-right: 1em; text-align: center; vertical-align: top\">32.4811689247</td>\n",
        "        <td style=\"padding-left: 1em; padding-right: 1em; text-align: center; vertical-align: top\">1</td>\n",
        "    </tr>\n",
        "    <tr>\n",
        "        <td style=\"padding-left: 1em; padding-right: 1em; text-align: center; vertical-align: top\">user_000234</td>\n",
        "        <td style=\"padding-left: 1em; padding-right: 1em; text-align: center; vertical-align: top\">Welcome To Heartbreak<br>(Feat. Kid Cudi)</td>\n",
        "        <td style=\"padding-left: 1em; padding-right: 1em; text-align: center; vertical-align: top\">30.0760431279</td>\n",
        "        <td style=\"padding-left: 1em; padding-right: 1em; text-align: center; vertical-align: top\">2</td>\n",
        "    </tr>\n",
        "    <tr>\n",
        "        <td style=\"padding-left: 1em; padding-right: 1em; text-align: center; vertical-align: top\">user_000234</td>\n",
        "        <td style=\"padding-left: 1em; padding-right: 1em; text-align: center; vertical-align: top\">Heartless</td>\n",
        "        <td style=\"padding-left: 1em; padding-right: 1em; text-align: center; vertical-align: top\">29.9201989164</td>\n",
        "        <td style=\"padding-left: 1em; padding-right: 1em; text-align: center; vertical-align: top\">3</td>\n",
        "    </tr>\n",
        "    <tr>\n",
        "        <td style=\"padding-left: 1em; padding-right: 1em; text-align: center; vertical-align: top\">user_000234</td>\n",
        "        <td style=\"padding-left: 1em; padding-right: 1em; text-align: center; vertical-align: top\">Amazing (Feat. Young<br>Jeezy)</td>\n",
        "        <td style=\"padding-left: 1em; padding-right: 1em; text-align: center; vertical-align: top\">29.728244542</td>\n",
        "        <td style=\"padding-left: 1em; padding-right: 1em; text-align: center; vertical-align: top\">4</td>\n",
        "    </tr>\n",
        "    <tr>\n",
        "        <td style=\"padding-left: 1em; padding-right: 1em; text-align: center; vertical-align: top\">user_000234</td>\n",
        "        <td style=\"padding-left: 1em; padding-right: 1em; text-align: center; vertical-align: top\">Womanizer</td>\n",
        "        <td style=\"padding-left: 1em; padding-right: 1em; text-align: center; vertical-align: top\">29.6012374748</td>\n",
        "        <td style=\"padding-left: 1em; padding-right: 1em; text-align: center; vertical-align: top\">5</td>\n",
        "    </tr>\n",
        "    <tr>\n",
        "        <td style=\"padding-left: 1em; padding-right: 1em; text-align: center; vertical-align: top\">user_000234</td>\n",
        "        <td style=\"padding-left: 1em; padding-right: 1em; text-align: center; vertical-align: top\">Paranoid (Feat. Mr.<br>Hudson)</td>\n",
        "        <td style=\"padding-left: 1em; padding-right: 1em; text-align: center; vertical-align: top\">29.3639745702</td>\n",
        "        <td style=\"padding-left: 1em; padding-right: 1em; text-align: center; vertical-align: top\">6</td>\n",
        "    </tr>\n",
        "    <tr>\n",
        "        <td style=\"padding-left: 1em; padding-right: 1em; text-align: center; vertical-align: top\">user_000234</td>\n",
        "        <td style=\"padding-left: 1em; padding-right: 1em; text-align: center; vertical-align: top\">See You In My Nightmares</td>\n",
        "        <td style=\"padding-left: 1em; padding-right: 1em; text-align: center; vertical-align: top\">29.0825614919</td>\n",
        "        <td style=\"padding-left: 1em; padding-right: 1em; text-align: center; vertical-align: top\">7</td>\n",
        "    </tr>\n",
        "    <tr>\n",
        "        <td style=\"padding-left: 1em; padding-right: 1em; text-align: center; vertical-align: top\">user_000234</td>\n",
        "        <td style=\"padding-left: 1em; padding-right: 1em; text-align: center; vertical-align: top\">Bad News</td>\n",
        "        <td style=\"padding-left: 1em; padding-right: 1em; text-align: center; vertical-align: top\">29.063962697</td>\n",
        "        <td style=\"padding-left: 1em; padding-right: 1em; text-align: center; vertical-align: top\">8</td>\n",
        "    </tr>\n",
        "    <tr>\n",
        "        <td style=\"padding-left: 1em; padding-right: 1em; text-align: center; vertical-align: top\">user_000234</td>\n",
        "        <td style=\"padding-left: 1em; padding-right: 1em; text-align: center; vertical-align: top\">Coldest Winter</td>\n",
        "        <td style=\"padding-left: 1em; padding-right: 1em; text-align: center; vertical-align: top\">28.9567511071</td>\n",
        "        <td style=\"padding-left: 1em; padding-right: 1em; text-align: center; vertical-align: top\">9</td>\n",
        "    </tr>\n",
        "    <tr>\n",
        "        <td style=\"padding-left: 1em; padding-right: 1em; text-align: center; vertical-align: top\">user_000234</td>\n",
        "        <td style=\"padding-left: 1em; padding-right: 1em; text-align: center; vertical-align: top\">Robocop</td>\n",
        "        <td style=\"padding-left: 1em; padding-right: 1em; text-align: center; vertical-align: top\">28.3311974992</td>\n",
        "        <td style=\"padding-left: 1em; padding-right: 1em; text-align: center; vertical-align: top\">10</td>\n",
        "    </tr>\n",
        "</table>\n",
        "[10 rows x 4 columns]<br/>\n",
        "</div>"
       ],
       "metadata": {},
       "output_type": "pyout",
       "prompt_number": 315,
       "text": [
        "Columns:\n",
        "\tuser\tstr\n",
        "\tsong\tstr\n",
        "\tscore\tfloat\n",
        "\trank\tint\n",
        "\n",
        "Rows: 10\n",
        "\n",
        "Data:\n",
        "+-------------+--------------------------------+---------------+------+\n",
        "|     user    |              song              |     score     | rank |\n",
        "+-------------+--------------------------------+---------------+------+\n",
        "| user_000234 |           Gimme More           | 32.4811689247 |  1   |\n",
        "| user_000234 | Welcome To Heartbreak (Fea ... | 30.0760431279 |  2   |\n",
        "| user_000234 |           Heartless            | 29.9201989164 |  3   |\n",
        "| user_000234 |  Amazing (Feat. Young Jeezy)   |  29.728244542 |  4   |\n",
        "| user_000234 |           Womanizer            | 29.6012374748 |  5   |\n",
        "| user_000234 |  Paranoid (Feat. Mr. Hudson)   | 29.3639745702 |  6   |\n",
        "| user_000234 |    See You In My Nightmares    | 29.0825614919 |  7   |\n",
        "| user_000234 |            Bad News            |  29.063962697 |  8   |\n",
        "| user_000234 |         Coldest Winter         | 28.9567511071 |  9   |\n",
        "| user_000234 |            Robocop             | 28.3311974992 |  10  |\n",
        "+-------------+--------------------------------+---------------+------+\n",
        "[10 rows x 4 columns]\n"
       ]
      }
     ],
     "prompt_number": 315
    },
    {
     "cell_type": "code",
     "collapsed": false,
     "input": [
      "model_compact.recommend([train_user1])"
     ],
     "language": "python",
     "metadata": {},
     "outputs": [
      {
       "html": [
        "<div style=\"max-height:1000px;max-width:1500px;overflow:auto;\"><table frame=\"box\" rules=\"cols\">\n",
        "    <tr>\n",
        "        <th style=\"padding-left: 1em; padding-right: 1em; text-align: center\">user</th>\n",
        "        <th style=\"padding-left: 1em; padding-right: 1em; text-align: center\">song</th>\n",
        "        <th style=\"padding-left: 1em; padding-right: 1em; text-align: center\">score</th>\n",
        "        <th style=\"padding-left: 1em; padding-right: 1em; text-align: center\">rank</th>\n",
        "    </tr>\n",
        "    <tr>\n",
        "        <td style=\"padding-left: 1em; padding-right: 1em; text-align: center; vertical-align: top\">user_000612</td>\n",
        "        <td style=\"padding-left: 1em; padding-right: 1em; text-align: center; vertical-align: top\">Gimme More</td>\n",
        "        <td style=\"padding-left: 1em; padding-right: 1em; text-align: center; vertical-align: top\">32.7360717048</td>\n",
        "        <td style=\"padding-left: 1em; padding-right: 1em; text-align: center; vertical-align: top\">1</td>\n",
        "    </tr>\n",
        "    <tr>\n",
        "        <td style=\"padding-left: 1em; padding-right: 1em; text-align: center; vertical-align: top\">user_000612</td>\n",
        "        <td style=\"padding-left: 1em; padding-right: 1em; text-align: center; vertical-align: top\">Womanizer</td>\n",
        "        <td style=\"padding-left: 1em; padding-right: 1em; text-align: center; vertical-align: top\">29.6952450265</td>\n",
        "        <td style=\"padding-left: 1em; padding-right: 1em; text-align: center; vertical-align: top\">2</td>\n",
        "    </tr>\n",
        "    <tr>\n",
        "        <td style=\"padding-left: 1em; padding-right: 1em; text-align: center; vertical-align: top\">user_000612</td>\n",
        "        <td style=\"padding-left: 1em; padding-right: 1em; text-align: center; vertical-align: top\">Je T'Aime...Moi Non Plus</td>\n",
        "        <td style=\"padding-left: 1em; padding-right: 1em; text-align: center; vertical-align: top\">27.4386420836</td>\n",
        "        <td style=\"padding-left: 1em; padding-right: 1em; text-align: center; vertical-align: top\">3</td>\n",
        "    </tr>\n",
        "    <tr>\n",
        "        <td style=\"padding-left: 1em; padding-right: 1em; text-align: center; vertical-align: top\">user_000612</td>\n",
        "        <td style=\"padding-left: 1em; padding-right: 1em; text-align: center; vertical-align: top\">Welcome To Heartbreak<br>(Feat. Kid Cudi)</td>\n",
        "        <td style=\"padding-left: 1em; padding-right: 1em; text-align: center; vertical-align: top\">27.3234769096</td>\n",
        "        <td style=\"padding-left: 1em; padding-right: 1em; text-align: center; vertical-align: top\">4</td>\n",
        "    </tr>\n",
        "    <tr>\n",
        "        <td style=\"padding-left: 1em; padding-right: 1em; text-align: center; vertical-align: top\">user_000612</td>\n",
        "        <td style=\"padding-left: 1em; padding-right: 1em; text-align: center; vertical-align: top\">Heartless</td>\n",
        "        <td style=\"padding-left: 1em; padding-right: 1em; text-align: center; vertical-align: top\">27.2397785773</td>\n",
        "        <td style=\"padding-left: 1em; padding-right: 1em; text-align: center; vertical-align: top\">5</td>\n",
        "    </tr>\n",
        "    <tr>\n",
        "        <td style=\"padding-left: 1em; padding-right: 1em; text-align: center; vertical-align: top\">user_000612</td>\n",
        "        <td style=\"padding-left: 1em; padding-right: 1em; text-align: center; vertical-align: top\">Amazing (Feat. Young<br>Jeezy)</td>\n",
        "        <td style=\"padding-left: 1em; padding-right: 1em; text-align: center; vertical-align: top\">26.9670985927</td>\n",
        "        <td style=\"padding-left: 1em; padding-right: 1em; text-align: center; vertical-align: top\">6</td>\n",
        "    </tr>\n",
        "    <tr>\n",
        "        <td style=\"padding-left: 1em; padding-right: 1em; text-align: center; vertical-align: top\">user_000612</td>\n",
        "        <td style=\"padding-left: 1em; padding-right: 1em; text-align: center; vertical-align: top\">Wings Of Words</td>\n",
        "        <td style=\"padding-left: 1em; padding-right: 1em; text-align: center; vertical-align: top\">26.7561309625</td>\n",
        "        <td style=\"padding-left: 1em; padding-right: 1em; text-align: center; vertical-align: top\">7</td>\n",
        "    </tr>\n",
        "    <tr>\n",
        "        <td style=\"padding-left: 1em; padding-right: 1em; text-align: center; vertical-align: top\">user_000612</td>\n",
        "        <td style=\"padding-left: 1em; padding-right: 1em; text-align: center; vertical-align: top\">Distortion Sleep</td>\n",
        "        <td style=\"padding-left: 1em; padding-right: 1em; text-align: center; vertical-align: top\">26.7526025762</td>\n",
        "        <td style=\"padding-left: 1em; padding-right: 1em; text-align: center; vertical-align: top\">8</td>\n",
        "    </tr>\n",
        "    <tr>\n",
        "        <td style=\"padding-left: 1em; padding-right: 1em; text-align: center; vertical-align: top\">user_000612</td>\n",
        "        <td style=\"padding-left: 1em; padding-right: 1em; text-align: center; vertical-align: top\">Paranoid (Feat. Mr.<br>Hudson)</td>\n",
        "        <td style=\"padding-left: 1em; padding-right: 1em; text-align: center; vertical-align: top\">26.7181668271</td>\n",
        "        <td style=\"padding-left: 1em; padding-right: 1em; text-align: center; vertical-align: top\">9</td>\n",
        "    </tr>\n",
        "    <tr>\n",
        "        <td style=\"padding-left: 1em; padding-right: 1em; text-align: center; vertical-align: top\">user_000612</td>\n",
        "        <td style=\"padding-left: 1em; padding-right: 1em; text-align: center; vertical-align: top\">See You In My Nightmares</td>\n",
        "        <td style=\"padding-left: 1em; padding-right: 1em; text-align: center; vertical-align: top\">26.5465606441</td>\n",
        "        <td style=\"padding-left: 1em; padding-right: 1em; text-align: center; vertical-align: top\">10</td>\n",
        "    </tr>\n",
        "</table>\n",
        "[10 rows x 4 columns]<br/>\n",
        "</div>"
       ],
       "metadata": {},
       "output_type": "pyout",
       "prompt_number": 318,
       "text": [
        "Columns:\n",
        "\tuser\tstr\n",
        "\tsong\tstr\n",
        "\tscore\tfloat\n",
        "\trank\tint\n",
        "\n",
        "Rows: 10\n",
        "\n",
        "Data:\n",
        "+-------------+--------------------------------+---------------+------+\n",
        "|     user    |              song              |     score     | rank |\n",
        "+-------------+--------------------------------+---------------+------+\n",
        "| user_000612 |           Gimme More           | 32.7360717048 |  1   |\n",
        "| user_000612 |           Womanizer            | 29.6952450265 |  2   |\n",
        "| user_000612 |    Je T'Aime...Moi Non Plus    | 27.4386420836 |  3   |\n",
        "| user_000612 | Welcome To Heartbreak (Fea ... | 27.3234769096 |  4   |\n",
        "| user_000612 |           Heartless            | 27.2397785773 |  5   |\n",
        "| user_000612 |  Amazing (Feat. Young Jeezy)   | 26.9670985927 |  6   |\n",
        "| user_000612 |         Wings Of Words         | 26.7561309625 |  7   |\n",
        "| user_000612 |        Distortion Sleep        | 26.7526025762 |  8   |\n",
        "| user_000612 |  Paranoid (Feat. Mr. Hudson)   | 26.7181668271 |  9   |\n",
        "| user_000612 |    See You In My Nightmares    | 26.5465606441 |  10  |\n",
        "+-------------+--------------------------------+---------------+------+\n",
        "[10 rows x 4 columns]\n"
       ]
      }
     ],
     "prompt_number": 318
    },
    {
     "cell_type": "code",
     "collapsed": false,
     "input": [
      "model_compact.recommend(users = None, k =5)"
     ],
     "language": "python",
     "metadata": {},
     "outputs": [
      {
       "html": [
        "<div style=\"max-height:1000px;max-width:1500px;overflow:auto;\"><table frame=\"box\" rules=\"cols\">\n",
        "    <tr>\n",
        "        <th style=\"padding-left: 1em; padding-right: 1em; text-align: center\">user</th>\n",
        "        <th style=\"padding-left: 1em; padding-right: 1em; text-align: center\">song</th>\n",
        "        <th style=\"padding-left: 1em; padding-right: 1em; text-align: center\">score</th>\n",
        "        <th style=\"padding-left: 1em; padding-right: 1em; text-align: center\">rank</th>\n",
        "    </tr>\n",
        "    <tr>\n",
        "        <td style=\"padding-left: 1em; padding-right: 1em; text-align: center; vertical-align: top\">user_000503</td>\n",
        "        <td style=\"padding-left: 1em; padding-right: 1em; text-align: center; vertical-align: top\">Gimme More</td>\n",
        "        <td style=\"padding-left: 1em; padding-right: 1em; text-align: center; vertical-align: top\">40.6990607967</td>\n",
        "        <td style=\"padding-left: 1em; padding-right: 1em; text-align: center; vertical-align: top\">1</td>\n",
        "    </tr>\n",
        "    <tr>\n",
        "        <td style=\"padding-left: 1em; padding-right: 1em; text-align: center; vertical-align: top\">user_000503</td>\n",
        "        <td style=\"padding-left: 1em; padding-right: 1em; text-align: center; vertical-align: top\">Wings Of Words</td>\n",
        "        <td style=\"padding-left: 1em; padding-right: 1em; text-align: center; vertical-align: top\">39.3183144321</td>\n",
        "        <td style=\"padding-left: 1em; padding-right: 1em; text-align: center; vertical-align: top\">2</td>\n",
        "    </tr>\n",
        "    <tr>\n",
        "        <td style=\"padding-left: 1em; padding-right: 1em; text-align: center; vertical-align: top\">user_000503</td>\n",
        "        <td style=\"padding-left: 1em; padding-right: 1em; text-align: center; vertical-align: top\">Wings Of Words<br>(Instrumental)</td>\n",
        "        <td style=\"padding-left: 1em; padding-right: 1em; text-align: center; vertical-align: top\">37.4229336967</td>\n",
        "        <td style=\"padding-left: 1em; padding-right: 1em; text-align: center; vertical-align: top\">3</td>\n",
        "    </tr>\n",
        "    <tr>\n",
        "        <td style=\"padding-left: 1em; padding-right: 1em; text-align: center; vertical-align: top\">user_000503</td>\n",
        "        <td style=\"padding-left: 1em; padding-right: 1em; text-align: center; vertical-align: top\">Womanizer</td>\n",
        "        <td style=\"padding-left: 1em; padding-right: 1em; text-align: center; vertical-align: top\">37.0653880824</td>\n",
        "        <td style=\"padding-left: 1em; padding-right: 1em; text-align: center; vertical-align: top\">4</td>\n",
        "    </tr>\n",
        "    <tr>\n",
        "        <td style=\"padding-left: 1em; padding-right: 1em; text-align: center; vertical-align: top\">user_000503</td>\n",
        "        <td style=\"padding-left: 1em; padding-right: 1em; text-align: center; vertical-align: top\">Je T'Aime...Moi Non Plus</td>\n",
        "        <td style=\"padding-left: 1em; padding-right: 1em; text-align: center; vertical-align: top\">34.9588273753</td>\n",
        "        <td style=\"padding-left: 1em; padding-right: 1em; text-align: center; vertical-align: top\">5</td>\n",
        "    </tr>\n",
        "    <tr>\n",
        "        <td style=\"padding-left: 1em; padding-right: 1em; text-align: center; vertical-align: top\">user_000885</td>\n",
        "        <td style=\"padding-left: 1em; padding-right: 1em; text-align: center; vertical-align: top\">Gimme More</td>\n",
        "        <td style=\"padding-left: 1em; padding-right: 1em; text-align: center; vertical-align: top\">32.5784386386</td>\n",
        "        <td style=\"padding-left: 1em; padding-right: 1em; text-align: center; vertical-align: top\">1</td>\n",
        "    </tr>\n",
        "    <tr>\n",
        "        <td style=\"padding-left: 1em; padding-right: 1em; text-align: center; vertical-align: top\">user_000885</td>\n",
        "        <td style=\"padding-left: 1em; padding-right: 1em; text-align: center; vertical-align: top\">Womanizer</td>\n",
        "        <td style=\"padding-left: 1em; padding-right: 1em; text-align: center; vertical-align: top\">29.4542434205</td>\n",
        "        <td style=\"padding-left: 1em; padding-right: 1em; text-align: center; vertical-align: top\">2</td>\n",
        "    </tr>\n",
        "    <tr>\n",
        "        <td style=\"padding-left: 1em; padding-right: 1em; text-align: center; vertical-align: top\">user_000885</td>\n",
        "        <td style=\"padding-left: 1em; padding-right: 1em; text-align: center; vertical-align: top\">Wings Of Words</td>\n",
        "        <td style=\"padding-left: 1em; padding-right: 1em; text-align: center; vertical-align: top\">26.6941356649</td>\n",
        "        <td style=\"padding-left: 1em; padding-right: 1em; text-align: center; vertical-align: top\">3</td>\n",
        "    </tr>\n",
        "    <tr>\n",
        "        <td style=\"padding-left: 1em; padding-right: 1em; text-align: center; vertical-align: top\">user_000885</td>\n",
        "        <td style=\"padding-left: 1em; padding-right: 1em; text-align: center; vertical-align: top\">Je T'Aime...Moi Non Plus</td>\n",
        "        <td style=\"padding-left: 1em; padding-right: 1em; text-align: center; vertical-align: top\">26.6526768197</td>\n",
        "        <td style=\"padding-left: 1em; padding-right: 1em; text-align: center; vertical-align: top\">4</td>\n",
        "    </tr>\n",
        "    <tr>\n",
        "        <td style=\"padding-left: 1em; padding-right: 1em; text-align: center; vertical-align: top\">user_000885</td>\n",
        "        <td style=\"padding-left: 1em; padding-right: 1em; text-align: center; vertical-align: top\">Wings Of Words<br>(Instrumental)</td>\n",
        "        <td style=\"padding-left: 1em; padding-right: 1em; text-align: center; vertical-align: top\">25.6150809516</td>\n",
        "        <td style=\"padding-left: 1em; padding-right: 1em; text-align: center; vertical-align: top\">5</td>\n",
        "    </tr>\n",
        "    <tr>\n",
        "        <td style=\"padding-left: 1em; padding-right: 1em; text-align: center; vertical-align: top\">...</td>\n",
        "        <td style=\"padding-left: 1em; padding-right: 1em; text-align: center; vertical-align: top\">...</td>\n",
        "        <td style=\"padding-left: 1em; padding-right: 1em; text-align: center; vertical-align: top\">...</td>\n",
        "        <td style=\"padding-left: 1em; padding-right: 1em; text-align: center; vertical-align: top\">...</td>\n",
        "    </tr>\n",
        "</table>\n",
        "[1680 rows x 4 columns]<br/>Note: Only the head of the SFrame is printed.<br/>You can use print_rows(num_rows=m, num_columns=n) to print more rows and columns.\n",
        "</div>"
       ],
       "metadata": {},
       "output_type": "pyout",
       "prompt_number": 319,
       "text": [
        "Columns:\n",
        "\tuser\tstr\n",
        "\tsong\tstr\n",
        "\tscore\tfloat\n",
        "\trank\tint\n",
        "\n",
        "Rows: 1680\n",
        "\n",
        "Data:\n",
        "+-------------+-------------------------------+---------------+------+\n",
        "|     user    |              song             |     score     | rank |\n",
        "+-------------+-------------------------------+---------------+------+\n",
        "| user_000503 |           Gimme More          | 40.6990607967 |  1   |\n",
        "| user_000503 |         Wings Of Words        | 39.3183144321 |  2   |\n",
        "| user_000503 | Wings Of Words (Instrumental) | 37.4229336967 |  3   |\n",
        "| user_000503 |           Womanizer           | 37.0653880824 |  4   |\n",
        "| user_000503 |    Je T'Aime...Moi Non Plus   | 34.9588273753 |  5   |\n",
        "| user_000885 |           Gimme More          | 32.5784386386 |  1   |\n",
        "| user_000885 |           Womanizer           | 29.4542434205 |  2   |\n",
        "| user_000885 |         Wings Of Words        | 26.6941356649 |  3   |\n",
        "| user_000885 |    Je T'Aime...Moi Non Plus   | 26.6526768197 |  4   |\n",
        "| user_000885 | Wings Of Words (Instrumental) | 25.6150809516 |  5   |\n",
        "|     ...     |              ...              |      ...      | ...  |\n",
        "+-------------+-------------------------------+---------------+------+\n",
        "[1680 rows x 4 columns]\n",
        "Note: Only the head of the SFrame is printed.\n",
        "You can use print_rows(num_rows=m, num_columns=n) to print more rows and columns."
       ]
      }
     ],
     "prompt_number": 319
    },
    {
     "cell_type": "code",
     "collapsed": false,
     "input": [
      "train_set_compact2 = train_set3[['user', 'song', 'binary']]\n",
      "\n",
      "model_compact2 = gl.recommender.create(train_set_compact2, user_id=\"user\", item_id=\"song\", target=\"binary\", verbose = False)\n",
      "\n",
      "model_compact2.recommend([train_user1])"
     ],
     "language": "python",
     "metadata": {},
     "outputs": [
      {
       "html": [
        "<pre>PROGRESS: Recsys training: model = ranking_factorization_recommender</pre>"
       ],
       "metadata": {},
       "output_type": "display_data",
       "text": [
        "PROGRESS: Recsys training: model = ranking_factorization_recommender"
       ]
      },
      {
       "html": [
        "<div style=\"max-height:1000px;max-width:1500px;overflow:auto;\"><table frame=\"box\" rules=\"cols\">\n",
        "    <tr>\n",
        "        <th style=\"padding-left: 1em; padding-right: 1em; text-align: center\">user</th>\n",
        "        <th style=\"padding-left: 1em; padding-right: 1em; text-align: center\">song</th>\n",
        "        <th style=\"padding-left: 1em; padding-right: 1em; text-align: center\">score</th>\n",
        "        <th style=\"padding-left: 1em; padding-right: 1em; text-align: center\">rank</th>\n",
        "    </tr>\n",
        "    <tr>\n",
        "        <td style=\"padding-left: 1em; padding-right: 1em; text-align: center; vertical-align: top\">user_000612</td>\n",
        "        <td style=\"padding-left: 1em; padding-right: 1em; text-align: center; vertical-align: top\">Such Great Heights</td>\n",
        "        <td style=\"padding-left: 1em; padding-right: 1em; text-align: center; vertical-align: top\">0.815491655522</td>\n",
        "        <td style=\"padding-left: 1em; padding-right: 1em; text-align: center; vertical-align: top\">1</td>\n",
        "    </tr>\n",
        "    <tr>\n",
        "        <td style=\"padding-left: 1em; padding-right: 1em; text-align: center; vertical-align: top\">user_000612</td>\n",
        "        <td style=\"padding-left: 1em; padding-right: 1em; text-align: center; vertical-align: top\">Heartbeats</td>\n",
        "        <td style=\"padding-left: 1em; padding-right: 1em; text-align: center; vertical-align: top\">0.815357190252</td>\n",
        "        <td style=\"padding-left: 1em; padding-right: 1em; text-align: center; vertical-align: top\">2</td>\n",
        "    </tr>\n",
        "    <tr>\n",
        "        <td style=\"padding-left: 1em; padding-right: 1em; text-align: center; vertical-align: top\">user_000612</td>\n",
        "        <td style=\"padding-left: 1em; padding-right: 1em; text-align: center; vertical-align: top\">Time Is Running Out</td>\n",
        "        <td style=\"padding-left: 1em; padding-right: 1em; text-align: center; vertical-align: top\">0.81418225865</td>\n",
        "        <td style=\"padding-left: 1em; padding-right: 1em; text-align: center; vertical-align: top\">3</td>\n",
        "    </tr>\n",
        "    <tr>\n",
        "        <td style=\"padding-left: 1em; padding-right: 1em; text-align: center; vertical-align: top\">user_000612</td>\n",
        "        <td style=\"padding-left: 1em; padding-right: 1em; text-align: center; vertical-align: top\">All I Need</td>\n",
        "        <td style=\"padding-left: 1em; padding-right: 1em; text-align: center; vertical-align: top\">0.813642827535</td>\n",
        "        <td style=\"padding-left: 1em; padding-right: 1em; text-align: center; vertical-align: top\">4</td>\n",
        "    </tr>\n",
        "    <tr>\n",
        "        <td style=\"padding-left: 1em; padding-right: 1em; text-align: center; vertical-align: top\">user_000612</td>\n",
        "        <td style=\"padding-left: 1em; padding-right: 1em; text-align: center; vertical-align: top\">Closer</td>\n",
        "        <td style=\"padding-left: 1em; padding-right: 1em; text-align: center; vertical-align: top\">0.813192218414</td>\n",
        "        <td style=\"padding-left: 1em; padding-right: 1em; text-align: center; vertical-align: top\">5</td>\n",
        "    </tr>\n",
        "    <tr>\n",
        "        <td style=\"padding-left: 1em; padding-right: 1em; text-align: center; vertical-align: top\">user_000612</td>\n",
        "        <td style=\"padding-left: 1em; padding-right: 1em; text-align: center; vertical-align: top\">Chasing Cars</td>\n",
        "        <td style=\"padding-left: 1em; padding-right: 1em; text-align: center; vertical-align: top\">0.8129410112</td>\n",
        "        <td style=\"padding-left: 1em; padding-right: 1em; text-align: center; vertical-align: top\">6</td>\n",
        "    </tr>\n",
        "    <tr>\n",
        "        <td style=\"padding-left: 1em; padding-right: 1em; text-align: center; vertical-align: top\">user_000612</td>\n",
        "        <td style=\"padding-left: 1em; padding-right: 1em; text-align: center; vertical-align: top\">Untitled 4</td>\n",
        "        <td style=\"padding-left: 1em; padding-right: 1em; text-align: center; vertical-align: top\">0.809730052823</td>\n",
        "        <td style=\"padding-left: 1em; padding-right: 1em; text-align: center; vertical-align: top\">7</td>\n",
        "    </tr>\n",
        "    <tr>\n",
        "        <td style=\"padding-left: 1em; padding-right: 1em; text-align: center; vertical-align: top\">user_000612</td>\n",
        "        <td style=\"padding-left: 1em; padding-right: 1em; text-align: center; vertical-align: top\">Hide And Seek</td>\n",
        "        <td style=\"padding-left: 1em; padding-right: 1em; text-align: center; vertical-align: top\">0.808838440456</td>\n",
        "        <td style=\"padding-left: 1em; padding-right: 1em; text-align: center; vertical-align: top\">8</td>\n",
        "    </tr>\n",
        "    <tr>\n",
        "        <td style=\"padding-left: 1em; padding-right: 1em; text-align: center; vertical-align: top\">user_000612</td>\n",
        "        <td style=\"padding-left: 1em; padding-right: 1em; text-align: center; vertical-align: top\">The Scientist</td>\n",
        "        <td style=\"padding-left: 1em; padding-right: 1em; text-align: center; vertical-align: top\">0.807167313095</td>\n",
        "        <td style=\"padding-left: 1em; padding-right: 1em; text-align: center; vertical-align: top\">9</td>\n",
        "    </tr>\n",
        "    <tr>\n",
        "        <td style=\"padding-left: 1em; padding-right: 1em; text-align: center; vertical-align: top\">user_000612</td>\n",
        "        <td style=\"padding-left: 1em; padding-right: 1em; text-align: center; vertical-align: top\">Soul Meets Body</td>\n",
        "        <td style=\"padding-left: 1em; padding-right: 1em; text-align: center; vertical-align: top\">0.806902606195</td>\n",
        "        <td style=\"padding-left: 1em; padding-right: 1em; text-align: center; vertical-align: top\">10</td>\n",
        "    </tr>\n",
        "</table>\n",
        "[10 rows x 4 columns]<br/>\n",
        "</div>"
       ],
       "metadata": {},
       "output_type": "pyout",
       "prompt_number": 333,
       "text": [
        "Columns:\n",
        "\tuser\tstr\n",
        "\tsong\tstr\n",
        "\tscore\tfloat\n",
        "\trank\tint\n",
        "\n",
        "Rows: 10\n",
        "\n",
        "Data:\n",
        "+-------------+---------------------+----------------+------+\n",
        "|     user    |         song        |     score      | rank |\n",
        "+-------------+---------------------+----------------+------+\n",
        "| user_000612 |  Such Great Heights | 0.815491655522 |  1   |\n",
        "| user_000612 |      Heartbeats     | 0.815357190252 |  2   |\n",
        "| user_000612 | Time Is Running Out | 0.81418225865  |  3   |\n",
        "| user_000612 |      All I Need     | 0.813642827535 |  4   |\n",
        "| user_000612 |        Closer       | 0.813192218414 |  5   |\n",
        "| user_000612 |     Chasing Cars    |  0.8129410112  |  6   |\n",
        "| user_000612 |      Untitled 4     | 0.809730052823 |  7   |\n",
        "| user_000612 |    Hide And Seek    | 0.808838440456 |  8   |\n",
        "| user_000612 |    The Scientist    | 0.807167313095 |  9   |\n",
        "| user_000612 |   Soul Meets Body   | 0.806902606195 |  10  |\n",
        "+-------------+---------------------+----------------+------+\n",
        "[10 rows x 4 columns]\n"
       ]
      }
     ],
     "prompt_number": 333
    },
    {
     "cell_type": "code",
     "collapsed": false,
     "input": [
      "model_compact2.recommend([train_user2])"
     ],
     "language": "python",
     "metadata": {},
     "outputs": [
      {
       "html": [
        "<div style=\"max-height:1000px;max-width:1500px;overflow:auto;\"><table frame=\"box\" rules=\"cols\">\n",
        "    <tr>\n",
        "        <th style=\"padding-left: 1em; padding-right: 1em; text-align: center\">user</th>\n",
        "        <th style=\"padding-left: 1em; padding-right: 1em; text-align: center\">song</th>\n",
        "        <th style=\"padding-left: 1em; padding-right: 1em; text-align: center\">score</th>\n",
        "        <th style=\"padding-left: 1em; padding-right: 1em; text-align: center\">rank</th>\n",
        "    </tr>\n",
        "    <tr>\n",
        "        <td style=\"padding-left: 1em; padding-right: 1em; text-align: center; vertical-align: top\">user_000008</td>\n",
        "        <td style=\"padding-left: 1em; padding-right: 1em; text-align: center; vertical-align: top\">Such Great Heights</td>\n",
        "        <td style=\"padding-left: 1em; padding-right: 1em; text-align: center; vertical-align: top\">0.811864038684</td>\n",
        "        <td style=\"padding-left: 1em; padding-right: 1em; text-align: center; vertical-align: top\">1</td>\n",
        "    </tr>\n",
        "    <tr>\n",
        "        <td style=\"padding-left: 1em; padding-right: 1em; text-align: center; vertical-align: top\">user_000008</td>\n",
        "        <td style=\"padding-left: 1em; padding-right: 1em; text-align: center; vertical-align: top\">Heartbeats</td>\n",
        "        <td style=\"padding-left: 1em; padding-right: 1em; text-align: center; vertical-align: top\">0.811728670029</td>\n",
        "        <td style=\"padding-left: 1em; padding-right: 1em; text-align: center; vertical-align: top\">2</td>\n",
        "    </tr>\n",
        "    <tr>\n",
        "        <td style=\"padding-left: 1em; padding-right: 1em; text-align: center; vertical-align: top\">user_000008</td>\n",
        "        <td style=\"padding-left: 1em; padding-right: 1em; text-align: center; vertical-align: top\">Time Is Running Out</td>\n",
        "        <td style=\"padding-left: 1em; padding-right: 1em; text-align: center; vertical-align: top\">0.810553315944</td>\n",
        "        <td style=\"padding-left: 1em; padding-right: 1em; text-align: center; vertical-align: top\">3</td>\n",
        "    </tr>\n",
        "    <tr>\n",
        "        <td style=\"padding-left: 1em; padding-right: 1em; text-align: center; vertical-align: top\">user_000008</td>\n",
        "        <td style=\"padding-left: 1em; padding-right: 1em; text-align: center; vertical-align: top\">All I Need</td>\n",
        "        <td style=\"padding-left: 1em; padding-right: 1em; text-align: center; vertical-align: top\">0.810010781001</td>\n",
        "        <td style=\"padding-left: 1em; padding-right: 1em; text-align: center; vertical-align: top\">4</td>\n",
        "    </tr>\n",
        "    <tr>\n",
        "        <td style=\"padding-left: 1em; padding-right: 1em; text-align: center; vertical-align: top\">user_000008</td>\n",
        "        <td style=\"padding-left: 1em; padding-right: 1em; text-align: center; vertical-align: top\">Closer</td>\n",
        "        <td style=\"padding-left: 1em; padding-right: 1em; text-align: center; vertical-align: top\">0.809562132706</td>\n",
        "        <td style=\"padding-left: 1em; padding-right: 1em; text-align: center; vertical-align: top\">5</td>\n",
        "    </tr>\n",
        "    <tr>\n",
        "        <td style=\"padding-left: 1em; padding-right: 1em; text-align: center; vertical-align: top\">user_000008</td>\n",
        "        <td style=\"padding-left: 1em; padding-right: 1em; text-align: center; vertical-align: top\">Chasing Cars</td>\n",
        "        <td style=\"padding-left: 1em; padding-right: 1em; text-align: center; vertical-align: top\">0.809312298953</td>\n",
        "        <td style=\"padding-left: 1em; padding-right: 1em; text-align: center; vertical-align: top\">6</td>\n",
        "    </tr>\n",
        "    <tr>\n",
        "        <td style=\"padding-left: 1em; padding-right: 1em; text-align: center; vertical-align: top\">user_000008</td>\n",
        "        <td style=\"padding-left: 1em; padding-right: 1em; text-align: center; vertical-align: top\">Untitled 4</td>\n",
        "        <td style=\"padding-left: 1em; padding-right: 1em; text-align: center; vertical-align: top\">0.806101268734</td>\n",
        "        <td style=\"padding-left: 1em; padding-right: 1em; text-align: center; vertical-align: top\">7</td>\n",
        "    </tr>\n",
        "    <tr>\n",
        "        <td style=\"padding-left: 1em; padding-right: 1em; text-align: center; vertical-align: top\">user_000008</td>\n",
        "        <td style=\"padding-left: 1em; padding-right: 1em; text-align: center; vertical-align: top\">Hide And Seek</td>\n",
        "        <td style=\"padding-left: 1em; padding-right: 1em; text-align: center; vertical-align: top\">0.805209200583</td>\n",
        "        <td style=\"padding-left: 1em; padding-right: 1em; text-align: center; vertical-align: top\">8</td>\n",
        "    </tr>\n",
        "    <tr>\n",
        "        <td style=\"padding-left: 1em; padding-right: 1em; text-align: center; vertical-align: top\">user_000008</td>\n",
        "        <td style=\"padding-left: 1em; padding-right: 1em; text-align: center; vertical-align: top\">The Scientist</td>\n",
        "        <td style=\"padding-left: 1em; padding-right: 1em; text-align: center; vertical-align: top\">0.803538523435</td>\n",
        "        <td style=\"padding-left: 1em; padding-right: 1em; text-align: center; vertical-align: top\">9</td>\n",
        "    </tr>\n",
        "    <tr>\n",
        "        <td style=\"padding-left: 1em; padding-right: 1em; text-align: center; vertical-align: top\">user_000008</td>\n",
        "        <td style=\"padding-left: 1em; padding-right: 1em; text-align: center; vertical-align: top\">Soul Meets Body</td>\n",
        "        <td style=\"padding-left: 1em; padding-right: 1em; text-align: center; vertical-align: top\">0.803274017223</td>\n",
        "        <td style=\"padding-left: 1em; padding-right: 1em; text-align: center; vertical-align: top\">10</td>\n",
        "    </tr>\n",
        "</table>\n",
        "[10 rows x 4 columns]<br/>\n",
        "</div>"
       ],
       "metadata": {},
       "output_type": "pyout",
       "prompt_number": 334,
       "text": [
        "Columns:\n",
        "\tuser\tstr\n",
        "\tsong\tstr\n",
        "\tscore\tfloat\n",
        "\trank\tint\n",
        "\n",
        "Rows: 10\n",
        "\n",
        "Data:\n",
        "+-------------+---------------------+----------------+------+\n",
        "|     user    |         song        |     score      | rank |\n",
        "+-------------+---------------------+----------------+------+\n",
        "| user_000008 |  Such Great Heights | 0.811864038684 |  1   |\n",
        "| user_000008 |      Heartbeats     | 0.811728670029 |  2   |\n",
        "| user_000008 | Time Is Running Out | 0.810553315944 |  3   |\n",
        "| user_000008 |      All I Need     | 0.810010781001 |  4   |\n",
        "| user_000008 |        Closer       | 0.809562132706 |  5   |\n",
        "| user_000008 |     Chasing Cars    | 0.809312298953 |  6   |\n",
        "| user_000008 |      Untitled 4     | 0.806101268734 |  7   |\n",
        "| user_000008 |    Hide And Seek    | 0.805209200583 |  8   |\n",
        "| user_000008 |    The Scientist    | 0.803538523435 |  9   |\n",
        "| user_000008 |   Soul Meets Body   | 0.803274017223 |  10  |\n",
        "+-------------+---------------------+----------------+------+\n",
        "[10 rows x 4 columns]\n"
       ]
      }
     ],
     "prompt_number": 334
    },
    {
     "cell_type": "code",
     "collapsed": false,
     "input": [
      "train_set3[train_set3['user'] == train_user0].sort('Count', ascending = False)"
     ],
     "language": "python",
     "metadata": {},
     "outputs": [
      {
       "html": [
        "<div style=\"max-height:1000px;max-width:1500px;overflow:auto;\"><table frame=\"box\" rules=\"cols\">\n",
        "    <tr>\n",
        "        <th style=\"padding-left: 1em; padding-right: 1em; text-align: center\">artist</th>\n",
        "        <th style=\"padding-left: 1em; padding-right: 1em; text-align: center\">song</th>\n",
        "        <th style=\"padding-left: 1em; padding-right: 1em; text-align: center\">user</th>\n",
        "        <th style=\"padding-left: 1em; padding-right: 1em; text-align: center\">Count</th>\n",
        "        <th style=\"padding-left: 1em; padding-right: 1em; text-align: center\">artist_song</th>\n",
        "        <th style=\"padding-left: 1em; padding-right: 1em; text-align: center\">total_cnt</th>\n",
        "    </tr>\n",
        "    <tr>\n",
        "        <td style=\"padding-left: 1em; padding-right: 1em; text-align: center; vertical-align: top\">Elliott Smith</td>\n",
        "        <td style=\"padding-left: 1em; padding-right: 1em; text-align: center; vertical-align: top\">Color Bars</td>\n",
        "        <td style=\"padding-left: 1em; padding-right: 1em; text-align: center; vertical-align: top\">user_000234</td>\n",
        "        <td style=\"padding-left: 1em; padding-right: 1em; text-align: center; vertical-align: top\">58</td>\n",
        "        <td style=\"padding-left: 1em; padding-right: 1em; text-align: center; vertical-align: top\">Elliott Smith: Color Bars</td>\n",
        "        <td style=\"padding-left: 1em; padding-right: 1em; text-align: center; vertical-align: top\">7248</td>\n",
        "    </tr>\n",
        "    <tr>\n",
        "        <td style=\"padding-left: 1em; padding-right: 1em; text-align: center; vertical-align: top\">Rilo Kiley</td>\n",
        "        <td style=\"padding-left: 1em; padding-right: 1em; text-align: center; vertical-align: top\">Dreamworld</td>\n",
        "        <td style=\"padding-left: 1em; padding-right: 1em; text-align: center; vertical-align: top\">user_000234</td>\n",
        "        <td style=\"padding-left: 1em; padding-right: 1em; text-align: center; vertical-align: top\">55</td>\n",
        "        <td style=\"padding-left: 1em; padding-right: 1em; text-align: center; vertical-align: top\">Rilo Kiley: Dreamworld</td>\n",
        "        <td style=\"padding-left: 1em; padding-right: 1em; text-align: center; vertical-align: top\">7248</td>\n",
        "    </tr>\n",
        "    <tr>\n",
        "        <td style=\"padding-left: 1em; padding-right: 1em; text-align: center; vertical-align: top\">Flight Of The Conchords</td>\n",
        "        <td style=\"padding-left: 1em; padding-right: 1em; text-align: center; vertical-align: top\">The Most Beautiful Girl<br>(In The Room)</td>\n",
        "        <td style=\"padding-left: 1em; padding-right: 1em; text-align: center; vertical-align: top\">user_000234</td>\n",
        "        <td style=\"padding-left: 1em; padding-right: 1em; text-align: center; vertical-align: top\">45</td>\n",
        "        <td style=\"padding-left: 1em; padding-right: 1em; text-align: center; vertical-align: top\">Flight Of The Conchords:<br>The Most Beautiful Gi ...</td>\n",
        "        <td style=\"padding-left: 1em; padding-right: 1em; text-align: center; vertical-align: top\">7248</td>\n",
        "    </tr>\n",
        "    <tr>\n",
        "        <td style=\"padding-left: 1em; padding-right: 1em; text-align: center; vertical-align: top\">Elliott Smith</td>\n",
        "        <td style=\"padding-left: 1em; padding-right: 1em; text-align: center; vertical-align: top\">Somebody That I Used To<br>Know</td>\n",
        "        <td style=\"padding-left: 1em; padding-right: 1em; text-align: center; vertical-align: top\">user_000234</td>\n",
        "        <td style=\"padding-left: 1em; padding-right: 1em; text-align: center; vertical-align: top\">45</td>\n",
        "        <td style=\"padding-left: 1em; padding-right: 1em; text-align: center; vertical-align: top\">Elliott Smith: Somebody<br>That I Used To Know</td>\n",
        "        <td style=\"padding-left: 1em; padding-right: 1em; text-align: center; vertical-align: top\">7248</td>\n",
        "    </tr>\n",
        "    <tr>\n",
        "        <td style=\"padding-left: 1em; padding-right: 1em; text-align: center; vertical-align: top\">Elliott Smith</td>\n",
        "        <td style=\"padding-left: 1em; padding-right: 1em; text-align: center; vertical-align: top\">Roman Candle</td>\n",
        "        <td style=\"padding-left: 1em; padding-right: 1em; text-align: center; vertical-align: top\">user_000234</td>\n",
        "        <td style=\"padding-left: 1em; padding-right: 1em; text-align: center; vertical-align: top\">39</td>\n",
        "        <td style=\"padding-left: 1em; padding-right: 1em; text-align: center; vertical-align: top\">Elliott Smith: Roman<br>Candle</td>\n",
        "        <td style=\"padding-left: 1em; padding-right: 1em; text-align: center; vertical-align: top\">7248</td>\n",
        "    </tr>\n",
        "    <tr>\n",
        "        <td style=\"padding-left: 1em; padding-right: 1em; text-align: center; vertical-align: top\">Kings Of Convenience</td>\n",
        "        <td style=\"padding-left: 1em; padding-right: 1em; text-align: center; vertical-align: top\">The Passenger</td>\n",
        "        <td style=\"padding-left: 1em; padding-right: 1em; text-align: center; vertical-align: top\">user_000234</td>\n",
        "        <td style=\"padding-left: 1em; padding-right: 1em; text-align: center; vertical-align: top\">33</td>\n",
        "        <td style=\"padding-left: 1em; padding-right: 1em; text-align: center; vertical-align: top\">Kings Of Convenience: The<br>Passenger</td>\n",
        "        <td style=\"padding-left: 1em; padding-right: 1em; text-align: center; vertical-align: top\">7248</td>\n",
        "    </tr>\n",
        "    <tr>\n",
        "        <td style=\"padding-left: 1em; padding-right: 1em; text-align: center; vertical-align: top\">Elliott Smith</td>\n",
        "        <td style=\"padding-left: 1em; padding-right: 1em; text-align: center; vertical-align: top\">Drive All Over Town</td>\n",
        "        <td style=\"padding-left: 1em; padding-right: 1em; text-align: center; vertical-align: top\">user_000234</td>\n",
        "        <td style=\"padding-left: 1em; padding-right: 1em; text-align: center; vertical-align: top\">33</td>\n",
        "        <td style=\"padding-left: 1em; padding-right: 1em; text-align: center; vertical-align: top\">Elliott Smith: Drive All<br>Over Town</td>\n",
        "        <td style=\"padding-left: 1em; padding-right: 1em; text-align: center; vertical-align: top\">7248</td>\n",
        "    </tr>\n",
        "    <tr>\n",
        "        <td style=\"padding-left: 1em; padding-right: 1em; text-align: center; vertical-align: top\">Sparklehorse</td>\n",
        "        <td style=\"padding-left: 1em; padding-right: 1em; text-align: center; vertical-align: top\">It'S A Wonderful Life</td>\n",
        "        <td style=\"padding-left: 1em; padding-right: 1em; text-align: center; vertical-align: top\">user_000234</td>\n",
        "        <td style=\"padding-left: 1em; padding-right: 1em; text-align: center; vertical-align: top\">33</td>\n",
        "        <td style=\"padding-left: 1em; padding-right: 1em; text-align: center; vertical-align: top\">Sparklehorse: It'S A<br>Wonderful Life</td>\n",
        "        <td style=\"padding-left: 1em; padding-right: 1em; text-align: center; vertical-align: top\">7248</td>\n",
        "    </tr>\n",
        "    <tr>\n",
        "        <td style=\"padding-left: 1em; padding-right: 1em; text-align: center; vertical-align: top\">Rufus Wainwright</td>\n",
        "        <td style=\"padding-left: 1em; padding-right: 1em; text-align: center; vertical-align: top\">Poses</td>\n",
        "        <td style=\"padding-left: 1em; padding-right: 1em; text-align: center; vertical-align: top\">user_000234</td>\n",
        "        <td style=\"padding-left: 1em; padding-right: 1em; text-align: center; vertical-align: top\">33</td>\n",
        "        <td style=\"padding-left: 1em; padding-right: 1em; text-align: center; vertical-align: top\">Rufus Wainwright: Poses</td>\n",
        "        <td style=\"padding-left: 1em; padding-right: 1em; text-align: center; vertical-align: top\">7248</td>\n",
        "    </tr>\n",
        "    <tr>\n",
        "        <td style=\"padding-left: 1em; padding-right: 1em; text-align: center; vertical-align: top\">Sparklehorse</td>\n",
        "        <td style=\"padding-left: 1em; padding-right: 1em; text-align: center; vertical-align: top\">Gold Day</td>\n",
        "        <td style=\"padding-left: 1em; padding-right: 1em; text-align: center; vertical-align: top\">user_000234</td>\n",
        "        <td style=\"padding-left: 1em; padding-right: 1em; text-align: center; vertical-align: top\">32</td>\n",
        "        <td style=\"padding-left: 1em; padding-right: 1em; text-align: center; vertical-align: top\">Sparklehorse: Gold Day</td>\n",
        "        <td style=\"padding-left: 1em; padding-right: 1em; text-align: center; vertical-align: top\">7248</td>\n",
        "    </tr>\n",
        "</table>\n",
        "<table frame=\"box\" rules=\"cols\">\n",
        "    <tr>\n",
        "        <th style=\"padding-left: 1em; padding-right: 1em; text-align: center\">norm</th>\n",
        "        <th style=\"padding-left: 1em; padding-right: 1em; text-align: center\">binary</th>\n",
        "        <th style=\"padding-left: 1em; padding-right: 1em; text-align: center\">norm_song</th>\n",
        "    </tr>\n",
        "    <tr>\n",
        "        <td style=\"padding-left: 1em; padding-right: 1em; text-align: center; vertical-align: top\">0.00800220750552</td>\n",
        "        <td style=\"padding-left: 1em; padding-right: 1em; text-align: center; vertical-align: top\">1</td>\n",
        "        <td style=\"padding-left: 1em; padding-right: 1em; text-align: center; vertical-align: top\">1.10405732692e-06</td>\n",
        "    </tr>\n",
        "    <tr>\n",
        "        <td style=\"padding-left: 1em; padding-right: 1em; text-align: center; vertical-align: top\">0.00758830022075</td>\n",
        "        <td style=\"padding-left: 1em; padding-right: 1em; text-align: center; vertical-align: top\">1</td>\n",
        "        <td style=\"padding-left: 1em; padding-right: 1em; text-align: center; vertical-align: top\">1.04695091346e-06</td>\n",
        "    </tr>\n",
        "    <tr>\n",
        "        <td style=\"padding-left: 1em; padding-right: 1em; text-align: center; vertical-align: top\">0.00620860927152</td>\n",
        "        <td style=\"padding-left: 1em; padding-right: 1em; text-align: center; vertical-align: top\">1</td>\n",
        "        <td style=\"padding-left: 1em; padding-right: 1em; text-align: center; vertical-align: top\">8.56596201921e-07</td>\n",
        "    </tr>\n",
        "    <tr>\n",
        "        <td style=\"padding-left: 1em; padding-right: 1em; text-align: center; vertical-align: top\">0.00620860927152</td>\n",
        "        <td style=\"padding-left: 1em; padding-right: 1em; text-align: center; vertical-align: top\">1</td>\n",
        "        <td style=\"padding-left: 1em; padding-right: 1em; text-align: center; vertical-align: top\">8.56596201921e-07</td>\n",
        "    </tr>\n",
        "    <tr>\n",
        "        <td style=\"padding-left: 1em; padding-right: 1em; text-align: center; vertical-align: top\">0.00538079470199</td>\n",
        "        <td style=\"padding-left: 1em; padding-right: 1em; text-align: center; vertical-align: top\">1</td>\n",
        "        <td style=\"padding-left: 1em; padding-right: 1em; text-align: center; vertical-align: top\">7.42383374998e-07</td>\n",
        "    </tr>\n",
        "    <tr>\n",
        "        <td style=\"padding-left: 1em; padding-right: 1em; text-align: center; vertical-align: top\">0.00455298013245</td>\n",
        "        <td style=\"padding-left: 1em; padding-right: 1em; text-align: center; vertical-align: top\">1</td>\n",
        "        <td style=\"padding-left: 1em; padding-right: 1em; text-align: center; vertical-align: top\">6.28170548075e-07</td>\n",
        "    </tr>\n",
        "    <tr>\n",
        "        <td style=\"padding-left: 1em; padding-right: 1em; text-align: center; vertical-align: top\">0.00455298013245</td>\n",
        "        <td style=\"padding-left: 1em; padding-right: 1em; text-align: center; vertical-align: top\">1</td>\n",
        "        <td style=\"padding-left: 1em; padding-right: 1em; text-align: center; vertical-align: top\">6.28170548075e-07</td>\n",
        "    </tr>\n",
        "    <tr>\n",
        "        <td style=\"padding-left: 1em; padding-right: 1em; text-align: center; vertical-align: top\">0.00455298013245</td>\n",
        "        <td style=\"padding-left: 1em; padding-right: 1em; text-align: center; vertical-align: top\">1</td>\n",
        "        <td style=\"padding-left: 1em; padding-right: 1em; text-align: center; vertical-align: top\">6.28170548075e-07</td>\n",
        "    </tr>\n",
        "    <tr>\n",
        "        <td style=\"padding-left: 1em; padding-right: 1em; text-align: center; vertical-align: top\">0.00455298013245</td>\n",
        "        <td style=\"padding-left: 1em; padding-right: 1em; text-align: center; vertical-align: top\">1</td>\n",
        "        <td style=\"padding-left: 1em; padding-right: 1em; text-align: center; vertical-align: top\">6.28170548075e-07</td>\n",
        "    </tr>\n",
        "    <tr>\n",
        "        <td style=\"padding-left: 1em; padding-right: 1em; text-align: center; vertical-align: top\">0.00441501103753</td>\n",
        "        <td style=\"padding-left: 1em; padding-right: 1em; text-align: center; vertical-align: top\">1</td>\n",
        "        <td style=\"padding-left: 1em; padding-right: 1em; text-align: center; vertical-align: top\">6.09135076922e-07</td>\n",
        "    </tr>\n",
        "    <tr>\n",
        "        <td style=\"padding-left: 1em; padding-right: 1em; text-align: center; vertical-align: top\">...</td>\n",
        "        <td style=\"padding-left: 1em; padding-right: 1em; text-align: center; vertical-align: top\">...</td>\n",
        "        <td style=\"padding-left: 1em; padding-right: 1em; text-align: center; vertical-align: top\">...</td>\n",
        "    </tr>\n",
        "</table>\n",
        "[20 rows x 9 columns]<br/>Note: Only the head of the SFrame is printed.<br/>You can use print_rows(num_rows=m, num_columns=n) to print more rows and columns.\n",
        "</div>"
       ],
       "metadata": {},
       "output_type": "pyout",
       "prompt_number": 331,
       "text": [
        "Columns:\n",
        "\tartist\tstr\n",
        "\tsong\tstr\n",
        "\tuser\tstr\n",
        "\tCount\tint\n",
        "\tartist_song\tstr\n",
        "\ttotal_cnt\tint\n",
        "\tnorm\tfloat\n",
        "\tbinary\tint\n",
        "\tnorm_song\tfloat\n",
        "\n",
        "Rows: 20\n",
        "\n",
        "Data:\n",
        "+-------------------------+--------------------------------+-------------+-------+\n",
        "|          artist         |              song              |     user    | Count |\n",
        "+-------------------------+--------------------------------+-------------+-------+\n",
        "|      Elliott Smith      |           Color Bars           | user_000234 |   58  |\n",
        "|        Rilo Kiley       |           Dreamworld           | user_000234 |   55  |\n",
        "| Flight Of The Conchords | The Most Beautiful Girl (I ... | user_000234 |   45  |\n",
        "|      Elliott Smith      |  Somebody That I Used To Know  | user_000234 |   45  |\n",
        "|      Elliott Smith      |          Roman Candle          | user_000234 |   39  |\n",
        "|   Kings Of Convenience  |         The Passenger          | user_000234 |   33  |\n",
        "|      Elliott Smith      |      Drive All Over Town       | user_000234 |   33  |\n",
        "|       Sparklehorse      |     It'S A Wonderful Life      | user_000234 |   33  |\n",
        "|     Rufus Wainwright    |             Poses              | user_000234 |   33  |\n",
        "|       Sparklehorse      |            Gold Day            | user_000234 |   32  |\n",
        "+-------------------------+--------------------------------+-------------+-------+\n",
        "+--------------------------------+-----------+------------------+--------+\n",
        "|          artist_song           | total_cnt |       norm       | binary |\n",
        "+--------------------------------+-----------+------------------+--------+\n",
        "|   Elliott Smith: Color Bars    |    7248   | 0.00800220750552 |   1    |\n",
        "|     Rilo Kiley: Dreamworld     |    7248   | 0.00758830022075 |   1    |\n",
        "| Flight Of The Conchords: T ... |    7248   | 0.00620860927152 |   1    |\n",
        "| Elliott Smith: Somebody Th ... |    7248   | 0.00620860927152 |   1    |\n",
        "|  Elliott Smith: Roman Candle   |    7248   | 0.00538079470199 |   1    |\n",
        "| Kings Of Convenience: The  ... |    7248   | 0.00455298013245 |   1    |\n",
        "| Elliott Smith: Drive All O ... |    7248   | 0.00455298013245 |   1    |\n",
        "| Sparklehorse: It'S A Wonde ... |    7248   | 0.00455298013245 |   1    |\n",
        "|    Rufus Wainwright: Poses     |    7248   | 0.00455298013245 |   1    |\n",
        "|     Sparklehorse: Gold Day     |    7248   | 0.00441501103753 |   1    |\n",
        "+--------------------------------+-----------+------------------+--------+\n",
        "+-------------------+\n",
        "|     norm_song     |\n",
        "+-------------------+\n",
        "| 1.10405732692e-06 |\n",
        "| 1.04695091346e-06 |\n",
        "| 8.56596201921e-07 |\n",
        "| 8.56596201921e-07 |\n",
        "| 7.42383374998e-07 |\n",
        "| 6.28170548075e-07 |\n",
        "| 6.28170548075e-07 |\n",
        "| 6.28170548075e-07 |\n",
        "| 6.28170548075e-07 |\n",
        "| 6.09135076922e-07 |\n",
        "|        ...        |\n",
        "+-------------------+\n",
        "[20 rows x 9 columns]\n",
        "Note: Only the head of the SFrame is printed.\n",
        "You can use print_rows(num_rows=m, num_columns=n) to print more rows and columns."
       ]
      }
     ],
     "prompt_number": 331
    },
    {
     "cell_type": "code",
     "collapsed": false,
     "input": [
      "train_set_compact3 =  train_set3[['user', 'artist_song', 'binary']]\n",
      "\n",
      "rfr = gl.recommender.ranking_factorization_recommender.create(train_set_compact3, user_id=\"user\", item_id=\"artist_song\", target=\"binary\", verbose = False, binary_target=True, side_data_factorization=False)"
     ],
     "language": "python",
     "metadata": {},
     "outputs": [
      {
       "html": [
        "<pre>PROGRESS: Recsys training: model = ranking_factorization_recommender</pre>"
       ],
       "metadata": {},
       "output_type": "display_data",
       "text": [
        "PROGRESS: Recsys training: model = ranking_factorization_recommender"
       ]
      }
     ],
     "prompt_number": 376
    },
    {
     "cell_type": "code",
     "collapsed": false,
     "input": [
      "print r.current_top_songs('train_user0', train_set3)\n",
      "rfr.recommend([train_user0])"
     ],
     "language": "python",
     "metadata": {},
     "outputs": [
      {
       "output_type": "stream",
       "stream": "stdout",
       "text": [
        "++\n",
        "||\n",
        "++\n",
        "++\n",
        "[0 rows x 0 columns]\n",
        "\n"
       ]
      },
      {
       "html": [
        "<div style=\"max-height:1000px;max-width:1500px;overflow:auto;\"><table frame=\"box\" rules=\"cols\">\n",
        "    <tr>\n",
        "        <th style=\"padding-left: 1em; padding-right: 1em; text-align: center\">user</th>\n",
        "        <th style=\"padding-left: 1em; padding-right: 1em; text-align: center\">artist_song</th>\n",
        "        <th style=\"padding-left: 1em; padding-right: 1em; text-align: center\">score</th>\n",
        "        <th style=\"padding-left: 1em; padding-right: 1em; text-align: center\">rank</th>\n",
        "    </tr>\n",
        "    <tr>\n",
        "        <td style=\"padding-left: 1em; padding-right: 1em; text-align: center; vertical-align: top\">user_000234</td>\n",
        "        <td style=\"padding-left: 1em; padding-right: 1em; text-align: center; vertical-align: top\">Elliott Smith: Needle In<br>The Hay</td>\n",
        "        <td style=\"padding-left: 1em; padding-right: 1em; text-align: center; vertical-align: top\">0.977761401162</td>\n",
        "        <td style=\"padding-left: 1em; padding-right: 1em; text-align: center; vertical-align: top\">1</td>\n",
        "    </tr>\n",
        "    <tr>\n",
        "        <td style=\"padding-left: 1em; padding-right: 1em; text-align: center; vertical-align: top\">user_000234</td>\n",
        "        <td style=\"padding-left: 1em; padding-right: 1em; text-align: center; vertical-align: top\">My Bloody Valentine: When<br>You Sleep</td>\n",
        "        <td style=\"padding-left: 1em; padding-right: 1em; text-align: center; vertical-align: top\">0.975872652006</td>\n",
        "        <td style=\"padding-left: 1em; padding-right: 1em; text-align: center; vertical-align: top\">2</td>\n",
        "    </tr>\n",
        "    <tr>\n",
        "        <td style=\"padding-left: 1em; padding-right: 1em; text-align: center; vertical-align: top\">user_000234</td>\n",
        "        <td style=\"padding-left: 1em; padding-right: 1em; text-align: center; vertical-align: top\">Muse: Starlight</td>\n",
        "        <td style=\"padding-left: 1em; padding-right: 1em; text-align: center; vertical-align: top\">0.973211265623</td>\n",
        "        <td style=\"padding-left: 1em; padding-right: 1em; text-align: center; vertical-align: top\">3</td>\n",
        "    </tr>\n",
        "    <tr>\n",
        "        <td style=\"padding-left: 1em; padding-right: 1em; text-align: center; vertical-align: top\">user_000234</td>\n",
        "        <td style=\"padding-left: 1em; padding-right: 1em; text-align: center; vertical-align: top\">Sonic Youth: Jams Run<br>Free</td>\n",
        "        <td style=\"padding-left: 1em; padding-right: 1em; text-align: center; vertical-align: top\">0.972311875882</td>\n",
        "        <td style=\"padding-left: 1em; padding-right: 1em; text-align: center; vertical-align: top\">4</td>\n",
        "    </tr>\n",
        "    <tr>\n",
        "        <td style=\"padding-left: 1em; padding-right: 1em; text-align: center; vertical-align: top\">user_000234</td>\n",
        "        <td style=\"padding-left: 1em; padding-right: 1em; text-align: center; vertical-align: top\">Toto: Africa</td>\n",
        "        <td style=\"padding-left: 1em; padding-right: 1em; text-align: center; vertical-align: top\">0.972127011057</td>\n",
        "        <td style=\"padding-left: 1em; padding-right: 1em; text-align: center; vertical-align: top\">5</td>\n",
        "    </tr>\n",
        "    <tr>\n",
        "        <td style=\"padding-left: 1em; padding-right: 1em; text-align: center; vertical-align: top\">user_000234</td>\n",
        "        <td style=\"padding-left: 1em; padding-right: 1em; text-align: center; vertical-align: top\">Clap Your Hands Say Yeah:<br>Heavy Metal</td>\n",
        "        <td style=\"padding-left: 1em; padding-right: 1em; text-align: center; vertical-align: top\">0.971324514924</td>\n",
        "        <td style=\"padding-left: 1em; padding-right: 1em; text-align: center; vertical-align: top\">6</td>\n",
        "    </tr>\n",
        "    <tr>\n",
        "        <td style=\"padding-left: 1em; padding-right: 1em; text-align: center; vertical-align: top\">user_000234</td>\n",
        "        <td style=\"padding-left: 1em; padding-right: 1em; text-align: center; vertical-align: top\">Grateful Dead: Sugar<br>Magnolia</td>\n",
        "        <td style=\"padding-left: 1em; padding-right: 1em; text-align: center; vertical-align: top\">0.971064930991</td>\n",
        "        <td style=\"padding-left: 1em; padding-right: 1em; text-align: center; vertical-align: top\">7</td>\n",
        "    </tr>\n",
        "    <tr>\n",
        "        <td style=\"padding-left: 1em; padding-right: 1em; text-align: center; vertical-align: top\">user_000234</td>\n",
        "        <td style=\"padding-left: 1em; padding-right: 1em; text-align: center; vertical-align: top\">M.O.P.: Ante Up</td>\n",
        "        <td style=\"padding-left: 1em; padding-right: 1em; text-align: center; vertical-align: top\">0.970904946343</td>\n",
        "        <td style=\"padding-left: 1em; padding-right: 1em; text-align: center; vertical-align: top\">8</td>\n",
        "    </tr>\n",
        "    <tr>\n",
        "        <td style=\"padding-left: 1em; padding-right: 1em; text-align: center; vertical-align: top\">user_000234</td>\n",
        "        <td style=\"padding-left: 1em; padding-right: 1em; text-align: center; vertical-align: top\">Wu-Tang Clan: Gravel Pit</td>\n",
        "        <td style=\"padding-left: 1em; padding-right: 1em; text-align: center; vertical-align: top\">0.970737939872</td>\n",
        "        <td style=\"padding-left: 1em; padding-right: 1em; text-align: center; vertical-align: top\">9</td>\n",
        "    </tr>\n",
        "    <tr>\n",
        "        <td style=\"padding-left: 1em; padding-right: 1em; text-align: center; vertical-align: top\">user_000234</td>\n",
        "        <td style=\"padding-left: 1em; padding-right: 1em; text-align: center; vertical-align: top\">Pavement: In The Mouth A<br>Desert</td>\n",
        "        <td style=\"padding-left: 1em; padding-right: 1em; text-align: center; vertical-align: top\">0.97039424627</td>\n",
        "        <td style=\"padding-left: 1em; padding-right: 1em; text-align: center; vertical-align: top\">10</td>\n",
        "    </tr>\n",
        "</table>\n",
        "[10 rows x 4 columns]<br/>\n",
        "</div>"
       ],
       "metadata": {},
       "output_type": "pyout",
       "prompt_number": 377,
       "text": [
        "Columns:\n",
        "\tuser\tstr\n",
        "\tartist_song\tstr\n",
        "\tscore\tfloat\n",
        "\trank\tint\n",
        "\n",
        "Rows: 10\n",
        "\n",
        "Data:\n",
        "+-------------+--------------------------------+----------------+------+\n",
        "|     user    |          artist_song           |     score      | rank |\n",
        "+-------------+--------------------------------+----------------+------+\n",
        "| user_000234 | Elliott Smith: Needle In T ... | 0.977761401162 |  1   |\n",
        "| user_000234 | My Bloody Valentine: When  ... | 0.975872652006 |  2   |\n",
        "| user_000234 |        Muse: Starlight         | 0.973211265623 |  3   |\n",
        "| user_000234 |   Sonic Youth: Jams Run Free   | 0.972311875882 |  4   |\n",
        "| user_000234 |          Toto: Africa          | 0.972127011057 |  5   |\n",
        "| user_000234 | Clap Your Hands Say Yeah:  ... | 0.971324514924 |  6   |\n",
        "| user_000234 | Grateful Dead: Sugar Magnolia  | 0.971064930991 |  7   |\n",
        "| user_000234 |        M.O.P.: Ante Up         | 0.970904946343 |  8   |\n",
        "| user_000234 |    Wu-Tang Clan: Gravel Pit    | 0.970737939872 |  9   |\n",
        "| user_000234 | Pavement: In The Mouth A D ... | 0.97039424627  |  10  |\n",
        "+-------------+--------------------------------+----------------+------+\n",
        "[10 rows x 4 columns]\n"
       ]
      }
     ],
     "prompt_number": 377
    },
    {
     "cell_type": "code",
     "collapsed": false,
     "input": [
      "rfr.recommend([train_user1])"
     ],
     "language": "python",
     "metadata": {},
     "outputs": [
      {
       "html": [
        "<div style=\"max-height:1000px;max-width:1500px;overflow:auto;\"><table frame=\"box\" rules=\"cols\">\n",
        "    <tr>\n",
        "        <th style=\"padding-left: 1em; padding-right: 1em; text-align: center\">user</th>\n",
        "        <th style=\"padding-left: 1em; padding-right: 1em; text-align: center\">artist_song</th>\n",
        "        <th style=\"padding-left: 1em; padding-right: 1em; text-align: center\">score</th>\n",
        "        <th style=\"padding-left: 1em; padding-right: 1em; text-align: center\">rank</th>\n",
        "    </tr>\n",
        "    <tr>\n",
        "        <td style=\"padding-left: 1em; padding-right: 1em; text-align: center; vertical-align: top\">user_000612</td>\n",
        "        <td style=\"padding-left: 1em; padding-right: 1em; text-align: center; vertical-align: top\">Bauhaus: She'S In Parties</td>\n",
        "        <td style=\"padding-left: 1em; padding-right: 1em; text-align: center; vertical-align: top\">0.614101238212</td>\n",
        "        <td style=\"padding-left: 1em; padding-right: 1em; text-align: center; vertical-align: top\">1</td>\n",
        "    </tr>\n",
        "    <tr>\n",
        "        <td style=\"padding-left: 1em; padding-right: 1em; text-align: center; vertical-align: top\">user_000612</td>\n",
        "        <td style=\"padding-left: 1em; padding-right: 1em; text-align: center; vertical-align: top\">Metric: Ending Start</td>\n",
        "        <td style=\"padding-left: 1em; padding-right: 1em; text-align: center; vertical-align: top\">0.608991462025</td>\n",
        "        <td style=\"padding-left: 1em; padding-right: 1em; text-align: center; vertical-align: top\">2</td>\n",
        "    </tr>\n",
        "    <tr>\n",
        "        <td style=\"padding-left: 1em; padding-right: 1em; text-align: center; vertical-align: top\">user_000612</td>\n",
        "        <td style=\"padding-left: 1em; padding-right: 1em; text-align: center; vertical-align: top\">David Bowie: Warszawa</td>\n",
        "        <td style=\"padding-left: 1em; padding-right: 1em; text-align: center; vertical-align: top\">0.596163119558</td>\n",
        "        <td style=\"padding-left: 1em; padding-right: 1em; text-align: center; vertical-align: top\">3</td>\n",
        "    </tr>\n",
        "    <tr>\n",
        "        <td style=\"padding-left: 1em; padding-right: 1em; text-align: center; vertical-align: top\">user_000612</td>\n",
        "        <td style=\"padding-left: 1em; padding-right: 1em; text-align: center; vertical-align: top\">Alice In Chains: Would</td>\n",
        "        <td style=\"padding-left: 1em; padding-right: 1em; text-align: center; vertical-align: top\">0.591123850158</td>\n",
        "        <td style=\"padding-left: 1em; padding-right: 1em; text-align: center; vertical-align: top\">4</td>\n",
        "    </tr>\n",
        "    <tr>\n",
        "        <td style=\"padding-left: 1em; padding-right: 1em; text-align: center; vertical-align: top\">user_000612</td>\n",
        "        <td style=\"padding-left: 1em; padding-right: 1em; text-align: center; vertical-align: top\">Emilie Autumn: Opheliac</td>\n",
        "        <td style=\"padding-left: 1em; padding-right: 1em; text-align: center; vertical-align: top\">0.589536207464</td>\n",
        "        <td style=\"padding-left: 1em; padding-right: 1em; text-align: center; vertical-align: top\">5</td>\n",
        "    </tr>\n",
        "    <tr>\n",
        "        <td style=\"padding-left: 1em; padding-right: 1em; text-align: center; vertical-align: top\">user_000612</td>\n",
        "        <td style=\"padding-left: 1em; padding-right: 1em; text-align: center; vertical-align: top\">The Tea Party: Babylon</td>\n",
        "        <td style=\"padding-left: 1em; padding-right: 1em; text-align: center; vertical-align: top\">0.576541552323</td>\n",
        "        <td style=\"padding-left: 1em; padding-right: 1em; text-align: center; vertical-align: top\">6</td>\n",
        "    </tr>\n",
        "    <tr>\n",
        "        <td style=\"padding-left: 1em; padding-right: 1em; text-align: center; vertical-align: top\">user_000612</td>\n",
        "        <td style=\"padding-left: 1em; padding-right: 1em; text-align: center; vertical-align: top\">James Blunt: Goodbye My<br>Lover</td>\n",
        "        <td style=\"padding-left: 1em; padding-right: 1em; text-align: center; vertical-align: top\">0.575006724184</td>\n",
        "        <td style=\"padding-left: 1em; padding-right: 1em; text-align: center; vertical-align: top\">7</td>\n",
        "    </tr>\n",
        "    <tr>\n",
        "        <td style=\"padding-left: 1em; padding-right: 1em; text-align: center; vertical-align: top\">user_000612</td>\n",
        "        <td style=\"padding-left: 1em; padding-right: 1em; text-align: center; vertical-align: top\">Zz Top: Got Me Under<br>Pressure</td>\n",
        "        <td style=\"padding-left: 1em; padding-right: 1em; text-align: center; vertical-align: top\">0.567997673499</td>\n",
        "        <td style=\"padding-left: 1em; padding-right: 1em; text-align: center; vertical-align: top\">8</td>\n",
        "    </tr>\n",
        "    <tr>\n",
        "        <td style=\"padding-left: 1em; padding-right: 1em; text-align: center; vertical-align: top\">user_000612</td>\n",
        "        <td style=\"padding-left: 1em; padding-right: 1em; text-align: center; vertical-align: top\">Coldplay: We Never Change</td>\n",
        "        <td style=\"padding-left: 1em; padding-right: 1em; text-align: center; vertical-align: top\">0.563988054617</td>\n",
        "        <td style=\"padding-left: 1em; padding-right: 1em; text-align: center; vertical-align: top\">9</td>\n",
        "    </tr>\n",
        "    <tr>\n",
        "        <td style=\"padding-left: 1em; padding-right: 1em; text-align: center; vertical-align: top\">user_000612</td>\n",
        "        <td style=\"padding-left: 1em; padding-right: 1em; text-align: center; vertical-align: top\">Within Temptation:<br>Forgiven</td>\n",
        "        <td style=\"padding-left: 1em; padding-right: 1em; text-align: center; vertical-align: top\">0.556318230105</td>\n",
        "        <td style=\"padding-left: 1em; padding-right: 1em; text-align: center; vertical-align: top\">10</td>\n",
        "    </tr>\n",
        "</table>\n",
        "[10 rows x 4 columns]<br/>\n",
        "</div>"
       ],
       "metadata": {},
       "output_type": "pyout",
       "prompt_number": 378,
       "text": [
        "Columns:\n",
        "\tuser\tstr\n",
        "\tartist_song\tstr\n",
        "\tscore\tfloat\n",
        "\trank\tint\n",
        "\n",
        "Rows: 10\n",
        "\n",
        "Data:\n",
        "+-------------+-------------------------------+----------------+------+\n",
        "|     user    |          artist_song          |     score      | rank |\n",
        "+-------------+-------------------------------+----------------+------+\n",
        "| user_000612 |   Bauhaus: She'S In Parties   | 0.614101238212 |  1   |\n",
        "| user_000612 |      Metric: Ending Start     | 0.608991462025 |  2   |\n",
        "| user_000612 |     David Bowie: Warszawa     | 0.596163119558 |  3   |\n",
        "| user_000612 |     Alice In Chains: Would    | 0.591123850158 |  4   |\n",
        "| user_000612 |    Emilie Autumn: Opheliac    | 0.589536207464 |  5   |\n",
        "| user_000612 |     The Tea Party: Babylon    | 0.576541552323 |  6   |\n",
        "| user_000612 | James Blunt: Goodbye My Lover | 0.575006724184 |  7   |\n",
        "| user_000612 | Zz Top: Got Me Under Pressure | 0.567997673499 |  8   |\n",
        "| user_000612 |   Coldplay: We Never Change   | 0.563988054617 |  9   |\n",
        "| user_000612 |  Within Temptation: Forgiven  | 0.556318230105 |  10  |\n",
        "+-------------+-------------------------------+----------------+------+\n",
        "[10 rows x 4 columns]\n"
       ]
      }
     ],
     "prompt_number": 378
    },
    {
     "cell_type": "code",
     "collapsed": false,
     "input": [
      "\n",
      "rfr.get('coefficients')['user']"
     ],
     "language": "python",
     "metadata": {},
     "outputs": [
      {
       "html": [
        "<div style=\"max-height:1000px;max-width:1500px;overflow:auto;\"><table frame=\"box\" rules=\"cols\">\n",
        "    <tr>\n",
        "        <th style=\"padding-left: 1em; padding-right: 1em; text-align: center\">user</th>\n",
        "        <th style=\"padding-left: 1em; padding-right: 1em; text-align: center\">linear_terms</th>\n",
        "        <th style=\"padding-left: 1em; padding-right: 1em; text-align: center\">factors</th>\n",
        "    </tr>\n",
        "    <tr>\n",
        "        <td style=\"padding-left: 1em; padding-right: 1em; text-align: center; vertical-align: top\">user_000503</td>\n",
        "        <td style=\"padding-left: 1em; padding-right: 1em; text-align: center; vertical-align: top\">2.00264811516</td>\n",
        "        <td style=\"padding-left: 1em; padding-right: 1em; text-align: center; vertical-align: top\">array('d',<br>[-0.3647846579551697, ...</td>\n",
        "    </tr>\n",
        "    <tr>\n",
        "        <td style=\"padding-left: 1em; padding-right: 1em; text-align: center; vertical-align: top\">user_000885</td>\n",
        "        <td style=\"padding-left: 1em; padding-right: 1em; text-align: center; vertical-align: top\">-0.113929010928</td>\n",
        "        <td style=\"padding-left: 1em; padding-right: 1em; text-align: center; vertical-align: top\">array('d',<br>[-1.210287094116211, ...</td>\n",
        "    </tr>\n",
        "    <tr>\n",
        "        <td style=\"padding-left: 1em; padding-right: 1em; text-align: center; vertical-align: top\">user_000085</td>\n",
        "        <td style=\"padding-left: 1em; padding-right: 1em; text-align: center; vertical-align: top\">1.86240434647</td>\n",
        "        <td style=\"padding-left: 1em; padding-right: 1em; text-align: center; vertical-align: top\">array('d',<br>[-0.3039220869541168, ...</td>\n",
        "    </tr>\n",
        "    <tr>\n",
        "        <td style=\"padding-left: 1em; padding-right: 1em; text-align: center; vertical-align: top\">user_000685</td>\n",
        "        <td style=\"padding-left: 1em; padding-right: 1em; text-align: center; vertical-align: top\">2.11953830719</td>\n",
        "        <td style=\"padding-left: 1em; padding-right: 1em; text-align: center; vertical-align: top\">array('d',<br>[0.013774124905467033 ...</td>\n",
        "    </tr>\n",
        "    <tr>\n",
        "        <td style=\"padding-left: 1em; padding-right: 1em; text-align: center; vertical-align: top\">user_000612</td>\n",
        "        <td style=\"padding-left: 1em; padding-right: 1em; text-align: center; vertical-align: top\">-2.49231529236</td>\n",
        "        <td style=\"padding-left: 1em; padding-right: 1em; text-align: center; vertical-align: top\">array('d',<br>[3.3396315574645996, ...</td>\n",
        "    </tr>\n",
        "    <tr>\n",
        "        <td style=\"padding-left: 1em; padding-right: 1em; text-align: center; vertical-align: top\">user_000033</td>\n",
        "        <td style=\"padding-left: 1em; padding-right: 1em; text-align: center; vertical-align: top\">-4.29914903641</td>\n",
        "        <td style=\"padding-left: 1em; padding-right: 1em; text-align: center; vertical-align: top\">array('d',<br>[-1.0788652896881104, ...</td>\n",
        "    </tr>\n",
        "    <tr>\n",
        "        <td style=\"padding-left: 1em; padding-right: 1em; text-align: center; vertical-align: top\">user_000709</td>\n",
        "        <td style=\"padding-left: 1em; padding-right: 1em; text-align: center; vertical-align: top\">2.45031523705</td>\n",
        "        <td style=\"padding-left: 1em; padding-right: 1em; text-align: center; vertical-align: top\">array('d',<br>[-0.4018177092075348, ...</td>\n",
        "    </tr>\n",
        "    <tr>\n",
        "        <td style=\"padding-left: 1em; padding-right: 1em; text-align: center; vertical-align: top\">user_000732</td>\n",
        "        <td style=\"padding-left: 1em; padding-right: 1em; text-align: center; vertical-align: top\">1.3156131506</td>\n",
        "        <td style=\"padding-left: 1em; padding-right: 1em; text-align: center; vertical-align: top\">array('d',<br>[-0.3510829210281372, ...</td>\n",
        "    </tr>\n",
        "    <tr>\n",
        "        <td style=\"padding-left: 1em; padding-right: 1em; text-align: center; vertical-align: top\">user_000525</td>\n",
        "        <td style=\"padding-left: 1em; padding-right: 1em; text-align: center; vertical-align: top\">-1.27258396149</td>\n",
        "        <td style=\"padding-left: 1em; padding-right: 1em; text-align: center; vertical-align: top\">array('d',<br>[-1.1502838134765625, ...</td>\n",
        "    </tr>\n",
        "    <tr>\n",
        "        <td style=\"padding-left: 1em; padding-right: 1em; text-align: center; vertical-align: top\">user_000008</td>\n",
        "        <td style=\"padding-left: 1em; padding-right: 1em; text-align: center; vertical-align: top\">-0.375453799963</td>\n",
        "        <td style=\"padding-left: 1em; padding-right: 1em; text-align: center; vertical-align: top\">array('d',<br>[1.2592121362686157, ...</td>\n",
        "    </tr>\n",
        "    <tr>\n",
        "        <td style=\"padding-left: 1em; padding-right: 1em; text-align: center; vertical-align: top\">...</td>\n",
        "        <td style=\"padding-left: 1em; padding-right: 1em; text-align: center; vertical-align: top\">...</td>\n",
        "        <td style=\"padding-left: 1em; padding-right: 1em; text-align: center; vertical-align: top\">...</td>\n",
        "    </tr>\n",
        "</table>\n",
        "[336 rows x 3 columns]<br/>Note: Only the head of the SFrame is printed.<br/>You can use print_rows(num_rows=m, num_columns=n) to print more rows and columns.\n",
        "</div>"
       ],
       "metadata": {},
       "output_type": "pyout",
       "prompt_number": 379,
       "text": [
        "Columns:\n",
        "\tuser\tstr\n",
        "\tlinear_terms\tfloat\n",
        "\tfactors\tarray\n",
        "\n",
        "Rows: 336\n",
        "\n",
        "Data:\n",
        "+-------------+-----------------+--------------------------------+\n",
        "|     user    |   linear_terms  |            factors             |\n",
        "+-------------+-----------------+--------------------------------+\n",
        "| user_000503 |  2.00264811516  | array('d', [-0.36478465795 ... |\n",
        "| user_000885 | -0.113929010928 | array('d', [-1.21028709411 ... |\n",
        "| user_000085 |  1.86240434647  | array('d', [-0.30392208695 ... |\n",
        "| user_000685 |  2.11953830719  | array('d', [0.013774124905 ... |\n",
        "| user_000612 |  -2.49231529236 | array('d', [3.339631557464 ... |\n",
        "| user_000033 |  -4.29914903641 | array('d', [-1.07886528968 ... |\n",
        "| user_000709 |  2.45031523705  | array('d', [-0.40181770920 ... |\n",
        "| user_000732 |   1.3156131506  | array('d', [-0.35108292102 ... |\n",
        "| user_000525 |  -1.27258396149 | array('d', [-1.15028381347 ... |\n",
        "| user_000008 | -0.375453799963 | array('d', [1.259212136268 ... |\n",
        "|     ...     |       ...       |              ...               |\n",
        "+-------------+-----------------+--------------------------------+\n",
        "[336 rows x 3 columns]\n",
        "Note: Only the head of the SFrame is printed.\n",
        "You can use print_rows(num_rows=m, num_columns=n) to print more rows and columns."
       ]
      }
     ],
     "prompt_number": 379
    },
    {
     "cell_type": "code",
     "collapsed": false,
     "input": [
      "user_sf2 = rfr.get('coefficients')['user']\n",
      "song_sf2 = rfr.get('coefficients')['artist_song']\n",
      "user_df2 = user_sf2.to_dataframe()\n",
      "song_df2 = song_sf2.to_dataframe()"
     ],
     "language": "python",
     "metadata": {},
     "outputs": [],
     "prompt_number": 381
    },
    {
     "cell_type": "code",
     "collapsed": false,
     "input": [
      "song_df[song_df['artist_song'] == 'Depeche Mode: Wrong']"
     ],
     "language": "python",
     "metadata": {},
     "outputs": [
      {
       "html": [
        "<div style=\"max-height:1000px;max-width:1500px;overflow:auto;\">\n",
        "<table border=\"1\" class=\"dataframe\">\n",
        "  <thead>\n",
        "    <tr style=\"text-align: right;\">\n",
        "      <th></th>\n",
        "      <th>artist_song</th>\n",
        "      <th>factors</th>\n",
        "    </tr>\n",
        "  </thead>\n",
        "  <tbody>\n",
        "    <tr>\n",
        "      <th>1147</th>\n",
        "      <td> Depeche Mode: Wrong</td>\n",
        "      <td> [0.00103148934431, 1.42493972817e-05, 2.795250...</td>\n",
        "    </tr>\n",
        "  </tbody>\n",
        "</table>\n",
        "</div>"
       ],
       "metadata": {},
       "output_type": "pyout",
       "prompt_number": 382,
       "text": [
        "              artist_song                                            factors\n",
        "1147  Depeche Mode: Wrong  [0.00103148934431, 1.42493972817e-05, 2.795250..."
       ]
      }
     ],
     "prompt_number": 382
    },
    {
     "cell_type": "code",
     "collapsed": false,
     "input": [
      "metric_factors = np.array(song_df2[song_df2['artist_song'] == 'Metric: Ending Start']['factors'].values[0])\n",
      "\n",
      "train_user1_factors = np.array(user_df2[user_df2['user'] == train_user1]['factors'].values[0])\n",
      "\n",
      "np.dot(train_user1_factors , metric_factors.T)\n",
      "## does not equal the predicted - very confused"
     ],
     "language": "python",
     "metadata": {},
     "outputs": [
      {
       "metadata": {},
       "output_type": "pyout",
       "prompt_number": 386,
       "text": [
        "3.2589717191240015"
       ]
      }
     ],
     "prompt_number": 386
    },
    {
     "cell_type": "code",
     "collapsed": false,
     "input": [
      "(metric_factors*train_user1_factors).mean()"
     ],
     "language": "python",
     "metadata": {},
     "outputs": [
      {
       "metadata": {},
       "output_type": "pyout",
       "prompt_number": 389,
       "text": [
        "0.10184286622262505"
       ]
      }
     ],
     "prompt_number": 389
    },
    {
     "cell_type": "code",
     "collapsed": false,
     "input": [
      "user_000234_factors"
     ],
     "language": "python",
     "metadata": {},
     "outputs": [
      {
       "metadata": {},
       "output_type": "pyout",
       "prompt_number": 364,
       "text": [
        "array([  2.10373360e-03,   7.03212063e-05,   1.48361479e-03,\n",
        "         4.65672711e-05,   1.52825785e-03,   8.03961811e-05,\n",
        "         7.27471925e-05,   3.33251664e-05,   4.50632542e-05,\n",
        "         4.53533321e-05,   1.02293666e-03,   8.53537931e-05,\n",
        "         6.75686111e-04,   2.27434401e-04,   2.00402737e-05,\n",
        "         9.33726405e-05,   9.10201925e-05,   1.55125119e-04,\n",
        "         7.18100782e-05,   1.13167851e-04])"
       ]
      }
     ],
     "prompt_number": 364
    },
    {
     "cell_type": "code",
     "collapsed": false,
     "input": [
      "factor_songs = np.vstack(np.array(song_df2['factors'])).T\n",
      "max1 = np.argsort(factor_songs[0])[:-10:-1]\n",
      "song_df2['artist_song'][max1].values"
     ],
     "language": "python",
     "metadata": {},
     "outputs": [
      {
       "metadata": {},
       "output_type": "pyout",
       "prompt_number": 417,
       "text": [
        "array(['Social Distortion: Ball And Chain',\n",
        "       'The Killers: Somebody Told Me',\n",
        "       'Death Cab For Cutie: I Will Follow You Into The Dark',\n",
        "       'Phoenix: Too Young', 'The Postal Service: Clark Gable',\n",
        "       'Death Cab For Cutie: A Lack Of Color',\n",
        "       'The Postal Service: This Place Is A Prison',\n",
        "       'Oasis: Champagne Supernova', 'The Postal Service: Nothing Better'], dtype=object)"
       ]
      }
     ],
     "prompt_number": 417
    },
    {
     "cell_type": "code",
     "collapsed": false,
     "input": [
      "factor_top10 = r.factor_top_n(song_df2)\n",
      "for i in factor_top10:\n",
      "    print i"
     ],
     "language": "python",
     "metadata": {},
     "outputs": [
      {
       "output_type": "stream",
       "stream": "stdout",
       "text": [
        "['Social Distortion: Ball And Chain' 'The Killers: Somebody Told Me'\n",
        " 'Death Cab For Cutie: I Will Follow You Into The Dark'\n",
        " 'Phoenix: Too Young' 'The Postal Service: Clark Gable'\n",
        " 'Death Cab For Cutie: A Lack Of Color'\n",
        " 'The Postal Service: This Place Is A Prison' 'Oasis: Champagne Supernova'\n",
        " 'The Postal Service: Nothing Better']\n",
        "['Elliott Smith: Between The Bars' 'Depeche Mode: Enjoy The Silence'\n",
        " 'Amy Winehouse: Me & Mr Jones' 'Ac/Dc: Thunderstruck'\n",
        " 'Animal Collective: Leaf House' 'Depeche Mode: Freelove'\n",
        " 'Elliott Smith: Son Of Sam' 'Amy Winehouse: Rehab' 'Fettes Brot: Yasmin']\n",
        "['Coldplay: Clocks' 'A Perfect Circle: 3 Libras'\n",
        " '30 Seconds To Mars: From Yesterday' 'Afi: Kiss And Control'\n",
        " 'Audioslave: Gasoline' 'Nirvana: About A Girl' 'Coldplay: Yellow'\n",
        " 'Coldplay: The Scientist' 'Deftones: My Own Summer (Shove It)']\n",
        "['The Knife: Is It Medicine' 'The Knife: Forest Families'\n",
        " 'The Knife: Pass This On' 'Metallica: Fuel' 'The Knife: Silent Shout'\n",
        " 'The Knife: Reindeer'\n",
        " \"The Knife: We Share Our Mother'S Health (Trentem\\xc3\\xb8ller Remix)\"\n",
        " \"The Knife: Jens'S Sneaking\" 'The Knife: Heartbeats(Silent Shout Tour)']\n",
        "['David Bowie: Warszawa' 'Iron & Wine: Such Great Heights'\n",
        " 'Snow Patrol: Chasing Cars' 'John Lennon: Imagine'\n",
        " \"Stereophonics: You'Re My Star\" 'R.E.M.: Everybody Hurts'\n",
        " 'Coldplay: The Scientist' 'Iggy Pop: Lust For Life'\n",
        " \"Snow Patrol: You'Re All I Have\"]\n",
        "['Gnarls Barkley: Crazy' 'Snow Patrol: Open Your Eyes'\n",
        " 'Augustana: Wasteland' 'Aqualung: Brighter Than Sunshine'\n",
        " 'Lifehouse: You And Me' 'The Fray: Hundred'\n",
        " 'Death Cab For Cutie: Brothers On A Hotel Bed' 'The Fray: She Is'\n",
        " 'The Postal Service: Sleeping In']\n",
        "['The Killers: Somebody Told Me' \"Coldplay: Don'T Panic\"\n",
        " 'Oasis: Champagne Supernova' 'Social Distortion: Ball And Chain'\n",
        " 'The Killers: Smile Like You Mean It' 'The Killers: When You Were Young'\n",
        " 'Arcade Fire: Intervention' \"The Killers: All These Things That I'Ve Done\"\n",
        " 'Depeche Mode: Wrong']\n",
        "['The Shins: Phantom Limb' 'Death Cab For Cutie: I Will Possess Your Heart'\n",
        " 'Depeche Mode: Precious' 'Death Cab For Cutie: Soul Meets Body'\n",
        " 'David Bowie: Ashes To Ashes'\n",
        " 'Black Rebel Motorcycle Club: Weight Of The World'\n",
        " 'Radiohead: Street Spirit (Fade Out)' 'Black Rebel Motorcycle Club: Stop'\n",
        " 'Guster: Long Way Down']\n",
        "['Klaxons: Golden Skans' 'The Bravery: An Honest Mistake'\n",
        " 'Britney Spears: Piece Of Me' 'Amorphis: Weaving The Incantation'\n",
        " 'Butcher Boy: Girls Make Me Sick' 'Britney Spears: Freakshow'\n",
        " 'Loverboy: Working For The Weekend'\n",
        " 'Echo & The Bunnymen: The Killing Moon'\n",
        " 'A Smile And A Ribbon: A Nice Walk In The Park']\n",
        "['The Strokes: Last Nite' 'A-Ha: Take On Me' 'Travis: Writing To Reach You'\n",
        " 'Ash: Shining Light' 'The Feeling: Fill My Little World'\n",
        " 'The Kooks: She Moves In Her Own Way'\n",
        " '\\xe9\\x9b\\x85-Miyavi-: Senor, Senora, Senorita' 'Snow Patrol: Chocolate'\n",
        " 'Arctic Monkeys: A Certain Romance']\n",
        "['Deepest Blue: Deepest Blue' 'Chemistry: Now Or Never'\n",
        " \"L'Arc~En~Ciel: Hoshizora\"\n",
        " '\\xe6\\xa4\\x8e\\xe5\\x90\\x8d\\xe6\\x9e\\x97\\xe6\\xaa\\x8e: \\xe5\\x85\\x89\\xe5\\x90\\x88\\xe6\\x88\\x90'\n",
        " 'Last Alliance: Shissou' 'Franz Ferdinand: Ulysses' 'Los Piojos: Tan Solo'\n",
        " '\\xe5\\x9d\\x82\\xe6\\x9c\\xac\\xe7\\x9c\\x9f\\xe7\\xb6\\xbe: Dive'\n",
        " \"L'Arc~En~Ciel: Jiyuu E No Shoutai\"]\n",
        "['The Killers: Somebody Told Me' 'My Chemical Romance: Helena'\n",
        " 'Social Distortion: Ball And Chain' 'Jeff Buckley: Mojo Pin'\n",
        " 'Panic At The Disco: Lying Is The Most Fun A Girl Can Have Without Taking Her Clothes Off'\n",
        " 'Oasis: Champagne Supernova' 'Jeff Buckley: Hallelujah'\n",
        " 'My Chemical Romance: Famous Last Words' 'Sublime: New Realization']\n",
        "['Zero 7: In The Waiting Line' 'Depeche Mode: Enjoy The Silence'\n",
        " 'Cansei De Ser Sexy: Art Bitch' 'Interpol: Obstacle 1'\n",
        " 'Klaxons: The Night' 'Audioslave: Gasoline' 'Cansei De Ser Sexy: Alala'\n",
        " \"Jonas Brothers: Burnin' Up\" 'Klaxons: Four Horsemen Of 2012']\n",
        "['Nelly Furtado: Say It Right' 'The Fray: Look After You'\n",
        " 'Damien Rice: Cannonball' 'Lifehouse: You And Me'\n",
        " 'Anna Nalick: Breathe (2 Am)' 'Matchbox Twenty: Downfall'\n",
        " 'Evanescence: My Immortal' 'Maroon 5: Harder To Breathe'\n",
        " 'The Fray: How To Save A Life']\n",
        "['Asian Kung-Fu Generation: After Dark' 'Chemistry: Top Of The World'\n",
        " 'Placebo: Protect Me From What I Want'\n",
        " '\\xe9\\x96\\xa2\\xe6\\x99\\xba\\xe4\\xb8\\x80: Shourishatachi No Banka'\n",
        " 'Tool: Parabola' 'Chemistry: B.M.N.(Big Man,Now)'\n",
        " 'Chemistry: Wings Of Words (Instrumental)' 'Tool: Vicarious'\n",
        " 'T.M.Revolution: Ignited']\n",
        "['Maroon 5: Wake Up Call' 'Snow Patrol: Chasing Cars'\n",
        " 'Gary Jules: Mad World' 'Justin Timberlake: Sexyback'\n",
        " 'Britney Spears: If U Seek Amy' 'Britney Spears: The Hook Up'\n",
        " 'Britney Spears: Toy Soldier' 'Maroon 5: Sweetest Goodbye'\n",
        " 'Sugababes: About You Now']\n",
        "['The Killers: Somebody Told Me' 'The Killers: When You Were Young'\n",
        " 'Air: Playground Love' \"The Killers: All These Things That I'Ve Done\"\n",
        " 'Air: Cherry Blossom Girl' 'Arctic Monkeys: A Certain Romance'\n",
        " 'Snow Patrol: Open Your Eyes' 'Oasis: Champagne Supernova'\n",
        " 'Arcade Fire: Intervention']\n",
        "['Pantera: Cowboys From Hell' 'Mot\\xc3\\xb6rhead: Ace Of Spades'\n",
        " 'Black Rebel Motorcycle Club: Weapon Of Choice' 'Soilwork: As We Speak'\n",
        " 'Gary Jules: Mad World' 'Trio Odemira: Nostalgia Do Amor'\n",
        " 'Paradise Lost: Grey' 'Trio Odemira: Malaguena'\n",
        " 'Black Rebel Motorcycle Club: Evol']\n",
        "['The Killers: Somebody Told Me' \"Coldplay: Don'T Panic\"\n",
        " 'Oasis: Champagne Supernova' 'The Killers: Smile Like You Mean It'\n",
        " 'Social Distortion: Ball And Chain' 'Arcade Fire: Intervention'\n",
        " \"The Killers: All These Things That I'Ve Done\" 'Madonna: Hung Up'\n",
        " 'Coldplay: The Scientist']\n",
        "['Depeche Mode: Precious' \"Coldplay: Don'T Panic\" 'Coldplay: The Scientist'\n",
        " 'A-Ha: Take On Me' 'The Black Angels: Young Men Dead'\n",
        " 'Bloc Party: Positive Tension'\n",
        " \"The Killers: All These Things That I'Ve Done\"\n",
        " 'Oasis: Champagne Supernova' 'Hadouken!: Love, Sweat And Beer']\n",
        "['The Killers: Somebody Told Me' 'Oasis: Champagne Supernova'\n",
        " 'Social Distortion: Ball And Chain' 'The Killers: Smile Like You Mean It'\n",
        " 'Arcade Fire: Intervention' \"Coldplay: Don'T Panic\" 'Interpol: Obstacle 1'\n",
        " 'Sublime: New Realization' \"Red Hot Chili Peppers: Road Trippin'\"]\n",
        "['Gary Jules: Mad World' 'Fettes Brot: Yasmin'\n",
        " 'Amy Winehouse: Tears Dry On Their Own' 'Amy Winehouse: Rehab'\n",
        " 'Arcade Fire: Ocean Of Noise' 'Placebo: I Know'\n",
        " 'Amy Winehouse: Back To Black'\n",
        " 'Waylon Jennings: Are You Sure Hank Done It This Way'\n",
        " 'Fettes Brot: K\\xc3\\xb6nnen Diese Augen L\\xc3\\xbcgen']\n",
        "['The Strokes: Last Nite' 'Patrick Wolf: Teignmouth'\n",
        " 'Arctic Monkeys: A Certain Romance' 'The Knife: Heartbeats'\n",
        " 'The Killers: Somebody Told Me' 'The Kooks: She Moves In Her Own Way'\n",
        " 'Sigur R\\xc3\\xb3s: Olsen Olsen' 'Johann Pachelbel: Canon In D'\n",
        " 'Moby: Everloving']\n",
        "['The Strokes: Last Nite' 'Jeff Buckley: Hallelujah' 'Snow Patrol: Run'\n",
        " 'Ash: Shining Light' 'Travis: Writing To Reach You'\n",
        " 'The Feeling: Fill My Little World' 'Arctic Monkeys: A Certain Romance'\n",
        " 'The Killers: Read My Mind' 'The Killers: Bones']\n",
        "['Franz Ferdinand: Ulysses' 'The Strokes: Last Nite'\n",
        " 'Amy Winehouse: Tears Dry On Their Own' 'Kaiser Chiefs: Modern Way'\n",
        " 'Amorphis: Weaving The Incantation'\n",
        " '\\xe5\\xa4\\xa7\\xe8\\xb0\\xb7\\xe5\\xb9\\xb8: The Farthest Land'\n",
        " 'Elastica: Waking Up' 'Jonas Brothers: Love Is On Its Way'\n",
        " 'Keane: Better Than This']\n",
        "['My Chemical Romance: Desolation Row' 'Mirah: Recommendation'\n",
        " 'Ludacris: Nasty Girl (Feat. Plies)' 'Evanescence: My Immortal'\n",
        " 'Patrick Wolf: Wind In The Wires' 'Lou Reed: Perfect Day'\n",
        " 'Jon Brion: Phone Call' 'Ac/Dc: Anything Goes'\n",
        " 'My Chemical Romance: Welcome To The Black Parade']\n",
        "['The Postal Service: Nothing Better' 'Muse: Supermassive Black Hole'\n",
        " 'Imogen Heap: Hide And Seek' 'Mando Diao: Song For Aberdeen'\n",
        " 'Mando Diao: Tv & Me' 'Radiohead: Exit Music (For A Film)'\n",
        " 'Johnossi: Execution Song' 'Hard-Fi: Living For The Weekend'\n",
        " 'Mando Diao: Tony Zoulias (Lustful Life)']\n",
        "['The Killers: Somebody Told Me' 'Radiohead: Creep'\n",
        " 'Arcade Fire: Neighborhood #3 (Power Out)'\n",
        " 'Mando Diao: Welcome Home, Luc Robitaille'\n",
        " 'The Postal Service: Nothing Better' 'Social Distortion: Ball And Chain'\n",
        " 'Jos\\xc3\\xa9 Gonz\\xc3\\xa1lez: Heartbeats' \"Coldplay: Don'T Panic\"\n",
        " 'Yeah Yeah Yeahs: Maps']\n",
        "['Metric: Combat Baby' 'Imogen Heap: Hide And Seek'\n",
        " 'Bloc Party: Like Eating Glass' 'Queens Of The Stone Age: No One Knows'\n",
        " 'Electric Light Orchestra Part Ii: Roll Over Beethoven'\n",
        " 'Modest Mouse: Float On'\n",
        " 'Queens Of The Stone Age: Feel Good Hit Of The Summer'\n",
        " 'Enya: A Day Without Rain' 'Girl Talk: Hand Clap']\n",
        "['Paradise Lost: Grey' 'Radiohead: House Of Cards' 'Mgmt: Electric Feel'\n",
        " 'Soda Stereo: De M\\xc3\\xbasica Ligera' \"L'Arc~En~Ciel: Existence\"\n",
        " 'Operation Ivy: Artificial Life / The Crowd'\n",
        " 'Soda Stereo: En La Ciudad De La Furia'\n",
        " 'Soda Stereo: Cuando Pase El Temblor'\n",
        " 'Gorillaz: El Ma\\xc3\\xb1ana (Metronomy Remix)']\n",
        "['Mana: Dejame Entrar' 'Mana: Labios Compartidos'\n",
        " 'Rage Against The Machine: Bullet In The Head' 'Deep Purple: Highway Star'\n",
        " 'M\\xc3\\xa4go De Oz: La Leyenda De La Mancha'\n",
        " 'Rage Against The Machine: Bulls On Parade' 'Mana: Vivir Sin Aire'\n",
        " \"Guns N' Roses: Don'T Cry\" 'Mr. Bungle: Carousel']\n",
        "['The Strokes: Last Nite' 'Keane: Better Than This'\n",
        " 'Franz Ferdinand: Ulysses' 'Oasis: Falling Down' 'A-Ha: Take On Me'\n",
        " 'Arctic Monkeys: A Certain Romance' 'Ash: Shining Light'\n",
        " 'Arctic Monkeys: Fake Tales Of San Francisco'\n",
        " 'Coldplay: Cemeteries Of London']\n"
       ]
      }
     ],
     "prompt_number": 418
    },
    {
     "cell_type": "code",
     "collapsed": false,
     "input": [],
     "language": "python",
     "metadata": {},
     "outputs": [
      {
       "output_type": "stream",
       "stream": "stdout",
       "text": [
        "[2995  714  112 3482  362 1374 1234 1389  827]\n",
        "[2995 6300  714  112 1234  572 3870  362  345]\n",
        "[2995  112  714 3482  362 5862 3872 1374  827]\n",
        "[2995 1234  714  112 6377 5568 5929 1374 4277]\n",
        "[2995  714  112 1389  362 5862 3482 1374 3277]\n",
        "[2995 1389  714  112 5862 1045 3482  362 1374]\n",
        "[2995  112  714 6300 1269 3482  572  362 1374]\n",
        "[2995 6104 3659  112 4965 5505 2701 4368 4517]\n",
        "[2995 3872  112  714 3870 3659 6377 2801 6134]\n",
        "[2995 3482  112 3691  714 1045 2694 2081 5550]\n",
        "[2995  112  714 3870 1085 3482  362  294 1374]\n",
        "[2995  112  714 1389 3779  362 3482  294 1374]\n",
        "[2995  714  112 6300  294 3872  543  144 1437]\n",
        "[2995  112  714 3482  362 1374 1234  827 1389]\n",
        "[2995 1045 3641 3811 3901 6228 2245 3166 3554]\n",
        "[2995  714  112 3925 3482 4840  362 1068 3691]\n",
        "[2995  112  714 1374 1389 3482  362 1045 1234]\n",
        "[2995  714  112 1374  362 3482 1234  827 3277]\n",
        "[2995  112  714  362 3482 1416 1234 1374 1045]\n",
        "[2995 1234  714  112 1144  362 3482 1389 1374]\n"
       ]
      }
     ],
     "prompt_number": 414
    },
    {
     "cell_type": "code",
     "collapsed": false,
     "input": [
      "song_df2.ix[0]['linear_terms']"
     ],
     "language": "python",
     "metadata": {},
     "outputs": [
      {
       "metadata": {},
       "output_type": "pyout",
       "prompt_number": 424,
       "text": [
        "0.30465900897979736"
       ]
      }
     ],
     "prompt_number": 424
    },
    {
     "cell_type": "code",
     "collapsed": false,
     "input": [
      "np.array(song_df2.ix[0]['factors'])"
     ],
     "language": "python",
     "metadata": {},
     "outputs": [
      {
       "metadata": {},
       "output_type": "pyout",
       "prompt_number": 433,
       "text": [
        "array([-0.15631525,  0.05443075,  0.18955156, -0.02578404,  0.02761626,\n",
        "       -0.36059961, -0.14944173,  0.07178468, -0.04023665, -0.22911781,\n",
        "       -0.07382348, -0.10169198, -0.07492846, -0.09070352,  0.16967651,\n",
        "       -0.13513836, -0.01637986,  0.01177237,  0.13797103, -0.00765788,\n",
        "        0.09190302,  0.00350382,  0.26856908,  0.06851408, -0.04121926,\n",
        "        0.01935741,  0.06615803, -0.18493779,  0.05839079, -0.0556682 ,\n",
        "        0.09146996, -0.03511896])"
       ]
      }
     ],
     "prompt_number": 433
    },
    {
     "cell_type": "code",
     "collapsed": false,
     "input": [
      "np.array(song_df2.ix[0]['factors'])*song_df2.ix[0]['linear_terms']"
     ],
     "language": "python",
     "metadata": {},
     "outputs": [
      {
       "metadata": {},
       "output_type": "pyout",
       "prompt_number": 435,
       "text": [
        "array([-0.04762285,  0.01658282,  0.05774859, -0.00785534,  0.00841354,\n",
        "       -0.10985992, -0.04552877,  0.02186985, -0.01225846, -0.06980281,\n",
        "       -0.02249099, -0.03098138, -0.02282763, -0.02763364,  0.05169348,\n",
        "       -0.04117112, -0.00499027,  0.00358656,  0.04203412, -0.00233304,\n",
        "        0.02799908,  0.00106747,  0.08182199,  0.02087343, -0.01255782,\n",
        "        0.00589741,  0.02015564, -0.05634296,  0.01778928, -0.01695982,\n",
        "        0.02786715, -0.01069931])"
       ]
      }
     ],
     "prompt_number": 435
    },
    {
     "cell_type": "code",
     "collapsed": false,
     "input": [
      "song_df2['factor_array'] = song_df2['factors'].apply(lambda x: np.array(x))"
     ],
     "language": "python",
     "metadata": {},
     "outputs": [],
     "prompt_number": 440
    },
    {
     "cell_type": "code",
     "collapsed": false,
     "input": [
      "song_df2.ix[0]['factor_array']*song_df2.ix[0]['linear_terms']"
     ],
     "language": "python",
     "metadata": {},
     "outputs": [
      {
       "metadata": {},
       "output_type": "pyout",
       "prompt_number": 443,
       "text": [
        "array([-0.04762285,  0.01658282,  0.05774859, -0.00785534,  0.00841354,\n",
        "       -0.10985992, -0.04552877,  0.02186985, -0.01225846, -0.06980281,\n",
        "       -0.02249099, -0.03098138, -0.02282763, -0.02763364,  0.05169348,\n",
        "       -0.04117112, -0.00499027,  0.00358656,  0.04203412, -0.00233304,\n",
        "        0.02799908,  0.00106747,  0.08182199,  0.02087343, -0.01255782,\n",
        "        0.00589741,  0.02015564, -0.05634296,  0.01778928, -0.01695982,\n",
        "        0.02786715, -0.01069931])"
       ]
      }
     ],
     "prompt_number": 443
    },
    {
     "cell_type": "code",
     "collapsed": false,
     "input": [
      "song_df2['recalculated_factors'] = song_df2['factor_array']*song_df2['linear_terms']"
     ],
     "language": "python",
     "metadata": {},
     "outputs": [],
     "prompt_number": 444
    },
    {
     "cell_type": "code",
     "collapsed": false,
     "input": [
      "for i in r.factor_top_n(song_df2, factor_col = 'recalculated_factors'):\n",
      "    print i"
     ],
     "language": "python",
     "metadata": {},
     "outputs": [
      {
       "output_type": "stream",
       "stream": "stdout",
       "text": [
        "['Death Cab For Cutie: Soul Meets Body' 'Depeche Mode: Wrong'\n",
        " 'Elliott Smith: Needle In The Hay' 'Metallica: Fuel' 'Phoenix: Too Young'\n",
        " 'Zero 7: In The Waiting Line' 'The Postal Service: Such Great Heights'\n",
        " 'Minus The Bear: Pachuca Sunrise' 'Imogen Heap: Hide And Seek']\n",
        "['Elliott Smith: Between The Bars' 'Depeche Mode: Enjoy The Silence'\n",
        " 'Depeche Mode: Wrong' 'Rihanna: Disturbia' 'Amy Winehouse: Me & Mr Jones'\n",
        " 'Amy Winehouse: Wake Up Alone' 'Imogen Heap: Hide And Seek'\n",
        " 'Mika: Grace Kelly' 'Paramore: Pressure']\n",
        "['A Perfect Circle: 3 Libras' '30 Seconds To Mars: From Yesterday'\n",
        " 'The Red Jumpsuit Apparatus: Your Guardian Angel'\n",
        " 'Coldplay: The Scientist' 'The Goo Goo Dolls: Iris'\n",
        " 'Zero 7: In The Waiting Line' 'The Gathering: Amity'\n",
        " 'Nine Inch Nails: 1 Ghosts I' 'Depeche Mode: Enjoy The Silence']\n",
        "['Metallica: Fuel' 'The Knife: Pass This On' 'The Knife: Is It Medicine'\n",
        " 'Echo & The Bunnymen: In Bluer Skies' 'Depeche Mode: Precious'\n",
        " 'A-Ha: Take On Me' 'New Young Pony Club: Ice Cream'\n",
        " \"Guns N' Roses: Attitude\" 'Gary Jules: Mad World']\n",
        "['Coldplay: The Scientist' 'Depeche Mode: Enjoy The Silence'\n",
        " 'Katy Perry: I Kissed A Girl'\n",
        " 'Between The Buried And Me: Selkies: The Endless Obsession'\n",
        " 'Snow Patrol: Chasing Cars' 'Tool: The Pot' 'Mgmt: Electric Feel'\n",
        " 'Tool: Jambi' \"Christian Death: Romeo'S Distress\"]\n",
        "['Black Rebel Motorcycle Club: Howl' 'Muse: Starlight'\n",
        " \"Red Hot Chili Peppers: Road Trippin'\" \"Joy Division: She'S Lost Control\"\n",
        " 'The Killers: When You Were Young'\n",
        " 'Band Of Horses: I Go To The Barn Because I Like The' 'Mika: Grace Kelly'\n",
        " 'Phoenix: North' 'Imogen Heap: Hide And Seek']\n",
        "['Depeche Mode: Wrong' 'The Killers: When You Were Young'\n",
        " 'Death Cab For Cutie: Soul Meets Body' 'Muse: Time Is Running Out'\n",
        " \"Coldplay: Don'T Panic\" \"Red Hot Chili Peppers: Road Trippin'\"\n",
        " 'Radiohead: 15 Step' 'The Killers: Read My Mind' 'Lady Gaga: Poker Face']\n",
        "['Death Cab For Cutie: Soul Meets Body' 'Muse: Starlight'\n",
        " 'Depeche Mode: Precious' 'Sigur R\\xc3\\xb3s: Untitled 4'\n",
        " 'Interpol: Obstacle 1' 'Metric: Poster Of A Girl'\n",
        " 'Depeche Mode: Personal Jesus'\n",
        " 'Black Rebel Motorcycle Club: Weight Of The World' 'Metric: Combat Baby']\n",
        "['Klaxons: Golden Skans' 'Depeche Mode: Personal Jesus'\n",
        " 'Sigur R\\xc3\\xb3s: Untitled 4' 'Mystery Jets: Young Love'\n",
        " 'The Smiths: There Is A Light That Never Goes Out' 'Animosity: Plutocracy'\n",
        " 'Porcupine Tree: Trains' 'Ayria: Beta Complex'\n",
        " 'The Smiths: Vicar In A Tutu']\n",
        "['Death Cab For Cutie: Soul Meets Body'\n",
        " 'Between The Buried And Me: Selkies: The Endless Obsession'\n",
        " '\\xe9\\x9b\\x85-Miyavi-: Senor, Senora, Senorita' 'Chemistry: We Are One'\n",
        " 'Katy Perry: I Kissed A Girl' 'Radiohead: 15 Step'\n",
        " 'The Red Jumpsuit Apparatus: Your Guardian Angel' 'Radiohead: Reckoner'\n",
        " 'Bloc Party: Positive Tension']\n",
        "['Damien Rice: Cannonball' 'Deepest Blue: Deepest Blue'\n",
        " 'Black Rebel Motorcycle Club: Spread Your Love'\n",
        " \"Damien Rice: The Blower'S Daughter\" 'Katy Perry: I Kissed A Girl'\n",
        " \"Wolf Parade: I'Ll Believe In Anything\" 'Morrissey: Let Me Kiss You'\n",
        " 'Goldfrapp: Utopia'\n",
        " 'Pearl Jam: Elderly Woman Behind The Counter In A Small Town']\n",
        "['Sigur R\\xc3\\xb3s: Untitled 4' 'Depeche Mode: Wrong'\n",
        " 'Muse: Time Is Running Out' 'The Killers: When You Were Young'\n",
        " 'The Ting Tings: Shut Up And Let Me Go'\n",
        " 'Madonna: 4 Minutes (Feat. Justin Timberlake)' 'Interpol: Slow Hands'\n",
        " 'Madonna: Hung Up' 'Amorphis: A Servant']\n",
        "['Zero 7: In The Waiting Line' 'Ash: Shining Light'\n",
        " 'Depeche Mode: Enjoy The Silence' 'Klaxons: Golden Skans'\n",
        " \"Klaxons: Gravity'S Rainbow\" '[Unknown]\\t: Pista 17'\n",
        " 'Ellen Allien & Apparat: Way Out' 'Interpol: Obstacle 1' 'Metallica: Fuel']\n",
        "['Death Cab For Cutie: Soul Meets Body' 'Damien Rice: Cannonball'\n",
        " 'Imogen Heap: Hide And Seek'\n",
        " 'Between The Buried And Me: Selkies: The Endless Obsession'\n",
        " 'Madonna: 4 Minutes (Feat. Justin Timberlake)'\n",
        " \"Red Hot Chili Peppers: Road Trippin'\" 'Lady Gaga: Poker Face'\n",
        " 'The Ting Tings: Shut Up And Let Me Go' 'Mika: Grace Kelly']\n",
        "['Interpol: Nyc' 'Black Rebel Motorcycle Club: Spread Your Love'\n",
        " 'Fightstar: Paint Your Target' 'Damien Rice: Cannonball'\n",
        " 'Band Of Horses: The Funeral' 'The Prodigy: Omen'\n",
        " 'Placebo: Protect Me From What I Want' 'Placebo: Song To Say Goodbye'\n",
        " 'Placebo: Drag']\n",
        "['Madonna: 4 Minutes (Feat. Justin Timberlake)' 'Snow Patrol: Chasing Cars'\n",
        " 'Imogen Heap: Hide And Seek' 'Del Shannon: Runaway'\n",
        " 'Gary Jules: Mad World' 'Death Cab For Cutie: Soul Meets Body'\n",
        " 'Depeche Mode: Wrong' 'Maroon 5: Wake Up Call'\n",
        " 'Beyonc\\xc3\\xa9: Woman Like Me']\n",
        "['Muse: Starlight' 'The Killers: When You Were Young'\n",
        " 'Death Cab For Cutie: Soul Meets Body' 'The Killers: Read My Mind'\n",
        " 'Interpol: Slow Hands' 'Mgmt: Electric Feel'\n",
        " 'Depeche Mode: Enjoy The Silence' 'Lady Gaga: Poker Face'\n",
        " 'Sigur R\\xc3\\xb3s: Untitled 4']\n",
        "['Damien Rice: Cannonball' 'Pantera: Cowboys From Hell'\n",
        " 'Fightstar: Paint Your Target' '[Unknown]\\t: Pista 17'\n",
        " 'Boy Division: Love Will Tear Us Apart' 'Gary Jules: Mad World'\n",
        " \"Bauhaus: She'S In Parties\" 'Mystery Jets: Young Love'\n",
        " 'The Smiths: The Boy With The Thorn In His Side']\n",
        "['Sigur R\\xc3\\xb3s: Untitled 4' \"Coldplay: Don'T Panic\" 'Madonna: Hung Up'\n",
        " 'Coldplay: The Scientist' 'Oasis: Champagne Supernova'\n",
        " 'Operation Ivy: Artificial Life / The Crowd' 'Depeche Mode: Wrong'\n",
        " 'Rancid: Antennas' 'Operation Ivy: Sound System - Popdrop.Ru']\n",
        "['Depeche Mode: Precious' 'Depeche Mode: Wrong' 'Coldplay: The Scientist'\n",
        " 'Franz Ferdinand: Jacqueline' 'Muse: Time Is Running Out'\n",
        " 'Between The Buried And Me: Selkies: The Endless Obsession'\n",
        " 'Bloc Party: Positive Tension' 'Boy Division: Love Will Tear Us Apart'\n",
        " 'Black Rebel Motorcycle Club: Spread Your Love']\n",
        "[\"Red Hot Chili Peppers: Road Trippin'\" 'Interpol: Nyc'\n",
        " 'Elliott Smith: Needle In The Hay'\n",
        " 'The Postal Service: Such Great Heights'\n",
        " 'Death Cab For Cutie: Soul Meets Body' 'Metric: Combat Baby'\n",
        " 'Interpol: Obstacle 1' 'Damien Rice: Cannonball' 'Interpol: Slow Hands']\n",
        "['Arcade Fire: Ocean Of Noise' 'Gary Jules: Mad World'\n",
        " 'Amy Winehouse: Back To Black' 'Katy Perry: I Kissed A Girl'\n",
        " 'Black Rebel Motorcycle Club: Spread Your Love'\n",
        " \"Christian Death: Romeo'S Distress\" 'Depeche Mode: Enjoy The Silence'\n",
        " 'Depeche Mode: Wrong' 'Amy Winehouse: Tears Dry On Their Own']\n",
        "['Sigur R\\xc3\\xb3s: Untitled 4' 'Muse: Starlight'\n",
        " 'Katy Perry: I Kissed A Girl' 'Franco Battiato: La Cura'\n",
        " 'Interpol: Slow Hands' 'The Knife: Pass This On'\n",
        " 'Imogen Heap: Hide And Seek' \"Red Hot Chili Peppers: Road Trippin'\"\n",
        " 'Michael Jackson: Jam']\n",
        "['Mika: Grace Kelly' 'The Killers: Read My Mind'\n",
        " 'Imogen Heap: Hide And Seek' 'The Killers: When You Were Young'\n",
        " 'Katy Perry: I Kissed A Girl' 'The Killers: Bones'\n",
        " 'Pantera: Cowboys From Hell' \"Red Hot Chili Peppers: Road Trippin'\"\n",
        " 'The Fratellis: Chelsea Dagger']\n",
        "['Depeche Mode: Wrong' 'Mystery Jets: Young Love'\n",
        " 'Elliott Smith: Between The Bars' 'Amy Winehouse: Tears Dry On Their Own'\n",
        " \"Christian Death: Romeo'S Distress\" 'Amy Winehouse: Wake Up Alone'\n",
        " 'Katy Perry: I Kissed A Girl' 'Franco Battiato: La Cura'\n",
        " 'Ayria: Beta Complex']\n",
        "['Depeche Mode: Wrong' 'Patrick Wolf: Wind In The Wires'\n",
        " 'Paramore: Pressure' 'Sigur R\\xc3\\xb3s: S\\xc3\\xa6gl\\xc3\\xb3pur'\n",
        " 'Metro Station: Shake It' 'Metallica: Fuel' 'Fightstar: Paint Your Target'\n",
        " 'Interpol: Slow Hands' 'Sigur R\\xc3\\xb3s: Heys\\xc3\\xa1tan']\n",
        "['Imogen Heap: Hide And Seek' 'Muse: Supermassive Black Hole'\n",
        " 'Arcade Fire: Black Wave/Bad Vibrations' 'The Fray: How To Save A Life'\n",
        " 'Mika: Grace Kelly' 'Snow Patrol: Chasing Cars' 'Rome: Wilde Lager'\n",
        " 'The Postal Service: Such Great Heights' 'Depeche Mode: Enjoy The Silence']\n",
        "['Death Cab For Cutie: Soul Meets Body' 'Sigur R\\xc3\\xb3s: Untitled 4'\n",
        " 'Interpol: Slow Hands' 'Keane: Somewhere Only We Know'\n",
        " 'The Smiths: The Boy With The Thorn In His Side' 'Yeah Yeah Yeahs: Maps'\n",
        " 'Mindless Self Indulgence: Shut Me Up' 'Patrick Wolf: Wind In The Wires'\n",
        " 'Joy Division: Atmosphere']\n",
        "['Metric: Combat Baby' 'Imogen Heap: Hide And Seek' 'Muse: Starlight'\n",
        " 'Radiohead: Reckoner' 'Interpol: Slow Hands'\n",
        " 'Elliott Smith: Between The Bars' 'Elliott Smith: Needle In The Hay'\n",
        " 'Fleet Foxes: Tiger Mountain Peasant Song'\n",
        " 'The Ting Tings: Shut Up And Let Me Go']\n",
        "['Mgmt: Electric Feel' 'Muse: Starlight'\n",
        " 'Death Cab For Cutie: Soul Meets Body' 'Depeche Mode: Precious'\n",
        " \"Christian Death: Romeo'S Distress\" 'Deepest Blue: Deepest Blue'\n",
        " 'Muse: Map Of The Problematique' 'Mika: Grace Kelly'\n",
        " \"Bauhaus: She'S In Parties\"]\n",
        "['Ash: Shining Light' 'Ellen Allien & Apparat: Way Out'\n",
        " 'Travis: Writing To Reach You' \"Bauhaus: She'S In Parties\"\n",
        " 'A-Ha: Take On Me' 'Radiohead: Weird Fishes/Arpeggi'\n",
        " 'Bill Withers: Lean On Me' 'Zero 7: In The Waiting Line'\n",
        " 'Snow Patrol: Set Down Your Glass']\n",
        "['Depeche Mode: Wrong' 'Mika: Grace Kelly' 'Muse: Starlight'\n",
        " 'Imogen Heap: Hide And Seek' 'Mgmt: Electric Feel'\n",
        " 'Coldplay: The Scientist' 'The Ting Tings: Shut Up And Let Me Go'\n",
        " 'The Killers: When You Were Young' 'Keane: Bedshaped']\n"
       ]
      }
     ],
     "prompt_number": 446
    },
    {
     "cell_type": "code",
     "collapsed": false,
     "input": [],
     "language": "python",
     "metadata": {},
     "outputs": []
    },
    {
     "cell_type": "code",
     "collapsed": false,
     "input": [],
     "language": "python",
     "metadata": {},
     "outputs": []
    },
    {
     "cell_type": "code",
     "collapsed": false,
     "input": [],
     "language": "python",
     "metadata": {},
     "outputs": []
    },
    {
     "cell_type": "code",
     "collapsed": false,
     "input": [],
     "language": "python",
     "metadata": {},
     "outputs": []
    },
    {
     "cell_type": "markdown",
     "metadata": {},
     "source": [
      "### nth times the charm"
     ]
    },
    {
     "cell_type": "code",
     "collapsed": false,
     "input": [
      "r.normalize_by_column(smaller_norm, 'artist_song', 'Count', col_to_norm = 'Count')"
     ],
     "language": "python",
     "metadata": {},
     "outputs": [
      {
       "output_type": "stream",
       "stream": "stdout",
       "text": [
        "48.1765810895\n"
       ]
      },
      {
       "html": [
        "<div style=\"max-height:1000px;max-width:1500px;overflow:auto;\"><table frame=\"box\" rules=\"cols\">\n",
        "    <tr>\n",
        "        <th style=\"padding-left: 1em; padding-right: 1em; text-align: center\">artist</th>\n",
        "        <th style=\"padding-left: 1em; padding-right: 1em; text-align: center\">song</th>\n",
        "        <th style=\"padding-left: 1em; padding-right: 1em; text-align: center\">user</th>\n",
        "        <th style=\"padding-left: 1em; padding-right: 1em; text-align: center\">Count</th>\n",
        "        <th style=\"padding-left: 1em; padding-right: 1em; text-align: center\">artist_song</th>\n",
        "        <th style=\"padding-left: 1em; padding-right: 1em; text-align: center\">total_cnt</th>\n",
        "    </tr>\n",
        "    <tr>\n",
        "        <td style=\"padding-left: 1em; padding-right: 1em; text-align: center; vertical-align: top\">Richard Swift</td>\n",
        "        <td style=\"padding-left: 1em; padding-right: 1em; text-align: center; vertical-align: top\">Artist &amp; Repertoire</td>\n",
        "        <td style=\"padding-left: 1em; padding-right: 1em; text-align: center; vertical-align: top\">user_000234</td>\n",
        "        <td style=\"padding-left: 1em; padding-right: 1em; text-align: center; vertical-align: top\">39</td>\n",
        "        <td style=\"padding-left: 1em; padding-right: 1em; text-align: center; vertical-align: top\">Richard Swift: Artist &amp;<br>Repertoire</td>\n",
        "        <td style=\"padding-left: 1em; padding-right: 1em; text-align: center; vertical-align: top\">7248</td>\n",
        "    </tr>\n",
        "    <tr>\n",
        "        <td style=\"padding-left: 1em; padding-right: 1em; text-align: center; vertical-align: top\">The Frames</td>\n",
        "        <td style=\"padding-left: 1em; padding-right: 1em; text-align: center; vertical-align: top\">What Happens When The<br>Heart Just Stops</td>\n",
        "        <td style=\"padding-left: 1em; padding-right: 1em; text-align: center; vertical-align: top\">user_000503</td>\n",
        "        <td style=\"padding-left: 1em; padding-right: 1em; text-align: center; vertical-align: top\">33</td>\n",
        "        <td style=\"padding-left: 1em; padding-right: 1em; text-align: center; vertical-align: top\">The Frames: What Happens<br>When The Heart Just S ...</td>\n",
        "        <td style=\"padding-left: 1em; padding-right: 1em; text-align: center; vertical-align: top\">13872</td>\n",
        "    </tr>\n",
        "    <tr>\n",
        "        <td style=\"padding-left: 1em; padding-right: 1em; text-align: center; vertical-align: top\">Jakalope</td>\n",
        "        <td style=\"padding-left: 1em; padding-right: 1em; text-align: center; vertical-align: top\">Nothing Nowhere</td>\n",
        "        <td style=\"padding-left: 1em; padding-right: 1em; text-align: center; vertical-align: top\">user_000885</td>\n",
        "        <td style=\"padding-left: 1em; padding-right: 1em; text-align: center; vertical-align: top\">33</td>\n",
        "        <td style=\"padding-left: 1em; padding-right: 1em; text-align: center; vertical-align: top\">Jakalope: Nothing Nowhere</td>\n",
        "        <td style=\"padding-left: 1em; padding-right: 1em; text-align: center; vertical-align: top\">15233</td>\n",
        "    </tr>\n",
        "    <tr>\n",
        "        <td style=\"padding-left: 1em; padding-right: 1em; text-align: center; vertical-align: top\">Strike Anywhere</td>\n",
        "        <td style=\"padding-left: 1em; padding-right: 1em; text-align: center; vertical-align: top\">You'Re Fired</td>\n",
        "        <td style=\"padding-left: 1em; padding-right: 1em; text-align: center; vertical-align: top\">user_000085</td>\n",
        "        <td style=\"padding-left: 1em; padding-right: 1em; text-align: center; vertical-align: top\">37</td>\n",
        "        <td style=\"padding-left: 1em; padding-right: 1em; text-align: center; vertical-align: top\">Strike Anywhere: You'Re<br>Fired</td>\n",
        "        <td style=\"padding-left: 1em; padding-right: 1em; text-align: center; vertical-align: top\">4433</td>\n",
        "    </tr>\n",
        "    <tr>\n",
        "        <td style=\"padding-left: 1em; padding-right: 1em; text-align: center; vertical-align: top\">Enigma</td>\n",
        "        <td style=\"padding-left: 1em; padding-right: 1em; text-align: center; vertical-align: top\">T.N.T. For The Brain</td>\n",
        "        <td style=\"padding-left: 1em; padding-right: 1em; text-align: center; vertical-align: top\">user_000612</td>\n",
        "        <td style=\"padding-left: 1em; padding-right: 1em; text-align: center; vertical-align: top\">30</td>\n",
        "        <td style=\"padding-left: 1em; padding-right: 1em; text-align: center; vertical-align: top\">Enigma: T.N.T. For The<br>Brain</td>\n",
        "        <td style=\"padding-left: 1em; padding-right: 1em; text-align: center; vertical-align: top\">24005</td>\n",
        "    </tr>\n",
        "    <tr>\n",
        "        <td style=\"padding-left: 1em; padding-right: 1em; text-align: center; vertical-align: top\">Jessy Greene</td>\n",
        "        <td style=\"padding-left: 1em; padding-right: 1em; text-align: center; vertical-align: top\">Time Bomb</td>\n",
        "        <td style=\"padding-left: 1em; padding-right: 1em; text-align: center; vertical-align: top\">user_000008</td>\n",
        "        <td style=\"padding-left: 1em; padding-right: 1em; text-align: center; vertical-align: top\">49</td>\n",
        "        <td style=\"padding-left: 1em; padding-right: 1em; text-align: center; vertical-align: top\">Jessy Greene: Time Bomb</td>\n",
        "        <td style=\"padding-left: 1em; padding-right: 1em; text-align: center; vertical-align: top\">11210</td>\n",
        "    </tr>\n",
        "    <tr>\n",
        "        <td style=\"padding-left: 1em; padding-right: 1em; text-align: center; vertical-align: top\">Field Mob</td>\n",
        "        <td style=\"padding-left: 1em; padding-right: 1em; text-align: center; vertical-align: top\">At The Park</td>\n",
        "        <td style=\"padding-left: 1em; padding-right: 1em; text-align: center; vertical-align: top\">user_000685</td>\n",
        "        <td style=\"padding-left: 1em; padding-right: 1em; text-align: center; vertical-align: top\">43</td>\n",
        "        <td style=\"padding-left: 1em; padding-right: 1em; text-align: center; vertical-align: top\">Field Mob: At The Park</td>\n",
        "        <td style=\"padding-left: 1em; padding-right: 1em; text-align: center; vertical-align: top\">25250</td>\n",
        "    </tr>\n",
        "    <tr>\n",
        "        <td style=\"padding-left: 1em; padding-right: 1em; text-align: center; vertical-align: top\">Hocico</td>\n",
        "        <td style=\"padding-left: 1em; padding-right: 1em; text-align: center; vertical-align: top\">About A Dead</td>\n",
        "        <td style=\"padding-left: 1em; padding-right: 1em; text-align: center; vertical-align: top\">user_000612</td>\n",
        "        <td style=\"padding-left: 1em; padding-right: 1em; text-align: center; vertical-align: top\">44</td>\n",
        "        <td style=\"padding-left: 1em; padding-right: 1em; text-align: center; vertical-align: top\">Hocico: About A Dead</td>\n",
        "        <td style=\"padding-left: 1em; padding-right: 1em; text-align: center; vertical-align: top\">24005</td>\n",
        "    </tr>\n",
        "    <tr>\n",
        "        <td style=\"padding-left: 1em; padding-right: 1em; text-align: center; vertical-align: top\">\\xe3\\x83\\xa0\\xe3\\x83\\x83\\<br>xe3\\x82\\xaf</td>\n",
        "        <td style=\"padding-left: 1em; padding-right: 1em; text-align: center; vertical-align: top\">Saishuu Ressha</td>\n",
        "        <td style=\"padding-left: 1em; padding-right: 1em; text-align: center; vertical-align: top\">user_000033</td>\n",
        "        <td style=\"padding-left: 1em; padding-right: 1em; text-align: center; vertical-align: top\">50</td>\n",
        "        <td style=\"padding-left: 1em; padding-right: 1em; text-align: center; vertical-align: top\">\\xe3\\x83\\xa0\\xe3\\x83\\x83\\<br>xe3\\x82\\xaf: Saishuu ...</td>\n",
        "        <td style=\"padding-left: 1em; padding-right: 1em; text-align: center; vertical-align: top\">28807</td>\n",
        "    </tr>\n",
        "    <tr>\n",
        "        <td style=\"padding-left: 1em; padding-right: 1em; text-align: center; vertical-align: top\">The Goo Goo Dolls</td>\n",
        "        <td style=\"padding-left: 1em; padding-right: 1em; text-align: center; vertical-align: top\">Iris</td>\n",
        "        <td style=\"padding-left: 1em; padding-right: 1em; text-align: center; vertical-align: top\">user_000709</td>\n",
        "        <td style=\"padding-left: 1em; padding-right: 1em; text-align: center; vertical-align: top\">27</td>\n",
        "        <td style=\"padding-left: 1em; padding-right: 1em; text-align: center; vertical-align: top\">The Goo Goo Dolls: Iris</td>\n",
        "        <td style=\"padding-left: 1em; padding-right: 1em; text-align: center; vertical-align: top\">28058</td>\n",
        "    </tr>\n",
        "</table>\n",
        "<table frame=\"box\" rules=\"cols\">\n",
        "    <tr>\n",
        "        <th style=\"padding-left: 1em; padding-right: 1em; text-align: center\">norm</th>\n",
        "        <th style=\"padding-left: 1em; padding-right: 1em; text-align: center\">norm_artist_song</th>\n",
        "    </tr>\n",
        "    <tr>\n",
        "        <td style=\"padding-left: 1em; padding-right: 1em; text-align: center; vertical-align: top\">0.00538079470199</td>\n",
        "        <td style=\"padding-left: 1em; padding-right: 1em; text-align: center; vertical-align: top\">0.00538079470199</td>\n",
        "    </tr>\n",
        "    <tr>\n",
        "        <td style=\"padding-left: 1em; padding-right: 1em; text-align: center; vertical-align: top\">0.00237889273356</td>\n",
        "        <td style=\"padding-left: 1em; padding-right: 1em; text-align: center; vertical-align: top\">0.00237889273356</td>\n",
        "    </tr>\n",
        "    <tr>\n",
        "        <td style=\"padding-left: 1em; padding-right: 1em; text-align: center; vertical-align: top\">0.00216634937307</td>\n",
        "        <td style=\"padding-left: 1em; padding-right: 1em; text-align: center; vertical-align: top\">0.00216634937307</td>\n",
        "    </tr>\n",
        "    <tr>\n",
        "        <td style=\"padding-left: 1em; padding-right: 1em; text-align: center; vertical-align: top\">0.00834649221746</td>\n",
        "        <td style=\"padding-left: 1em; padding-right: 1em; text-align: center; vertical-align: top\">0.00834649221746</td>\n",
        "    </tr>\n",
        "    <tr>\n",
        "        <td style=\"padding-left: 1em; padding-right: 1em; text-align: center; vertical-align: top\">0.00124973963758</td>\n",
        "        <td style=\"padding-left: 1em; padding-right: 1em; text-align: center; vertical-align: top\">0.00124973963758</td>\n",
        "    </tr>\n",
        "    <tr>\n",
        "        <td style=\"padding-left: 1em; padding-right: 1em; text-align: center; vertical-align: top\">0.00437109723461</td>\n",
        "        <td style=\"padding-left: 1em; padding-right: 1em; text-align: center; vertical-align: top\">0.00437109723461</td>\n",
        "    </tr>\n",
        "    <tr>\n",
        "        <td style=\"padding-left: 1em; padding-right: 1em; text-align: center; vertical-align: top\">0.00170297029703</td>\n",
        "        <td style=\"padding-left: 1em; padding-right: 1em; text-align: center; vertical-align: top\">0.00170297029703</td>\n",
        "    </tr>\n",
        "    <tr>\n",
        "        <td style=\"padding-left: 1em; padding-right: 1em; text-align: center; vertical-align: top\">0.00183295146844</td>\n",
        "        <td style=\"padding-left: 1em; padding-right: 1em; text-align: center; vertical-align: top\">0.00183295146844</td>\n",
        "    </tr>\n",
        "    <tr>\n",
        "        <td style=\"padding-left: 1em; padding-right: 1em; text-align: center; vertical-align: top\">0.0017356892422</td>\n",
        "        <td style=\"padding-left: 1em; padding-right: 1em; text-align: center; vertical-align: top\">0.0017356892422</td>\n",
        "    </tr>\n",
        "    <tr>\n",
        "        <td style=\"padding-left: 1em; padding-right: 1em; text-align: center; vertical-align: top\">0.000962292394326</td>\n",
        "        <td style=\"padding-left: 1em; padding-right: 1em; text-align: center; vertical-align: top\">0.000962292394326</td>\n",
        "    </tr>\n",
        "    <tr>\n",
        "        <td style=\"padding-left: 1em; padding-right: 1em; text-align: center; vertical-align: top\">...</td>\n",
        "        <td style=\"padding-left: 1em; padding-right: 1em; text-align: center; vertical-align: top\">...</td>\n",
        "    </tr>\n",
        "</table>\n",
        "[8989 rows x 8 columns]<br/>Note: Only the head of the SFrame is printed.<br/>You can use print_rows(num_rows=m, num_columns=n) to print more rows and columns.\n",
        "</div>"
       ],
       "metadata": {},
       "output_type": "pyout",
       "prompt_number": 451,
       "text": [
        "Columns:\n",
        "\tartist\tstr\n",
        "\tsong\tstr\n",
        "\tuser\tstr\n",
        "\tCount\tint\n",
        "\tartist_song\tstr\n",
        "\ttotal_cnt\tint\n",
        "\tnorm\tfloat\n",
        "\tnorm_artist_song\tfloat\n",
        "\n",
        "Rows: 8989\n",
        "\n",
        "Data:\n",
        "+--------------------------------+--------------------------------+-------------+\n",
        "|             artist             |              song              |     user    |\n",
        "+--------------------------------+--------------------------------+-------------+\n",
        "|         Richard Swift          |      Artist & Repertoire       | user_000234 |\n",
        "|           The Frames           | What Happens When The Hear ... | user_000503 |\n",
        "|            Jakalope            |        Nothing Nowhere         | user_000885 |\n",
        "|        Strike Anywhere         |          You'Re Fired          | user_000085 |\n",
        "|             Enigma             |      T.N.T. For The Brain      | user_000612 |\n",
        "|          Jessy Greene          |           Time Bomb            | user_000008 |\n",
        "|           Field Mob            |          At The Park           | user_000685 |\n",
        "|             Hocico             |          About A Dead          | user_000612 |\n",
        "| \\xe3\\x83\\xa0\\xe3\\x83\\x83\\x ... |         Saishuu Ressha         | user_000033 |\n",
        "|       The Goo Goo Dolls        |              Iris              | user_000709 |\n",
        "+--------------------------------+--------------------------------+-------------+\n",
        "+-------+--------------------------------+-----------+-------------------+\n",
        "| Count |          artist_song           | total_cnt |        norm       |\n",
        "+-------+--------------------------------+-----------+-------------------+\n",
        "|   39  | Richard Swift: Artist & Re ... |    7248   |  0.00538079470199 |\n",
        "|   33  | The Frames: What Happens W ... |   13872   |  0.00237889273356 |\n",
        "|   33  |   Jakalope: Nothing Nowhere    |   15233   |  0.00216634937307 |\n",
        "|   37  | Strike Anywhere: You'Re Fired  |    4433   |  0.00834649221746 |\n",
        "|   30  |  Enigma: T.N.T. For The Brain  |   24005   |  0.00124973963758 |\n",
        "|   49  |    Jessy Greene: Time Bomb     |   11210   |  0.00437109723461 |\n",
        "|   43  |     Field Mob: At The Park     |   25250   |  0.00170297029703 |\n",
        "|   44  |      Hocico: About A Dead      |   24005   |  0.00183295146844 |\n",
        "|   50  | \\xe3\\x83\\xa0\\xe3\\x83\\x83\\x ... |   28807   |  0.0017356892422  |\n",
        "|   27  |    The Goo Goo Dolls: Iris     |   28058   | 0.000962292394326 |\n",
        "+-------+--------------------------------+-----------+-------------------+\n",
        "+-------------------+\n",
        "|  norm_artist_song |\n",
        "+-------------------+\n",
        "|  0.00538079470199 |\n",
        "|  0.00237889273356 |\n",
        "|  0.00216634937307 |\n",
        "|  0.00834649221746 |\n",
        "|  0.00124973963758 |\n",
        "|  0.00437109723461 |\n",
        "|  0.00170297029703 |\n",
        "|  0.00183295146844 |\n",
        "|  0.0017356892422  |\n",
        "| 0.000962292394326 |\n",
        "|        ...        |\n",
        "+-------------------+\n",
        "[8989 rows x 8 columns]\n",
        "Note: Only the head of the SFrame is printed.\n",
        "You can use print_rows(num_rows=m, num_columns=n) to print more rows and columns."
       ]
      }
     ],
     "prompt_number": 451
    },
    {
     "cell_type": "code",
     "collapsed": false,
     "input": [
      "smaller_norm"
     ],
     "language": "python",
     "metadata": {},
     "outputs": [
      {
       "html": [
        "<div style=\"max-height:1000px;max-width:1500px;overflow:auto;\"><table frame=\"box\" rules=\"cols\">\n",
        "    <tr>\n",
        "        <th style=\"padding-left: 1em; padding-right: 1em; text-align: center\">artist</th>\n",
        "        <th style=\"padding-left: 1em; padding-right: 1em; text-align: center\">song</th>\n",
        "        <th style=\"padding-left: 1em; padding-right: 1em; text-align: center\">user</th>\n",
        "        <th style=\"padding-left: 1em; padding-right: 1em; text-align: center\">Count</th>\n",
        "        <th style=\"padding-left: 1em; padding-right: 1em; text-align: center\">artist_song</th>\n",
        "        <th style=\"padding-left: 1em; padding-right: 1em; text-align: center\">total_cnt</th>\n",
        "    </tr>\n",
        "    <tr>\n",
        "        <td style=\"padding-left: 1em; padding-right: 1em; text-align: center; vertical-align: top\">Richard Swift</td>\n",
        "        <td style=\"padding-left: 1em; padding-right: 1em; text-align: center; vertical-align: top\">Artist &amp; Repertoire</td>\n",
        "        <td style=\"padding-left: 1em; padding-right: 1em; text-align: center; vertical-align: top\">user_000234</td>\n",
        "        <td style=\"padding-left: 1em; padding-right: 1em; text-align: center; vertical-align: top\">39</td>\n",
        "        <td style=\"padding-left: 1em; padding-right: 1em; text-align: center; vertical-align: top\">Richard Swift: Artist &amp;<br>Repertoire</td>\n",
        "        <td style=\"padding-left: 1em; padding-right: 1em; text-align: center; vertical-align: top\">7248</td>\n",
        "    </tr>\n",
        "    <tr>\n",
        "        <td style=\"padding-left: 1em; padding-right: 1em; text-align: center; vertical-align: top\">The Frames</td>\n",
        "        <td style=\"padding-left: 1em; padding-right: 1em; text-align: center; vertical-align: top\">What Happens When The<br>Heart Just Stops</td>\n",
        "        <td style=\"padding-left: 1em; padding-right: 1em; text-align: center; vertical-align: top\">user_000503</td>\n",
        "        <td style=\"padding-left: 1em; padding-right: 1em; text-align: center; vertical-align: top\">33</td>\n",
        "        <td style=\"padding-left: 1em; padding-right: 1em; text-align: center; vertical-align: top\">The Frames: What Happens<br>When The Heart Just S ...</td>\n",
        "        <td style=\"padding-left: 1em; padding-right: 1em; text-align: center; vertical-align: top\">13872</td>\n",
        "    </tr>\n",
        "    <tr>\n",
        "        <td style=\"padding-left: 1em; padding-right: 1em; text-align: center; vertical-align: top\">Jakalope</td>\n",
        "        <td style=\"padding-left: 1em; padding-right: 1em; text-align: center; vertical-align: top\">Nothing Nowhere</td>\n",
        "        <td style=\"padding-left: 1em; padding-right: 1em; text-align: center; vertical-align: top\">user_000885</td>\n",
        "        <td style=\"padding-left: 1em; padding-right: 1em; text-align: center; vertical-align: top\">33</td>\n",
        "        <td style=\"padding-left: 1em; padding-right: 1em; text-align: center; vertical-align: top\">Jakalope: Nothing Nowhere</td>\n",
        "        <td style=\"padding-left: 1em; padding-right: 1em; text-align: center; vertical-align: top\">15233</td>\n",
        "    </tr>\n",
        "    <tr>\n",
        "        <td style=\"padding-left: 1em; padding-right: 1em; text-align: center; vertical-align: top\">Strike Anywhere</td>\n",
        "        <td style=\"padding-left: 1em; padding-right: 1em; text-align: center; vertical-align: top\">You'Re Fired</td>\n",
        "        <td style=\"padding-left: 1em; padding-right: 1em; text-align: center; vertical-align: top\">user_000085</td>\n",
        "        <td style=\"padding-left: 1em; padding-right: 1em; text-align: center; vertical-align: top\">37</td>\n",
        "        <td style=\"padding-left: 1em; padding-right: 1em; text-align: center; vertical-align: top\">Strike Anywhere: You'Re<br>Fired</td>\n",
        "        <td style=\"padding-left: 1em; padding-right: 1em; text-align: center; vertical-align: top\">4433</td>\n",
        "    </tr>\n",
        "    <tr>\n",
        "        <td style=\"padding-left: 1em; padding-right: 1em; text-align: center; vertical-align: top\">Enigma</td>\n",
        "        <td style=\"padding-left: 1em; padding-right: 1em; text-align: center; vertical-align: top\">T.N.T. For The Brain</td>\n",
        "        <td style=\"padding-left: 1em; padding-right: 1em; text-align: center; vertical-align: top\">user_000612</td>\n",
        "        <td style=\"padding-left: 1em; padding-right: 1em; text-align: center; vertical-align: top\">30</td>\n",
        "        <td style=\"padding-left: 1em; padding-right: 1em; text-align: center; vertical-align: top\">Enigma: T.N.T. For The<br>Brain</td>\n",
        "        <td style=\"padding-left: 1em; padding-right: 1em; text-align: center; vertical-align: top\">24005</td>\n",
        "    </tr>\n",
        "    <tr>\n",
        "        <td style=\"padding-left: 1em; padding-right: 1em; text-align: center; vertical-align: top\">Jessy Greene</td>\n",
        "        <td style=\"padding-left: 1em; padding-right: 1em; text-align: center; vertical-align: top\">Time Bomb</td>\n",
        "        <td style=\"padding-left: 1em; padding-right: 1em; text-align: center; vertical-align: top\">user_000008</td>\n",
        "        <td style=\"padding-left: 1em; padding-right: 1em; text-align: center; vertical-align: top\">49</td>\n",
        "        <td style=\"padding-left: 1em; padding-right: 1em; text-align: center; vertical-align: top\">Jessy Greene: Time Bomb</td>\n",
        "        <td style=\"padding-left: 1em; padding-right: 1em; text-align: center; vertical-align: top\">11210</td>\n",
        "    </tr>\n",
        "    <tr>\n",
        "        <td style=\"padding-left: 1em; padding-right: 1em; text-align: center; vertical-align: top\">Field Mob</td>\n",
        "        <td style=\"padding-left: 1em; padding-right: 1em; text-align: center; vertical-align: top\">At The Park</td>\n",
        "        <td style=\"padding-left: 1em; padding-right: 1em; text-align: center; vertical-align: top\">user_000685</td>\n",
        "        <td style=\"padding-left: 1em; padding-right: 1em; text-align: center; vertical-align: top\">43</td>\n",
        "        <td style=\"padding-left: 1em; padding-right: 1em; text-align: center; vertical-align: top\">Field Mob: At The Park</td>\n",
        "        <td style=\"padding-left: 1em; padding-right: 1em; text-align: center; vertical-align: top\">25250</td>\n",
        "    </tr>\n",
        "    <tr>\n",
        "        <td style=\"padding-left: 1em; padding-right: 1em; text-align: center; vertical-align: top\">Hocico</td>\n",
        "        <td style=\"padding-left: 1em; padding-right: 1em; text-align: center; vertical-align: top\">About A Dead</td>\n",
        "        <td style=\"padding-left: 1em; padding-right: 1em; text-align: center; vertical-align: top\">user_000612</td>\n",
        "        <td style=\"padding-left: 1em; padding-right: 1em; text-align: center; vertical-align: top\">44</td>\n",
        "        <td style=\"padding-left: 1em; padding-right: 1em; text-align: center; vertical-align: top\">Hocico: About A Dead</td>\n",
        "        <td style=\"padding-left: 1em; padding-right: 1em; text-align: center; vertical-align: top\">24005</td>\n",
        "    </tr>\n",
        "    <tr>\n",
        "        <td style=\"padding-left: 1em; padding-right: 1em; text-align: center; vertical-align: top\">\\xe3\\x83\\xa0\\xe3\\x83\\x83\\<br>xe3\\x82\\xaf</td>\n",
        "        <td style=\"padding-left: 1em; padding-right: 1em; text-align: center; vertical-align: top\">Saishuu Ressha</td>\n",
        "        <td style=\"padding-left: 1em; padding-right: 1em; text-align: center; vertical-align: top\">user_000033</td>\n",
        "        <td style=\"padding-left: 1em; padding-right: 1em; text-align: center; vertical-align: top\">50</td>\n",
        "        <td style=\"padding-left: 1em; padding-right: 1em; text-align: center; vertical-align: top\">\\xe3\\x83\\xa0\\xe3\\x83\\x83\\<br>xe3\\x82\\xaf: Saishuu ...</td>\n",
        "        <td style=\"padding-left: 1em; padding-right: 1em; text-align: center; vertical-align: top\">28807</td>\n",
        "    </tr>\n",
        "    <tr>\n",
        "        <td style=\"padding-left: 1em; padding-right: 1em; text-align: center; vertical-align: top\">The Goo Goo Dolls</td>\n",
        "        <td style=\"padding-left: 1em; padding-right: 1em; text-align: center; vertical-align: top\">Iris</td>\n",
        "        <td style=\"padding-left: 1em; padding-right: 1em; text-align: center; vertical-align: top\">user_000709</td>\n",
        "        <td style=\"padding-left: 1em; padding-right: 1em; text-align: center; vertical-align: top\">27</td>\n",
        "        <td style=\"padding-left: 1em; padding-right: 1em; text-align: center; vertical-align: top\">The Goo Goo Dolls: Iris</td>\n",
        "        <td style=\"padding-left: 1em; padding-right: 1em; text-align: center; vertical-align: top\">28058</td>\n",
        "    </tr>\n",
        "</table>\n",
        "<table frame=\"box\" rules=\"cols\">\n",
        "    <tr>\n",
        "        <th style=\"padding-left: 1em; padding-right: 1em; text-align: center\">norm</th>\n",
        "    </tr>\n",
        "    <tr>\n",
        "        <td style=\"padding-left: 1em; padding-right: 1em; text-align: center; vertical-align: top\">0.00538079470199</td>\n",
        "    </tr>\n",
        "    <tr>\n",
        "        <td style=\"padding-left: 1em; padding-right: 1em; text-align: center; vertical-align: top\">0.00237889273356</td>\n",
        "    </tr>\n",
        "    <tr>\n",
        "        <td style=\"padding-left: 1em; padding-right: 1em; text-align: center; vertical-align: top\">0.00216634937307</td>\n",
        "    </tr>\n",
        "    <tr>\n",
        "        <td style=\"padding-left: 1em; padding-right: 1em; text-align: center; vertical-align: top\">0.00834649221746</td>\n",
        "    </tr>\n",
        "    <tr>\n",
        "        <td style=\"padding-left: 1em; padding-right: 1em; text-align: center; vertical-align: top\">0.00124973963758</td>\n",
        "    </tr>\n",
        "    <tr>\n",
        "        <td style=\"padding-left: 1em; padding-right: 1em; text-align: center; vertical-align: top\">0.00437109723461</td>\n",
        "    </tr>\n",
        "    <tr>\n",
        "        <td style=\"padding-left: 1em; padding-right: 1em; text-align: center; vertical-align: top\">0.00170297029703</td>\n",
        "    </tr>\n",
        "    <tr>\n",
        "        <td style=\"padding-left: 1em; padding-right: 1em; text-align: center; vertical-align: top\">0.00183295146844</td>\n",
        "    </tr>\n",
        "    <tr>\n",
        "        <td style=\"padding-left: 1em; padding-right: 1em; text-align: center; vertical-align: top\">0.0017356892422</td>\n",
        "    </tr>\n",
        "    <tr>\n",
        "        <td style=\"padding-left: 1em; padding-right: 1em; text-align: center; vertical-align: top\">0.000962292394326</td>\n",
        "    </tr>\n",
        "    <tr>\n",
        "        <td style=\"padding-left: 1em; padding-right: 1em; text-align: center; vertical-align: top\">...</td>\n",
        "    </tr>\n",
        "</table>\n",
        "[8989 rows x 7 columns]<br/>Note: Only the head of the SFrame is printed.<br/>You can use print_rows(num_rows=m, num_columns=n) to print more rows and columns.\n",
        "</div>"
       ],
       "metadata": {},
       "output_type": "pyout",
       "prompt_number": 458,
       "text": [
        "Columns:\n",
        "\tartist\tstr\n",
        "\tsong\tstr\n",
        "\tuser\tstr\n",
        "\tCount\tint\n",
        "\tartist_song\tstr\n",
        "\ttotal_cnt\tint\n",
        "\tnorm\tfloat\n",
        "\n",
        "Rows: 8989\n",
        "\n",
        "Data:\n",
        "+--------------------------------+--------------------------------+-------------+\n",
        "|             artist             |              song              |     user    |\n",
        "+--------------------------------+--------------------------------+-------------+\n",
        "|         Richard Swift          |      Artist & Repertoire       | user_000234 |\n",
        "|           The Frames           | What Happens When The Hear ... | user_000503 |\n",
        "|            Jakalope            |        Nothing Nowhere         | user_000885 |\n",
        "|        Strike Anywhere         |          You'Re Fired          | user_000085 |\n",
        "|             Enigma             |      T.N.T. For The Brain      | user_000612 |\n",
        "|          Jessy Greene          |           Time Bomb            | user_000008 |\n",
        "|           Field Mob            |          At The Park           | user_000685 |\n",
        "|             Hocico             |          About A Dead          | user_000612 |\n",
        "| \\xe3\\x83\\xa0\\xe3\\x83\\x83\\x ... |         Saishuu Ressha         | user_000033 |\n",
        "|       The Goo Goo Dolls        |              Iris              | user_000709 |\n",
        "+--------------------------------+--------------------------------+-------------+\n",
        "+-------+--------------------------------+-----------+-------------------+\n",
        "| Count |          artist_song           | total_cnt |        norm       |\n",
        "+-------+--------------------------------+-----------+-------------------+\n",
        "|   39  | Richard Swift: Artist & Re ... |    7248   |  0.00538079470199 |\n",
        "|   33  | The Frames: What Happens W ... |   13872   |  0.00237889273356 |\n",
        "|   33  |   Jakalope: Nothing Nowhere    |   15233   |  0.00216634937307 |\n",
        "|   37  | Strike Anywhere: You'Re Fired  |    4433   |  0.00834649221746 |\n",
        "|   30  |  Enigma: T.N.T. For The Brain  |   24005   |  0.00124973963758 |\n",
        "|   49  |    Jessy Greene: Time Bomb     |   11210   |  0.00437109723461 |\n",
        "|   43  |     Field Mob: At The Park     |   25250   |  0.00170297029703 |\n",
        "|   44  |      Hocico: About A Dead      |   24005   |  0.00183295146844 |\n",
        "|   50  | \\xe3\\x83\\xa0\\xe3\\x83\\x83\\x ... |   28807   |  0.0017356892422  |\n",
        "|   27  |    The Goo Goo Dolls: Iris     |   28058   | 0.000962292394326 |\n",
        "|  ...  |              ...               |    ...    |        ...        |\n",
        "+-------+--------------------------------+-----------+-------------------+\n",
        "[8989 rows x 7 columns]\n",
        "Note: Only the head of the SFrame is printed.\n",
        "You can use print_rows(num_rows=m, num_columns=n) to print more rows and columns."
       ]
      }
     ],
     "prompt_number": 458
    },
    {
     "cell_type": "code",
     "collapsed": false,
     "input": [
      "rec_norm_new = gl.recommender.ranking_factorization_recommender.create(smaller_norm, user_id=\"user\", item_id=\"artist_song\", target=\"norm\", verbose = False, side_data_factorization=False)"
     ],
     "language": "python",
     "metadata": {},
     "outputs": [
      {
       "html": [
        "<pre>PROGRESS: Recsys training: model = ranking_factorization_recommender</pre>"
       ],
       "metadata": {},
       "output_type": "display_data",
       "text": [
        "PROGRESS: Recsys training: model = ranking_factorization_recommender"
       ]
      }
     ],
     "prompt_number": 455
    },
    {
     "cell_type": "code",
     "collapsed": false,
     "input": [
      "np.array(sa)"
     ],
     "language": "python",
     "metadata": {},
     "outputs": [
      {
       "metadata": {},
       "output_type": "pyout",
       "prompt_number": 450,
       "text": [
        "array([[ 1.,  2.,  3.],\n",
        "       [ 3.,  4.,  5.]])"
       ]
      }
     ],
     "prompt_number": 450
    },
    {
     "cell_type": "code",
     "collapsed": false,
     "input": [
      "user_sf3 = rec_norm_new.get('coefficients')['user']\n",
      "song_sf3 = rec_norm_new.get('coefficients')['artist_song']\n",
      "user_df3 = user_sf3.to_dataframe()\n",
      "song_df3 = song_sf3.to_dataframe()"
     ],
     "language": "python",
     "metadata": {},
     "outputs": [],
     "prompt_number": 456
    },
    {
     "cell_type": "code",
     "collapsed": false,
     "input": [
      "for i in r.factor_top_n(song_df3, factor_col = 'factors'):\n",
      "    print i"
     ],
     "language": "python",
     "metadata": {},
     "outputs": [
      {
       "output_type": "stream",
       "stream": "stdout",
       "text": [
        "['Architecture In Helsinki: Heart It Races' 'Pulp: Wickerman'\n",
        " 'Timo Rautiainen & Trio Niskalaukaus: H\\xc3\\xa4mmennys Ja Viha'\n",
        " 'Amel Larrieux: We Can Be New' 'The Knife: Forest Families'\n",
        " 'The Babys: Romantic Na Speed De' 'T.I.: Swing Ya Rag (Feat. Swizz Beatz)'\n",
        " '\\xe5\\xb7\\x9d\\xe4\\xba\\x95\\xe6\\x86\\xb2\\xe6\\xac\\xa1: Main Theme'\n",
        " 'Ali Project: Yuukyou Seishunka']\n",
        "['Jackson And His Computer Band: Moto'\n",
        " 'The Postal Service: The District Sleeps Alone Tonight' 'Nick Drake: Road'\n",
        " 'Ratatat: Bustelo' 'The Weakerthans: Uncorrected Proofs'\n",
        " 'Does It Offend You, Yeah?: Doomed Now'\n",
        " 'Marselle: \\xd0\\xa2\\xd1\\x8b \\xd0\\x9c\\xd0\\xb5\\xd0\\xbd\\xd1\\x8f \\xd0\\x9b\\xd1\\x8e\\xd0\\xb1\\xd0\\xb8\\xd1\\x88\\xd1\\x8c'\n",
        " 'Soilwork: 20 More Miles' 'Dir En Grey: Dead Tree']\n",
        "['Rob Thomas: All That I Am' \"Romantic Mode: I Don'T Wanna Cry\"\n",
        " 'Jonas Brothers: Tonight' 'Paramore: My Heart' 'The Cure: Faith'\n",
        " 'Black Kids: Listen To Your Body Tonight'\n",
        " 'Nine Inch Nails: Starfuckers, Inc.' \"Placebo: Without You I'M Nothing\"\n",
        " 'The Who: 03 - Young Man Blues (Live At The Young Vic)']\n",
        "['Skyclad: Building A Ruin' 'The Fratellis: For The Girl'\n",
        " 'Lyfe Jennings: Smile'\n",
        " 'The Sounds: Night After Night (Alternative Version)'\n",
        " 'Fightstar: Waste A Moment'\n",
        " 'Television Personalities: The Glittering Prizes'\n",
        " 'Dire Straits: Brothers In Arms' 'Jimmy Eat World: Sweetness'\n",
        " 'The Doors: End Of The Night']\n",
        "['Xanda: Conscious And Verbal' 'Bright Eyes: Arc Of Time (Time Code)'\n",
        " 'Maroon 5: Nothing Lasts Forever'\n",
        " 'Tenhi: V\\xc3\\xa4h\\xc3\\xa4inen Violetissa'\n",
        " 'David Vendetta Vs. Rachael Starr: Bleeding Heart'\n",
        " 'The Weakerthans: Plea From A Cat Named Virtue'\n",
        " 'Kaiser Chiefs: Everything Is Average Nowadays' 'Dir En Grey: Kodou'\n",
        " 'Pavement: In The Mouth A Desert']\n",
        "['Porcupine Tree: Gravity Eyelids' 'The Clash: Lost In The Supermarket'\n",
        " 'Bel Canto: The Glassmaker' \"Hyde: Season'S Call\"\n",
        " 'Martha Wainwright: Bloody Mother Fucking Asshole' 'Afi: Silver And Cold'\n",
        " 'Iron & Wine: Such Great Heights' 'Buckethead: Tide Pools'\n",
        " \"Turbonegro: No, I'M Alpha Male\"]\n",
        "['Pid\\xc5\\xbcama Porno: Ka\\xc5\\xbcdy Nowy Dzie\\xc5\\x84 Rodzi Nowe Paranoje'\n",
        " 'Acidman: Furu Aki' 'Robbie Williams: Feel'\n",
        " 'Double&Toku: Life Is Beautiful' \"Beck: Cell Phone'S Dead\"\n",
        " 'Soilwork: Natural Born Chaos' 'Red Hot Chili Peppers: Buckle Down'\n",
        " 'T.M.Revolution: Vestige-\\xe3\\x83\\xb4\\xe3\\x82\\xa7\\xe3\\x82\\xb9\\xe3\\x83\\x86\\xe3\\x82\\xa3\\xe3\\x83\\xbc\\xe3\\x82\\xb8-'\n",
        " 'Rage Against The Machine: Revolver']\n",
        "['Kylie Minogue: Wow' 'The Knife: Behind The Bushes'\n",
        " 'Wax Poetic: Rootgroove'\n",
        " 'This Will Destroy You: I Believe In Your Victory' 'Faust: Krautrock'\n",
        " \"The Boomtown Rats: I Don'T Like Mondays\" 'Hadouken!: Wait For You'\n",
        " 'Green Day: Boulevard Of Broken Dreams'\n",
        " 'Fear Before The March Of Flames: Get Your Life Together']\n",
        "['Thomas Dolby: Dissidents' 'Joy Division: Isolation'\n",
        " 'Soilwork: Shadowchild' \"Three 6 Mafia: Don'T Violate (Feat. Frayser Boy)\"\n",
        " 'Dido: White Flag' 'Cold War Kids: Tell Me In The Morning'\n",
        " 'Orchestral Manoeuvres In The Dark: Stanlow' 'Four Tet: Untangle'\n",
        " 'Finntroll: S\\xc3\\xa5ng']\n",
        "['Daniel Licht: Changed' 'Craig Armstrong: In My Own Words'\n",
        " 'The Smiths: This Charming Man' 'Daughtry: Crashed' 'Amon Tobin: Nova'\n",
        " 'Morrissey: How Can Anybody Possibly Know How I Feel?'\n",
        " 'Dir En Grey: Agitated Screams Of Maggots'\n",
        " 'The Beach Boys: Good Vibrations' 'Dj Shadow: Stem/Long Stem']\n",
        "['Hadouken!: Dance Lesson' \"Esthero: Wikked Lil' Grrrls\"\n",
        " 'Maritime: Sleep Around' 'The Fray: How To Save A Life'\n",
        " 'Fever Ray: Concrete Walls'\n",
        " 'Pearl Jam: Elderly Woman Behind The Counter In A Small Town'\n",
        " 'Darkthrone: Accumulation Of Generalization'\n",
        " 'Paradise Lost: All You Leave Behind' 'Coldplay: We Never Change']\n",
        "[\"Matchbox Twenty: If You'Re Gone (Live)\"\n",
        " '\\xe9\\x88\\xb4\\xe6\\x9d\\x91\\xe5\\x81\\xa5\\xe4\\xb8\\x80: Value'\n",
        " 'Foals: Two Steps Twice' 'Franz Ferdinand: Take Me Out'\n",
        " 'Evanescence: Forgive Me' 'A Perfect Circle: Blue'\n",
        " \"Murphy Lee Feat. Jazze Pha & Jody Breeze: It'S In Da Game\"\n",
        " 'Radiohead: There There' 'Sonic Syndicate: Blue Eyed Fiend']\n",
        "['Foo Fighters: Times Like These' 'Maroon 5: Sweetest Goodbye'\n",
        " 'Michael Andrews: The Artifact & Living' 'Bob Seger: Night Moves'\n",
        " 'Strike Anywhere: Allies' 'Jackson And His Computer Band: Teen Beat Ocean'\n",
        " 'Afi: God Called In Sick Today' 'Michael Jackson: Invincible'\n",
        " 'M\\xc3\\xa4go De Oz: Fiesta Pagana']\n",
        "['Anna Nalick: In My Head' \"T.I.: I'M Illy\" 'Metric: Down'\n",
        " 'The Notwist: Trashing Days' 'The Cure: Faith' 'Chemistry: Nothing'\n",
        " 'The Police: Message In A Bottle' 'Satyricon: I Got Erection'\n",
        " 'Onerepublic: Tyrant']\n",
        "['Timbaland: Come & Get Me (Feat. Tony Yayo & 50 Cent)'\n",
        " 'The Knife: Handy-Man (Tobias Von Hofsten Remix)'\n",
        " 'Type O Negative: Black No. 1 (Little Miss Scare-All)'\n",
        " 'Rush: The Big Money' 'Man\\xc3\\xa1: Como Un Perro Enloquecido'\n",
        " 'Nine Inch Nails: 36 Ghosts Iv' 'Arctic Monkeys: A Certain Romance'\n",
        " 'Crime In Stereo: Slow Math' 'Entwine: Curtained Life']\n",
        "['September: Because I Love You'\n",
        " 'Keiyuu & Miyavi: Yuki Gatsu Hana (P&Sc Tour Live)'\n",
        " 'Oasis: Stop Crying Your Heart Out' 'Unter Null: Destroy Me'\n",
        " 'Adam Green: Born To Run' 'Sabaton: Panzer Battalion'\n",
        " 'Alkaline Trio: Nose Over Tail' 'System Of A Down: Forest'\n",
        " 'The Venus In Furs: Tumbling Down']\n",
        "[ '\\xe9\\x88\\xb4\\xe6\\x9d\\x91\\xe5\\x81\\xa5\\xe4\\xb8\\x80: \\xe3\\x83\\xa2\\xe3\\x83\\x8e\\xe3\\x82\\xaf\\xe3\\x83\\xad\\xe3\\x83\\xbc\\xe3\\x83\\xa0 Lost In You'\n",
        " 'The Knife: Pass This On(Silent Shout Tour)' \"Guns N' Roses: Raw Power\"\n",
        " \"Test Icicles: What'S Your Damage? (Braxe/Falke Remix)\"\n",
        " 'Origa: Flashback Memory Stick' 'Maroon 5: Little Of Your Time'\n",
        " 'Oasis: Falling Down' 'The Killers: Mr. Brightside' 'Sofie: Hypnotized']\n",
        "['Navicon Torture Technologies: What Would I Be Without This Feeling?'\n",
        " 'Ashley Tisdale: Suddenly'\n",
        " 'Stonewall Jackson: I Washed My Hands In Muddy Water' 'Atb: Humanity'\n",
        " 'The Smashing Pumpkins: Ava Adore' 'A Tribe Called Quest: Can I Kick It?'\n",
        " \"Beck: Cell Phone'S Dead\" 'The Postal Service: Nothing Better'\n",
        " 'Muse: Muscle Museum']\n",
        "['The Cranberries: Linger' 'Ramones: The Kkk Took My Baby Away'\n",
        " 'M\\xc3\\xb6tley Cr\\xc3\\xbce: Home Sweet Home'\n",
        " 'Architecture In Helsinki: Maybe You Can Owe Me' 'Eminem: Go To Sleep'\n",
        " 'Cake: The Distance' 'Nicola Conte: Bossa Per Due'\n",
        " 'Ladytron: The Last One Standing' 'Ellen Mclain: Still Alive']\n",
        "['Trio Odemira: Baila Morena'\n",
        " 'Lollobrigida Feat Una Bitcharka Na Travi: Lollobrigida Incorporated'\n",
        " 'Beck: Sexx Laws' 'The Sounds: Living In America'\n",
        " 'Black Rebel Motorcycle Club: Weight Of The World'\n",
        " 'Pavement: Cut Your Hair' 'Linkin Park: Frgt10'\n",
        " 'Aly & Aj: Like It Or Leave It' 'Emilie Autumn: Swallow']\n",
        "['Pearl Jam: Animal' 'Ramirez: Ljeto Pocinje S Nama'\n",
        " 'Metric: Too Little Too Late' 'Ronan Hardiman: Celtic Dream'\n",
        " 'Joy Division: Isolation' 'Catupecu Machu: Magia Veneno'\n",
        " 'My Chemical Romance: Welcome To The Black Parade'\n",
        " 'Dir En Grey: Clever Sleazoid' 'Bad Religion: Generator']\n",
        "['Belinda: Bella Traici\\xc3\\xb3n' 'Duran Duran: Come Undone'\n",
        " 'Bob Dylan: Obviously Believers' 'Hot Chip: And I Was A Boy From School'\n",
        " 'Tool: Intolerance' 'Chocolate Puma: A Star Is Born'\n",
        " 'Onerepublic: All Fall Down' 'Tori Amos: Siren' 'The 69 Eyes: Brandon Lee']\n",
        "['The Black Angels: Bloodhounds On My Trail'\n",
        " \"The Killers: All These Things That I'Ve Done\" 'Tina Turner: Goldeneye'\n",
        " 'Michael Jackson: Blame It On The Boogie' 'Tenacious D: Sasquatch'\n",
        " '1 Giant Leap: My Culture' 'Drain Sth: Klotera' 'Rush: Red Barchetta'\n",
        " \"Nickelback: Savin' Me\"]\n",
        "['Patrick Wolf: London' 'Mew: Circuitry Of The Wolf'\n",
        " 'Sufjan Stevens: To Be Alone With You'\n",
        " \"Dirty Pretty Things: Bang Bang You'Re Dead\" 'T.I.: Ready For Whatever'\n",
        " 'Draconian: The Amaranth' 'Espen Lind: Black Sunday'\n",
        " 'Ac/Dc: You Shook Me All Night Long' 'Boards Of Canada: Peacock Tail']\n",
        "['Paramore: I Caught Myself' 'Metric: Combat Baby'\n",
        " 'Los Fabulosos Cadillacs: Vasos Vac\\xc3\\xados'\n",
        " 'Engenheiros Do Hawaii: Muros E Grades' 'Anton Maiden: Wasting Love'\n",
        " 'Coldplay: Life In Technicolor Ii' 'The Knife: Like A Pen (Club Mix)'\n",
        " 'Pj Harvey: Angelene' 'The Raconteurs: Level']\n",
        "['Fabrizio De Andr\\xc3\\xa9: Via Del Campo'\n",
        " 'U.D.R.: Bonde Da Orgia De Travecos' 'Eddie Vedder: Society'\n",
        " 'Rancid: Junkie Man' 'Humanwine: X-Marks The Spot'\n",
        " 'The Fratellis: A Heady Tale' 'Jay-Z: Excuse Me Miss Again'\n",
        " 'Auf Der Maur: Lightning Is My Girl'\n",
        " \"The Radio Dept.: Why Won'T You Talk About It?\"]\n",
        "['Dredg: Ode To The Sun' 'Friendly Fires: Jump In The Pool'\n",
        " 'Chocolate Puma: I Wanna Be You' 'Cocteau Twins: Seekers Who Are Lovers'\n",
        " 'Black Rebel Motorcycle Club: Rise Or Fall'\n",
        " 'Joanna Newsom: Bridges And Balloons' 'Soilwork: Brickwalker'\n",
        " '\\xe9\\x87\\x8e\\xe4\\xb8\\x8a\\xe8\\x89\\xaf\\xe5\\xa4\\xaa\\xe9\\x83\\x8e\\xef\\xbc\\x86\\xe3\\x83\\xaa\\xe3\\x83\\xa5\\xe3\\x82\\xa6\\xe3\\x82\\xbf\\xe3\\x83\\xad\\xe3\\x82\\xb9 (Cv.\\xe4\\xbd\\x90\\xe8\\x97\\xa4\\xe5\\x81\\xa5\\xe3\\x83\\xbb\\xe9\\x88\\xb4\\xe6\\x9d\\x91\\xe5\\x81\\xa5\\xe4\\xb8\\x80): Double-Action Gun Form \\xe3\\x83\\xaa\\xe3\\x83\\xa5\\xe3\\x82\\xa6\\xe3\\x82\\xbf\\xe3\\x83\\xad\\xe3\\x82\\xb9\\xe3\\x82\\xbb\\xe3\\x83\\xaa\\xe3\\x83\\x95Ver.'\n",
        " 'Robbie Williams: Feel']\n",
        "['Rome: Wilde Lager' 'Joy Division: I Remember Nothing'\n",
        " 'Uncle Tupelo: New Madrid' 'Opeth: Blackwater Park' 'Alkaline Trio: 97'\n",
        " '\\xe6\\xa4\\x8e\\xe5\\x90\\x8d\\xe6\\x9e\\x97\\xe6\\xaa\\x8e: \\xe6\\x99\\x82\\xe3\\x81\\x8c\\xe6\\x9a\\xb4\\xe8\\xb5\\xb0\\xe3\\x81\\x99\\xe3\\x82\\x8b'\n",
        " 'Sculptured: Above The 60Th Parallel'\n",
        " 'Boris Gardiner: I Wanna Wake Up With You' 'Pendulum: Different']\n",
        "['Modest Mouse: One Chance' 'Fergie: Glamorous'\n",
        " 'Dan Gibson: Cadence Of The Cove' 'Coldplay: Such A Rush'\n",
        " 'Mandy Moore: I Could Break Your Heart Any Day Of The Week'\n",
        " 'Dexter: Dex End Credit / Dtw End'\n",
        " 'Paragraf 119: Hellig Krig P\\xc3\\xa5 Jagtvej' 'Susumu Yokota: Wani Natte'\n",
        " '\\xce\\x88\\xce\\xbb\\xce\\xb5\\xce\\xbd\\xce\\xb1 \\xce\\xa0\\xce\\xb1\\xcf\\x80\\xce\\xb1\\xcf\\x81\\xce\\xaf\\xce\\xb6\\xce\\xbf\\xcf\\x85: My Number One']\n",
        "['Hellogoodbye: Two Weeks In Hawaii'\n",
        " 'Lacrimas Profundere: My Velvet Little Darkness'\n",
        " 'Jamiroquai: Feels Just Like It Should'\n",
        " '\\xe3\\x83\\xa0\\xe3\\x83\\x83\\xe3\\x82\\xaf: Garo'\n",
        " 'Annie: Helpless Fool For Love (Patrick Wolf Remix)'\n",
        " 'The Gathering: Saturnine'\n",
        " 'Buck 65: Kennedy Killed The Hat (Mstrkrft Rock Remix)'\n",
        " 'Children Of Bodom: Everytime I Die' 'Vetiver: Down From Above']\n",
        "['Soilwork: Natural Born Chaos' 'Craig Armstrong: Stay'\n",
        " 'Civil Twilight: Human' 'Travis: Get Up' 'Britney Spears: Blur'\n",
        " 'Elliott Smith: Condor Ave' 'Babas\\xc3\\xb3nicos: Las Dem\\xc3\\xa1s'\n",
        " \"Van Halen: Ain'T Talkin' 'Bout Love\" 'Iron & Wine: White Tooth Man']\n",
        "['Supersuckers: Hungover Together' 'Pendulum: Visions'\n",
        " 'Jackson And His Computer Band: Radio Caca' 'Yazoo: Ode To Boy'\n",
        " 'Muse: Muscle Museum' 'Rihanna: Umbrella (The Lindergh Palace Radio Edit)'\n",
        " 'Madeleine Peyroux: Once In A While' 'Fall Out Boy: Thriller'\n",
        " 'Tsutchie: You Feat.Kazami (Accoustic)']\n"
       ]
      }
     ],
     "prompt_number": 457
    },
    {
     "cell_type": "code",
     "collapsed": false,
     "input": [
      "gl.SArray([1,2,3]).mean()"
     ],
     "language": "python",
     "metadata": {},
     "outputs": [
      {
       "metadata": {},
       "output_type": "pyout",
       "prompt_number": 467,
       "text": [
        "2.0"
       ]
      }
     ],
     "prompt_number": 467
    },
    {
     "cell_type": "code",
     "collapsed": false,
     "input": [
      "r.normalize_by_column(smaller_norm, 'artist_song', col_to_norm = 'Count')"
     ],
     "language": "python",
     "metadata": {},
     "outputs": [
      {
       "output_type": "stream",
       "stream": "stdout",
       "text": [
        "48.1765810895\n"
       ]
      },
      {
       "html": [
        "<div style=\"max-height:1000px;max-width:1500px;overflow:auto;\"><table frame=\"box\" rules=\"cols\">\n",
        "    <tr>\n",
        "        <th style=\"padding-left: 1em; padding-right: 1em; text-align: center\">artist</th>\n",
        "        <th style=\"padding-left: 1em; padding-right: 1em; text-align: center\">song</th>\n",
        "        <th style=\"padding-left: 1em; padding-right: 1em; text-align: center\">user</th>\n",
        "        <th style=\"padding-left: 1em; padding-right: 1em; text-align: center\">Count</th>\n",
        "        <th style=\"padding-left: 1em; padding-right: 1em; text-align: center\">artist_song</th>\n",
        "        <th style=\"padding-left: 1em; padding-right: 1em; text-align: center\">total_cnt</th>\n",
        "    </tr>\n",
        "    <tr>\n",
        "        <td style=\"padding-left: 1em; padding-right: 1em; text-align: center; vertical-align: top\">Richard Swift</td>\n",
        "        <td style=\"padding-left: 1em; padding-right: 1em; text-align: center; vertical-align: top\">Artist &amp; Repertoire</td>\n",
        "        <td style=\"padding-left: 1em; padding-right: 1em; text-align: center; vertical-align: top\">user_000234</td>\n",
        "        <td style=\"padding-left: 1em; padding-right: 1em; text-align: center; vertical-align: top\">39</td>\n",
        "        <td style=\"padding-left: 1em; padding-right: 1em; text-align: center; vertical-align: top\">Richard Swift: Artist &amp;<br>Repertoire</td>\n",
        "        <td style=\"padding-left: 1em; padding-right: 1em; text-align: center; vertical-align: top\">7248</td>\n",
        "    </tr>\n",
        "    <tr>\n",
        "        <td style=\"padding-left: 1em; padding-right: 1em; text-align: center; vertical-align: top\">The Frames</td>\n",
        "        <td style=\"padding-left: 1em; padding-right: 1em; text-align: center; vertical-align: top\">What Happens When The<br>Heart Just Stops</td>\n",
        "        <td style=\"padding-left: 1em; padding-right: 1em; text-align: center; vertical-align: top\">user_000503</td>\n",
        "        <td style=\"padding-left: 1em; padding-right: 1em; text-align: center; vertical-align: top\">33</td>\n",
        "        <td style=\"padding-left: 1em; padding-right: 1em; text-align: center; vertical-align: top\">The Frames: What Happens<br>When The Heart Just S ...</td>\n",
        "        <td style=\"padding-left: 1em; padding-right: 1em; text-align: center; vertical-align: top\">13872</td>\n",
        "    </tr>\n",
        "    <tr>\n",
        "        <td style=\"padding-left: 1em; padding-right: 1em; text-align: center; vertical-align: top\">Jakalope</td>\n",
        "        <td style=\"padding-left: 1em; padding-right: 1em; text-align: center; vertical-align: top\">Nothing Nowhere</td>\n",
        "        <td style=\"padding-left: 1em; padding-right: 1em; text-align: center; vertical-align: top\">user_000885</td>\n",
        "        <td style=\"padding-left: 1em; padding-right: 1em; text-align: center; vertical-align: top\">33</td>\n",
        "        <td style=\"padding-left: 1em; padding-right: 1em; text-align: center; vertical-align: top\">Jakalope: Nothing Nowhere</td>\n",
        "        <td style=\"padding-left: 1em; padding-right: 1em; text-align: center; vertical-align: top\">15233</td>\n",
        "    </tr>\n",
        "    <tr>\n",
        "        <td style=\"padding-left: 1em; padding-right: 1em; text-align: center; vertical-align: top\">Strike Anywhere</td>\n",
        "        <td style=\"padding-left: 1em; padding-right: 1em; text-align: center; vertical-align: top\">You'Re Fired</td>\n",
        "        <td style=\"padding-left: 1em; padding-right: 1em; text-align: center; vertical-align: top\">user_000085</td>\n",
        "        <td style=\"padding-left: 1em; padding-right: 1em; text-align: center; vertical-align: top\">37</td>\n",
        "        <td style=\"padding-left: 1em; padding-right: 1em; text-align: center; vertical-align: top\">Strike Anywhere: You'Re<br>Fired</td>\n",
        "        <td style=\"padding-left: 1em; padding-right: 1em; text-align: center; vertical-align: top\">4433</td>\n",
        "    </tr>\n",
        "    <tr>\n",
        "        <td style=\"padding-left: 1em; padding-right: 1em; text-align: center; vertical-align: top\">Enigma</td>\n",
        "        <td style=\"padding-left: 1em; padding-right: 1em; text-align: center; vertical-align: top\">T.N.T. For The Brain</td>\n",
        "        <td style=\"padding-left: 1em; padding-right: 1em; text-align: center; vertical-align: top\">user_000612</td>\n",
        "        <td style=\"padding-left: 1em; padding-right: 1em; text-align: center; vertical-align: top\">30</td>\n",
        "        <td style=\"padding-left: 1em; padding-right: 1em; text-align: center; vertical-align: top\">Enigma: T.N.T. For The<br>Brain</td>\n",
        "        <td style=\"padding-left: 1em; padding-right: 1em; text-align: center; vertical-align: top\">24005</td>\n",
        "    </tr>\n",
        "    <tr>\n",
        "        <td style=\"padding-left: 1em; padding-right: 1em; text-align: center; vertical-align: top\">Jessy Greene</td>\n",
        "        <td style=\"padding-left: 1em; padding-right: 1em; text-align: center; vertical-align: top\">Time Bomb</td>\n",
        "        <td style=\"padding-left: 1em; padding-right: 1em; text-align: center; vertical-align: top\">user_000008</td>\n",
        "        <td style=\"padding-left: 1em; padding-right: 1em; text-align: center; vertical-align: top\">49</td>\n",
        "        <td style=\"padding-left: 1em; padding-right: 1em; text-align: center; vertical-align: top\">Jessy Greene: Time Bomb</td>\n",
        "        <td style=\"padding-left: 1em; padding-right: 1em; text-align: center; vertical-align: top\">11210</td>\n",
        "    </tr>\n",
        "    <tr>\n",
        "        <td style=\"padding-left: 1em; padding-right: 1em; text-align: center; vertical-align: top\">Field Mob</td>\n",
        "        <td style=\"padding-left: 1em; padding-right: 1em; text-align: center; vertical-align: top\">At The Park</td>\n",
        "        <td style=\"padding-left: 1em; padding-right: 1em; text-align: center; vertical-align: top\">user_000685</td>\n",
        "        <td style=\"padding-left: 1em; padding-right: 1em; text-align: center; vertical-align: top\">43</td>\n",
        "        <td style=\"padding-left: 1em; padding-right: 1em; text-align: center; vertical-align: top\">Field Mob: At The Park</td>\n",
        "        <td style=\"padding-left: 1em; padding-right: 1em; text-align: center; vertical-align: top\">25250</td>\n",
        "    </tr>\n",
        "    <tr>\n",
        "        <td style=\"padding-left: 1em; padding-right: 1em; text-align: center; vertical-align: top\">Hocico</td>\n",
        "        <td style=\"padding-left: 1em; padding-right: 1em; text-align: center; vertical-align: top\">About A Dead</td>\n",
        "        <td style=\"padding-left: 1em; padding-right: 1em; text-align: center; vertical-align: top\">user_000612</td>\n",
        "        <td style=\"padding-left: 1em; padding-right: 1em; text-align: center; vertical-align: top\">44</td>\n",
        "        <td style=\"padding-left: 1em; padding-right: 1em; text-align: center; vertical-align: top\">Hocico: About A Dead</td>\n",
        "        <td style=\"padding-left: 1em; padding-right: 1em; text-align: center; vertical-align: top\">24005</td>\n",
        "    </tr>\n",
        "    <tr>\n",
        "        <td style=\"padding-left: 1em; padding-right: 1em; text-align: center; vertical-align: top\">\\xe3\\x83\\xa0\\xe3\\x83\\x83\\<br>xe3\\x82\\xaf</td>\n",
        "        <td style=\"padding-left: 1em; padding-right: 1em; text-align: center; vertical-align: top\">Saishuu Ressha</td>\n",
        "        <td style=\"padding-left: 1em; padding-right: 1em; text-align: center; vertical-align: top\">user_000033</td>\n",
        "        <td style=\"padding-left: 1em; padding-right: 1em; text-align: center; vertical-align: top\">50</td>\n",
        "        <td style=\"padding-left: 1em; padding-right: 1em; text-align: center; vertical-align: top\">\\xe3\\x83\\xa0\\xe3\\x83\\x83\\<br>xe3\\x82\\xaf: Saishuu ...</td>\n",
        "        <td style=\"padding-left: 1em; padding-right: 1em; text-align: center; vertical-align: top\">28807</td>\n",
        "    </tr>\n",
        "    <tr>\n",
        "        <td style=\"padding-left: 1em; padding-right: 1em; text-align: center; vertical-align: top\">The Goo Goo Dolls</td>\n",
        "        <td style=\"padding-left: 1em; padding-right: 1em; text-align: center; vertical-align: top\">Iris</td>\n",
        "        <td style=\"padding-left: 1em; padding-right: 1em; text-align: center; vertical-align: top\">user_000709</td>\n",
        "        <td style=\"padding-left: 1em; padding-right: 1em; text-align: center; vertical-align: top\">27</td>\n",
        "        <td style=\"padding-left: 1em; padding-right: 1em; text-align: center; vertical-align: top\">The Goo Goo Dolls: Iris</td>\n",
        "        <td style=\"padding-left: 1em; padding-right: 1em; text-align: center; vertical-align: top\">28058</td>\n",
        "    </tr>\n",
        "</table>\n",
        "<table frame=\"box\" rules=\"cols\">\n",
        "    <tr>\n",
        "        <th style=\"padding-left: 1em; padding-right: 1em; text-align: center\">norm</th>\n",
        "        <th style=\"padding-left: 1em; padding-right: 1em; text-align: center\">norm_artist_song</th>\n",
        "    </tr>\n",
        "    <tr>\n",
        "        <td style=\"padding-left: 1em; padding-right: 1em; text-align: center; vertical-align: top\">0.00538079470199</td>\n",
        "        <td style=\"padding-left: 1em; padding-right: 1em; text-align: center; vertical-align: top\">0.00538079470199</td>\n",
        "    </tr>\n",
        "    <tr>\n",
        "        <td style=\"padding-left: 1em; padding-right: 1em; text-align: center; vertical-align: top\">0.00237889273356</td>\n",
        "        <td style=\"padding-left: 1em; padding-right: 1em; text-align: center; vertical-align: top\">0.00237889273356</td>\n",
        "    </tr>\n",
        "    <tr>\n",
        "        <td style=\"padding-left: 1em; padding-right: 1em; text-align: center; vertical-align: top\">0.00216634937307</td>\n",
        "        <td style=\"padding-left: 1em; padding-right: 1em; text-align: center; vertical-align: top\">0.00216634937307</td>\n",
        "    </tr>\n",
        "    <tr>\n",
        "        <td style=\"padding-left: 1em; padding-right: 1em; text-align: center; vertical-align: top\">0.00834649221746</td>\n",
        "        <td style=\"padding-left: 1em; padding-right: 1em; text-align: center; vertical-align: top\">0.00834649221746</td>\n",
        "    </tr>\n",
        "    <tr>\n",
        "        <td style=\"padding-left: 1em; padding-right: 1em; text-align: center; vertical-align: top\">0.00124973963758</td>\n",
        "        <td style=\"padding-left: 1em; padding-right: 1em; text-align: center; vertical-align: top\">0.00124973963758</td>\n",
        "    </tr>\n",
        "    <tr>\n",
        "        <td style=\"padding-left: 1em; padding-right: 1em; text-align: center; vertical-align: top\">0.00437109723461</td>\n",
        "        <td style=\"padding-left: 1em; padding-right: 1em; text-align: center; vertical-align: top\">0.00437109723461</td>\n",
        "    </tr>\n",
        "    <tr>\n",
        "        <td style=\"padding-left: 1em; padding-right: 1em; text-align: center; vertical-align: top\">0.00170297029703</td>\n",
        "        <td style=\"padding-left: 1em; padding-right: 1em; text-align: center; vertical-align: top\">0.00170297029703</td>\n",
        "    </tr>\n",
        "    <tr>\n",
        "        <td style=\"padding-left: 1em; padding-right: 1em; text-align: center; vertical-align: top\">0.00183295146844</td>\n",
        "        <td style=\"padding-left: 1em; padding-right: 1em; text-align: center; vertical-align: top\">0.00183295146844</td>\n",
        "    </tr>\n",
        "    <tr>\n",
        "        <td style=\"padding-left: 1em; padding-right: 1em; text-align: center; vertical-align: top\">0.0017356892422</td>\n",
        "        <td style=\"padding-left: 1em; padding-right: 1em; text-align: center; vertical-align: top\">0.0017356892422</td>\n",
        "    </tr>\n",
        "    <tr>\n",
        "        <td style=\"padding-left: 1em; padding-right: 1em; text-align: center; vertical-align: top\">0.000962292394326</td>\n",
        "        <td style=\"padding-left: 1em; padding-right: 1em; text-align: center; vertical-align: top\">0.000962292394326</td>\n",
        "    </tr>\n",
        "    <tr>\n",
        "        <td style=\"padding-left: 1em; padding-right: 1em; text-align: center; vertical-align: top\">...</td>\n",
        "        <td style=\"padding-left: 1em; padding-right: 1em; text-align: center; vertical-align: top\">...</td>\n",
        "    </tr>\n",
        "</table>\n",
        "[8989 rows x 8 columns]<br/>Note: Only the head of the SFrame is printed.<br/>You can use print_rows(num_rows=m, num_columns=n) to print more rows and columns.\n",
        "</div>"
       ],
       "metadata": {},
       "output_type": "pyout",
       "prompt_number": 472,
       "text": [
        "Columns:\n",
        "\tartist\tstr\n",
        "\tsong\tstr\n",
        "\tuser\tstr\n",
        "\tCount\tint\n",
        "\tartist_song\tstr\n",
        "\ttotal_cnt\tint\n",
        "\tnorm\tfloat\n",
        "\tnorm_artist_song\tfloat\n",
        "\n",
        "Rows: 8989\n",
        "\n",
        "Data:\n",
        "+--------------------------------+--------------------------------+-------------+\n",
        "|             artist             |              song              |     user    |\n",
        "+--------------------------------+--------------------------------+-------------+\n",
        "|         Richard Swift          |      Artist & Repertoire       | user_000234 |\n",
        "|           The Frames           | What Happens When The Hear ... | user_000503 |\n",
        "|            Jakalope            |        Nothing Nowhere         | user_000885 |\n",
        "|        Strike Anywhere         |          You'Re Fired          | user_000085 |\n",
        "|             Enigma             |      T.N.T. For The Brain      | user_000612 |\n",
        "|          Jessy Greene          |           Time Bomb            | user_000008 |\n",
        "|           Field Mob            |          At The Park           | user_000685 |\n",
        "|             Hocico             |          About A Dead          | user_000612 |\n",
        "| \\xe3\\x83\\xa0\\xe3\\x83\\x83\\x ... |         Saishuu Ressha         | user_000033 |\n",
        "|       The Goo Goo Dolls        |              Iris              | user_000709 |\n",
        "+--------------------------------+--------------------------------+-------------+\n",
        "+-------+--------------------------------+-----------+-------------------+\n",
        "| Count |          artist_song           | total_cnt |        norm       |\n",
        "+-------+--------------------------------+-----------+-------------------+\n",
        "|   39  | Richard Swift: Artist & Re ... |    7248   |  0.00538079470199 |\n",
        "|   33  | The Frames: What Happens W ... |   13872   |  0.00237889273356 |\n",
        "|   33  |   Jakalope: Nothing Nowhere    |   15233   |  0.00216634937307 |\n",
        "|   37  | Strike Anywhere: You'Re Fired  |    4433   |  0.00834649221746 |\n",
        "|   30  |  Enigma: T.N.T. For The Brain  |   24005   |  0.00124973963758 |\n",
        "|   49  |    Jessy Greene: Time Bomb     |   11210   |  0.00437109723461 |\n",
        "|   43  |     Field Mob: At The Park     |   25250   |  0.00170297029703 |\n",
        "|   44  |      Hocico: About A Dead      |   24005   |  0.00183295146844 |\n",
        "|   50  | \\xe3\\x83\\xa0\\xe3\\x83\\x83\\x ... |   28807   |  0.0017356892422  |\n",
        "|   27  |    The Goo Goo Dolls: Iris     |   28058   | 0.000962292394326 |\n",
        "+-------+--------------------------------+-----------+-------------------+\n",
        "+-------------------+\n",
        "|  norm_artist_song |\n",
        "+-------------------+\n",
        "|  0.00538079470199 |\n",
        "|  0.00237889273356 |\n",
        "|  0.00216634937307 |\n",
        "|  0.00834649221746 |\n",
        "|  0.00124973963758 |\n",
        "|  0.00437109723461 |\n",
        "|  0.00170297029703 |\n",
        "|  0.00183295146844 |\n",
        "|  0.0017356892422  |\n",
        "| 0.000962292394326 |\n",
        "|        ...        |\n",
        "+-------------------+\n",
        "[8989 rows x 8 columns]\n",
        "Note: Only the head of the SFrame is printed.\n",
        "You can use print_rows(num_rows=m, num_columns=n) to print more rows and columns."
       ]
      }
     ],
     "prompt_number": 472
    },
    {
     "cell_type": "code",
     "collapsed": false,
     "input": [
      "smaller_norm['Count'].mean()"
     ],
     "language": "python",
     "metadata": {},
     "outputs": [
      {
       "metadata": {},
       "output_type": "pyout",
       "prompt_number": 471,
       "text": [
        "42.79563911447321"
       ]
      }
     ],
     "prompt_number": 471
    },
    {
     "cell_type": "code",
     "collapsed": false,
     "input": [],
     "language": "python",
     "metadata": {},
     "outputs": []
    }
   ],
   "metadata": {}
  }
 ]
}