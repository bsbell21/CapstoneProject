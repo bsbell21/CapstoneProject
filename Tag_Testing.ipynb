{
 "metadata": {
  "name": ""
 },
 "nbformat": 3,
 "nbformat_minor": 0,
 "worksheets": [
  {
   "cells": [
    {
     "cell_type": "code",
     "collapsed": false,
     "input": [
      "import graphlab as gl"
     ],
     "language": "python",
     "metadata": {},
     "outputs": [],
     "prompt_number": 1
    },
    {
     "cell_type": "code",
     "collapsed": false,
     "input": [
      "sim_model = gl.load_model('artist_sim_model_terms')"
     ],
     "language": "python",
     "metadata": {},
     "outputs": [
      {
       "output_type": "stream",
       "stream": "stderr",
       "text": [
        "[INFO] Start server at: ipc:///tmp/graphlab_server-12350 - Server binary: /Users/Zipfian/anaconda/lib/python2.7/site-packages/graphlab/unity_server - Server log: /tmp/graphlab_server_1415666405.log\n"
       ]
      },
      {
       "output_type": "stream",
       "stream": "stderr",
       "text": [
        "[INFO] GraphLab Server Version: 1.0.1\n"
       ]
      }
     ],
     "prompt_number": 2
    },
    {
     "cell_type": "code",
     "collapsed": false,
     "input": [
      "user0 = 'c66c10a9567f0d82ff31441a9fd5063e5cd9dfe8'"
     ],
     "language": "python",
     "metadata": {},
     "outputs": [],
     "prompt_number": 10
    },
    {
     "cell_type": "code",
     "collapsed": false,
     "input": [
      "import msd_sql_functions as msd"
     ],
     "language": "python",
     "metadata": {},
     "outputs": [],
     "prompt_number": 7
    },
    {
     "cell_type": "code",
     "collapsed": false,
     "input": [
      "m = msd.MSD_Queries()"
     ],
     "language": "python",
     "metadata": {},
     "outputs": [],
     "prompt_number": 8
    },
    {
     "cell_type": "code",
     "collapsed": false,
     "input": [
      "user0_listens = [('c66c10a9567f0d82ff31441a9fd5063e5cd9dfe8', 'AR0IVTL1187B9AD520', 2L),\n",
      " ('c66c10a9567f0d82ff31441a9fd5063e5cd9dfe8', 'AR3QM7J1187FB43F7E', 3L),\n",
      " ('c66c10a9567f0d82ff31441a9fd5063e5cd9dfe8', 'AR3SPD91187B9B63E3', 6L),\n",
      " ('c66c10a9567f0d82ff31441a9fd5063e5cd9dfe8', 'AR5N8VN1187FB37A4E', 3L),\n",
      " ('c66c10a9567f0d82ff31441a9fd5063e5cd9dfe8', 'AR6G4V01187B9AD086', 1L),\n",
      " ('c66c10a9567f0d82ff31441a9fd5063e5cd9dfe8', 'AR6VHEC1187FB5AC0D', 3L),\n",
      " ('c66c10a9567f0d82ff31441a9fd5063e5cd9dfe8', 'ARAK3X11187B98FCB1', 1L),\n",
      " ('c66c10a9567f0d82ff31441a9fd5063e5cd9dfe8', 'ARBJSO81187B9BA09B', 1L),\n",
      " ('c66c10a9567f0d82ff31441a9fd5063e5cd9dfe8', 'ARGV4ZY1187FB52FD6', 1L),\n",
      " ('c66c10a9567f0d82ff31441a9fd5063e5cd9dfe8', 'ARH5FJJ1187FB3F787', 1L),\n",
      " ('c66c10a9567f0d82ff31441a9fd5063e5cd9dfe8', 'ARH6W4X1187B99274F', 1L),\n",
      " ('c66c10a9567f0d82ff31441a9fd5063e5cd9dfe8', 'ARICCZI1187B9AEBB3', 3L),\n",
      " ('c66c10a9567f0d82ff31441a9fd5063e5cd9dfe8', 'ARIL5841187FB5C061', 1L),\n",
      " ('c66c10a9567f0d82ff31441a9fd5063e5cd9dfe8', 'ARL3VGT1187FB40E8E', 1L),\n",
      " ('c66c10a9567f0d82ff31441a9fd5063e5cd9dfe8', 'ARM9Q581187B98E984', 1L),\n",
      " ('c66c10a9567f0d82ff31441a9fd5063e5cd9dfe8', 'ARN7AMB1187FB53323', 1L),\n",
      " ('c66c10a9567f0d82ff31441a9fd5063e5cd9dfe8', 'ARUQFUJ1187FB42AEC', 3L),\n",
      " ('c66c10a9567f0d82ff31441a9fd5063e5cd9dfe8', 'ARWD25M1187FB4C563', 8L),\n",
      " ('c66c10a9567f0d82ff31441a9fd5063e5cd9dfe8', 'ARZRUJ51187FB38051', 2L)]"
     ],
     "language": "python",
     "metadata": {},
     "outputs": [],
     "prompt_number": 9
    },
    {
     "cell_type": "code",
     "collapsed": false,
     "input": [
      "user0listens_arr = np.array(user0_listens)"
     ],
     "language": "python",
     "metadata": {},
     "outputs": [],
     "prompt_number": 11
    },
    {
     "cell_type": "code",
     "collapsed": false,
     "input": [
      "artist_ids = user0listens_arr[:,1]\n"
     ],
     "language": "python",
     "metadata": {},
     "outputs": [],
     "prompt_number": 12
    },
    {
     "cell_type": "code",
     "collapsed": false,
     "input": [
      "artist_ids = list(artist_ids)"
     ],
     "language": "python",
     "metadata": {},
     "outputs": [],
     "prompt_number": 13
    },
    {
     "cell_type": "code",
     "collapsed": false,
     "input": [
      "['yo mammy']"
     ],
     "language": "python",
     "metadata": {},
     "outputs": [
      {
       "metadata": {},
       "output_type": "pyout",
       "prompt_number": 16,
       "text": [
        "['yo mammy']"
       ]
      }
     ],
     "prompt_number": 16
    },
    {
     "cell_type": "code",
     "collapsed": false,
     "input": [
      "artist_ids"
     ],
     "language": "python",
     "metadata": {},
     "outputs": [
      {
       "metadata": {},
       "output_type": "pyout",
       "prompt_number": 14,
       "text": [
        "['AR0IVTL1187B9AD520',\n",
        " 'AR3QM7J1187FB43F7E',\n",
        " 'AR3SPD91187B9B63E3',\n",
        " 'AR5N8VN1187FB37A4E',\n",
        " 'AR6G4V01187B9AD086',\n",
        " 'AR6VHEC1187FB5AC0D',\n",
        " 'ARAK3X11187B98FCB1',\n",
        " 'ARBJSO81187B9BA09B',\n",
        " 'ARGV4ZY1187FB52FD6',\n",
        " 'ARH5FJJ1187FB3F787',\n",
        " 'ARH6W4X1187B99274F',\n",
        " 'ARICCZI1187B9AEBB3',\n",
        " 'ARIL5841187FB5C061',\n",
        " 'ARL3VGT1187FB40E8E',\n",
        " 'ARM9Q581187B98E984',\n",
        " 'ARN7AMB1187FB53323',\n",
        " 'ARUQFUJ1187FB42AEC',\n",
        " 'ARWD25M1187FB4C563',\n",
        " 'ARZRUJ51187FB38051']"
       ]
      }
     ],
     "prompt_number": 14
    },
    {
     "cell_type": "code",
     "collapsed": false,
     "input": [
      "artist_names = m.get_artist_names(artist_ids)"
     ],
     "language": "python",
     "metadata": {},
     "outputs": [
      {
       "output_type": "stream",
       "stream": "stdout",
       "text": [
        "SELECT * FROM artist_name_ids_unique WHERE artist_id IN ('AR0IVTL1187B9AD520','AR3QM7J1187FB43F7E','AR3SPD91187B9B63E3','AR5N8VN1187FB37A4E','AR6G4V01187B9AD086','AR6VHEC1187FB5AC0D','ARAK3X11187B98FCB1','ARBJSO81187B9BA09B','ARGV4ZY1187FB52FD6','ARH5FJJ1187FB3F787','ARH6W4X1187B99274F','ARICCZI1187B9AEBB3','ARIL5841187FB5C061','ARL3VGT1187FB40E8E','ARM9Q581187B98E984','ARN7AMB1187FB53323','ARUQFUJ1187FB42AEC','ARWD25M1187FB4C563','ARZRUJ51187FB38051') ;\n"
       ]
      }
     ],
     "prompt_number": 18
    },
    {
     "cell_type": "code",
     "collapsed": false,
     "input": [
      "artist_names"
     ],
     "language": "python",
     "metadata": {},
     "outputs": [
      {
       "metadata": {},
       "output_type": "pyout",
       "prompt_number": 19,
       "text": [
        "[('AR0IVTL1187B9AD520', 'Cheikh Al Houda\\xc3\\xaefi'),\n",
        " ('AR3QM7J1187FB43F7E', 'Caf\\xc3\\xa9 Tacuba & David Bryne'),\n",
        " ('AR3SPD91187B9B63E3', 'Henri Roger Trio'),\n",
        " ('AR5N8VN1187FB37A4E', 'Soundgarden'),\n",
        " ('AR6G4V01187B9AD086', 'Queens Of The Stone Age'),\n",
        " ('AR6VHEC1187FB5AC0D', 'Thalia'),\n",
        " ('ARAK3X11187B98FCB1', 'Plastilina Mosh'),\n",
        " ('ARBJSO81187B9BA09B', 'Soda Stereo'),\n",
        " ('ARGV4ZY1187FB52FD6', 'Molotov'),\n",
        " ('ARH5FJJ1187FB3F787', 'Alanis Morissette'),\n",
        " ('ARH6W4X1187B99274F', 'Radiohead'),\n",
        " ('ARICCZI1187B9AEBB3', 'FBOM'),\n",
        " ('ARIL5841187FB5C061', 'Duffy'),\n",
        " ('ARL3VGT1187FB40E8E', 'Los Fabulosos'),\n",
        " ('ARM9Q581187B98E984', 'Kinky'),\n",
        " ('ARN7AMB1187FB53323', 'Chetes'),\n",
        " ('ARUQFUJ1187FB42AEC', 'Beny More'),\n",
        " ('ARWD25M1187FB4C563', 'Amy Winehouse'),\n",
        " ('ARZRUJ51187FB38051', 'Brilliant Red Lights')]"
       ]
      }
     ],
     "prompt_number": 19
    },
    {
     "cell_type": "code",
     "collapsed": false,
     "input": [
      "m.get_artist_id(\"The Black Keys\")"
     ],
     "language": "python",
     "metadata": {},
     "outputs": [
      {
       "metadata": {},
       "output_type": "pyout",
       "prompt_number": 51,
       "text": [
        "'ARS8GNX1187B9B5141'"
       ]
      }
     ],
     "prompt_number": 51
    },
    {
     "cell_type": "code",
     "collapsed": false,
     "input": [
      "artist_ids"
     ],
     "language": "python",
     "metadata": {},
     "outputs": [
      {
       "metadata": {},
       "output_type": "pyout",
       "prompt_number": 14,
       "text": [
        "array(['AR0IVTL1187B9AD520', 'AR3QM7J1187FB43F7E', 'AR3SPD91187B9B63E3',\n",
        "       'AR5N8VN1187FB37A4E', 'AR6G4V01187B9AD086', 'AR6VHEC1187FB5AC0D',\n",
        "       'ARAK3X11187B98FCB1', 'ARBJSO81187B9BA09B', 'ARGV4ZY1187FB52FD6',\n",
        "       'ARH5FJJ1187FB3F787', 'ARH6W4X1187B99274F', 'ARICCZI1187B9AEBB3',\n",
        "       'ARIL5841187FB5C061', 'ARL3VGT1187FB40E8E', 'ARM9Q581187B98E984',\n",
        "       'ARN7AMB1187FB53323', 'ARUQFUJ1187FB42AEC', 'ARWD25M1187FB4C563',\n",
        "       'ARZRUJ51187FB38051'], \n",
        "      dtype='|S40')"
       ]
      }
     ],
     "prompt_number": 14
    },
    {
     "cell_type": "code",
     "collapsed": false,
     "input": [
      "filter_values_str = ''\n",
      "for value in artist_ids:\n",
      "    filter_values_str += \"'%s',\" % value"
     ],
     "language": "python",
     "metadata": {},
     "outputs": [],
     "prompt_number": 15
    },
    {
     "cell_type": "code",
     "collapsed": false,
     "input": [
      "import pandas as pd"
     ],
     "language": "python",
     "metadata": {},
     "outputs": [],
     "prompt_number": 23
    },
    {
     "cell_type": "code",
     "collapsed": false,
     "input": [
      "df = pd.DataFrame(user0listens_arr)"
     ],
     "language": "python",
     "metadata": {},
     "outputs": [],
     "prompt_number": 27
    },
    {
     "cell_type": "code",
     "collapsed": false,
     "input": [
      "df.columns = ['term','artist_id','listen_count']"
     ],
     "language": "python",
     "metadata": {},
     "outputs": [],
     "prompt_number": 28
    },
    {
     "cell_type": "code",
     "collapsed": false,
     "input": [
      "df = df[['artist_id','term']]\n",
      "df"
     ],
     "language": "python",
     "metadata": {},
     "outputs": [
      {
       "html": [
        "<div style=\"max-height:1000px;max-width:1500px;overflow:auto;\">\n",
        "<table border=\"1\" class=\"dataframe\">\n",
        "  <thead>\n",
        "    <tr style=\"text-align: right;\">\n",
        "      <th></th>\n",
        "      <th>artist_id</th>\n",
        "      <th>term</th>\n",
        "    </tr>\n",
        "  </thead>\n",
        "  <tbody>\n",
        "    <tr>\n",
        "      <th>0 </th>\n",
        "      <td> AR0IVTL1187B9AD520</td>\n",
        "      <td> c66c10a9567f0d82ff31441a9fd5063e5cd9dfe8</td>\n",
        "    </tr>\n",
        "    <tr>\n",
        "      <th>1 </th>\n",
        "      <td> AR3QM7J1187FB43F7E</td>\n",
        "      <td> c66c10a9567f0d82ff31441a9fd5063e5cd9dfe8</td>\n",
        "    </tr>\n",
        "    <tr>\n",
        "      <th>2 </th>\n",
        "      <td> AR3SPD91187B9B63E3</td>\n",
        "      <td> c66c10a9567f0d82ff31441a9fd5063e5cd9dfe8</td>\n",
        "    </tr>\n",
        "    <tr>\n",
        "      <th>3 </th>\n",
        "      <td> AR5N8VN1187FB37A4E</td>\n",
        "      <td> c66c10a9567f0d82ff31441a9fd5063e5cd9dfe8</td>\n",
        "    </tr>\n",
        "    <tr>\n",
        "      <th>4 </th>\n",
        "      <td> AR6G4V01187B9AD086</td>\n",
        "      <td> c66c10a9567f0d82ff31441a9fd5063e5cd9dfe8</td>\n",
        "    </tr>\n",
        "    <tr>\n",
        "      <th>5 </th>\n",
        "      <td> AR6VHEC1187FB5AC0D</td>\n",
        "      <td> c66c10a9567f0d82ff31441a9fd5063e5cd9dfe8</td>\n",
        "    </tr>\n",
        "    <tr>\n",
        "      <th>6 </th>\n",
        "      <td> ARAK3X11187B98FCB1</td>\n",
        "      <td> c66c10a9567f0d82ff31441a9fd5063e5cd9dfe8</td>\n",
        "    </tr>\n",
        "    <tr>\n",
        "      <th>7 </th>\n",
        "      <td> ARBJSO81187B9BA09B</td>\n",
        "      <td> c66c10a9567f0d82ff31441a9fd5063e5cd9dfe8</td>\n",
        "    </tr>\n",
        "    <tr>\n",
        "      <th>8 </th>\n",
        "      <td> ARGV4ZY1187FB52FD6</td>\n",
        "      <td> c66c10a9567f0d82ff31441a9fd5063e5cd9dfe8</td>\n",
        "    </tr>\n",
        "    <tr>\n",
        "      <th>9 </th>\n",
        "      <td> ARH5FJJ1187FB3F787</td>\n",
        "      <td> c66c10a9567f0d82ff31441a9fd5063e5cd9dfe8</td>\n",
        "    </tr>\n",
        "    <tr>\n",
        "      <th>10</th>\n",
        "      <td> ARH6W4X1187B99274F</td>\n",
        "      <td> c66c10a9567f0d82ff31441a9fd5063e5cd9dfe8</td>\n",
        "    </tr>\n",
        "    <tr>\n",
        "      <th>11</th>\n",
        "      <td> ARICCZI1187B9AEBB3</td>\n",
        "      <td> c66c10a9567f0d82ff31441a9fd5063e5cd9dfe8</td>\n",
        "    </tr>\n",
        "    <tr>\n",
        "      <th>12</th>\n",
        "      <td> ARIL5841187FB5C061</td>\n",
        "      <td> c66c10a9567f0d82ff31441a9fd5063e5cd9dfe8</td>\n",
        "    </tr>\n",
        "    <tr>\n",
        "      <th>13</th>\n",
        "      <td> ARL3VGT1187FB40E8E</td>\n",
        "      <td> c66c10a9567f0d82ff31441a9fd5063e5cd9dfe8</td>\n",
        "    </tr>\n",
        "    <tr>\n",
        "      <th>14</th>\n",
        "      <td> ARM9Q581187B98E984</td>\n",
        "      <td> c66c10a9567f0d82ff31441a9fd5063e5cd9dfe8</td>\n",
        "    </tr>\n",
        "    <tr>\n",
        "      <th>15</th>\n",
        "      <td> ARN7AMB1187FB53323</td>\n",
        "      <td> c66c10a9567f0d82ff31441a9fd5063e5cd9dfe8</td>\n",
        "    </tr>\n",
        "    <tr>\n",
        "      <th>16</th>\n",
        "      <td> ARUQFUJ1187FB42AEC</td>\n",
        "      <td> c66c10a9567f0d82ff31441a9fd5063e5cd9dfe8</td>\n",
        "    </tr>\n",
        "    <tr>\n",
        "      <th>17</th>\n",
        "      <td> ARWD25M1187FB4C563</td>\n",
        "      <td> c66c10a9567f0d82ff31441a9fd5063e5cd9dfe8</td>\n",
        "    </tr>\n",
        "    <tr>\n",
        "      <th>18</th>\n",
        "      <td> ARZRUJ51187FB38051</td>\n",
        "      <td> c66c10a9567f0d82ff31441a9fd5063e5cd9dfe8</td>\n",
        "    </tr>\n",
        "  </tbody>\n",
        "</table>\n",
        "</div>"
       ],
       "metadata": {},
       "output_type": "pyout",
       "prompt_number": 30,
       "text": [
        "             artist_id                                      term\n",
        "0   AR0IVTL1187B9AD520  c66c10a9567f0d82ff31441a9fd5063e5cd9dfe8\n",
        "1   AR3QM7J1187FB43F7E  c66c10a9567f0d82ff31441a9fd5063e5cd9dfe8\n",
        "2   AR3SPD91187B9B63E3  c66c10a9567f0d82ff31441a9fd5063e5cd9dfe8\n",
        "3   AR5N8VN1187FB37A4E  c66c10a9567f0d82ff31441a9fd5063e5cd9dfe8\n",
        "4   AR6G4V01187B9AD086  c66c10a9567f0d82ff31441a9fd5063e5cd9dfe8\n",
        "5   AR6VHEC1187FB5AC0D  c66c10a9567f0d82ff31441a9fd5063e5cd9dfe8\n",
        "6   ARAK3X11187B98FCB1  c66c10a9567f0d82ff31441a9fd5063e5cd9dfe8\n",
        "7   ARBJSO81187B9BA09B  c66c10a9567f0d82ff31441a9fd5063e5cd9dfe8\n",
        "8   ARGV4ZY1187FB52FD6  c66c10a9567f0d82ff31441a9fd5063e5cd9dfe8\n",
        "9   ARH5FJJ1187FB3F787  c66c10a9567f0d82ff31441a9fd5063e5cd9dfe8\n",
        "10  ARH6W4X1187B99274F  c66c10a9567f0d82ff31441a9fd5063e5cd9dfe8\n",
        "11  ARICCZI1187B9AEBB3  c66c10a9567f0d82ff31441a9fd5063e5cd9dfe8\n",
        "12  ARIL5841187FB5C061  c66c10a9567f0d82ff31441a9fd5063e5cd9dfe8\n",
        "13  ARL3VGT1187FB40E8E  c66c10a9567f0d82ff31441a9fd5063e5cd9dfe8\n",
        "14  ARM9Q581187B98E984  c66c10a9567f0d82ff31441a9fd5063e5cd9dfe8\n",
        "15  ARN7AMB1187FB53323  c66c10a9567f0d82ff31441a9fd5063e5cd9dfe8\n",
        "16  ARUQFUJ1187FB42AEC  c66c10a9567f0d82ff31441a9fd5063e5cd9dfe8\n",
        "17  ARWD25M1187FB4C563  c66c10a9567f0d82ff31441a9fd5063e5cd9dfe8\n",
        "18  ARZRUJ51187FB38051  c66c10a9567f0d82ff31441a9fd5063e5cd9dfe8"
       ]
      }
     ],
     "prompt_number": 30
    },
    {
     "cell_type": "code",
     "collapsed": false,
     "input": [
      "sf = gl.SFrame(df)\n",
      "sf"
     ],
     "language": "python",
     "metadata": {},
     "outputs": [
      {
       "html": [
        "<div style=\"max-height:1000px;max-width:1500px;overflow:auto;\"><table frame=\"box\" rules=\"cols\">\n",
        "    <tr>\n",
        "        <th style=\"padding-left: 1em; padding-right: 1em; text-align: center\">artist_id</th>\n",
        "        <th style=\"padding-left: 1em; padding-right: 1em; text-align: center\">term</th>\n",
        "    </tr>\n",
        "    <tr>\n",
        "        <td style=\"padding-left: 1em; padding-right: 1em; text-align: center; vertical-align: top\">AR0IVTL1187B9AD520</td>\n",
        "        <td style=\"padding-left: 1em; padding-right: 1em; text-align: center; vertical-align: top\">c66c10a9567f0d82ff31441a9<br>fd5063e5cd9dfe8</td>\n",
        "    </tr>\n",
        "    <tr>\n",
        "        <td style=\"padding-left: 1em; padding-right: 1em; text-align: center; vertical-align: top\">AR3QM7J1187FB43F7E</td>\n",
        "        <td style=\"padding-left: 1em; padding-right: 1em; text-align: center; vertical-align: top\">c66c10a9567f0d82ff31441a9<br>fd5063e5cd9dfe8</td>\n",
        "    </tr>\n",
        "    <tr>\n",
        "        <td style=\"padding-left: 1em; padding-right: 1em; text-align: center; vertical-align: top\">AR3SPD91187B9B63E3</td>\n",
        "        <td style=\"padding-left: 1em; padding-right: 1em; text-align: center; vertical-align: top\">c66c10a9567f0d82ff31441a9<br>fd5063e5cd9dfe8</td>\n",
        "    </tr>\n",
        "    <tr>\n",
        "        <td style=\"padding-left: 1em; padding-right: 1em; text-align: center; vertical-align: top\">AR5N8VN1187FB37A4E</td>\n",
        "        <td style=\"padding-left: 1em; padding-right: 1em; text-align: center; vertical-align: top\">c66c10a9567f0d82ff31441a9<br>fd5063e5cd9dfe8</td>\n",
        "    </tr>\n",
        "    <tr>\n",
        "        <td style=\"padding-left: 1em; padding-right: 1em; text-align: center; vertical-align: top\">AR6G4V01187B9AD086</td>\n",
        "        <td style=\"padding-left: 1em; padding-right: 1em; text-align: center; vertical-align: top\">c66c10a9567f0d82ff31441a9<br>fd5063e5cd9dfe8</td>\n",
        "    </tr>\n",
        "    <tr>\n",
        "        <td style=\"padding-left: 1em; padding-right: 1em; text-align: center; vertical-align: top\">AR6VHEC1187FB5AC0D</td>\n",
        "        <td style=\"padding-left: 1em; padding-right: 1em; text-align: center; vertical-align: top\">c66c10a9567f0d82ff31441a9<br>fd5063e5cd9dfe8</td>\n",
        "    </tr>\n",
        "    <tr>\n",
        "        <td style=\"padding-left: 1em; padding-right: 1em; text-align: center; vertical-align: top\">ARAK3X11187B98FCB1</td>\n",
        "        <td style=\"padding-left: 1em; padding-right: 1em; text-align: center; vertical-align: top\">c66c10a9567f0d82ff31441a9<br>fd5063e5cd9dfe8</td>\n",
        "    </tr>\n",
        "    <tr>\n",
        "        <td style=\"padding-left: 1em; padding-right: 1em; text-align: center; vertical-align: top\">ARBJSO81187B9BA09B</td>\n",
        "        <td style=\"padding-left: 1em; padding-right: 1em; text-align: center; vertical-align: top\">c66c10a9567f0d82ff31441a9<br>fd5063e5cd9dfe8</td>\n",
        "    </tr>\n",
        "    <tr>\n",
        "        <td style=\"padding-left: 1em; padding-right: 1em; text-align: center; vertical-align: top\">ARGV4ZY1187FB52FD6</td>\n",
        "        <td style=\"padding-left: 1em; padding-right: 1em; text-align: center; vertical-align: top\">c66c10a9567f0d82ff31441a9<br>fd5063e5cd9dfe8</td>\n",
        "    </tr>\n",
        "    <tr>\n",
        "        <td style=\"padding-left: 1em; padding-right: 1em; text-align: center; vertical-align: top\">ARH5FJJ1187FB3F787</td>\n",
        "        <td style=\"padding-left: 1em; padding-right: 1em; text-align: center; vertical-align: top\">c66c10a9567f0d82ff31441a9<br>fd5063e5cd9dfe8</td>\n",
        "    </tr>\n",
        "    <tr>\n",
        "        <td style=\"padding-left: 1em; padding-right: 1em; text-align: center; vertical-align: top\">...</td>\n",
        "        <td style=\"padding-left: 1em; padding-right: 1em; text-align: center; vertical-align: top\">...</td>\n",
        "    </tr>\n",
        "</table>\n",
        "[19 rows x 2 columns]<br/>Note: Only the head of the SFrame is printed.<br/>You can use print_rows(num_rows=m, num_columns=n) to print more rows and columns.\n",
        "</div>"
       ],
       "metadata": {},
       "output_type": "pyout",
       "prompt_number": 31,
       "text": [
        "Columns:\n",
        "\tartist_id\tstr\n",
        "\tterm\tstr\n",
        "\n",
        "Rows: 19\n",
        "\n",
        "Data:\n",
        "+--------------------+--------------------------------+\n",
        "|     artist_id      |              term              |\n",
        "+--------------------+--------------------------------+\n",
        "| AR0IVTL1187B9AD520 | c66c10a9567f0d82ff31441a9f ... |\n",
        "| AR3QM7J1187FB43F7E | c66c10a9567f0d82ff31441a9f ... |\n",
        "| AR3SPD91187B9B63E3 | c66c10a9567f0d82ff31441a9f ... |\n",
        "| AR5N8VN1187FB37A4E | c66c10a9567f0d82ff31441a9f ... |\n",
        "| AR6G4V01187B9AD086 | c66c10a9567f0d82ff31441a9f ... |\n",
        "| AR6VHEC1187FB5AC0D | c66c10a9567f0d82ff31441a9f ... |\n",
        "| ARAK3X11187B98FCB1 | c66c10a9567f0d82ff31441a9f ... |\n",
        "| ARBJSO81187B9BA09B | c66c10a9567f0d82ff31441a9f ... |\n",
        "| ARGV4ZY1187FB52FD6 | c66c10a9567f0d82ff31441a9f ... |\n",
        "| ARH5FJJ1187FB3F787 | c66c10a9567f0d82ff31441a9f ... |\n",
        "|        ...         |              ...               |\n",
        "+--------------------+--------------------------------+\n",
        "[19 rows x 2 columns]\n",
        "Note: Only the head of the SFrame is printed.\n",
        "You can use print_rows(num_rows=m, num_columns=n) to print more rows and columns."
       ]
      }
     ],
     "prompt_number": 31
    },
    {
     "cell_type": "code",
     "collapsed": false,
     "input": [
      "recs0=sim_model.recommend(users = [user0], new_observation_data = sf, k = -1, exclude_known=False)"
     ],
     "language": "python",
     "metadata": {},
     "outputs": [],
     "prompt_number": 35
    },
    {
     "cell_type": "code",
     "collapsed": false,
     "input": [
      " m.get_artist_names(list(recs0['artist_id'][:20]))"
     ],
     "language": "python",
     "metadata": {},
     "outputs": [
      {
       "output_type": "stream",
       "stream": "stdout",
       "text": [
        "SELECT * FROM artist_name_ids_unique WHERE artist_id IN ('ARYU0GB1187FB52CEA','ARZLUSX1187FB4D40A','AR90WS41187FB3F064','ARW24PI1187B9A6126','AROKAO61187FB38105','ARGN0KR1187B991A99','ARU51CY1187B9A057C','ARI4O061187B991624','ARVZDOM1187B9B49C9','AROCZUC1187B9AD05B','ARUV3981187B9B6724','ARP3Y8L1187B99885B','AR9J75I119B8668569','AR6XEHV1187FB43D1A','ARSW5F51187FB4CFC9','ARIVUN31187FB4C58B','ARYBYWC1187B9AE046','ARHXK5N1187B98F942','AROF4LP1187FB41C51','ARPYV1F1187FB444FA') ;\n"
       ]
      },
      {
       "metadata": {},
       "output_type": "pyout",
       "prompt_number": 39,
       "text": [
        "[('AR6XEHV1187FB43D1A', 'Bonnie Raitt'),\n",
        " ('AR90WS41187FB3F064', 'Ray LaMontagne'),\n",
        " ('AR9J75I119B8668569', 'H\\xc3\\xa4vy RoxX'),\n",
        " ('ARGN0KR1187B991A99', 'Camila'),\n",
        " ('ARHXK5N1187B98F942', 'Bobby Solo'),\n",
        " ('ARI4O061187B991624', 'Matt Nathanson'),\n",
        " ('ARIVUN31187FB4C58B', 'Battles'),\n",
        " ('AROCZUC1187B9AD05B', 'Elvis Costello'),\n",
        " ('AROF4LP1187FB41C51', 'Selena'),\n",
        " ('AROKAO61187FB38105', 'Christopher Hopper'),\n",
        " ('ARP3Y8L1187B99885B', 'Vesta'),\n",
        " ('ARPYV1F1187FB444FA', 'Hamilton_ Chico'),\n",
        " ('ARSW5F51187FB4CFC9', 'Alice In Chains'),\n",
        " ('ARU51CY1187B9A057C', 'Carlos Santana'),\n",
        " ('ARUV3981187B9B6724', 'Hanson'),\n",
        " ('ARVZDOM1187B9B49C9', 'Barry Manilow'),\n",
        " ('ARW24PI1187B9A6126', 'A-Studio'),\n",
        " ('ARYBYWC1187B9AE046', 'Jools Holland'),\n",
        " ('ARYU0GB1187FB52CEA', 'John Waite'),\n",
        " ('ARZLUSX1187FB4D40A', 'Knack')]"
       ]
      }
     ],
     "prompt_number": 39
    },
    {
     "cell_type": "code",
     "collapsed": false,
     "input": [
      "list(recs0['artist_id'][:20])"
     ],
     "language": "python",
     "metadata": {},
     "outputs": [
      {
       "metadata": {},
       "output_type": "pyout",
       "prompt_number": 38,
       "text": [
        "['ARYU0GB1187FB52CEA',\n",
        " 'ARZLUSX1187FB4D40A',\n",
        " 'AR90WS41187FB3F064',\n",
        " 'ARW24PI1187B9A6126',\n",
        " 'AROKAO61187FB38105',\n",
        " 'ARGN0KR1187B991A99',\n",
        " 'ARU51CY1187B9A057C',\n",
        " 'ARI4O061187B991624',\n",
        " 'ARVZDOM1187B9B49C9',\n",
        " 'AROCZUC1187B9AD05B',\n",
        " 'ARUV3981187B9B6724',\n",
        " 'ARP3Y8L1187B99885B',\n",
        " 'AR9J75I119B8668569',\n",
        " 'AR6XEHV1187FB43D1A',\n",
        " 'ARSW5F51187FB4CFC9',\n",
        " 'ARIVUN31187FB4C58B',\n",
        " 'ARYBYWC1187B9AE046',\n",
        " 'ARHXK5N1187B98F942',\n",
        " 'AROF4LP1187FB41C51',\n",
        " 'ARPYV1F1187FB444FA']"
       ]
      }
     ],
     "prompt_number": 38
    },
    {
     "cell_type": "code",
     "collapsed": false,
     "input": [
      "import pipeline_1110 as p"
     ],
     "language": "python",
     "metadata": {},
     "outputs": [],
     "prompt_number": 40
    },
    {
     "cell_type": "code",
     "collapsed": false,
     "input": [
      "cm = p.CheckModel()"
     ],
     "language": "python",
     "metadata": {},
     "outputs": [],
     "prompt_number": 41
    },
    {
     "cell_type": "code",
     "collapsed": false,
     "input": [
      "cm.load_model('artist_sim_model_triplets', model_cols = ['user','artist_id','play_count'], user_col = 'user', item_col = 'artist_id', listen_col = 'play_count')"
     ],
     "language": "python",
     "metadata": {},
     "outputs": [],
     "prompt_number": 46
    },
    {
     "cell_type": "code",
     "collapsed": false,
     "input": [
      "df = cm.get_user_data('000c2074db9bed50913055c8cbe847709b6d3235')"
     ],
     "language": "python",
     "metadata": {},
     "outputs": [
      {
       "output_type": "stream",
       "stream": "stdout",
       "text": [
        "SELECT * FROM triplets_artists WHERE \"user\" IN ('000c2074db9bed50913055c8cbe847709b6d3235') ;\n",
        "SELECT * FROM artist_name_ids_unique WHERE artist_id IN ('AR2FT9X1187FB388C3','AR3GAWW1187B9AD462','AR50P191187B9B46FE','AR68M8R1187B9A86A8','AR83Z6A1187B9B8DAF','AR9KRFN1187B9B6625','ARFMYSI1187B98DFDD','ARFSVL51187B9B00F2','ARHQDAN1187FB50A2A','ARN1XGZ1187B9B956E','ARN653G1187B997B1F','ARNBMT71187B993523','ARNNQBT1187FB437C1','ARQZCW31187B9AC64C','ARTAWLO1187B9ACE3D','ARUN74Q1187FB4B479','ARWPZIE1187B9B7F82','ARYDZL31187B99A143','ARZ4XS71187B9AEF25') ;"
       ]
      },
      {
       "output_type": "stream",
       "stream": "stdout",
       "text": [
        "\n"
       ]
      }
     ],
     "prompt_number": 55
    },
    {
     "cell_type": "code",
     "collapsed": false,
     "input": [
      "top_recs = cm.get_user_recs(df, '000c2074db9bed50913055c8cbe847709b6d3235')"
     ],
     "language": "python",
     "metadata": {},
     "outputs": [
      {
       "output_type": "stream",
       "stream": "stdout",
       "text": [
        "SELECT * FROM artist_name_ids_unique WHERE artist_id IN ('AR17D2T1187FB4DBC2','ART9IB3119B8669227','ARXXTVH1187B9B1D69','ARFF4B41187FB48151','ARMI4NV1187B99D55D','ARGUAHS11F50C4CF7D','AR8UZXF1187B9AB868','ARSS4I01187FB400D9','AR9W55Y1187FB4AA37','ARVXV1J1187FB5BF88','ARL26PR1187FB576E5','AR2JB471187FB470A2','ARQOBT71187FB4CCCA','ARBLDRW1187B9A05A1','ARV41PG1187FB4E2BD','ARFSZGT1187B9B1E44','ARZN0BZ1187B99F496','ARQZCW31187B9AC64C','ARHWR8B1187FB557D3','AR68M8R1187B9A86A8') ;\n"
       ]
      }
     ],
     "prompt_number": 68
    },
    {
     "cell_type": "code",
     "collapsed": false,
     "input": [
      "top_recs"
     ],
     "language": "python",
     "metadata": {},
     "outputs": [
      {
       "metadata": {},
       "output_type": "pyout",
       "prompt_number": 69,
       "text": [
        "[('AR17D2T1187FB4DBC2', 'DJ Madlib'),\n",
        " ('AR2JB471187FB470A2', 'the bird and the bee'),\n",
        " ('AR68M8R1187B9A86A8', 'The Watts Prophets'),\n",
        " ('AR8UZXF1187B9AB868', 'Andreas Dorau'),\n",
        " ('AR9W55Y1187FB4AA37', 'Dobr\\xc3\\xa1dy \\xc3\\x81kos'),\n",
        " ('ARBLDRW1187B9A05A1', 'The Kills'),\n",
        " ('ARFF4B41187FB48151', 'Sound Choice Karaoke'),\n",
        " ('ARFSZGT1187B9B1E44', 'Rilo Kiley'),\n",
        " ('ARGUAHS11F50C4CF7D', 'Los Traileros Del Norte'),\n",
        " ('ARHWR8B1187FB557D3', 'Rosa Roswita'),\n",
        " ('ARL26PR1187FB576E5', 'Camera Obscura'),\n",
        " ('ARMI4NV1187B99D55D', 'Man Man'),\n",
        " ('ARQOBT71187FB4CCCA', 'Beirut'),\n",
        " ('ARQZCW31187B9AC64C', 'Supervielle'),\n",
        " ('ARSS4I01187FB400D9', 'Erin McKeown'),\n",
        " ('ART9IB3119B8669227', 'Markus Kruneg\\xc3\\xa5rd'),\n",
        " ('ARV41PG1187FB4E2BD', 'Andrew Bird'),\n",
        " ('ARVXV1J1187FB5BF88', 'Foals'),\n",
        " ('ARXXTVH1187B9B1D69', 'Non'),\n",
        " ('ARZN0BZ1187B99F496', 'Neutral Milk Hotel')]"
       ]
      }
     ],
     "prompt_number": 69
    },
    {
     "cell_type": "code",
     "collapsed": false,
     "input": [
      "cm.recs"
     ],
     "language": "python",
     "metadata": {},
     "outputs": [
      {
       "html": [
        "<div style=\"max-height:1000px;max-width:1500px;overflow:auto;\"><table frame=\"box\" rules=\"cols\">\n",
        "    <tr>\n",
        "        <th style=\"padding-left: 1em; padding-right: 1em; text-align: center\">user</th>\n",
        "        <th style=\"padding-left: 1em; padding-right: 1em; text-align: center\">artist_id</th>\n",
        "        <th style=\"padding-left: 1em; padding-right: 1em; text-align: center\">score</th>\n",
        "        <th style=\"padding-left: 1em; padding-right: 1em; text-align: center\">rank</th>\n",
        "    </tr>\n",
        "    <tr>\n",
        "        <td style=\"padding-left: 1em; padding-right: 1em; text-align: center; vertical-align: top\">000c2074db9bed50913055c8c<br>be847709b6d3235</td>\n",
        "        <td style=\"padding-left: 1em; padding-right: 1em; text-align: center; vertical-align: top\">AR17D2T1187FB4DBC2</td>\n",
        "        <td style=\"padding-left: 1em; padding-right: 1em; text-align: center; vertical-align: top\">0.0117878507779</td>\n",
        "        <td style=\"padding-left: 1em; padding-right: 1em; text-align: center; vertical-align: top\">1</td>\n",
        "    </tr>\n",
        "    <tr>\n",
        "        <td style=\"padding-left: 1em; padding-right: 1em; text-align: center; vertical-align: top\">000c2074db9bed50913055c8c<br>be847709b6d3235</td>\n",
        "        <td style=\"padding-left: 1em; padding-right: 1em; text-align: center; vertical-align: top\">ART9IB3119B8669227</td>\n",
        "        <td style=\"padding-left: 1em; padding-right: 1em; text-align: center; vertical-align: top\">0.0113541540806</td>\n",
        "        <td style=\"padding-left: 1em; padding-right: 1em; text-align: center; vertical-align: top\">2</td>\n",
        "    </tr>\n",
        "    <tr>\n",
        "        <td style=\"padding-left: 1em; padding-right: 1em; text-align: center; vertical-align: top\">000c2074db9bed50913055c8c<br>be847709b6d3235</td>\n",
        "        <td style=\"padding-left: 1em; padding-right: 1em; text-align: center; vertical-align: top\">ARXXTVH1187B9B1D69</td>\n",
        "        <td style=\"padding-left: 1em; padding-right: 1em; text-align: center; vertical-align: top\">0.0087691800033</td>\n",
        "        <td style=\"padding-left: 1em; padding-right: 1em; text-align: center; vertical-align: top\">3</td>\n",
        "    </tr>\n",
        "    <tr>\n",
        "        <td style=\"padding-left: 1em; padding-right: 1em; text-align: center; vertical-align: top\">000c2074db9bed50913055c8c<br>be847709b6d3235</td>\n",
        "        <td style=\"padding-left: 1em; padding-right: 1em; text-align: center; vertical-align: top\">ARFF4B41187FB48151</td>\n",
        "        <td style=\"padding-left: 1em; padding-right: 1em; text-align: center; vertical-align: top\">0.00867370264743</td>\n",
        "        <td style=\"padding-left: 1em; padding-right: 1em; text-align: center; vertical-align: top\">4</td>\n",
        "    </tr>\n",
        "    <tr>\n",
        "        <td style=\"padding-left: 1em; padding-right: 1em; text-align: center; vertical-align: top\">000c2074db9bed50913055c8c<br>be847709b6d3235</td>\n",
        "        <td style=\"padding-left: 1em; padding-right: 1em; text-align: center; vertical-align: top\">ARMI4NV1187B99D55D</td>\n",
        "        <td style=\"padding-left: 1em; padding-right: 1em; text-align: center; vertical-align: top\">0.00866499195892</td>\n",
        "        <td style=\"padding-left: 1em; padding-right: 1em; text-align: center; vertical-align: top\">5</td>\n",
        "    </tr>\n",
        "    <tr>\n",
        "        <td style=\"padding-left: 1em; padding-right: 1em; text-align: center; vertical-align: top\">000c2074db9bed50913055c8c<br>be847709b6d3235</td>\n",
        "        <td style=\"padding-left: 1em; padding-right: 1em; text-align: center; vertical-align: top\">ARGUAHS11F50C4CF7D</td>\n",
        "        <td style=\"padding-left: 1em; padding-right: 1em; text-align: center; vertical-align: top\">0.0081697863147</td>\n",
        "        <td style=\"padding-left: 1em; padding-right: 1em; text-align: center; vertical-align: top\">6</td>\n",
        "    </tr>\n",
        "    <tr>\n",
        "        <td style=\"padding-left: 1em; padding-right: 1em; text-align: center; vertical-align: top\">000c2074db9bed50913055c8c<br>be847709b6d3235</td>\n",
        "        <td style=\"padding-left: 1em; padding-right: 1em; text-align: center; vertical-align: top\">AR8UZXF1187B9AB868</td>\n",
        "        <td style=\"padding-left: 1em; padding-right: 1em; text-align: center; vertical-align: top\">0.00812064904039</td>\n",
        "        <td style=\"padding-left: 1em; padding-right: 1em; text-align: center; vertical-align: top\">7</td>\n",
        "    </tr>\n",
        "    <tr>\n",
        "        <td style=\"padding-left: 1em; padding-right: 1em; text-align: center; vertical-align: top\">000c2074db9bed50913055c8c<br>be847709b6d3235</td>\n",
        "        <td style=\"padding-left: 1em; padding-right: 1em; text-align: center; vertical-align: top\">ARSS4I01187FB400D9</td>\n",
        "        <td style=\"padding-left: 1em; padding-right: 1em; text-align: center; vertical-align: top\">0.0079828989288</td>\n",
        "        <td style=\"padding-left: 1em; padding-right: 1em; text-align: center; vertical-align: top\">8</td>\n",
        "    </tr>\n",
        "    <tr>\n",
        "        <td style=\"padding-left: 1em; padding-right: 1em; text-align: center; vertical-align: top\">000c2074db9bed50913055c8c<br>be847709b6d3235</td>\n",
        "        <td style=\"padding-left: 1em; padding-right: 1em; text-align: center; vertical-align: top\">AR9W55Y1187FB4AA37</td>\n",
        "        <td style=\"padding-left: 1em; padding-right: 1em; text-align: center; vertical-align: top\">0.00786008432535</td>\n",
        "        <td style=\"padding-left: 1em; padding-right: 1em; text-align: center; vertical-align: top\">9</td>\n",
        "    </tr>\n",
        "    <tr>\n",
        "        <td style=\"padding-left: 1em; padding-right: 1em; text-align: center; vertical-align: top\">000c2074db9bed50913055c8c<br>be847709b6d3235</td>\n",
        "        <td style=\"padding-left: 1em; padding-right: 1em; text-align: center; vertical-align: top\">ARVXV1J1187FB5BF88</td>\n",
        "        <td style=\"padding-left: 1em; padding-right: 1em; text-align: center; vertical-align: top\">0.00774427847823</td>\n",
        "        <td style=\"padding-left: 1em; padding-right: 1em; text-align: center; vertical-align: top\">10</td>\n",
        "    </tr>\n",
        "    <tr>\n",
        "        <td style=\"padding-left: 1em; padding-right: 1em; text-align: center; vertical-align: top\">...</td>\n",
        "        <td style=\"padding-left: 1em; padding-right: 1em; text-align: center; vertical-align: top\">...</td>\n",
        "        <td style=\"padding-left: 1em; padding-right: 1em; text-align: center; vertical-align: top\">...</td>\n",
        "        <td style=\"padding-left: 1em; padding-right: 1em; text-align: center; vertical-align: top\">...</td>\n",
        "    </tr>\n",
        "</table>\n",
        "[30543 rows x 4 columns]<br/>Note: Only the head of the SFrame is printed.<br/>You can use print_rows(num_rows=m, num_columns=n) to print more rows and columns.\n",
        "</div>"
       ],
       "metadata": {},
       "output_type": "pyout",
       "prompt_number": 70,
       "text": [
        "Columns:\n",
        "\tuser\tstr\n",
        "\tartist_id\tstr\n",
        "\tscore\tfloat\n",
        "\trank\tint\n",
        "\n",
        "Rows: 30543\n",
        "\n",
        "Data:\n",
        "+--------------------------------+--------------------+------------------+------+\n",
        "|              user              |     artist_id      |      score       | rank |\n",
        "+--------------------------------+--------------------+------------------+------+\n",
        "| 000c2074db9bed50913055c8cb ... | AR17D2T1187FB4DBC2 | 0.0117878507779  |  1   |\n",
        "| 000c2074db9bed50913055c8cb ... | ART9IB3119B8669227 | 0.0113541540806  |  2   |\n",
        "| 000c2074db9bed50913055c8cb ... | ARXXTVH1187B9B1D69 | 0.0087691800033  |  3   |\n",
        "| 000c2074db9bed50913055c8cb ... | ARFF4B41187FB48151 | 0.00867370264743 |  4   |\n",
        "| 000c2074db9bed50913055c8cb ... | ARMI4NV1187B99D55D | 0.00866499195892 |  5   |\n",
        "| 000c2074db9bed50913055c8cb ... | ARGUAHS11F50C4CF7D | 0.0081697863147  |  6   |\n",
        "| 000c2074db9bed50913055c8cb ... | AR8UZXF1187B9AB868 | 0.00812064904039 |  7   |\n",
        "| 000c2074db9bed50913055c8cb ... | ARSS4I01187FB400D9 | 0.0079828989288  |  8   |\n",
        "| 000c2074db9bed50913055c8cb ... | AR9W55Y1187FB4AA37 | 0.00786008432535 |  9   |\n",
        "| 000c2074db9bed50913055c8cb ... | ARVXV1J1187FB5BF88 | 0.00774427847823 |  10  |\n",
        "|              ...               |        ...         |       ...        | ...  |\n",
        "+--------------------------------+--------------------+------------------+------+\n",
        "[30543 rows x 4 columns]\n",
        "Note: Only the head of the SFrame is printed.\n",
        "You can use print_rows(num_rows=m, num_columns=n) to print more rows and columns."
       ]
      }
     ],
     "prompt_number": 70
    },
    {
     "cell_type": "code",
     "collapsed": false,
     "input": [
      "type(cm.model)"
     ],
     "language": "python",
     "metadata": {},
     "outputs": [
      {
       "metadata": {},
       "output_type": "pyout",
       "prompt_number": 64,
       "text": [
        "graphlab.toolkits.recommender.item_similarity_recommender.ItemSimilarityRecommender"
       ]
      }
     ],
     "prompt_number": 64
    },
    {
     "cell_type": "code",
     "collapsed": false,
     "input": [
      "type('artist_sim_model_triplets')"
     ],
     "language": "python",
     "metadata": {},
     "outputs": [
      {
       "metadata": {},
       "output_type": "pyout",
       "prompt_number": 65,
       "text": [
        "str"
       ]
      }
     ],
     "prompt_number": 65
    },
    {
     "cell_type": "code",
     "collapsed": false,
     "input": [
      "cm.model"
     ],
     "language": "python",
     "metadata": {},
     "outputs": [
      {
       "metadata": {},
       "output_type": "pyout",
       "prompt_number": 71,
       "text": [
        "ItemSimilarityRecommender\n",
        "\n",
        "Schema\n",
        "  user id:       user\n",
        "  item id:       artist_id\n",
        "\n",
        "Statistics\n",
        "  Training set:        28765976 obs     1019318 users       30543 items\n",
        "\n",
        "Training summary\n",
        "\n",
        "Settings\n",
        "  only top k:            100                           \n",
        "  similarity type:       jaccard                       \n",
        "  threshold:             0.001                         \n",
        "  training method:       auto                          \n"
       ]
      }
     ],
     "prompt_number": 71
    },
    {
     "cell_type": "code",
     "collapsed": false,
     "input": [
      "gr = p.GroupRecommender()"
     ],
     "language": "python",
     "metadata": {},
     "outputs": [],
     "prompt_number": 101
    },
    {
     "cell_type": "code",
     "collapsed": false,
     "input": [
      "gr.load_model(cm.model, cm.model_cols, cm.user_col, cm.item_col, cm.listen_col)"
     ],
     "language": "python",
     "metadata": {},
     "outputs": [],
     "prompt_number": 102
    },
    {
     "cell_type": "code",
     "collapsed": false,
     "input": [
      "gr.model_cols"
     ],
     "language": "python",
     "metadata": {},
     "outputs": [
      {
       "metadata": {},
       "output_type": "pyout",
       "prompt_number": 103,
       "text": [
        "['user', 'artist_id', 'play_count']"
       ]
      }
     ],
     "prompt_number": 103
    },
    {
     "cell_type": "code",
     "collapsed": false,
     "input": [
      "user0 = '000c2074db9bed50913055c8cbe847709b6d3235'\n",
      "user1 = '0015abb5e0ed5d63f20dffe7a350d00fee1e9977'\n",
      "user2 = '00127be0d0a5f735e43ea80a9d172116e20ab886'\n",
      "userlist = [user0, user1, user2]"
     ],
     "language": "python",
     "metadata": {},
     "outputs": [],
     "prompt_number": 104
    },
    {
     "cell_type": "code",
     "collapsed": false,
     "input": [
      "tot_recs = gr.create_user_rec_sf(userlist)"
     ],
     "language": "python",
     "metadata": {},
     "outputs": [
      {
       "output_type": "stream",
       "stream": "stdout",
       "text": [
        "SELECT * FROM triplets_artists WHERE \"user\" IN ('000c2074db9bed50913055c8cbe847709b6d3235','0015abb5e0ed5d63f20dffe7a350d00fee1e9977','00127be0d0a5f735e43ea80a9d172116e20ab886') ;\n"
       ]
      }
     ],
     "prompt_number": 107
    },
    {
     "cell_type": "code",
     "collapsed": false,
     "input": [
      "tot_recs"
     ],
     "language": "python",
     "metadata": {},
     "outputs": [
      {
       "ename": "RuntimeError",
       "evalue": "Communication Failure: 65. ",
       "output_type": "pyerr",
       "traceback": [
        "\u001b[0;31m---------------------------------------------------------------------------\u001b[0m\n\u001b[0;31mRuntimeError\u001b[0m                              Traceback (most recent call last)",
        "\u001b[0;32m<ipython-input-122-301989badc63>\u001b[0m in \u001b[0;36m<module>\u001b[0;34m()\u001b[0m\n\u001b[0;32m----> 1\u001b[0;31m \u001b[0mtot_recs\u001b[0m\u001b[0;34m\u001b[0m\u001b[0m\n\u001b[0m",
        "\u001b[0;32m/Users/Zipfian/anaconda/lib/python2.7/site-packages/IPython/core/displayhook.pyc\u001b[0m in \u001b[0;36m__call__\u001b[0;34m(self, result)\u001b[0m\n\u001b[1;32m    245\u001b[0m             \u001b[0mself\u001b[0m\u001b[0;34m.\u001b[0m\u001b[0mstart_displayhook\u001b[0m\u001b[0;34m(\u001b[0m\u001b[0;34m)\u001b[0m\u001b[0;34m\u001b[0m\u001b[0m\n\u001b[1;32m    246\u001b[0m             \u001b[0mself\u001b[0m\u001b[0;34m.\u001b[0m\u001b[0mwrite_output_prompt\u001b[0m\u001b[0;34m(\u001b[0m\u001b[0;34m)\u001b[0m\u001b[0;34m\u001b[0m\u001b[0m\n\u001b[0;32m--> 247\u001b[0;31m             \u001b[0mformat_dict\u001b[0m\u001b[0;34m,\u001b[0m \u001b[0mmd_dict\u001b[0m \u001b[0;34m=\u001b[0m \u001b[0mself\u001b[0m\u001b[0;34m.\u001b[0m\u001b[0mcompute_format_data\u001b[0m\u001b[0;34m(\u001b[0m\u001b[0mresult\u001b[0m\u001b[0;34m)\u001b[0m\u001b[0;34m\u001b[0m\u001b[0m\n\u001b[0m\u001b[1;32m    248\u001b[0m             \u001b[0mself\u001b[0m\u001b[0;34m.\u001b[0m\u001b[0mwrite_format_data\u001b[0m\u001b[0;34m(\u001b[0m\u001b[0mformat_dict\u001b[0m\u001b[0;34m,\u001b[0m \u001b[0mmd_dict\u001b[0m\u001b[0;34m)\u001b[0m\u001b[0;34m\u001b[0m\u001b[0m\n\u001b[1;32m    249\u001b[0m             \u001b[0mself\u001b[0m\u001b[0;34m.\u001b[0m\u001b[0mupdate_user_ns\u001b[0m\u001b[0;34m(\u001b[0m\u001b[0mresult\u001b[0m\u001b[0;34m)\u001b[0m\u001b[0;34m\u001b[0m\u001b[0m\n",
        "\u001b[0;32m/Users/Zipfian/anaconda/lib/python2.7/site-packages/IPython/core/displayhook.pyc\u001b[0m in \u001b[0;36mcompute_format_data\u001b[0;34m(self, result)\u001b[0m\n\u001b[1;32m    155\u001b[0m \u001b[0;34m\u001b[0m\u001b[0m\n\u001b[1;32m    156\u001b[0m         \"\"\"\n\u001b[0;32m--> 157\u001b[0;31m         \u001b[0;32mreturn\u001b[0m \u001b[0mself\u001b[0m\u001b[0;34m.\u001b[0m\u001b[0mshell\u001b[0m\u001b[0;34m.\u001b[0m\u001b[0mdisplay_formatter\u001b[0m\u001b[0;34m.\u001b[0m\u001b[0mformat\u001b[0m\u001b[0;34m(\u001b[0m\u001b[0mresult\u001b[0m\u001b[0;34m)\u001b[0m\u001b[0;34m\u001b[0m\u001b[0m\n\u001b[0m\u001b[1;32m    158\u001b[0m \u001b[0;34m\u001b[0m\u001b[0m\n\u001b[1;32m    159\u001b[0m     \u001b[0;32mdef\u001b[0m \u001b[0mwrite_format_data\u001b[0m\u001b[0;34m(\u001b[0m\u001b[0mself\u001b[0m\u001b[0;34m,\u001b[0m \u001b[0mformat_dict\u001b[0m\u001b[0;34m,\u001b[0m \u001b[0mmd_dict\u001b[0m\u001b[0;34m=\u001b[0m\u001b[0mNone\u001b[0m\u001b[0;34m)\u001b[0m\u001b[0;34m:\u001b[0m\u001b[0;34m\u001b[0m\u001b[0m\n",
        "\u001b[0;32m/Users/Zipfian/anaconda/lib/python2.7/site-packages/IPython/core/formatters.pyc\u001b[0m in \u001b[0;36mformat\u001b[0;34m(self, obj, include, exclude)\u001b[0m\n\u001b[1;32m    150\u001b[0m             \u001b[0mmd\u001b[0m \u001b[0;34m=\u001b[0m \u001b[0mNone\u001b[0m\u001b[0;34m\u001b[0m\u001b[0m\n\u001b[1;32m    151\u001b[0m             \u001b[0;32mtry\u001b[0m\u001b[0;34m:\u001b[0m\u001b[0;34m\u001b[0m\u001b[0m\n\u001b[0;32m--> 152\u001b[0;31m                 \u001b[0mdata\u001b[0m \u001b[0;34m=\u001b[0m \u001b[0mformatter\u001b[0m\u001b[0;34m(\u001b[0m\u001b[0mobj\u001b[0m\u001b[0;34m)\u001b[0m\u001b[0;34m\u001b[0m\u001b[0m\n\u001b[0m\u001b[1;32m    153\u001b[0m             \u001b[0;32mexcept\u001b[0m\u001b[0;34m:\u001b[0m\u001b[0;34m\u001b[0m\u001b[0m\n\u001b[1;32m    154\u001b[0m                 \u001b[0;31m# FIXME: log the exception\u001b[0m\u001b[0;34m\u001b[0m\u001b[0;34m\u001b[0m\u001b[0m\n",
        "\u001b[0;32m/Users/Zipfian/anaconda/lib/python2.7/site-packages/IPython/core/formatters.pyc\u001b[0m in \u001b[0;36m__call__\u001b[0;34m(self, obj)\u001b[0m\n\u001b[1;32m    479\u001b[0m                 \u001b[0mtype_pprinters\u001b[0m\u001b[0;34m=\u001b[0m\u001b[0mself\u001b[0m\u001b[0;34m.\u001b[0m\u001b[0mtype_printers\u001b[0m\u001b[0;34m,\u001b[0m\u001b[0;34m\u001b[0m\u001b[0m\n\u001b[1;32m    480\u001b[0m                 deferred_pprinters=self.deferred_printers)\n\u001b[0;32m--> 481\u001b[0;31m             \u001b[0mprinter\u001b[0m\u001b[0;34m.\u001b[0m\u001b[0mpretty\u001b[0m\u001b[0;34m(\u001b[0m\u001b[0mobj\u001b[0m\u001b[0;34m)\u001b[0m\u001b[0;34m\u001b[0m\u001b[0m\n\u001b[0m\u001b[1;32m    482\u001b[0m             \u001b[0mprinter\u001b[0m\u001b[0;34m.\u001b[0m\u001b[0mflush\u001b[0m\u001b[0;34m(\u001b[0m\u001b[0;34m)\u001b[0m\u001b[0;34m\u001b[0m\u001b[0m\n\u001b[1;32m    483\u001b[0m             \u001b[0;32mreturn\u001b[0m \u001b[0mstream\u001b[0m\u001b[0;34m.\u001b[0m\u001b[0mgetvalue\u001b[0m\u001b[0;34m(\u001b[0m\u001b[0;34m)\u001b[0m\u001b[0;34m\u001b[0m\u001b[0m\n",
        "\u001b[0;32m/Users/Zipfian/anaconda/lib/python2.7/site-packages/IPython/lib/pretty.pyc\u001b[0m in \u001b[0;36mpretty\u001b[0;34m(self, obj)\u001b[0m\n\u001b[1;32m    360\u001b[0m                             \u001b[0;32mif\u001b[0m \u001b[0mcallable\u001b[0m\u001b[0;34m(\u001b[0m\u001b[0mmeth\u001b[0m\u001b[0;34m)\u001b[0m\u001b[0;34m:\u001b[0m\u001b[0;34m\u001b[0m\u001b[0m\n\u001b[1;32m    361\u001b[0m                                 \u001b[0;32mreturn\u001b[0m \u001b[0mmeth\u001b[0m\u001b[0;34m(\u001b[0m\u001b[0mobj\u001b[0m\u001b[0;34m,\u001b[0m \u001b[0mself\u001b[0m\u001b[0;34m,\u001b[0m \u001b[0mcycle\u001b[0m\u001b[0;34m)\u001b[0m\u001b[0;34m\u001b[0m\u001b[0m\n\u001b[0;32m--> 362\u001b[0;31m             \u001b[0;32mreturn\u001b[0m \u001b[0m_default_pprint\u001b[0m\u001b[0;34m(\u001b[0m\u001b[0mobj\u001b[0m\u001b[0;34m,\u001b[0m \u001b[0mself\u001b[0m\u001b[0;34m,\u001b[0m \u001b[0mcycle\u001b[0m\u001b[0;34m)\u001b[0m\u001b[0;34m\u001b[0m\u001b[0m\n\u001b[0m\u001b[1;32m    363\u001b[0m         \u001b[0;32mfinally\u001b[0m\u001b[0;34m:\u001b[0m\u001b[0;34m\u001b[0m\u001b[0m\n\u001b[1;32m    364\u001b[0m             \u001b[0mself\u001b[0m\u001b[0;34m.\u001b[0m\u001b[0mend_group\u001b[0m\u001b[0;34m(\u001b[0m\u001b[0;34m)\u001b[0m\u001b[0;34m\u001b[0m\u001b[0m\n",
        "\u001b[0;32m/Users/Zipfian/anaconda/lib/python2.7/site-packages/IPython/lib/pretty.pyc\u001b[0m in \u001b[0;36m_default_pprint\u001b[0;34m(obj, p, cycle)\u001b[0m\n\u001b[1;32m    480\u001b[0m     \u001b[0;32mif\u001b[0m \u001b[0mgetattr\u001b[0m\u001b[0;34m(\u001b[0m\u001b[0mklass\u001b[0m\u001b[0;34m,\u001b[0m \u001b[0;34m'__repr__'\u001b[0m\u001b[0;34m,\u001b[0m \u001b[0mNone\u001b[0m\u001b[0;34m)\u001b[0m \u001b[0;32mnot\u001b[0m \u001b[0;32min\u001b[0m \u001b[0m_baseclass_reprs\u001b[0m\u001b[0;34m:\u001b[0m\u001b[0;34m\u001b[0m\u001b[0m\n\u001b[1;32m    481\u001b[0m         \u001b[0;31m# A user-provided repr.\u001b[0m\u001b[0;34m\u001b[0m\u001b[0;34m\u001b[0m\u001b[0m\n\u001b[0;32m--> 482\u001b[0;31m         \u001b[0mp\u001b[0m\u001b[0;34m.\u001b[0m\u001b[0mtext\u001b[0m\u001b[0;34m(\u001b[0m\u001b[0mrepr\u001b[0m\u001b[0;34m(\u001b[0m\u001b[0mobj\u001b[0m\u001b[0;34m)\u001b[0m\u001b[0;34m)\u001b[0m\u001b[0;34m\u001b[0m\u001b[0m\n\u001b[0m\u001b[1;32m    483\u001b[0m         \u001b[0;32mreturn\u001b[0m\u001b[0;34m\u001b[0m\u001b[0m\n\u001b[1;32m    484\u001b[0m     \u001b[0mp\u001b[0m\u001b[0;34m.\u001b[0m\u001b[0mbegin_group\u001b[0m\u001b[0;34m(\u001b[0m\u001b[0;36m1\u001b[0m\u001b[0;34m,\u001b[0m \u001b[0;34m'<'\u001b[0m\u001b[0;34m)\u001b[0m\u001b[0;34m\u001b[0m\u001b[0m\n",
        "\u001b[0;32m/Users/Zipfian/anaconda/lib/python2.7/site-packages/graphlab/data_structures/sframe.pyc\u001b[0m in \u001b[0;36m__repr__\u001b[0;34m(self)\u001b[0m\n\u001b[1;32m   1295\u001b[0m         \"\"\"\n\u001b[1;32m   1296\u001b[0m \u001b[0;34m\u001b[0m\u001b[0m\n\u001b[0;32m-> 1297\u001b[0;31m         \u001b[0mprinted_sf\u001b[0m \u001b[0;34m=\u001b[0m \u001b[0mself\u001b[0m\u001b[0;34m.\u001b[0m\u001b[0m_imagecols_to_stringcols\u001b[0m\u001b[0;34m(\u001b[0m\u001b[0;34m)\u001b[0m\u001b[0;34m\u001b[0m\u001b[0m\n\u001b[0m\u001b[1;32m   1298\u001b[0m         \u001b[0mret\u001b[0m \u001b[0;34m=\u001b[0m \u001b[0mself\u001b[0m\u001b[0;34m.\u001b[0m\u001b[0m__get_column_description__\u001b[0m\u001b[0;34m(\u001b[0m\u001b[0;34m)\u001b[0m\u001b[0;34m;\u001b[0m\u001b[0;34m\u001b[0m\u001b[0m\n\u001b[1;32m   1299\u001b[0m         \u001b[0;32mif\u001b[0m \u001b[0mself\u001b[0m\u001b[0;34m.\u001b[0m\u001b[0m__has_size__\u001b[0m\u001b[0;34m(\u001b[0m\u001b[0;34m)\u001b[0m\u001b[0;34m:\u001b[0m\u001b[0;34m\u001b[0m\u001b[0m\n",
        "\u001b[0;32m/Users/Zipfian/anaconda/lib/python2.7/site-packages/graphlab/data_structures/sframe.pyc\u001b[0m in \u001b[0;36m_imagecols_to_stringcols\u001b[0;34m(self, num_rows)\u001b[0m\n\u001b[1;32m   1465\u001b[0m     \u001b[0;32mdef\u001b[0m \u001b[0m_imagecols_to_stringcols\u001b[0m\u001b[0;34m(\u001b[0m\u001b[0mself\u001b[0m\u001b[0;34m,\u001b[0m \u001b[0mnum_rows\u001b[0m\u001b[0;34m=\u001b[0m\u001b[0;36m10\u001b[0m\u001b[0;34m)\u001b[0m\u001b[0;34m:\u001b[0m\u001b[0;34m\u001b[0m\u001b[0m\n\u001b[1;32m   1466\u001b[0m         \u001b[0;31m# A list of column types\u001b[0m\u001b[0;34m\u001b[0m\u001b[0;34m\u001b[0m\u001b[0m\n\u001b[0;32m-> 1467\u001b[0;31m         \u001b[0mtypes\u001b[0m \u001b[0;34m=\u001b[0m \u001b[0mself\u001b[0m\u001b[0;34m.\u001b[0m\u001b[0mcolumn_types\u001b[0m\u001b[0;34m(\u001b[0m\u001b[0;34m)\u001b[0m\u001b[0;34m\u001b[0m\u001b[0m\n\u001b[0m\u001b[1;32m   1468\u001b[0m         \u001b[0;31m# A list of indexable column names\u001b[0m\u001b[0;34m\u001b[0m\u001b[0;34m\u001b[0m\u001b[0m\n\u001b[1;32m   1469\u001b[0m         \u001b[0mnames\u001b[0m \u001b[0;34m=\u001b[0m \u001b[0mself\u001b[0m\u001b[0;34m.\u001b[0m\u001b[0mcolumn_names\u001b[0m\u001b[0;34m(\u001b[0m\u001b[0;34m)\u001b[0m\u001b[0;34m\u001b[0m\u001b[0m\n",
        "\u001b[0;32m/Users/Zipfian/anaconda/lib/python2.7/site-packages/graphlab/data_structures/sframe.pyc\u001b[0m in \u001b[0;36mcolumn_types\u001b[0;34m(self)\u001b[0m\n\u001b[1;32m   1642\u001b[0m         \u001b[0mdtype\u001b[0m\u001b[0;34m\u001b[0m\u001b[0m\n\u001b[1;32m   1643\u001b[0m         \"\"\"\n\u001b[0;32m-> 1644\u001b[0;31m         \u001b[0;32mreturn\u001b[0m \u001b[0mself\u001b[0m\u001b[0;34m.\u001b[0m\u001b[0m__proxy__\u001b[0m\u001b[0;34m.\u001b[0m\u001b[0mdtype\u001b[0m\u001b[0;34m(\u001b[0m\u001b[0;34m)\u001b[0m\u001b[0;34m\u001b[0m\u001b[0m\n\u001b[0m\u001b[1;32m   1645\u001b[0m \u001b[0;34m\u001b[0m\u001b[0m\n\u001b[1;32m   1646\u001b[0m     \u001b[0;32mdef\u001b[0m \u001b[0mhead\u001b[0m\u001b[0;34m(\u001b[0m\u001b[0mself\u001b[0m\u001b[0;34m,\u001b[0m \u001b[0mn\u001b[0m\u001b[0;34m=\u001b[0m\u001b[0;36m10\u001b[0m\u001b[0;34m)\u001b[0m\u001b[0;34m:\u001b[0m\u001b[0;34m\u001b[0m\u001b[0m\n",
        "\u001b[0;32m/Users/Zipfian/anaconda/lib/python2.7/site-packages/graphlab/cython/cy_sframe.so\u001b[0m in \u001b[0;36mgraphlab.cython.cy_sframe.UnitySFrameProxy.dtype\u001b[0;34m()\u001b[0m\n",
        "\u001b[0;32m/Users/Zipfian/anaconda/lib/python2.7/site-packages/graphlab/cython/cy_sframe.so\u001b[0m in \u001b[0;36mgraphlab.cython.cy_sframe.UnitySFrameProxy.dtype\u001b[0;34m()\u001b[0m\n",
        "\u001b[0;31mRuntimeError\u001b[0m: Communication Failure: 65. "
       ]
      }
     ],
     "prompt_number": 122
    },
    {
     "cell_type": "code",
     "collapsed": false,
     "input": [
      "rec0 = tot_recs[tot_recs['user'] == '000c2074db9bed50913055c8cbe847709b6d3235']\n",
      "rec1 = tot_recs[tot_recs['user'] == '00127be0d0a5f735e43ea80a9d172116e20ab886']\n",
      "rec2 = tot_recs[tot_recs['user'] == '0015abb5e0ed5d63f20dffe7a350d00fee1e9977']"
     ],
     "language": "python",
     "metadata": {},
     "outputs": [],
     "prompt_number": 110
    },
    {
     "cell_type": "code",
     "collapsed": false,
     "input": [
      "gr2 = p.GroupRecommender()"
     ],
     "language": "python",
     "metadata": {},
     "outputs": [],
     "prompt_number": 119
    },
    {
     "cell_type": "code",
     "collapsed": false,
     "input": [
      "least_misery = gr2.least_misery_list(tot_recs)"
     ],
     "language": "python",
     "metadata": {},
     "outputs": [
      {
       "ename": "AttributeError",
       "evalue": "GroupRecommender instance has no attribute '__getitem__'",
       "output_type": "pyerr",
       "traceback": [
        "\u001b[0;31m---------------------------------------------------------------------------\u001b[0m\n\u001b[0;31mAttributeError\u001b[0m                            Traceback (most recent call last)",
        "\u001b[0;32m<ipython-input-121-516d3352391f>\u001b[0m in \u001b[0;36m<module>\u001b[0;34m()\u001b[0m\n\u001b[0;32m----> 1\u001b[0;31m \u001b[0mleast_misery\u001b[0m \u001b[0;34m=\u001b[0m \u001b[0mgr2\u001b[0m\u001b[0;34m.\u001b[0m\u001b[0mleast_misery_list\u001b[0m\u001b[0;34m(\u001b[0m\u001b[0mtot_recs\u001b[0m\u001b[0;34m)\u001b[0m\u001b[0;34m\u001b[0m\u001b[0m\n\u001b[0m",
        "\u001b[0;32m/Users/Zipfian/Desktop/Ben_Bell/CapstoneProject/pipeline_1110.py\u001b[0m in \u001b[0;36mleast_misery_list\u001b[0;34m(all_recs_sf, top_n_users, top_n_cluster, item_col_lm, user_col_lm, score_col)\u001b[0m\n\u001b[1;32m    145\u001b[0m         \u001b[0mtop_items\u001b[0m \u001b[0;34m=\u001b[0m \u001b[0;34m[\u001b[0m\u001b[0;34m]\u001b[0m\u001b[0;34m\u001b[0m\u001b[0m\n\u001b[1;32m    146\u001b[0m         \u001b[0mtop_item_scores\u001b[0m \u001b[0;34m=\u001b[0m \u001b[0;34m[\u001b[0m\u001b[0;34m]\u001b[0m\u001b[0;34m\u001b[0m\u001b[0m\n\u001b[0;32m--> 147\u001b[0;31m         \u001b[0musers\u001b[0m \u001b[0;34m=\u001b[0m \u001b[0mall_recs_sf\u001b[0m\u001b[0;34m[\u001b[0m\u001b[0muser_col_lm\u001b[0m\u001b[0;34m]\u001b[0m\u001b[0;34m.\u001b[0m\u001b[0munique\u001b[0m\u001b[0;34m(\u001b[0m\u001b[0;34m)\u001b[0m\u001b[0;34m\u001b[0m\u001b[0m\n\u001b[0m\u001b[1;32m    148\u001b[0m \u001b[0;34m\u001b[0m\u001b[0m\n\u001b[1;32m    149\u001b[0m         \u001b[0;31m# getting top artists for each user it top_items\u001b[0m\u001b[0;34m\u001b[0m\u001b[0;34m\u001b[0m\u001b[0m\n",
        "\u001b[0;31mAttributeError\u001b[0m: GroupRecommender instance has no attribute '__getitem__'"
       ]
      }
     ],
     "prompt_number": 121
    },
    {
     "cell_type": "code",
     "collapsed": false,
     "input": [
      "tot_recs['user'].unique()"
     ],
     "language": "python",
     "metadata": {},
     "outputs": [
      {
       "metadata": {},
       "output_type": "pyout",
       "prompt_number": 96,
       "text": [
        "dtype: str\n",
        "Rows: 1\n",
        "['000c2074db9bed50913055c8cbe847709b6d3235']"
       ]
      }
     ],
     "prompt_number": 96
    },
    {
     "cell_type": "code",
     "collapsed": false,
     "input": [
      "sf = gl.SFrame(df)"
     ],
     "language": "python",
     "metadata": {},
     "outputs": [],
     "prompt_number": 83
    },
    {
     "cell_type": "code",
     "collapsed": false,
     "input": [
      "sf.append(sf)"
     ],
     "language": "python",
     "metadata": {},
     "outputs": [
      {
       "html": [
        "<div style=\"max-height:1000px;max-width:1500px;overflow:auto;\"><table frame=\"box\" rules=\"cols\">\n",
        "    <tr>\n",
        "        <th style=\"padding-left: 1em; padding-right: 1em; text-align: center\">user</th>\n",
        "        <th style=\"padding-left: 1em; padding-right: 1em; text-align: center\">artist_id</th>\n",
        "        <th style=\"padding-left: 1em; padding-right: 1em; text-align: center\">play_count</th>\n",
        "    </tr>\n",
        "    <tr>\n",
        "        <td style=\"padding-left: 1em; padding-right: 1em; text-align: center; vertical-align: top\">000c2074db9bed50913055c8c<br>be847709b6d3235</td>\n",
        "        <td style=\"padding-left: 1em; padding-right: 1em; text-align: center; vertical-align: top\">AR2FT9X1187FB388C3</td>\n",
        "        <td style=\"padding-left: 1em; padding-right: 1em; text-align: center; vertical-align: top\">1</td>\n",
        "    </tr>\n",
        "    <tr>\n",
        "        <td style=\"padding-left: 1em; padding-right: 1em; text-align: center; vertical-align: top\">000c2074db9bed50913055c8c<br>be847709b6d3235</td>\n",
        "        <td style=\"padding-left: 1em; padding-right: 1em; text-align: center; vertical-align: top\">AR3GAWW1187B9AD462</td>\n",
        "        <td style=\"padding-left: 1em; padding-right: 1em; text-align: center; vertical-align: top\">4</td>\n",
        "    </tr>\n",
        "    <tr>\n",
        "        <td style=\"padding-left: 1em; padding-right: 1em; text-align: center; vertical-align: top\">000c2074db9bed50913055c8c<br>be847709b6d3235</td>\n",
        "        <td style=\"padding-left: 1em; padding-right: 1em; text-align: center; vertical-align: top\">AR50P191187B9B46FE</td>\n",
        "        <td style=\"padding-left: 1em; padding-right: 1em; text-align: center; vertical-align: top\">30</td>\n",
        "    </tr>\n",
        "    <tr>\n",
        "        <td style=\"padding-left: 1em; padding-right: 1em; text-align: center; vertical-align: top\">000c2074db9bed50913055c8c<br>be847709b6d3235</td>\n",
        "        <td style=\"padding-left: 1em; padding-right: 1em; text-align: center; vertical-align: top\">AR68M8R1187B9A86A8</td>\n",
        "        <td style=\"padding-left: 1em; padding-right: 1em; text-align: center; vertical-align: top\">1</td>\n",
        "    </tr>\n",
        "    <tr>\n",
        "        <td style=\"padding-left: 1em; padding-right: 1em; text-align: center; vertical-align: top\">000c2074db9bed50913055c8c<br>be847709b6d3235</td>\n",
        "        <td style=\"padding-left: 1em; padding-right: 1em; text-align: center; vertical-align: top\">AR83Z6A1187B9B8DAF</td>\n",
        "        <td style=\"padding-left: 1em; padding-right: 1em; text-align: center; vertical-align: top\">1</td>\n",
        "    </tr>\n",
        "    <tr>\n",
        "        <td style=\"padding-left: 1em; padding-right: 1em; text-align: center; vertical-align: top\">000c2074db9bed50913055c8c<br>be847709b6d3235</td>\n",
        "        <td style=\"padding-left: 1em; padding-right: 1em; text-align: center; vertical-align: top\">AR9KRFN1187B9B6625</td>\n",
        "        <td style=\"padding-left: 1em; padding-right: 1em; text-align: center; vertical-align: top\">2</td>\n",
        "    </tr>\n",
        "    <tr>\n",
        "        <td style=\"padding-left: 1em; padding-right: 1em; text-align: center; vertical-align: top\">000c2074db9bed50913055c8c<br>be847709b6d3235</td>\n",
        "        <td style=\"padding-left: 1em; padding-right: 1em; text-align: center; vertical-align: top\">ARFMYSI1187B98DFDD</td>\n",
        "        <td style=\"padding-left: 1em; padding-right: 1em; text-align: center; vertical-align: top\">1</td>\n",
        "    </tr>\n",
        "    <tr>\n",
        "        <td style=\"padding-left: 1em; padding-right: 1em; text-align: center; vertical-align: top\">000c2074db9bed50913055c8c<br>be847709b6d3235</td>\n",
        "        <td style=\"padding-left: 1em; padding-right: 1em; text-align: center; vertical-align: top\">ARFSVL51187B9B00F2</td>\n",
        "        <td style=\"padding-left: 1em; padding-right: 1em; text-align: center; vertical-align: top\">18</td>\n",
        "    </tr>\n",
        "    <tr>\n",
        "        <td style=\"padding-left: 1em; padding-right: 1em; text-align: center; vertical-align: top\">000c2074db9bed50913055c8c<br>be847709b6d3235</td>\n",
        "        <td style=\"padding-left: 1em; padding-right: 1em; text-align: center; vertical-align: top\">ARHQDAN1187FB50A2A</td>\n",
        "        <td style=\"padding-left: 1em; padding-right: 1em; text-align: center; vertical-align: top\">1</td>\n",
        "    </tr>\n",
        "    <tr>\n",
        "        <td style=\"padding-left: 1em; padding-right: 1em; text-align: center; vertical-align: top\">000c2074db9bed50913055c8c<br>be847709b6d3235</td>\n",
        "        <td style=\"padding-left: 1em; padding-right: 1em; text-align: center; vertical-align: top\">ARN1XGZ1187B9B956E</td>\n",
        "        <td style=\"padding-left: 1em; padding-right: 1em; text-align: center; vertical-align: top\">11</td>\n",
        "    </tr>\n",
        "    <tr>\n",
        "        <td style=\"padding-left: 1em; padding-right: 1em; text-align: center; vertical-align: top\">...</td>\n",
        "        <td style=\"padding-left: 1em; padding-right: 1em; text-align: center; vertical-align: top\">...</td>\n",
        "        <td style=\"padding-left: 1em; padding-right: 1em; text-align: center; vertical-align: top\">...</td>\n",
        "    </tr>\n",
        "</table>\n",
        "[38 rows x 3 columns]<br/>Note: Only the head of the SFrame is printed.<br/>You can use print_rows(num_rows=m, num_columns=n) to print more rows and columns.\n",
        "</div>"
       ],
       "metadata": {},
       "output_type": "pyout",
       "prompt_number": 85,
       "text": [
        "Columns:\n",
        "\tuser\tstr\n",
        "\tartist_id\tstr\n",
        "\tplay_count\tstr\n",
        "\n",
        "Rows: 38\n",
        "\n",
        "Data:\n",
        "+--------------------------------+--------------------+------------+\n",
        "|              user              |     artist_id      | play_count |\n",
        "+--------------------------------+--------------------+------------+\n",
        "| 000c2074db9bed50913055c8cb ... | AR2FT9X1187FB388C3 |     1      |\n",
        "| 000c2074db9bed50913055c8cb ... | AR3GAWW1187B9AD462 |     4      |\n",
        "| 000c2074db9bed50913055c8cb ... | AR50P191187B9B46FE |     30     |\n",
        "| 000c2074db9bed50913055c8cb ... | AR68M8R1187B9A86A8 |     1      |\n",
        "| 000c2074db9bed50913055c8cb ... | AR83Z6A1187B9B8DAF |     1      |\n",
        "| 000c2074db9bed50913055c8cb ... | AR9KRFN1187B9B6625 |     2      |\n",
        "| 000c2074db9bed50913055c8cb ... | ARFMYSI1187B98DFDD |     1      |\n",
        "| 000c2074db9bed50913055c8cb ... | ARFSVL51187B9B00F2 |     18     |\n",
        "| 000c2074db9bed50913055c8cb ... | ARHQDAN1187FB50A2A |     1      |\n",
        "| 000c2074db9bed50913055c8cb ... | ARN1XGZ1187B9B956E |     11     |\n",
        "|              ...               |        ...         |    ...     |\n",
        "+--------------------------------+--------------------+------------+\n",
        "[38 rows x 3 columns]\n",
        "Note: Only the head of the SFrame is printed.\n",
        "You can use print_rows(num_rows=m, num_columns=n) to print more rows and columns."
       ]
      }
     ],
     "prompt_number": 85
    },
    {
     "cell_type": "code",
     "collapsed": false,
     "input": [
      "if sf:\n",
      "    print 3"
     ],
     "language": "python",
     "metadata": {},
     "outputs": [
      {
       "output_type": "stream",
       "stream": "stdout",
       "text": [
        "3\n"
       ]
      }
     ],
     "prompt_number": 86
    },
    {
     "cell_type": "code",
     "collapsed": false,
     "input": [
      "sf3 = None"
     ],
     "language": "python",
     "metadata": {},
     "outputs": [],
     "prompt_number": 87
    },
    {
     "cell_type": "code",
     "collapsed": false,
     "input": [
      "if sf:\n",
      "    print 3"
     ],
     "language": "python",
     "metadata": {},
     "outputs": [
      {
       "output_type": "stream",
       "stream": "stdout",
       "text": [
        "3\n"
       ]
      }
     ],
     "prompt_number": 88
    },
    {
     "cell_type": "code",
     "collapsed": false,
     "input": [
      "sf == None"
     ],
     "language": "python",
     "metadata": {},
     "outputs": [
      {
       "metadata": {},
       "output_type": "pyout",
       "prompt_number": 90,
       "text": [
        "True"
       ]
      }
     ],
     "prompt_number": 90
    },
    {
     "cell_type": "code",
     "collapsed": false,
     "input": [
      "sf == 1"
     ],
     "language": "python",
     "metadata": {},
     "outputs": [
      {
       "metadata": {},
       "output_type": "pyout",
       "prompt_number": 91,
       "text": [
        "False"
       ]
      }
     ],
     "prompt_number": 91
    },
    {
     "cell_type": "code",
     "collapsed": false,
     "input": [
      "m = msd.MSD_Queries()"
     ],
     "language": "python",
     "metadata": {},
     "outputs": [],
     "prompt_number": 97
    },
    {
     "cell_type": "code",
     "collapsed": false,
     "input": [
      "user1listens = m.get_user_listendata('000c2074db9bed50913055c8cbe847709b6d3235')"
     ],
     "language": "python",
     "metadata": {},
     "outputs": [
      {
       "ename": "KeyboardInterrupt",
       "evalue": "",
       "output_type": "pyerr",
       "traceback": [
        "\u001b[0;31m---------------------------------------------------------------------------\u001b[0m\n\u001b[0;31mKeyboardInterrupt\u001b[0m                         Traceback (most recent call last)",
        "\u001b[0;32m<ipython-input-99-792138c9c5a0>\u001b[0m in \u001b[0;36m<module>\u001b[0;34m()\u001b[0m\n\u001b[0;32m----> 1\u001b[0;31m \u001b[0mm\u001b[0m\u001b[0;34m.\u001b[0m\u001b[0mget_user_listendata\u001b[0m\u001b[0;34m(\u001b[0m\u001b[0;34m'000c2074db9bed50913055c8cbe847709b6d3235'\u001b[0m\u001b[0;34m)\u001b[0m\u001b[0;34m\u001b[0m\u001b[0m\n\u001b[0m",
        "\u001b[0;32m/Users/Zipfian/Desktop/Ben_Bell/CapstoneProject/msd_sql_functions.py\u001b[0m in \u001b[0;36mget_user_listendata\u001b[0;34m(self, user_id)\u001b[0m\n\u001b[1;32m     77\u001b[0m     \u001b[0;32mdef\u001b[0m \u001b[0mget_user_listendata\u001b[0m\u001b[0;34m(\u001b[0m\u001b[0mself\u001b[0m\u001b[0;34m,\u001b[0m \u001b[0muser_id\u001b[0m\u001b[0;34m)\u001b[0m\u001b[0;34m:\u001b[0m\u001b[0;34m\u001b[0m\u001b[0m\n\u001b[1;32m     78\u001b[0m         return self.gen_query(select_columns = '*', table = 'triplets_artists', \n\u001b[0;32m---> 79\u001b[0;31m             filter_column = '\"user\"', filter_values = user_id)\n\u001b[0m\u001b[1;32m     80\u001b[0m \u001b[0;34m\u001b[0m\u001b[0m\n\u001b[1;32m     81\u001b[0m \u001b[0;34m\u001b[0m\u001b[0m\n",
        "\u001b[0;32m/Users/Zipfian/Desktop/Ben_Bell/CapstoneProject/msd_sql_functions.py\u001b[0m in \u001b[0;36mgen_query\u001b[0;34m(self, select_columns, table, filter_column, filter_values, limit)\u001b[0m\n\u001b[1;32m     66\u001b[0m             \u001b[0mSELECT\u001b[0m \u001b[0;34m%\u001b[0m\u001b[0ms\u001b[0m \u001b[0mFROM\u001b[0m \u001b[0;34m%\u001b[0m\u001b[0ms\u001b[0m \u001b[0;34m%\u001b[0m\u001b[0ms\u001b[0m \u001b[0;34m%\u001b[0m\u001b[0ms\u001b[0m\u001b[0;34m;\u001b[0m\u001b[0;34m\u001b[0m\u001b[0m\n\u001b[1;32m     67\u001b[0m             '''\n\u001b[0;32m---> 68\u001b[0;31m             \u001b[0;34m%\u001b[0m \u001b[0;34m(\u001b[0m\u001b[0mselect_query\u001b[0m\u001b[0;34m,\u001b[0m \u001b[0mtable\u001b[0m\u001b[0;34m,\u001b[0m \u001b[0mwhere_clause\u001b[0m\u001b[0;34m,\u001b[0m \u001b[0mlimit_clause\u001b[0m\u001b[0;34m)\u001b[0m\u001b[0;34m\u001b[0m\u001b[0m\n\u001b[0m\u001b[1;32m     69\u001b[0m             )\n\u001b[1;32m     70\u001b[0m             \u001b[0mself\u001b[0m\u001b[0;34m.\u001b[0m\u001b[0mconn\u001b[0m\u001b[0;34m.\u001b[0m\u001b[0mcommit\u001b[0m\u001b[0;34m(\u001b[0m\u001b[0;34m)\u001b[0m\u001b[0;34m\u001b[0m\u001b[0m\n",
        "\u001b[0;32m<string>\u001b[0m in \u001b[0;36m__new__\u001b[0;34m(_cls, name, type_code, display_size, internal_size, precision, scale, null_ok)\u001b[0m\n",
        "\u001b[0;31mKeyboardInterrupt\u001b[0m: "
       ]
      },
      {
       "output_type": "stream",
       "stream": "stdout",
       "text": [
        "SELECT * FROM triplets_artists WHERE \"user\" IN ('000c2074db9bed50913055c8cbe847709b6d3235') ;\n"
       ]
      }
     ]
    },
    {
     "cell_type": "code",
     "collapsed": false,
     "input": [],
     "language": "python",
     "metadata": {},
     "outputs": []
    }
   ],
   "metadata": {}
  }
 ]
}