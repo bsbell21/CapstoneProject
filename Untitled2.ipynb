{
 "metadata": {
  "name": ""
 },
 "nbformat": 3,
 "nbformat_minor": 0,
 "worksheets": [
  {
   "cells": [
    {
     "cell_type": "code",
     "collapsed": false,
     "input": [
      "import graphlab as gl\n",
      "import pandas as pd\n",
      "import numpy as np\n",
      "import graphlab_rec1106 as gr\n",
      "import pickle"
     ],
     "language": "python",
     "metadata": {},
     "outputs": [
      {
       "output_type": "stream",
       "stream": "stderr",
       "text": [
        "[INFO] Start server at: ipc:///tmp/graphlab_server-48375 - Server binary: /Users/Zipfian/anaconda/lib/python2.7/site-packages/graphlab/unity_server - Server log: /tmp/graphlab_server_1415405989.log\n"
       ]
      },
      {
       "output_type": "stream",
       "stream": "stderr",
       "text": [
        "[INFO] GraphLab Server Version: 1.0.1\n"
       ]
      }
     ],
     "prompt_number": 1
    },
    {
     "cell_type": "code",
     "collapsed": false,
     "input": [
      "sf = gr.load_data()"
     ],
     "language": "python",
     "metadata": {},
     "outputs": [
      {
       "html": [
        "<pre>PROGRESS: Finished parsing file /Users/Zipfian/Desktop/Ben_Bell/CapstoneProject/catalog_artist_ranking_init.csv</pre>"
       ],
       "metadata": {},
       "output_type": "display_data",
       "text": [
        "PROGRESS: Finished parsing file /Users/Zipfian/Desktop/Ben_Bell/CapstoneProject/catalog_artist_ranking_init.csv"
       ]
      },
      {
       "html": [
        "<pre>PROGRESS: Parsing completed. Parsed 100 lines in 0.198297 secs.</pre>"
       ],
       "metadata": {},
       "output_type": "display_data",
       "text": [
        "PROGRESS: Parsing completed. Parsed 100 lines in 0.198297 secs."
       ]
      },
      {
       "output_type": "stream",
       "stream": "stdout",
       "text": [
        "------------------------------------------------------"
       ]
      },
      {
       "html": [
        "<pre>PROGRESS: Finished parsing file /Users/Zipfian/Desktop/Ben_Bell/CapstoneProject/catalog_artist_ranking_init.csv</pre>"
       ],
       "metadata": {},
       "output_type": "display_data",
       "text": [
        "PROGRESS: Finished parsing file /Users/Zipfian/Desktop/Ben_Bell/CapstoneProject/catalog_artist_ranking_init.csv"
       ]
      },
      {
       "html": [
        "<pre>PROGRESS: Parsing completed. Parsed 252841 lines in 0.3527 secs.</pre>"
       ],
       "metadata": {},
       "output_type": "display_data",
       "text": [
        "PROGRESS: Parsing completed. Parsed 252841 lines in 0.3527 secs."
       ]
      },
      {
       "output_type": "stream",
       "stream": "stdout",
       "text": [
        "\n",
        "Inferred types from first line of file as \n",
        "column_type_hints=[str,str,float]\n",
        "If parsing fails due to incorrect types, you can correct\n",
        "the inferred type list above and pass it to read_csv in\n",
        "the column_type_hints argument\n",
        "------------------------------------------------------\n"
       ]
      }
     ],
     "prompt_number": 2
    },
    {
     "cell_type": "code",
     "collapsed": false,
     "input": [
      "item_sim_model = gr.create_recommender(sf, similarity = 'cosine')"
     ],
     "language": "python",
     "metadata": {},
     "outputs": [
      {
       "html": [
        "<pre>PROGRESS: Recsys training: model = item_similarity</pre>"
       ],
       "metadata": {},
       "output_type": "display_data",
       "text": [
        "PROGRESS: Recsys training: model = item_similarity"
       ]
      },
      {
       "html": [
        "<pre>PROGRESS: Preparing data set.</pre>"
       ],
       "metadata": {},
       "output_type": "display_data",
       "text": [
        "PROGRESS: Preparing data set."
       ]
      },
      {
       "html": [
        "<pre>PROGRESS:     Data has 252841 observations with 27389 users and 11249 items.</pre>"
       ],
       "metadata": {},
       "output_type": "display_data",
       "text": [
        "PROGRESS:     Data has 252841 observations with 27389 users and 11249 items."
       ]
      },
      {
       "html": [
        "<pre>PROGRESS:     Data prepared in: 0.589067s</pre>"
       ],
       "metadata": {},
       "output_type": "display_data",
       "text": [
        "PROGRESS:     Data prepared in: 0.589067s"
       ]
      },
      {
       "html": [
        "<pre>PROGRESS: Computing item similarity statistics:</pre>"
       ],
       "metadata": {},
       "output_type": "display_data",
       "text": [
        "PROGRESS: Computing item similarity statistics:"
       ]
      },
      {
       "html": [
        "<pre>PROGRESS: +-----------------+-----------------+</pre>"
       ],
       "metadata": {},
       "output_type": "display_data",
       "text": [
        "PROGRESS: +-----------------+-----------------+"
       ]
      },
      {
       "html": [
        "<pre>PROGRESS: | Number of users | Elapsed Time    |</pre>"
       ],
       "metadata": {},
       "output_type": "display_data",
       "text": [
        "PROGRESS: | Number of users | Elapsed Time    |"
       ]
      },
      {
       "html": [
        "<pre>PROGRESS: +-----------------+-----------------+</pre>"
       ],
       "metadata": {},
       "output_type": "display_data",
       "text": [
        "PROGRESS: +-----------------+-----------------+"
       ]
      },
      {
       "html": [
        "<pre>PROGRESS: +-----------------+-----------------+</pre>"
       ],
       "metadata": {},
       "output_type": "display_data",
       "text": [
        "PROGRESS: +-----------------+-----------------+"
       ]
      },
      {
       "html": [
        "<pre>PROGRESS: Computing most similar items for 11249 items:</pre>"
       ],
       "metadata": {},
       "output_type": "display_data",
       "text": [
        "PROGRESS: Computing most similar items for 11249 items:"
       ]
      },
      {
       "html": [
        "<pre>PROGRESS: +-----------------+-----------------+</pre>"
       ],
       "metadata": {},
       "output_type": "display_data",
       "text": [
        "PROGRESS: +-----------------+-----------------+"
       ]
      },
      {
       "html": [
        "<pre>PROGRESS: | Number of items | Elapsed Time    |</pre>"
       ],
       "metadata": {},
       "output_type": "display_data",
       "text": [
        "PROGRESS: | Number of items | Elapsed Time    |"
       ]
      },
      {
       "html": [
        "<pre>PROGRESS: +-----------------+-----------------+</pre>"
       ],
       "metadata": {},
       "output_type": "display_data",
       "text": [
        "PROGRESS: +-----------------+-----------------+"
       ]
      },
      {
       "html": [
        "<pre>PROGRESS: | 0               | 11.113          |</pre>"
       ],
       "metadata": {},
       "output_type": "display_data",
       "text": [
        "PROGRESS: | 0               | 11.113          |"
       ]
      },
      {
       "html": [
        "<pre>PROGRESS: | 10000           | 11.365          |</pre>"
       ],
       "metadata": {},
       "output_type": "display_data",
       "text": [
        "PROGRESS: | 10000           | 11.365          |"
       ]
      },
      {
       "html": [
        "<pre>PROGRESS: +-----------------+-----------------+</pre>"
       ],
       "metadata": {},
       "output_type": "display_data",
       "text": [
        "PROGRESS: +-----------------+-----------------+"
       ]
      },
      {
       "html": [
        "<pre>PROGRESS: Finished training in 12.6632s</pre>"
       ],
       "metadata": {},
       "output_type": "display_data",
       "text": [
        "PROGRESS: Finished training in 12.6632s"
       ]
      },
      {
       "html": [
        "<pre>PROGRESS: Finished prediction in 0.867502s</pre>"
       ],
       "metadata": {},
       "output_type": "display_data",
       "text": [
        "PROGRESS: Finished prediction in 0.867502s"
       ]
      }
     ],
     "prompt_number": 9
    },
    {
     "cell_type": "code",
     "collapsed": false,
     "input": [
      "sf['catalog'].unique()"
     ],
     "language": "python",
     "metadata": {},
     "outputs": [
      {
       "metadata": {},
       "output_type": "pyout",
       "prompt_number": 6,
       "text": [
        "dtype: str\n",
        "Rows: 27389\n",
        "['CAUFOVZ133284F1A97', 'CAGPWGQ1332E9FED90', 'CAWMHBT133284154E4', 'CABICDT13332B2C80F', 'CAIDXWE1332EB353C3', 'CAMYEIW13332AF9F03', 'CAHWRNQ1333295A7A5', 'CARHVPH133333878CD', 'CAUQPJE1332EA5C9F2', 'CAXSAPR1332EACE497', 'CAODMYU13332C1DA6F', 'CAVYPJI1332EA1DF74', 'CAXDYEN1333274CF7E', 'CACOOPH1333290BD51', 'CARCNPA1332840798A', 'CAAYDUQ133327F59E5', 'CABRERX1332EAC6176', 'CAKJAWC13332F52541', 'CAVSZOT1333307032D', 'CALSAKB133327C7FEE', 'CALWSUB133328C5C2F', 'CAUPFVF1332EB76A3D', 'CADFTYY1332EA1DA21', 'CAJRBBG1332EA39119', 'CASUTMG1332EABBB96', 'CADNVFI1332EAB36CD', 'CAZKVMC13332D897C3', 'CAJKZGM13332C64E9C', 'CAVWEIJ13328347E03', 'CAUQDJX133283C1A8E', 'CACUSZF13328605865', 'CATMDZW1332EAB6202', 'CARHOAU13332A6E312', 'CARWEHV13332B94AF6', 'CAUFLVY1332849E4B5', 'CAKGLUR133283B1D9D', 'CAKMTBV1332EB7681B', 'CAANJDT13332C711A1', 'CAYVDNB133283405EE', 'CALXZHU1333288CD95', 'CADUHCL13332EB8573', 'CAIEECT13332EB9BA0', 'CAJSNHL13332B5CEC8', 'CASIAKS1333352C273', 'CALAIKT13332B62049', 'CAZWZIM13332FC6EFC', 'CAQSQCL1332EAEA154', 'CAXCQAS1332EA7D0C9', 'CAFHFYZ1333388D052', 'CAXDBCC1332EB5C5F5', 'CAZEXBS1332EA125A7', 'CAIPIRR13332C67023', 'CARAWYX1333361B2AD', 'CAKEUXO1332EAAF3F7', 'CAJBUGA13332ADD544', 'CAOJKCJ1332EA5B7EA', 'CANBMSD133328EF167', 'CASDJMP13332A34F0D', 'CAJCLVQ1332EBA99DB', 'CAVBBJX1332EAD0236', 'CAMZZPS133328C0C45', 'CADFSKI133329FEA64', 'CAURMMA1332857F536', 'CANGRZN13332E2F51C', 'CAPKCHG133282A62C7', 'CASYEHW133329D95D9', 'CATOVZB133282EDD3B', 'CASRRRN1332EB4D77F', 'CAYCEIJ13332E703C3', 'CALOUTL133286520B8', 'CAKNPIT1332866AE92', 'CAFGBVY133329D769B', 'CAQZVHK1332EA73E34', 'CAASOUK133327D547C', 'CAKEXLV13332F8A151', 'CAVZRPE13332D7789B', 'CAIVRSI133328C99F6', 'CACDOPK13333076579', 'CAZQPWF13332D96244', 'CAYXABU1332EA226C6', 'CAQJCBD1332EA2C9EA', 'CAHYHTX133284129BD', 'CAKDHOP133338331CB', 'CALOXOS1332EA7ECF8', 'CAHYYTT1332EB2B195', 'CAEFYCW133282A8736', 'CAEQTLL13332F6E65C', 'CAYKHKV133283AC66A', 'CAYTBOW1332EB6CEE6', 'CAOVHNA1332EADF57D', 'CASUWQX1332EB6DE02', 'CARCUBX13332EF4160', 'CABFPKK133283E96E2', 'CARFPKE13332D9FD8E', 'CARCPPK1332EA9171C', 'CACKWWJ1332EAF7F31', 'CAKLYAT13332C50EE6', 'CAOHEZE133283E3894', 'CAHLZXP1332E9F4EE5', 'CADJYWF13330D35827', ... ]"
       ]
      }
     ],
     "prompt_number": 6
    },
    {
     "cell_type": "code",
     "collapsed": false,
     "input": [
      "cat_1 = 'CAAAAGS133333D852E'\n",
      "cat_2 = 'CAGPWGQ1332E9FED90'\n",
      "cat_3 = 'CAWMHBT133284154E4'\n",
      "cat_4 = 'CABICDT13332B2C80F'\n",
      "cat_5 = 'CAIDXWE1332EB353C3'"
     ],
     "language": "python",
     "metadata": {},
     "outputs": [],
     "prompt_number": 4
    },
    {
     "cell_type": "code",
     "collapsed": false,
     "input": [
      "item_sim_model.recommend(gl.SArray([cat_1]))"
     ],
     "language": "python",
     "metadata": {},
     "outputs": [
      {
       "html": [
        "<div style=\"max-height:1000px;max-width:1500px;overflow:auto;\"><table frame=\"box\" rules=\"cols\">\n",
        "    <tr>\n",
        "        <th style=\"padding-left: 1em; padding-right: 1em; text-align: center\">catalog</th>\n",
        "        <th style=\"padding-left: 1em; padding-right: 1em; text-align: center\">artist_name</th>\n",
        "        <th style=\"padding-left: 1em; padding-right: 1em; text-align: center\">score</th>\n",
        "        <th style=\"padding-left: 1em; padding-right: 1em; text-align: center\">rank</th>\n",
        "    </tr>\n",
        "    <tr>\n",
        "        <td style=\"padding-left: 1em; padding-right: 1em; text-align: center; vertical-align: top\">CAAAAGS133333D852E</td>\n",
        "        <td style=\"padding-left: 1em; padding-right: 1em; text-align: center; vertical-align: top\">White Plains</td>\n",
        "        <td style=\"padding-left: 1em; padding-right: 1em; text-align: center; vertical-align: top\">1.0</td>\n",
        "        <td style=\"padding-left: 1em; padding-right: 1em; text-align: center; vertical-align: top\">1</td>\n",
        "    </tr>\n",
        "    <tr>\n",
        "        <td style=\"padding-left: 1em; padding-right: 1em; text-align: center; vertical-align: top\">CAAAAGS133333D852E</td>\n",
        "        <td style=\"padding-left: 1em; padding-right: 1em; text-align: center; vertical-align: top\">Tracey Ullman</td>\n",
        "        <td style=\"padding-left: 1em; padding-right: 1em; text-align: center; vertical-align: top\">1.0</td>\n",
        "        <td style=\"padding-left: 1em; padding-right: 1em; text-align: center; vertical-align: top\">2</td>\n",
        "    </tr>\n",
        "    <tr>\n",
        "        <td style=\"padding-left: 1em; padding-right: 1em; text-align: center; vertical-align: top\">CAAAAGS133333D852E</td>\n",
        "        <td style=\"padding-left: 1em; padding-right: 1em; text-align: center; vertical-align: top\">Cheikh N'Digel L</td>\n",
        "        <td style=\"padding-left: 1em; padding-right: 1em; text-align: center; vertical-align: top\">1.0</td>\n",
        "        <td style=\"padding-left: 1em; padding-right: 1em; text-align: center; vertical-align: top\">3</td>\n",
        "    </tr>\n",
        "    <tr>\n",
        "        <td style=\"padding-left: 1em; padding-right: 1em; text-align: center; vertical-align: top\">CAAAAGS133333D852E</td>\n",
        "        <td style=\"padding-left: 1em; padding-right: 1em; text-align: center; vertical-align: top\">A.B. Quintanilla III Y<br>Los Kumbia Kings</td>\n",
        "        <td style=\"padding-left: 1em; padding-right: 1em; text-align: center; vertical-align: top\">1.0</td>\n",
        "        <td style=\"padding-left: 1em; padding-right: 1em; text-align: center; vertical-align: top\">4</td>\n",
        "    </tr>\n",
        "    <tr>\n",
        "        <td style=\"padding-left: 1em; padding-right: 1em; text-align: center; vertical-align: top\">CAAAAGS133333D852E</td>\n",
        "        <td style=\"padding-left: 1em; padding-right: 1em; text-align: center; vertical-align: top\">La Dcada Prodigiosa</td>\n",
        "        <td style=\"padding-left: 1em; padding-right: 1em; text-align: center; vertical-align: top\">1.0</td>\n",
        "        <td style=\"padding-left: 1em; padding-right: 1em; text-align: center; vertical-align: top\">5</td>\n",
        "    </tr>\n",
        "    <tr>\n",
        "        <td style=\"padding-left: 1em; padding-right: 1em; text-align: center; vertical-align: top\">CAAAAGS133333D852E</td>\n",
        "        <td style=\"padding-left: 1em; padding-right: 1em; text-align: center; vertical-align: top\">Roots of Rebellion</td>\n",
        "        <td style=\"padding-left: 1em; padding-right: 1em; text-align: center; vertical-align: top\">1.0</td>\n",
        "        <td style=\"padding-left: 1em; padding-right: 1em; text-align: center; vertical-align: top\">6</td>\n",
        "    </tr>\n",
        "    <tr>\n",
        "        <td style=\"padding-left: 1em; padding-right: 1em; text-align: center; vertical-align: top\">CAAAAGS133333D852E</td>\n",
        "        <td style=\"padding-left: 1em; padding-right: 1em; text-align: center; vertical-align: top\">Susan Cadogan</td>\n",
        "        <td style=\"padding-left: 1em; padding-right: 1em; text-align: center; vertical-align: top\">1.0</td>\n",
        "        <td style=\"padding-left: 1em; padding-right: 1em; text-align: center; vertical-align: top\">7</td>\n",
        "    </tr>\n",
        "    <tr>\n",
        "        <td style=\"padding-left: 1em; padding-right: 1em; text-align: center; vertical-align: top\">CAAAAGS133333D852E</td>\n",
        "        <td style=\"padding-left: 1em; padding-right: 1em; text-align: center; vertical-align: top\">Nurse With Wound</td>\n",
        "        <td style=\"padding-left: 1em; padding-right: 1em; text-align: center; vertical-align: top\">1.0</td>\n",
        "        <td style=\"padding-left: 1em; padding-right: 1em; text-align: center; vertical-align: top\">8</td>\n",
        "    </tr>\n",
        "    <tr>\n",
        "        <td style=\"padding-left: 1em; padding-right: 1em; text-align: center; vertical-align: top\">CAAAAGS133333D852E</td>\n",
        "        <td style=\"padding-left: 1em; padding-right: 1em; text-align: center; vertical-align: top\">KaRRamBa</td>\n",
        "        <td style=\"padding-left: 1em; padding-right: 1em; text-align: center; vertical-align: top\">1.0</td>\n",
        "        <td style=\"padding-left: 1em; padding-right: 1em; text-align: center; vertical-align: top\">9</td>\n",
        "    </tr>\n",
        "    <tr>\n",
        "        <td style=\"padding-left: 1em; padding-right: 1em; text-align: center; vertical-align: top\">CAAAAGS133333D852E</td>\n",
        "        <td style=\"padding-left: 1em; padding-right: 1em; text-align: center; vertical-align: top\">Jimmie Spheeris</td>\n",
        "        <td style=\"padding-left: 1em; padding-right: 1em; text-align: center; vertical-align: top\">1.0</td>\n",
        "        <td style=\"padding-left: 1em; padding-right: 1em; text-align: center; vertical-align: top\">10</td>\n",
        "    </tr>\n",
        "</table>\n",
        "[10 rows x 4 columns]<br/>\n",
        "</div>"
       ],
       "metadata": {},
       "output_type": "pyout",
       "prompt_number": 16,
       "text": [
        "Columns:\n",
        "\tcatalog\tstr\n",
        "\tartist_name\tstr\n",
        "\tscore\tfloat\n",
        "\trank\tint\n",
        "\n",
        "Rows: 10\n",
        "\n",
        "Data:\n",
        "+--------------------+--------------------------------+-------+------+\n",
        "|      catalog       |          artist_name           | score | rank |\n",
        "+--------------------+--------------------------------+-------+------+\n",
        "| CAAAAGS133333D852E |          White Plains          |  1.0  |  1   |\n",
        "| CAAAAGS133333D852E |         Tracey Ullman          |  1.0  |  2   |\n",
        "| CAAAAGS133333D852E |        Cheikh N'Digel L        |  1.0  |  3   |\n",
        "| CAAAAGS133333D852E | A.B. Quintanilla III Y Los ... |  1.0  |  4   |\n",
        "| CAAAAGS133333D852E |      La Dcada Prodigiosa       |  1.0  |  5   |\n",
        "| CAAAAGS133333D852E |       Roots of Rebellion       |  1.0  |  6   |\n",
        "| CAAAAGS133333D852E |         Susan Cadogan          |  1.0  |  7   |\n",
        "| CAAAAGS133333D852E |        Nurse With Wound        |  1.0  |  8   |\n",
        "| CAAAAGS133333D852E |            KaRRamBa            |  1.0  |  9   |\n",
        "| CAAAAGS133333D852E |        Jimmie Spheeris         |  1.0  |  10  |\n",
        "+--------------------+--------------------------------+-------+------+\n",
        "[10 rows x 4 columns]\n"
       ]
      }
     ],
     "prompt_number": 16
    },
    {
     "cell_type": "code",
     "collapsed": false,
     "input": [
      "sf"
     ],
     "language": "python",
     "metadata": {},
     "outputs": [
      {
       "html": [
        "<div style=\"max-height:1000px;max-width:1500px;overflow:auto;\"><table frame=\"box\" rules=\"cols\">\n",
        "    <tr>\n",
        "        <th style=\"padding-left: 1em; padding-right: 1em; text-align: center\">catalog</th>\n",
        "        <th style=\"padding-left: 1em; padding-right: 1em; text-align: center\">artist_name</th>\n",
        "        <th style=\"padding-left: 1em; padding-right: 1em; text-align: center\">ranked_play_count</th>\n",
        "    </tr>\n",
        "    <tr>\n",
        "        <td style=\"padding-left: 1em; padding-right: 1em; text-align: center; vertical-align: top\">CAAAAGS133333D852E</td>\n",
        "        <td style=\"padding-left: 1em; padding-right: 1em; text-align: center; vertical-align: top\">Manowar</td>\n",
        "        <td style=\"padding-left: 1em; padding-right: 1em; text-align: center; vertical-align: top\">0.125</td>\n",
        "    </tr>\n",
        "    <tr>\n",
        "        <td style=\"padding-left: 1em; padding-right: 1em; text-align: center; vertical-align: top\">CAAAAGS133333D852E</td>\n",
        "        <td style=\"padding-left: 1em; padding-right: 1em; text-align: center; vertical-align: top\">Handsome Boy Modeling<br>School</td>\n",
        "        <td style=\"padding-left: 1em; padding-right: 1em; text-align: center; vertical-align: top\">0.125</td>\n",
        "    </tr>\n",
        "    <tr>\n",
        "        <td style=\"padding-left: 1em; padding-right: 1em; text-align: center; vertical-align: top\">CAAAAGS133333D852E</td>\n",
        "        <td style=\"padding-left: 1em; padding-right: 1em; text-align: center; vertical-align: top\">Gloria Gaynor</td>\n",
        "        <td style=\"padding-left: 1em; padding-right: 1em; text-align: center; vertical-align: top\">0.125</td>\n",
        "    </tr>\n",
        "    <tr>\n",
        "        <td style=\"padding-left: 1em; padding-right: 1em; text-align: center; vertical-align: top\">CAAAAGS133333D852E</td>\n",
        "        <td style=\"padding-left: 1em; padding-right: 1em; text-align: center; vertical-align: top\">Van Halen</td>\n",
        "        <td style=\"padding-left: 1em; padding-right: 1em; text-align: center; vertical-align: top\">0.125</td>\n",
        "    </tr>\n",
        "    <tr>\n",
        "        <td style=\"padding-left: 1em; padding-right: 1em; text-align: center; vertical-align: top\">CAAAAGS133333D852E</td>\n",
        "        <td style=\"padding-left: 1em; padding-right: 1em; text-align: center; vertical-align: top\">Guns N' Roses</td>\n",
        "        <td style=\"padding-left: 1em; padding-right: 1em; text-align: center; vertical-align: top\">0.5</td>\n",
        "    </tr>\n",
        "    <tr>\n",
        "        <td style=\"padding-left: 1em; padding-right: 1em; text-align: center; vertical-align: top\">CAAAAGS133333D852E</td>\n",
        "        <td style=\"padding-left: 1em; padding-right: 1em; text-align: center; vertical-align: top\">Groove Coverage</td>\n",
        "        <td style=\"padding-left: 1em; padding-right: 1em; text-align: center; vertical-align: top\">0.5</td>\n",
        "    </tr>\n",
        "    <tr>\n",
        "        <td style=\"padding-left: 1em; padding-right: 1em; text-align: center; vertical-align: top\">CAAAAGS133333D852E</td>\n",
        "        <td style=\"padding-left: 1em; padding-right: 1em; text-align: center; vertical-align: top\">Rainbow</td>\n",
        "        <td style=\"padding-left: 1em; padding-right: 1em; text-align: center; vertical-align: top\">0.5</td>\n",
        "    </tr>\n",
        "    <tr>\n",
        "        <td style=\"padding-left: 1em; padding-right: 1em; text-align: center; vertical-align: top\">CAAAAGS133333D852E</td>\n",
        "        <td style=\"padding-left: 1em; padding-right: 1em; text-align: center; vertical-align: top\">Rhapsody</td>\n",
        "        <td style=\"padding-left: 1em; padding-right: 1em; text-align: center; vertical-align: top\">0.5</td>\n",
        "    </tr>\n",
        "    <tr>\n",
        "        <td style=\"padding-left: 1em; padding-right: 1em; text-align: center; vertical-align: top\">CAAAAGS133333D852E</td>\n",
        "        <td style=\"padding-left: 1em; padding-right: 1em; text-align: center; vertical-align: top\">Bruce Dickinson</td>\n",
        "        <td style=\"padding-left: 1em; padding-right: 1em; text-align: center; vertical-align: top\">0.5</td>\n",
        "    </tr>\n",
        "    <tr>\n",
        "        <td style=\"padding-left: 1em; padding-right: 1em; text-align: center; vertical-align: top\">CAAAAGS133333D852E</td>\n",
        "        <td style=\"padding-left: 1em; padding-right: 1em; text-align: center; vertical-align: top\">Bruce Springsteen</td>\n",
        "        <td style=\"padding-left: 1em; padding-right: 1em; text-align: center; vertical-align: top\">0.5</td>\n",
        "    </tr>\n",
        "    <tr>\n",
        "        <td style=\"padding-left: 1em; padding-right: 1em; text-align: center; vertical-align: top\">...</td>\n",
        "        <td style=\"padding-left: 1em; padding-right: 1em; text-align: center; vertical-align: top\">...</td>\n",
        "        <td style=\"padding-left: 1em; padding-right: 1em; text-align: center; vertical-align: top\">...</td>\n",
        "    </tr>\n",
        "</table>\n",
        "[252841 rows x 3 columns]<br/>Note: Only the head of the SFrame is printed.<br/>You can use print_rows(num_rows=m, num_columns=n) to print more rows and columns.\n",
        "</div>"
       ],
       "metadata": {},
       "output_type": "pyout",
       "prompt_number": 8,
       "text": [
        "Columns:\n",
        "\tcatalog\tstr\n",
        "\tartist_name\tstr\n",
        "\tranked_play_count\tfloat\n",
        "\n",
        "Rows: 252841\n",
        "\n",
        "Data:\n",
        "+--------------------+------------------------------+-------------------+\n",
        "|      catalog       |         artist_name          | ranked_play_count |\n",
        "+--------------------+------------------------------+-------------------+\n",
        "| CAAAAGS133333D852E |           Manowar            |       0.125       |\n",
        "| CAAAAGS133333D852E | Handsome Boy Modeling School |       0.125       |\n",
        "| CAAAAGS133333D852E |        Gloria Gaynor         |       0.125       |\n",
        "| CAAAAGS133333D852E |          Van Halen           |       0.125       |\n",
        "| CAAAAGS133333D852E |        Guns N' Roses         |        0.5        |\n",
        "| CAAAAGS133333D852E |       Groove Coverage        |        0.5        |\n",
        "| CAAAAGS133333D852E |           Rainbow            |        0.5        |\n",
        "| CAAAAGS133333D852E |           Rhapsody           |        0.5        |\n",
        "| CAAAAGS133333D852E |       Bruce Dickinson        |        0.5        |\n",
        "| CAAAAGS133333D852E |      Bruce Springsteen       |        0.5        |\n",
        "|        ...         |             ...              |        ...        |\n",
        "+--------------------+------------------------------+-------------------+\n",
        "[252841 rows x 3 columns]\n",
        "Note: Only the head of the SFrame is printed.\n",
        "You can use print_rows(num_rows=m, num_columns=n) to print more rows and columns."
       ]
      }
     ],
     "prompt_number": 8
    },
    {
     "cell_type": "code",
     "collapsed": false,
     "input": [
      "item_sim_model2 = gl.item_similarity_recommender.create(sf, user_id='catalog', \n",
      "    item_id = 'artist_name', \n",
      "    similarity_type='cosine', verbose = False) "
     ],
     "language": "python",
     "metadata": {},
     "outputs": [
      {
       "html": [
        "<pre>PROGRESS: Recsys training: model = item_similarity</pre>"
       ],
       "metadata": {},
       "output_type": "display_data",
       "text": [
        "PROGRESS: Recsys training: model = item_similarity"
       ]
      },
      {
       "html": [
        "<pre>PROGRESS: Preparing data set.</pre>"
       ],
       "metadata": {},
       "output_type": "display_data",
       "text": [
        "PROGRESS: Preparing data set."
       ]
      },
      {
       "html": [
        "<pre>PROGRESS:     Data has 252841 observations with 27389 users and 11249 items.</pre>"
       ],
       "metadata": {},
       "output_type": "display_data",
       "text": [
        "PROGRESS:     Data has 252841 observations with 27389 users and 11249 items."
       ]
      },
      {
       "html": [
        "<pre>PROGRESS:     Data prepared in: 0.558839s</pre>"
       ],
       "metadata": {},
       "output_type": "display_data",
       "text": [
        "PROGRESS:     Data prepared in: 0.558839s"
       ]
      },
      {
       "html": [
        "<pre>PROGRESS: Computing item similarity statistics:</pre>"
       ],
       "metadata": {},
       "output_type": "display_data",
       "text": [
        "PROGRESS: Computing item similarity statistics:"
       ]
      },
      {
       "html": [
        "<pre>PROGRESS: +-----------------+-----------------+</pre>"
       ],
       "metadata": {},
       "output_type": "display_data",
       "text": [
        "PROGRESS: +-----------------+-----------------+"
       ]
      },
      {
       "html": [
        "<pre>PROGRESS: | Number of users | Elapsed Time    |</pre>"
       ],
       "metadata": {},
       "output_type": "display_data",
       "text": [
        "PROGRESS: | Number of users | Elapsed Time    |"
       ]
      },
      {
       "html": [
        "<pre>PROGRESS: +-----------------+-----------------+</pre>"
       ],
       "metadata": {},
       "output_type": "display_data",
       "text": [
        "PROGRESS: +-----------------+-----------------+"
       ]
      },
      {
       "html": [
        "<pre>PROGRESS: +-----------------+-----------------+</pre>"
       ],
       "metadata": {},
       "output_type": "display_data",
       "text": [
        "PROGRESS: +-----------------+-----------------+"
       ]
      },
      {
       "html": [
        "<pre>PROGRESS: Computing most similar items for 11249 items:</pre>"
       ],
       "metadata": {},
       "output_type": "display_data",
       "text": [
        "PROGRESS: Computing most similar items for 11249 items:"
       ]
      },
      {
       "html": [
        "<pre>PROGRESS: +-----------------+-----------------+</pre>"
       ],
       "metadata": {},
       "output_type": "display_data",
       "text": [
        "PROGRESS: +-----------------+-----------------+"
       ]
      },
      {
       "html": [
        "<pre>PROGRESS: | Number of items | Elapsed Time    |</pre>"
       ],
       "metadata": {},
       "output_type": "display_data",
       "text": [
        "PROGRESS: | Number of items | Elapsed Time    |"
       ]
      },
      {
       "html": [
        "<pre>PROGRESS: +-----------------+-----------------+</pre>"
       ],
       "metadata": {},
       "output_type": "display_data",
       "text": [
        "PROGRESS: +-----------------+-----------------+"
       ]
      },
      {
       "html": [
        "<pre>PROGRESS: | 0               | 1.45324         |</pre>"
       ],
       "metadata": {},
       "output_type": "display_data",
       "text": [
        "PROGRESS: | 0               | 1.45324         |"
       ]
      },
      {
       "html": [
        "<pre>PROGRESS: | 10000           | 1.74517         |</pre>"
       ],
       "metadata": {},
       "output_type": "display_data",
       "text": [
        "PROGRESS: | 10000           | 1.74517         |"
       ]
      },
      {
       "html": [
        "<pre>PROGRESS: +-----------------+-----------------+</pre>"
       ],
       "metadata": {},
       "output_type": "display_data",
       "text": [
        "PROGRESS: +-----------------+-----------------+"
       ]
      },
      {
       "html": [
        "<pre>PROGRESS: Finished training in 3.19903s</pre>"
       ],
       "metadata": {},
       "output_type": "display_data",
       "text": [
        "PROGRESS: Finished training in 3.19903s"
       ]
      }
     ],
     "prompt_number": 14
    },
    {
     "cell_type": "code",
     "collapsed": false,
     "input": [
      "item_sim_model.recommend(gl.SArray([cat_1]))"
     ],
     "language": "python",
     "metadata": {},
     "outputs": [
      {
       "html": [
        "<div style=\"max-height:1000px;max-width:1500px;overflow:auto;\"><table frame=\"box\" rules=\"cols\">\n",
        "    <tr>\n",
        "        <th style=\"padding-left: 1em; padding-right: 1em; text-align: center\">catalog</th>\n",
        "        <th style=\"padding-left: 1em; padding-right: 1em; text-align: center\">artist_name</th>\n",
        "        <th style=\"padding-left: 1em; padding-right: 1em; text-align: center\">score</th>\n",
        "        <th style=\"padding-left: 1em; padding-right: 1em; text-align: center\">rank</th>\n",
        "    </tr>\n",
        "    <tr>\n",
        "        <td style=\"padding-left: 1em; padding-right: 1em; text-align: center; vertical-align: top\">CAAAAGS133333D852E</td>\n",
        "        <td style=\"padding-left: 1em; padding-right: 1em; text-align: center; vertical-align: top\">White Plains</td>\n",
        "        <td style=\"padding-left: 1em; padding-right: 1em; text-align: center; vertical-align: top\">1.0</td>\n",
        "        <td style=\"padding-left: 1em; padding-right: 1em; text-align: center; vertical-align: top\">1</td>\n",
        "    </tr>\n",
        "    <tr>\n",
        "        <td style=\"padding-left: 1em; padding-right: 1em; text-align: center; vertical-align: top\">CAAAAGS133333D852E</td>\n",
        "        <td style=\"padding-left: 1em; padding-right: 1em; text-align: center; vertical-align: top\">Tracey Ullman</td>\n",
        "        <td style=\"padding-left: 1em; padding-right: 1em; text-align: center; vertical-align: top\">1.0</td>\n",
        "        <td style=\"padding-left: 1em; padding-right: 1em; text-align: center; vertical-align: top\">2</td>\n",
        "    </tr>\n",
        "    <tr>\n",
        "        <td style=\"padding-left: 1em; padding-right: 1em; text-align: center; vertical-align: top\">CAAAAGS133333D852E</td>\n",
        "        <td style=\"padding-left: 1em; padding-right: 1em; text-align: center; vertical-align: top\">Cheikh N'Digel L</td>\n",
        "        <td style=\"padding-left: 1em; padding-right: 1em; text-align: center; vertical-align: top\">1.0</td>\n",
        "        <td style=\"padding-left: 1em; padding-right: 1em; text-align: center; vertical-align: top\">3</td>\n",
        "    </tr>\n",
        "    <tr>\n",
        "        <td style=\"padding-left: 1em; padding-right: 1em; text-align: center; vertical-align: top\">CAAAAGS133333D852E</td>\n",
        "        <td style=\"padding-left: 1em; padding-right: 1em; text-align: center; vertical-align: top\">A.B. Quintanilla III Y<br>Los Kumbia Kings</td>\n",
        "        <td style=\"padding-left: 1em; padding-right: 1em; text-align: center; vertical-align: top\">1.0</td>\n",
        "        <td style=\"padding-left: 1em; padding-right: 1em; text-align: center; vertical-align: top\">4</td>\n",
        "    </tr>\n",
        "    <tr>\n",
        "        <td style=\"padding-left: 1em; padding-right: 1em; text-align: center; vertical-align: top\">CAAAAGS133333D852E</td>\n",
        "        <td style=\"padding-left: 1em; padding-right: 1em; text-align: center; vertical-align: top\">La Dcada Prodigiosa</td>\n",
        "        <td style=\"padding-left: 1em; padding-right: 1em; text-align: center; vertical-align: top\">1.0</td>\n",
        "        <td style=\"padding-left: 1em; padding-right: 1em; text-align: center; vertical-align: top\">5</td>\n",
        "    </tr>\n",
        "    <tr>\n",
        "        <td style=\"padding-left: 1em; padding-right: 1em; text-align: center; vertical-align: top\">CAAAAGS133333D852E</td>\n",
        "        <td style=\"padding-left: 1em; padding-right: 1em; text-align: center; vertical-align: top\">Roots of Rebellion</td>\n",
        "        <td style=\"padding-left: 1em; padding-right: 1em; text-align: center; vertical-align: top\">1.0</td>\n",
        "        <td style=\"padding-left: 1em; padding-right: 1em; text-align: center; vertical-align: top\">6</td>\n",
        "    </tr>\n",
        "    <tr>\n",
        "        <td style=\"padding-left: 1em; padding-right: 1em; text-align: center; vertical-align: top\">CAAAAGS133333D852E</td>\n",
        "        <td style=\"padding-left: 1em; padding-right: 1em; text-align: center; vertical-align: top\">Susan Cadogan</td>\n",
        "        <td style=\"padding-left: 1em; padding-right: 1em; text-align: center; vertical-align: top\">1.0</td>\n",
        "        <td style=\"padding-left: 1em; padding-right: 1em; text-align: center; vertical-align: top\">7</td>\n",
        "    </tr>\n",
        "    <tr>\n",
        "        <td style=\"padding-left: 1em; padding-right: 1em; text-align: center; vertical-align: top\">CAAAAGS133333D852E</td>\n",
        "        <td style=\"padding-left: 1em; padding-right: 1em; text-align: center; vertical-align: top\">Nurse With Wound</td>\n",
        "        <td style=\"padding-left: 1em; padding-right: 1em; text-align: center; vertical-align: top\">1.0</td>\n",
        "        <td style=\"padding-left: 1em; padding-right: 1em; text-align: center; vertical-align: top\">8</td>\n",
        "    </tr>\n",
        "    <tr>\n",
        "        <td style=\"padding-left: 1em; padding-right: 1em; text-align: center; vertical-align: top\">CAAAAGS133333D852E</td>\n",
        "        <td style=\"padding-left: 1em; padding-right: 1em; text-align: center; vertical-align: top\">KaRRamBa</td>\n",
        "        <td style=\"padding-left: 1em; padding-right: 1em; text-align: center; vertical-align: top\">1.0</td>\n",
        "        <td style=\"padding-left: 1em; padding-right: 1em; text-align: center; vertical-align: top\">9</td>\n",
        "    </tr>\n",
        "    <tr>\n",
        "        <td style=\"padding-left: 1em; padding-right: 1em; text-align: center; vertical-align: top\">CAAAAGS133333D852E</td>\n",
        "        <td style=\"padding-left: 1em; padding-right: 1em; text-align: center; vertical-align: top\">Jimmie Spheeris</td>\n",
        "        <td style=\"padding-left: 1em; padding-right: 1em; text-align: center; vertical-align: top\">1.0</td>\n",
        "        <td style=\"padding-left: 1em; padding-right: 1em; text-align: center; vertical-align: top\">10</td>\n",
        "    </tr>\n",
        "</table>\n",
        "[10 rows x 4 columns]<br/>\n",
        "</div>"
       ],
       "metadata": {},
       "output_type": "pyout",
       "prompt_number": 15,
       "text": [
        "Columns:\n",
        "\tcatalog\tstr\n",
        "\tartist_name\tstr\n",
        "\tscore\tfloat\n",
        "\trank\tint\n",
        "\n",
        "Rows: 10\n",
        "\n",
        "Data:\n",
        "+--------------------+--------------------------------+-------+------+\n",
        "|      catalog       |          artist_name           | score | rank |\n",
        "+--------------------+--------------------------------+-------+------+\n",
        "| CAAAAGS133333D852E |          White Plains          |  1.0  |  1   |\n",
        "| CAAAAGS133333D852E |         Tracey Ullman          |  1.0  |  2   |\n",
        "| CAAAAGS133333D852E |        Cheikh N'Digel L        |  1.0  |  3   |\n",
        "| CAAAAGS133333D852E | A.B. Quintanilla III Y Los ... |  1.0  |  4   |\n",
        "| CAAAAGS133333D852E |      La Dcada Prodigiosa       |  1.0  |  5   |\n",
        "| CAAAAGS133333D852E |       Roots of Rebellion       |  1.0  |  6   |\n",
        "| CAAAAGS133333D852E |         Susan Cadogan          |  1.0  |  7   |\n",
        "| CAAAAGS133333D852E |        Nurse With Wound        |  1.0  |  8   |\n",
        "| CAAAAGS133333D852E |            KaRRamBa            |  1.0  |  9   |\n",
        "| CAAAAGS133333D852E |        Jimmie Spheeris         |  1.0  |  10  |\n",
        "+--------------------+--------------------------------+-------+------+\n",
        "[10 rows x 4 columns]\n"
       ]
      }
     ],
     "prompt_number": 15
    },
    {
     "cell_type": "code",
     "collapsed": false,
     "input": [],
     "language": "python",
     "metadata": {},
     "outputs": []
    }
   ],
   "metadata": {}
  }
 ]
}