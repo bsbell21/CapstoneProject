{
 "metadata": {
  "name": ""
 },
 "nbformat": 3,
 "nbformat_minor": 0,
 "worksheets": [
  {
   "cells": [
    {
     "cell_type": "code",
     "collapsed": false,
     "input": [
      "import spotify_functions as sf"
     ],
     "language": "python",
     "metadata": {},
     "outputs": [],
     "prompt_number": 1
    },
    {
     "cell_type": "code",
     "collapsed": false,
     "input": [
      "sf_logan = sf.SpotifyFunctions()"
     ],
     "language": "python",
     "metadata": {},
     "outputs": [],
     "prompt_number": 16
    },
    {
     "cell_type": "code",
     "collapsed": false,
     "input": [
      "sf_logan.fit('ldinla')"
     ],
     "language": "python",
     "metadata": {},
     "outputs": [
      {
       "output_type": "stream",
       "stream": "stdout",
       "text": [
        "\n",
        "\n",
        "            User authentication requires interaction with your\n",
        "            web browser. Once you enter your credentials and\n",
        "            give authorization, you will be redirected to\n",
        "            a url.  Paste that url you were directed to to\n",
        "            complete the authorization.\n",
        "\n",
        "        \n",
        "Opening https://accounts.spotify.com/authorize?scope=user-library-read&redirect_uri=https%3A%2F%2Fgithub.com%2Fbsbell21&response_type=code&client_id=530ddf60a0e840369395009076d9fde7 in your browser"
       ]
      },
      {
       "output_type": "stream",
       "stream": "stdout",
       "text": [
        "\n",
        "\n",
        "\n"
       ]
      }
     ],
     "prompt_number": "*"
    },
    {
     "cell_type": "code",
     "collapsed": false,
     "input": [
      "sf_logan.user_saved_tracks[0]"
     ],
     "language": "python",
     "metadata": {},
     "outputs": [
      {
       "metadata": {},
       "output_type": "pyout",
       "prompt_number": 11,
       "text": [
        "{u'added_at': u'2014-11-11T18:57:12Z',\n",
        " u'track': {u'album': {u'album_type': u'album',\n",
        "   u'available_markets': [u'AD',\n",
        "    u'AR',\n",
        "    u'AT',\n",
        "    u'AU',\n",
        "    u'BE',\n",
        "    u'BG',\n",
        "    u'BO',\n",
        "    u'BR',\n",
        "    u'CA',\n",
        "    u'CH',\n",
        "    u'CL',\n",
        "    u'CO',\n",
        "    u'CR',\n",
        "    u'CY',\n",
        "    u'CZ',\n",
        "    u'DE',\n",
        "    u'DK',\n",
        "    u'DO',\n",
        "    u'EC',\n",
        "    u'EE',\n",
        "    u'ES',\n",
        "    u'FI',\n",
        "    u'FR',\n",
        "    u'GB',\n",
        "    u'GR',\n",
        "    u'GT',\n",
        "    u'HK',\n",
        "    u'HN',\n",
        "    u'HU',\n",
        "    u'IE',\n",
        "    u'IS',\n",
        "    u'IT',\n",
        "    u'LI',\n",
        "    u'LT',\n",
        "    u'LU',\n",
        "    u'LV',\n",
        "    u'MC',\n",
        "    u'MT',\n",
        "    u'MX',\n",
        "    u'MY',\n",
        "    u'NI',\n",
        "    u'NL',\n",
        "    u'NO',\n",
        "    u'NZ',\n",
        "    u'PA',\n",
        "    u'PE',\n",
        "    u'PH',\n",
        "    u'PL',\n",
        "    u'PT',\n",
        "    u'PY',\n",
        "    u'RO',\n",
        "    u'SE',\n",
        "    u'SG',\n",
        "    u'SI',\n",
        "    u'SK',\n",
        "    u'SV',\n",
        "    u'TR',\n",
        "    u'TW',\n",
        "    u'US',\n",
        "    u'UY'],\n",
        "   u'external_urls': {u'spotify': u'https://open.spotify.com/album/2X6m4PcgJXsL0BbQDpPl1E'},\n",
        "   u'href': u'https://api.spotify.com/v1/albums/2X6m4PcgJXsL0BbQDpPl1E',\n",
        "   u'id': u'2X6m4PcgJXsL0BbQDpPl1E',\n",
        "   u'images': [{u'height': 640,\n",
        "     u'url': u'https://i.scdn.co/image/ab0f9e5917a3ad4dada055c05ea7f4f815fc14ca',\n",
        "     u'width': 640},\n",
        "    {u'height': 300,\n",
        "     u'url': u'https://i.scdn.co/image/152a868b75e2dcbd924c76bfd81ee1472282ee26',\n",
        "     u'width': 300},\n",
        "    {u'height': 64,\n",
        "     u'url': u'https://i.scdn.co/image/9ec253cc96733cc1c84c6214112cec94a3789547',\n",
        "     u'width': 64}],\n",
        "   u'name': u'White Noise: Natural Sleep Aid and Relaxing Sounds of White Noise for Deep Sleep',\n",
        "   u'type': u'album',\n",
        "   u'uri': u'spotify:album:2X6m4PcgJXsL0BbQDpPl1E'},\n",
        "  u'artists': [{u'external_urls': {u'spotify': u'https://open.spotify.com/artist/3isyZmZLDZ3ZFFvPHdr2eK'},\n",
        "    u'href': u'https://api.spotify.com/v1/artists/3isyZmZLDZ3ZFFvPHdr2eK',\n",
        "    u'id': u'3isyZmZLDZ3ZFFvPHdr2eK',\n",
        "    u'name': u'White Noise',\n",
        "    u'type': u'artist',\n",
        "    u'uri': u'spotify:artist:3isyZmZLDZ3ZFFvPHdr2eK'}],\n",
        "  u'available_markets': [u'AD',\n",
        "   u'AR',\n",
        "   u'AT',\n",
        "   u'AU',\n",
        "   u'BE',\n",
        "   u'BG',\n",
        "   u'BO',\n",
        "   u'BR',\n",
        "   u'CA',\n",
        "   u'CH',\n",
        "   u'CL',\n",
        "   u'CO',\n",
        "   u'CR',\n",
        "   u'CY',\n",
        "   u'CZ',\n",
        "   u'DE',\n",
        "   u'DK',\n",
        "   u'DO',\n",
        "   u'EC',\n",
        "   u'EE',\n",
        "   u'ES',\n",
        "   u'FI',\n",
        "   u'FR',\n",
        "   u'GB',\n",
        "   u'GR',\n",
        "   u'GT',\n",
        "   u'HK',\n",
        "   u'HN',\n",
        "   u'HU',\n",
        "   u'IE',\n",
        "   u'IS',\n",
        "   u'IT',\n",
        "   u'LI',\n",
        "   u'LT',\n",
        "   u'LU',\n",
        "   u'LV',\n",
        "   u'MC',\n",
        "   u'MT',\n",
        "   u'MX',\n",
        "   u'MY',\n",
        "   u'NI',\n",
        "   u'NL',\n",
        "   u'NO',\n",
        "   u'NZ',\n",
        "   u'PA',\n",
        "   u'PE',\n",
        "   u'PH',\n",
        "   u'PL',\n",
        "   u'PT',\n",
        "   u'PY',\n",
        "   u'RO',\n",
        "   u'SE',\n",
        "   u'SG',\n",
        "   u'SI',\n",
        "   u'SK',\n",
        "   u'SV',\n",
        "   u'TR',\n",
        "   u'TW',\n",
        "   u'US',\n",
        "   u'UY'],\n",
        "  u'disc_number': 1,\n",
        "  u'duration_ms': 72045,\n",
        "  u'explicit': False,\n",
        "  u'external_ids': {u'isrc': u'USA2P1426202'},\n",
        "  u'external_urls': {u'spotify': u'https://open.spotify.com/track/05xXW1hNEET6QolfhfHaSW'},\n",
        "  u'href': u'https://api.spotify.com/v1/tracks/05xXW1hNEET6QolfhfHaSW',\n",
        "  u'id': u'05xXW1hNEET6QolfhfHaSW',\n",
        "  u'name': u'White Noise Water Sounds',\n",
        "  u'popularity': 42,\n",
        "  u'preview_url': u'https://p.scdn.co/mp3-preview/c02481ff1bf54045ad76dd76f9e4e4de1d1818b3',\n",
        "  u'track_number': 16,\n",
        "  u'type': u'track',\n",
        "  u'uri': u'spotify:track:05xXW1hNEET6QolfhfHaSW'}}"
       ]
      }
     ],
     "prompt_number": 11
    },
    {
     "cell_type": "code",
     "collapsed": false,
     "input": [
      "sf_logan.token"
     ],
     "language": "python",
     "metadata": {},
     "outputs": [
      {
       "metadata": {},
       "output_type": "pyout",
       "prompt_number": 8,
       "text": [
        "u'BQCKznzFgHl_qxsG1Mjvh0mePkwkebV0ot2TF048k6Yp_Qam58gpydpRlrFTbglU3VapvrC99yUUsd1hLJofg015ReimNU-0ih48wDjIkqvEwxYjzMOPq0HfGMa1b6_VF6SxPLwQDdRfbuCUjra3-Lg'"
       ]
      }
     ],
     "prompt_number": 8
    },
    {
     "cell_type": "code",
     "collapsed": false,
     "input": [],
     "language": "python",
     "metadata": {},
     "outputs": []
    }
   ],
   "metadata": {}
  }
 ]
}