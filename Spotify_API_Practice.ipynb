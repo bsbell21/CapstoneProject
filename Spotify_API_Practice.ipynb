{
 "metadata": {
  "name": ""
 },
 "nbformat": 3,
 "nbformat_minor": 0,
 "worksheets": [
  {
   "cells": [
    {
     "cell_type": "code",
     "collapsed": false,
     "input": [
      "import spotipy as sp\n",
      "import spotipy.util as util\n",
      "token = util.prompt_for_user_token('bsbell21', client_id = '530ddf60a0e840369395009076d9fde7', client_secret = 'd1974e81df054fb2bffa895b741f96f6', redirect_uri = 'https://github.com/bsbell21')"
     ],
     "language": "python",
     "metadata": {},
     "outputs": [],
     "prompt_number": 1
    },
    {
     "cell_type": "code",
     "collapsed": false,
     "input": [
      "s = sp.Spotify(auth=token)"
     ],
     "language": "python",
     "metadata": {},
     "outputs": [],
     "prompt_number": 3
    },
    {
     "cell_type": "code",
     "collapsed": false,
     "input": [
      "liza_playlists = s.user_playlists('1299323226')"
     ],
     "language": "python",
     "metadata": {},
     "outputs": [],
     "prompt_number": 5
    },
    {
     "cell_type": "code",
     "collapsed": false,
     "input": [
      "# get playlists given a user id\n",
      "liza_playlist_ids = []\n",
      "for item in liza_playlists['items']:\n",
      "    liza_playlist_ids.append(item['id'])\n",
      "liza_playlist_ids"
     ],
     "language": "python",
     "metadata": {},
     "outputs": [
      {
       "metadata": {},
       "output_type": "pyout",
       "prompt_number": 12,
       "text": [
        "[u'46ZXNPLmjXw2CsoOl67xN5',\n",
        " u'76Mbz7BtOQAuFfEU8jM5h9',\n",
        " u'42bPT4m2trO7ExZ90mCmro',\n",
        " None,\n",
        " u'2TMRleLkZJh3l46P7saRXL',\n",
        " u'7dI8dI8CzT0KCyd5tI9YP3',\n",
        " u'6N80XhOIHwPAFnvMgG1D6S',\n",
        " u'2KBwsBpQ30YcUzniTmH96p',\n",
        " u'3obnkjFNnJhZZaGx9rxsJc',\n",
        " u'5FF2KFTiohcBvj8jscRfuA',\n",
        " u'64BjYGiCrVdngSFNsJ3L44',\n",
        " u'5VSXZ8obrVT71VKOSR2xzJ',\n",
        " u'5sdy0zlkYqiGYFjyfvBVe8',\n",
        " u'6CdNyVj0vbhCxFc5PYRBTY',\n",
        " u'3ZHHDT5bhRYESZCMTgWBGK',\n",
        " u'0PzWOXikchDt44HnLJ7UWd',\n",
        " u'6k7rVcXkiGb0ccfH1rSzpC',\n",
        " u'1KT1xhBPHZU6uFBEVVFnIb',\n",
        " u'4P0fQTzbFLr2I9X9CLCHb7',\n",
        " u'72AzzyLranGsk7RgzDXwoZ',\n",
        " u'6wasRWNgCqBDzdX6NNmKUI',\n",
        " u'5G0L9gktizO4b1bLBRC384',\n",
        " u'475YYzzUrkiA16hrzVzJuV',\n",
        " u'7Jymw7LWwyjHs52abAyGg1',\n",
        " u'6xDdYG1J86ALr1QnxTxOWu',\n",
        " u'4EmU3R5uBMHDn1njAP7xhh',\n",
        " u'2QmdkyQToqhjthLBckTMAS',\n",
        " u'1xmtOty5OQlVMwxoilwy6o',\n",
        " u'3O8yaA63i7gpLUS78vPxce',\n",
        " u'16JOXBhfqOR2YfYf0HqdEY',\n",
        " u'5VJmBneGmJlMGT7rd6exFz',\n",
        " u'6IkdqVUAlzKt1QAFbmQsTY',\n",
        " u'1kxR0tDZJ1TTqZniyvfjjb',\n",
        " u'4I2SSUXFMZnLDNTEqahdld',\n",
        " u'5o0Ehx6mydXH9DxxiwpzgJ',\n",
        " u'6RaYkw8E21f8hlCMVxxbdP',\n",
        " u'05CTmrXBTv1sUF4OpGzecf',\n",
        " u'6Dv8pS2r8v75eWU4LRHliQ',\n",
        " u'6FMi1QQCC4Cia5k0k0fmCE',\n",
        " u'6GPbTg7PFk8y8mIFg8RvjI',\n",
        " u'2rm5WSmV4XMGCCC0Ekaco9',\n",
        " u'4Zhfki3XIRK5E6ZPrgNbuz',\n",
        " u'2k27dvrgDajtRe5OnNS7he',\n",
        " u'5MRVapjIYzla4QlEeEpSrB',\n",
        " None]"
       ]
      }
     ],
     "prompt_number": 12
    },
    {
     "cell_type": "code",
     "collapsed": false,
     "input": [
      "my_tracks = s.current_user_saved_tracks()"
     ],
     "language": "python",
     "metadata": {},
     "outputs": [],
     "prompt_number": 13
    },
    {
     "cell_type": "code",
     "collapsed": false,
     "input": [
      "my_tracks.keys()"
     ],
     "language": "python",
     "metadata": {},
     "outputs": [
      {
       "metadata": {},
       "output_type": "pyout",
       "prompt_number": 14,
       "text": [
        "[u'items', u'next', u'href', u'limit', u'offset', u'total', u'previous']"
       ]
      }
     ],
     "prompt_number": 14
    },
    {
     "cell_type": "code",
     "collapsed": false,
     "input": [
      "#get when tracks added\n",
      "my_tracks['items'][0]['added_at']"
     ],
     "language": "python",
     "metadata": {},
     "outputs": [
      {
       "metadata": {},
       "output_type": "pyout",
       "prompt_number": 20,
       "text": [
        "u'2014-11-11T18:57:12Z'"
       ]
      }
     ],
     "prompt_number": 20
    },
    {
     "cell_type": "code",
     "collapsed": false,
     "input": [
      "#get track id\n",
      "my_tracks['items'][0]['track']['id']"
     ],
     "language": "python",
     "metadata": {},
     "outputs": [
      {
       "metadata": {},
       "output_type": "pyout",
       "prompt_number": 26,
       "text": [
        "u'05xXW1hNEET6QolfhfHaSW'"
       ]
      }
     ],
     "prompt_number": 26
    },
    {
     "cell_type": "code",
     "collapsed": false,
     "input": [
      "import pyen\n",
      "en = pyen.Pyen(\"IHQR7II9KIYTTAPKS\")"
     ],
     "language": "python",
     "metadata": {},
     "outputs": [],
     "prompt_number": 27
    },
    {
     "cell_type": "code",
     "collapsed": false,
     "input": [
      "en.get('song"
     ],
     "language": "python",
     "metadata": {},
     "outputs": []
    }
   ],
   "metadata": {}
  }
 ]
}